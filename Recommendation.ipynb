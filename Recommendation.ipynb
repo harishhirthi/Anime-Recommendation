{
 "cells": [
  {
   "cell_type": "markdown",
   "metadata": {},
   "source": [
    "# Anime Recommendation 🐱‍👤🐱‍🏍🤖\n",
    "\n",
    "\n",
    "<p style=\"text-align: center\"><img src=\"https://storage.googleapis.com/kaggle-datasets-images/3384322/5890423/cff45124ace014117ada5f9435b5b624/dataset-cover.jpg?t=2023-06-11-13-43-52\"></p>\n",
    "\n",
    "Recommending anime based on **Item based Content Filtering**."
   ]
  },
  {
   "cell_type": "markdown",
   "metadata": {},
   "source": [
    "### 1. Import packages and data"
   ]
  },
  {
   "cell_type": "code",
   "execution_count": 1,
   "metadata": {},
   "outputs": [],
   "source": [
    "\"\"\"Import Packages\"\"\"\n",
    "import pandas as pd\n",
    "import numpy as np\n",
    "import re\n",
    "import plotly.express as px\n",
    "import plotly.graph_objects as go \n",
    "from sklearn.feature_extraction.text import CountVectorizer, TfidfVectorizer\n",
    "from sklearn.metrics.pairwise import cosine_similarity, linear_kernel\n",
    "import pickle"
   ]
  },
  {
   "cell_type": "code",
   "execution_count": 2,
   "metadata": {},
   "outputs": [
    {
     "data": {
      "text/html": [
       "<div>\n",
       "<style scoped>\n",
       "    .dataframe tbody tr th:only-of-type {\n",
       "        vertical-align: middle;\n",
       "    }\n",
       "\n",
       "    .dataframe tbody tr th {\n",
       "        vertical-align: top;\n",
       "    }\n",
       "\n",
       "    .dataframe thead th {\n",
       "        text-align: right;\n",
       "    }\n",
       "</style>\n",
       "<table border=\"1\" class=\"dataframe\">\n",
       "  <thead>\n",
       "    <tr style=\"text-align: right;\">\n",
       "      <th></th>\n",
       "      <th>anime_id</th>\n",
       "      <th>Name</th>\n",
       "      <th>English name</th>\n",
       "      <th>Other name</th>\n",
       "      <th>Score</th>\n",
       "      <th>Genres</th>\n",
       "      <th>Synopsis</th>\n",
       "      <th>Type</th>\n",
       "      <th>Episodes</th>\n",
       "      <th>Aired</th>\n",
       "      <th>...</th>\n",
       "      <th>Studios</th>\n",
       "      <th>Source</th>\n",
       "      <th>Duration</th>\n",
       "      <th>Rating</th>\n",
       "      <th>Rank</th>\n",
       "      <th>Popularity</th>\n",
       "      <th>Favorites</th>\n",
       "      <th>Scored By</th>\n",
       "      <th>Members</th>\n",
       "      <th>Image URL</th>\n",
       "    </tr>\n",
       "  </thead>\n",
       "  <tbody>\n",
       "    <tr>\n",
       "      <th>0</th>\n",
       "      <td>1</td>\n",
       "      <td>Cowboy Bebop</td>\n",
       "      <td>Cowboy Bebop</td>\n",
       "      <td>カウボーイビバップ</td>\n",
       "      <td>8.75</td>\n",
       "      <td>Action, Award Winning, Sci-Fi</td>\n",
       "      <td>Crime is timeless. By the year 2071, humanity ...</td>\n",
       "      <td>TV</td>\n",
       "      <td>26.0</td>\n",
       "      <td>Apr 3, 1998 to Apr 24, 1999</td>\n",
       "      <td>...</td>\n",
       "      <td>Sunrise</td>\n",
       "      <td>Original</td>\n",
       "      <td>24 min per ep</td>\n",
       "      <td>R - 17+ (violence &amp; profanity)</td>\n",
       "      <td>41.0</td>\n",
       "      <td>43</td>\n",
       "      <td>78525</td>\n",
       "      <td>914193.0</td>\n",
       "      <td>1771505</td>\n",
       "      <td>https://cdn.myanimelist.net/images/anime/4/196...</td>\n",
       "    </tr>\n",
       "    <tr>\n",
       "      <th>1</th>\n",
       "      <td>5</td>\n",
       "      <td>Cowboy Bebop: Tengoku no Tobira</td>\n",
       "      <td>Cowboy Bebop: The Movie</td>\n",
       "      <td>カウボーイビバップ 天国の扉</td>\n",
       "      <td>8.38</td>\n",
       "      <td>Action, Sci-Fi</td>\n",
       "      <td>Another day, another bounty—such is the life o...</td>\n",
       "      <td>Movie</td>\n",
       "      <td>1.0</td>\n",
       "      <td>Sep 1, 2001</td>\n",
       "      <td>...</td>\n",
       "      <td>Bones</td>\n",
       "      <td>Original</td>\n",
       "      <td>1 hr 55 min</td>\n",
       "      <td>R - 17+ (violence &amp; profanity)</td>\n",
       "      <td>189.0</td>\n",
       "      <td>602</td>\n",
       "      <td>1448</td>\n",
       "      <td>206248.0</td>\n",
       "      <td>360978</td>\n",
       "      <td>https://cdn.myanimelist.net/images/anime/1439/...</td>\n",
       "    </tr>\n",
       "    <tr>\n",
       "      <th>2</th>\n",
       "      <td>6</td>\n",
       "      <td>Trigun</td>\n",
       "      <td>Trigun</td>\n",
       "      <td>トライガン</td>\n",
       "      <td>8.22</td>\n",
       "      <td>Action, Adventure, Sci-Fi</td>\n",
       "      <td>Vash the Stampede is the man with a $$60,000,0...</td>\n",
       "      <td>TV</td>\n",
       "      <td>26.0</td>\n",
       "      <td>Apr 1, 1998 to Sep 30, 1998</td>\n",
       "      <td>...</td>\n",
       "      <td>Madhouse</td>\n",
       "      <td>Manga</td>\n",
       "      <td>24 min per ep</td>\n",
       "      <td>PG-13 - Teens 13 or older</td>\n",
       "      <td>328.0</td>\n",
       "      <td>246</td>\n",
       "      <td>15035</td>\n",
       "      <td>356739.0</td>\n",
       "      <td>727252</td>\n",
       "      <td>https://cdn.myanimelist.net/images/anime/7/203...</td>\n",
       "    </tr>\n",
       "  </tbody>\n",
       "</table>\n",
       "<p>3 rows × 24 columns</p>\n",
       "</div>"
      ],
      "text/plain": [
       "   anime_id                             Name             English name  \\\n",
       "0         1                     Cowboy Bebop             Cowboy Bebop   \n",
       "1         5  Cowboy Bebop: Tengoku no Tobira  Cowboy Bebop: The Movie   \n",
       "2         6                           Trigun                   Trigun   \n",
       "\n",
       "       Other name Score                         Genres  \\\n",
       "0       カウボーイビバップ  8.75  Action, Award Winning, Sci-Fi   \n",
       "1  カウボーイビバップ 天国の扉  8.38                 Action, Sci-Fi   \n",
       "2           トライガン  8.22      Action, Adventure, Sci-Fi   \n",
       "\n",
       "                                            Synopsis   Type Episodes  \\\n",
       "0  Crime is timeless. By the year 2071, humanity ...     TV     26.0   \n",
       "1  Another day, another bounty—such is the life o...  Movie      1.0   \n",
       "2  Vash the Stampede is the man with a $$60,000,0...     TV     26.0   \n",
       "\n",
       "                         Aired  ...   Studios    Source       Duration  \\\n",
       "0  Apr 3, 1998 to Apr 24, 1999  ...   Sunrise  Original  24 min per ep   \n",
       "1                  Sep 1, 2001  ...     Bones  Original    1 hr 55 min   \n",
       "2  Apr 1, 1998 to Sep 30, 1998  ...  Madhouse     Manga  24 min per ep   \n",
       "\n",
       "                           Rating   Rank Popularity Favorites Scored By  \\\n",
       "0  R - 17+ (violence & profanity)   41.0         43     78525  914193.0   \n",
       "1  R - 17+ (violence & profanity)  189.0        602      1448  206248.0   \n",
       "2       PG-13 - Teens 13 or older  328.0        246     15035  356739.0   \n",
       "\n",
       "   Members                                          Image URL  \n",
       "0  1771505  https://cdn.myanimelist.net/images/anime/4/196...  \n",
       "1   360978  https://cdn.myanimelist.net/images/anime/1439/...  \n",
       "2   727252  https://cdn.myanimelist.net/images/anime/7/203...  \n",
       "\n",
       "[3 rows x 24 columns]"
      ]
     },
     "execution_count": 2,
     "metadata": {},
     "output_type": "execute_result"
    }
   ],
   "source": [
    "# Dataset Ref: https://www.kaggle.com/datasets/dbdmobile/myanimelist-dataset/data\n",
    "data = pd.read_csv('anime-dataset-2023.csv')\n",
    "data.head(3)"
   ]
  },
  {
   "cell_type": "code",
   "execution_count": 3,
   "metadata": {},
   "outputs": [
    {
     "name": "stdout",
     "output_type": "stream",
     "text": [
      "<class 'pandas.core.frame.DataFrame'>\n",
      "RangeIndex: 24905 entries, 0 to 24904\n",
      "Data columns (total 24 columns):\n",
      " #   Column        Non-Null Count  Dtype \n",
      "---  ------        --------------  ----- \n",
      " 0   anime_id      24905 non-null  int64 \n",
      " 1   Name          24905 non-null  object\n",
      " 2   English name  24905 non-null  object\n",
      " 3   Other name    24905 non-null  object\n",
      " 4   Score         24905 non-null  object\n",
      " 5   Genres        24905 non-null  object\n",
      " 6   Synopsis      24905 non-null  object\n",
      " 7   Type          24905 non-null  object\n",
      " 8   Episodes      24905 non-null  object\n",
      " 9   Aired         24905 non-null  object\n",
      " 10  Premiered     24905 non-null  object\n",
      " 11  Status        24905 non-null  object\n",
      " 12  Producers     24905 non-null  object\n",
      " 13  Licensors     24905 non-null  object\n",
      " 14  Studios       24905 non-null  object\n",
      " 15  Source        24905 non-null  object\n",
      " 16  Duration      24905 non-null  object\n",
      " 17  Rating        24905 non-null  object\n",
      " 18  Rank          24905 non-null  object\n",
      " 19  Popularity    24905 non-null  int64 \n",
      " 20  Favorites     24905 non-null  int64 \n",
      " 21  Scored By     24905 non-null  object\n",
      " 22  Members       24905 non-null  int64 \n",
      " 23  Image URL     24905 non-null  object\n",
      "dtypes: int64(4), object(20)\n",
      "memory usage: 4.6+ MB\n"
     ]
    }
   ],
   "source": [
    "data.info()"
   ]
  },
  {
   "cell_type": "markdown",
   "metadata": {},
   "source": [
    "    Contents of each column\n",
    "\n",
    "|*Column*|*Content*|*Column*|*Content*\n",
    "|----------|-----------|----------|-----------\n",
    "|**anime_id**| *Unique ID for each anime*.|**Licensors**| *The licensors of the anime (e.g., streaming platforms)*.|\n",
    "|**Name**| *The name of the anime in its original language*.|**Studios**| *The animation studios that worked on the anime*.|\n",
    "|**English name**| *The English name of the anime*.|**Source**| *The source material of the anime (e.g., manga, light novel, original)*.|\n",
    "|**Other name**| *Native name or title of the anime(can be in Japanese, Chinese or Korean)*.|**Duration**| *The duration of each episode*.|\n",
    "|**Score**| *The score or rating given to the anime*.|**Rating**| *The age rating of the anime*.|\n",
    "|**Genres**| *The genres of the anime, separated by commas*.|**Rank**| *The rank of the anime based on popularity or other criteria*.|\n",
    "|**Synopsis**| *A brief description or summary of the anime's plot*.|**Popularity**| *The popularity rank of the anime*.|\n",
    "|**Type**| *The type of the anime (e.g., TV series, movie, OVA, etc.)*.|**Favorites**| *The number of times the anime was marked as a favorite by users*.|\n",
    "|**Episodes**| *The number of episodes in the anime*.|**Scored By**| *The number of users who scored the anime*.|\n",
    "|**Aired**| *The dates when the anime was aired*.|**Members**| *The number of members who have added the anime to their list on the platform*.|\n",
    "|**Premiered**| *The season and year when the anime premiered*|**Image URL**| *The URL of the anime's image or poster*.|\n",
    "|**Status**| *The status of the anime (e.g., Finished Airing, Currently Airing, etc.)*.|**Producers**| *The production companies or producers of the anime*.|"
   ]
  },
  {
   "cell_type": "code",
   "execution_count": 4,
   "metadata": {},
   "outputs": [
    {
     "data": {
      "text/html": [
       "<div>\n",
       "<style scoped>\n",
       "    .dataframe tbody tr th:only-of-type {\n",
       "        vertical-align: middle;\n",
       "    }\n",
       "\n",
       "    .dataframe tbody tr th {\n",
       "        vertical-align: top;\n",
       "    }\n",
       "\n",
       "    .dataframe thead th {\n",
       "        text-align: right;\n",
       "    }\n",
       "</style>\n",
       "<table border=\"1\" class=\"dataframe\">\n",
       "  <thead>\n",
       "    <tr style=\"text-align: right;\">\n",
       "      <th></th>\n",
       "      <th>anime_id</th>\n",
       "      <th>Popularity</th>\n",
       "      <th>Favorites</th>\n",
       "      <th>Members</th>\n",
       "    </tr>\n",
       "  </thead>\n",
       "  <tbody>\n",
       "    <tr>\n",
       "      <th>count</th>\n",
       "      <td>24905.000000</td>\n",
       "      <td>24905.000000</td>\n",
       "      <td>24905.000000</td>\n",
       "      <td>2.490500e+04</td>\n",
       "    </tr>\n",
       "    <tr>\n",
       "      <th>mean</th>\n",
       "      <td>29776.709014</td>\n",
       "      <td>12265.388356</td>\n",
       "      <td>432.595222</td>\n",
       "      <td>3.710496e+04</td>\n",
       "    </tr>\n",
       "    <tr>\n",
       "      <th>std</th>\n",
       "      <td>17976.076290</td>\n",
       "      <td>7187.428393</td>\n",
       "      <td>4353.181647</td>\n",
       "      <td>1.568252e+05</td>\n",
       "    </tr>\n",
       "    <tr>\n",
       "      <th>min</th>\n",
       "      <td>1.000000</td>\n",
       "      <td>0.000000</td>\n",
       "      <td>0.000000</td>\n",
       "      <td>0.000000e+00</td>\n",
       "    </tr>\n",
       "    <tr>\n",
       "      <th>25%</th>\n",
       "      <td>10507.000000</td>\n",
       "      <td>6040.000000</td>\n",
       "      <td>0.000000</td>\n",
       "      <td>2.090000e+02</td>\n",
       "    </tr>\n",
       "    <tr>\n",
       "      <th>50%</th>\n",
       "      <td>34628.000000</td>\n",
       "      <td>12265.000000</td>\n",
       "      <td>1.000000</td>\n",
       "      <td>1.056000e+03</td>\n",
       "    </tr>\n",
       "    <tr>\n",
       "      <th>75%</th>\n",
       "      <td>45240.000000</td>\n",
       "      <td>18491.000000</td>\n",
       "      <td>18.000000</td>\n",
       "      <td>9.326000e+03</td>\n",
       "    </tr>\n",
       "    <tr>\n",
       "      <th>max</th>\n",
       "      <td>55735.000000</td>\n",
       "      <td>24723.000000</td>\n",
       "      <td>217606.000000</td>\n",
       "      <td>3.744541e+06</td>\n",
       "    </tr>\n",
       "  </tbody>\n",
       "</table>\n",
       "</div>"
      ],
      "text/plain": [
       "           anime_id    Popularity      Favorites       Members\n",
       "count  24905.000000  24905.000000   24905.000000  2.490500e+04\n",
       "mean   29776.709014  12265.388356     432.595222  3.710496e+04\n",
       "std    17976.076290   7187.428393    4353.181647  1.568252e+05\n",
       "min        1.000000      0.000000       0.000000  0.000000e+00\n",
       "25%    10507.000000   6040.000000       0.000000  2.090000e+02\n",
       "50%    34628.000000  12265.000000       1.000000  1.056000e+03\n",
       "75%    45240.000000  18491.000000      18.000000  9.326000e+03\n",
       "max    55735.000000  24723.000000  217606.000000  3.744541e+06"
      ]
     },
     "execution_count": 4,
     "metadata": {},
     "output_type": "execute_result"
    }
   ],
   "source": [
    "data.describe()"
   ]
  },
  {
   "cell_type": "code",
   "execution_count": 5,
   "metadata": {},
   "outputs": [
    {
     "data": {
      "text/plain": [
       "Genres\n",
       "UNKNOWN                                          4929\n",
       "Comedy                                           2279\n",
       "Fantasy                                          1341\n",
       "Hentai                                           1181\n",
       "Drama                                             624\n",
       "                                                 ... \n",
       "Adventure, Comedy, Drama, Romance, Sci-Fi           1\n",
       "Boys Love, Comedy, Supernatural                     1\n",
       "Fantasy, Suspense, Ecchi                            1\n",
       "Fantasy, Romance, Slice of Life, Supernatural       1\n",
       "Romance, Suspense                                   1\n",
       "Name: count, Length: 1006, dtype: int64"
      ]
     },
     "execution_count": 5,
     "metadata": {},
     "output_type": "execute_result"
    }
   ],
   "source": [
    "data['Genres'].value_counts()"
   ]
  },
  {
   "cell_type": "code",
   "execution_count": 6,
   "metadata": {},
   "outputs": [
    {
     "data": {
      "text/plain": [
       "Score\n",
       "UNKNOWN    9213\n",
       "6.31         80\n",
       "6.54         80\n",
       "6.25         79\n",
       "6.51         79\n",
       "           ... \n",
       "4.05          1\n",
       "2.9           1\n",
       "3.03          1\n",
       "3.65          1\n",
       "9.0           1\n",
       "Name: count, Length: 567, dtype: int64"
      ]
     },
     "execution_count": 6,
     "metadata": {},
     "output_type": "execute_result"
    }
   ],
   "source": [
    "data['Score'].value_counts()"
   ]
  },
  {
   "cell_type": "code",
   "execution_count": 7,
   "metadata": {},
   "outputs": [
    {
     "data": {
      "text/plain": [
       "Aired\n",
       "Not available                   915\n",
       "2012 to ?                        76\n",
       "2011 to ?                        74\n",
       "2005                             74\n",
       "2010 to ?                        72\n",
       "                               ... \n",
       "Jun 7, 2017 to May 21, 2021       1\n",
       "Jun 13, 2023                      1\n",
       "Dec 30, 2021                      1\n",
       "Jun 1, 2022                       1\n",
       "Oct 10, 2001 to Mar 23, 2005      1\n",
       "Name: count, Length: 15213, dtype: int64"
      ]
     },
     "execution_count": 7,
     "metadata": {},
     "output_type": "execute_result"
    }
   ],
   "source": [
    "data['Aired'].value_counts()"
   ]
  },
  {
   "cell_type": "code",
   "execution_count": 8,
   "metadata": {},
   "outputs": [
    {
     "data": {
      "text/plain": [
       "Rank\n",
       "UNKNOWN    4612\n",
       "0.0         187\n",
       "18804.0       4\n",
       "12591.0       4\n",
       "9618.0        4\n",
       "           ... \n",
       "14456.0       1\n",
       "14699.0       1\n",
       "805.0         1\n",
       "55.0          1\n",
       "599.0         1\n",
       "Name: count, Length: 15198, dtype: int64"
      ]
     },
     "execution_count": 8,
     "metadata": {},
     "output_type": "execute_result"
    }
   ],
   "source": [
    "data['Rank'].value_counts()"
   ]
  },
  {
   "cell_type": "code",
   "execution_count": 9,
   "metadata": {},
   "outputs": [
    {
     "name": "stdout",
     "output_type": "stream",
     "text": [
      "Mean Score:  6.3808896252867715\n"
     ]
    }
   ],
   "source": [
    "# Replacing unknown score with mean score\n",
    "scores = data[data['Score'] != 'UNKNOWN']['Score']\n",
    "scores = scores.astype('float64')\n",
    "score_mean = scores.mean()\n",
    "print(\"Mean Score: \", score_mean)"
   ]
  },
  {
   "cell_type": "code",
   "execution_count": 10,
   "metadata": {},
   "outputs": [],
   "source": [
    "data['Score'] = data['Score'].replace('UNKNOWN', score_mean).astype('float64')"
   ]
  },
  {
   "cell_type": "code",
   "execution_count": 11,
   "metadata": {},
   "outputs": [],
   "source": [
    "# Replacing unknown rank with NaN\n",
    "data['Rank'] = data['Rank'].replace('UNKNOWN', np.nan).astype('float64')"
   ]
  },
  {
   "cell_type": "code",
   "execution_count": 12,
   "metadata": {},
   "outputs": [],
   "source": [
    "# Function to extract the year, the anime aired\n",
    "def extract_year(air_col):\n",
    "    if air_col == \"Not available\":\n",
    "        return np.nan\n",
    "    years = re.findall(r'\\b(19\\d{2}|20\\d{2})\\b', air_col)\n",
    "    if len(years) == 2:\n",
    "         return (int(years[0]) + int(years[1])) // 2\n",
    "    elif len(years) == 1:\n",
    "        return int(years[0])\n",
    "    else: \n",
    "        return np.nan"
   ]
  },
  {
   "cell_type": "code",
   "execution_count": 13,
   "metadata": {},
   "outputs": [
    {
     "data": {
      "text/plain": [
       "0        1998\n",
       "1        2001\n",
       "2        1998\n",
       "3        2002\n",
       "4        2004\n",
       "         ... \n",
       "24900    2023\n",
       "24901    2023\n",
       "24902    2023\n",
       "24903    2022\n",
       "24904    2022\n",
       "Name: Aired, Length: 24905, dtype: Int64"
      ]
     },
     "execution_count": 13,
     "metadata": {},
     "output_type": "execute_result"
    }
   ],
   "source": [
    "data['Aired'] = data['Aired'].apply(extract_year).astype('Int64')\n",
    "data['Aired']"
   ]
  },
  {
   "cell_type": "markdown",
   "metadata": {},
   "source": [
    "### 2. Interactive visualization"
   ]
  },
  {
   "cell_type": "code",
   "execution_count": 14,
   "metadata": {},
   "outputs": [
    {
     "data": {
      "application/vnd.plotly.v1+json": {
       "config": {
        "plotlyServerURL": "https://plot.ly"
       },
       "data": [
        {
         "alignmentgroup": "True",
         "hovertemplate": "Type=%{x}<br>Count=%{y}<extra></extra>",
         "legendgroup": "TV",
         "marker": {
          "color": "#636efa",
          "pattern": {
           "shape": ""
          }
         },
         "name": "TV",
         "offsetgroup": "TV",
         "orientation": "v",
         "showlegend": true,
         "textposition": "auto",
         "type": "bar",
         "x": [
          "TV"
         ],
         "xaxis": "x",
         "y": [
          7597
         ],
         "yaxis": "y"
        },
        {
         "alignmentgroup": "True",
         "hovertemplate": "Type=%{x}<br>Count=%{y}<extra></extra>",
         "legendgroup": "Movie",
         "marker": {
          "color": "#EF553B",
          "pattern": {
           "shape": ""
          }
         },
         "name": "Movie",
         "offsetgroup": "Movie",
         "orientation": "v",
         "showlegend": true,
         "textposition": "auto",
         "type": "bar",
         "x": [
          "Movie"
         ],
         "xaxis": "x",
         "y": [
          4381
         ],
         "yaxis": "y"
        },
        {
         "alignmentgroup": "True",
         "hovertemplate": "Type=%{x}<br>Count=%{y}<extra></extra>",
         "legendgroup": "OVA",
         "marker": {
          "color": "#00cc96",
          "pattern": {
           "shape": ""
          }
         },
         "name": "OVA",
         "offsetgroup": "OVA",
         "orientation": "v",
         "showlegend": true,
         "textposition": "auto",
         "type": "bar",
         "x": [
          "OVA"
         ],
         "xaxis": "x",
         "y": [
          4076
         ],
         "yaxis": "y"
        },
        {
         "alignmentgroup": "True",
         "hovertemplate": "Type=%{x}<br>Count=%{y}<extra></extra>",
         "legendgroup": "ONA",
         "marker": {
          "color": "#ab63fa",
          "pattern": {
           "shape": ""
          }
         },
         "name": "ONA",
         "offsetgroup": "ONA",
         "orientation": "v",
         "showlegend": true,
         "textposition": "auto",
         "type": "bar",
         "x": [
          "ONA"
         ],
         "xaxis": "x",
         "y": [
          3533
         ],
         "yaxis": "y"
        },
        {
         "alignmentgroup": "True",
         "hovertemplate": "Type=%{x}<br>Count=%{y}<extra></extra>",
         "legendgroup": "Music",
         "marker": {
          "color": "#FFA15A",
          "pattern": {
           "shape": ""
          }
         },
         "name": "Music",
         "offsetgroup": "Music",
         "orientation": "v",
         "showlegend": true,
         "textposition": "auto",
         "type": "bar",
         "x": [
          "Music"
         ],
         "xaxis": "x",
         "y": [
          2686
         ],
         "yaxis": "y"
        },
        {
         "alignmentgroup": "True",
         "hovertemplate": "Type=%{x}<br>Count=%{y}<extra></extra>",
         "legendgroup": "Special",
         "marker": {
          "color": "#19d3f3",
          "pattern": {
           "shape": ""
          }
         },
         "name": "Special",
         "offsetgroup": "Special",
         "orientation": "v",
         "showlegend": true,
         "textposition": "auto",
         "type": "bar",
         "x": [
          "Special"
         ],
         "xaxis": "x",
         "y": [
          2558
         ],
         "yaxis": "y"
        },
        {
         "alignmentgroup": "True",
         "hovertemplate": "Type=%{x}<br>Count=%{y}<extra></extra>",
         "legendgroup": "UNKNOWN",
         "marker": {
          "color": "#FF6692",
          "pattern": {
           "shape": ""
          }
         },
         "name": "UNKNOWN",
         "offsetgroup": "UNKNOWN",
         "orientation": "v",
         "showlegend": true,
         "textposition": "auto",
         "type": "bar",
         "x": [
          "UNKNOWN"
         ],
         "xaxis": "x",
         "y": [
          74
         ],
         "yaxis": "y"
        }
       ],
       "layout": {
        "barmode": "relative",
        "legend": {
         "title": {
          "text": "Type"
         },
         "tracegroupgap": 0
        },
        "template": {
         "data": {
          "bar": [
           {
            "error_x": {
             "color": "#2a3f5f"
            },
            "error_y": {
             "color": "#2a3f5f"
            },
            "marker": {
             "line": {
              "color": "#E5ECF6",
              "width": 0.5
             },
             "pattern": {
              "fillmode": "overlay",
              "size": 10,
              "solidity": 0.2
             }
            },
            "type": "bar"
           }
          ],
          "barpolar": [
           {
            "marker": {
             "line": {
              "color": "#E5ECF6",
              "width": 0.5
             },
             "pattern": {
              "fillmode": "overlay",
              "size": 10,
              "solidity": 0.2
             }
            },
            "type": "barpolar"
           }
          ],
          "carpet": [
           {
            "aaxis": {
             "endlinecolor": "#2a3f5f",
             "gridcolor": "white",
             "linecolor": "white",
             "minorgridcolor": "white",
             "startlinecolor": "#2a3f5f"
            },
            "baxis": {
             "endlinecolor": "#2a3f5f",
             "gridcolor": "white",
             "linecolor": "white",
             "minorgridcolor": "white",
             "startlinecolor": "#2a3f5f"
            },
            "type": "carpet"
           }
          ],
          "choropleth": [
           {
            "colorbar": {
             "outlinewidth": 0,
             "ticks": ""
            },
            "type": "choropleth"
           }
          ],
          "contour": [
           {
            "colorbar": {
             "outlinewidth": 0,
             "ticks": ""
            },
            "colorscale": [
             [
              0,
              "#0d0887"
             ],
             [
              0.1111111111111111,
              "#46039f"
             ],
             [
              0.2222222222222222,
              "#7201a8"
             ],
             [
              0.3333333333333333,
              "#9c179e"
             ],
             [
              0.4444444444444444,
              "#bd3786"
             ],
             [
              0.5555555555555556,
              "#d8576b"
             ],
             [
              0.6666666666666666,
              "#ed7953"
             ],
             [
              0.7777777777777778,
              "#fb9f3a"
             ],
             [
              0.8888888888888888,
              "#fdca26"
             ],
             [
              1,
              "#f0f921"
             ]
            ],
            "type": "contour"
           }
          ],
          "contourcarpet": [
           {
            "colorbar": {
             "outlinewidth": 0,
             "ticks": ""
            },
            "type": "contourcarpet"
           }
          ],
          "heatmap": [
           {
            "colorbar": {
             "outlinewidth": 0,
             "ticks": ""
            },
            "colorscale": [
             [
              0,
              "#0d0887"
             ],
             [
              0.1111111111111111,
              "#46039f"
             ],
             [
              0.2222222222222222,
              "#7201a8"
             ],
             [
              0.3333333333333333,
              "#9c179e"
             ],
             [
              0.4444444444444444,
              "#bd3786"
             ],
             [
              0.5555555555555556,
              "#d8576b"
             ],
             [
              0.6666666666666666,
              "#ed7953"
             ],
             [
              0.7777777777777778,
              "#fb9f3a"
             ],
             [
              0.8888888888888888,
              "#fdca26"
             ],
             [
              1,
              "#f0f921"
             ]
            ],
            "type": "heatmap"
           }
          ],
          "heatmapgl": [
           {
            "colorbar": {
             "outlinewidth": 0,
             "ticks": ""
            },
            "colorscale": [
             [
              0,
              "#0d0887"
             ],
             [
              0.1111111111111111,
              "#46039f"
             ],
             [
              0.2222222222222222,
              "#7201a8"
             ],
             [
              0.3333333333333333,
              "#9c179e"
             ],
             [
              0.4444444444444444,
              "#bd3786"
             ],
             [
              0.5555555555555556,
              "#d8576b"
             ],
             [
              0.6666666666666666,
              "#ed7953"
             ],
             [
              0.7777777777777778,
              "#fb9f3a"
             ],
             [
              0.8888888888888888,
              "#fdca26"
             ],
             [
              1,
              "#f0f921"
             ]
            ],
            "type": "heatmapgl"
           }
          ],
          "histogram": [
           {
            "marker": {
             "pattern": {
              "fillmode": "overlay",
              "size": 10,
              "solidity": 0.2
             }
            },
            "type": "histogram"
           }
          ],
          "histogram2d": [
           {
            "colorbar": {
             "outlinewidth": 0,
             "ticks": ""
            },
            "colorscale": [
             [
              0,
              "#0d0887"
             ],
             [
              0.1111111111111111,
              "#46039f"
             ],
             [
              0.2222222222222222,
              "#7201a8"
             ],
             [
              0.3333333333333333,
              "#9c179e"
             ],
             [
              0.4444444444444444,
              "#bd3786"
             ],
             [
              0.5555555555555556,
              "#d8576b"
             ],
             [
              0.6666666666666666,
              "#ed7953"
             ],
             [
              0.7777777777777778,
              "#fb9f3a"
             ],
             [
              0.8888888888888888,
              "#fdca26"
             ],
             [
              1,
              "#f0f921"
             ]
            ],
            "type": "histogram2d"
           }
          ],
          "histogram2dcontour": [
           {
            "colorbar": {
             "outlinewidth": 0,
             "ticks": ""
            },
            "colorscale": [
             [
              0,
              "#0d0887"
             ],
             [
              0.1111111111111111,
              "#46039f"
             ],
             [
              0.2222222222222222,
              "#7201a8"
             ],
             [
              0.3333333333333333,
              "#9c179e"
             ],
             [
              0.4444444444444444,
              "#bd3786"
             ],
             [
              0.5555555555555556,
              "#d8576b"
             ],
             [
              0.6666666666666666,
              "#ed7953"
             ],
             [
              0.7777777777777778,
              "#fb9f3a"
             ],
             [
              0.8888888888888888,
              "#fdca26"
             ],
             [
              1,
              "#f0f921"
             ]
            ],
            "type": "histogram2dcontour"
           }
          ],
          "mesh3d": [
           {
            "colorbar": {
             "outlinewidth": 0,
             "ticks": ""
            },
            "type": "mesh3d"
           }
          ],
          "parcoords": [
           {
            "line": {
             "colorbar": {
              "outlinewidth": 0,
              "ticks": ""
             }
            },
            "type": "parcoords"
           }
          ],
          "pie": [
           {
            "automargin": true,
            "type": "pie"
           }
          ],
          "scatter": [
           {
            "fillpattern": {
             "fillmode": "overlay",
             "size": 10,
             "solidity": 0.2
            },
            "type": "scatter"
           }
          ],
          "scatter3d": [
           {
            "line": {
             "colorbar": {
              "outlinewidth": 0,
              "ticks": ""
             }
            },
            "marker": {
             "colorbar": {
              "outlinewidth": 0,
              "ticks": ""
             }
            },
            "type": "scatter3d"
           }
          ],
          "scattercarpet": [
           {
            "marker": {
             "colorbar": {
              "outlinewidth": 0,
              "ticks": ""
             }
            },
            "type": "scattercarpet"
           }
          ],
          "scattergeo": [
           {
            "marker": {
             "colorbar": {
              "outlinewidth": 0,
              "ticks": ""
             }
            },
            "type": "scattergeo"
           }
          ],
          "scattergl": [
           {
            "marker": {
             "colorbar": {
              "outlinewidth": 0,
              "ticks": ""
             }
            },
            "type": "scattergl"
           }
          ],
          "scattermapbox": [
           {
            "marker": {
             "colorbar": {
              "outlinewidth": 0,
              "ticks": ""
             }
            },
            "type": "scattermapbox"
           }
          ],
          "scatterpolar": [
           {
            "marker": {
             "colorbar": {
              "outlinewidth": 0,
              "ticks": ""
             }
            },
            "type": "scatterpolar"
           }
          ],
          "scatterpolargl": [
           {
            "marker": {
             "colorbar": {
              "outlinewidth": 0,
              "ticks": ""
             }
            },
            "type": "scatterpolargl"
           }
          ],
          "scatterternary": [
           {
            "marker": {
             "colorbar": {
              "outlinewidth": 0,
              "ticks": ""
             }
            },
            "type": "scatterternary"
           }
          ],
          "surface": [
           {
            "colorbar": {
             "outlinewidth": 0,
             "ticks": ""
            },
            "colorscale": [
             [
              0,
              "#0d0887"
             ],
             [
              0.1111111111111111,
              "#46039f"
             ],
             [
              0.2222222222222222,
              "#7201a8"
             ],
             [
              0.3333333333333333,
              "#9c179e"
             ],
             [
              0.4444444444444444,
              "#bd3786"
             ],
             [
              0.5555555555555556,
              "#d8576b"
             ],
             [
              0.6666666666666666,
              "#ed7953"
             ],
             [
              0.7777777777777778,
              "#fb9f3a"
             ],
             [
              0.8888888888888888,
              "#fdca26"
             ],
             [
              1,
              "#f0f921"
             ]
            ],
            "type": "surface"
           }
          ],
          "table": [
           {
            "cells": {
             "fill": {
              "color": "#EBF0F8"
             },
             "line": {
              "color": "white"
             }
            },
            "header": {
             "fill": {
              "color": "#C8D4E3"
             },
             "line": {
              "color": "white"
             }
            },
            "type": "table"
           }
          ]
         },
         "layout": {
          "annotationdefaults": {
           "arrowcolor": "#2a3f5f",
           "arrowhead": 0,
           "arrowwidth": 1
          },
          "autotypenumbers": "strict",
          "coloraxis": {
           "colorbar": {
            "outlinewidth": 0,
            "ticks": ""
           }
          },
          "colorscale": {
           "diverging": [
            [
             0,
             "#8e0152"
            ],
            [
             0.1,
             "#c51b7d"
            ],
            [
             0.2,
             "#de77ae"
            ],
            [
             0.3,
             "#f1b6da"
            ],
            [
             0.4,
             "#fde0ef"
            ],
            [
             0.5,
             "#f7f7f7"
            ],
            [
             0.6,
             "#e6f5d0"
            ],
            [
             0.7,
             "#b8e186"
            ],
            [
             0.8,
             "#7fbc41"
            ],
            [
             0.9,
             "#4d9221"
            ],
            [
             1,
             "#276419"
            ]
           ],
           "sequential": [
            [
             0,
             "#0d0887"
            ],
            [
             0.1111111111111111,
             "#46039f"
            ],
            [
             0.2222222222222222,
             "#7201a8"
            ],
            [
             0.3333333333333333,
             "#9c179e"
            ],
            [
             0.4444444444444444,
             "#bd3786"
            ],
            [
             0.5555555555555556,
             "#d8576b"
            ],
            [
             0.6666666666666666,
             "#ed7953"
            ],
            [
             0.7777777777777778,
             "#fb9f3a"
            ],
            [
             0.8888888888888888,
             "#fdca26"
            ],
            [
             1,
             "#f0f921"
            ]
           ],
           "sequentialminus": [
            [
             0,
             "#0d0887"
            ],
            [
             0.1111111111111111,
             "#46039f"
            ],
            [
             0.2222222222222222,
             "#7201a8"
            ],
            [
             0.3333333333333333,
             "#9c179e"
            ],
            [
             0.4444444444444444,
             "#bd3786"
            ],
            [
             0.5555555555555556,
             "#d8576b"
            ],
            [
             0.6666666666666666,
             "#ed7953"
            ],
            [
             0.7777777777777778,
             "#fb9f3a"
            ],
            [
             0.8888888888888888,
             "#fdca26"
            ],
            [
             1,
             "#f0f921"
            ]
           ]
          },
          "colorway": [
           "#636efa",
           "#EF553B",
           "#00cc96",
           "#ab63fa",
           "#FFA15A",
           "#19d3f3",
           "#FF6692",
           "#B6E880",
           "#FF97FF",
           "#FECB52"
          ],
          "font": {
           "color": "#2a3f5f"
          },
          "geo": {
           "bgcolor": "white",
           "lakecolor": "white",
           "landcolor": "#E5ECF6",
           "showlakes": true,
           "showland": true,
           "subunitcolor": "white"
          },
          "hoverlabel": {
           "align": "left"
          },
          "hovermode": "closest",
          "mapbox": {
           "style": "light"
          },
          "paper_bgcolor": "white",
          "plot_bgcolor": "#E5ECF6",
          "polar": {
           "angularaxis": {
            "gridcolor": "white",
            "linecolor": "white",
            "ticks": ""
           },
           "bgcolor": "#E5ECF6",
           "radialaxis": {
            "gridcolor": "white",
            "linecolor": "white",
            "ticks": ""
           }
          },
          "scene": {
           "xaxis": {
            "backgroundcolor": "#E5ECF6",
            "gridcolor": "white",
            "gridwidth": 2,
            "linecolor": "white",
            "showbackground": true,
            "ticks": "",
            "zerolinecolor": "white"
           },
           "yaxis": {
            "backgroundcolor": "#E5ECF6",
            "gridcolor": "white",
            "gridwidth": 2,
            "linecolor": "white",
            "showbackground": true,
            "ticks": "",
            "zerolinecolor": "white"
           },
           "zaxis": {
            "backgroundcolor": "#E5ECF6",
            "gridcolor": "white",
            "gridwidth": 2,
            "linecolor": "white",
            "showbackground": true,
            "ticks": "",
            "zerolinecolor": "white"
           }
          },
          "shapedefaults": {
           "line": {
            "color": "#2a3f5f"
           }
          },
          "ternary": {
           "aaxis": {
            "gridcolor": "white",
            "linecolor": "white",
            "ticks": ""
           },
           "baxis": {
            "gridcolor": "white",
            "linecolor": "white",
            "ticks": ""
           },
           "bgcolor": "#E5ECF6",
           "caxis": {
            "gridcolor": "white",
            "linecolor": "white",
            "ticks": ""
           }
          },
          "title": {
           "x": 0.05
          },
          "xaxis": {
           "automargin": true,
           "gridcolor": "white",
           "linecolor": "white",
           "ticks": "",
           "title": {
            "standoff": 15
           },
           "zerolinecolor": "white",
           "zerolinewidth": 2
          },
          "yaxis": {
           "automargin": true,
           "gridcolor": "white",
           "linecolor": "white",
           "ticks": "",
           "title": {
            "standoff": 15
           },
           "zerolinecolor": "white",
           "zerolinewidth": 2
          }
         }
        },
        "title": {
         "text": "Count of Anime Titles by Type"
        },
        "xaxis": {
         "anchor": "y",
         "categoryarray": [
          "TV",
          "Movie",
          "OVA",
          "ONA",
          "Music",
          "Special",
          "UNKNOWN"
         ],
         "categoryorder": "array",
         "domain": [
          0,
          1
         ],
         "title": {
          "text": "Type"
         }
        },
        "yaxis": {
         "anchor": "x",
         "domain": [
          0,
          1
         ],
         "title": {
          "text": "Count"
         }
        }
       }
      }
     },
     "metadata": {},
     "output_type": "display_data"
    }
   ],
   "source": [
    "# Count the number of anime titles by type\n",
    "type_counts = data['Type'].value_counts()\n",
    "\n",
    "# Bar chart based on type of anime\n",
    "fig = px.bar(type_counts, x = type_counts.index, y = type_counts.values, color = type_counts.index, labels = {'x': 'Anime Type', 'y': 'Count'}, \n",
    "             title='Count of Anime Titles by Type')\n",
    "\n",
    "fig.show()"
   ]
  },
  {
   "cell_type": "code",
   "execution_count": 15,
   "metadata": {},
   "outputs": [
    {
     "data": {
      "application/vnd.plotly.v1+json": {
       "config": {
        "plotlyServerURL": "https://plot.ly"
       },
       "data": [
        {
         "alignmentgroup": "True",
         "hovertemplate": "Anime Title=%{x}<br>Popularity=%{y}<extra></extra>",
         "legendgroup": "Shingeki no Kyojin",
         "marker": {
          "color": "#636efa",
          "pattern": {
           "shape": ""
          }
         },
         "name": "Shingeki no Kyojin",
         "offsetgroup": "Shingeki no Kyojin",
         "orientation": "v",
         "showlegend": true,
         "textposition": "auto",
         "type": "bar",
         "x": [
          "Shingeki no Kyojin"
         ],
         "xaxis": "x",
         "y": [
          1
         ],
         "yaxis": "y"
        },
        {
         "alignmentgroup": "True",
         "hovertemplate": "Anime Title=%{x}<br>Popularity=%{y}<extra></extra>",
         "legendgroup": "Death Note",
         "marker": {
          "color": "#EF553B",
          "pattern": {
           "shape": ""
          }
         },
         "name": "Death Note",
         "offsetgroup": "Death Note",
         "orientation": "v",
         "showlegend": true,
         "textposition": "auto",
         "type": "bar",
         "x": [
          "Death Note"
         ],
         "xaxis": "x",
         "y": [
          2
         ],
         "yaxis": "y"
        },
        {
         "alignmentgroup": "True",
         "hovertemplate": "Anime Title=%{x}<br>Popularity=%{y}<extra></extra>",
         "legendgroup": "Fullmetal Alchemist: Brotherhood",
         "marker": {
          "color": "#00cc96",
          "pattern": {
           "shape": ""
          }
         },
         "name": "Fullmetal Alchemist: Brotherhood",
         "offsetgroup": "Fullmetal Alchemist: Brotherhood",
         "orientation": "v",
         "showlegend": true,
         "textposition": "auto",
         "type": "bar",
         "x": [
          "Fullmetal Alchemist: Brotherhood"
         ],
         "xaxis": "x",
         "y": [
          3
         ],
         "yaxis": "y"
        },
        {
         "alignmentgroup": "True",
         "hovertemplate": "Anime Title=%{x}<br>Popularity=%{y}<extra></extra>",
         "legendgroup": "One Punch Man",
         "marker": {
          "color": "#ab63fa",
          "pattern": {
           "shape": ""
          }
         },
         "name": "One Punch Man",
         "offsetgroup": "One Punch Man",
         "orientation": "v",
         "showlegend": true,
         "textposition": "auto",
         "type": "bar",
         "x": [
          "One Punch Man"
         ],
         "xaxis": "x",
         "y": [
          4
         ],
         "yaxis": "y"
        },
        {
         "alignmentgroup": "True",
         "hovertemplate": "Anime Title=%{x}<br>Popularity=%{y}<extra></extra>",
         "legendgroup": "Sword Art Online",
         "marker": {
          "color": "#FFA15A",
          "pattern": {
           "shape": ""
          }
         },
         "name": "Sword Art Online",
         "offsetgroup": "Sword Art Online",
         "orientation": "v",
         "showlegend": true,
         "textposition": "auto",
         "type": "bar",
         "x": [
          "Sword Art Online"
         ],
         "xaxis": "x",
         "y": [
          5
         ],
         "yaxis": "y"
        },
        {
         "alignmentgroup": "True",
         "hovertemplate": "Anime Title=%{x}<br>Popularity=%{y}<extra></extra>",
         "legendgroup": "Boku no Hero Academia",
         "marker": {
          "color": "#19d3f3",
          "pattern": {
           "shape": ""
          }
         },
         "name": "Boku no Hero Academia",
         "offsetgroup": "Boku no Hero Academia",
         "orientation": "v",
         "showlegend": true,
         "textposition": "auto",
         "type": "bar",
         "x": [
          "Boku no Hero Academia"
         ],
         "xaxis": "x",
         "y": [
          6
         ],
         "yaxis": "y"
        },
        {
         "alignmentgroup": "True",
         "hovertemplate": "Anime Title=%{x}<br>Popularity=%{y}<extra></extra>",
         "legendgroup": "Kimetsu no Yaiba",
         "marker": {
          "color": "#FF6692",
          "pattern": {
           "shape": ""
          }
         },
         "name": "Kimetsu no Yaiba",
         "offsetgroup": "Kimetsu no Yaiba",
         "orientation": "v",
         "showlegend": true,
         "textposition": "auto",
         "type": "bar",
         "x": [
          "Kimetsu no Yaiba"
         ],
         "xaxis": "x",
         "y": [
          7
         ],
         "yaxis": "y"
        },
        {
         "alignmentgroup": "True",
         "hovertemplate": "Anime Title=%{x}<br>Popularity=%{y}<extra></extra>",
         "legendgroup": "Naruto",
         "marker": {
          "color": "#B6E880",
          "pattern": {
           "shape": ""
          }
         },
         "name": "Naruto",
         "offsetgroup": "Naruto",
         "orientation": "v",
         "showlegend": true,
         "textposition": "auto",
         "type": "bar",
         "x": [
          "Naruto"
         ],
         "xaxis": "x",
         "y": [
          8
         ],
         "yaxis": "y"
        },
        {
         "alignmentgroup": "True",
         "hovertemplate": "Anime Title=%{x}<br>Popularity=%{y}<extra></extra>",
         "legendgroup": "Tokyo Ghoul",
         "marker": {
          "color": "#FF97FF",
          "pattern": {
           "shape": ""
          }
         },
         "name": "Tokyo Ghoul",
         "offsetgroup": "Tokyo Ghoul",
         "orientation": "v",
         "showlegend": true,
         "textposition": "auto",
         "type": "bar",
         "x": [
          "Tokyo Ghoul"
         ],
         "xaxis": "x",
         "y": [
          9
         ],
         "yaxis": "y"
        },
        {
         "alignmentgroup": "True",
         "hovertemplate": "Anime Title=%{x}<br>Popularity=%{y}<extra></extra>",
         "legendgroup": "Hunter x Hunter (2011)",
         "marker": {
          "color": "#FECB52",
          "pattern": {
           "shape": ""
          }
         },
         "name": "Hunter x Hunter (2011)",
         "offsetgroup": "Hunter x Hunter (2011)",
         "orientation": "v",
         "showlegend": true,
         "textposition": "auto",
         "type": "bar",
         "x": [
          "Hunter x Hunter (2011)"
         ],
         "xaxis": "x",
         "y": [
          10
         ],
         "yaxis": "y"
        },
        {
         "alignmentgroup": "True",
         "hovertemplate": "Anime Title=%{x}<br>Popularity=%{y}<extra></extra>",
         "legendgroup": "Kimi no Na wa.",
         "marker": {
          "color": "#636efa",
          "pattern": {
           "shape": ""
          }
         },
         "name": "Kimi no Na wa.",
         "offsetgroup": "Kimi no Na wa.",
         "orientation": "v",
         "showlegend": true,
         "textposition": "auto",
         "type": "bar",
         "x": [
          "Kimi no Na wa."
         ],
         "xaxis": "x",
         "y": [
          11
         ],
         "yaxis": "y"
        },
        {
         "alignmentgroup": "True",
         "hovertemplate": "Anime Title=%{x}<br>Popularity=%{y}<extra></extra>",
         "legendgroup": "Shingeki no Kyojin Season 2",
         "marker": {
          "color": "#EF553B",
          "pattern": {
           "shape": ""
          }
         },
         "name": "Shingeki no Kyojin Season 2",
         "offsetgroup": "Shingeki no Kyojin Season 2",
         "orientation": "v",
         "showlegend": true,
         "textposition": "auto",
         "type": "bar",
         "x": [
          "Shingeki no Kyojin Season 2"
         ],
         "xaxis": "x",
         "y": [
          12
         ],
         "yaxis": "y"
        },
        {
         "alignmentgroup": "True",
         "hovertemplate": "Anime Title=%{x}<br>Popularity=%{y}<extra></extra>",
         "legendgroup": "Steins;Gate",
         "marker": {
          "color": "#00cc96",
          "pattern": {
           "shape": ""
          }
         },
         "name": "Steins;Gate",
         "offsetgroup": "Steins;Gate",
         "orientation": "v",
         "showlegend": true,
         "textposition": "auto",
         "type": "bar",
         "x": [
          "Steins;Gate"
         ],
         "xaxis": "x",
         "y": [
          13
         ],
         "yaxis": "y"
        },
        {
         "alignmentgroup": "True",
         "hovertemplate": "Anime Title=%{x}<br>Popularity=%{y}<extra></extra>",
         "legendgroup": "Boku no Hero Academia 2nd Season",
         "marker": {
          "color": "#ab63fa",
          "pattern": {
           "shape": ""
          }
         },
         "name": "Boku no Hero Academia 2nd Season",
         "offsetgroup": "Boku no Hero Academia 2nd Season",
         "orientation": "v",
         "showlegend": true,
         "textposition": "auto",
         "type": "bar",
         "x": [
          "Boku no Hero Academia 2nd Season"
         ],
         "xaxis": "x",
         "y": [
          14
         ],
         "yaxis": "y"
        },
        {
         "alignmentgroup": "True",
         "hovertemplate": "Anime Title=%{x}<br>Popularity=%{y}<extra></extra>",
         "legendgroup": "Naruto: Shippuuden",
         "marker": {
          "color": "#FFA15A",
          "pattern": {
           "shape": ""
          }
         },
         "name": "Naruto: Shippuuden",
         "offsetgroup": "Naruto: Shippuuden",
         "orientation": "v",
         "showlegend": true,
         "textposition": "auto",
         "type": "bar",
         "x": [
          "Naruto: Shippuuden"
         ],
         "xaxis": "x",
         "y": [
          15
         ],
         "yaxis": "y"
        }
       ],
       "layout": {
        "barmode": "relative",
        "legend": {
         "title": {
          "text": "Anime Title"
         },
         "tracegroupgap": 0
        },
        "template": {
         "data": {
          "bar": [
           {
            "error_x": {
             "color": "#2a3f5f"
            },
            "error_y": {
             "color": "#2a3f5f"
            },
            "marker": {
             "line": {
              "color": "#E5ECF6",
              "width": 0.5
             },
             "pattern": {
              "fillmode": "overlay",
              "size": 10,
              "solidity": 0.2
             }
            },
            "type": "bar"
           }
          ],
          "barpolar": [
           {
            "marker": {
             "line": {
              "color": "#E5ECF6",
              "width": 0.5
             },
             "pattern": {
              "fillmode": "overlay",
              "size": 10,
              "solidity": 0.2
             }
            },
            "type": "barpolar"
           }
          ],
          "carpet": [
           {
            "aaxis": {
             "endlinecolor": "#2a3f5f",
             "gridcolor": "white",
             "linecolor": "white",
             "minorgridcolor": "white",
             "startlinecolor": "#2a3f5f"
            },
            "baxis": {
             "endlinecolor": "#2a3f5f",
             "gridcolor": "white",
             "linecolor": "white",
             "minorgridcolor": "white",
             "startlinecolor": "#2a3f5f"
            },
            "type": "carpet"
           }
          ],
          "choropleth": [
           {
            "colorbar": {
             "outlinewidth": 0,
             "ticks": ""
            },
            "type": "choropleth"
           }
          ],
          "contour": [
           {
            "colorbar": {
             "outlinewidth": 0,
             "ticks": ""
            },
            "colorscale": [
             [
              0,
              "#0d0887"
             ],
             [
              0.1111111111111111,
              "#46039f"
             ],
             [
              0.2222222222222222,
              "#7201a8"
             ],
             [
              0.3333333333333333,
              "#9c179e"
             ],
             [
              0.4444444444444444,
              "#bd3786"
             ],
             [
              0.5555555555555556,
              "#d8576b"
             ],
             [
              0.6666666666666666,
              "#ed7953"
             ],
             [
              0.7777777777777778,
              "#fb9f3a"
             ],
             [
              0.8888888888888888,
              "#fdca26"
             ],
             [
              1,
              "#f0f921"
             ]
            ],
            "type": "contour"
           }
          ],
          "contourcarpet": [
           {
            "colorbar": {
             "outlinewidth": 0,
             "ticks": ""
            },
            "type": "contourcarpet"
           }
          ],
          "heatmap": [
           {
            "colorbar": {
             "outlinewidth": 0,
             "ticks": ""
            },
            "colorscale": [
             [
              0,
              "#0d0887"
             ],
             [
              0.1111111111111111,
              "#46039f"
             ],
             [
              0.2222222222222222,
              "#7201a8"
             ],
             [
              0.3333333333333333,
              "#9c179e"
             ],
             [
              0.4444444444444444,
              "#bd3786"
             ],
             [
              0.5555555555555556,
              "#d8576b"
             ],
             [
              0.6666666666666666,
              "#ed7953"
             ],
             [
              0.7777777777777778,
              "#fb9f3a"
             ],
             [
              0.8888888888888888,
              "#fdca26"
             ],
             [
              1,
              "#f0f921"
             ]
            ],
            "type": "heatmap"
           }
          ],
          "heatmapgl": [
           {
            "colorbar": {
             "outlinewidth": 0,
             "ticks": ""
            },
            "colorscale": [
             [
              0,
              "#0d0887"
             ],
             [
              0.1111111111111111,
              "#46039f"
             ],
             [
              0.2222222222222222,
              "#7201a8"
             ],
             [
              0.3333333333333333,
              "#9c179e"
             ],
             [
              0.4444444444444444,
              "#bd3786"
             ],
             [
              0.5555555555555556,
              "#d8576b"
             ],
             [
              0.6666666666666666,
              "#ed7953"
             ],
             [
              0.7777777777777778,
              "#fb9f3a"
             ],
             [
              0.8888888888888888,
              "#fdca26"
             ],
             [
              1,
              "#f0f921"
             ]
            ],
            "type": "heatmapgl"
           }
          ],
          "histogram": [
           {
            "marker": {
             "pattern": {
              "fillmode": "overlay",
              "size": 10,
              "solidity": 0.2
             }
            },
            "type": "histogram"
           }
          ],
          "histogram2d": [
           {
            "colorbar": {
             "outlinewidth": 0,
             "ticks": ""
            },
            "colorscale": [
             [
              0,
              "#0d0887"
             ],
             [
              0.1111111111111111,
              "#46039f"
             ],
             [
              0.2222222222222222,
              "#7201a8"
             ],
             [
              0.3333333333333333,
              "#9c179e"
             ],
             [
              0.4444444444444444,
              "#bd3786"
             ],
             [
              0.5555555555555556,
              "#d8576b"
             ],
             [
              0.6666666666666666,
              "#ed7953"
             ],
             [
              0.7777777777777778,
              "#fb9f3a"
             ],
             [
              0.8888888888888888,
              "#fdca26"
             ],
             [
              1,
              "#f0f921"
             ]
            ],
            "type": "histogram2d"
           }
          ],
          "histogram2dcontour": [
           {
            "colorbar": {
             "outlinewidth": 0,
             "ticks": ""
            },
            "colorscale": [
             [
              0,
              "#0d0887"
             ],
             [
              0.1111111111111111,
              "#46039f"
             ],
             [
              0.2222222222222222,
              "#7201a8"
             ],
             [
              0.3333333333333333,
              "#9c179e"
             ],
             [
              0.4444444444444444,
              "#bd3786"
             ],
             [
              0.5555555555555556,
              "#d8576b"
             ],
             [
              0.6666666666666666,
              "#ed7953"
             ],
             [
              0.7777777777777778,
              "#fb9f3a"
             ],
             [
              0.8888888888888888,
              "#fdca26"
             ],
             [
              1,
              "#f0f921"
             ]
            ],
            "type": "histogram2dcontour"
           }
          ],
          "mesh3d": [
           {
            "colorbar": {
             "outlinewidth": 0,
             "ticks": ""
            },
            "type": "mesh3d"
           }
          ],
          "parcoords": [
           {
            "line": {
             "colorbar": {
              "outlinewidth": 0,
              "ticks": ""
             }
            },
            "type": "parcoords"
           }
          ],
          "pie": [
           {
            "automargin": true,
            "type": "pie"
           }
          ],
          "scatter": [
           {
            "fillpattern": {
             "fillmode": "overlay",
             "size": 10,
             "solidity": 0.2
            },
            "type": "scatter"
           }
          ],
          "scatter3d": [
           {
            "line": {
             "colorbar": {
              "outlinewidth": 0,
              "ticks": ""
             }
            },
            "marker": {
             "colorbar": {
              "outlinewidth": 0,
              "ticks": ""
             }
            },
            "type": "scatter3d"
           }
          ],
          "scattercarpet": [
           {
            "marker": {
             "colorbar": {
              "outlinewidth": 0,
              "ticks": ""
             }
            },
            "type": "scattercarpet"
           }
          ],
          "scattergeo": [
           {
            "marker": {
             "colorbar": {
              "outlinewidth": 0,
              "ticks": ""
             }
            },
            "type": "scattergeo"
           }
          ],
          "scattergl": [
           {
            "marker": {
             "colorbar": {
              "outlinewidth": 0,
              "ticks": ""
             }
            },
            "type": "scattergl"
           }
          ],
          "scattermapbox": [
           {
            "marker": {
             "colorbar": {
              "outlinewidth": 0,
              "ticks": ""
             }
            },
            "type": "scattermapbox"
           }
          ],
          "scatterpolar": [
           {
            "marker": {
             "colorbar": {
              "outlinewidth": 0,
              "ticks": ""
             }
            },
            "type": "scatterpolar"
           }
          ],
          "scatterpolargl": [
           {
            "marker": {
             "colorbar": {
              "outlinewidth": 0,
              "ticks": ""
             }
            },
            "type": "scatterpolargl"
           }
          ],
          "scatterternary": [
           {
            "marker": {
             "colorbar": {
              "outlinewidth": 0,
              "ticks": ""
             }
            },
            "type": "scatterternary"
           }
          ],
          "surface": [
           {
            "colorbar": {
             "outlinewidth": 0,
             "ticks": ""
            },
            "colorscale": [
             [
              0,
              "#0d0887"
             ],
             [
              0.1111111111111111,
              "#46039f"
             ],
             [
              0.2222222222222222,
              "#7201a8"
             ],
             [
              0.3333333333333333,
              "#9c179e"
             ],
             [
              0.4444444444444444,
              "#bd3786"
             ],
             [
              0.5555555555555556,
              "#d8576b"
             ],
             [
              0.6666666666666666,
              "#ed7953"
             ],
             [
              0.7777777777777778,
              "#fb9f3a"
             ],
             [
              0.8888888888888888,
              "#fdca26"
             ],
             [
              1,
              "#f0f921"
             ]
            ],
            "type": "surface"
           }
          ],
          "table": [
           {
            "cells": {
             "fill": {
              "color": "#EBF0F8"
             },
             "line": {
              "color": "white"
             }
            },
            "header": {
             "fill": {
              "color": "#C8D4E3"
             },
             "line": {
              "color": "white"
             }
            },
            "type": "table"
           }
          ]
         },
         "layout": {
          "annotationdefaults": {
           "arrowcolor": "#2a3f5f",
           "arrowhead": 0,
           "arrowwidth": 1
          },
          "autotypenumbers": "strict",
          "coloraxis": {
           "colorbar": {
            "outlinewidth": 0,
            "ticks": ""
           }
          },
          "colorscale": {
           "diverging": [
            [
             0,
             "#8e0152"
            ],
            [
             0.1,
             "#c51b7d"
            ],
            [
             0.2,
             "#de77ae"
            ],
            [
             0.3,
             "#f1b6da"
            ],
            [
             0.4,
             "#fde0ef"
            ],
            [
             0.5,
             "#f7f7f7"
            ],
            [
             0.6,
             "#e6f5d0"
            ],
            [
             0.7,
             "#b8e186"
            ],
            [
             0.8,
             "#7fbc41"
            ],
            [
             0.9,
             "#4d9221"
            ],
            [
             1,
             "#276419"
            ]
           ],
           "sequential": [
            [
             0,
             "#0d0887"
            ],
            [
             0.1111111111111111,
             "#46039f"
            ],
            [
             0.2222222222222222,
             "#7201a8"
            ],
            [
             0.3333333333333333,
             "#9c179e"
            ],
            [
             0.4444444444444444,
             "#bd3786"
            ],
            [
             0.5555555555555556,
             "#d8576b"
            ],
            [
             0.6666666666666666,
             "#ed7953"
            ],
            [
             0.7777777777777778,
             "#fb9f3a"
            ],
            [
             0.8888888888888888,
             "#fdca26"
            ],
            [
             1,
             "#f0f921"
            ]
           ],
           "sequentialminus": [
            [
             0,
             "#0d0887"
            ],
            [
             0.1111111111111111,
             "#46039f"
            ],
            [
             0.2222222222222222,
             "#7201a8"
            ],
            [
             0.3333333333333333,
             "#9c179e"
            ],
            [
             0.4444444444444444,
             "#bd3786"
            ],
            [
             0.5555555555555556,
             "#d8576b"
            ],
            [
             0.6666666666666666,
             "#ed7953"
            ],
            [
             0.7777777777777778,
             "#fb9f3a"
            ],
            [
             0.8888888888888888,
             "#fdca26"
            ],
            [
             1,
             "#f0f921"
            ]
           ]
          },
          "colorway": [
           "#636efa",
           "#EF553B",
           "#00cc96",
           "#ab63fa",
           "#FFA15A",
           "#19d3f3",
           "#FF6692",
           "#B6E880",
           "#FF97FF",
           "#FECB52"
          ],
          "font": {
           "color": "#2a3f5f"
          },
          "geo": {
           "bgcolor": "white",
           "lakecolor": "white",
           "landcolor": "#E5ECF6",
           "showlakes": true,
           "showland": true,
           "subunitcolor": "white"
          },
          "hoverlabel": {
           "align": "left"
          },
          "hovermode": "closest",
          "mapbox": {
           "style": "light"
          },
          "paper_bgcolor": "white",
          "plot_bgcolor": "#E5ECF6",
          "polar": {
           "angularaxis": {
            "gridcolor": "white",
            "linecolor": "white",
            "ticks": ""
           },
           "bgcolor": "#E5ECF6",
           "radialaxis": {
            "gridcolor": "white",
            "linecolor": "white",
            "ticks": ""
           }
          },
          "scene": {
           "xaxis": {
            "backgroundcolor": "#E5ECF6",
            "gridcolor": "white",
            "gridwidth": 2,
            "linecolor": "white",
            "showbackground": true,
            "ticks": "",
            "zerolinecolor": "white"
           },
           "yaxis": {
            "backgroundcolor": "#E5ECF6",
            "gridcolor": "white",
            "gridwidth": 2,
            "linecolor": "white",
            "showbackground": true,
            "ticks": "",
            "zerolinecolor": "white"
           },
           "zaxis": {
            "backgroundcolor": "#E5ECF6",
            "gridcolor": "white",
            "gridwidth": 2,
            "linecolor": "white",
            "showbackground": true,
            "ticks": "",
            "zerolinecolor": "white"
           }
          },
          "shapedefaults": {
           "line": {
            "color": "#2a3f5f"
           }
          },
          "ternary": {
           "aaxis": {
            "gridcolor": "white",
            "linecolor": "white",
            "ticks": ""
           },
           "baxis": {
            "gridcolor": "white",
            "linecolor": "white",
            "ticks": ""
           },
           "bgcolor": "#E5ECF6",
           "caxis": {
            "gridcolor": "white",
            "linecolor": "white",
            "ticks": ""
           }
          },
          "title": {
           "x": 0.05
          },
          "xaxis": {
           "automargin": true,
           "gridcolor": "white",
           "linecolor": "white",
           "ticks": "",
           "title": {
            "standoff": 15
           },
           "zerolinecolor": "white",
           "zerolinewidth": 2
          },
          "yaxis": {
           "automargin": true,
           "gridcolor": "white",
           "linecolor": "white",
           "ticks": "",
           "title": {
            "standoff": 15
           },
           "zerolinecolor": "white",
           "zerolinewidth": 2
          }
         }
        },
        "title": {
         "text": "Top 15 Most Popular Animes"
        },
        "xaxis": {
         "anchor": "y",
         "categoryarray": [
          "Shingeki no Kyojin",
          "Death Note",
          "Fullmetal Alchemist: Brotherhood",
          "One Punch Man",
          "Sword Art Online",
          "Boku no Hero Academia",
          "Kimetsu no Yaiba",
          "Naruto",
          "Tokyo Ghoul",
          "Hunter x Hunter (2011)",
          "Kimi no Na wa.",
          "Shingeki no Kyojin Season 2",
          "Steins;Gate",
          "Boku no Hero Academia 2nd Season",
          "Naruto: Shippuuden"
         ],
         "categoryorder": "array",
         "domain": [
          0,
          1
         ],
         "title": {
          "text": "Anime Title"
         }
        },
        "yaxis": {
         "anchor": "x",
         "domain": [
          0,
          1
         ],
         "title": {
          "text": "Popularity"
         }
        }
       }
      }
     },
     "metadata": {},
     "output_type": "display_data"
    }
   ],
   "source": [
    "# Filter out anime titles with popularity value 0\n",
    "df_valid_popularity = data[data['Popularity'] > 0]\n",
    "\n",
    "# Sort the dataframe by popularity and select the top 15\n",
    "top_10_popular = df_valid_popularity.sort_values(by = 'Popularity', ascending = True).head(15)\n",
    "\n",
    "# Bar chart of top 15 anime based on popularity\n",
    "fig = px.bar(top_10_popular, x = 'Name', y = 'Popularity',\n",
    "             labels = {'Name': 'Anime Title', 'Popularity': 'Popularity'},\n",
    "             title = 'Top 15 Most Popular Animes',\n",
    "             color = 'Name')\n",
    "# Note:- Less the popularity no. is more popular is the anime. (Popularity indicates rank of the anime.)\n",
    "fig.show()"
   ]
  },
  {
   "cell_type": "code",
   "execution_count": 16,
   "metadata": {},
   "outputs": [
    {
     "data": {
      "application/vnd.plotly.v1+json": {
       "config": {
        "plotlyServerURL": "https://plot.ly"
       },
       "data": [
        {
         "alignmentgroup": "True",
         "hovertemplate": "Anime Title=%{x}<br>Number of Users=%{y}<extra></extra>",
         "legendgroup": "Shingeki no Kyojin",
         "marker": {
          "color": "#636efa",
          "pattern": {
           "shape": ""
          }
         },
         "name": "Shingeki no Kyojin",
         "offsetgroup": "Shingeki no Kyojin",
         "orientation": "v",
         "showlegend": true,
         "textposition": "auto",
         "type": "bar",
         "x": [
          "Shingeki no Kyojin"
         ],
         "xaxis": "x",
         "y": [
          3744541
         ],
         "yaxis": "y"
        },
        {
         "alignmentgroup": "True",
         "hovertemplate": "Anime Title=%{x}<br>Number of Users=%{y}<extra></extra>",
         "legendgroup": "Death Note",
         "marker": {
          "color": "#EF553B",
          "pattern": {
           "shape": ""
          }
         },
         "name": "Death Note",
         "offsetgroup": "Death Note",
         "orientation": "v",
         "showlegend": true,
         "textposition": "auto",
         "type": "bar",
         "x": [
          "Death Note"
         ],
         "xaxis": "x",
         "y": [
          3713315
         ],
         "yaxis": "y"
        },
        {
         "alignmentgroup": "True",
         "hovertemplate": "Anime Title=%{x}<br>Number of Users=%{y}<extra></extra>",
         "legendgroup": "Fullmetal Alchemist: Brotherhood",
         "marker": {
          "color": "#00cc96",
          "pattern": {
           "shape": ""
          }
         },
         "name": "Fullmetal Alchemist: Brotherhood",
         "offsetgroup": "Fullmetal Alchemist: Brotherhood",
         "orientation": "v",
         "showlegend": true,
         "textposition": "auto",
         "type": "bar",
         "x": [
          "Fullmetal Alchemist: Brotherhood"
         ],
         "xaxis": "x",
         "y": [
          3176556
         ],
         "yaxis": "y"
        },
        {
         "alignmentgroup": "True",
         "hovertemplate": "Anime Title=%{x}<br>Number of Users=%{y}<extra></extra>",
         "legendgroup": "One Punch Man",
         "marker": {
          "color": "#ab63fa",
          "pattern": {
           "shape": ""
          }
         },
         "name": "One Punch Man",
         "offsetgroup": "One Punch Man",
         "orientation": "v",
         "showlegend": true,
         "textposition": "auto",
         "type": "bar",
         "x": [
          "One Punch Man"
         ],
         "xaxis": "x",
         "y": [
          3058666
         ],
         "yaxis": "y"
        },
        {
         "alignmentgroup": "True",
         "hovertemplate": "Anime Title=%{x}<br>Number of Users=%{y}<extra></extra>",
         "legendgroup": "Sword Art Online",
         "marker": {
          "color": "#FFA15A",
          "pattern": {
           "shape": ""
          }
         },
         "name": "Sword Art Online",
         "offsetgroup": "Sword Art Online",
         "orientation": "v",
         "showlegend": true,
         "textposition": "auto",
         "type": "bar",
         "x": [
          "Sword Art Online"
         ],
         "xaxis": "x",
         "y": [
          2951821
         ],
         "yaxis": "y"
        },
        {
         "alignmentgroup": "True",
         "hovertemplate": "Anime Title=%{x}<br>Number of Users=%{y}<extra></extra>",
         "legendgroup": "Boku no Hero Academia",
         "marker": {
          "color": "#19d3f3",
          "pattern": {
           "shape": ""
          }
         },
         "name": "Boku no Hero Academia",
         "offsetgroup": "Boku no Hero Academia",
         "orientation": "v",
         "showlegend": true,
         "textposition": "auto",
         "type": "bar",
         "x": [
          "Boku no Hero Academia"
         ],
         "xaxis": "x",
         "y": [
          2882333
         ],
         "yaxis": "y"
        },
        {
         "alignmentgroup": "True",
         "hovertemplate": "Anime Title=%{x}<br>Number of Users=%{y}<extra></extra>",
         "legendgroup": "Kimetsu no Yaiba",
         "marker": {
          "color": "#FF6692",
          "pattern": {
           "shape": ""
          }
         },
         "name": "Kimetsu no Yaiba",
         "offsetgroup": "Kimetsu no Yaiba",
         "orientation": "v",
         "showlegend": true,
         "textposition": "auto",
         "type": "bar",
         "x": [
          "Kimetsu no Yaiba"
         ],
         "xaxis": "x",
         "y": [
          2808712
         ],
         "yaxis": "y"
        },
        {
         "alignmentgroup": "True",
         "hovertemplate": "Anime Title=%{x}<br>Number of Users=%{y}<extra></extra>",
         "legendgroup": "Naruto",
         "marker": {
          "color": "#B6E880",
          "pattern": {
           "shape": ""
          }
         },
         "name": "Naruto",
         "offsetgroup": "Naruto",
         "orientation": "v",
         "showlegend": true,
         "textposition": "auto",
         "type": "bar",
         "x": [
          "Naruto"
         ],
         "xaxis": "x",
         "y": [
          2717330
         ],
         "yaxis": "y"
        },
        {
         "alignmentgroup": "True",
         "hovertemplate": "Anime Title=%{x}<br>Number of Users=%{y}<extra></extra>",
         "legendgroup": "Tokyo Ghoul",
         "marker": {
          "color": "#FF97FF",
          "pattern": {
           "shape": ""
          }
         },
         "name": "Tokyo Ghoul",
         "offsetgroup": "Tokyo Ghoul",
         "orientation": "v",
         "showlegend": true,
         "textposition": "auto",
         "type": "bar",
         "x": [
          "Tokyo Ghoul"
         ],
         "xaxis": "x",
         "y": [
          2699241
         ],
         "yaxis": "y"
        },
        {
         "alignmentgroup": "True",
         "hovertemplate": "Anime Title=%{x}<br>Number of Users=%{y}<extra></extra>",
         "legendgroup": "Hunter x Hunter (2011)",
         "marker": {
          "color": "#FECB52",
          "pattern": {
           "shape": ""
          }
         },
         "name": "Hunter x Hunter (2011)",
         "offsetgroup": "Hunter x Hunter (2011)",
         "orientation": "v",
         "showlegend": true,
         "textposition": "auto",
         "type": "bar",
         "x": [
          "Hunter x Hunter (2011)"
         ],
         "xaxis": "x",
         "y": [
          2656870
         ],
         "yaxis": "y"
        },
        {
         "alignmentgroup": "True",
         "hovertemplate": "Anime Title=%{x}<br>Number of Users=%{y}<extra></extra>",
         "legendgroup": "Kimi no Na wa.",
         "marker": {
          "color": "#636efa",
          "pattern": {
           "shape": ""
          }
         },
         "name": "Kimi no Na wa.",
         "offsetgroup": "Kimi no Na wa.",
         "orientation": "v",
         "showlegend": true,
         "textposition": "auto",
         "type": "bar",
         "x": [
          "Kimi no Na wa."
         ],
         "xaxis": "x",
         "y": [
          2597495
         ],
         "yaxis": "y"
        },
        {
         "alignmentgroup": "True",
         "hovertemplate": "Anime Title=%{x}<br>Number of Users=%{y}<extra></extra>",
         "legendgroup": "Shingeki no Kyojin Season 2",
         "marker": {
          "color": "#EF553B",
          "pattern": {
           "shape": ""
          }
         },
         "name": "Shingeki no Kyojin Season 2",
         "offsetgroup": "Shingeki no Kyojin Season 2",
         "orientation": "v",
         "showlegend": true,
         "textposition": "auto",
         "type": "bar",
         "x": [
          "Shingeki no Kyojin Season 2"
         ],
         "xaxis": "x",
         "y": [
          2566796
         ],
         "yaxis": "y"
        },
        {
         "alignmentgroup": "True",
         "hovertemplate": "Anime Title=%{x}<br>Number of Users=%{y}<extra></extra>",
         "legendgroup": "Steins;Gate",
         "marker": {
          "color": "#00cc96",
          "pattern": {
           "shape": ""
          }
         },
         "name": "Steins;Gate",
         "offsetgroup": "Steins;Gate",
         "orientation": "v",
         "showlegend": true,
         "textposition": "auto",
         "type": "bar",
         "x": [
          "Steins;Gate"
         ],
         "xaxis": "x",
         "y": [
          2440369
         ],
         "yaxis": "y"
        },
        {
         "alignmentgroup": "True",
         "hovertemplate": "Anime Title=%{x}<br>Number of Users=%{y}<extra></extra>",
         "legendgroup": "Boku no Hero Academia 2nd Season",
         "marker": {
          "color": "#ab63fa",
          "pattern": {
           "shape": ""
          }
         },
         "name": "Boku no Hero Academia 2nd Season",
         "offsetgroup": "Boku no Hero Academia 2nd Season",
         "orientation": "v",
         "showlegend": true,
         "textposition": "auto",
         "type": "bar",
         "x": [
          "Boku no Hero Academia 2nd Season"
         ],
         "xaxis": "x",
         "y": [
          2410638
         ],
         "yaxis": "y"
        },
        {
         "alignmentgroup": "True",
         "hovertemplate": "Anime Title=%{x}<br>Number of Users=%{y}<extra></extra>",
         "legendgroup": "Naruto: Shippuuden",
         "marker": {
          "color": "#FFA15A",
          "pattern": {
           "shape": ""
          }
         },
         "name": "Naruto: Shippuuden",
         "offsetgroup": "Naruto: Shippuuden",
         "orientation": "v",
         "showlegend": true,
         "textposition": "auto",
         "type": "bar",
         "x": [
          "Naruto: Shippuuden"
         ],
         "xaxis": "x",
         "y": [
          2349413
         ],
         "yaxis": "y"
        }
       ],
       "layout": {
        "barmode": "relative",
        "legend": {
         "title": {
          "text": "Anime Title"
         },
         "tracegroupgap": 0
        },
        "template": {
         "data": {
          "bar": [
           {
            "error_x": {
             "color": "#2a3f5f"
            },
            "error_y": {
             "color": "#2a3f5f"
            },
            "marker": {
             "line": {
              "color": "#E5ECF6",
              "width": 0.5
             },
             "pattern": {
              "fillmode": "overlay",
              "size": 10,
              "solidity": 0.2
             }
            },
            "type": "bar"
           }
          ],
          "barpolar": [
           {
            "marker": {
             "line": {
              "color": "#E5ECF6",
              "width": 0.5
             },
             "pattern": {
              "fillmode": "overlay",
              "size": 10,
              "solidity": 0.2
             }
            },
            "type": "barpolar"
           }
          ],
          "carpet": [
           {
            "aaxis": {
             "endlinecolor": "#2a3f5f",
             "gridcolor": "white",
             "linecolor": "white",
             "minorgridcolor": "white",
             "startlinecolor": "#2a3f5f"
            },
            "baxis": {
             "endlinecolor": "#2a3f5f",
             "gridcolor": "white",
             "linecolor": "white",
             "minorgridcolor": "white",
             "startlinecolor": "#2a3f5f"
            },
            "type": "carpet"
           }
          ],
          "choropleth": [
           {
            "colorbar": {
             "outlinewidth": 0,
             "ticks": ""
            },
            "type": "choropleth"
           }
          ],
          "contour": [
           {
            "colorbar": {
             "outlinewidth": 0,
             "ticks": ""
            },
            "colorscale": [
             [
              0,
              "#0d0887"
             ],
             [
              0.1111111111111111,
              "#46039f"
             ],
             [
              0.2222222222222222,
              "#7201a8"
             ],
             [
              0.3333333333333333,
              "#9c179e"
             ],
             [
              0.4444444444444444,
              "#bd3786"
             ],
             [
              0.5555555555555556,
              "#d8576b"
             ],
             [
              0.6666666666666666,
              "#ed7953"
             ],
             [
              0.7777777777777778,
              "#fb9f3a"
             ],
             [
              0.8888888888888888,
              "#fdca26"
             ],
             [
              1,
              "#f0f921"
             ]
            ],
            "type": "contour"
           }
          ],
          "contourcarpet": [
           {
            "colorbar": {
             "outlinewidth": 0,
             "ticks": ""
            },
            "type": "contourcarpet"
           }
          ],
          "heatmap": [
           {
            "colorbar": {
             "outlinewidth": 0,
             "ticks": ""
            },
            "colorscale": [
             [
              0,
              "#0d0887"
             ],
             [
              0.1111111111111111,
              "#46039f"
             ],
             [
              0.2222222222222222,
              "#7201a8"
             ],
             [
              0.3333333333333333,
              "#9c179e"
             ],
             [
              0.4444444444444444,
              "#bd3786"
             ],
             [
              0.5555555555555556,
              "#d8576b"
             ],
             [
              0.6666666666666666,
              "#ed7953"
             ],
             [
              0.7777777777777778,
              "#fb9f3a"
             ],
             [
              0.8888888888888888,
              "#fdca26"
             ],
             [
              1,
              "#f0f921"
             ]
            ],
            "type": "heatmap"
           }
          ],
          "heatmapgl": [
           {
            "colorbar": {
             "outlinewidth": 0,
             "ticks": ""
            },
            "colorscale": [
             [
              0,
              "#0d0887"
             ],
             [
              0.1111111111111111,
              "#46039f"
             ],
             [
              0.2222222222222222,
              "#7201a8"
             ],
             [
              0.3333333333333333,
              "#9c179e"
             ],
             [
              0.4444444444444444,
              "#bd3786"
             ],
             [
              0.5555555555555556,
              "#d8576b"
             ],
             [
              0.6666666666666666,
              "#ed7953"
             ],
             [
              0.7777777777777778,
              "#fb9f3a"
             ],
             [
              0.8888888888888888,
              "#fdca26"
             ],
             [
              1,
              "#f0f921"
             ]
            ],
            "type": "heatmapgl"
           }
          ],
          "histogram": [
           {
            "marker": {
             "pattern": {
              "fillmode": "overlay",
              "size": 10,
              "solidity": 0.2
             }
            },
            "type": "histogram"
           }
          ],
          "histogram2d": [
           {
            "colorbar": {
             "outlinewidth": 0,
             "ticks": ""
            },
            "colorscale": [
             [
              0,
              "#0d0887"
             ],
             [
              0.1111111111111111,
              "#46039f"
             ],
             [
              0.2222222222222222,
              "#7201a8"
             ],
             [
              0.3333333333333333,
              "#9c179e"
             ],
             [
              0.4444444444444444,
              "#bd3786"
             ],
             [
              0.5555555555555556,
              "#d8576b"
             ],
             [
              0.6666666666666666,
              "#ed7953"
             ],
             [
              0.7777777777777778,
              "#fb9f3a"
             ],
             [
              0.8888888888888888,
              "#fdca26"
             ],
             [
              1,
              "#f0f921"
             ]
            ],
            "type": "histogram2d"
           }
          ],
          "histogram2dcontour": [
           {
            "colorbar": {
             "outlinewidth": 0,
             "ticks": ""
            },
            "colorscale": [
             [
              0,
              "#0d0887"
             ],
             [
              0.1111111111111111,
              "#46039f"
             ],
             [
              0.2222222222222222,
              "#7201a8"
             ],
             [
              0.3333333333333333,
              "#9c179e"
             ],
             [
              0.4444444444444444,
              "#bd3786"
             ],
             [
              0.5555555555555556,
              "#d8576b"
             ],
             [
              0.6666666666666666,
              "#ed7953"
             ],
             [
              0.7777777777777778,
              "#fb9f3a"
             ],
             [
              0.8888888888888888,
              "#fdca26"
             ],
             [
              1,
              "#f0f921"
             ]
            ],
            "type": "histogram2dcontour"
           }
          ],
          "mesh3d": [
           {
            "colorbar": {
             "outlinewidth": 0,
             "ticks": ""
            },
            "type": "mesh3d"
           }
          ],
          "parcoords": [
           {
            "line": {
             "colorbar": {
              "outlinewidth": 0,
              "ticks": ""
             }
            },
            "type": "parcoords"
           }
          ],
          "pie": [
           {
            "automargin": true,
            "type": "pie"
           }
          ],
          "scatter": [
           {
            "fillpattern": {
             "fillmode": "overlay",
             "size": 10,
             "solidity": 0.2
            },
            "type": "scatter"
           }
          ],
          "scatter3d": [
           {
            "line": {
             "colorbar": {
              "outlinewidth": 0,
              "ticks": ""
             }
            },
            "marker": {
             "colorbar": {
              "outlinewidth": 0,
              "ticks": ""
             }
            },
            "type": "scatter3d"
           }
          ],
          "scattercarpet": [
           {
            "marker": {
             "colorbar": {
              "outlinewidth": 0,
              "ticks": ""
             }
            },
            "type": "scattercarpet"
           }
          ],
          "scattergeo": [
           {
            "marker": {
             "colorbar": {
              "outlinewidth": 0,
              "ticks": ""
             }
            },
            "type": "scattergeo"
           }
          ],
          "scattergl": [
           {
            "marker": {
             "colorbar": {
              "outlinewidth": 0,
              "ticks": ""
             }
            },
            "type": "scattergl"
           }
          ],
          "scattermapbox": [
           {
            "marker": {
             "colorbar": {
              "outlinewidth": 0,
              "ticks": ""
             }
            },
            "type": "scattermapbox"
           }
          ],
          "scatterpolar": [
           {
            "marker": {
             "colorbar": {
              "outlinewidth": 0,
              "ticks": ""
             }
            },
            "type": "scatterpolar"
           }
          ],
          "scatterpolargl": [
           {
            "marker": {
             "colorbar": {
              "outlinewidth": 0,
              "ticks": ""
             }
            },
            "type": "scatterpolargl"
           }
          ],
          "scatterternary": [
           {
            "marker": {
             "colorbar": {
              "outlinewidth": 0,
              "ticks": ""
             }
            },
            "type": "scatterternary"
           }
          ],
          "surface": [
           {
            "colorbar": {
             "outlinewidth": 0,
             "ticks": ""
            },
            "colorscale": [
             [
              0,
              "#0d0887"
             ],
             [
              0.1111111111111111,
              "#46039f"
             ],
             [
              0.2222222222222222,
              "#7201a8"
             ],
             [
              0.3333333333333333,
              "#9c179e"
             ],
             [
              0.4444444444444444,
              "#bd3786"
             ],
             [
              0.5555555555555556,
              "#d8576b"
             ],
             [
              0.6666666666666666,
              "#ed7953"
             ],
             [
              0.7777777777777778,
              "#fb9f3a"
             ],
             [
              0.8888888888888888,
              "#fdca26"
             ],
             [
              1,
              "#f0f921"
             ]
            ],
            "type": "surface"
           }
          ],
          "table": [
           {
            "cells": {
             "fill": {
              "color": "#EBF0F8"
             },
             "line": {
              "color": "white"
             }
            },
            "header": {
             "fill": {
              "color": "#C8D4E3"
             },
             "line": {
              "color": "white"
             }
            },
            "type": "table"
           }
          ]
         },
         "layout": {
          "annotationdefaults": {
           "arrowcolor": "#2a3f5f",
           "arrowhead": 0,
           "arrowwidth": 1
          },
          "autotypenumbers": "strict",
          "coloraxis": {
           "colorbar": {
            "outlinewidth": 0,
            "ticks": ""
           }
          },
          "colorscale": {
           "diverging": [
            [
             0,
             "#8e0152"
            ],
            [
             0.1,
             "#c51b7d"
            ],
            [
             0.2,
             "#de77ae"
            ],
            [
             0.3,
             "#f1b6da"
            ],
            [
             0.4,
             "#fde0ef"
            ],
            [
             0.5,
             "#f7f7f7"
            ],
            [
             0.6,
             "#e6f5d0"
            ],
            [
             0.7,
             "#b8e186"
            ],
            [
             0.8,
             "#7fbc41"
            ],
            [
             0.9,
             "#4d9221"
            ],
            [
             1,
             "#276419"
            ]
           ],
           "sequential": [
            [
             0,
             "#0d0887"
            ],
            [
             0.1111111111111111,
             "#46039f"
            ],
            [
             0.2222222222222222,
             "#7201a8"
            ],
            [
             0.3333333333333333,
             "#9c179e"
            ],
            [
             0.4444444444444444,
             "#bd3786"
            ],
            [
             0.5555555555555556,
             "#d8576b"
            ],
            [
             0.6666666666666666,
             "#ed7953"
            ],
            [
             0.7777777777777778,
             "#fb9f3a"
            ],
            [
             0.8888888888888888,
             "#fdca26"
            ],
            [
             1,
             "#f0f921"
            ]
           ],
           "sequentialminus": [
            [
             0,
             "#0d0887"
            ],
            [
             0.1111111111111111,
             "#46039f"
            ],
            [
             0.2222222222222222,
             "#7201a8"
            ],
            [
             0.3333333333333333,
             "#9c179e"
            ],
            [
             0.4444444444444444,
             "#bd3786"
            ],
            [
             0.5555555555555556,
             "#d8576b"
            ],
            [
             0.6666666666666666,
             "#ed7953"
            ],
            [
             0.7777777777777778,
             "#fb9f3a"
            ],
            [
             0.8888888888888888,
             "#fdca26"
            ],
            [
             1,
             "#f0f921"
            ]
           ]
          },
          "colorway": [
           "#636efa",
           "#EF553B",
           "#00cc96",
           "#ab63fa",
           "#FFA15A",
           "#19d3f3",
           "#FF6692",
           "#B6E880",
           "#FF97FF",
           "#FECB52"
          ],
          "font": {
           "color": "#2a3f5f"
          },
          "geo": {
           "bgcolor": "white",
           "lakecolor": "white",
           "landcolor": "#E5ECF6",
           "showlakes": true,
           "showland": true,
           "subunitcolor": "white"
          },
          "hoverlabel": {
           "align": "left"
          },
          "hovermode": "closest",
          "mapbox": {
           "style": "light"
          },
          "paper_bgcolor": "white",
          "plot_bgcolor": "#E5ECF6",
          "polar": {
           "angularaxis": {
            "gridcolor": "white",
            "linecolor": "white",
            "ticks": ""
           },
           "bgcolor": "#E5ECF6",
           "radialaxis": {
            "gridcolor": "white",
            "linecolor": "white",
            "ticks": ""
           }
          },
          "scene": {
           "xaxis": {
            "backgroundcolor": "#E5ECF6",
            "gridcolor": "white",
            "gridwidth": 2,
            "linecolor": "white",
            "showbackground": true,
            "ticks": "",
            "zerolinecolor": "white"
           },
           "yaxis": {
            "backgroundcolor": "#E5ECF6",
            "gridcolor": "white",
            "gridwidth": 2,
            "linecolor": "white",
            "showbackground": true,
            "ticks": "",
            "zerolinecolor": "white"
           },
           "zaxis": {
            "backgroundcolor": "#E5ECF6",
            "gridcolor": "white",
            "gridwidth": 2,
            "linecolor": "white",
            "showbackground": true,
            "ticks": "",
            "zerolinecolor": "white"
           }
          },
          "shapedefaults": {
           "line": {
            "color": "#2a3f5f"
           }
          },
          "ternary": {
           "aaxis": {
            "gridcolor": "white",
            "linecolor": "white",
            "ticks": ""
           },
           "baxis": {
            "gridcolor": "white",
            "linecolor": "white",
            "ticks": ""
           },
           "bgcolor": "#E5ECF6",
           "caxis": {
            "gridcolor": "white",
            "linecolor": "white",
            "ticks": ""
           }
          },
          "title": {
           "x": 0.05
          },
          "xaxis": {
           "automargin": true,
           "gridcolor": "white",
           "linecolor": "white",
           "ticks": "",
           "title": {
            "standoff": 15
           },
           "zerolinecolor": "white",
           "zerolinewidth": 2
          },
          "yaxis": {
           "automargin": true,
           "gridcolor": "white",
           "linecolor": "white",
           "ticks": "",
           "title": {
            "standoff": 15
           },
           "zerolinecolor": "white",
           "zerolinewidth": 2
          }
         }
        },
        "title": {
         "text": "Top 15 Animes by Number of Users who have added the anime to their list on the platform."
        },
        "xaxis": {
         "anchor": "y",
         "categoryarray": [
          "Shingeki no Kyojin",
          "Death Note",
          "Fullmetal Alchemist: Brotherhood",
          "One Punch Man",
          "Sword Art Online",
          "Boku no Hero Academia",
          "Kimetsu no Yaiba",
          "Naruto",
          "Tokyo Ghoul",
          "Hunter x Hunter (2011)",
          "Kimi no Na wa.",
          "Shingeki no Kyojin Season 2",
          "Steins;Gate",
          "Boku no Hero Academia 2nd Season",
          "Naruto: Shippuuden"
         ],
         "categoryorder": "array",
         "domain": [
          0,
          1
         ],
         "title": {
          "text": "Anime Title"
         }
        },
        "yaxis": {
         "anchor": "x",
         "domain": [
          0,
          1
         ],
         "title": {
          "text": "Number of Users"
         }
        }
       }
      }
     },
     "metadata": {},
     "output_type": "display_data"
    }
   ],
   "source": [
    "# Sort the dataframe by the number of users who have scored the anime\n",
    "top_15_scored = data.sort_values(by = 'Members', ascending = False).head(15)\n",
    "\n",
    "# Bar chart of anime based on number of members scored the anime\n",
    "fig = px.bar(top_15_scored, x = 'Name', y = 'Members', labels = {'Members': 'Number of Users', 'Name': 'Anime Title'}, \n",
    "             color = 'Name', title = 'Top 15 Animes by Number of Users who have added the anime to their list on the platform.')\n",
    "\n",
    "fig.show()"
   ]
  },
  {
   "cell_type": "code",
   "execution_count": 17,
   "metadata": {},
   "outputs": [
    {
     "data": {
      "application/vnd.plotly.v1+json": {
       "config": {
        "plotlyServerURL": "https://plot.ly"
       },
       "data": [
        {
         "alignmentgroup": "True",
         "hovertemplate": "Genres=%{x}<br>Count=%{y}<extra></extra>",
         "legendgroup": "Comedy",
         "marker": {
          "color": "#636efa",
          "pattern": {
           "shape": ""
          }
         },
         "name": "Comedy",
         "offsetgroup": "Comedy",
         "orientation": "v",
         "showlegend": true,
         "textposition": "auto",
         "type": "bar",
         "x": [
          "Comedy"
         ],
         "xaxis": "x",
         "y": [
          7142
         ],
         "yaxis": "y"
        },
        {
         "alignmentgroup": "True",
         "hovertemplate": "Genres=%{x}<br>Count=%{y}<extra></extra>",
         "legendgroup": "Fantasy",
         "marker": {
          "color": "#EF553B",
          "pattern": {
           "shape": ""
          }
         },
         "name": "Fantasy",
         "offsetgroup": "Fantasy",
         "orientation": "v",
         "showlegend": true,
         "textposition": "auto",
         "type": "bar",
         "x": [
          "Fantasy"
         ],
         "xaxis": "x",
         "y": [
          5306
         ],
         "yaxis": "y"
        },
        {
         "alignmentgroup": "True",
         "hovertemplate": "Genres=%{x}<br>Count=%{y}<extra></extra>",
         "legendgroup": "Action",
         "marker": {
          "color": "#00cc96",
          "pattern": {
           "shape": ""
          }
         },
         "name": "Action",
         "offsetgroup": "Action",
         "orientation": "v",
         "showlegend": true,
         "textposition": "auto",
         "type": "bar",
         "x": [
          "Action"
         ],
         "xaxis": "x",
         "y": [
          4730
         ],
         "yaxis": "y"
        },
        {
         "alignmentgroup": "True",
         "hovertemplate": "Genres=%{x}<br>Count=%{y}<extra></extra>",
         "legendgroup": "Adventure",
         "marker": {
          "color": "#ab63fa",
          "pattern": {
           "shape": ""
          }
         },
         "name": "Adventure",
         "offsetgroup": "Adventure",
         "orientation": "v",
         "showlegend": true,
         "textposition": "auto",
         "type": "bar",
         "x": [
          "Adventure"
         ],
         "xaxis": "x",
         "y": [
          3842
         ],
         "yaxis": "y"
        },
        {
         "alignmentgroup": "True",
         "hovertemplate": "Genres=%{x}<br>Count=%{y}<extra></extra>",
         "legendgroup": "Sci-Fi",
         "marker": {
          "color": "#FFA15A",
          "pattern": {
           "shape": ""
          }
         },
         "name": "Sci-Fi",
         "offsetgroup": "Sci-Fi",
         "orientation": "v",
         "showlegend": true,
         "textposition": "auto",
         "type": "bar",
         "x": [
          "Sci-Fi"
         ],
         "xaxis": "x",
         "y": [
          3091
         ],
         "yaxis": "y"
        },
        {
         "alignmentgroup": "True",
         "hovertemplate": "Genres=%{x}<br>Count=%{y}<extra></extra>",
         "legendgroup": "Drama",
         "marker": {
          "color": "#19d3f3",
          "pattern": {
           "shape": ""
          }
         },
         "name": "Drama",
         "offsetgroup": "Drama",
         "orientation": "v",
         "showlegend": true,
         "textposition": "auto",
         "type": "bar",
         "x": [
          "Drama"
         ],
         "xaxis": "x",
         "y": [
          2836
         ],
         "yaxis": "y"
        },
        {
         "alignmentgroup": "True",
         "hovertemplate": "Genres=%{x}<br>Count=%{y}<extra></extra>",
         "legendgroup": "Romance",
         "marker": {
          "color": "#FF6692",
          "pattern": {
           "shape": ""
          }
         },
         "name": "Romance",
         "offsetgroup": "Romance",
         "orientation": "v",
         "showlegend": true,
         "textposition": "auto",
         "type": "bar",
         "x": [
          "Romance"
         ],
         "xaxis": "x",
         "y": [
          2063
         ],
         "yaxis": "y"
        },
        {
         "alignmentgroup": "True",
         "hovertemplate": "Genres=%{x}<br>Count=%{y}<extra></extra>",
         "legendgroup": "Slice of Life",
         "marker": {
          "color": "#B6E880",
          "pattern": {
           "shape": ""
          }
         },
         "name": "Slice of Life",
         "offsetgroup": "Slice of Life",
         "orientation": "v",
         "showlegend": true,
         "textposition": "auto",
         "type": "bar",
         "x": [
          "Slice of Life"
         ],
         "xaxis": "x",
         "y": [
          1755
         ],
         "yaxis": "y"
        },
        {
         "alignmentgroup": "True",
         "hovertemplate": "Genres=%{x}<br>Count=%{y}<extra></extra>",
         "legendgroup": "Supernatural",
         "marker": {
          "color": "#FF97FF",
          "pattern": {
           "shape": ""
          }
         },
         "name": "Supernatural",
         "offsetgroup": "Supernatural",
         "orientation": "v",
         "showlegend": true,
         "textposition": "auto",
         "type": "bar",
         "x": [
          "Supernatural"
         ],
         "xaxis": "x",
         "y": [
          1494
         ],
         "yaxis": "y"
        },
        {
         "alignmentgroup": "True",
         "hovertemplate": "Genres=%{x}<br>Count=%{y}<extra></extra>",
         "legendgroup": "Hentai",
         "marker": {
          "color": "#FECB52",
          "pattern": {
           "shape": ""
          }
         },
         "name": "Hentai",
         "offsetgroup": "Hentai",
         "orientation": "v",
         "showlegend": true,
         "textposition": "auto",
         "type": "bar",
         "x": [
          "Hentai"
         ],
         "xaxis": "x",
         "y": [
          1486
         ],
         "yaxis": "y"
        },
        {
         "alignmentgroup": "True",
         "hovertemplate": "Genres=%{x}<br>Count=%{y}<extra></extra>",
         "legendgroup": "Mystery",
         "marker": {
          "color": "#636efa",
          "pattern": {
           "shape": ""
          }
         },
         "name": "Mystery",
         "offsetgroup": "Mystery",
         "orientation": "v",
         "showlegend": true,
         "textposition": "auto",
         "type": "bar",
         "x": [
          "Mystery"
         ],
         "xaxis": "x",
         "y": [
          847
         ],
         "yaxis": "y"
        },
        {
         "alignmentgroup": "True",
         "hovertemplate": "Genres=%{x}<br>Count=%{y}<extra></extra>",
         "legendgroup": "Avant Garde",
         "marker": {
          "color": "#EF553B",
          "pattern": {
           "shape": ""
          }
         },
         "name": "Avant Garde",
         "offsetgroup": "Avant Garde",
         "orientation": "v",
         "showlegend": true,
         "textposition": "auto",
         "type": "bar",
         "x": [
          "Avant Garde"
         ],
         "xaxis": "x",
         "y": [
          804
         ],
         "yaxis": "y"
        },
        {
         "alignmentgroup": "True",
         "hovertemplate": "Genres=%{x}<br>Count=%{y}<extra></extra>",
         "legendgroup": "Ecchi",
         "marker": {
          "color": "#00cc96",
          "pattern": {
           "shape": ""
          }
         },
         "name": "Ecchi",
         "offsetgroup": "Ecchi",
         "orientation": "v",
         "showlegend": true,
         "textposition": "auto",
         "type": "bar",
         "x": [
          "Ecchi"
         ],
         "xaxis": "x",
         "y": [
          795
         ],
         "yaxis": "y"
        },
        {
         "alignmentgroup": "True",
         "hovertemplate": "Genres=%{x}<br>Count=%{y}<extra></extra>",
         "legendgroup": "Sports",
         "marker": {
          "color": "#ab63fa",
          "pattern": {
           "shape": ""
          }
         },
         "name": "Sports",
         "offsetgroup": "Sports",
         "orientation": "v",
         "showlegend": true,
         "textposition": "auto",
         "type": "bar",
         "x": [
          "Sports"
         ],
         "xaxis": "x",
         "y": [
          771
         ],
         "yaxis": "y"
        },
        {
         "alignmentgroup": "True",
         "hovertemplate": "Genres=%{x}<br>Count=%{y}<extra></extra>",
         "legendgroup": "Horror",
         "marker": {
          "color": "#FFA15A",
          "pattern": {
           "shape": ""
          }
         },
         "name": "Horror",
         "offsetgroup": "Horror",
         "orientation": "v",
         "showlegend": true,
         "textposition": "auto",
         "type": "bar",
         "x": [
          "Horror"
         ],
         "xaxis": "x",
         "y": [
          534
         ],
         "yaxis": "y"
        },
        {
         "alignmentgroup": "True",
         "hovertemplate": "Genres=%{x}<br>Count=%{y}<extra></extra>",
         "legendgroup": "Suspense",
         "marker": {
          "color": "#19d3f3",
          "pattern": {
           "shape": ""
          }
         },
         "name": "Suspense",
         "offsetgroup": "Suspense",
         "orientation": "v",
         "showlegend": true,
         "textposition": "auto",
         "type": "bar",
         "x": [
          "Suspense"
         ],
         "xaxis": "x",
         "y": [
          242
         ],
         "yaxis": "y"
        },
        {
         "alignmentgroup": "True",
         "hovertemplate": "Genres=%{x}<br>Count=%{y}<extra></extra>",
         "legendgroup": "Award Winning",
         "marker": {
          "color": "#FF6692",
          "pattern": {
           "shape": ""
          }
         },
         "name": "Award Winning",
         "offsetgroup": "Award Winning",
         "orientation": "v",
         "showlegend": true,
         "textposition": "auto",
         "type": "bar",
         "x": [
          "Award Winning"
         ],
         "xaxis": "x",
         "y": [
          241
         ],
         "yaxis": "y"
        },
        {
         "alignmentgroup": "True",
         "hovertemplate": "Genres=%{x}<br>Count=%{y}<extra></extra>",
         "legendgroup": "Boys Love",
         "marker": {
          "color": "#B6E880",
          "pattern": {
           "shape": ""
          }
         },
         "name": "Boys Love",
         "offsetgroup": "Boys Love",
         "orientation": "v",
         "showlegend": true,
         "textposition": "auto",
         "type": "bar",
         "x": [
          "Boys Love"
         ],
         "xaxis": "x",
         "y": [
          169
         ],
         "yaxis": "y"
        },
        {
         "alignmentgroup": "True",
         "hovertemplate": "Genres=%{x}<br>Count=%{y}<extra></extra>",
         "legendgroup": "Gourmet",
         "marker": {
          "color": "#FF97FF",
          "pattern": {
           "shape": ""
          }
         },
         "name": "Gourmet",
         "offsetgroup": "Gourmet",
         "orientation": "v",
         "showlegend": true,
         "textposition": "auto",
         "type": "bar",
         "x": [
          "Gourmet"
         ],
         "xaxis": "x",
         "y": [
          146
         ],
         "yaxis": "y"
        },
        {
         "alignmentgroup": "True",
         "hovertemplate": "Genres=%{x}<br>Count=%{y}<extra></extra>",
         "legendgroup": "Girls Love",
         "marker": {
          "color": "#FECB52",
          "pattern": {
           "shape": ""
          }
         },
         "name": "Girls Love",
         "offsetgroup": "Girls Love",
         "orientation": "v",
         "showlegend": true,
         "textposition": "auto",
         "type": "bar",
         "x": [
          "Girls Love"
         ],
         "xaxis": "x",
         "y": [
          113
         ],
         "yaxis": "y"
        },
        {
         "alignmentgroup": "True",
         "hovertemplate": "Genres=%{x}<br>Count=%{y}<extra></extra>",
         "legendgroup": "Erotica",
         "marker": {
          "color": "#636efa",
          "pattern": {
           "shape": ""
          }
         },
         "name": "Erotica",
         "offsetgroup": "Erotica",
         "orientation": "v",
         "showlegend": true,
         "textposition": "auto",
         "type": "bar",
         "x": [
          "Erotica"
         ],
         "xaxis": "x",
         "y": [
          54
         ],
         "yaxis": "y"
        }
       ],
       "layout": {
        "barmode": "relative",
        "legend": {
         "title": {
          "text": "Genres"
         },
         "tracegroupgap": 0
        },
        "template": {
         "data": {
          "bar": [
           {
            "error_x": {
             "color": "#2a3f5f"
            },
            "error_y": {
             "color": "#2a3f5f"
            },
            "marker": {
             "line": {
              "color": "#E5ECF6",
              "width": 0.5
             },
             "pattern": {
              "fillmode": "overlay",
              "size": 10,
              "solidity": 0.2
             }
            },
            "type": "bar"
           }
          ],
          "barpolar": [
           {
            "marker": {
             "line": {
              "color": "#E5ECF6",
              "width": 0.5
             },
             "pattern": {
              "fillmode": "overlay",
              "size": 10,
              "solidity": 0.2
             }
            },
            "type": "barpolar"
           }
          ],
          "carpet": [
           {
            "aaxis": {
             "endlinecolor": "#2a3f5f",
             "gridcolor": "white",
             "linecolor": "white",
             "minorgridcolor": "white",
             "startlinecolor": "#2a3f5f"
            },
            "baxis": {
             "endlinecolor": "#2a3f5f",
             "gridcolor": "white",
             "linecolor": "white",
             "minorgridcolor": "white",
             "startlinecolor": "#2a3f5f"
            },
            "type": "carpet"
           }
          ],
          "choropleth": [
           {
            "colorbar": {
             "outlinewidth": 0,
             "ticks": ""
            },
            "type": "choropleth"
           }
          ],
          "contour": [
           {
            "colorbar": {
             "outlinewidth": 0,
             "ticks": ""
            },
            "colorscale": [
             [
              0,
              "#0d0887"
             ],
             [
              0.1111111111111111,
              "#46039f"
             ],
             [
              0.2222222222222222,
              "#7201a8"
             ],
             [
              0.3333333333333333,
              "#9c179e"
             ],
             [
              0.4444444444444444,
              "#bd3786"
             ],
             [
              0.5555555555555556,
              "#d8576b"
             ],
             [
              0.6666666666666666,
              "#ed7953"
             ],
             [
              0.7777777777777778,
              "#fb9f3a"
             ],
             [
              0.8888888888888888,
              "#fdca26"
             ],
             [
              1,
              "#f0f921"
             ]
            ],
            "type": "contour"
           }
          ],
          "contourcarpet": [
           {
            "colorbar": {
             "outlinewidth": 0,
             "ticks": ""
            },
            "type": "contourcarpet"
           }
          ],
          "heatmap": [
           {
            "colorbar": {
             "outlinewidth": 0,
             "ticks": ""
            },
            "colorscale": [
             [
              0,
              "#0d0887"
             ],
             [
              0.1111111111111111,
              "#46039f"
             ],
             [
              0.2222222222222222,
              "#7201a8"
             ],
             [
              0.3333333333333333,
              "#9c179e"
             ],
             [
              0.4444444444444444,
              "#bd3786"
             ],
             [
              0.5555555555555556,
              "#d8576b"
             ],
             [
              0.6666666666666666,
              "#ed7953"
             ],
             [
              0.7777777777777778,
              "#fb9f3a"
             ],
             [
              0.8888888888888888,
              "#fdca26"
             ],
             [
              1,
              "#f0f921"
             ]
            ],
            "type": "heatmap"
           }
          ],
          "heatmapgl": [
           {
            "colorbar": {
             "outlinewidth": 0,
             "ticks": ""
            },
            "colorscale": [
             [
              0,
              "#0d0887"
             ],
             [
              0.1111111111111111,
              "#46039f"
             ],
             [
              0.2222222222222222,
              "#7201a8"
             ],
             [
              0.3333333333333333,
              "#9c179e"
             ],
             [
              0.4444444444444444,
              "#bd3786"
             ],
             [
              0.5555555555555556,
              "#d8576b"
             ],
             [
              0.6666666666666666,
              "#ed7953"
             ],
             [
              0.7777777777777778,
              "#fb9f3a"
             ],
             [
              0.8888888888888888,
              "#fdca26"
             ],
             [
              1,
              "#f0f921"
             ]
            ],
            "type": "heatmapgl"
           }
          ],
          "histogram": [
           {
            "marker": {
             "pattern": {
              "fillmode": "overlay",
              "size": 10,
              "solidity": 0.2
             }
            },
            "type": "histogram"
           }
          ],
          "histogram2d": [
           {
            "colorbar": {
             "outlinewidth": 0,
             "ticks": ""
            },
            "colorscale": [
             [
              0,
              "#0d0887"
             ],
             [
              0.1111111111111111,
              "#46039f"
             ],
             [
              0.2222222222222222,
              "#7201a8"
             ],
             [
              0.3333333333333333,
              "#9c179e"
             ],
             [
              0.4444444444444444,
              "#bd3786"
             ],
             [
              0.5555555555555556,
              "#d8576b"
             ],
             [
              0.6666666666666666,
              "#ed7953"
             ],
             [
              0.7777777777777778,
              "#fb9f3a"
             ],
             [
              0.8888888888888888,
              "#fdca26"
             ],
             [
              1,
              "#f0f921"
             ]
            ],
            "type": "histogram2d"
           }
          ],
          "histogram2dcontour": [
           {
            "colorbar": {
             "outlinewidth": 0,
             "ticks": ""
            },
            "colorscale": [
             [
              0,
              "#0d0887"
             ],
             [
              0.1111111111111111,
              "#46039f"
             ],
             [
              0.2222222222222222,
              "#7201a8"
             ],
             [
              0.3333333333333333,
              "#9c179e"
             ],
             [
              0.4444444444444444,
              "#bd3786"
             ],
             [
              0.5555555555555556,
              "#d8576b"
             ],
             [
              0.6666666666666666,
              "#ed7953"
             ],
             [
              0.7777777777777778,
              "#fb9f3a"
             ],
             [
              0.8888888888888888,
              "#fdca26"
             ],
             [
              1,
              "#f0f921"
             ]
            ],
            "type": "histogram2dcontour"
           }
          ],
          "mesh3d": [
           {
            "colorbar": {
             "outlinewidth": 0,
             "ticks": ""
            },
            "type": "mesh3d"
           }
          ],
          "parcoords": [
           {
            "line": {
             "colorbar": {
              "outlinewidth": 0,
              "ticks": ""
             }
            },
            "type": "parcoords"
           }
          ],
          "pie": [
           {
            "automargin": true,
            "type": "pie"
           }
          ],
          "scatter": [
           {
            "fillpattern": {
             "fillmode": "overlay",
             "size": 10,
             "solidity": 0.2
            },
            "type": "scatter"
           }
          ],
          "scatter3d": [
           {
            "line": {
             "colorbar": {
              "outlinewidth": 0,
              "ticks": ""
             }
            },
            "marker": {
             "colorbar": {
              "outlinewidth": 0,
              "ticks": ""
             }
            },
            "type": "scatter3d"
           }
          ],
          "scattercarpet": [
           {
            "marker": {
             "colorbar": {
              "outlinewidth": 0,
              "ticks": ""
             }
            },
            "type": "scattercarpet"
           }
          ],
          "scattergeo": [
           {
            "marker": {
             "colorbar": {
              "outlinewidth": 0,
              "ticks": ""
             }
            },
            "type": "scattergeo"
           }
          ],
          "scattergl": [
           {
            "marker": {
             "colorbar": {
              "outlinewidth": 0,
              "ticks": ""
             }
            },
            "type": "scattergl"
           }
          ],
          "scattermapbox": [
           {
            "marker": {
             "colorbar": {
              "outlinewidth": 0,
              "ticks": ""
             }
            },
            "type": "scattermapbox"
           }
          ],
          "scatterpolar": [
           {
            "marker": {
             "colorbar": {
              "outlinewidth": 0,
              "ticks": ""
             }
            },
            "type": "scatterpolar"
           }
          ],
          "scatterpolargl": [
           {
            "marker": {
             "colorbar": {
              "outlinewidth": 0,
              "ticks": ""
             }
            },
            "type": "scatterpolargl"
           }
          ],
          "scatterternary": [
           {
            "marker": {
             "colorbar": {
              "outlinewidth": 0,
              "ticks": ""
             }
            },
            "type": "scatterternary"
           }
          ],
          "surface": [
           {
            "colorbar": {
             "outlinewidth": 0,
             "ticks": ""
            },
            "colorscale": [
             [
              0,
              "#0d0887"
             ],
             [
              0.1111111111111111,
              "#46039f"
             ],
             [
              0.2222222222222222,
              "#7201a8"
             ],
             [
              0.3333333333333333,
              "#9c179e"
             ],
             [
              0.4444444444444444,
              "#bd3786"
             ],
             [
              0.5555555555555556,
              "#d8576b"
             ],
             [
              0.6666666666666666,
              "#ed7953"
             ],
             [
              0.7777777777777778,
              "#fb9f3a"
             ],
             [
              0.8888888888888888,
              "#fdca26"
             ],
             [
              1,
              "#f0f921"
             ]
            ],
            "type": "surface"
           }
          ],
          "table": [
           {
            "cells": {
             "fill": {
              "color": "#EBF0F8"
             },
             "line": {
              "color": "white"
             }
            },
            "header": {
             "fill": {
              "color": "#C8D4E3"
             },
             "line": {
              "color": "white"
             }
            },
            "type": "table"
           }
          ]
         },
         "layout": {
          "annotationdefaults": {
           "arrowcolor": "#2a3f5f",
           "arrowhead": 0,
           "arrowwidth": 1
          },
          "autotypenumbers": "strict",
          "coloraxis": {
           "colorbar": {
            "outlinewidth": 0,
            "ticks": ""
           }
          },
          "colorscale": {
           "diverging": [
            [
             0,
             "#8e0152"
            ],
            [
             0.1,
             "#c51b7d"
            ],
            [
             0.2,
             "#de77ae"
            ],
            [
             0.3,
             "#f1b6da"
            ],
            [
             0.4,
             "#fde0ef"
            ],
            [
             0.5,
             "#f7f7f7"
            ],
            [
             0.6,
             "#e6f5d0"
            ],
            [
             0.7,
             "#b8e186"
            ],
            [
             0.8,
             "#7fbc41"
            ],
            [
             0.9,
             "#4d9221"
            ],
            [
             1,
             "#276419"
            ]
           ],
           "sequential": [
            [
             0,
             "#0d0887"
            ],
            [
             0.1111111111111111,
             "#46039f"
            ],
            [
             0.2222222222222222,
             "#7201a8"
            ],
            [
             0.3333333333333333,
             "#9c179e"
            ],
            [
             0.4444444444444444,
             "#bd3786"
            ],
            [
             0.5555555555555556,
             "#d8576b"
            ],
            [
             0.6666666666666666,
             "#ed7953"
            ],
            [
             0.7777777777777778,
             "#fb9f3a"
            ],
            [
             0.8888888888888888,
             "#fdca26"
            ],
            [
             1,
             "#f0f921"
            ]
           ],
           "sequentialminus": [
            [
             0,
             "#0d0887"
            ],
            [
             0.1111111111111111,
             "#46039f"
            ],
            [
             0.2222222222222222,
             "#7201a8"
            ],
            [
             0.3333333333333333,
             "#9c179e"
            ],
            [
             0.4444444444444444,
             "#bd3786"
            ],
            [
             0.5555555555555556,
             "#d8576b"
            ],
            [
             0.6666666666666666,
             "#ed7953"
            ],
            [
             0.7777777777777778,
             "#fb9f3a"
            ],
            [
             0.8888888888888888,
             "#fdca26"
            ],
            [
             1,
             "#f0f921"
            ]
           ]
          },
          "colorway": [
           "#636efa",
           "#EF553B",
           "#00cc96",
           "#ab63fa",
           "#FFA15A",
           "#19d3f3",
           "#FF6692",
           "#B6E880",
           "#FF97FF",
           "#FECB52"
          ],
          "font": {
           "color": "#2a3f5f"
          },
          "geo": {
           "bgcolor": "white",
           "lakecolor": "white",
           "landcolor": "#E5ECF6",
           "showlakes": true,
           "showland": true,
           "subunitcolor": "white"
          },
          "hoverlabel": {
           "align": "left"
          },
          "hovermode": "closest",
          "mapbox": {
           "style": "light"
          },
          "paper_bgcolor": "white",
          "plot_bgcolor": "#E5ECF6",
          "polar": {
           "angularaxis": {
            "gridcolor": "white",
            "linecolor": "white",
            "ticks": ""
           },
           "bgcolor": "#E5ECF6",
           "radialaxis": {
            "gridcolor": "white",
            "linecolor": "white",
            "ticks": ""
           }
          },
          "scene": {
           "xaxis": {
            "backgroundcolor": "#E5ECF6",
            "gridcolor": "white",
            "gridwidth": 2,
            "linecolor": "white",
            "showbackground": true,
            "ticks": "",
            "zerolinecolor": "white"
           },
           "yaxis": {
            "backgroundcolor": "#E5ECF6",
            "gridcolor": "white",
            "gridwidth": 2,
            "linecolor": "white",
            "showbackground": true,
            "ticks": "",
            "zerolinecolor": "white"
           },
           "zaxis": {
            "backgroundcolor": "#E5ECF6",
            "gridcolor": "white",
            "gridwidth": 2,
            "linecolor": "white",
            "showbackground": true,
            "ticks": "",
            "zerolinecolor": "white"
           }
          },
          "shapedefaults": {
           "line": {
            "color": "#2a3f5f"
           }
          },
          "ternary": {
           "aaxis": {
            "gridcolor": "white",
            "linecolor": "white",
            "ticks": ""
           },
           "baxis": {
            "gridcolor": "white",
            "linecolor": "white",
            "ticks": ""
           },
           "bgcolor": "#E5ECF6",
           "caxis": {
            "gridcolor": "white",
            "linecolor": "white",
            "ticks": ""
           }
          },
          "title": {
           "x": 0.05
          },
          "xaxis": {
           "automargin": true,
           "gridcolor": "white",
           "linecolor": "white",
           "ticks": "",
           "title": {
            "standoff": 15
           },
           "zerolinecolor": "white",
           "zerolinewidth": 2
          },
          "yaxis": {
           "automargin": true,
           "gridcolor": "white",
           "linecolor": "white",
           "ticks": "",
           "title": {
            "standoff": 15
           },
           "zerolinecolor": "white",
           "zerolinewidth": 2
          }
         }
        },
        "title": {
         "text": "Count of Anime Titles by Genre"
        },
        "xaxis": {
         "anchor": "y",
         "categoryarray": [
          "Comedy",
          "Fantasy",
          "Action",
          "Adventure",
          "Sci-Fi",
          "Drama",
          "Romance",
          "Slice of Life",
          "Supernatural",
          "Hentai",
          "Mystery",
          "Avant Garde",
          "Ecchi",
          "Sports",
          "Horror",
          "Suspense",
          "Award Winning",
          "Boys Love",
          "Gourmet",
          "Girls Love",
          "Erotica"
         ],
         "categoryorder": "array",
         "domain": [
          0,
          1
         ],
         "title": {
          "text": "Genres"
         }
        },
        "yaxis": {
         "anchor": "x",
         "domain": [
          0,
          1
         ],
         "title": {
          "text": "Count"
         }
        }
       }
      }
     },
     "metadata": {},
     "output_type": "display_data"
    }
   ],
   "source": [
    "# Creating the count of individual genre\n",
    "genre_counts = data[data['Genres'] != \"UNKNOWN\"]['Genres'].apply(lambda x: x.split(', ')).explode().value_counts()\n",
    "\n",
    "# Bar chart to show the count of anime for each genre\n",
    "fig = px.bar(genre_counts, x = genre_counts.index, y = genre_counts.values,\n",
    "             labels = {'x': 'Genre', 'y': 'Count'},\n",
    "             title = 'Count of Anime Titles by Genre',\n",
    "             color = genre_counts.index)\n",
    "\n",
    "fig.show()"
   ]
  },
  {
   "cell_type": "code",
   "execution_count": 18,
   "metadata": {},
   "outputs": [
    {
     "data": {
      "text/plain": [
       "Licensors\n",
       "UNKNOWN                            20170\n",
       "Funimation                           957\n",
       "Sentai Filmworks                     818\n",
       "Discotek Media                       275\n",
       "Aniplex of America                   222\n",
       "                                   ...  \n",
       "Funimation, Muse Communication         1\n",
       "Crunchyroll, Muse Communication        1\n",
       "Aniplex of America, Crunchyroll        1\n",
       "Funimation, Travel Compass             1\n",
       "Bandai Namco Online                    1\n",
       "Name: count, Length: 265, dtype: int64"
      ]
     },
     "execution_count": 18,
     "metadata": {},
     "output_type": "execute_result"
    }
   ],
   "source": [
    "data['Licensors'].value_counts()"
   ]
  },
  {
   "cell_type": "code",
   "execution_count": 19,
   "metadata": {},
   "outputs": [
    {
     "data": {
      "application/vnd.plotly.v1+json": {
       "config": {
        "plotlyServerURL": "https://plot.ly"
       },
       "data": [
        {
         "alignmentgroup": "True",
         "hovertemplate": "index=%{x}<br>y=%{y}<extra></extra>",
         "legendgroup": "Funimation",
         "marker": {
          "color": "#636efa",
          "pattern": {
           "shape": ""
          }
         },
         "name": "Funimation",
         "offsetgroup": "Funimation",
         "orientation": "v",
         "showlegend": true,
         "textposition": "auto",
         "type": "bar",
         "x": [
          "Funimation"
         ],
         "xaxis": "x",
         "y": [
          1211
         ],
         "yaxis": "y"
        },
        {
         "alignmentgroup": "True",
         "hovertemplate": "index=%{x}<br>y=%{y}<extra></extra>",
         "legendgroup": "Sentai Filmworks",
         "marker": {
          "color": "#EF553B",
          "pattern": {
           "shape": ""
          }
         },
         "name": "Sentai Filmworks",
         "offsetgroup": "Sentai Filmworks",
         "orientation": "v",
         "showlegend": true,
         "textposition": "auto",
         "type": "bar",
         "x": [
          "Sentai Filmworks"
         ],
         "xaxis": "x",
         "y": [
          927
         ],
         "yaxis": "y"
        },
        {
         "alignmentgroup": "True",
         "hovertemplate": "index=%{x}<br>y=%{y}<extra></extra>",
         "legendgroup": "Discotek Media",
         "marker": {
          "color": "#00cc96",
          "pattern": {
           "shape": ""
          }
         },
         "name": "Discotek Media",
         "offsetgroup": "Discotek Media",
         "orientation": "v",
         "showlegend": true,
         "textposition": "auto",
         "type": "bar",
         "x": [
          "Discotek Media"
         ],
         "xaxis": "x",
         "y": [
          491
         ],
         "yaxis": "y"
        },
        {
         "alignmentgroup": "True",
         "hovertemplate": "index=%{x}<br>y=%{y}<extra></extra>",
         "legendgroup": "ADV Films",
         "marker": {
          "color": "#ab63fa",
          "pattern": {
           "shape": ""
          }
         },
         "name": "ADV Films",
         "offsetgroup": "ADV Films",
         "orientation": "v",
         "showlegend": true,
         "textposition": "auto",
         "type": "bar",
         "x": [
          "ADV Films"
         ],
         "xaxis": "x",
         "y": [
          305
         ],
         "yaxis": "y"
        },
        {
         "alignmentgroup": "True",
         "hovertemplate": "index=%{x}<br>y=%{y}<extra></extra>",
         "legendgroup": "Media Blasters",
         "marker": {
          "color": "#FFA15A",
          "pattern": {
           "shape": ""
          }
         },
         "name": "Media Blasters",
         "offsetgroup": "Media Blasters",
         "orientation": "v",
         "showlegend": true,
         "textposition": "auto",
         "type": "bar",
         "x": [
          "Media Blasters"
         ],
         "xaxis": "x",
         "y": [
          288
         ],
         "yaxis": "y"
        },
        {
         "alignmentgroup": "True",
         "hovertemplate": "index=%{x}<br>y=%{y}<extra></extra>",
         "legendgroup": "Aniplex of America",
         "marker": {
          "color": "#19d3f3",
          "pattern": {
           "shape": ""
          }
         },
         "name": "Aniplex of America",
         "offsetgroup": "Aniplex of America",
         "orientation": "v",
         "showlegend": true,
         "textposition": "auto",
         "type": "bar",
         "x": [
          "Aniplex of America"
         ],
         "xaxis": "x",
         "y": [
          239
         ],
         "yaxis": "y"
        },
        {
         "alignmentgroup": "True",
         "hovertemplate": "index=%{x}<br>y=%{y}<extra></extra>",
         "legendgroup": "Bandai Entertainment",
         "marker": {
          "color": "#FF6692",
          "pattern": {
           "shape": ""
          }
         },
         "name": "Bandai Entertainment",
         "offsetgroup": "Bandai Entertainment",
         "orientation": "v",
         "showlegend": true,
         "textposition": "auto",
         "type": "bar",
         "x": [
          "Bandai Entertainment"
         ],
         "xaxis": "x",
         "y": [
          201
         ],
         "yaxis": "y"
        },
        {
         "alignmentgroup": "True",
         "hovertemplate": "index=%{x}<br>y=%{y}<extra></extra>",
         "legendgroup": "VIZ Media",
         "marker": {
          "color": "#B6E880",
          "pattern": {
           "shape": ""
          }
         },
         "name": "VIZ Media",
         "offsetgroup": "VIZ Media",
         "orientation": "v",
         "showlegend": true,
         "textposition": "auto",
         "type": "bar",
         "x": [
          "VIZ Media"
         ],
         "xaxis": "x",
         "y": [
          199
         ],
         "yaxis": "y"
        },
        {
         "alignmentgroup": "True",
         "hovertemplate": "index=%{x}<br>y=%{y}<extra></extra>",
         "legendgroup": "Geneon Entertainment USA",
         "marker": {
          "color": "#FF97FF",
          "pattern": {
           "shape": ""
          }
         },
         "name": "Geneon Entertainment USA",
         "offsetgroup": "Geneon Entertainment USA",
         "orientation": "v",
         "showlegend": true,
         "textposition": "auto",
         "type": "bar",
         "x": [
          "Geneon Entertainment USA"
         ],
         "xaxis": "x",
         "y": [
          181
         ],
         "yaxis": "y"
        },
        {
         "alignmentgroup": "True",
         "hovertemplate": "index=%{x}<br>y=%{y}<extra></extra>",
         "legendgroup": "Central Park Media",
         "marker": {
          "color": "#FECB52",
          "pattern": {
           "shape": ""
          }
         },
         "name": "Central Park Media",
         "offsetgroup": "Central Park Media",
         "orientation": "v",
         "showlegend": true,
         "textposition": "auto",
         "type": "bar",
         "x": [
          "Central Park Media"
         ],
         "xaxis": "x",
         "y": [
          153
         ],
         "yaxis": "y"
        }
       ],
       "layout": {
        "barmode": "relative",
        "legend": {
         "title": {
          "text": "index"
         },
         "tracegroupgap": 0
        },
        "margin": {
         "t": 60
        },
        "template": {
         "data": {
          "bar": [
           {
            "error_x": {
             "color": "#2a3f5f"
            },
            "error_y": {
             "color": "#2a3f5f"
            },
            "marker": {
             "line": {
              "color": "#E5ECF6",
              "width": 0.5
             },
             "pattern": {
              "fillmode": "overlay",
              "size": 10,
              "solidity": 0.2
             }
            },
            "type": "bar"
           }
          ],
          "barpolar": [
           {
            "marker": {
             "line": {
              "color": "#E5ECF6",
              "width": 0.5
             },
             "pattern": {
              "fillmode": "overlay",
              "size": 10,
              "solidity": 0.2
             }
            },
            "type": "barpolar"
           }
          ],
          "carpet": [
           {
            "aaxis": {
             "endlinecolor": "#2a3f5f",
             "gridcolor": "white",
             "linecolor": "white",
             "minorgridcolor": "white",
             "startlinecolor": "#2a3f5f"
            },
            "baxis": {
             "endlinecolor": "#2a3f5f",
             "gridcolor": "white",
             "linecolor": "white",
             "minorgridcolor": "white",
             "startlinecolor": "#2a3f5f"
            },
            "type": "carpet"
           }
          ],
          "choropleth": [
           {
            "colorbar": {
             "outlinewidth": 0,
             "ticks": ""
            },
            "type": "choropleth"
           }
          ],
          "contour": [
           {
            "colorbar": {
             "outlinewidth": 0,
             "ticks": ""
            },
            "colorscale": [
             [
              0,
              "#0d0887"
             ],
             [
              0.1111111111111111,
              "#46039f"
             ],
             [
              0.2222222222222222,
              "#7201a8"
             ],
             [
              0.3333333333333333,
              "#9c179e"
             ],
             [
              0.4444444444444444,
              "#bd3786"
             ],
             [
              0.5555555555555556,
              "#d8576b"
             ],
             [
              0.6666666666666666,
              "#ed7953"
             ],
             [
              0.7777777777777778,
              "#fb9f3a"
             ],
             [
              0.8888888888888888,
              "#fdca26"
             ],
             [
              1,
              "#f0f921"
             ]
            ],
            "type": "contour"
           }
          ],
          "contourcarpet": [
           {
            "colorbar": {
             "outlinewidth": 0,
             "ticks": ""
            },
            "type": "contourcarpet"
           }
          ],
          "heatmap": [
           {
            "colorbar": {
             "outlinewidth": 0,
             "ticks": ""
            },
            "colorscale": [
             [
              0,
              "#0d0887"
             ],
             [
              0.1111111111111111,
              "#46039f"
             ],
             [
              0.2222222222222222,
              "#7201a8"
             ],
             [
              0.3333333333333333,
              "#9c179e"
             ],
             [
              0.4444444444444444,
              "#bd3786"
             ],
             [
              0.5555555555555556,
              "#d8576b"
             ],
             [
              0.6666666666666666,
              "#ed7953"
             ],
             [
              0.7777777777777778,
              "#fb9f3a"
             ],
             [
              0.8888888888888888,
              "#fdca26"
             ],
             [
              1,
              "#f0f921"
             ]
            ],
            "type": "heatmap"
           }
          ],
          "heatmapgl": [
           {
            "colorbar": {
             "outlinewidth": 0,
             "ticks": ""
            },
            "colorscale": [
             [
              0,
              "#0d0887"
             ],
             [
              0.1111111111111111,
              "#46039f"
             ],
             [
              0.2222222222222222,
              "#7201a8"
             ],
             [
              0.3333333333333333,
              "#9c179e"
             ],
             [
              0.4444444444444444,
              "#bd3786"
             ],
             [
              0.5555555555555556,
              "#d8576b"
             ],
             [
              0.6666666666666666,
              "#ed7953"
             ],
             [
              0.7777777777777778,
              "#fb9f3a"
             ],
             [
              0.8888888888888888,
              "#fdca26"
             ],
             [
              1,
              "#f0f921"
             ]
            ],
            "type": "heatmapgl"
           }
          ],
          "histogram": [
           {
            "marker": {
             "pattern": {
              "fillmode": "overlay",
              "size": 10,
              "solidity": 0.2
             }
            },
            "type": "histogram"
           }
          ],
          "histogram2d": [
           {
            "colorbar": {
             "outlinewidth": 0,
             "ticks": ""
            },
            "colorscale": [
             [
              0,
              "#0d0887"
             ],
             [
              0.1111111111111111,
              "#46039f"
             ],
             [
              0.2222222222222222,
              "#7201a8"
             ],
             [
              0.3333333333333333,
              "#9c179e"
             ],
             [
              0.4444444444444444,
              "#bd3786"
             ],
             [
              0.5555555555555556,
              "#d8576b"
             ],
             [
              0.6666666666666666,
              "#ed7953"
             ],
             [
              0.7777777777777778,
              "#fb9f3a"
             ],
             [
              0.8888888888888888,
              "#fdca26"
             ],
             [
              1,
              "#f0f921"
             ]
            ],
            "type": "histogram2d"
           }
          ],
          "histogram2dcontour": [
           {
            "colorbar": {
             "outlinewidth": 0,
             "ticks": ""
            },
            "colorscale": [
             [
              0,
              "#0d0887"
             ],
             [
              0.1111111111111111,
              "#46039f"
             ],
             [
              0.2222222222222222,
              "#7201a8"
             ],
             [
              0.3333333333333333,
              "#9c179e"
             ],
             [
              0.4444444444444444,
              "#bd3786"
             ],
             [
              0.5555555555555556,
              "#d8576b"
             ],
             [
              0.6666666666666666,
              "#ed7953"
             ],
             [
              0.7777777777777778,
              "#fb9f3a"
             ],
             [
              0.8888888888888888,
              "#fdca26"
             ],
             [
              1,
              "#f0f921"
             ]
            ],
            "type": "histogram2dcontour"
           }
          ],
          "mesh3d": [
           {
            "colorbar": {
             "outlinewidth": 0,
             "ticks": ""
            },
            "type": "mesh3d"
           }
          ],
          "parcoords": [
           {
            "line": {
             "colorbar": {
              "outlinewidth": 0,
              "ticks": ""
             }
            },
            "type": "parcoords"
           }
          ],
          "pie": [
           {
            "automargin": true,
            "type": "pie"
           }
          ],
          "scatter": [
           {
            "fillpattern": {
             "fillmode": "overlay",
             "size": 10,
             "solidity": 0.2
            },
            "type": "scatter"
           }
          ],
          "scatter3d": [
           {
            "line": {
             "colorbar": {
              "outlinewidth": 0,
              "ticks": ""
             }
            },
            "marker": {
             "colorbar": {
              "outlinewidth": 0,
              "ticks": ""
             }
            },
            "type": "scatter3d"
           }
          ],
          "scattercarpet": [
           {
            "marker": {
             "colorbar": {
              "outlinewidth": 0,
              "ticks": ""
             }
            },
            "type": "scattercarpet"
           }
          ],
          "scattergeo": [
           {
            "marker": {
             "colorbar": {
              "outlinewidth": 0,
              "ticks": ""
             }
            },
            "type": "scattergeo"
           }
          ],
          "scattergl": [
           {
            "marker": {
             "colorbar": {
              "outlinewidth": 0,
              "ticks": ""
             }
            },
            "type": "scattergl"
           }
          ],
          "scattermapbox": [
           {
            "marker": {
             "colorbar": {
              "outlinewidth": 0,
              "ticks": ""
             }
            },
            "type": "scattermapbox"
           }
          ],
          "scatterpolar": [
           {
            "marker": {
             "colorbar": {
              "outlinewidth": 0,
              "ticks": ""
             }
            },
            "type": "scatterpolar"
           }
          ],
          "scatterpolargl": [
           {
            "marker": {
             "colorbar": {
              "outlinewidth": 0,
              "ticks": ""
             }
            },
            "type": "scatterpolargl"
           }
          ],
          "scatterternary": [
           {
            "marker": {
             "colorbar": {
              "outlinewidth": 0,
              "ticks": ""
             }
            },
            "type": "scatterternary"
           }
          ],
          "surface": [
           {
            "colorbar": {
             "outlinewidth": 0,
             "ticks": ""
            },
            "colorscale": [
             [
              0,
              "#0d0887"
             ],
             [
              0.1111111111111111,
              "#46039f"
             ],
             [
              0.2222222222222222,
              "#7201a8"
             ],
             [
              0.3333333333333333,
              "#9c179e"
             ],
             [
              0.4444444444444444,
              "#bd3786"
             ],
             [
              0.5555555555555556,
              "#d8576b"
             ],
             [
              0.6666666666666666,
              "#ed7953"
             ],
             [
              0.7777777777777778,
              "#fb9f3a"
             ],
             [
              0.8888888888888888,
              "#fdca26"
             ],
             [
              1,
              "#f0f921"
             ]
            ],
            "type": "surface"
           }
          ],
          "table": [
           {
            "cells": {
             "fill": {
              "color": "#EBF0F8"
             },
             "line": {
              "color": "white"
             }
            },
            "header": {
             "fill": {
              "color": "#C8D4E3"
             },
             "line": {
              "color": "white"
             }
            },
            "type": "table"
           }
          ]
         },
         "layout": {
          "annotationdefaults": {
           "arrowcolor": "#2a3f5f",
           "arrowhead": 0,
           "arrowwidth": 1
          },
          "autotypenumbers": "strict",
          "coloraxis": {
           "colorbar": {
            "outlinewidth": 0,
            "ticks": ""
           }
          },
          "colorscale": {
           "diverging": [
            [
             0,
             "#8e0152"
            ],
            [
             0.1,
             "#c51b7d"
            ],
            [
             0.2,
             "#de77ae"
            ],
            [
             0.3,
             "#f1b6da"
            ],
            [
             0.4,
             "#fde0ef"
            ],
            [
             0.5,
             "#f7f7f7"
            ],
            [
             0.6,
             "#e6f5d0"
            ],
            [
             0.7,
             "#b8e186"
            ],
            [
             0.8,
             "#7fbc41"
            ],
            [
             0.9,
             "#4d9221"
            ],
            [
             1,
             "#276419"
            ]
           ],
           "sequential": [
            [
             0,
             "#0d0887"
            ],
            [
             0.1111111111111111,
             "#46039f"
            ],
            [
             0.2222222222222222,
             "#7201a8"
            ],
            [
             0.3333333333333333,
             "#9c179e"
            ],
            [
             0.4444444444444444,
             "#bd3786"
            ],
            [
             0.5555555555555556,
             "#d8576b"
            ],
            [
             0.6666666666666666,
             "#ed7953"
            ],
            [
             0.7777777777777778,
             "#fb9f3a"
            ],
            [
             0.8888888888888888,
             "#fdca26"
            ],
            [
             1,
             "#f0f921"
            ]
           ],
           "sequentialminus": [
            [
             0,
             "#0d0887"
            ],
            [
             0.1111111111111111,
             "#46039f"
            ],
            [
             0.2222222222222222,
             "#7201a8"
            ],
            [
             0.3333333333333333,
             "#9c179e"
            ],
            [
             0.4444444444444444,
             "#bd3786"
            ],
            [
             0.5555555555555556,
             "#d8576b"
            ],
            [
             0.6666666666666666,
             "#ed7953"
            ],
            [
             0.7777777777777778,
             "#fb9f3a"
            ],
            [
             0.8888888888888888,
             "#fdca26"
            ],
            [
             1,
             "#f0f921"
            ]
           ]
          },
          "colorway": [
           "#636efa",
           "#EF553B",
           "#00cc96",
           "#ab63fa",
           "#FFA15A",
           "#19d3f3",
           "#FF6692",
           "#B6E880",
           "#FF97FF",
           "#FECB52"
          ],
          "font": {
           "color": "#2a3f5f"
          },
          "geo": {
           "bgcolor": "white",
           "lakecolor": "white",
           "landcolor": "#E5ECF6",
           "showlakes": true,
           "showland": true,
           "subunitcolor": "white"
          },
          "hoverlabel": {
           "align": "left"
          },
          "hovermode": "closest",
          "mapbox": {
           "style": "light"
          },
          "paper_bgcolor": "white",
          "plot_bgcolor": "#E5ECF6",
          "polar": {
           "angularaxis": {
            "gridcolor": "white",
            "linecolor": "white",
            "ticks": ""
           },
           "bgcolor": "#E5ECF6",
           "radialaxis": {
            "gridcolor": "white",
            "linecolor": "white",
            "ticks": ""
           }
          },
          "scene": {
           "xaxis": {
            "backgroundcolor": "#E5ECF6",
            "gridcolor": "white",
            "gridwidth": 2,
            "linecolor": "white",
            "showbackground": true,
            "ticks": "",
            "zerolinecolor": "white"
           },
           "yaxis": {
            "backgroundcolor": "#E5ECF6",
            "gridcolor": "white",
            "gridwidth": 2,
            "linecolor": "white",
            "showbackground": true,
            "ticks": "",
            "zerolinecolor": "white"
           },
           "zaxis": {
            "backgroundcolor": "#E5ECF6",
            "gridcolor": "white",
            "gridwidth": 2,
            "linecolor": "white",
            "showbackground": true,
            "ticks": "",
            "zerolinecolor": "white"
           }
          },
          "shapedefaults": {
           "line": {
            "color": "#2a3f5f"
           }
          },
          "ternary": {
           "aaxis": {
            "gridcolor": "white",
            "linecolor": "white",
            "ticks": ""
           },
           "baxis": {
            "gridcolor": "white",
            "linecolor": "white",
            "ticks": ""
           },
           "bgcolor": "#E5ECF6",
           "caxis": {
            "gridcolor": "white",
            "linecolor": "white",
            "ticks": ""
           }
          },
          "title": {
           "x": 0.05
          },
          "xaxis": {
           "automargin": true,
           "gridcolor": "white",
           "linecolor": "white",
           "ticks": "",
           "title": {
            "standoff": 15
           },
           "zerolinecolor": "white",
           "zerolinewidth": 2
          },
          "yaxis": {
           "automargin": true,
           "gridcolor": "white",
           "linecolor": "white",
           "ticks": "",
           "title": {
            "standoff": 15
           },
           "zerolinecolor": "white",
           "zerolinewidth": 2
          }
         }
        },
        "title": {
         "text": "Top 10 Anime Licensors"
        },
        "xaxis": {
         "anchor": "y",
         "categoryarray": [
          "Funimation",
          "Sentai Filmworks",
          "Discotek Media",
          "ADV Films",
          "Media Blasters",
          "Aniplex of America",
          "Bandai Entertainment",
          "VIZ Media",
          "Geneon Entertainment USA",
          "Central Park Media"
         ],
         "categoryorder": "array",
         "domain": [
          0,
          1
         ],
         "tickangle": -45,
         "title": {
          "text": "Licensors"
         }
        },
        "yaxis": {
         "anchor": "x",
         "domain": [
          0,
          1
         ],
         "title": {
          "text": "Count"
         }
        }
       }
      }
     },
     "metadata": {},
     "output_type": "display_data"
    }
   ],
   "source": [
    "licensors_list = [licensor for licensors in data[data['Licensors'] != \"UNKNOWN\"]['Licensors'].str.split(', ') for licensor in licensors]\n",
    "\n",
    "# Count the occurrences of each licensor\n",
    "licensor_counts = pd.Series(licensors_list).value_counts()\n",
    "\n",
    "# Filter the licensor_counts series to exclude 'Unknown'\n",
    "filtered_licensor_counts = licensor_counts[licensor_counts.index != 'Unknown']\n",
    "\n",
    "# Select the top 10 licensors\n",
    "top_15_licensors = filtered_licensor_counts.head(10)\n",
    "\n",
    "# Bar plot to show top 10 licensors\n",
    "fig = px.bar(top_15_licensors, x = top_15_licensors.index, y = top_15_licensors.values, color = top_15_licensors.index)\n",
    "\n",
    "# Customize the plot\n",
    "fig.update_layout(\n",
    "    title = 'Top 10 Anime Licensors',\n",
    "    xaxis_title = 'Licensors',\n",
    "    yaxis_title = 'Count',\n",
    "    xaxis_tickangle = -45\n",
    ")\n",
    "\n",
    "# Show the plot\n",
    "fig.show()"
   ]
  },
  {
   "cell_type": "code",
   "execution_count": 20,
   "metadata": {},
   "outputs": [
    {
     "data": {
      "text/plain": [
       "Premiered\n",
       "UNKNOWN        19399\n",
       "spring 2017       88\n",
       "fall 2016         83\n",
       "spring 2018       81\n",
       "spring 2016       78\n",
       "               ...  \n",
       "summer 1962        1\n",
       "summer 1993        1\n",
       "summer 2024        1\n",
       "winter 2025        1\n",
       "summer 2025        1\n",
       "Name: count, Length: 244, dtype: int64"
      ]
     },
     "execution_count": 20,
     "metadata": {},
     "output_type": "execute_result"
    }
   ],
   "source": [
    "data['Premiered'].value_counts()"
   ]
  },
  {
   "cell_type": "code",
   "execution_count": 21,
   "metadata": {},
   "outputs": [],
   "source": [
    "# Function to extract the season and year from the premiered string\n",
    "def extract_season_year(premiered):\n",
    "    if premiered == 'UNKNOWN':\n",
    "        return None, None\n",
    "    else:\n",
    "        season, year = premiered.split()\n",
    "        return season, int(year)\n",
    "\n",
    "# Apply the function to extract the season and year from the \"Premiered\" column\n",
    "season_year = data['Premiered'].map(extract_season_year)\n",
    "premiered_season = season_year.apply(lambda x: x[0])\n",
    "premiered_Year = season_year.apply(lambda x: x[1])\n"
   ]
  },
  {
   "cell_type": "code",
   "execution_count": 22,
   "metadata": {},
   "outputs": [
    {
     "data": {
      "application/vnd.plotly.v1+json": {
       "config": {
        "plotlyServerURL": "https://plot.ly"
       },
       "data": [
        {
         "hole": 0.4,
         "hoverinfo": "label+percent",
         "labels": [
          "spring",
          "fall",
          "winter",
          "summer"
         ],
         "marker": {
          "colors": [
           "#1f77b4",
           "#ff7f0e",
           "#2ca02c",
           "#d62728",
           "#9467bd"
          ],
          "line": {
           "color": "#ffffff",
           "width": 2
          }
         },
         "textfont": {
          "size": 14
         },
         "textinfo": "value",
         "type": "pie",
         "values": [
          1789,
          1601,
          1128,
          988
         ]
        }
       ],
       "layout": {
        "font": {
         "size": 12
        },
        "template": {
         "data": {
          "bar": [
           {
            "error_x": {
             "color": "#2a3f5f"
            },
            "error_y": {
             "color": "#2a3f5f"
            },
            "marker": {
             "line": {
              "color": "#E5ECF6",
              "width": 0.5
             },
             "pattern": {
              "fillmode": "overlay",
              "size": 10,
              "solidity": 0.2
             }
            },
            "type": "bar"
           }
          ],
          "barpolar": [
           {
            "marker": {
             "line": {
              "color": "#E5ECF6",
              "width": 0.5
             },
             "pattern": {
              "fillmode": "overlay",
              "size": 10,
              "solidity": 0.2
             }
            },
            "type": "barpolar"
           }
          ],
          "carpet": [
           {
            "aaxis": {
             "endlinecolor": "#2a3f5f",
             "gridcolor": "white",
             "linecolor": "white",
             "minorgridcolor": "white",
             "startlinecolor": "#2a3f5f"
            },
            "baxis": {
             "endlinecolor": "#2a3f5f",
             "gridcolor": "white",
             "linecolor": "white",
             "minorgridcolor": "white",
             "startlinecolor": "#2a3f5f"
            },
            "type": "carpet"
           }
          ],
          "choropleth": [
           {
            "colorbar": {
             "outlinewidth": 0,
             "ticks": ""
            },
            "type": "choropleth"
           }
          ],
          "contour": [
           {
            "colorbar": {
             "outlinewidth": 0,
             "ticks": ""
            },
            "colorscale": [
             [
              0,
              "#0d0887"
             ],
             [
              0.1111111111111111,
              "#46039f"
             ],
             [
              0.2222222222222222,
              "#7201a8"
             ],
             [
              0.3333333333333333,
              "#9c179e"
             ],
             [
              0.4444444444444444,
              "#bd3786"
             ],
             [
              0.5555555555555556,
              "#d8576b"
             ],
             [
              0.6666666666666666,
              "#ed7953"
             ],
             [
              0.7777777777777778,
              "#fb9f3a"
             ],
             [
              0.8888888888888888,
              "#fdca26"
             ],
             [
              1,
              "#f0f921"
             ]
            ],
            "type": "contour"
           }
          ],
          "contourcarpet": [
           {
            "colorbar": {
             "outlinewidth": 0,
             "ticks": ""
            },
            "type": "contourcarpet"
           }
          ],
          "heatmap": [
           {
            "colorbar": {
             "outlinewidth": 0,
             "ticks": ""
            },
            "colorscale": [
             [
              0,
              "#0d0887"
             ],
             [
              0.1111111111111111,
              "#46039f"
             ],
             [
              0.2222222222222222,
              "#7201a8"
             ],
             [
              0.3333333333333333,
              "#9c179e"
             ],
             [
              0.4444444444444444,
              "#bd3786"
             ],
             [
              0.5555555555555556,
              "#d8576b"
             ],
             [
              0.6666666666666666,
              "#ed7953"
             ],
             [
              0.7777777777777778,
              "#fb9f3a"
             ],
             [
              0.8888888888888888,
              "#fdca26"
             ],
             [
              1,
              "#f0f921"
             ]
            ],
            "type": "heatmap"
           }
          ],
          "heatmapgl": [
           {
            "colorbar": {
             "outlinewidth": 0,
             "ticks": ""
            },
            "colorscale": [
             [
              0,
              "#0d0887"
             ],
             [
              0.1111111111111111,
              "#46039f"
             ],
             [
              0.2222222222222222,
              "#7201a8"
             ],
             [
              0.3333333333333333,
              "#9c179e"
             ],
             [
              0.4444444444444444,
              "#bd3786"
             ],
             [
              0.5555555555555556,
              "#d8576b"
             ],
             [
              0.6666666666666666,
              "#ed7953"
             ],
             [
              0.7777777777777778,
              "#fb9f3a"
             ],
             [
              0.8888888888888888,
              "#fdca26"
             ],
             [
              1,
              "#f0f921"
             ]
            ],
            "type": "heatmapgl"
           }
          ],
          "histogram": [
           {
            "marker": {
             "pattern": {
              "fillmode": "overlay",
              "size": 10,
              "solidity": 0.2
             }
            },
            "type": "histogram"
           }
          ],
          "histogram2d": [
           {
            "colorbar": {
             "outlinewidth": 0,
             "ticks": ""
            },
            "colorscale": [
             [
              0,
              "#0d0887"
             ],
             [
              0.1111111111111111,
              "#46039f"
             ],
             [
              0.2222222222222222,
              "#7201a8"
             ],
             [
              0.3333333333333333,
              "#9c179e"
             ],
             [
              0.4444444444444444,
              "#bd3786"
             ],
             [
              0.5555555555555556,
              "#d8576b"
             ],
             [
              0.6666666666666666,
              "#ed7953"
             ],
             [
              0.7777777777777778,
              "#fb9f3a"
             ],
             [
              0.8888888888888888,
              "#fdca26"
             ],
             [
              1,
              "#f0f921"
             ]
            ],
            "type": "histogram2d"
           }
          ],
          "histogram2dcontour": [
           {
            "colorbar": {
             "outlinewidth": 0,
             "ticks": ""
            },
            "colorscale": [
             [
              0,
              "#0d0887"
             ],
             [
              0.1111111111111111,
              "#46039f"
             ],
             [
              0.2222222222222222,
              "#7201a8"
             ],
             [
              0.3333333333333333,
              "#9c179e"
             ],
             [
              0.4444444444444444,
              "#bd3786"
             ],
             [
              0.5555555555555556,
              "#d8576b"
             ],
             [
              0.6666666666666666,
              "#ed7953"
             ],
             [
              0.7777777777777778,
              "#fb9f3a"
             ],
             [
              0.8888888888888888,
              "#fdca26"
             ],
             [
              1,
              "#f0f921"
             ]
            ],
            "type": "histogram2dcontour"
           }
          ],
          "mesh3d": [
           {
            "colorbar": {
             "outlinewidth": 0,
             "ticks": ""
            },
            "type": "mesh3d"
           }
          ],
          "parcoords": [
           {
            "line": {
             "colorbar": {
              "outlinewidth": 0,
              "ticks": ""
             }
            },
            "type": "parcoords"
           }
          ],
          "pie": [
           {
            "automargin": true,
            "type": "pie"
           }
          ],
          "scatter": [
           {
            "fillpattern": {
             "fillmode": "overlay",
             "size": 10,
             "solidity": 0.2
            },
            "type": "scatter"
           }
          ],
          "scatter3d": [
           {
            "line": {
             "colorbar": {
              "outlinewidth": 0,
              "ticks": ""
             }
            },
            "marker": {
             "colorbar": {
              "outlinewidth": 0,
              "ticks": ""
             }
            },
            "type": "scatter3d"
           }
          ],
          "scattercarpet": [
           {
            "marker": {
             "colorbar": {
              "outlinewidth": 0,
              "ticks": ""
             }
            },
            "type": "scattercarpet"
           }
          ],
          "scattergeo": [
           {
            "marker": {
             "colorbar": {
              "outlinewidth": 0,
              "ticks": ""
             }
            },
            "type": "scattergeo"
           }
          ],
          "scattergl": [
           {
            "marker": {
             "colorbar": {
              "outlinewidth": 0,
              "ticks": ""
             }
            },
            "type": "scattergl"
           }
          ],
          "scattermapbox": [
           {
            "marker": {
             "colorbar": {
              "outlinewidth": 0,
              "ticks": ""
             }
            },
            "type": "scattermapbox"
           }
          ],
          "scatterpolar": [
           {
            "marker": {
             "colorbar": {
              "outlinewidth": 0,
              "ticks": ""
             }
            },
            "type": "scatterpolar"
           }
          ],
          "scatterpolargl": [
           {
            "marker": {
             "colorbar": {
              "outlinewidth": 0,
              "ticks": ""
             }
            },
            "type": "scatterpolargl"
           }
          ],
          "scatterternary": [
           {
            "marker": {
             "colorbar": {
              "outlinewidth": 0,
              "ticks": ""
             }
            },
            "type": "scatterternary"
           }
          ],
          "surface": [
           {
            "colorbar": {
             "outlinewidth": 0,
             "ticks": ""
            },
            "colorscale": [
             [
              0,
              "#0d0887"
             ],
             [
              0.1111111111111111,
              "#46039f"
             ],
             [
              0.2222222222222222,
              "#7201a8"
             ],
             [
              0.3333333333333333,
              "#9c179e"
             ],
             [
              0.4444444444444444,
              "#bd3786"
             ],
             [
              0.5555555555555556,
              "#d8576b"
             ],
             [
              0.6666666666666666,
              "#ed7953"
             ],
             [
              0.7777777777777778,
              "#fb9f3a"
             ],
             [
              0.8888888888888888,
              "#fdca26"
             ],
             [
              1,
              "#f0f921"
             ]
            ],
            "type": "surface"
           }
          ],
          "table": [
           {
            "cells": {
             "fill": {
              "color": "#EBF0F8"
             },
             "line": {
              "color": "white"
             }
            },
            "header": {
             "fill": {
              "color": "#C8D4E3"
             },
             "line": {
              "color": "white"
             }
            },
            "type": "table"
           }
          ]
         },
         "layout": {
          "annotationdefaults": {
           "arrowcolor": "#2a3f5f",
           "arrowhead": 0,
           "arrowwidth": 1
          },
          "autotypenumbers": "strict",
          "coloraxis": {
           "colorbar": {
            "outlinewidth": 0,
            "ticks": ""
           }
          },
          "colorscale": {
           "diverging": [
            [
             0,
             "#8e0152"
            ],
            [
             0.1,
             "#c51b7d"
            ],
            [
             0.2,
             "#de77ae"
            ],
            [
             0.3,
             "#f1b6da"
            ],
            [
             0.4,
             "#fde0ef"
            ],
            [
             0.5,
             "#f7f7f7"
            ],
            [
             0.6,
             "#e6f5d0"
            ],
            [
             0.7,
             "#b8e186"
            ],
            [
             0.8,
             "#7fbc41"
            ],
            [
             0.9,
             "#4d9221"
            ],
            [
             1,
             "#276419"
            ]
           ],
           "sequential": [
            [
             0,
             "#0d0887"
            ],
            [
             0.1111111111111111,
             "#46039f"
            ],
            [
             0.2222222222222222,
             "#7201a8"
            ],
            [
             0.3333333333333333,
             "#9c179e"
            ],
            [
             0.4444444444444444,
             "#bd3786"
            ],
            [
             0.5555555555555556,
             "#d8576b"
            ],
            [
             0.6666666666666666,
             "#ed7953"
            ],
            [
             0.7777777777777778,
             "#fb9f3a"
            ],
            [
             0.8888888888888888,
             "#fdca26"
            ],
            [
             1,
             "#f0f921"
            ]
           ],
           "sequentialminus": [
            [
             0,
             "#0d0887"
            ],
            [
             0.1111111111111111,
             "#46039f"
            ],
            [
             0.2222222222222222,
             "#7201a8"
            ],
            [
             0.3333333333333333,
             "#9c179e"
            ],
            [
             0.4444444444444444,
             "#bd3786"
            ],
            [
             0.5555555555555556,
             "#d8576b"
            ],
            [
             0.6666666666666666,
             "#ed7953"
            ],
            [
             0.7777777777777778,
             "#fb9f3a"
            ],
            [
             0.8888888888888888,
             "#fdca26"
            ],
            [
             1,
             "#f0f921"
            ]
           ]
          },
          "colorway": [
           "#636efa",
           "#EF553B",
           "#00cc96",
           "#ab63fa",
           "#FFA15A",
           "#19d3f3",
           "#FF6692",
           "#B6E880",
           "#FF97FF",
           "#FECB52"
          ],
          "font": {
           "color": "#2a3f5f"
          },
          "geo": {
           "bgcolor": "white",
           "lakecolor": "white",
           "landcolor": "#E5ECF6",
           "showlakes": true,
           "showland": true,
           "subunitcolor": "white"
          },
          "hoverlabel": {
           "align": "left"
          },
          "hovermode": "closest",
          "mapbox": {
           "style": "light"
          },
          "paper_bgcolor": "white",
          "plot_bgcolor": "#E5ECF6",
          "polar": {
           "angularaxis": {
            "gridcolor": "white",
            "linecolor": "white",
            "ticks": ""
           },
           "bgcolor": "#E5ECF6",
           "radialaxis": {
            "gridcolor": "white",
            "linecolor": "white",
            "ticks": ""
           }
          },
          "scene": {
           "xaxis": {
            "backgroundcolor": "#E5ECF6",
            "gridcolor": "white",
            "gridwidth": 2,
            "linecolor": "white",
            "showbackground": true,
            "ticks": "",
            "zerolinecolor": "white"
           },
           "yaxis": {
            "backgroundcolor": "#E5ECF6",
            "gridcolor": "white",
            "gridwidth": 2,
            "linecolor": "white",
            "showbackground": true,
            "ticks": "",
            "zerolinecolor": "white"
           },
           "zaxis": {
            "backgroundcolor": "#E5ECF6",
            "gridcolor": "white",
            "gridwidth": 2,
            "linecolor": "white",
            "showbackground": true,
            "ticks": "",
            "zerolinecolor": "white"
           }
          },
          "shapedefaults": {
           "line": {
            "color": "#2a3f5f"
           }
          },
          "ternary": {
           "aaxis": {
            "gridcolor": "white",
            "linecolor": "white",
            "ticks": ""
           },
           "baxis": {
            "gridcolor": "white",
            "linecolor": "white",
            "ticks": ""
           },
           "bgcolor": "#E5ECF6",
           "caxis": {
            "gridcolor": "white",
            "linecolor": "white",
            "ticks": ""
           }
          },
          "title": {
           "x": 0.05
          },
          "xaxis": {
           "automargin": true,
           "gridcolor": "white",
           "linecolor": "white",
           "ticks": "",
           "title": {
            "standoff": 15
           },
           "zerolinecolor": "white",
           "zerolinewidth": 2
          },
          "yaxis": {
           "automargin": true,
           "gridcolor": "white",
           "linecolor": "white",
           "ticks": "",
           "title": {
            "standoff": 15
           },
           "zerolinecolor": "white",
           "zerolinewidth": 2
          }
         }
        },
        "title": {
         "font": {
          "size": 20
         },
         "text": "Distribution of Premiered Seasons"
        }
       }
      }
     },
     "metadata": {},
     "output_type": "display_data"
    }
   ],
   "source": [
    "# Filter out None values from premiered_season\n",
    "filtered_premiered_season = premiered_season.dropna()\n",
    "\n",
    "# Count the occurrences of each season\n",
    "season_counts = filtered_premiered_season.value_counts()\n",
    "\n",
    "# Pie plot to show count of anime on each seasons\n",
    "fig = go.Figure(data = go.Pie(\n",
    "    labels = season_counts.index,\n",
    "    values = season_counts.values,\n",
    "    hole = 0.4,  # Add a donut hole in the center\n",
    "    hoverinfo = 'label+percent',  # Display label and percentage on hover\n",
    "    textinfo = 'value',  # Display count value as text inside each slice\n",
    "    textfont = dict(size = 14),  # Set the text font size\n",
    "    marker = dict(\n",
    "                  colors = ['#1f77b4', '#ff7f0e', '#2ca02c', '#d62728', '#9467bd'],  # Custom color palette\n",
    "                  line = dict(color = '#ffffff', width = 2)  # Set the color and width of the slice borders\n",
    "                 )\n",
    "))\n",
    "\n",
    "# Set the title and font style for the plot\n",
    "fig.update_layout(\n",
    "    title = 'Distribution of Premiered Seasons',\n",
    "    title_font = dict(size = 20),\n",
    "    font = dict(size = 12)\n",
    ")\n",
    "\n",
    "fig.show()"
   ]
  },
  {
   "cell_type": "code",
   "execution_count": 23,
   "metadata": {},
   "outputs": [
    {
     "data": {
      "text/html": [
       "<div>\n",
       "<style scoped>\n",
       "    .dataframe tbody tr th:only-of-type {\n",
       "        vertical-align: middle;\n",
       "    }\n",
       "\n",
       "    .dataframe tbody tr th {\n",
       "        vertical-align: top;\n",
       "    }\n",
       "\n",
       "    .dataframe thead th {\n",
       "        text-align: right;\n",
       "    }\n",
       "</style>\n",
       "<table border=\"1\" class=\"dataframe\">\n",
       "  <thead>\n",
       "    <tr style=\"text-align: right;\">\n",
       "      <th></th>\n",
       "      <th>anime_id</th>\n",
       "      <th>Name</th>\n",
       "      <th>English name</th>\n",
       "      <th>Other name</th>\n",
       "      <th>Score</th>\n",
       "      <th>Genres</th>\n",
       "      <th>Synopsis</th>\n",
       "      <th>Type</th>\n",
       "      <th>Episodes</th>\n",
       "      <th>Aired</th>\n",
       "      <th>...</th>\n",
       "      <th>Studios</th>\n",
       "      <th>Source</th>\n",
       "      <th>Duration</th>\n",
       "      <th>Rating</th>\n",
       "      <th>Rank</th>\n",
       "      <th>Popularity</th>\n",
       "      <th>Favorites</th>\n",
       "      <th>Scored By</th>\n",
       "      <th>Members</th>\n",
       "      <th>Image URL</th>\n",
       "    </tr>\n",
       "  </thead>\n",
       "  <tbody>\n",
       "    <tr>\n",
       "      <th>0</th>\n",
       "      <td>1</td>\n",
       "      <td>Cowboy Bebop</td>\n",
       "      <td>Cowboy Bebop</td>\n",
       "      <td>カウボーイビバップ</td>\n",
       "      <td>8.75</td>\n",
       "      <td>Action, Award Winning, Sci-Fi</td>\n",
       "      <td>Crime is timeless. By the year 2071, humanity ...</td>\n",
       "      <td>TV</td>\n",
       "      <td>26.0</td>\n",
       "      <td>1998</td>\n",
       "      <td>...</td>\n",
       "      <td>Sunrise</td>\n",
       "      <td>Original</td>\n",
       "      <td>24 min per ep</td>\n",
       "      <td>R - 17+ (violence &amp; profanity)</td>\n",
       "      <td>41.0</td>\n",
       "      <td>43</td>\n",
       "      <td>78525</td>\n",
       "      <td>914193.0</td>\n",
       "      <td>1771505</td>\n",
       "      <td>https://cdn.myanimelist.net/images/anime/4/196...</td>\n",
       "    </tr>\n",
       "    <tr>\n",
       "      <th>2</th>\n",
       "      <td>6</td>\n",
       "      <td>Trigun</td>\n",
       "      <td>Trigun</td>\n",
       "      <td>トライガン</td>\n",
       "      <td>8.22</td>\n",
       "      <td>Action, Adventure, Sci-Fi</td>\n",
       "      <td>Vash the Stampede is the man with a $$60,000,0...</td>\n",
       "      <td>TV</td>\n",
       "      <td>26.0</td>\n",
       "      <td>1998</td>\n",
       "      <td>...</td>\n",
       "      <td>Madhouse</td>\n",
       "      <td>Manga</td>\n",
       "      <td>24 min per ep</td>\n",
       "      <td>PG-13 - Teens 13 or older</td>\n",
       "      <td>328.0</td>\n",
       "      <td>246</td>\n",
       "      <td>15035</td>\n",
       "      <td>356739.0</td>\n",
       "      <td>727252</td>\n",
       "      <td>https://cdn.myanimelist.net/images/anime/7/203...</td>\n",
       "    </tr>\n",
       "    <tr>\n",
       "      <th>3</th>\n",
       "      <td>7</td>\n",
       "      <td>Witch Hunter Robin</td>\n",
       "      <td>Witch Hunter Robin</td>\n",
       "      <td>Witch Hunter ROBIN (ウイッチハンターロビン)</td>\n",
       "      <td>7.25</td>\n",
       "      <td>Action, Drama, Mystery, Supernatural</td>\n",
       "      <td>Robin Sena is a powerful craft user drafted in...</td>\n",
       "      <td>TV</td>\n",
       "      <td>26.0</td>\n",
       "      <td>2002</td>\n",
       "      <td>...</td>\n",
       "      <td>Sunrise</td>\n",
       "      <td>Original</td>\n",
       "      <td>25 min per ep</td>\n",
       "      <td>PG-13 - Teens 13 or older</td>\n",
       "      <td>2764.0</td>\n",
       "      <td>1795</td>\n",
       "      <td>613</td>\n",
       "      <td>42829.0</td>\n",
       "      <td>111931</td>\n",
       "      <td>https://cdn.myanimelist.net/images/anime/10/19...</td>\n",
       "    </tr>\n",
       "  </tbody>\n",
       "</table>\n",
       "<p>3 rows × 24 columns</p>\n",
       "</div>"
      ],
      "text/plain": [
       "   anime_id                Name        English name  \\\n",
       "0         1        Cowboy Bebop        Cowboy Bebop   \n",
       "2         6              Trigun              Trigun   \n",
       "3         7  Witch Hunter Robin  Witch Hunter Robin   \n",
       "\n",
       "                         Other name  Score  \\\n",
       "0                         カウボーイビバップ   8.75   \n",
       "2                             トライガン   8.22   \n",
       "3  Witch Hunter ROBIN (ウイッチハンターロビン)   7.25   \n",
       "\n",
       "                                 Genres  \\\n",
       "0         Action, Award Winning, Sci-Fi   \n",
       "2             Action, Adventure, Sci-Fi   \n",
       "3  Action, Drama, Mystery, Supernatural   \n",
       "\n",
       "                                            Synopsis Type Episodes  Aired  \\\n",
       "0  Crime is timeless. By the year 2071, humanity ...   TV     26.0   1998   \n",
       "2  Vash the Stampede is the man with a $$60,000,0...   TV     26.0   1998   \n",
       "3  Robin Sena is a powerful craft user drafted in...   TV     26.0   2002   \n",
       "\n",
       "   ...   Studios    Source       Duration                          Rating  \\\n",
       "0  ...   Sunrise  Original  24 min per ep  R - 17+ (violence & profanity)   \n",
       "2  ...  Madhouse     Manga  24 min per ep       PG-13 - Teens 13 or older   \n",
       "3  ...   Sunrise  Original  25 min per ep       PG-13 - Teens 13 or older   \n",
       "\n",
       "     Rank Popularity Favorites Scored By  Members  \\\n",
       "0    41.0         43     78525  914193.0  1771505   \n",
       "2   328.0        246     15035  356739.0   727252   \n",
       "3  2764.0       1795       613   42829.0   111931   \n",
       "\n",
       "                                           Image URL  \n",
       "0  https://cdn.myanimelist.net/images/anime/4/196...  \n",
       "2  https://cdn.myanimelist.net/images/anime/7/203...  \n",
       "3  https://cdn.myanimelist.net/images/anime/10/19...  \n",
       "\n",
       "[3 rows x 24 columns]"
      ]
     },
     "execution_count": 23,
     "metadata": {},
     "output_type": "execute_result"
    }
   ],
   "source": [
    "season_df = data[data['Premiered'].str.contains('|'.join([str for str in season_counts.index]))]\n",
    "season_df.head(3)"
   ]
  },
  {
   "cell_type": "code",
   "execution_count": 24,
   "metadata": {},
   "outputs": [
    {
     "data": {
      "application/vnd.plotly.v1+json": {
       "config": {
        "plotlyServerURL": "https://plot.ly"
       },
       "data": [
        {
         "hovertemplate": "Name: %{label}<br>Season: %{parent}",
         "labels": [
          "Season",
          "spring",
          "fall",
          "winter",
          "summer",
          "Cowboy Bebop",
          "Trigun",
          "Witch Hunter Robin",
          "Bouken Ou Beet",
          "Eyeshield 21",
          "Hachimitsu to Clover",
          "Hungry Heart: Wild Striker",
          "Initial D Fourth Stage",
          "Monster",
          "Naruto",
          "One Piece",
          "Tennis no Ouji-sama",
          "Ring ni Kakero 1",
          "School Rumble",
          "Sunabouzu",
          "Texhnolyze",
          "Trinity Blood",
          "Yakitate!! Japan",
          "Zipang",
          "Neon Genesis Evangelion",
          "Kenpuu Denki Berserk",
          "Rurouni Kenshin: Meiji Kenkaku Romantan",
          ".hack//Sign",
          "Aa! Megami-sama! (TV)",
          "Kidou Tenshi Angelic Layer",
          "Ai Yori Aoshi",
          "Arc the Lad",
          "Avenger",
          "Beck",
          "Blue Gender",
          "Chobits",
          "Chrno Crusade",
          "D.N.Angel",
          "D.C.: Da Capo",
          "DearS",
          "Rozen Maiden",
          "Rozen Maiden: Träumend",
          "Azumanga Daiou The Animation",
          "Basilisk: Kouga Ninpou Chou",
          "Black Cat (TV)",
          "Cluster Edge",
          "Full Metal Panic!",
          "Full Metal Panic? Fumoffu",
          "Full Metal Panic! The Second Raid",
          "Gakuen Alice",
          "Soukyuu no Fafner: Dead Aggressor",
          "Mahou Shoujo Lyrical Nanoha",
          "Mahou Shoujo Lyrical Nanoha A's",
          "Shuffle!",
          "Kidou Senshi Gundam",
          "Kidou Senshi Zeta Gundam",
          "Kidou Senshi Gundam ZZ",
          "Kidou Senshi Victory Gundam",
          "Shin Kidou Senki Gundam Wing",
          "Kidou Shinseiki Gundam X",
          "Kidou Senshi Gundam SEED",
          "Kidou Senshi Gundam SEED Destiny",
          "Turn A Gundam",
          "Kidou Butouden G Gundam",
          "Last Exile",
          "Mai-HiME",
          "Mai-Otome",
          "Shin Shirayuki-hime Densetsu Prétear",
          "Air",
          "Aishiteruze Baby★★",
          "Akazukin Chacha",
          "Ayashi no Ceres",
          "Boys Be...",
          "Hana yori Dango",
          "Ou Dorobou Jing",
          "Bakuretsu Tenshi",
          "Chuuka Ichiban!",
          "Corrector Yui",
          "Chou Henshin Cosprayers",
          "Uchuu no Stellvia",
          "Sakigake!! Cromartie Koukou",
          "El Hazard: The Alternative World",
          "El Hazard: The Wanderers",
          "Final Approach",
          "Fruits Basket",
          "Fullmetal Alchemist",
          "Full Moon wo Sagashite",
          "Fushigi Yuugi",
          "Futakoi",
          "Futakoi Alternative",
          "Gate Keepers",
          "Gensoumaden Saiyuuki",
          "Saiyuuki Reload",
          "Saiyuuki Reload Gunlock",
          "GetBackers",
          "Green Green",
          "Gunslinger Girl",
          "Hikaru no Go",
          "Hunter x Hunter",
          "Jinki:Extend",
          "Kamikaze Kaitou Jeanne",
          "Kannazuki no Miko",
          "Kanon",
          "Kareshi Kanojo no Jijou",
          "Kono Minikuku mo Utsukushii Sekai",
          "Kimi ga Nozomu Eien",
          "Kita e.: Diamond Dust Drops",
          "Loveless",
          "Blood+",
          "Solty Rei",
          "Juuni Kokuki",
          "Shaman King",
          "X",
          "Mahou Sensei Negima!",
          "Maria-sama ga Miteru",
          "Boukyaku no Senritsu",
          "Ima, Soko ni Iru Boku",
          "Peace Maker Kurogane",
          "Pita Ten",
          "Power Stone",
          "RahXephon",
          "Samurai 7",
          "Scrapped Princess",
          "s.CRY.ed",
          "Shingetsutan Tsukihime",
          "Slam Dunk",
          "Strange Dawn",
          "Tactics",
          "Tenjou Tenge",
          "Tokyo Underground",
          "Tsubasa Chronicle",
          "Ultra Maniac",
          "Vandread",
          "Vandread: The Second Stage",
          "Tenkuu no Escaflowne",
          "Whistle!",
          "Xenosaga The Animation",
          "Initial D First Stage",
          "Initial D Second Stage",
          "Love Hina",
          "Maburaho",
          "Onegai☆Teacher",
          "Onegai☆Twins",
          "Rizelmine",
          "Speed Grapher",
          "Tenshi na Konamaiki",
          "Wolf's Rain",
          "Yumeria",
          "Samurai Champloo",
          "Lodoss-tou Senki: Eiyuu Kishi Den",
          "R.O.D: The TV",
          "Ranma ½",
          "Kidou Senkan Nadesico",
          "Mezzo DSA",
          "Dragon Ball",
          "Dragon Ball GT",
          "Elfen Lied",
          "Jigoku Shoujo",
          "Ninin ga Shinobuden",
          "Air Master",
          "Asagiri no Miko",
          "Cardcaptor Sakura",
          "Daa! Daa! Daa!",
          "Dan Doh!!",
          "Detective Conan",
          "E's Otherwise",
          "Koukyoushihen Eureka Seven",
          "Rekka no Honoo",
          "Gankutsuou",
          "Genshiken",
          "Girls Bravo: First Season",
          "Gokusen",
          "Gravitation",
          "Agatha Christie no Meitantei Poirot to Marple",
          "Great Teacher Onizuka",
          "Groove Adventure Rave",
          "Harukanaru Toki no Naka de: Hachiyou Shou",
          "Ichigo 100%",
          "InuYasha",
          "Konjiki no Gash Bell!!",
          "Kyou kara Maou!",
          "Madlax",
          "Jungle wa Itsumo Hare nochi Guu",
          "Ikkitousen",
          "Happy☆Lesson (TV)",
          "Happy☆Lesson Advance",
          "Hajime no Ippo",
          "Gunparade March: Arata Naru Kougunka",
          "Gungrave",
          "Bleach",
          "Hellsing",
          "Gad Guard",
          "Noir",
          "Mahoutsukai ni Taisetsu na Koto",
          "Kiddy Grade",
          "Love♥Love?",
          "Mahoromatic: Automatic Maiden",
          "Mahoromatic: Motto Utsukushii Mono",
          "Viewtiful Joe",
          "Kyougoku Natsuhiko: Kousetsu Hyaku Monogatari",
          "Animal Yokochou",
          "Angel Heart",
          "Akage no Anne",
          "Area 88 (TV)",
          "Argento Soma",
          "B'T X",
          "Grappler Baki (TV)",
          "Bakuten Shoot Beyblade",
          "Comic Party",
          "Seikai no Monshou",
          "D.C.S.S: Da Capo Second Season",
          "Dear Boys",
          "Di Gi Charat",
          "Divergence Eve",
          "Divergence Eve 2: Misaki Chronicles",
          "Dragon Drive",
          "Grenadier: Hohoemi no Senshi",
          ".hack//Tasogare no Udewa Densetsu",
          "Cinderella Boy",
          "Mirai Shounen Conan",
          "Aa! Megami-sama!: Chichaitte Koto wa Benri da ne",
          "Abenobashi Mahou☆Shoutengai",
          "Kerokko Demetan",
          "Zettai Shounen",
          "Akahori Gedou Hour Rabuge",
          "Chiisana Obake: Acchi, Kocchi, Socchi",
          "Ace wo Nerae!",
          "Hand Maid May",
          "Najica Dengeki Sakusen",
          "Paradise Kiss",
          "Mousou Dairinin",
          "Kidou Keisatsu Patlabor: On Television",
          "Peach Girl",
          "Petshop of Horrors",
          "Puchi Pri*Yucie",
          "Piano (TV)",
          "Planetes",
          "Midori no Hibi",
          "Mahoujin Guruguru",
          "Dokidoki♡Densetsu: Mahoujin Guruguru",
          "Mama wa Shougaku 4 Nensei",
          "Marmalade Boy",
          "Matantei Loki Ragnarok",
          "Ginyuu Mokushiroku Meine Liebe",
          "Psychic Academy",
          "Versailles no Bara",
          "Serial Experiments Lain",
          "Mutsu Enmei Ryuu Gaiden: Shura no Toki",
          "Spiral: Suiri no Kizuna",
          "Starship Operators",
          "Tsukuyomi: Moon Phase",
          "Futatsu no Spica",
          "Eikoku Koi Monogatari Emma",
          "W: Wish",
          "Wild Arms: Twilight Venom",
          "Binzume Yousei",
          "Magical Canan",
          "Ojamajo Doremi",
          "Ojamajo Doremi Sharp",
          "Motto! Ojamajo Doremi",
          "Ojamajo Doremi Dokkaan!",
          "UG☆Ultimate Girls",
          "Shakugan no Shana",
          "Fate/stay night",
          "Himiko-den",
          "Gallery Fake",
          "Boogiepop wa Warawanai",
          "Burn Up Excess",
          "Bannou Bunka Neko-Musume (1998)",
          "Heppoko Jikken Animation Excel♥Saga",
          "Galaxy Angel",
          "Gantz",
          "Gilgamesh",
          "H2",
          "Haibane Renmei",
          "Capeta",
          "Suzuka",
          "Yuu☆Yuu☆Hakusho",
          "Ai Yori Aoshi: Enishi",
          "Gantz 2nd Stage",
          "Seikai no Senki",
          "Seikai no Senki II",
          "Seihou Bukyou Outlaw Star",
          "Hanaukyou Maid-tai",
          "Buzzer Beater",
          "Tantei Gakuen Q",
          "Gun x Sword",
          "Kore ga Watashi no Goshujinsama",
          "Ragnarök The Animation",
          "Samurai Deeper Kyou",
          "Stratos 4",
          "Dirty Pair",
          "Kaleido Star",
          "Magic Knight Rayearth",
          "Shoujo Kakumei Utena",
          "Maria-sama ga Miteru: Haru",
          "Tales of Eternia The Animation",
          "Weiß Kreuz Glühen",
          "Weiß Kreuz",
          "Fantastic Children",
          "Gokujou Seitokai",
          "Mushishi",
          "Koukaku Kidoutai: Stand Alone Complex",
          "Karin",
          "Okusama wa Joshikousei (TV)",
          "To Heart 2",
          "To Heart",
          "Tide-Line Blue",
          "Ginban Kaleidoscope",
          "Aria the Animation",
          "Sousei no Aquarion",
          "Ueki no Housoku",
          "Yu☆Gi☆Oh! Duel Monsters",
          "Yu☆Gi☆Oh! Duel Monsters GX",
          "Kurau Phantom Memory",
          "Damekko Doubutsu",
          "Kino no Tabi: The Beautiful World",
          "Girls Bravo: Second Season",
          "Ichigo Mashimaro",
          "Kamichu!",
          "Paniponi Dash!",
          "Bakuretsu Hunters",
          "Yami to Boushi to Hon no Tabibito",
          "Doraemon",
          "Fushigiboshi no☆Futagohime",
          "Glass no Kamen",
          "Tottoko Hamtarou",
          "I My Me! Strawberry Eggs",
          "Kakyuusei 2: Hitomi no Naka no Shoujo-tachi",
          "Kidou Shinsengumi Moeyo Ken TV",
          "Keroro Gunsou",
          "Mahou no Princess Minky Momo",
          "Mahoraba: Heartful days",
          "Mermaid Melody Pichi Pichi Pitch",
          "Otogizoushi",
          "Pokemon",
          "Saishuu Heiki Kanojo",
          "Bishoujo Senshi Sailor Moon",
          "Bishoujo Senshi Sailor Moon S",
          "Sensei no Ojikan: Dokidoki School Hours",
          "Slayers",
          "Slayers Next",
          "Shin Tenchi Muyou!",
          "Mousou Kagaku Series: Wandaba Style",
          "Wind: A Breath of Heart (TV)",
          "Yu☆Gi☆Oh!",
          "Grappler Baki: Saidai Tournament-hen",
          "Digimon Adventure",
          "Yami no Matsuei",
          "Koutetsu Tenshi Kurumi",
          "Koutetsu Tenshi Kurumi 2",
          "Major S2",
          "Sakura Taisen",
          "DNA²",
          "The Big O",
          "Bubblegum Crisis Tokyo 2040",
          "Musekinin Kanchou Tylor",
          "Saber Marionette J",
          "Magikano",
          "Kagi Hime Monogatari: Eikyuu Alice Rondo",
          "Battle Programmer Shirase",
          "Kogepan",
          "Sexy Commando Gaiden: Sugoi yo!! Masaru-san",
          "Noein: Mou Hitori no Kimi e",
          "Ayakashi: Japanese Classic Horror",
          "Hanbun no Tsuki ga Noboru Sora",
          "Ginga Nagareboshi Gin",
          "Kage kara Mamoru!",
          "Amaenaide yo!!",
          "PopoloCrois",
          "Mugen no Ryvius",
          "Jinzou Ningen Kikaider The Animation",
          "Legend of Duo",
          "Futari wa Precure",
          "Mahou no Stage Fancy Lala",
          "Tenshi ni Narumon!",
          "Kazemakase Tsukikage Ran",
          "Otogi Juushi Akazukin",
          "Popotan",
          "Platonic Chain",
          "PetoPeto-san",
          "Onmyou Taisenki",
          "Okusama wa Mahou Shoujo",
          "Nurse Angel Ririka SOS",
          "Juubee Ninpuuchou: Ryuuhougyoku-hen",
          "Takahashi Rumiko Gekijou Ningyo no Mori",
          "Night Walker: Mayonaka no Tantei",
          "Shichinin no Nana",
          "Mouse",
          "Mamotte Shugogetten!",
          "Major S1",
          "Mahoutsukai Tai! (TV)",
          "Legend of Basara",
          "Koi Kaze",
          "Juubee-chan: Lovely Gantai no Himitsu",
          "Juubee-chan 2: Siberia Yagyuu no Gyakushuu",
          "Iketeru Futari",
          "Haunted Junction",
          "Tsuki wa Higashi ni Hi wa Nishi ni: Operation Sanctuary",
          "Hanaukyou Maid-tai: La Verite",
          "Galaxy Angel Z",
          "Galaxy Angel 3",
          "Galaxy Angel 4",
          "Touhai Densetsu Akagi: Yami ni Maiorita Tensai",
          "Kashimashi: Girl Meets Girl",
          "Koi Koi 7",
          "Lamune",
          "Lemon Angel Project",
          "Sentimental Journey",
          "Shadow Skill: Eigi",
          "Otogi Story Tenshi no Shippo",
          "Tenshi no Shippo Chu!",
          "To Heart: Remember My Memories",
          "Tokyo Mew Mew",
          "Uta∽Kata",
          "Kyuuketsuhime Miyu (TV)",
          "Yawara!",
          "Burn Up Scramble",
          "Canvas 2: Nijiiro no Sketch",
          "Tenchi Muyou!",
          "Comic Party Revolution",
          "Patapata Hikousen no Bouken",
          "Mujin Wakusei Survive",
          "Rec",
          "Zoids Genesis",
          "High School! Kimengumi",
          "Yume de Aetara (TV)",
          "Princess Tutu",
          "Kingyo Chuuihou!",
          "Hiatari Ryoukou!",
          "MÄR",
          "Bishoujo Senshi Sailor Moon R",
          "Trouble Chocolate",
          "Nanami-chan",
          "Binchou-tan",
          "Bomberman Jetters",
          "Yuki no Joou (TV)",
          "Zoids",
          "Zoids Shinseiki/Zero",
          "Ginyuu Mokushiroku Meine Liebe Wieder",
          "Nanaka 6/17",
          "Gasaraki",
          "Miami Guns",
          "Pugyuru",
          "Shinigami no Ballad.",
          "Ergo Proxy",
          "Oniisama e...",
          "Yomigaeru Sora: Rescue Wings",
          "Kokoro Toshokan",
          "NieA Under 7",
          "Koukaku Kidoutai: Stand Alone Complex 2nd GIG",
          "Android Ana Maico 2010",
          "Chikyuu Shoujo Arjuna",
          "Dragon Ball Z",
          "Tactical Roar",
          "Chicchana Yukitsukai Sugar",
          "Ginsoukikou Ordian",
          "Choujuushin Gravion",
          "Sister Princess: Re Pure",
          "Sister Princess",
          "Narutaru: Mukuro Naru Hoshi Tama Taru Ko",
          "Narue no Sekai",
          "Colorful",
          "Kiba",
          "School Rumble Ni Gakki",
          "Suzumiya Haruhi no Yuuutsu",
          "Gakuen Heaven",
          "Gokinjo Monogatari",
          "Ouran Koukou Host Club",
          "Soul Link",
          "Strawberry Panic",
          "Utawarerumono",
          "Air Gear",
          "Gunparade Orchestra",
          "Digimon Savers",
          "Makai Senki Disgaea",
          "xxxHOLiC",
          "Joshikousei: Girl's High",
          "Kikou Senki Dragonar",
          "Mahou Shoujo-tai Arusu",
          ".hack//Roots",
          "Digimon Tamers",
          "Street Fighter II V",
          "Nana",
          "Zegapain",
          "Simoun",
          "Aa! Megami-sama! Sorezore no Tsubasa",
          "Amaenaide yo!! Katsu!!",
          "Megami Kouhosei",
          "Black Lagoon",
          "Yuusha-Ou GaoGaiGar",
          "Princess Princess",
          "Geneshaft",
          "Himawari!",
          "Ninkuu",
          "Kakutou Bijin Wulong",
          "Ike! Ina-chuu Takkyuu-bu",
          "Ginga Densetsu Weed",
          "Tokkou",
          "Gintama",
          "Ray The Animation",
          "Transformers: Choujin Master Force",
          "Transformers: The☆Headmasters",
          "Tatakae! Chou Robot Seimeitai Transformers Victory",
          "Transformers Superlink",
          "Transformers Galaxy Force",
          "Seisenshi Dunbine",
          "Densetsu Kyojin Ideon",
          "Higurashi no Naku Koro ni",
          "Witchblade",
          "Inukami!",
          "Renkin San-kyuu Magical? Pokaan",
          "Nishi no Yoki Majo: Astraea Testament",
          "Yume Tsukai",
          "The Third: Aoi Hitomi no Shoujo",
          "Chibi Maruko-chan",
          "Magical Nyan Nyan Taruto",
          "Juu Ou Sei",
          "Daikuu Maryuu Gaiking",
          "Saiunkoku Monogatari",
          "Heat Guy J",
          "Shin Chou Kyou Ryo: Condor Hero",
          "Shin Chou Kyou Ryo: Condor Hero II",
          "Virtua Fighter",
          "Aria the Natural",
          "Hit wo Nerae!",
          "Yoshinaga-sanchi no Gargoyle",
          "Crayon Shin-chan",
          "Hokuto no Ken",
          "Kakutou Bijin Wulong: Rebirth",
          "Tsubasa Chronicle 2nd Season",
          "Yokoyama Mitsuteru Sangokushi",
          "Astro Boy: Tetsuwan Atom",
          "Glass no Kantai: La Legende du Vent de l'Univers",
          "Rikujou Bouei-tai Mao-chan",
          "Shinshaku Sengoku Eiyuu Densetsu: Sanada Juu Yuushi The Animation",
          "Kamisama Kazoku",
          "Dual! Parallel Lun-Lun Monogatari",
          "Bishoujo Senshi Sailor Moon: Sailor Stars",
          "Blue Seed",
          "Uchuu Kaizoku Captain Herlock",
          "Star Ocean EX",
          "Le Chevalier D'Eon",
          "Majutsushi Orphen",
          "Majutsushi Orphen: Revenge",
          "Honoo no Mirage",
          "Kaikan Phrase",
          "Generator Gawl",
          "Kachou Ouji",
          "Patalliro Saiyuuki!",
          "Saint Beast: Seijuu Kourin-hen",
          "Mizuiro Jidai",
          "Elf wo Karu Mono-tachi",
          "Elf wo Karu Mono-tachi II",
          "The SoulTaker: Tamashii-gari",
          "Bobobo-bo Bo-bobo",
          "Ippatsu Kiki Musume",
          "Oruchuban Ebichu",
          "Nekojiru Gekijou Jirujiru Original",
          "Touch",
          "Kishin Houkou Demonbane (TV)",
          "Chou Denji Robo Combattler V",
          "Chou Denji Machine Voltes V",
          "Love Get Chu",
          "Hikari to Mizu no Daphne",
          "Ningen Kousaten",
          "Kenran Butou Sai: The Mars Daybreak",
          "Kimagure Orange☆Road",
          "Macross",
          "Oishinbo",
          "Lime-iro Senkitan",
          "Samurai Girl Real Bout High School",
          "Shinkon Gattai Godannar!!",
          "Shinkon Gattai Godannar!! 2nd Season",
          "Senkaiden Houshin Engi",
          "Mermaid Melody Pichi Pichi Pitch Pure",
          "Bouken Ou Beet Excellion",
          "Figure 17: Tsubasa & Hikaru",
          "UFO Princess Valkyrie",
          "UFO Princess Valkyrie 2: Juunigatsu no Yasoukyoku",
          "Digimon Frontier",
          "Tenchi Muyou! GXP",
          "Betterman",
          "Mushrambo",
          "Medarot",
          "Monkey Magic",
          "Hachimitsu to Clover II",
          "Kaze no Youjinbou",
          "Choujuushin Gravion Zwei",
          "I: Wish You Were Here",
          "Final Fantasy: Unlimited",
          "Maze☆Bakunetsu Jikuu (TV)",
          "Neo Ranga",
          "Mahou Senshi Louie",
          "Samurai Gun",
          "Slayers Try",
          "Metal Fighter Miku",
          "Gakuen Senki Muryou",
          "Hyper Police",
          "Lost Universe",
          "Battle Athletess Daiundoukai (TV)",
          "Momoiro Sisters",
          "Eden's Bowy",
          "Happy Seven: The TV Manga",
          "Coyote Ragtime Show",
          "Zero no Tsukaima",
          "Masuda Kousuke Gekijou Gag Manga Biyori",
          "Tsuyokiss",
          "Nintama Rantarou",
          "Gun-dou Musashi",
          "NHK ni Youkoso!",
          "Oban Star-Racers",
          "Binbou Shimai Monogatari",
          "Tonagura!",
          "Chocotto Sister",
          "Demashita! Powerpuff Girls Z",
          "Bokura ga Ita",
          "Aquarian Age: Sign for Evolution",
          "Seihou Tenshi Angel Links",
          "Innocent Venus",
          "Saber Marionette J to X",
          "SF Saiyuuki Starzinger",
          "Bishoujo Senshi Sailor Moon SuperS",
          "Night Head Genesis",
          "Yuugo: Koushounin",
          "Project BLUE Chikyuu SOS",
          "Zone of the Enders: Dolores, I",
          "Erementar Gerad",
          "Fushigi no Umi no Nadia",
          "Saint Seiya",
          "Kyattou Ninden Teyandee",
          "Yoroiden Samurai Troopers",
          "Taiyou no Ko Esteban",
          "Gakkou no Kaidan",
          "Afro Samurai",
          "Urusei Yatsura",
          "Omishi Mahou Gekijou: Risky★Safety",
          "Chikyuu Bouei Kigyou Dai-Guard",
          "Digimon Adventure 02",
          "DT Eightron",
          "Idaten Jump",
          "Hamelin no Violin Hiki",
          "Aoki Densetsu Shoot!",
          "Fushigi na Koala Blinky",
          "Dororon Enma-kun",
          "A.D. Police (TV)",
          "Hokuto no Ken 2",
          "Hi no Tori",
          "Taiho Shichau zo (TV)",
          "Kyoushoku Soukou Guyver (2005)",
          "Watashi no Ashinaga Ojisan",
          "Uchuu Koukyoushi Maetel: Ginga Tetsudou 999 Gaiden",
          "Future GPX Cyber Formula",
          "Macross 7",
          "IGPX: Immortal Grand Prix",
          "IGPX: Immortal Grand Prix (2005) 2nd Season",
          "Lupin III",
          "Lupin III: Part II",
          "Lupin III: Part III",
          "Alexander Senki",
          "Mach GoGoGo",
          "Hyakujuu-Ou GoLion",
          "Brigadoon: Marin to Melan",
          "Maison Ikkoku",
          "Kemonozume",
          "L/R: Licensed by Royal",
          "Uchuu no Kishi Tekkaman",
          "Uchuu no Kishi Tekkaman Blade",
          "Hakaima Sadamitsu",
          "Hakugei Densetsu",
          "Monster Farm: Enbanseki no Himitsu",
          "City Hunter",
          "City Hunter 2",
          "City Hunter 3",
          "City Hunter '91",
          "D.Gray-man",
          "Master Keaton",
          "Akachan to Boku",
          "Kodomo no Omocha (TV)",
          "Ginga Tetsudou Monogatari",
          "Ginga Tetsudou 999",
          "Project ARMS",
          "Project ARMS: The 2nd Chapter",
          "Black Blood Brothers",
          "Mahou Shoujo Pretty Sammy (1996)",
          "Sci-fi Harry",
          "Mamotte! Lollipop",
          "Kirarin☆Revolution",
          "Silent Möbius",
          "Black Lagoon: The Second Barrage",
          "Fuujin Monogatari",
          "Kanon (2006)",
          "Suki na Mono wa Suki Dakara Shou ga Nai!!",
          "Ai Tenshi Densetsu Wedding Peach",
          "Futari wa Precure: Splash☆Star",
          "Death Note",
          "Busou Renkin",
          "Genshi Shounen Ryuu",
          "Pumpkin Scissors",
          "Souten no Ken",
          "Brain Powerd",
          "Yoake Mae yori Ruriiro na: Crescent Love",
          "Negima!?",
          "Obake no Q-tarou",
          "Shin Taketori Monogatari: 1000-nen Joou",
          "Attack No.1",
          "Asatte no Houkou.",
          "Tokimeki Memorial: Only Love",
          "Shounen Onmyouji",
          "Shijou Saikyou no Deshi Kenichi",
          "Lovedol: Lovely Idol",
          "Yamato Nadeshiko Shichihenge♥",
          "Magic Knight Rayearth II",
          "Pokemon Advanced Generation",
          "Pokemon Diamond & Pearl",
          "Kaitou Saint Tail",
          "Sumomomo Momomo: Chijou Saikyou no Yome",
          "Otome wa Boku ni Koishiteru",
          "Happiness!",
          "Ghost Hunt",
          "Jungle Taitei",
          "Kishin Douji Zenki",
          "Get Ride! AMDriver",
          "Code Geass: Hangyaku no Lelouch",
          "Koisuru Tenshi Angelique: Kokoro no Mezameru Toki",
          "Kiniro no Corda: Primo Passo",
          "Gift: Eternal Rainbow",
          "009-1",
          "Tenpou Ibun: Ayakashi Ayashi",
          "Mamoru-kun ni Megami no Shukufuku wo!",
          "Bartender",
          "Legendz: Yomigaeru Ryuuou Densetsu",
          "Kujibiki♥Unbalance",
          "Hataraki Man",
          "Jigoku Shoujo Futakomori",
          "Panyo Panyo Di Gi Charat",
          "Eat-Man '98",
          "Galaxy Angel Rune",
          "Red Garden",
          "Soukou no Strain",
          "Super Robot Taisen OG: Divine Wars",
          "Katekyo Hitman Reborn!",
          "Kekkaishi",
          "Venus Versus Virus",
          "Salaryman Kintarou",
          "Captain Tsubasa: Road to 2002",
          "Massugu ni Ikou.",
          "Soreyuke! Uchuu Senkan Yamamoto Youko (1999)",
          "G-On Riders",
          "Maou Dante",
          "Devilman Lady",
          "Peter Pan no Bouken",
          "Sugar Sugar Rune",
          "Uchuu Senkan Yamato",
          "Uchuu Senkan Yamato 2",
          "Uchuu Senkan Yamato III",
          "Nerima Daikon Brothers",
          "PostPet Momobin",
          "Kurogane Communication",
          "Cutey Honey",
          "Haha wo Tazunete Sanzenri",
          "Babel Nisei (2001)",
          "Babel Nisei",
          "Barom One",
          "Bakuten Shoot Beyblade G Revolution",
          "Bakuten Shoot Beyblade 2002",
          "Bomberman B-Daman Bakugaiden",
          "Bomberman B-Daman Bakugaiden Victory",
          "Captain Tsubasa J",
          "Chou Robot Seimeitai Transformers Micron Densetsu",
          "Cosmo Warrior Zero",
          "Cyborg 009: The Cyborg Soldier",
          "Di Gi Charat Nyo",
          "Dotto Koni-chan",
          "Duel Masters",
          "Nanatsu-iro★Drops",
          "Bokura no",
          "Kaze no Stigma",
          "Reideen",
          "iDOLM@STER Xenoglossia",
          "Les Misérables: Shoujo Cosette",
          "Nodame Cantabile",
          "Romeo x Juliet",
          "Tokyo Tribe 2",
          "Eat-Man",
          "Genma Taisen: Shinwa Zenya no Shou",
          "Gun Frontier",
          "Kinnikuman II Sei",
          "Majuu Sensen: The Apocalypse",
          "Rockman.EXE",
          "Ryuusei Sentai Musumet",
          "Shin Seiki Den Mars",
          "Submarine Super 99",
          "Hitohira",
          "Nagasarete Airantou",
          "Saint October",
          "Devil May Cry",
          "Shinkyoku Soukai Polyphonica",
          "Super GALS! Kotobuki Ran",
          "Naruto: Shippuuden",
          "Uchuu Senshi Baldios",
          "Muteki Kanban Musume",
          "Shibawanko no Wa no Kokoro",
          "Naikaku Kenryoku Hanzai Kyousei Torishimarikan Zaizen Joutarou",
          "Super Milk-chan",
          "Wagamama☆Fairy Mirumo de Pon!",
          "Wild 7 Another Bouryaku Unga",
          "Zoids Fuzors",
          "Oh! Super Milk-chan",
          "Ring ni Kakero 1: Nichibei Kessen-hen",
          "Jikuu Tenshou Nazca",
          "Dae Jang Geum: Jang Geum's Dream",
          "Overman King Gainer",
          "Master Mosquiton '99",
          "Prism Ark",
          "Kamichama Karin",
          "Kyoushirou to Towa no Sora",
          "Hanoka",
          "Sonic X",
          "Claymore",
          "Shin Hakkenden",
          "Deltora Quest",
          "Seirei no Moribito",
          "Ryuusei no Rockman",
          "Shuffle! Memories",
          "Sumeba Miyako no Cosmos-sou Suttoko Taisen Dokkoida",
          "Jagainu-kun",
          "Zero no Tsukaima: Futatsuki no Kishi",
          "Major S3",
          "Clamp Gakuen Tanteidan",
          "Gaiking: Legend of Daiku-Maryu",
          "Princess Nine: Kisaragi Joshikou Yakyuubu",
          "Haou Taikei Ryuu Knight",
          "Hidamari Sketch",
          "Cutey Honey F",
          "Gakuen Utopia Manabi Straight!",
          "Tokyo Majin Gakuen Kenpucho: Tou",
          "Silk Road Shounen Yuuto",
          "Koisuru Tenshi Angelique: Kagayaki no Ashita",
          "Getsumen To Heiki Mina",
          "Giniro no Olynsis: Tokito",
          "Saru Getchu: On Air",
          "Plawres Sanshirou",
          "Kaze no Shoujo Emily",
          "Sasami: Mahou Shoujo Club",
          "Sasami: Mahou Shoujo Club 2",
          "Kappa no Kaikata",
          "Himesama Goyoujin",
          "Master of Epic: The Animation Age",
          "Fushigiboshi no☆Futagohime Gyu!",
          "Lucky☆Star",
          "Higurashi no Naku Koro ni Kai",
          "YAT Anshin! Uchuu Ryokou",
          "YAT Anshin! Uchuu Ryokou 2",
          "Azuki-chan",
          "Zettai Muteki Raijin-Oh",
          "Masou Kishin Cybuster",
          "Marginal Prince: Gekkeiju no Ouji-tachi",
          "Saiunkoku Monogatari 2nd Season",
          "Mahou Shoujo Lyrical Nanoha StrikerS",
          "Futari wa Precure: Max Heart",
          "Yes! Precure 5",
          "Misute♡naide Daisy",
          "Moonlight Mile 1st Season: Lift Off",
          "Rocket Girls",
          "Ashita no Nadja",
          "Kikou Sennyo Rouran",
          "Kimagure Robot",
          "Ikkitousen: Dragon Destiny",
          "Sore Ike! Anpanman",
          "Chikyuu Bouei Kazoku",
          "Sola",
          "Meitantei Holmes",
          "Glass no Kamen (2005)",
          "Mutekiou Tri-Zenon",
          "UFO Robo Grendizer",
          "Wakusei Robo Danguard Ace",
          "Himawari!!",
          "Juusou Kikou Dancougar Nova",
          "Tengen Toppa Gurren Lagann",
          "Heroic Age",
          "Hanada Shounen-shi",
          "Taiho Shichau zo Special",
          "Jigoku Sensei Nube",
          "Taiho Shichau zo: Second Season",
          "Yoshimune",
          "Darker than Black: Kuro no Keiyakusha",
          "Hayate no Gotoku!",
          "El Cazador de la Bruja",
          "Shining Tears X Wind",
          "Wellber no Monogatari: Sisters of Wellber",
          "Lovely★Complex",
          "Eikoku Koi Monogatari Emma: Molders-hen",
          "Cosmic Baton Girl Comet-san☆",
          "Hime-chan no Ribbon",
          "Mahou no Star Magical Emi",
          "Mahou no Yousei Persia",
          "Mahou no Angel Sweet Mint",
          "Ai to Yuuki no Pig Girl Tonde Buurin",
          "Cat's Eye",
          "Mahou no Tenshi Creamy Mami",
          "Kero Kero Chime",
          "Kiko-chan Smile",
          "Kindaichi Shounen no Jikenbo",
          "NG Knight Ramune & 40",
          "VS Knight Lamune & 40 Fire",
          "Choujikuu Seiki Orguss",
          "Seto no Hanayome",
          "Touka Gettan",
          "Kiss Dum: Engage Planet",
          "Rockman.EXE Axess",
          "Rockman.EXE Stream",
          "Rockman.EXE Beast",
          "Over Drive",
          "Tenkuu Senki Shurato",
          "Captain Tsubasa",
          "Chouja Raideen",
          "Yuusha Raideen",
          "True Tears",
          "Kaibutsu Oujo",
          "Blue Dragon",
          "Tanoshii Muumin Ikka",
          "Nils no Fushigi na Tabi",
          "Oh! Edo Rocket",
          "Saint Beast: Kouin Jojishi Tenshi Tan",
          "Kono Aozora ni Yakusoku wo: Youkoso Tsugumi Ryou e",
          "Bakugan Battle Brawlers",
          "Koutetsushin Jeeg",
          "Terra e... (TV)",
          "Ookiku Furikabutte",
          "Skull Man",
          "Koutetsu Sangokushi",
          "Dennou Coil",
          "Gegege no Kitarou (2007)",
          "Doujin Work",
          "Clannad",
          "Muteki Choujin Zanbot 3",
          "Waga Seishun no Arcadia: Mugen Kidou SSX",
          "Karakuri Zoushi Ayatsuri Sakon",
          "Black Jack (TV)",
          "Black Jack 21",
          "Kishin Taisen Gigantic Formula",
          "Shigurui",
          "Aishite Knight",
          "Dr. Slump: Arale-chan",
          "Maple Town Monogatari",
          "Hikari no Densetsu",
          "Alps no Shoujo Heidi",
          "Mori no Tonto-tachi",
          "Lady Lady!!",
          "Honoo no Toukyuuji: Dodge Danpei",
          "Dragon Quest: Dai no Daibouken (TV)",
          "Hana no Ko Lunlun",
          "Miyuki",
          "Funny Pets",
          "Ocha-ken: Chokotto Monogatari",
          "Panda-Z: The Robonimation",
          "Karasu Tengu Kabuto",
          "Rakugo Tennyo Oyui",
          "Seraphim Call",
          "Mononoke",
          "Baccano!",
          "Devilman",
          "Mazinger Z",
          "Sentou Mecha Xabungle",
          "Choujuu Kishin Dancougar",
          "Taiyou no Kiba Dagram",
          "Dr. Rin ni Kiitemite!",
          "Hare Tokidoki Buta (TV)",
          "Jikuu Tantei Genshi-kun",
          "Tezuka Osamu no Kyuuyaku Seisho Monogatari: In the Beginning",
          "Red Baron",
          "Transformers: Car Robots",
          "D.I.C.E.",
          "Kakutou Ryouri Densetsu Bistro Recipe",
          "Akihabara Dennou-gumi",
          "Lime-iro Ryuukitan X",
          "Akakichi no Eleven",
          "Jibaku-kun",
          "Uchuu Densetsu Ulysses 31",
          "Anime Sanjuushi",
          "Kenyuu Densetsu Yaiba",
          "Tetsujin 28-gou (2004)",
          "Sei Juushi Bismarck",
          "Run=Dim",
          "Pokemon Housoukyoku",
          "Virus: Virus Buster Serge",
          "Touma Kishinden Oni",
          "Moetan",
          "Rental Magica",
          "Firestorm",
          "Cybersix",
          "Kagaku Ninja-tai Gatchaman",
          "Hoshi no Kirby",
          "SD Gundam Force",
          "GS Mikami",
          "Ashita no Joe",
          "Kodomo no Jikan (TV)",
          "Zombie-Loan",
          "Hello! Lady Lynn",
          "Sazae-san",
          "Gokudou-kun Manyuuki",
          "Super Fishing Grander Musashi",
          "Grander Musashi RV",
          "Space Cobra",
          "3 Choume no Tama: Uchi no Tama Shirimasen ka?",
          "Doraemon (1979)",
          "School Days",
          "Gear Fighter Dendoh",
          "Takahashi Rumiko Gekijou",
          "Kyouryuu Boukenki Jura Tripper",
          "Onegai My Melody",
          "Goshuushou-sama Ninomiya-kun",
          "Chance Triangle Session",
          "Papuwa",
          "Nangoku Shounen Papuwa-kun",
          "Genshiken 2",
          "Sengoku Majin Goushougun",
          "Masuda Kousuke Gekijou Gag Manga Biyori 2",
          "Haja Kyosei G Dangaiou",
          "Izumo: Takeki Tsurugi no Senki",
          "Lady Georgie",
          "Robin Hood no Daibouken",
          "Kazoku Robinson Hyouryuuki: Fushigi na Shima no Flone",
          "Huckleberry no Bouken",
          "Alps Monogatari: Watashi no Annette",
          "Princess Sara",
          "Ai no Wakakusa Monogatari",
          "Perrine Monogatari",
          "Tetsuko no Tabi",
          "Flanders no Inu",
          "Ai Shoujo Pollyanna Story",
          "Shoukoushi Cedie",
          "Jungle Taitei (1989)",
          "Trapp Ikka Monogatari",
          "Wakakusa Monogatari: Nan to Jo-sensei",
          "Romeo no Aoi Sora",
          "Captain Future",
          "Shion no Ou",
          "Code-E",
          "Jungle Taitei: Susume Leo!",
          "Uchuujin Tanaka Tarou",
          "Pinocchio yori Piccolino no Bouken",
          "Kojika Monogatari",
          "Jungle Book Shounen Mowgli",
          "Ochame na Futago: Claire Gakuin Monogatari",
          "Mitsubachi Maya no Bouken",
          "Fushigi no Kuni no Alice",
          "Minami no Niji no Lucy",
          "Kashi no Ki Mokku",
          "Don Chuck Monogatari",
          "Araiguma Rascal",
          "Tom Sawyer no Bouken",
          "TaoTao Ehonkan Sekai Doubutsu Banashi",
          "Anime 80-nichikan Sekai Isshuu",
          "Kidou Senshi Gundam 00",
          "Soukou Kihei Votoms",
          "D.C.II: Da Capo II",
          "Shinreigari",
          "Juusenki L-Gaim",
          "Kenkou Zenrakei Suiei-bu Umishou",
          "Mushi-Uta",
          "Sky Girls",
          "Sayonara Zetsubou Sensei",
          "Wangan Midnight",
          "Kakyuusei (TV)",
          "Spoon Oba-san",
          "Mirai Shounen Conan 2: Taiga Daibouken",
          "Takarajima",
          "Spider Riders: Oracle no Yuusha-tachi",
          "Spider Riders: Yomigaeru Taiyou",
          "Flanders no Inu, Boku no Patrasche",
          "Teki wa Kaizoku: Neko-tachi no Kyouen",
          "Tokyo Majin Gakuen Kenpucho: Tou Dai Ni Maku",
          "Buzzer Beater 2nd Season",
          "Tetsujin 28-gou",
          "Gokuu no Daibouken",
          "Akai Koudan Zillion",
          "Hidamari no Ki",
          "Uchuu Kaizoku Mito no Daibouken",
          "Uchuu Kaizoku Mito no Daibouken: Futari no Joou-sama",
          "Susie-chan to Marvy",
          "Bakukyuu Renpatsu!! Super B-Daman",
          "Chousoku Spinner",
          "Kaiketsu Jouki Tanteidan",
          "Bakusou Kyoudai Let's & Go",
          "Bakusou Kyoudai Let's & Go WGP",
          "Majime ni Fumajime Kaiketsu Zorori",
          "Wankorobee",
          "Bakusou Kyoudai Let's & Go MAX",
          "Rockman.EXE Beast+",
          "Urayasu Tekkin Kazoku",
          "Ginga Tetsudou Monogatari: Eien e no Bunkiten",
          "Umi no Triton",
          "MapleStory",
          "D4 Princess",
          "Sweet Valerian",
          "Baby Baachan",
          "Mugen Senki Portriss",
          "Mojakou",
          "Kasumin 3rd Season",
          "Monkey Turn",
          "Monkey Turn V",
          "Omoikkiri Kagaku Adventure Sou Nanda!",
          "Potemayo",
          "Tetsuwan Atom",
          "Dash! Kappei",
          "Heisei Inu Monogatari Bow",
          "Juuni Senshi Bakuretsu Eto Ranger",
          "Shippuu! Iron Leaguer",
          "Igano Kabamaru",
          "Super Doll Licca-chan",
          "Galactic Patrol Lensman",
          "Chou Kuse ni Narisou",
          "Juushin Enbu: Hero Tales",
          "Saint Luminous Jogakuin",
          "Oyayubi Hime Monogatari",
          "Bakegyamon",
          "Shakugan no Shana II (Second)",
          "B-Legend! Battle B-Daman",
          "Dragonaut: The Resonance",
          "Hello! Sandybell",
          "Candy Candy",
          "Densetsu no Yuusha da Garn",
          "Hana no Mahoutsukai Mary Bell",
          "Onegai! Samia Don",
          "Yadamon",
          "Fuusen Shoujo Temple-chan",
          "Anime Himitsu no Hanazono",
          "Chiisana Ahiru no Ooki na Ai no Monogatari: Ahiru no Kwak",
          "Dondon Dommel to Ron",
          "Geragera Boes Monogatari",
          "Toushou Daimos",
          "Cinderella Monogatari",
          "Madou King Granzort",
          "Dragon Quest: Yuusha Abel Densetsu",
          "Time Travel Tondekeman!",
          "Bamboo Bears",
          "Barbapapa",
          "Barbapapa Sekai wo Mawaru",
          "Arabian Nights: Sindbad no Bouken (TV)",
          "Oz no Mahoutsukai (TV)",
          "Calimero",
          "Ie Naki Ko",
          "Ie Naki Ko Remy",
          "Miracle☆Girls",
          "Patalliro!",
          "Chiisana Viking Vickie",
          "Anime Oyako Gekijou",
          "Ganbare Goemon",
          "Hakushon Daimaou",
          "Sakigake!! Otokojuku",
          "Code Geass: Hangyaku no Lelouch R2",
          "Cyborg Kuro-chan",
          "Ohayou! Spank",
          "Daisougen no Chiisana Tenshi: Bush Baby",
          "Genki Bakuhatsu Ganbaruger",
          "Ashita no Joe 2",
          "Shugo Chara!",
          "ef: A Tale of Memories.",
          "Myself; Yourself",
          "KimiKiss Pure Rouge",
          "Moonlight Mile 2nd Season: Touch Down",
          "Tensai? Dr. Hamax",
          "Mokke",
          "Mirai Keisatsu Urashiman",
          "Shiawase Sou no Okojo-san",
          "Idol Densetsu Eriko",
          "Sketchbook: Full Color's",
          "Minami-ke",
          "Blue Drop: Tenshi-tachi no Gikyoku",
          "Suteki Tantei Labyrinth",
          "Ookami to Koushinryou",
          "Night Wizard",
          "Kuusou Kagaku Sekai Gulliver Boy",
          "Majin Tantei Nougami Neuro",
          "Bamboo Blade",
          "Ginga Hyouryuu Vifam",
          "Rosario to Vampire",
          "Taiho Shichau zo: Full Throttle",
          "Moyashimon",
          "Gyakkyou Burai Kaiji: Ultimate Survivor",
          "Atashin'chi",
          "Time Bokan Series: Yatterman",
          "Tiger Mask",
          "Kaiketsu Zorro",
          "Gekitou! Crush Gear Turbo",
          "Gu-Gu Ganmo",
          "Yume Senshi Wingman",
          "Haai Step Jun",
          "Esper Mami",
          "Ribbon no Kishi",
          "Chouon Senshi Borgman",
          "Tobe! Isami",
          "Tetsuwan Atom (1980)",
          "Ganbare! Kickers",
          "La Seine no Hoshi",
          "Ninja Senshi Tobikage",
          "Robby to Kerobby",
          "Tondera House no Daibouken",
          "Warau Salesman",
          "Aoki Ryuusei SPT Layzner",
          "Attacker You!",
          "xxxHOLiC◆Kei",
          "Junjou Romantica",
          "Shutsugeki! Machine Robo Rescue",
          "Juusenshi Gulkeeva",
          "F-Zero: Falcon Densetsu",
          "Geisters: Fractions of the Earth",
          "Kaze no Naka no Shoujo: Kinpatsu no Jeanie",
          "Papillon Rose",
          "Chiisana Kyojin Microman",
          "Dash! Yonkurou",
          "Tokimeki Tonight",
          "Kaibutsu-kun",
          "Kaibutsu-kun (1980)",
          "Ashita Tenki ni Naare",
          "Boukensha: The Man Was from Spain",
          "Ochamegami Monogatari: Korokoro Pollon",
          "Tsurikichi Sanpei",
          "GR: Giant Robo",
          "Genei Toushi Bastof Lemon",
          "The Kabocha Wine",
          "Makiba no Shoujo Katri",
          "Ichigo Ichie: Koibana Tomobana",
          "Ayakashi",
          "Nessa no Haou Gandalla",
          "Manga Aesop Monogatari (TV)",
          "Massugu ni Ikou. 2nd Season",
          "Fortune Quest L",
          "Asobot Senki Gokuu",
          "Ningyohime Marina no Bouken",
          "Wakakusa no Charlotte",
          "Nanatsu no Umi no Tico",
          "Pure-tou no Nakama-tachi",
          "Daisuki! Hello Kitty",
          "Cream Lemon: Lemon Angel",
          "Ganbare Genki",
          "Minami-ke Okawari",
          "Major S4",
          "Zoku Sayonara Zetsubou Sensei",
          "Kimi ga Aruji de Shitsuji ga Ore de",
          "Druaga no Tou: The Aegis of Uruk",
          "Gunslinger Girl: Il Teatrino",
          "Elec-king The Animation",
          "Hatara Kids Mai Ham Gumi",
          "Lemon Angel (1988)",
          "Lemon Angel (1988/II)",
          "IGPX: Immortal Grand Prix (2005)",
          "Bakutou Sengen Daigunder",
          "Kinnikuman",
          "Kinnikuman: Kinnikusei Oui Soudatsu-hen",
          "Himitsu no Akko-chan",
          "Vampiyan Kids",
          "Gasshin Sentai Mechander Robo",
          "Yatterman",
          "Aria the Origination",
          "Hatenkou Yuugi",
          "H2O: Footprints in the Sand",
          "Muteki Koujin Daitarn 3",
          "Dr. Slump",
          "Montana Jones",
          "Kikou Keisatsu Metal Jack",
          "Uchuusen Sagittarius",
          "Wagaya no Oinari-sama.",
          "Yuusha Exkaiser",
          "Giant Gorg",
          "Stop!! Hibari-kun!",
          "Haikara-san ga Tooru",
          "Mnemosyne: Mnemosyne no Musume-tachi",
          "Mikan Enikki",
          "Kiddy GiRL-AND",
          "Fortune Dogs",
          "Mahoutsukai Sally",
          "Kure-nai",
          "Amatsuki",
          "UFO Senshi Dai Apolon",
          "RD Sennou Chousashitsu",
          "Persona: Trinity Soul",
          "Shoubushi Densetsu Tetsuya",
          "RGB Adventure",
          "Majokko Megu-chan",
          "Bus Gamer",
          "Maicching Machiko-sensei",
          "Rokushin Gattai GodMars",
          "Blassreiter",
          "Hula Kappa",
          "Jungle no Ouja Tar-chan",
          "Shigofumi",
          "Porphy no Nagai Tabi",
          "Meiken Lassie",
          "Chou Mashin Eiyuuden Wataru",
          "Go-Q-Choji Ikkiman",
          "Hey! Bumboo",
          "Joou Heika no Petite Angie",
          "Meme Iroiro Yume no Tabi",
          "Mister Ajikko",
          "Moero! Top Striker",
          "The☆Ultraman",
          "Space Oz no Bouken",
          "To LOVE-Ru",
          "Vampire Knight",
          "Pi Po Pa Po Patrol-kun",
          "Bosco Daibouken",
          "Kemeko Deluxe!",
          "Nogizaka Haruka no Himitsu",
          "Special A",
          "Yuusha Tokkyuu Might Gaine",
          "Ryuusei no Rockman Tribe",
          "Yume Miru, Anime: on-chan",
          "Wellber no Monogatari: Sisters of Wellber Zwei",
          "Kanokon",
          "Yuusha Shirei Dagwon",
          "Noramimi",
          "Garakuta-doori no Stain",
          "Kochira Katsushikaku Kameari Kouenmae Hashutsujo",
          "Allison to Lillia",
          "Midori no Makibao",
          "Dennou Boukenki Webdiver",
          "Ganbarist! Shun",
          "Mach GoGoGo (1997)",
          "Macross F",
          "Moegaku★5",
          "Kodai Ouja Kyouryuu King",
          "Kyouran Kazoku Nikki",
          "Getter Robo",
          "Soul Eater",
          "Tears to Tiara",
          "Hidamari Sketch x 365",
          "Kikou Kantai Dairugger XV",
          "Toshokan Sensou",
          "Yakushiji Ryouko no Kaiki Jikenbo",
          "Neo Angelique Abyss",
          "Kamen no Maid Guy",
          "Nanako SOS",
          "D.C.II S.S.: Da Capo II Second Season",
          "Miracle Shoujo Limit-chan",
          "Aoi Blink",
          "Bouken Yuuki Pluster World",
          "Kaiketsu Zorori",
          "Kurogane no Linebarrels",
          "Macademi Wasshoi!",
          "Nabari no Ou",
          "Monochrome Factor",
          "Mahou no Idol Pastel Yumi",
          "Strike Witches",
          "Telepathy Shoujo Ran",
          "Kikou Souseiki Mospeada",
          "Tottemo! Luckyman",
          "Nijuu Mensou no Musume",
          "Machine Robo: Cronos no Dai Gyakushuu",
          "Kabatotto",
          "Hatsumei Boy Kanipan",
          "Chou Hatsumei Boy Kanipan",
          "Watashi to Watashi: Futari no Lotte",
          "Yes! Precure 5 GoGo!",
          "Kaiba",
          "Zenryoku Usagi",
          "Hakaba Kitarou",
          "Zero no Tsukaima: Princesses no Rondo",
          "Jigoku Shoujo Mitsuganae",
          "Koala Boy Kokki",
          "Taiko no Tatsujin",
          "Itazura na Kiss",
          "Parappa the Rapper",
          "Usavich II",
          "Maria-sama ga Miteru 4th",
          "Tongari Boushi no Memole",
          "Wanwan Sanjuushi",
          "Pygmalio",
          "Play Ball",
          "Play Ball 2nd",
          "Saiko Robot Kombock",
          "Go! Go! Itsutsugo Land",
          "Arrow Emblem Grand Prix no Taka",
          "Sasuga no Sarutobi",
          "Honoo no Alpenrose: Judy & Randy",
          "Futari Daka",
          "Shirayuki Hime no Densetsu",
          "Mori no Youki na Kobito-tachi: Belfy to Lillibit",
          "Hoshi no Oujisama Petit Prince",
          "Yume no Hoshi no Button Nose",
          "Sasurai no Taiyou",
          "Sougen no Shoujo Laura",
          "Little Lulu to Chicchai Nakama",
          "Dokaben",
          "Ore wa Teppei",
          "Hoshi no Ko Chobin",
          "Ai no Gakkou Cuore Monogatari",
          "Meiken Jolie",
          "Mashin Eiyuuden Wataru",
          "Himitsu no Akko-chan 2",
          "Himitsu no Akko-chan 3",
          "Crystal Blaze",
          "Chi's Sweet Home",
          "Apache Yakyuugun",
          "Mahoutsukai Chappy",
          "Microid S",
          "Konchuu Monogatari Minashigo Hutch",
          "Top Secret: The Revelation",
          "Sakura Momoko Gekijou: Coji-Coji",
          "Kick no Oni",
          "Honey Honey no Suteki na Bouken",
          "Ashita e Free Kick",
          "Mahoutsukai Sally 2",
          "Maeterlinck no Aoi Tori: Tyltyl Mytyl no Bouken Ryokou",
          "Sasurai no Shoujo Nell",
          "Mahou Shoujo Lalabel",
          "Paris no Isabelle",
          "Makyou Densetsu Acrobunch",
          "Majokko Tickle",
          "Sugar Bunnies",
          "Ougon Bat",
          "Ginga Sengoku Gunyuuden Rai",
          "Bikkuriman",
          "Time Bokan",
          "Kidou Senshi Gundam 00 Second Season",
          "Magnerobo Ga-Keen",
          "Karakuri Kiden: Hiwou Senki",
          "Personal Computer Travel Tanteidan",
          "Takoyaki Mant-Man",
          "Jarinko Chie (TV)",
          "Kannagi",
          "Kagaku Kyuujo-tai TechnoVoyager",
          "Yu☆Gi☆Oh! 5D's",
          "Tetsuwan Birdy Decode",
          "Uchi no 3 Shimai",
          "Paul no Miracle Daisakusen",
          "Seiyou Kottou Yougashiten: Antique",
          "Kitty's Paradise",
          "Sanrio Anime Sekai Meisaku Gekijou",
          "Asobou! Hello Kitty",
          "Slayers Revolution",
          "Zettai Karen Children",
          "Golgo 13 (TV)",
          "Youkai Ningen Bem",
          "Mafukiden: Pandarian",
          "Kouchuu Ouja Mushiking: Mori no Tami no Densetsu",
          "Net Ghost Pipopa",
          "Medarot Damashii",
          "Norimono Oukoku BuBu ChaCha",
          "Masuda Kousuke Gekijou Gag Manga Biyori 3",
          "Grimm Meisaku Gekijou",
          "Shin Grimm Meisaku Gekijou",
          "Musashi no Ken",
          "Sekirei",
          "Tytania",
          "Shin Megami Tensei Devil Children",
          "Shin Megami Tensei Devil Children: Light & Dark",
          "Kyouryuu Daisensou Izenborg",
          "Kyou kara Maou! 3rd Series",
          "Natsume Yuujinchou",
          "Wonder Beat Scramble",
          "Muka Muka Paradise",
          "Michiko to Hatchin",
          "Wonder 3",
          "Wan Wan Celepoo Soreyuke! Tetsunoshin",
          "Mini Moni the TV",
          "Mahou no Mako-chan",
          "Onegai My Melody: Kurukuru Shuffle!",
          "Juushin Liger",
          "Meimon! Daisan Yakyuu-bu",
          "Wakakusa no Yon Shimai",
          "Mugen no Juunin",
          "Time Bokan Series: Yattodetaman",
          "Clannad: After Story",
          "Uchuu Taitei God Sigma",
          "Chrome Shelled Regios",
          "Fuyu no Sonata",
          "Popolocrois Monogatari",
          "Hayate no Gotoku!!",
          "Ikkitousen: Great Guardians",
          "Blue Dragon: Tenkai no Shichi Ryuu",
          "Koutetsu Jeeg",
          "Entaku no Kishi Monogatari: Moero Arthur",
          "Tetsujin 28-gou (1980)",
          "Mission-E",
          "Hareluya II Boy",
          "Rosario to Vampire Capu2",
          "Toradora!",
          "Ginga Senpuu Braiger",
          "Ginga Reppuu Baxingar",
          "Ginga Shippuu Sasuraiger",
          "Koihime†Musou",
          "Ultraviolet: Code 044",
          "Bonobono (TV)",
          "Nanami-chan 2nd Series",
          "Nanami-chan 3rd Series",
          "Penguin no Mondai",
          "Seigi wo Aisuru Mono Gekkou Kamen",
          "Heroman",
          "Ashita e Attack!",
          "Fireball",
          "Kyoro-chan",
          "Suzumiya Haruhi no Yuuutsu (2009)",
          "Catman Series III",
          "Mirai Robo Daltanias",
          "World Destruction: Sekai Bokumetsu no Rokunin",
          "Yuusha-Ou GaoGaiGar Final Grand Glorious Gathering",
          "Tatakae!! Ramenman",
          "Kurenai Sanshirou",
          "Duel Masters Charge",
          "Zero Duel Masters",
          "Ojarumaru",
          "Nagagutsu wo Haita Neko no Bouken",
          "Gene Diver",
          "Nodame Cantabile: Paris-hen",
          "Mahoutsukai ni Taisetsu na Koto: Natsu no Sora",
          "Getter Robo G",
          "Choujikuu Kidan Southern Cross",
          "Kinkyuu Hasshin Saver Kids",
          "Hoero! Bun Bun",
          "Seton Doubutsuki: Kuma no Ko Jacky",
          "Seton Doubutsuki: Risu no Banner",
          "Taiyou no Yuusha Fighbird",
          "Muteki Robo Trider G7",
          "RoboDz",
          "Yozakura Quartet",
          "Hokuto no Ken: Raoh Gaiden Ten no Haoh",
          "Hyakko",
          "Hakushaku to Yousei",
          "Sukima no Kuni no Polta",
          "Dokkiri Doctor",
          "Bakukyuu Hit! Crash B-Daman",
          "Saikyou Robot Daiouja",
          "Shikabane Hime: Aka",
          "Topo Gigio",
          "Daisuki! BuBu ChaCha",
          "Yoiko",
          "Kouya no Shounen Isamu",
          "Urikupen Kyuujo-tai",
          "Tanoshii Willow Town",
          "Moero Arthur: Hakuba no Ouji",
          "Yama Nezumi Rocky Chuck",
          "Yumemiru Topo Gigio",
          "RideBack",
          "Yume no Crayon Oukoku",
          "Toaru Majutsu no Index",
          "Arad Senki: Slap Up Party",
          "Neo Angelique Abyss: Second Age",
          "Tekken Chinmi",
          "B-Legend! Battle B-Daman Fire Spirits!",
          "Scarecrowman",
          "Cyborg 009 (1979)",
          "Aesop's World",
          "Queen's Blade: Rurou no Senshi",
          "White Album",
          "Skip Beat!",
          "Seishun Anime Zenshuu",
          "Ga-Rei: Zero",
          "Druaga no Tou: The Sword of Uruk",
          "Himitsukessha Taka no Tsume",
          "Papa to Odorou",
          "Akaneiro ni Somaru Saka",
          "Vampire Knight Guilty",
          "Yamato Takeru",
          "Mama wa Poyopoyo Saurus ga Osuki",
          "ef: A Tale of Melodies.",
          "Huckleberry Finn Monogatari",
          "Suhoyojeong Michel",
          "Mashin Eiyuuden Wataru 2",
          "Hurricane Polymar",
          "Shinzou Ningen Casshern",
          "Junjou Romantica 2",
          "Youkai Ningen Bem (2006)",
          "Tezuka Osamu no Don Dracula",
          "Mouryou no Hako",
          "Tales of the Abyss",
          "Umineko no Naku Koro ni",
          "Kuroshitsuji",
          "Kyou no 5 no 2 (TV)",
          "Mach Girl",
          "Bihada Ichizoku",
          "Idol Tenshi Youkoso Youko",
          "Next Senki Ehrgeiz",
          "Muu no Hakugei",
          "Ikkyuu-san",
          "Ninja Hattori-kun",
          "Sabaku no Kaizoku! Captain Kuppa",
          "Rokumon Tengai Mon Colle Knights",
          "ChäoS;HEAd",
          "Casshern Sins",
          "Asu no Yoichi!",
          "Tentai Senshi Sunred",
          "Piroppo",
          "Toushi Gordian",
          "Ninpuu Kamui Gaiden",
          "Stitch!",
          "Major S5",
          "Maria†Holic",
          "Cobra The Animation",
          "Shikabane Hime: Kuro",
          "Kurozuka",
          "One Outs",
          "Guin Saga",
          "Eightman",
          "Beast Wars Second Chou Seimeitai Transformers",
          "Croket!",
          "Tetsuwan Birdy Decode:02",
          "Yuusha Keisatsu J-Decker",
          "Kurokami The Animation",
          "Bakemonogatari",
          "Battle Spirits: Shounen Toppa Bashin",
          "Fabre-sensei wa Meitantei",
          "Noramimi 2",
          "Manga Sarutobi Sasuke",
          "Andes Shounen Pepero no Bouken",
          "Akikan!",
          "Fullmetal Alchemist: Brotherhood",
          "Jikuu Boukenki Zentrix",
          "Groizer X",
          "Let's Nupu Nupu",
          "Karaoke Senshi Mike-tarou",
          "Taishou Yakyuu Musume.",
          "Tokusou Kihei Dorvack",
          "Hatsukoi Limited.",
          "Kikou Kai Galient",
          "Genji Monogatari Sennenki",
          "Minami-ke Okaeri",
          "Negibouzu no Asatarou",
          "Chou Tokkyuu Hikarian",
          "Dragon League",
          "Offside (TV)",
          "Salad Juu Yuushi Tomatoman",
          "Shin Maple Town Monogatari: Palm Town-hen",
          "Goal FH: Field Hunter",
          "Shangri-La",
          "Robotan (1986)",
          "Souten Kouro",
          "Inazuma Eleven",
          "Slayers Evolution-R",
          "Zettai Yareru Greece Shinwa",
          "Live On Cardliver Kakeru",
          "Mitsume ga Tooru",
          "God Mazinger",
          "Hajime no Ippo: New Challenger",
          "Shugo Chara!! Doki",
          "Gamba no Bouken",
          "Miracle Giants Doumu-kun",
          "Magical★Taruruuto-kun",
          "Happy Happy Clover",
          "Sekirei: Pure Engagement",
          "Totsugeki! Pappara-tai",
          "Ippatsu Kanta-kun",
          "Getter Robo Go",
          "Zoku Natsume Yuujinchou",
          "Akiba-chan",
          "Sora wo Kakeru Shoujo",
          "Astroganger",
          "Bakugan Battle Brawlers: New Vestroia",
          "Ookami to Koushinryou II",
          "Asura Cryin'",
          "Monkey Punch: Manga Katsudou Daishashin",
          "Time Bokan Series: Itadakiman",
          "Sengoku Basara",
          "Canaan",
          "Miracle! Mimika",
          "Gakkyuu Ou Yamazaki",
          "Nekketsu Saikyou Go-Saurer",
          "Usavich III",
          "Kemono no Souja Erin",
          "Ougon Yuusha Goldran",
          "Yoku Wakaru Gendai Mahou",
          "Yattokame Tanteidan",
          "Tsuri Baka Nisshi",
          "Yobarete Tobidete Akubi-chan",
          "Time Bokan 2000: Kaitou Kiramekiman",
          "Fushigi na Melmo",
          "Gozonji! Gekkou Kamen-kun",
          "Bikkuriman 2000",
          "Shin Mazinger Shougeki! Z-hen",
          "Konnichiwa Anne: Before Green Gables",
          "Shinkyoku Soukai Polyphonica Crimson S",
          "Viper's Creed",
          "Senjou no Valkyria",
          "Onegai My Melody Sukkiri♪",
          "07-Ghost",
          "Pandora Hearts",
          "Hai! Akko desu",
          "Fuusen no Doratarou",
          "Natsu no Arashi!",
          "Little El Cid no Bouken",
          "Dokonjou Gaeru",
          "21 Emon",
          "Higashi no Eden",
          "Restol: Teugsu Gujo Dae",
          "Great Mazinger",
          "GA: Geijutsuka Art Design Class",
          "Saki",
          "Basquash!",
          "Kobato.",
          "K-On!",
          "Phantom: Requiem for the Phantom",
          "Fresh Precure!",
          "Gegege no Kitarou (1968)",
          "Nodame Cantabile: Finale",
          "Sora wo Miageru Shoujo no Hitomi ni Utsuru Sekai",
          "Tanoshii Muumin Ikka Bouken Nikki",
          "Kodai Ouja Kyouryuu King: Yokuryuu Densetsu",
          "Tayutama: Kiss on My Deity",
          "Dororo to Hyakkimaru",
          "Uchuu Kuubo Blue Noah",
          "Kupu~!! Mamegoma!",
          "Sakuran Boy DT",
          "Zenmai Zamurai",
          "Blocker Gundan IV Machine Blaster",
          "Tsurupika Hagemaru-kun",
          "Tiger Mask Nisei",
          "Tondemo Senshi Muteking",
          "Kyojin no Hoshi",
          "Hanasakeru Seishounen",
          "Yume wo Kanaeru Zou",
          "Shin Chou Kyou Ryo: Condor Hero III",
          "Examurai Sengoku",
          "Kujira no Josephina",
          "Kousoku Denjin Albegus",
          "Chinpui",
          "Seitokai no Ichizon",
          "Kanamemo",
          "Animation Kikou: Marco Polo no Bouken",
          "Onegai♪My Melody Kirara★",
          "Seiken no Blacksmith",
          "Cross Game",
          "Element Hunters",
          "Mahou no Princess Minky Momo: Yume wo Dakishimete",
          "Sora no Otoshimono",
          "Metal Fight Beyblade",
          "Kinnikuman II Sei: Ultimate Muscle",
          "Kinnikuman II Sei: Ultimate Muscle 2",
          "Fight Ippatsu! Juuden-chan!!",
          "Higepiyo",
          "Ristorante Paradiso",
          "Tsuyoshi Shikkari Shinasai",
          "Sabu to Ichi Torimono Hikae",
          "Jewelpet",
          "Kinpatsu no Jeanie",
          "Nogizaka Haruka no Himitsu: Purezza",
          "Chi's Sweet Home: Atarashii Ouchi",
          "Needless",
          "Dragon Ball Kai",
          "Kimi ni Todoke",
          "F",
          "Sasuke",
          "Moeru! Oniisan",
          "Gregory Horror Show",
          "Ai no Wakakusa Yama Monogatari",
          "Akubi Girl",
          "Jetter Mars",
          "Anmitsu Hime",
          "Sora no Manimani",
          "Shin Koihime†Musou",
          "Rainbow: Nisha Rokubou no Shichinin",
          "Mainichi Kaasan",
          "Gokujou!! Mecha Mote Iinchou",
          "Cookin' Idol Ai! Mai! Main!",
          "Umi Monogatari: Anata ga Ite Kureta Koto",
          "Marie & Gali",
          "Charady no Joke na Mainichi",
          "Chibi Maruko-chan (1995)",
          "Aoi Hana",
          "White Album 2nd Season",
          "Asobi ni Iku yo!",
          "Rita to Nantoka",
          "Princess Lover!",
          "Sasameki Koto",
          "Kämpfer",
          "Tokyo Magnitude 8.0",
          "Toaru Kagaku no Railgun",
          "Koguma no Misha",
          "Manga Sekai Mukashibanashi",
          "Manga Nippon Mukashibanashi (1976)",
          "Perman",
          "Sarutobi Ecchan",
          "Omamori Himari",
          "Baka to Test to Shoukanjuu",
          "Kagaku Ninja-tai Gatchaman II",
          "Kagaku Ninja-tai Gatchaman F",
          "Zan Sayonara Zetsubou Sensei",
          "Strike Witches 2",
          "Chargeman Ken!",
          "Tentou Mushi no Uta",
          "Weiß Survive",
          "Psychoarmor Govarian",
          "Tegamibachi",
          "Yuusei Shounen Papii",
          "Akuu Daisakusen Srungle",
          "Tensai Bakabon",
          "Gakkou no Kowai Uwasa: Hanako-san ga Kita!!",
          "Sugar Bunnies Fleur",
          "Sugar Bunnies Chocolate!",
          "Seikon no Qwaser",
          "Kiteretsu Daihyakka",
          "Chou Seimeitai Transformers Beast Wars Neo",
          "Nyan Koi!",
          "Anime TV de Hakken! Tamagotchi",
          "Porong Porong Pororo",
          "Peeping Life",
          "Angel Beats!",
          "Popee the Performer",
          "Koume-chan ga Iku!",
          "Darker than Black: Ryuusei no Gemini",
          "Hanamaru Youchien",
          "Tentai Senshi Sunred 2nd Season",
          "Super Bikkuriman",
          "Yume-iro Pâtissière",
          "Katanagatari",
          "Kuruneko",
          "Pucca (TV)",
          "Nono-chan",
          "Asari-chan",
          "Queen's Blade: Gyokuza wo Tsugu Mono",
          "Sengoku Basara Ni",
          "Chou Kousoku Galvion",
          "Chuu Bra!!",
          "Unko-san: Tsuiteru Hito ni Shika Mienai Yousei",
          "Video Senshi Lezarion",
          "Reporter Blues",
          "Asura Cryin' 2",
          "11eyes",
          "Jim Button",
          "Fairy Tail",
          "Kuroshitsuji II",
          "Natsu no Arashi! Akinaichuu",
          "Mechakko Dotakon",
          "Tonde Mon Pe",
          "Ultraman Kids no Kotowaza Monogatari",
          "Durarara!!",
          "Dance in the Vampire Bund",
          "Tatakau Shisho: The Book of Bantorra",
          "Dorimogu Daa!!",
          "Shakugan no Shana III (Final)",
          "Kuuchuu Buranko",
          "Pokonyan!",
          "Saa Ikou! Tamagotchi",
          "So Ra No Wo To",
          "InuYasha: Kanketsu-hen",
          "Ukkari Pénélope (2009)",
          "Wansa-kun",
          "Iron Man",
          "Deadman Wonderland",
          "Time Bokan Series: Zenderman",
          "Hakuouki",
          "Stitch! Itazura Alien no Daibouken",
          "Tamagotchi!",
          "Battle Spirits: Shounen Gekiha Dan",
          "Saikyou Bushouden: Sangoku Engi",
          "Tsuideni Tonchinkan",
          "Wolverine",
          "X-Men",
          "Blade",
          "Uchurei!",
          "Working!!",
          "Choujin Sentai Baratack",
          "Gegege no Kitarou (1971)",
          "Senkou no Night Raid",
          "Seikimatsu Occult Gakuin",
          "Shukufuku no Campanella",
          "Kaidan Restaurant",
          "Super Zugan",
          "Uchuu Ace",
          "Shin Calimero",
          "Crush Gear Nitro",
          "Kaichou wa Maid-sama!",
          "Uragiri wa Boku no Namae wo Shitteiru",
          "Hidamari Sketch x ☆☆☆",
          "Ookamikakushi",
          "Danball Senki",
          "Shugo Chara! Party!",
          "Ichiban Ushiro no Daimaou",
          "Miracle☆Train: Oedo-sen e Youkoso",
          "Ougon Senshi Gold Lightan",
          "Gyouten Ningen Batsealer",
          "Ladies versus Butlers!",
          "Anyamal Tantei Kiruminzoo",
          "Yoroshiku Mechadock",
          "Himitsukessha Taka no Tsume Countdown",
          "Cheburashka Arere?",
          "Gokyoudai Monogatari",
          "Kotatsu Neko (TV)",
          "Aoi Bungaku Series",
          "Rose O'Neill Kewpie",
          "Sekai Meisaku Douwa: Wow! Maerchen Oukoku",
          "Naked Wolves",
          "Gegege no Kitarou (1985)",
          "Bakugan Battle Brawlers: Gundalian Invaders",
          "Card Wang: Mix Master",
          "Jankenman",
          "Wrestler Gundan Seisenshi Robin Jr.",
          "Pacusi",
          "Mini Moni Yaru no da Pyon!",
          "Weiß Survive R",
          "Karate Baka Ichidai",
          "Knyacki!",
          "Taichi Senjimon",
          "Kick Off 2002",
          "Gowapper 5 Gordam",
          "Kaitou Reinya",
          "Oh! Family",
          "Ikkitousen: Xtreme Xecutor",
          "Saraiya Goyou",
          "Mayoi Neko Overrun!",
          "Nurarihyon no Mago",
          "Kiss x Sis (TV)",
          "Parasol Henbei",
          "Gegege no Kitarou (1996)",
          "Yousei Dick",
          "Mitsudomoe",
          "The Arari Show",
          "Shounen Santa no Daibouken!",
          "Domo-kun",
          "Heartcatch Precure!",
          "Arakawa Under the Bridge",
          "Major S6",
          "Giant Killing",
          "Shinrei Tantei Yakumo",
          "Bakuman.",
          "Kyouryuu Wakusei",
          "Ookiku Furikabutte: Natsu no Taikai-hen",
          "Hipira-kun",
          "Shiki",
          "DigiGirl Pop!: Strawberry & Pop Mix Flavor",
          "Midnight Horror School",
          "Masuda Kousuke Gekijou Gag Manga Biyori +",
          "Tantei Opera Milky Holmes",
          "Ookami-san to Shichinin no Nakama-tachi",
          "Andersen Monogatari (TV)",
          "Yojouhan Shinwa Taikei",
          "K-On!!",
          "Ring ni Kakero 1: Kage Dou-hen",
          "Zukkoke Knight: Don De La Mancha",
          "B-gata H-kei",
          "Seton Doubutsuki",
          "Gon",
          "Kemono no Souja Erin Recaps",
          "The Marshmallow Times",
          "Cybot Robocchi",
          "Pachislo Kizoku Gin",
          "Shin Obake no Q-tarou",
          "Obake no Q-tarou (1985)",
          "Time Bokan Series: Gyakuten Ippatsuman",
          "Chi-Sui Maru",
          "Sennin Buraku",
          "Shin Koihime†Musou: Otome Tairan",
          "Karakuri Kengou Den Musashi Lord",
          "Highschool of the Dead",
          "Densetsu no Yuusha no Densetsu",
          "Cooking Papa",
          "Kuragehime",
          "Mighty Orbots",
          "Shin Minashigo Hutch",
          "Konchuu Monogatari Minashigo Hutch (1989)",
          "Sockies: Frontier Quest",
          "Gegege no Kitarou: Jigoku-hen",
          "Eagle Sam",
          "Bouken Shounen Shadar",
          "Bouken Korobokkuru",
          "Bouken Gabotenjima",
          "The World of Golden Eggs",
          "Hoshi Shinichi Short Short",
          "Akuma-kun",
          "Guru Guru Town Hanamaru-kun",
          "Hime Chen! Otogi Chikku Idol Lilpri",
          "Hoka Hoka Kazoku",
          "Genji Tsuushin Agedama",
          "Aa Harimanada",
          "Jewelpet Twinkle☆",
          "Baby Felix",
          "Muumin",
          "Muumin (1972)",
          "Anime Yasei no Sakebi",
          "Wanpaku Oomukashi Kum Kum",
          "Rio: Rainbow Gate!",
          "Hyakka Ryouran: Samurai Girls",
          "Ai no Senshi Rainbowman",
          "SD Gundam Sangokuden Brave Battle Warriors",
          "Tegamibachi Reverse",
          "Hanakappa",
          "Ukkari Pénélope",
          "Ketsuinu",
          "Shin Mitsubachi Maya no Bouken",
          "Chogattai Majutsu Robot Ginguiser",
          "Cyborg 009 (TV)",
          "Sora no Otoshimono Forte",
          "Marie & Gali ver. 2.0",
          "Metal Fight Beyblade: Baku",
          "Oi! Ryouma",
          "MM!",
          "Gosick",
          "Hourou Musuko",
          "Animentary: Ketsudan",
          "Togainu no Chi",
          "Otome Youkai Zakuro",
          "Doubutsu Kankyou Kaigi",
          "Chibikko Kaijuu Yadamon",
          "Fushigi Mahou Fun Fun Pharmacy",
          "Baka to Test to Shoukanjuu Ni!",
          "Biriken",
          "Biriken Nandemo Shoukai",
          "Kami nomi zo Shiru Sekai",
          "Fortune Arterial: Akai Yakusoku",
          "Gokujou!! Mecha Mote Iinchou Second Collection",
          "Shin Ace wo Nerae!",
          "Time Bokan Series: Time Patroltai Otasukeman",
          "Shinryaku! Ika Musume",
          "Kotencotenco",
          "Digimon Xros Wars",
          "Hidan no Aria",
          "Seitokai Yakuindomo",
          "Amagami SS",
          "Ryuuichi Manga Gekijou Onbu Obake",
          "Doraemon (2005)",
          "Soredemo Machi wa Mawatteiru",
          "Ultraman Kids: Haha wo Tazunete 3000-man Kounen",
          "Hajime Ningen Gyatoruz",
          "Hajime Ningen Gon",
          "Futarigurashi",
          "Ore no Imouto ga Konnani Kawaii Wake ga Nai",
          "Nobara no Julie",
          "Inakappe Taishou",
          "Panty & Stocking with Garterbelt",
          "Okawari-Boy Starzan-S",
          "Alice SOS",
          "Shounen Ashibe (TV)",
          "Shounen Ashibe 2",
          "Kore wa Zombie desu ka?",
          "Chouriki Robo Galatt",
          "Yosuga no Sora: In Solitude, Where We Are Least Alone.",
          "Dolphin Ouji",
          "Nippon-ichi no Otoko no Tamashii",
          "Nippon-ichi no Otoko no Tamashii 2",
          "Ganbare! Marine Kid",
          "Kaitei Shounen Marine",
          "Saru Getchu: On Air 2nd",
          "Dantalian no Shoka",
          "Mouretsu Pirates",
          "Star Driver: Kagayaki no Takuto",
          "Toaru Majutsu no Index II",
          "Denkou Chou Tokkyuu Hikarian",
          "MonHun Nikki Girigiri Airou Mura: Airou Kiki Ippatsu",
          "Tono to Issho: Ippunkan Gekijou",
          "Stitch!: Zutto Saikou no Tomodachi",
          "Kuruneko 2nd Season",
          "Obake no... Holly",
          "Edokko Boy: Gatten Tasuke",
          "IS: Infinite Stratos",
          "RPG Densetsu Hepoi",
          "Hakuouki: Hekketsuroku",
          "Oden-kun",
          "Arakawa Under the Bridge x Bridge",
          "Nogsaegjeoncha Hamos",
          "Pokemon Best Wishes!",
          "Chirorin Mura Monogatari",
          "Tsuruhime Ja!",
          "Motto To LOVE-Ru",
          "Dae Jang Geum: Jang Geum's Dream 2",
          "Super Robot Taisen OG: The Inspector",
          "Steins;Gate",
          "Bakuhatsu Gorou",
          "Hanasaku Iroha",
          "Fractale",
          "Dragon Crisis!",
          "Yumekui Merry",
          "Gakkou no Kowai Uwasa Shin: Hanako-san ga Kita!!",
          "Battle Spirits: Brave",
          "Freezing",
          "Karl to Fushigi na Tou",
          "Denpa Onna to Seishun Otoko",
          "Chie-chan Funsenki: Jarinko Chie",
          "Ginga Hyouryuu Vifam 13",
          "Miyanishi Tatsuya Gekijou: Omae Umasou da na",
          "Seupideuwang Beongae",
          "Pururun! Shizuku-chan",
          "A-jang.com",
          "Rainbow Sentai Robin",
          "Yume-iro Pâtissière SP Professional",
          "Ninpen Manmaru",
          "Coppelion",
          "Dororon Enma-kun Meeramera",
          "Mitsudomoe Zouryouchuu!",
          "Beelzebub",
          "Ichigo Ichie: Kimi no Kotoba",
          "Zero Tester",
          "Zero Tester: Chikyuu wo Mamore!",
          "Pururun! Shizuku-chan Aha",
          "Cardfight!! Vanguard",
          "Bucket de Gohan",
          "Shokupan Mimi",
          "Tachumaru Gekijou",
          "Oniichan no Koto nanka Zenzen Suki ja Nai n da kara ne!!",
          "Haiyoru! Nyaruani: Remember My Love(craft-sensei)",
          "Big X",
          "30-sai no Hoken Taiiku",
          "Kakko Kawaii Sengen!",
          "Kimi ni Todoke 2nd Season",
          "Moshidora",
          "Maria†Holic Alive",
          "Astarotte no Omocha!",
          "Itsuka Tenma no Kuro Usagi",
          "Mahou Shoujo Madoka★Magica",
          "Shima Shima Tora no Shimajirou",
          "A-Channel",
          "Hyouga Senshi Gaislugger",
          "Shin-Men",
          "Qin Shi Mingyue: Bai Bu Fei Jian",
          "Harimogu Harry",
          "Nyani ga Nyandaa Nyandaa Kamen",
          "Hanasaka Tenshi Tenten-kun",
          "Bit the Cupid",
          "McDull: Chuntian Huahua Zhonghua Bowuguan",
          "Level E",
          "Manga Nihon Emaki",
          "SKET Dance",
          "Chou Supercar Gattiger",
          "High School Mystery: Gakuen Nanafushigi",
          "Osomatsu-kun (1988)",
          "Osomatsu-kun",
          "Shin Bikkuriman",
          "Suite Precure♪",
          "Hamster Club",
          "Captain (TV)",
          "Sue Cat",
          "Samurai Giants",
          "Ao no Exorcist",
          "Oretachi ni Tsubasa wa Nai: Under the Innocent Sky.",
          "Sekaiichi Hatsukoi",
          "Nekogami Yaoyorozu",
          "Maken-Ki!",
          "Ikoku Meiro no Croisée The Animation",
          "Tiger & Bunny",
          "Lan Mao",
          "Gintama'",
          "Kyouryuu Tankentai Born Free",
          "Phi Brain: Kami no Puzzle",
          "Ano Hi Mita Hana no Namae wo Bokutachi wa Mada Shiranai.",
          "Hyouge Mono",
          "Shouwa Monogatari",
          "Yu☆Gi☆Oh! Zexal",
          "Bakuman. 2nd Season",
          "Toriko",
          "Nurarihyon no Mago: Sennen Makyou",
          "Seikon no Qwaser II",
          "Hoshizora e Kakaru Hashi",
          "Kami nomi zo Shiru Sekai II",
          "Fate/Zero",
          "Softenni",
          "Mayo Chiki!",
          "Manga Hajimete Monogatari",
          "Manga Doushite Monogatari",
          "Manga Naruhodo Monogatari",
          "Manga Hajimete Omoshiro Juku",
          "Dog Days",
          "Sacred Seven",
          "No.6",
          "Usagi Drop",
          "C: The Money of Soul and Possibility Control",
          "Nichijou",
          "DD Hokuto no Ken",
          "HenSemi (TV)",
          "Nyanpire The Animation",
          "Bug tte Honey",
          "Maji de Watashi ni Koi Shinasai!",
          "Yondemasu yo, Azazel-san. (TV)",
          "Kaitou Tenshi Twin Angel: Kyun Kyun☆Tokimeki Paradise!!",
          "Uchuu Majin Daikengou",
          "Tamayura: Hitotose",
          "Ki-Fighter Taerang",
          "Mayutoro The Toons",
          "Sekai Monoshiri Ryoko",
          "Ton-Ton Atta to Niigata no Mukashibanashi",
          "Ultra B",
          "Pretty Rhythm: Aurora Dream",
          "Gyakkyou Burai Kaiji: Hakairoku-hen",
          "The iDOLM@STER",
          "Manga Nippon Mukashibanashi",
          "Sengoku Otome: Momoiro Paradox",
          "Chou Dendou Robo Tetsujin 28-gou FX",
          "Uta no☆Prince-sama♪ Maji Love 1000%",
          "Tono to Issho: Gantai no Yabou",
          "Last Exile: Ginyoku no Fam",
          "Honto ni Atta! Reibai Sensei",
          "Ring ni Kakero 1: Sekai Taikai-hen",
          "Happy Kappy",
          "Fireball Charming",
          "Suzy's Zoo: Daisuki! Witzy",
          "Jinrui wa Suitai Shimashita",
          "Jewelpet Sunshine",
          "Kinniku Banzuke: Kongou-kun no Daibouken!",
          "Metal Fight Beyblade 4D",
          "Kamisama Dolls",
          "Shinryaku!? Ika Musume",
          "Natsume Yuujinchou San",
          "Ben-To",
          "Mashiro-iro Symphony: The Color of Lovers",
          "Digimon Xros Wars: Aku no Death General to Nanatsu no Oukoku",
          "Aquarion Evol",
          "Kyoukaisenjou no Horizon",
          "Puu-Neko",
          "Kimi to Boku.",
          "Manyuu Hikenchou",
          "Blood-C",
          "Yuru Yuri",
          "Shiawase Haitatsu Taneko",
          "Inazuma Eleven Go",
          "Usavich IV",
          "Working'!!",
          "Duel Masters Victory",
          "Shinseiki Duel Masters Flash",
          "Duel Masters Zero",
          "Duel Masters Cross",
          "Duel Masters Cross Shock",
          "Fujilog",
          "Genki!! Ekoda-chan",
          "Shuukan Shimakou",
          "Yakyuukyou no Uta",
          "Machine Hayabusa",
          "Kamisama no Memochou",
          "Ro-Kyu-Bu!",
          "C³",
          "Persona 4 the Animation",
          "Rerere no Tensai Bakabon",
          "R-15",
          "Mirai Nikki (TV)",
          "Hayan Ma-eum Baeggu",
          "Shiodome Cable TV",
          "Morita-san wa Mukuchi.",
          "Yasai no Yousei: N.Y.Salad",
          "Yasai no Yousei: N.Y.Salad 2nd Series",
          "Manga Nihon Keizai Nyuumon",
          "Boku wa Tomodachi ga Sukunai",
          "Mawaru Penguindrum",
          "Soccer Fever",
          "Kore wa Zombie desu ka? of the Dead",
          "Guilty Crown",
          "Kayoe! Chuugaku",
          "Un-Go",
          "Chihayafuru",
          "MonHun Nikki Girigiri Airou Mura G",
          "Kidou Senshi Gundam AGE",
          "Pucca (TV) 2nd Season",
          "UFO Senshi Dai Apolon 2",
          "Double-J",
          "Inumarudashi",
          "Penguin no Mondai Max",
          "Penguin no Mondai DX?",
          "Scan2Go",
          "Koukaku Kidoutai: Stand Alone Complex - Tachikoma na Hibi (TV)",
          "Saki Achiga-hen: Episode of Side-A",
          "Dame Oyaji",
          "Jungle Kurobee",
          "Kakko Kawaii Sengen! 2",
          "Pants Pankurou",
          "High Score",
          "Kagaku Bouken-tai Tansar 5",
          "Zettai Zetsumei Dangerous Jiisan (2004)",
          "Stray Sheep: Poe no Chicchana Daibouken",
          "Ganbare!! Nattou-san",
          "Fujilog 2nd Season",
          "Inu x Boku SS",
          "Battle Spirits: Heroes",
          "Muv-Luv Alternative: Total Eclipse",
          "Hunter x Hunter (2011)",
          "Kill Me Baby",
          "Another",
          "Sekaiichi Hatsukoi 2",
          "Cross Fight B-Daman",
          "Papa no Iukoto wo Kikinasai!",
          "Kuma no Puutarou",
          "Hero Hero-kun",
          "Hoshi no Ko Poron",
          "Rinne no Lagrange",
          "Amagami SS+ Plus",
          "Hidamari Sketch x Honeycomb",
          "Brave 10",
          "Manga Nihonshi",
          "Ganso Tensai Bakabon",
          "Akadou Suzunosuke",
          "Black★Rock Shooter (TV)",
          "Zero no Tsukaima F",
          "Tantei Opera Milky Holmes Dai 2 Maku",
          "Shin Tennis no Ouji-sama",
          "Digimon Xros Wars: Toki wo Kakeru Shounen Hunter-tachi",
          "Skyers 5",
          "Iruka to Shounen",
          "Ano Natsu de Matteru",
          "Chibi☆Devi!",
          "Recorder to Randoseru Do♪",
          "Sore Ike! Zukkoke Sannin-gumi",
          "Sankarea",
          "Hello Kitty: Ringo no Mori no Fantasy",
          "Mamimume★Mogacho",
          "Momotarou Densetsu",
          "Ad Lib Anime Kenkyuujo",
          "Happyakuyachou Hyouri Kewaishi",
          "Sengoku☆Paradise Kiwami",
          "Puu-Neko Shougekijou",
          "Perman (1983)",
          "Nisemonogatari",
          "Sono Toki, Shimakou ga Ugoita!",
          "Morita-san wa Mukuchi. 2",
          "High School DxD",
          "Blood Lad",
          "Natsume Yuujinchou Shi",
          "Area no Kishi",
          "Code:Breaker",
          "Chi-Sui Maru 2nd Season",
          "Kimi to Boku. 2",
          "Fate/Zero 2nd Season",
          "Senki Zesshou Symphogear",
          "Sword Art Online",
          "Accel World",
          "Medaka Box",
          "Sekai de Ichiban Tsuyoku Naritai!",
          "Gokujo.: Gokurakuin Joshikou Ryou Monogatari",
          "Kuroko no Basket",
          "Dog Days'",
          "Haiyore! Nyaruko-san",
          "gdgd Fairies",
          "Manga Mitokoumon",
          "Qin Shi Mingyue: Zhu Zi Bai Jia",
          "Zetman",
          "Qin Shi Mingyue: Ye Jin Tianming",
          "Danshi Koukousei no Nichijou",
          "Judo Sanka",
          "Queen's Blade: Rebellion",
          "Oraa Guzura Dado (1987)",
          "Kokoro Connect",
          "Oda Nobuna no Yabou",
          "Poyopoyo Kansatsu Nikki",
          "Kingdom",
          "What's Michael? (TV)",
          "Natsu-iro Kiseki",
          "Yurumates 3D",
          "Wanpaku Tanteidan",
          "AKB0048",
          "Koi to Senkyo to Chocolate",
          "Nihon Omoshiro Mukashibanashi",
          "Mameushi-kun",
          "Hyouka",
          "Smile Precure!",
          "Game Center Arashi",
          "Rinne no Lagrange Season 2",
          "Acchi Kocchi",
          "Campione! Matsurowanu Kamigami to Kamigoroshi no Maou",
          "Thermae Romae",
          "Pecola",
          "Track City",
          "Bakuman. 3rd Season",
          "Shining Hearts: Shiawase no Pan",
          "Mouretsu Atarou (1990)",
          "Oyako Club",
          "Yuru Yuri♪♪",
          "Jormungand",
          "Uchuu Kyoudai",
          "Tasogare Otome x Amnesia",
          "Hiiro no Kakera",
          "Nazo no Kanojo X",
          "Eureka Seven AO",
          "Gregory Horror Show: The Second Guest",
          "Gregory Horror Show: The Last Train",
          "Kyoukaisenjou no Horizon II",
          "Sakamichi no Apollon",
          "Dakara Boku wa, H ga Dekinai.",
          "Sengoku Collection",
          "Morizo to Kikkoro",
          "Danball Senki W",
          "Ozma",
          "Joshiraku",
          "Uta no☆Prince-sama♪ Maji Love 2000%",
          "Phi Brain: Kami no Puzzle - Orpheus Order-hen",
          "0-sen Hayato",
          "Yuuyake Banchou",
          "Yuusei Kamen",
          "Youyou no Neko Tsumami",
          "Yoshimoto Muchikko Monogatari",
          "Yanbou Ninbou Tonbou",
          "Wonder Bebil-kun",
          "Shirokuma Cafe",
          "Umeboshi Denka",
          "Pretty Rhythm: Dear My Future",
          "Ginga e Kickoff!!",
          "Tsuritama",
          "Uchuu Shounen Soran",
          "Uchuu Patrol Hopper",
          "Saint Seiya Omega",
          "AWOL",
          "Jewelpet Kira☆Deco!",
          "Arcana Famiglia",
          "Naruto SD: Rock Lee no Seishun Full-Power Ninden",
          "Arashi no Yoru ni: Himitsu no Tomodachi",
          "Hakuouki: Reimeiroku",
          "Shinsekai yori",
          "Gakkatsu!",
          "Shiba Inuko-san",
          "Baku Tech! Bakugan",
          "Cardfight!! Vanguard: Asia Circuit-hen",
          "Kuromajo-san ga Tooru!!",
          "Hagure Yuusha no Aesthetica",
          "Furusato Saisei: Nippon no Mukashibanashi",
          "Paboo & Mojies",
          "Zoobles!",
          "Little Charo",
          "Little Charo 2",
          "Juusen Battle Monsuno",
          "Monster Farm: Legend e no Michi",
          "Lupin the Third: Mine Fujiko to Iu Onna",
          "Himitsukessha Taka no Tsume Gaiden: Mukashi no Yoshida-kun",
          "Metal Fight Beyblade Zero G",
          "Inazuma Eleven Go: Chrono Stone",
          "Shounen Ninja Kaze no Fujimaru",
          "Jormungand: Perfect Order",
          "Tari Tari",
          "Chouyaku Hyakuninisshu: Uta Koi.",
          "Kono Naka ni Hitori, Imouto ga Iru!",
          "Recorder to Randoseru Re♪",
          "Moyashimon Returns",
          "Himitsukessha Taka no Tsume NEO",
          "Zumomo to Nupepe",
          "Tomodachi 8-nin",
          "Ribbon-chan",
          "Panda no Taputapu",
          "Little Charo: Touhoku-hen",
          "Cofun Gal no Coffy (TV)",
          "Cofun Gal no Coffy Campus Life",
          "Binbougami ga!",
          "Shuukan Storyland",
          "Natsuyuki Rendezvous",
          "Robotics;Notes",
          "Psycho-Pass",
          "Little Busters!",
          "Ore no Imouto ga Konnani Kawaii Wake ga Nai.",
          "To LOVE-Ru Darkness",
          "Tottoko Hamtarou Hai!",
          "Sakura-sou no Pet na Kanojo",
          "Kamen no Ninja Akakage",
          "Mangirl!",
          "Zetsuen no Tempest",
          "Pokemon Best Wishes! Season 2",
          "Girls & Panzer",
          "Oniichan dakedo Ai sae Areba Kankeinai yo ne!",
          "Instant History",
          "Otogi Manga Calendar",
          "Tonari no Kaibutsu-kun",
          "Busou Shinki",
          "Chitose Get You!!",
          "Vividred Operation",
          "Suki tte Ii na yo.",
          "Tanken Driland",
          "Btooom!",
          "Yama no Susume",
          "Chihayafuru 2",
          "K",
          "Minami-ke Tadaima",
          "Magi: The Labyrinth of Magic",
          "Sasami-san@Ganbaranai",
          "Medaka Box Abnormal",
          "Maji de Otaku na English! Ribbon-chan: Eigo de Tatakau Mahou Shoujo",
          "Chikyuu SOS Sore Ike Kororin",
          "Hiiro no Kakera 2",
          "Hayate no Gotoku! Can't Take My Eyes Off You",
          "Yurumates 3D Plus",
          "Kamisama Hajimemashita",
          "JoJo no Kimyou na Bouken (TV)",
          "Chuunibyou demo Koi ga Shitai!",
          "Ore no Kanojo to Osananajimi ga Shuraba Sugiru",
          "Ixion Saga DT",
          "GJ-bu",
          "Yahari Ore no Seishun Love Comedy wa Machigatteiru.",
          "D.C.III: Da Capo III",
          "Fate/kaleid liner Prisma☆Illya",
          "Maoyuu Maou Yuusha",
          "Battle Spirits: Sword Eyes",
          "RDG: Red Data Girl",
          "AKB0048: Next Stage",
          "Boku wa Tomodachi ga Sukunai Next",
          "Chousoku Henkei Gyrozetter",
          "Haitai Nanafa",
          "Litchi DE Hikari Club",
          "Love Live! School Idol Project",
          "Initial D Fifth Stage",
          "Aikatsu!",
          "Robin-kun to 100 nin no Otomodachi Season 2",
          "Amnesia",
          "Cuticle Tantei Inaba",
          "Senran Kagura",
          "Teekyuu",
          "Hentai Ouji to Warawanai Neko.",
          "Wooser no Sono Higurashi",
          "Mondaiji-tachi ga Isekai kara Kuru Sou desu yo?",
          "Hyakka Ryouran: Samurai Bride",
          "Kotoura-san",
          "Gintama': Enchousen",
          "High School DxD New",
          "Hey Yo Yorang",
          "Yu☆Gi☆Oh! Zexal Second",
          "Oshiri Kajiri Mushi (TV)",
          "Cross Fight B-Daman eS",
          "Maken-Ki! Two",
          "Shinkai Densetsu Meremanoid",
          "Date A Live",
          "Brothers Conflict",
          "Cardfight!! Vanguard: Link Joker-hen",
          "Hakkenden: Touhou Hakken Ibun",
          "Phi Brain: Kami no Puzzle - Shukuteki! Rätsel-hen",
          "Nekomonogatari: Kuro",
          "Haiyore! Nyaruko-san W",
          "Tamayura: More Aggressive",
          "Senyuu.",
          "Backstage Idol Story",
          "Senki Zesshou Symphogear G",
          "Beast Saga",
          "Hataraku Maou-sama!",
          "Ginga Kikoutai Majestic Prince",
          "Tamagotchi! Yume Kira Dream",
          "Pyun Pyun Maru",
          "Shin Kyojin no Hoshi",
          "Fantasista Doll",
          "Picchipichi Shizuku-chan",
          "Qin Shi Mingyue: Wanli Changcheng",
          "Yuyushiki",
          "Happy☆Lucky Bikkuriman",
          "Magical Hat",
          "Dokachin",
          "Zettai Karen Children: The Unlimited - Hyoubu Kyousuke",
          "Kamisama no Inai Nichiyoubi",
          "Tokyo Ravens",
          "Greek Roman Sinhwa: Olympus Guardian",
          "Karneval (TV)",
          "Toaru Kagaku no Railgun S",
          "Ro-Kyu-Bu! SS",
          "Nagi no Asu kara",
          "Saki Zenkoku-hen",
          "Machine Robo: Butchigiri Battle Hackers",
          "Choujigen Game Neptune The Animation",
          "Mirai Kara Kita Shounen Super Jetter",
          "Choboraunyopomi Gekijou Ai Mai Mii",
          "Aku no Hana",
          "Bakumatsu Gijinden Roman",
          "Yondemasu yo, Azazel-san. Z",
          "Chikkun Takkun",
          "Ishida to Asakura",
          "Usavich V",
          "Love Lab",
          "Dansai Bunri no Crime Edge",
          "Dog Days''",
          "Norakuro-kun",
          "Photokano",
          "Boku no Imouto wa \"Osaka Okan\"",
          "Tamako Market",
          "Dokidoki! Precure",
          "Surf Side High-School",
          "Shin Kyojin no Hoshi II",
          "Shingeki no Kyojin",
          "Devil Survivor 2 The Animation",
          "Arata Kangatari",
          "Suisei no Gargantia",
          "Ranpou",
          "Ojamanga Yamada-kun",
          "Danganronpa: Kibou no Gakuen to Zetsubou no Koukousei The Animation",
          "Pro Golfer Saru (TV)",
          "Kakumeiki Valvrave",
          "Kami nomi zo Shiru Sekai: Megami-hen",
          "gdgd Fairies 2",
          "Kiniro Mosaic",
          "Watashi ga Motenai no wa Dou Kangaetemo Omaera ga Warui!",
          "Makai Ouji: Devils and Realist",
          "Kuroko no Basket 2nd Season",
          "Line Offline: Salaryman",
          "Ganbare! Oden-kun",
          "Namiuchigiwa no Muromi-san",
          "Gin no Saji",
          "Hayate no Gotoku! Cuties",
          "Monogatari Series: Second Season",
          "Soukyuu no Fafner: Dead Aggressor - Exodus",
          "Aiura",
          "Agigongryong Doolie (1988)",
          "Agigongryong Doolie",
          "Agigongryong Doolie (2009)",
          "Dallyeola Hani",
          "Lolling Seutajeu",
          "Wala! Pyeon-uijeom The Animation",
          "Pokemon Best Wishes! Season 2: Episode N",
          "Chokkyuu Hyoudai Robot Anime: Straight Title",
          "Kara The Animation",
          "Gakkatsu! 2nd Season",
          "Shouwa Ahozoushi Akanuke Ichiban!",
          "Machine-Doll wa Kizutsukanai",
          "Pretty Rhythm: Rainbow Live",
          "Log Horizon",
          "Futari wa Milky Holmes",
          "Jinzou Konchuu Kabutoborg VxV",
          "Shin Pro Golfer Saru",
          "Tenpou Suikoden Neo",
          "Kingdom 2nd Season",
          "Pink Lady Monogatari: Eikou no Tenshi-tachi",
          "Chingou Muchabee",
          "Otoko Ippiki Gaki Daishou",
          "Tantei Shounen Kageman",
          "Jewelpet Happiness",
          "Mushibugyou",
          "Diabolik Lovers",
          "Ookami Shounen Ken",
          "Non Non Biyori",
          "Konpora Kid",
          "Non-tan to Issho",
          "Poka Poka Mori no Rascal",
          "Souya Monogatari",
          "Futago no Monchhichi",
          "Omakase Scrappers",
          "Genei wo Kakeru Taiyou",
          "Harisu no Kaze",
          "Kunimatsu-sama no Otoridai",
          "Animal 1",
          "Zettai Bouei Leviathan",
          "Bemubemu Hunter Kotengu Tenmaru",
          "Danchi Tomoo",
          "DD Hokuto no Ken (2013)",
          "Glass no Kamen desu ga",
          "Haitai Nanafa 2nd Season",
          "Grisaia no Kajitsu",
          "Ketsuekigata-kun!",
          "Dibetagurashi: Ahiru no Seikatsu",
          "Kimi no Iru Machi",
          "Saikin, Imouto no Yousu ga Chotto Okashiinda ga.",
          "Stella Jogakuin Koutou-ka C³-bu",
          "Daitoshokan no Hitsujikai",
          "Inu to Hasami wa Tsukaiyou",
          "Sparrow's Hotel",
          "Pokemon Best Wishes! Season 2: Decolora Adventure",
          "Golden Time",
          "Uchouten Kazoku",
          "Danball Senki Wars",
          "Houkago no Pleiades (TV)",
          "Tanken Driland: 1000-nen no Mahou",
          "Freezing Vibration",
          "Forza! Hidemaru",
          "Rozen Maiden (2013)",
          "Hakkenden: Touhou Hakken Ibun 2nd Season",
          "Nourin",
          "Inazuma Eleven Go: Galaxy",
          "Recorder to Randoseru Mi☆",
          "Magi: The Kingdom of Magic",
          "Servant x Service",
          "Teekyuu 2",
          "Ikeike! Momon-chan",
          "Train Heroes",
          "Tonari no Seki-kun",
          "Kyoukai no Kanata",
          "Line Town",
          "Yowamushi Pedal",
          "Boku wa Ou-sama (TV)",
          "Little Busters! Refrain",
          "World Fool News (TV)",
          "Bakujuu Gasshin Ziguru Hazeru",
          "Gatchaman Crowds",
          "Himitsukessha Taka no Tsume MAX",
          "White Album 2",
          "IS: Infinite Stratos 2",
          "Strike the Blood",
          "Kakumeiki Valvrave 2nd Season",
          "Mazinger ZIP!",
          "Mini Van",
          "Gingitsune",
          "Spheres",
          "Genshiken Nidaime",
          "Odoriko Clinoppe",
          "Kitaku-bu Katsudou Kiroku",
          "Yozakura Quartet: Hana no Uta",
          "Free!",
          "Senyuu. 2",
          "Noobow",
          "Akane-chan",
          "Chuunibyou demo Koi ga Shitai! Ren",
          "Yuusha ni Narenakatta Ore wa Shibushibu Shuushoku wo Ketsui Shimashita.",
          "Kill la Kill",
          "Diamond no Ace",
          "BlazBlue: Alter Memory",
          "Gifuu Doudou!!: Kanetsugu to Keiji",
          "Alice Tantei Kyoku",
          "Ninja Hattori-kun (2012)",
          "Aoki Hagane no Arpeggio: Ars Nova",
          "Nisekoi",
          "Hakken Taiken Daisuki! Shimajirou",
          "Shimajirou Hesoka",
          "Shimajirou no Wow!",
          "Yuuto-kun ga Iku",
          "Wake Up, Girls!",
          "Future Card Buddyfight",
          "Kaiketsu Tamagon",
          "Love Live! School Idol Project 2nd Season",
          "Toaru Hikuushi e no Koiuta",
          "Doctor Chichibuyama",
          "Walkure Romanze",
          "Youkai Watch",
          "Date A Live II",
          "Maji de Otaku na English! Ribbon-chan: Eigo de Tatakau Mahou Shoujo - The TV",
          "Ore no Nounai Sentakushi ga, Gakuen Love Comedy wo Zenryoku de Jama Shiteiru",
          "Megane-bu!",
          "Pokemon XY",
          "Nyuru Nyuru!! Kakusen-kun",
          "Turuturutu Narongi",
          "Pupa",
          "Gundam Build Fighters",
          "Kwaegeol Longman Narongi",
          "Gin no Saji 2nd Season",
          "Samurai Flamenco",
          "Galilei Donna",
          "Outbreak Company",
          "Yami Shibai",
          "Akuma no Riddle",
          "Tetsujin 28-gou Gao!",
          "Green Saver",
          "Revbahaf Wang-gug Jaegeon-soelgi",
          "Giga Tribe",
          "Kaizoku Ouji",
          "Kobo-chan",
          "Hajime no Ippo: Rising",
          "Hustle Punch",
          "Kanojo ga Flag wo Oraretara",
          "Kyousou Giga (TV)",
          "Oshiri Kajiri Mushi (TV) 2nd Season",
          "Mahou Sensou",
          "Sidonia no Kishi",
          "No Game No Life",
          "Saikyou Ginga Ultimate Zero: Battle Spirits",
          "Ore wa Chokkaku",
          "Super Seisyun Brothers",
          "Tamagotchi! Miracle Friends",
          "Nobunagun",
          "Gaist Crusher",
          "Marude Dameo",
          "Robotan",
          "Battle Spirits: Sword Eyes Gekitouden",
          "Donkikko",
          "Tesagure! Bukatsumono",
          "Ikkyuu-san (1978)",
          "Barbapapa (1977)",
          "Heisei Tensai Bakabon",
          "Ikinari Dagon",
          "Shisukon Ouji",
          "Uchuujin Pipi",
          "Kaitou Pride",
          "Tatakae! Osper",
          "Tobidase! Bacchiri",
          "Kaminari Boy Pikkari★bee",
          "King Kong: 001/7 Tom Thumb",
          "Fight Da!! Pyuta",
          "Sobakasu Pucchi",
          "Mouretsu Atarou",
          "Roppou Yabure-kun",
          "Pinch to Punch",
          "Doubutsu Mura Monogatari",
          "Otanoshimi Anime Gekijou",
          "Itazura Tenshi Chippo-chan",
          "Nihon Meisaku Douwa Series: Akai Tori no Kokoro",
          "D-Frag!",
          "Miss Monochrome The Animation",
          "Sakura Trick",
          "Wizard Barristers: Benmashi Cecil",
          "Space☆Dandy",
          "Obocchama-kun",
          "Dotanba no Manners",
          "Ijiwaru Baasan",
          "Ijiwaru Baasan (1996)",
          "Doteraman",
          "Only You: Viva! Cabaret Club",
          "Treasure Gaust",
          "Gekisou! Rubenkaiser",
          "Kotowaza House",
          "Kappamaki",
          "Tobidase! Machine Hiryuu",
          "Kariage-kun",
          "Robokko Beeton",
          "Mori no Senshi Bonolon",
          "Manga Ijin Monogatari",
          "Ganbare Gonbe",
          "Easy Cooking Animation: Seishun no Shokutaku",
          "Shounen Tokugawa Ieyasu",
          "Manga Kodomo Bunko",
          "Tonari no Tamageta-kun",
          "Anime Document: München e no Michi",
          "Hana no Kakarichou",
          "Gatapishi",
          "Wooser no Sono Higurashi: Kakusei-hen",
          "Koroshiya-san: The Hired Gun",
          "Hoozuki no Reitetsu",
          "Inari, Konkon, Koi Iroha.",
          "Teekyuu 3",
          "Noragami",
          "Fate/kaleid liner Prisma☆Illya 2wei!",
          "Z/X: Ignition",
          "Mikakunin de Shinkoukei",
          "SoniAni: Super Sonico The Animation",
          "Haikyuu!!",
          "Kyoufu no Kyou-chan",
          "Hamatora The Animation",
          "Sabage-bu!",
          "Ganbare! Lulu Lolo",
          "Mahouka Koukou no Rettousei",
          "Black Bullet",
          "Seitokai Yakuindomo*",
          "Hitsugi no Chaika",
          "JoJo no Kimyou na Bouken Part 3: Stardust Crusaders",
          "Oneechan ga Kita",
          "Iron Kid",
          "Kiniro no Corda: Blue♪Sky",
          "Sekai Seifuku: Bouryaku no Zvezda",
          "Marvel Disk Wars: The Avengers",
          "Noonbory",
          "Seikoku no Dragonar",
          "Gatchaman Crowds Insight",
          "Ikemen Kyuugo-tai Nurse Angels",
          "Strange+",
          "Witch Craft Works",
          "Love Stage!!",
          "Escha & Logy no Atelier: Tasogare no Sora no Renkinjutsushi",
          "Nobunaga the Fool",
          "Baby Steps",
          "Go! Go! 575",
          "Gochuumon wa Usagi desu ka?",
          "Pupipo!",
          "Isshuukan Friends.",
          "Tokyo ESP",
          "Bokura wa Minna Kawai-sou",
          "Happiness Charge Precure!",
          "Mahou Shoujo Taisen",
          "Minna Atsumare! Falcom Gakuen",
          "Gokukoku no Brynhildr",
          "Chou Zenmairobo: Patrasche",
          "Yama no Susume Second Season",
          "Buddy Complex",
          "Uta no☆Prince-sama♪ Maji Love Revolutions",
          "Meitantei Rascal",
          "Sanchoume no Yuuhi",
          "Dokkan! Robotendon",
          "Shin Dokonjou Gaeru",
          "Ninjaman Ippei",
          "Soul Eater NOT!",
          "Kantai Collection: KanColle",
          "Baku Tech! Bakugan Gachi",
          "Oraa Guzura Dado",
          "Hitotsuboshi-ke no Ultra Baasan",
          "Asobo Toy-chan",
          "Ryuugajou Nanana no Maizoukin",
          "Kamigami no Asobi",
          "Senki Zesshou Symphogear GX",
          "Mekakucity Actors",
          "Yu☆Gi☆Oh! Arc-V",
          "Keroro",
          "Captain Earth",
          "Hanayamata",
          "Cardfight!! Vanguard: Legion Mate-hen",
          "Donten ni Warau",
          "Kenzen Robo Daimidaler",
          "Fuuun Ishin Dai☆Shogun",
          "Majin Bone",
          "Shingeki no Bahamut: Genesis",
          "Ushinawareta Mirai wo Motomete",
          "Tesagure! Bukatsumono Encore",
          "Hanamonogatari",
          "Mangaka-san to Assistant-san to The Animation",
          "High Score Girl",
          "Sword Art Online II",
          "Mushishi Zoku Shou",
          "Pic-lele",
          "Ao Haru Ride",
          "Duel Masters Victory V",
          "Duel Masters Victory V3",
          "Koukaku Kidoutai Nyuumon Arise",
          "Fairy Tail (2014)",
          "T-Rex",
          "Hero Bank",
          "Soredemo Sekai wa Utsukushii",
          "Inugami-san to Nekoyama-san",
          "Ping Pong the Animation",
          "Kuroshitsuji: Book of Circus",
          "Amagi Brilliant Park",
          "Futsuu no Joshikousei ga [Locodol] Yattemita.",
          "Akame ga Kill!",
          "Pretty Rhythm: All Star Selection",
          "Warera Salaryman Tou",
          "Monoshiri Daigaku: Ashita no Calendar",
          "Momo Kyun Sword",
          "Azumi Mamma★Mia",
          "Free! Eternal Summer",
          "Selector Infected WIXOSS",
          "Fate/stay night: Unlimited Blade Works",
          "Shinken Densetsu: Tight Road",
          "Tokyo Ghoul",
          "Funny Pets 2nd Season",
          "Sanzoku no Musume Ronja",
          "Nandaka Velonica",
          "Break Blade",
          "Hello Kitty: Ringo no Mori no Mystery",
          "Hello Kitty: Ringo no Mori to Parallel Town",
          "KutsuDaru.",
          "Washimo",
          "Initial D Final Stage",
          "Manga Nihonshi (NHK Han)",
          "Kiseijuu: Sei no Kakuritsu",
          "Yami Shibai 2",
          "Oniku Daisuki! Zeushi-kun",
          "Blade & Soul",
          "Nukko.",
          "Kero Kero Keroppi: Hasunoue Town Kiki Ippatsu!",
          "Seiken Tsukai no World Break",
          "Gohan Kaijuu Pap",
          "Terra Formars",
          "Lady Jewelpet",
          "Zettai Zetsumei Dangerous Jiisan (2005)",
          "Aldnoah.Zero",
          "Dragon Collection",
          "Oreca Battle",
          "Chikasugi Idol Akae-chan",
          "Dragon Ball Kai (2014)",
          "Barakamon",
          "Kindaichi Shounen no Jikenbo Returns",
          "Himitsukessha Taka no Tsume EX",
          "Abarenbou Rikishi!! Matsutarou",
          "Himegoto",
          "Nyamen",
          "Rokujouma no Shinryakusha!?",
          "Seireitsukai no Blade Dance",
          "Mon Cheri CoCo",
          "Francesca",
          "Shin Skyers 5",
          "Nippon Tanjou",
          "Manga Jinbutsushi",
          "Otoko Doahou! Koushien",
          "Norakuro",
          "Hazedon",
          "Bakumatsu Rock",
          "Tenkai Knights",
          "Glasslip",
          "GO-GO Tamagotchi!",
          "Jinsei",
          "M3: Sono Kuroki Hagane",
          "PriPara",
          "47 Todoufuken R",
          "Shounen Hollywood: Holly Stage for 49",
          "Durarara!!x2 Shou",
          "Sengoku Basara: Judge End",
          "Sora no Method",
          "Kantoku Fuyuki Todoki",
          "Meshimase Lodoss-tou Senki: Sorette Oishii no?",
          "Shinmai Maou no Testament",
          "Gugure! Kokkuri-san",
          "Gundam: G no Reconguista",
          "Hello!! Kiniro Mosaic",
          "Shigatsu wa Kimi no Uso",
          "Saenai Heroine no Sodatekata",
          "Psycho-Pass 2",
          "Zankyou no Terror",
          "Gekkan Shoujo Nozaki-kun",
          "Rail Wars!",
          "Garo: Honoo no Kokuin",
          "Zettai Zetsumei Dangerous Jiisan",
          "Log Horizon 2nd Season",
          "Shirogane no Ishi: Argevollen",
          "Space☆Dandy 2nd Season",
          "DRAMAtical Murder",
          "Gan to Gon",
          "Kirin Monoshiri Yakata",
          "Youkaiden Nekome Kozou",
          "Minarai Diva",
          "Shin Don Chuck Monogatari",
          "Duel Masters VS",
          "Re:␣Hamatora",
          "Shin Strange+",
          "Choubakuretsu Ijigen Menko Battle: Gigant Shooter Tsukasa",
          "Gudetama",
          "Choboraunyopomi Gekijou Dai Ni Maku Ai Mai Mii: Mousou Catastrophe",
          "Neko no Dayan",
          "The iDOLM@STER Cinderella Girls",
          "Gaki Deka",
          "Non Non Biyori Repeat",
          "Ookami Shoujo to Kuro Ouji",
          "Carino Coni",
          "Neko Pitcher",
          "Nanatsu no Taizai",
          "Hi☆sCoool! SeHa Girls",
          "Dango San Kyoudai Attoiuma Gekijou",
          "Komatsu Sakyo Anime Gekijou",
          "Yahari Ore no Seishun Love Comedy wa Machigatteiru. Zoku",
          "Lovely Movie: Itoshi no Muco",
          "Lovely Movie: Itoshi no Muco Season 2",
          "Majimoji Rurumo",
          "Fuku-chan",
          "Lance N' Masques",
          "Denki-gai no Honya-san",
          "Selector Spread WIXOSS",
          "Jarujio Animal",
          "Persona 4 the Golden Animation",
          "Patta Potta Monta",
          "Taimadou Gakuen 35 Shiken Shoutai",
          "Nobunaga Concerto",
          "Orenchi no Furo Jijou",
          "Hitsugi no Chaika: Avenging Battle",
          "Yowamushi Pedal: Grande Road",
          "World Trigger",
          "Kuroko no Basket 3rd Season",
          "Maido! Urayasu Tekkin Kazoku",
          "Kekkai Sensen",
          "Madan no Ou to Vanadis",
          "Heli-Tako Puu-chan",
          "Gundam Build Fighters Try",
          "Koufuku Graffiti",
          "Dororonpa!",
          "Ai Tenchi Muyou!",
          "Mushishi Zoku Shou 2nd Season",
          "High School DxD BorN",
          "Ore, Twintail ni Narimasu.",
          "Gakkougurashi!",
          "Ansatsu Kyoushitsu",
          "Kidou Senshi Gundam-san",
          "Nyanfuru",
          "Girlfriend (Kari)",
          "Juuou Mujin no Fafnir",
          "Barnacle Lou",
          "Sidonia no Kishi: Daikyuu Wakusei Seneki",
          "Kaitou Joker",
          "Sumiko (TV)",
          "Akatsuki no Yona",
          "Anime Roukyoku Kikou Shimizu no Jirochouden",
          "Ore ga Ojousama Gakkou ni \"Shomin Sample\" Toshite Gets♥Sareta Ken",
          "Oh! My Konbu",
          "Trinity Seven",
          "Inou-Battle wa Nichijou-kei no Naka de",
          "Gangsta.",
          "Kuusen Madoushi Kouhosei no Kyoukan",
          "Absolute Duo",
          "Isuca",
          "Fuusen Inu Tinny",
          "Magic Kaito 1412",
          "Yuuki Yuuna wa Yuusha de Aru",
          "Genki Genki Non-tan",
          "Genki Genki Non-tan (2004)",
          "Genki Genki Non-tan (2006)",
          "Junjou Romantica 3",
          "Kamisama Hajimemashita◎",
          "AIUEO Anime Sekai no Douwa: Aesop Monogatari Anime Series",
          "Cross Ange: Tenshi to Ryuu no Rondo",
          "Shingeki no Kyojin Season 2",
          "Oretachi Ijiwaru Kei",
          "Shirobako",
          "Re-Kan!",
          "Rolling☆Girls",
          "Working!!!",
          "Mahou Shoujo Lyrical Nanoha ViVid",
          "Minna Atsumare! Falcom Gakuen SC",
          "JoJo no Kimyou na Bouken Part 3: Stardust Crusaders 2nd Season",
          "Military!",
          "Mama Ohanashi Kikasete",
          "Gutchonpa Omoshiro Hanashi",
          "Ganbare! Lulu Lolo 2nd Season",
          "Yuri Kuma Arashi",
          "Owari no Seraph",
          "Danna ga Nani wo Itteiru ka Wakaranai Ken",
          "Nagato Yuki-chan no Shoushitsu",
          "Teekyuu 4",
          "Junketsu no Maria",
          "Triage X",
          "Tribe Cool Crew",
          "Eigo de Asobo: Tanken Goblin Tou",
          "Kyuumei Senshi Nanosaver",
          "Show By Rock!!",
          "Porong Porong Pororo 2",
          "Porong Porong Pororo 3",
          "Porong Porong Pororo 4",
          "Porong Porong Pororo 5",
          "Konna Watashitachi ga Nariyuki de Heroine ni Natta Kekka www (TV)",
          "Gra-P & Rodeo",
          "Fate/kaleid liner Prisma☆Illya 2wei Herz!",
          "47 Todoufuken",
          "Glass no Kamen desu ga to Z",
          "Tantei Kageki Milky Holmes TD",
          "God Eater",
          "Aldnoah.Zero Part 2",
          "Baby Steps 2nd Season",
          "Sasurai-kun",
          "Oshiri Kajiri Mushi (TV) 3rd Season",
          "Heart Cocktail",
          "Kasumin",
          "Kasumin 2nd Season",
          "Binan Koukou Chikyuu Bouei-bu LOVE!",
          "Battle Spirits: Burning Soul",
          "Shounen Hollywood: Holly Stage for 50",
          "Anisava",
          "Plastic Memories",
          "Doamaiger D",
          "Nisekoi:",
          "Cardfight!! Vanguard G",
          "Heavy Object",
          "Durarara!!x2 Ten",
          "Durarara!!x2 Ketsu",
          "Tokyo Ghoul √A",
          "Urawa no Usagi-chan",
          "Nano Invaders",
          "Lupin III (2015)",
          "Maboroshi Mabo-chan",
          "Hibike! Euphonium",
          "K: Return of Kings",
          "Macross Δ",
          "Slippy Dandy",
          "Tsukimonogatari",
          "Itsumo Kokoro ni Taiyou wo!",
          "Oyo Neko Bunyan",
          "Dungeon ni Deai wo Motomeru no wa Machigatteiru Darou ka",
          "Johnny Cypher",
          "Yoru no Yatterman",
          "Shokugeki no Souma",
          "Ketsuekigata-kun! 2",
          "Etotama",
          "Death Parade",
          "Pankis! 2-jigen",
          "Arslan Senki (TV)",
          "Sengoku Musou",
          "Ore Monogatari!!",
          "Joukamachi no Dandelion",
          "Ao no Kanata no Four Rhythm",
          "Q Transformers: Kaette Kita Convoy no Nazo",
          "Kyoukai no Rinne",
          "Rokka no Yuusha",
          "Garo: Guren no Tsuki",
          "Pac-World",
          "Punch Line",
          "Ranpo Kitan: Game of Laplace",
          "Subete ga F ni Naru",
          "Koutetsujou no Kabaneri",
          "Go! Princess Precure",
          "Yamada-kun to 7-nin no Majo",
          "Fate/stay night: Unlimited Blade Works 2nd Season",
          "Shouwa Genroku Rakugo Shinjuu",
          "Gunslinger Stratos The Animation",
          "Mikagura Gakuen Kumikyoku (TV)",
          "Okusama ga Seitokaichou!",
          "Himouto! Umaru-chan",
          "Chain Chronicle: Haecceitas no Hikari",
          "Tesagure! Bukatsumono Spin-off Purupurun Sharumu to Asobou",
          "Takamiya Nasuno desu! Teekyuu Spin-off",
          "Kaitou Joker 2nd Season",
          "Hidan no Aria AA",
          "Haikyuu!! Second Season",
          "Gate: Jieitai Kanochi nite, Kaku Tatakaeri",
          "Owari no Seraph: Nagoya Kessen-hen",
          "Vampire Holmes",
          "Gintama°",
          "To LOVE-Ru Darkness 2nd",
          "Ame-iro Cocoa",
          "Charlotte",
          "Lena Lena",
          "Wooser no Sono Higurashi: Mugen-hen",
          "Danna ga Nani wo Itteiru ka Wakaranai Ken 2 Sure-me",
          "Grisaia no Rakuen",
          "Washimo 2nd Season",
          "Sore ga Seiyuu!",
          "Koukaku Kidoutai Arise: Alternative Architecture",
          "Jam the Housnail",
          "Tick & Tack",
          "Bip to Bap",
          "Robot Pulta",
          "Chii-chan to Hige Ojisan",
          "Momonga-mon",
          "Shiro Hon",
          "Ousama Monogatari",
          "Shiritori Oukoku",
          "Liv & Bell",
          "Mori no Ratio",
          "Straw Byururu",
          "Ken to Kaijuu",
          "Ongaku Sekai Ryokou",
          "Bubaga",
          "Daisuki! Nendomama",
          "Saikin Ponta",
          "Toko-chan Chokkin",
          "Talpy",
          "Paniponi",
          "Karasu no Puuta",
          "Hamster Sam",
          "Denpa Kyoushi",
          "Duel Masters VSR",
          "Nar Doma",
          "Eikoku Ikka, Nihon wo Taberu",
          "Konchuu Monogatari Tentoumu Chu! to Mitsubachi Hatsu Chu!",
          "Notteke Explet's",
          "ColoColo Animal",
          "Kaden Manzai John TV Show!",
          "Warai no Show Gakkou",
          "Kabushiki Kaisha Zoo",
          "Taboo Tattoo",
          "ColoColo Animal 2",
          "Jitsu wa Watashi wa",
          "Shimoneta to Iu Gainen ga Sonzai Shinai Taikutsu na Sekai",
          "Gochuumon wa Usagi desu ka??",
          "Overlord",
          "Akuei to Gacchinpo",
          "Akuei to Gacchinpo: Tenkomori",
          "Omakase! Miracle Cat-dan",
          "Ushio to Tora (TV)",
          "BAR Kiraware Yasai",
          "Million Doll",
          "Diabolik Lovers More,Blood",
          "Dance with Devils",
          "ReLIFE",
          "Nanbaka",
          "Otenki Boys",
          "Ekubo Ouji",
          "Meisaku World",
          "Sekai Meisaku Douwa Series",
          "Jewelpet Magical Change",
          "Dolittle-sensei Monogatari",
          "Future Card Buddyfight Hundred",
          "Kkurukkuru-wa Chingu-deul",
          "Mabeobsa-ui Adeul Cory",
          "Chaos Dragon: Sekiryuu Seneki",
          "Yancharu Moncha",
          "Futari wa Nakayoshi: Goo to Sue",
          "Yowamushi Monsters",
          "Spoon-hime no Swing Kitchen",
          "Fushigina Ano Ko wa Sutekina Kono Ko",
          "Akagami no Shirayuki-hime",
          "Danchigai",
          "Konna Ko Iru kana",
          "Uwabaki Cook",
          "Rusuden Hour: Sodan Brothers",
          "Nyuru Nyuru!! Kakusen-kun 2nd Season",
          "Kamiusagi Rope: Warau Asa ni wa Fukuraitaru tte Maji ssuka!?",
          "Ba La La Xiao Mo Xian Zhi: Meng Huan Xuan Lu",
          "Fruity Samurai",
          "Sakurako-san no Ashimoto ni wa Shitai ga Umatteiru",
          "Aoharu x Kikanjuu",
          "Diamond no Ace: Second Season",
          "Tamagotchi! Tamatomo Daishuu GO",
          "Prison School",
          "Venus Project: Climax",
          "One Punch Man",
          "Yuru Yuri San☆Hai!",
          "Mini Hama: Minimum Hamatora",
          "Rakudai Kishi no Cavalry",
          "Monster Musume no Iru Nichijou",
          "Funassyi no Funafunafuna Biyori",
          "The iDOLM@STER Cinderella Girls 2nd Season",
          "Wakaba*Girl",
          "Shinmai Maou no Testament Burst",
          "Starmyu",
          "Aquarion Logos",
          "Classroom☆Crisis",
          "Miss Monochrome The Animation 2",
          "Valkyrie Drive: Mermaid",
          "Pikaia!",
          "Nepos Napos",
          "Gon 2nd Season",
          "Happy Jozy",
          "Panpaka Pants O-New!",
          "Wakako-zake",
          "KanColle: Itsuka Ano Umi de",
          "Himitsukessha Taka no Tsume DO",
          "Steins;Gate 0",
          "ChäoS;Child",
          "Noragami Aragoto",
          "Ba La La Xiao Mo Xian: Caihong Xin Shi",
          "Kagewani",
          "Gakusen Toshi Asterisk",
          "Soukyuu no Fafner: Dead Aggressor - Exodus Part 2",
          "Teekyuu 5",
          "Uwabaki Cook no Tekitou Uranai!",
          "Shin Atashin'chi",
          "Itoshi no Muco",
          "Long Riders!",
          "Ansatsu Kyoushitsu 2nd Season",
          "Dragon Ball Super",
          "Makura no Danshi",
          "Hacka Doll The Animation",
          "Saenai Heroine no Sodatekata ♭",
          "Shingeki no Bahamut: Virgin Soul",
          "Young Black Jack",
          "Fushigi na Somera-chan",
          "Saijaku Muhai no Bahamut",
          "Usavich Zero",
          "Kaijuu Sakaba Kanpai!",
          "Bikini Warriors",
          "Bakuon!!",
          "Schwarzesmarken",
          "Suzakinishi The Animation",
          "Kono Subarashii Sekai ni Shukufuku wo!",
          "Q Transformers: Saranaru Ninki Mono e no Michi",
          "Washimo 3rd Season",
          "Boo Boo Boy",
          "Deban desu yo! Onigirizu",
          "HaruChika: Haruta to Chika wa Seishun suru",
          "Utawarerumono: Itsuwari no Kamen",
          "Tales of Zestiria the Cross",
          "Kurayami Santa",
          "Kowabon",
          "Bary-san no Imabari-ben Kouza",
          "DD Hokuto no Ken 2 Ichigo Aji+",
          "Norasco (TV)",
          "Boku dake ga Inai Machi",
          "Kamisama Minarai: Himitsu no Cocotama",
          "Beyblade Burst",
          "Letchu, Getchu, Saru Getchu",
          "Hime Chen! Otogi Chikku Idol Lilpri (2011)",
          "Kinyoru, Abe Reiji: Heikinteki na Salaryman no Ijou na Nichijou",
          "PikkaPika Summer",
          "Anne Happy♪",
          "Komori-san wa Kotowarenai!",
          "Ushio to Tora (TV) 2nd Season",
          "Hatsukoi Monster",
          "Ame-iro Cocoa: Rainy Color e Youkoso!",
          "Onsen Yousei Hakone-chan",
          "Concrete Revolutio: Choujin Gensou",
          "ClassicaLoid",
          "Dimension W",
          "Akagami no Shirayuki-hime 2nd Season",
          "Osomatsu-san",
          "Yakyuubu Aruaru",
          "Uta no☆Prince-sama♪ Maji Love Legend Star",
          "Owarimonogatari",
          "Cardfight!! Vanguard G: GIRS Crisis-hen",
          "Choegang Top Plate",
          "Tantei Team KZ Jiken Note",
          "Phantasy Star Online 2 The Animation",
          "Kindaichi Shounen no Jikenbo Returns 2nd Season",
          "Servamp",
          "Ganbare-bu Next!",
          "Kotori Samba",
          "Re:Zero kara Hajimeru Isekai Seikatsu",
          "Choegang Habche: Mix Master",
          "Kidou Senshi Gundam: Tekketsu no Orphans",
          "Comet Lucifer",
          "Hundred",
          "Drifters",
          "Neko Enikki",
          "Tonkatsu DJ Agetarou",
          "Shingeki! Kyojin Chuugakkou",
          "Flying Witch",
          "Netoge no Yome wa Onnanoko ja Nai to Omotta?",
          "Joker Game",
          "Mini Van 2nd Season",
          "Nijiiro Days",
          "Binan Koukou Chikyuu Bouei-bu LOVE! LOVE!",
          "Minami Kamakura Koukou Joshi Jitensha-bu",
          "Zinba",
          "Terra Formars: Revenge",
          "Ginga Eiyuu Densetsu: Die Neue These - Kaikou",
          "Wagamama High Spec",
          "Teekyuu 6",
          "Musaigen no Phantom World",
          "Norn9: Norn+Nonet",
          "Code:Realize - Sousei no Himegimi",
          "Bungou Stray Dogs",
          "Pan de Peace!",
          "High School Fleet",
          "Ohayou Ninja-tai Gatchaman",
          "Anitore! EX",
          "Larva",
          "Manaria Friends",
          "Kyoufu! Zombie Neko",
          "Sekkou Boys",
          "Ryouma 30 Seconds",
          "Peeping Life TV: Season 1??",
          "Doushitemo Eto ni Hairitai",
          "Prince of Stride: Alternative",
          "Miss Monochrome The Animation 3",
          "Neko no Dayan: Nihon e Iku",
          "Sansha Sanyou",
          "Ketsuekigata-kun! 3",
          "Brave Beats",
          "JK Meshi!",
          "Ajin",
          "All Out!!",
          "Pokemon XY&Z",
          "Kyoukai no Rinne 2nd Season",
          "Ooya-san wa Shishunki!",
          "Granblue Fantasy The Animation",
          "Gyakuten Saiban: Sono \"Shinjitsu\", Igi Ari!",
          "Monster Hunter Stories: Ride On",
          "Sushi Police",
          "Dagashi Kashi",
          "Gate: Jieitai Kanochi nite, Kaku Tatakaeri Part 2",
          "Fuusen Inu Tinny 2nd Season",
          "3-gatsu no Lion",
          "Kaitou Joker 3rd Season",
          "Larva 2nd Season",
          "Larva 3rd Season",
          "Super Lovers",
          "Witch Village Story",
          "Good Morning!!! Doronjo",
          "Fate/kaleid liner Prisma☆Illya 3rei!!",
          "Divine Gate",
          "Rewrite",
          "Nanatsu no Taizai: Seisen no Shirushi",
          "Bishoujo Senshi Sailor Moon Crystal Season III",
          "Gakusen Toshi Asterisk 2nd Season",
          "Magi: Sinbad no Bouken (TV)",
          "Dochamon Junior",
          "Oshiri Kajiri Mushi (TV) 4th Season",
          "Ganbare! Lulu Lolo 3rd Season",
          "Nejimaki Seirei Senki: Tenkyou no Alderamin",
          "Amanchu!",
          "Neko nanka Yondemo Konai.",
          "Yowamushi Pedal: New Generation",
          "Active Raid: Kidou Kyoushuushitsu Dai Hachi Gakari",
          "Mahou Shoujo Nante Mou Ii desu kara.",
          "Kiznaiver",
          "Kuma Miko",
          "Kono Danshi, Mahou ga Oshigoto desu.",
          "Arslan Senki (TV): Fuujin Ranbu",
          "Masou Gakuen HxH",
          "Ojisan to Marshmallow",
          "Hai to Gensou no Grimgar",
          "Mahoutsukai Precure!",
          "Nurse Witch Komugi-chan R",
          "Robocar Poli",
          "Big Order (TV)",
          "Shoujo-tachi wa Kouya wo Mezasu",
          "Monchhichiisu",
          "Full Metal Panic! Invisible Victory",
          "JoJo no Kimyou na Bouken Part 4: Diamond wa Kudakenai",
          "Kono Bijutsu-bu ni wa Mondai ga Aru!",
          "New Game!",
          "Boku no Hero Academia",
          "Ba La La Xiao Mo Xian: Qiji Wubu",
          "Hibike! Euphonium 2",
          "Yami Shibai 3",
          "Hakuouki: Otogisoushi",
          "Oshiete! Galko-chan",
          "Bubuki Buranki",
          "Seikaisuru Kado",
          "Show By Rock!! #",
          "Show By Rock!! Short!!",
          "Luck & Logic",
          "Watashitachi, Luck Logic-bu!",
          "Tanaka-kun wa Itsumo Kedaruge",
          "Reikenzan: Hoshikuzu-tachi no Utage",
          "Sousei no Onmyouji",
          "Narara Superboard",
          "Ange Vierge",
          "Shounen Maid",
          "Mob Psycho 100",
          "Danganronpa 3: The End of Kibougamine Gakuen - Mirai-hen",
          "Ensemble Stars!",
          "Koukaku no Pandora",
          "Robocar Poli 2",
          "Teekyuu 7",
          "Xi You Ji",
          "Kuromukuro",
          "Renai Boukun",
          "Dies Irae",
          "Ketsuekigata-kun! 4",
          "Shokugeki no Souma: Ni no Sara",
          "Active Raid: Kidou Kyoushuushitsu Dai Hachi Gakari 2nd",
          "Tabi Machi Late Show",
          "Concrete Revolutio: Choujin Gensou - The Last Song",
          "Bonobono (TV 2016)",
          "Qualidea Code",
          "D.Gray-man Hallow",
          "Berserk",
          "KochinPa!",
          "Mim Mam Mint",
          "Clockwork Planet",
          "Chibinacs",
          "Chibinacs 2.0",
          "Chibinacs 3",
          "Mayoiga",
          "Nora to Oujo to Noraneko Heart",
          "Kirin Ashita no Calendar",
          "Usakame",
          "Gekidol: Actidol Project",
          "Cheer Danshi!!",
          "Kanojo to Kanojo no Neko: Everything Flows",
          "Days (TV)",
          "Love Live! Sunshine!!",
          "Sakamoto desu ga?",
          "Stella no Mahou",
          "Kamiwaza Wanda",
          "Shounen Ashibe: Go! Go! Goma-chan",
          "Neko Neko Nihonshi",
          "Uniminipet",
          "Duel Masters VSRF",
          "Telemonster",
          "Taeng-gu & Ulasyong",
          "Seisen Cerberus: Ryuukoku no Fatalités",
          "The Snack World (TV)",
          "12-sai.: Chicchana Mune no Tokimeki",
          "Okusama ga Seitokaichou!+!",
          "Onigiri",
          "Gi(a)rlish Number",
          "Endride",
          "Youjo Senki",
          "Coral no Tanken",
          "Handa-kun",
          "Petit Petit Muse",
          "Tama & Friends: Uchi no Tama Shirimasen ka?",
          "Bananya",
          "Battle Spirits: Double Drive",
          "Udon no Kuni no Kiniro Kemari",
          "Uchuu Patrol Luluco",
          "Kagewani: Shou",
          "Keijo!!!!!!!!",
          "Flowering Heart",
          "Fukigen na Mononokean",
          "Ozmafia!!",
          "Aikatsu Stars!",
          "Orange",
          "Puzzle & Dragons Cross",
          "Future Card Buddyfight Triple D",
          "Kidou Senshi Gundam Unicorn RE:0096",
          "Cardfight!! Vanguard G: Stride Gate-hen",
          "Nyanbo!",
          "Xiong Chumo: Conglin Zong Dong Yuan",
          "Xiong Chumo: Chunri Dui Dui Peng",
          "Amaama to Inazuma",
          "Nobunaga no Shinobi",
          "Chou Shounen Tanteidan Neo",
          "Senki Zesshou Symphogear AXZ",
          "Panpaka Pants",
          "Senki Zesshou Symphogear XV",
          "Brave Witches",
          "Bungou Stray Dogs 2nd Season",
          "Nameko: Sekai no Tomodachi",
          "ēlDLIVE",
          "Tiger Mask W",
          "Dungeon ni Deai wo Motomeru no wa Machigatteiru Darou ka Gaiden: Sword Oratoria",
          "Watashi ga Motete Dousunda",
          "Eromanga-sensei",
          "Bishoujo Yuugi Unit Crane Game Girls",
          "Urara Meirochou",
          "Haikyuu!! Karasuno Koukou vs. Shiratorizawa Gakuen Koukou",
          "Gin no Guardian",
          "Kono Subarashii Sekai ni Shukufuku wo! 2",
          "CoCO & NiCO",
          "Battery",
          "Fune wo Amu",
          "Kuzu no Honkai",
          "Rokudenashi Majutsu Koushi to Akashic Records",
          "Aware! Meisaku-kun",
          "Regalia: The Three Sacred Stars",
          "Occultic;Nine",
          "Aggressive Retsuko",
          "Flip Flappers",
          "Hand Shakers",
          "Natsume Yuujinchou Go",
          "Yuri!!! on Ice",
          "91 Days",
          "Neko mo, Onda-ke",
          "Panpaka Pants W-O-New!",
          "Mahou Shoujo Ikusei Keikaku",
          "Island (TV)",
          "Katsugeki/Touken Ranbu",
          "Reikenzan: Eichi e no Shikaku",
          "Ragnastrike Angels",
          "Touken Ranbu: Hanamaru",
          "Time Bokan 24",
          "Infini-T Force",
          "Danganronpa 3: The End of Kibougamine Gakuen - Zetsubou-hen",
          "Shakunetsu no Takkyuu Musume",
          "Tsukiuta. The Animation",
          "Bubuki Buranki: Hoshi no Kyojin",
          "Asa da yo! Kaishain",
          "B-Project: Kodou*Ambitious",
          "Fate/Extra: Last Encore",
          "Kidou Senshi Gundam: Tekketsu no Orphans 2nd Season",
          "Wa Wa Wa Wappi-chan",
          "Unko-san: Tsuiteru Hito ni Shika Mienai Yousei Junjou Ha",
          "Kemono Friends",
          "WWW.Working!!",
          "Shouwa Genroku Rakugo Shinjuu: Sukeroku Futatabi-hen",
          "Washimo 4th Season",
          "Scared Rider Xechs",
          "Koto Nakare Hero Gingerman",
          "Battle Girl High School",
          "Sore Ike! Sabuibo Mask",
          "Lostorage Incited WIXOSS",
          "Fukumenkei Noise",
          "Kobayashi-san Chi no Maid Dragon",
          "Fudanshi Koukou Seikatsu",
          "Koneko no Chi: Ponponra Daibouken",
          "Honobono Log",
          "Kiitarou Shounen no Youkai Enikki",
          "Ame-iro Cocoa in Hawaii",
          "Ajin Part 2",
          "Saiki Kusuo no Ψ-nan",
          "Chobitto Zukan",
          "Onara Gorou",
          "Gra-P & Rodeo II",
          "Magic-Kyun! Renaissance",
          "Manga Kotowaja Jiten",
          "Peach Command Shin Momotarou Densetsu",
          "Digimon Universe: Appli Monsters",
          "ACCA: 13-ku Kansatsu-ka",
          "Time Travel Shoujo: Mari Waka to 8-nin no Kagakusha-tachi",
          "Violet Evergarden",
          "Cardcaptor Sakura: Clear Card-hen",
          "Starmyu 2nd Season",
          "Atom: The Beginning",
          "Trickster: Edogawa Ranpo \"Shounen Tanteidan\" yori",
          "Gakuen Handsome",
          "Mahou Shoujo? Naria☆Girls",
          "Neko Konogoro",
          "Otona no Ikkyuu-san",
          "Super Lovers 2",
          "12-sai.: Chicchana Mune no Tokimeki 2nd Season",
          "Yi Ren Zhi Xia",
          "Oscar's Oasis",
          "Shuumatsu no Izetta",
          "Heybot!",
          "Piace: Watashi no Italian",
          "Bernard-jou Iwaku.",
          "Tokyo Futago Athletic",
          "Busou Shoujo Machiavellianism",
          "UQ Holder! Mahou Sensei Negima! 2",
          "Muzumuzu Eighteen",
          "Boku no Hero Academia 2nd Season",
          "Masamune-kun no Revenge",
          "Little Witch Academia (TV)",
          "Kaitou Joker 4th Season",
          "Shuumatsu Nani Shitemasu ka? Isogashii desu ka? Sukutte Moratte Ii desu ka?",
          "Ao no Exorcist: Kyoto Fujouou-hen",
          "Juushinki Pandora",
          "Twin Angel Break",
          "Shima Kousaku no Asia Risshi-den",
          "Bishoujo Yuugi Unit Crane Game Girls Galaxy",
          "Idol Memories",
          "BanG Dream!",
          "ViVid Strike!",
          "Na Sa Er Ding",
          "Hitorijime My Hero",
          "Soushin Shoujo Matoi",
          "Xingji Biaoche Wang",
          "Nazotokine",
          "Saiyuuki Reload Blast",
          "Neko no Dayan: Fushigi Gekijou",
          "Gabriel DropOut",
          "Inazuma Eleven: Ares no Tenbin",
          "Megaton-kyuu Musashi",
          "Tian Xin Ge Ge",
          "Fuuka",
          "Anitore! XX: Hitotsu Yane no Shita de",
          "Tian Xin Ge Ge 2nd Season",
          "Cheating Craft",
          "Soul Buster",
          "Marginal#4: Kiss kara Tsukuru Big Bang",
          "Feng Shu Zhan Jing 2",
          "Mahou Shoujo Nante Mou Ii desu kara. Second Season",
          "ID-0",
          "Sengoku Choujuu Giga: Kou",
          "Teekyuu 8",
          "Ao Oni The Animation",
          "Sin: Nanatsu no Taizai",
          "PJ Berri no Mogumogu Munyamunya",
          "Seiren",
          "Kabuki-bu!",
          "Fushigi no Yappo Shima: Pukipuki to Poi",
          "Nil Admirari no Tenbin",
          "Saredo Tsumibito wa Ryuu to Odoru",
          "IDOLiSH7",
          "Yasamura Yasashi no Yasashii Sekai",
          "Mikan Seijin Arawaru",
          "Hinako Note",
          "Yume Oukoku to Nemureru 100-nin no Ouji-sama",
          "3-Nen D-Gumi Glass no Kamen",
          "Onihei",
          "Bloodivores",
          "Demi-chan wa Kataritai",
          "To Be Hero",
          "Isekai Shokudou",
          "Hagane Orchestra",
          "Tsugumomo",
          "Idol Jihen",
          "Pokemon Sun & Moon",
          "Akiba's Trip The Animation",
          "100% Pascal-sensei (TV)",
          "Berserk 2nd Season",
          "Uchouten Kazoku 2",
          "Cardfight!! Vanguard G Next",
          "Tales of Zestiria the Cross 2nd Season",
          "Chiruran: Nibun no Ichi",
          "Gintama.",
          "Sakurada Reset",
          "Knight's & Magic",
          "Kyoukai no Rinne 3rd Season",
          "Rewrite 2nd Season",
          "Xia Lan",
          "One Punch Man 2nd Season",
          "Nyanko Days",
          "PePePePengiin",
          "Zero kara Hajimeru Mahou no Sho",
          "Tenshi no 3P!",
          "Nikoniko♪Connie-chan",
          "Dochamon Junior 2",
          "Meiji Tokyo Renka",
          "Forest Fairy Five",
          "Kimoshiba",
          "Ohayou! Kokekkou-san",
          "Pittanko! Nekozakana",
          "Aqua Kids",
          "Cinderella Girls Gekijou",
          "Oushitsu Kyoushi Heine",
          "Grancrest Senki",
          "Gamers!",
          "High School DxD Hero",
          "Yuuki Yuuna wa Yuusha de Aru: Washio Sumi no Shou",
          "Schoolgirl Strikers: Animation Channel",
          "Kirakira☆Precure A La Mode",
          "Kamigami no Ki",
          "Choboraunyopomi Gekijou Dai San Maku Ai Mai Mii: Surgical Friends",
          "Nananin no Ayakashi: Chimi Chimi Mouryou!! Gendai Monogatari",
          "Hulaing Babies",
          "Ikemen Sengoku: Toki wo Kakeru ga Koi wa Hajimaranai",
          "Lost Song",
          "Alice to Zouroku",
          "Ocha-ken: Hotto Monogatari",
          "Ocha-ken: Ryokutto Monogatari",
          "Vatican Kiseki Chousakan",
          "Citrus",
          "Netsuzou TRap",
          "One Room",
          "Room Mate",
          "Love Kome: We Love Rice",
          "Hajimete no Gal",
          "Ba La La Xiao Mo Xian Zhi: Feiyue Cai Ling Bao",
          "Taishou Mebiusline: Chicchai-san",
          "Frame Arms Girl",
          "Yuuki Yuuna wa Yuusha de Aru: Yuusha no Shou",
          "The Reflection",
          "Kekkai Sensen & Beyond",
          "Sentai Hero Sukiyaki Force: Gunma no Heiwa wo Negau Season",
          "Yami Shibai 4",
          "Tsukipro The Animation",
          "Gan Gan Ganko-chan",
          "Sushi Azarashi",
          "Sakura Quest",
          "Death March kara Hajimaru Isekai Kyousoukyoku",
          "Kenka Banchou Otome: Girl Beats Boys",
          "Inazma Delivery",
          "KochinPa! Dainiki",
          "Hei Mao Jing Zhang",
          "Hei Mao Jing Zhang (1992)",
          "Wake Up, Girls! Shin Shou",
          "Centaur no Nayami",
          "Inuyashiki",
          "Dive!!",
          "Shoukoku no Altair",
          "Warau Salesman New",
          "Re:Creators",
          "Jikan no Shihaisha",
          "Boruto: Naruto Next Generations",
          "Black Clover",
          "Nanatsu no Taizai: Imashime no Fukkatsu",
          "Nana Maru San Batsu",
          "Natsume Yuujinchou Roku",
          "Made in Abyss",
          "Lostorage Conflated WIXOSS",
          "Saiki Kusuo no Ψ-nan 2",
          "Blend S",
          "Kono Yo no Hate de Koi wo Utau Shoujo YU-NO",
          "Ballroom e Youkoso",
          "Kokekkou-san",
          "Fate/Apocrypha",
          "Capsule Boy",
          "Kemy Lang Buka Chaka",
          "Kemy",
          "Kemy Tamheomdae",
          "Ba La La Xiao Mo Xian Zhi: Feiyue Cai Ling Bao 2nd Season",
          "Kujira no Kora wa Sajou ni Utau",
          "Kaito x Ansa",
          "Sengoku Choujuu Giga: Otsu",
          "Tomica Hyper Rescue Drive Head: Kidou Kyuukyuu Keisatsu",
          "Mahoujin Guruguru (2017)",
          "Rilu Rilu Fairilu: Yousei no Door",
          "Dynamic Chord",
          "Idol Time PriPara",
          "Yukai na Animal Bus",
          "Yuru Camp△",
          "PriPri Chii-chan!!",
          "Action Heroine Cheer Fruits",
          "Tsuki ga Kirei",
          "Keppeki Danshi! Aoyama-kun",
          "Hanitarou desu.",
          "Hina Logi: From Luck & Logic",
          "Future Card Buddyfight Battsu",
          "Sanrio Danshi",
          "Haruniwa Ie no 3 Nin-me",
          "Pikaia!!",
          "Zoku Touken Ranbu: Hanamaru",
          "Yu☆Gi☆Oh! VRAINS",
          "Aho Girl",
          "Makeruna!! Aku no Gundan!",
          "Buppu na Mainichi",
          "Beyblade Burst God",
          "Tsurezure Children",
          "RoboMasters the Animated Series",
          "Duel Masters (2017)",
          "New Game!!",
          "The iDOLM@STER SideM",
          "Rilu Rilu Fairilu: Mahou no Kagami",
          "Akindo Sei no Little Peso",
          "Kakegurui",
          "Koi to Uso",
          "Killing Bites",
          "Jigoku Shoujo: Yoi no Togi",
          "Love Live! Sunshine!! 2nd Season",
          "Marvel Future Avengers",
          "Nobunaga no Shinobi: Ise Kanegasaki-hen",
          "Shounen Ashibe: Go! Go! Goma-chan 2",
          "Koi wa Ameagari no You ni",
          "Unicorn no Kyupi",
          "Ani ni Tsukeru Kusuri wa Nai!",
          "Mahoutsukai no Yome",
          "Osomatsu-san 2nd Season",
          "Sekai no Yami Zukan",
          "Overlord II",
          "Hoozuki no Reitetsu 2nd Season",
          "Juuni Taisen",
          "Mitsuboshi Colors",
          "Kino no Tabi: The Beautiful World - The Animated Series",
          "Ninja Tamamaru",
          "Shin Ninja Tamamaru",
          "Ninja Tamamaru: Toukaidou Gojuusan-ji",
          "Panpaka Pants O New-san",
          "Clione no Akari",
          "Taikong Lixianji",
          "High & Low: G-Sword",
          "3-gatsu no Lion 2nd Season",
          "Gurazeni",
          "Isekai wa Smartphone to Tomo ni.",
          "Youkai Apartment no Yuuga na Nichijou",
          "Gakuen Babysitters",
          "Akita Kenritsu Iburi Gakkou Chuutou-bu",
          "Princess Principal",
          "Konohana Kitan",
          "Owarimonogatari 2nd Season",
          "18if",
          "Uma Musume: Pretty Derby",
          "Urahara",
          "Sengoku Night Blood",
          "Hatena☆Illusion",
          "Time Bokan: Gyakushuu no San Akunin",
          "Washimo 5th Season",
          "Ramen Daisuki Koizumi-san",
          "Neko Neko Nihonshi 2nd Season",
          "Furusato Meguri: Nippon no Mukashibanashi",
          "Kemono Friends 2",
          "Mini Rope",
          "Freaky Highschool",
          "Poputepipikku",
          "World Fool News (TV) Part II",
          "ClassicaLoid 2nd Season",
          "Musashino!",
          "Kkoma Sinseon Tao",
          "Kkoma Sinseon Tao 2",
          "Teekyuu 9",
          "Otoppe",
          "Himouto! Umaru-chan R",
          "Yousei Land Mukashibanashi",
          "Yukai na Animal Bus 2nd Season",
          "Imouto sae Ireba Ii.",
          "Animegataris",
          "Konbini Kareshi",
          "Neko to Mata",
          "Little Charo 4: Eigo de Aruku New York",
          "Neko no Robu",
          "Osake wa Fuufu ni Natte kara",
          "Shoujo☆Kageki Revue Starlight",
          "Youkoso Jitsuryoku Shijou Shugi no Kyoushitsu e",
          "Shampoo Ouji",
          "Dappys",
          "Caribadix",
          "Slow Start",
          "Turning Mecard",
          "Turning Mecard W",
          "Turning Mecard W Season 2",
          "Houseki no Kuni",
          "Toji no Miko",
          "Astar-eul Hyanghae Chaguchagu",
          "Just Because!",
          "Huan Bian Jingling: Dangao Tianxin",
          "Huoli Shaonian Wang zhi Chuanqi Zaixian",
          "Oshiri Tantei",
          "Yama no Susume Third Season",
          "Kirin the Noop",
          "Keito no Yousei: Knit to Wool",
          "Konigiri-kun",
          "Beads no Mori no Rabi",
          "Oidon to",
          "Mono-darake!",
          "Baby Gamba",
          "Boku no Kanojo ga Majimesugiru Sho-bitch na Ken",
          "Yami Shibai 5",
          "Musekinin Galaxy☆Tylor",
          "Pikotarou no Lullaby Lullaby (TV)",
          "Comic Girls",
          "Gin no Guardian II",
          "Shingeki no Kyojin Season 3",
          "Shokugeki no Souma: San no Sara",
          "Yowamushi Pedal: Glory Line",
          "Tate no Yuusha no Nariagari",
          "Curry no Kuni no Coburoux",
          "Love Kome: We Love Rice Nikisaku",
          "Chio-chan no Tsuugakuro",
          "Miira no Kaikata",
          "Angolmois: Genkou Kassenki",
          "RErideD: Tokigoe no Derrida",
          "Shoujo Shuumatsu Ryokou",
          "Sora yori mo Tooi Basho",
          "Gintama.: Porori-hen",
          "SSSS.Gridman",
          "Darling in the FranXX",
          "Lupin III: Part 5",
          "Karakai Jouzu no Takagi-san",
          "Cinderella Girls Gekijou 2nd Season",
          "Hakata Tonkotsu Ramens",
          "Ryuuou no Oshigoto!",
          "Catchy-kun no Nice Catch!",
          "Annyeong Jadoo",
          "Ame-iro Cocoa Series: Ame-con!!",
          "Devils Line",
          "Yura Yura Suizokukan",
          "PJ Berri no Mogumogu Munyamunya Season 2",
          "Basilisk: Ouka Ninpouchou",
          "Wotaku ni Koi wa Muzukashii",
          "Fairy Tail: Final Series",
          "Harukana Receive",
          "Dame x Prince Anime Caravan",
          "Satsuriku no Tenshi",
          "Märchen Mädchen",
          "Dia Horizon (Kabu)",
          "Sora to Umi no Aida",
          "Alice or Alice",
          "Otona no Ikkyuu-san 2nd Season",
          "Kimoshiba 2",
          "Two Car",
          "Cardfight!! Vanguard G Z",
          "Persona 5 the Animation",
          "Ousama Game The Animation",
          "Golden Kamuy",
          "Hakyuu Houshin Engi",
          "Running Man",
          "Senran Kagura Shinovi Master: Tokyo Youma-hen",
          "Net-juu no Susume",
          "Dagashi Kashi 2",
          "Aiseki Mogol Girl",
          "Hakumei to Mikochi",
          "Takunomi.",
          "Itou Junji: Collection",
          "Oretacha Youkai Ningen",
          "Garo: Vanishing Line",
          "Fireball Humorous",
          "Yuhuwa Chingudeul",
          "Kaijuu Girls: Ultra Kaijuu Gijinka Keikaku 2nd Season",
          "Itsudatte Bokura no Koi wa 10 cm Datta.",
          "Hinomaru!",
          "Evil or Live",
          "Pingu in the City",
          "Sylvanian Families: Mini Story",
          "Mahou Shoujo Site",
          "Uchuu Senkan Tiramisù",
          "Glamorous Heroes",
          "Hinamatsuri (TV)",
          "Butlers: Chitose Momotose Monogatari",
          "Shichisei no Subaru",
          "Gaikotsu Shotenin Honda-san",
          "Kenja no Mago",
          "Yodel no Onna",
          "Koneko no Chi: Ponponra Dairyokou",
          "Zhandou Wang Zhi Jufeng Zhan Hun",
          "Zhandou Wang Zhi Jufeng Zhan Hun 2",
          "Zhandou Wang Zhi Jufeng Zhan Hun 3",
          "Zhen Gyi Hong Shi",
          "One Room: Second Season",
          "Toaru Majutsu no Index III",
          "Boku no Hero Academia 3rd Season",
          "Soukou Musume Senki",
          "Tada-kun wa Koi wo Shinai",
          "Sword Art Online: Alicization",
          "Sword Art Online Alternative: Gun Gale Online",
          "B-Project: Zecchou*Emotion",
          "Lalala Lala-chan ★Uchuu ni Muchuu★",
          "Fuwafuwa Hour: Pui Pui & Muu Muu",
          "Ulysses: Jehanne Darc to Renkin no Kishi",
          "Tokyo Ghoul:re",
          "Rokuhou-dou Yotsuiro Biyori",
          "Beatless",
          "Ling Qi 2",
          "Dorei-ku The Animation",
          "Porong Porong Pororo 6",
          "Shinkansen Henkei Robo Shinkalion The Animation",
          "Starmyu 3rd Season",
          "Kokkoku",
          "Lalala Lala-chan: Patapata Daisensou",
          "Pikachin-Kit",
          "Megalo Box",
          "Major 2nd",
          "Granblue Fantasy The Animation Season 2",
          "Hug tto! Precure",
          "Bary-san no Shokoku Manyuuki",
          "Flowering Heart 2",
          "Ore ga Suki nano wa Imouto dakedo Imouto ja Nai",
          "Date A Live III",
          "Banana Fish",
          "Piano no Mori (TV)",
          "Tsurune: Kazemai Koukou Kyuudou-bu",
          "Tsukumogami Kashimasu",
          "Souten no Ken: Regenesis",
          "Stone Age",
          "An Ling Yu Shi Di Qi",
          "Free! Dive to the Future",
          "Yuragi-sou no Yuuna-san",
          "Mameneko",
          "Dragon Egg",
          "Kakuriyo no Yadomeshi",
          "Hataraku Oniisan!",
          "3D Kanojo: Real Girl",
          "gdMen",
          "Amanchu! Advance",
          "Sunohara-sou no Kanrinin-san",
          "Caligula (TV)",
          "Gintama.: Shirogane no Tamashii-hen",
          "Nanatsu no Bitoku",
          "Akkun to Kanojo",
          "Back Street Girls: Gokudolls",
          "Dennou Senshi Dokan-kun",
          "Arifureta Shokugyou de Sekai Saikyou",
          "Hisone to Maso-tan",
          "Inazma Delivery: Dougyousha Attack-hen",
          "Mahou Shoujo Ore",
          "Jashin-chan Dropkick",
          "Captain Tsubasa (2018)",
          "Tachibanakan Triangle",
          "Himote House",
          "Shokugeki no Souma: San no Sara - Tootsuki Ressha-hen",
          "Cutie Honey Universe",
          "Annyeong Totobi",
          "Neko no Dayan (2017)",
          "Micchiri Neko",
          "Chao Zhi Neng Zu Qiu",
          "Uchi no Oochopus",
          "Hinomaruzumou",
          "Tsukipro The Animation 2",
          "Layton Mystery Tanteisha: Katri no Nazotoki File",
          "Hoozuki no Reitetsu 2nd Season: Sono Ni",
          "Binan Koukou Chikyuu Bouei-bu Happy Kiss!",
          "Sentai Hero Sukiyaki Force: Gunma no Heiwa wo Negau Season e, Mata?",
          "Kakegurui××",
          "Puzzle & Dragon",
          "Xiong Chumo: Xiongxiong Leyuan",
          "Xiong Chumo: Tanxian Riji",
          "Grand Blue",
          "Kitsune no Koe",
          "Bakutsuri Bar Hunter",
          "Nobunaga no Shinobi: Anegawa Ishiyama-hen",
          "Gegege no Kitarou (2018)",
          "Hataraku Saibou",
          "Marvel Future Avengers 2nd Season",
          "Grimms Notes The Animation",
          "Asobi Asobase",
          "Kiratto Pri☆chan",
          "Fumikiri Jikan",
          "Radiant",
          "Aikatsu Friends!",
          "Anima Yell!",
          "Isekai Maou to Shoukan Shoujo no Dorei Majutsu",
          "Release the Spyce",
          "Xiao Hua Xian",
          "Merc Storia: Mukiryoku no Shounen to Bin no Naka no Shoujo",
          "Gan Gan Ganko-chan 2nd Season",
          "Gundam Build Divers",
          "Last Period: Owarinaki Rasen no Monogatari",
          "Omae wa Mada Gunma wo Shiranai",
          "Hanebado!",
          "Quiz Tokiko-san",
          "Z/X: Code Reunion",
          "Beyblade Burst Chouzetsu",
          "Kemurikusa (TV)",
          "Youkai Watch: Shadow Side",
          "Kuroneko Monroe",
          "Oshiete Mahou no Pendulum: Rilu Rilu Fairilu",
          "Chuukan Kanriroku Tonegawa",
          "Plunderer",
          "Dungeon ni Deai wo Motomeru no wa Machigatteiru Darou ka II",
          "Goblin Slayer",
          "Kekkero Ke",
          "Shounen Ashibe: Go! Go! Goma-chan 3",
          "Neko Neko Nihonshi 3rd Season",
          "Pastel Memories",
          "Chihayafuru 3",
          "Souten no Ken: Regenesis 2nd Season",
          "Watashi, Nouryoku wa Heikinchi de tte Itta yo ne!",
          "Zoids Wild",
          "Ahiru no Sora",
          "Cinderella Girls Gekijou 3rd Season",
          "Sarazanmai",
          "Chara to Otamajakushi Shima",
          "Tensei shitara Slime Datta Ken",
          "Wakaokami wa Shougakusei!",
          "Carole & Tuesday",
          "Revisions",
          "Ingress the Animation",
          "Hyakuren no Haou to Seiyaku no Valkyria",
          "Karakuri Circus",
          "Ladyspo",
          "Seishun Buta Yarou wa Bunny Girl Senpai no Yume wo Minai",
          "Boogiepop wa Warawanai (2019)",
          "Kyoto Teramachi Sanjou no Holmes",
          "Usagi no Matthew",
          "Lalala Lala-chan: Lala to Mainichi",
          "Kishuku Gakkou no Juliet",
          "Cardfight!! Vanguard (2018)",
          "Ongaku Shoujo (TV)",
          "Duel Masters!",
          "Muhyo to Rouji no Mahouritsu Soudan Jimusho",
          "Gyakuten Saiban: Sono \"Shinjitsu\", Igi Ari! Season 2",
          "Gintama.: Shirogane no Tamashii-hen - Kouhan-sen",
          "Double Decker! Doug & Kirill",
          "Irozuku Sekai no Ashita kara",
          "W'z",
          "Mob Psycho 100 II",
          "Happy Sugar Life",
          "Dororo",
          "Vinland Saga",
          "Pet",
          "Babylon",
          "Hangyakusei Million Arthur",
          "Oretacha Youkai Ningen G",
          "Mannaka no Rikkun@Kin Tele",
          "Akanesasu Shoujo",
          "Sirius",
          "Senjuushi",
          "Majutsushi Orphen Hagure Tabi",
          "Planet With",
          "Tonari no Kyuuketsuki-san",
          "Bakumatsu",
          "Lapis Re:LiGHTs",
          "Dakaretai Otoko 1-i ni Odosarete Imasu.",
          "Phantom in the Twilight",
          "Magatsu Wahrheit: Zuerst",
          "Lord of Vermilion: Guren no Ou",
          "Future Card Buddyfight Battsu: All-Star Fight",
          "Hitoribocchi no Marumaru Seikatsu",
          "Washimo 6th Season",
          "Hataraku Oniisan! no 2!",
          "Fate/Extra: Last Encore - Illustrias Tendousetsu",
          "Caribadix 2nd Season",
          "Gakuen Basara",
          "Shinya! Tensai Bakabon",
          "Overlord III",
          "Pugpug",
          "Ukkari Pénélope (2017)",
          "Shin Manga Naruhodo Monogatari",
          "Beelzebub-jou no Okinimesu mama.",
          "Uchi no Maid ga Uzasugiru!",
          "Future Card Shin Buddyfight",
          "Isekai Cheat Magician",
          "Ame-iro Cocoa: Side G",
          "Turning Mecard R",
          "Turning Mecard W: Vandyne-ui Bimil",
          "Gonglyong Mecard",
          "Aguu: Tensai Ningyou",
          "Pastel Life",
          "Yakusoku no Neverland",
          "Okojo to Yamane",
          "Yagate Kimi ni Naru",
          "Space Bug",
          "Chaechaepong Kimchi Pong",
          "Tokyo Ghoul:re 2nd Season",
          "Gunjou no Magmell",
          "Conception",
          "BanG Dream! 2nd Season",
          "BanG Dream! 3rd Season",
          "Oshi ga Budoukan Ittekuretara Shinu",
          "Yami Shibai 6",
          "Ueno-san wa Bukiyou",
          "Ani ni Tsukeru Kusuri wa Nai! 2",
          "Nakanohito Genome [Jikkyouchuu]",
          "Nu Sheng Su She Ri Chang",
          "Yatogame-chan Kansatsu Nikki",
          "Naengjang-go Nala Cocomong",
          "Hello Cocomong",
          "Cocomong 2",
          "Hello Cocomong 2",
          "Cocomong 3",
          "Ice Kuritarou",
          "Shoumetsu Toshi",
          "3D Kanojo: Real Girl 2nd Season",
          "Fukigen na Mononokean Tsuzuki",
          "IDOLiSH7 Second Beat!",
          "Mayonaka no Occult Koumuin",
          "Kaze ga Tsuyoku Fuiteiru",
          "Kirakira Happy★Hirake! Cocotama",
          "Hoshiai no Sora",
          "Piano no Mori (TV) 2nd Season",
          "Zombieland Saga",
          "Kamisama Minarai: Himitsu no Cocotama - Minarai Cocotama-dou",
          "Mahou Shoujo Tokushusen Asuka",
          "Domestic na Kanojo",
          "Kumo desu ga, Nani ka?",
          "Uchuu Senkan Tiramisù II",
          "Golden Kamuy 2nd Season",
          "Gurazeni Season 2",
          "JoJo no Kimyou na Bouken Part 5: Ougon no Kaze",
          "Jingai-san no Yome",
          "Watashi ni Tenshi ga Maiorita!",
          "Girly Air Force",
          "Kaguya-sama wa Kokurasetai: Tensai-tachi no Renai Zunousen",
          "Kimetsu no Yaiba",
          "Bungou Stray Dogs 3rd Season",
          "Strike Witches: 501 Butai Hasshin Shimasu!",
          "Strike Witches: Road to Berlin",
          "Renmei Kuugun Koukuu Mahou Ongakutai Luminous Witches",
          "Hawaiian Conu",
          "Re:Stage! Dream Days♪",
          "Kaeru Ouji to Imomushi Henry",
          "Zannen na Ikimono Jiten",
          "Beatless Final Stage",
          "Endro~!",
          "Yi Kong Zhi Dian",
          "Kkoma Bus Tayo",
          "Kkoma Bus Tayo 2",
          "Kkoma Bus Tayo 3",
          "Kkoma Bus Tayo 4",
          "Titipo Titipo",
          "Kono Oto Tomare!",
          "Ken En Ken: Aoki Kagayaki",
          "Fate/Grand Order: Zettai Majuu Sensen Babylonia",
          "Okoshiyasu, Chitose-chan",
          "Hachigatsu no Cinderella Nine",
          "Mix: Meisei Story",
          "Pakkororin",
          "5-toubun no Hanayome",
          "Bai Bian Zhu Zhu Xia",
          "Zhu Zhu Xia: Bai Bian Lian Meng",
          "Zhu Zhu Xia: Wu Ling Shou Wei Zhe",
          "Zhu Zhu Xia: Guang Ming Shou Wei Zhe",
          "Zhu Zhu Xia: Meng Xiang Shou Wei Zhe",
          "Zhu Zhu Xia: Chao Xing Meng Chong",
          "Zhu Zhu Xia: Zhong Ji Jue Zhan - Qian Ye Pian",
          "Zhu Zhu Xia: Jing Qiu Xiao Yingxiong",
          "Doukyonin wa Hiza, Tokidoki, Atama no Ue.",
          "Hoshi no Shima no Nyanko",
          "Namu Amida Butsu! Rendai Utena",
          "Circlet Princess",
          "Kabukichou Sherlock",
          "Rinshi!! Ekoda-chan",
          "Malta no Bouken Season 3",
          "Bokutachi wa Benkyou ga Dekinai",
          "Sakugan",
          "Bermuda Triangle: Colorful Pastrale",
          "The iDOLM@STER SideM: Wake Atte Mini!",
          "Choukadou Girl ⅙",
          "Inazuma Eleven: Orion no Kokuin",
          "Sono Toki, Kanojo wa.",
          "Hashiri Tsuzukete Yokatta tte.",
          "Magia Record: Mahou Shoujo Madoka☆Magica Gaiden",
          "Pingu in the City (2018)",
          "Hangyakusei Million Arthur 2nd Season",
          "Houkago Saikoro Club",
          "Devidol!",
          "Joshikausei",
          "Maou-sama, Retry!",
          "Kouya no Kotobuki Hikoutai",
          "Boku no Tonari ni Ankoku Hakaishin ga Imasu.",
          "Azur Lane",
          "Stand My Heroes: Piece of Truth",
          "Gochuumon wa Usagi desu ka? Bloom",
          "Ohayou Hakushon Daimaou",
          "Aigan Kaijuu",
          "Chuubyou Gekihatsu Boy",
          "Nande Koko ni Sensei ga!?",
          "Boku no Hero Academia 4th Season",
          "Arad: Gyakuten no Wa",
          "Daifuku-kun@Kin Tele",
          "Shikizakura",
          "Choujigen Kakumei Anime: Dimension High School",
          "Reizouko no Tsukenosuke!",
          "Isekai Quartet",
          "Yuru Camp△ Season 2",
          "Heya Camp△",
          "Toaru Kagaku no Accelerator",
          "Toaru Kagaku no Railgun T",
          "Ore wo Suki nano wa Omae dake ka yo",
          "Shingeki no Kyojin Season 3 Part 2",
          "Chuldong! Super Wings",
          "Chuldong! Super Wings 2",
          "Rifle Is Beautiful",
          "Egao no Daika",
          "TV Yarou Nanaana",
          "Otome Game no Hametsu Flag shika Nai Akuyaku Reijou ni Tensei shiteshimatta...",
          "Sylvanian Families: Mini Story 2nd Season",
          "Susume! Dokan-kun",
          "Tatakae! Dokan-kun: Gekitou-kun",
          "Tatakae! Dokan-kun: Robolympic-hen",
          "Tobidase! Dokan-kun",
          "Assassins Pride",
          "Tsuujou Kougeki ga Zentai Kougeki de Ni-kai Kougeki no Okaasan wa Suki desu ka?",
          "Star☆Twinkle Precure",
          "Tejina-senpai",
          "Power Battle Watch Car",
          "Power Battle Watch Car Season 2",
          "Joshikousei no Mudazukai",
          "Kkoma Bus Tayo 5",
          "Darwin's Game",
          "Shinchou Yuusha: Kono Yuusha ga Ore Tueee Kuse ni Shinchou Sugiru",
          "Dorohedoro",
          "Tsukiuta. The Animation 2",
          "Actors: Songs Connection",
          "Enen no Shouboutai",
          "Mini Toji",
          "Fruits Basket 1st Season",
          "Dr. Stone",
          "RobiHachi",
          "Diamond no Ace: Act II",
          "Blade Runner: Black Lotus",
          "Araburu Kisetsu no Otome-domo yo.",
          "Sewayaki Kitsune no Senko-san",
          "Cinderella Girls Gekijou: Climax Season",
          "Manul no Yuube",
          "Midara na Ao-chan wa Benkyou ga Dekinai",
          "Senryuu Shoujo",
          "Itai no wa Iya nanode Bougyoryoku ni Kyokufuri Shitai to Omoimasu.",
          "Kiratto Pri☆chan Season 2",
          "Nobunaga-sensei no Osanazuma",
          "Hachi-nan tte, Sore wa Nai deshou!",
          "Umayon",
          "Shironeko Project: Zero Chronicle",
          "Virtual-san wa Miteiru",
          "Ex-Arm",
          "Neko no Nyagh: Nya Misérables",
          "Bakumatsu Crisis",
          "Jimoto ga Japan",
          "Haikyuu!! To the Top",
          "Kono Oto Tomare! Part 2",
          "Infinite Dendrogram",
          "Kochouki: Wakaki Nobunaga",
          "Sinbi Apateu: Ghost Ball Bimil",
          "Nekopara",
          "Cop Craft",
          "Lord El-Melloi II Sei no Jikenbo: Rail Zeppelin Grace Note",
          "Rikei ga Koi ni Ochita no de Shoumei shitemita.",
          "Karakai Jouzu no Takagi-san 2",
          "Kyou mo Tsuno ga Aru",
          "Kawauso Labo",
          "Capsule Boy 2: Ujuleul Jikyeola",
          "Kyokou Suiri",
          "Dumbbell Nan Kilo Moteru?",
          "Hataage! Kemono Michi",
          "B Rappers Street",
          "Duel Masters!!",
          "Kedama no Gonjirou",
          "Jashin-chan Dropkick'",
          "Fairy Gone",
          "Machikado Mazoku",
          "Aikatsu Friends!: Kagayaki no Jewel",
          "Manga Furusato Mukashibanashi",
          "Hong Mao Lan Tu: Ao You Guo Lixian Ji",
          "Hong Mao Lan Tu: Qi Xia Waizhuan",
          "Super Shiro",
          "A3! Season Spring & Summer",
          "Shin Chuuka Ichiban!",
          "Beastars",
          "Mairimashita! Iruma-kun",
          "Kanata no Astra",
          "Katsute Kami Datta Kemono-tachi e",
          "Bem",
          "Cardfight!! Vanguard: Zoku Koukousei-hen",
          "Kobayashi-san Chi no Maid Dragon S",
          "Youkai Watch!",
          "Beyblade Burst Gachi",
          "Princess Connect! Re:Dive",
          "Uchi no Ko no Tame naraba, Ore wa Moshikashitara Maou mo Taoseru kamo Shirenai.",
          "Kawaikereba Hentai demo Suki ni Natte Kuremasu ka?",
          "Radiant 2nd Season",
          "Neko Neko Nihonshi 4th Season",
          "Koisuru Asteroid",
          "Granbelm",
          "Zen-chan Two-chan",
          "Sounan desu ka?",
          "Shounen Ashibe: Go! Go! Goma-chan 4",
          "Gleipnir",
          "Honzuki no Gekokujou: Shisho ni Naru Tame ni wa Shudan wo Erandeiraremasen",
          "Tsugu Tsugumomo",
          "Psycho-Pass 3",
          "Phantasy Star Online 2: Episode Oracle",
          "Choujin Koukousei-tachi wa Isekai demo Yoyuu de Ikinuku you desu!",
          "Try Knights",
          "Washimo 7th Season",
          "Kuutei Dragons",
          "Given",
          "Jibaku Shounen Hanako-kun",
          "Mushoku Tensei: Isekai Ittara Honki Dasu",
          "No Guns Life",
          "Yahari Ore no Seishun Love Comedy wa Machigatteiru. Kan",
          "Tensei shitara Slime Datta Ken 2nd Season",
          "Keishichou Tokumubu Tokushu Kyouakuhan Taisakushitsu Dainanaka: Tokunana",
          "High Score Girl II",
          "Somali to Mori no Kamisama",
          "TV Yarou Nanaana: Wakuwaku Doukutsu Land",
          "Kitsutsuki Tanteidokoro",
          "number24",
          "Hataraku Saibou!!",
          "Re:Zero kara Hajimeru Isekai Seikatsu 2nd Season",
          "Africa no Salaryman (TV)",
          "Kidou Senshi Gundam: The Origin - Zenya Akai Suisei",
          "Sword Art Online: Alicization - War of Underworld",
          "Ochikobore Fruit Tart",
          "Yakusoku no Neverland 2nd Season",
          "Hakata Mentai! Pirikarako-chan",
          "Bakugan: Battle Planet",
          "Kaijuu Step Wandabada",
          "Daifuku-kun@Kin Tele 2nd Season",
          "Gifu no Tatekayoko",
          "Watanuki-san Chi no",
          "Ju Bing Chang Cheng Zhuan",
          "D4DJ First Mix",
          "King of Prism: Shiny Seven Stars",
          "Nanatsu no Taizai: Kamigami no Gekirin",
          "Yesterday wo Utatte",
          "I★Chu: Halfway Through the Idol",
          "Houkago Teibou Nisshi",
          "5-toubun no Hanayome ∬",
          "Adachi to Shimamura",
          "Eizouken ni wa Te wo Dasu na!",
          "Zhu Zhu Xia: Konglong Riji",
          "Val x Love",
          "Non Non Biyori Nonstop",
          "Fairy Gone Part 2",
          "Chuldong! Super Wings 3",
          "Yami Shibai 7",
          "Muteking the Dancing Hero",
          "Sabiiro no Armor: Reimei",
          "Shining Star",
          "Nezha Chuanqi",
          "Shokugeki no Souma: Shin no Sara",
          "Uchi Tama?! Uchi no Tama Shirimasen ka?",
          "Muhyo to Rouji no Mahouritsu Soudan Jimusho 2nd Season",
          "Ani ni Tsukeru Kusuri wa Nai! 3",
          "Yatogame-chan Kansatsu Nikki Nisatsume",
          "Tamayomi",
          "Waresho! Warera! Shodobutsu Aigo Iinkai",
          "Business Fish",
          "Isekai Quartet 2",
          "Bokutachi wa Benkyou ga Dekinai!",
          "Ishuzoku Reviewers",
          "Shingeki no Kyojin: The Final Season",
          "Odoru Mowai-kun",
          "Motto! Majime ni Fumajime Kaiketsu Zorori",
          "Id:Invaded",
          "Great Pretender",
          "Deca-Dence",
          "Golden Kamuy 3rd Season",
          "BNA",
          "Gibiate",
          "Koi to Producer: EVOL×LOVE",
          "Maesetsu!",
          "Penguin no Mondai POW",
          "Pittanko!! Nekozakana",
          "Sinbi Apateu: Ghost Ball X-ui Tansaeng",
          "Xiao Hua Xian 2nd Season",
          "Xiao Hua Xian 3rd Season: Shou Hu Tian Shi",
          "Arte",
          "Rebirth",
          "Oda Cinnamon Nobunaga",
          "ARP Backstage Pass",
          "Yu☆Gi☆Oh! Sevens",
          "22/7",
          "Listeners",
          "Zoids Wild Zero",
          "Cardfight!! Vanguard: Shinemon-hen",
          "Zombieland Saga Revenge",
          "Kandagawa Jet Girls",
          "Urashimasakatasen no Nichijou",
          "Kami no Tou",
          "Bananya: Fushigi na Nakama-tachi",
          "Housekishou Richard-shi no Nazo Kantei",
          "Ba La La Xiao Mo Xian Zhi: Mofa Hai Ying Bao",
          "Aikatsu on Parade!",
          "A3! Season Autumn & Winter",
          "Fuwa no Go Renkan",
          "Gokiburi-chan",
          "Tenka Hyakken: Meiji-kan e Youkoso!",
          "Mewkledreamy",
          "Pokemon (2019)",
          "Tate no Yuusha no Nariagari Season 2",
          "Tate no Yuusha no Nariagari Season 3",
          "Gal to Kyouryuu",
          "Ikebukuro West Gate Park",
          "Go! Go! Atom",
          "Egg Car",
          "Runway de Waratte",
          "Maou-jou de Oyasumi",
          "Shin Sakura Taisen the Animation",
          "Nanami-chan 4th Series",
          "Nanami-chan 5th Series",
          "Nanami-chan 6th Series",
          "Fruits Basket 2nd Season",
          "Taeko no Nichijou",
          "Peter Grill to Kenja no Jikan",
          "Dungeon ni Deai wo Motomeru no wa Machigatteiru Darou ka III",
          "Sylvanian Families: Mini Story - Clover",
          "Chou Futsuu Toshi Kashiwa Densetsu R",
          "Murenase! Seton Gakuen",
          "Eily wa Ou-sama!",
          "Futsal Boys!!!!!",
          "Maou Gakuin no Futekigousha: Shijou Saikyou no Maou no Shiso, Tensei shite Shison-tachi no Gakkou e Kayou",
          "Mahouka Koukou no Rettousei: Raihousha-hen",
          "Major 2nd 2nd Season",
          "Shadowverse",
          "Arifureta Shokugyou de Sekai Saikyou 2nd Season",
          "Nami yo Kiitekure",
          "Dragon, Ie wo Kau.",
          "No Guns Life 2nd Season",
          "Jaku-Chara Tomozaki-kun",
          "Appare-Ranman!",
          "Sword Art Online: Alicization - War of Underworld 2nd Season",
          "Assault Lily: Bouquet",
          "Majo no Tabitabi",
          "Slime Taoshite 300-nen, Shiranai Uchi ni Level Max ni Nattemashita",
          "ColoColo Animal ABC@Kin Tele",
          "Utawarerumono: Futari no Hakuoro",
          "Kaguya-sama wa Kokurasetai? Tensai-tachi no Renai Zunousen",
          "Tatoeba Last Dungeon Mae no Mura no Shounen ga Joban no Machi de Kurasu Youna Monogatari",
          "Kimi to Boku no Saigo no Senjou, Aruiwa Sekai ga Hajimaru Seisen",
          "Muv-Luv Alternative",
          "Healin' Good♡Precure",
          "Uramichi Oniisan",
          "Dokyuu Hentai HxEros",
          "Argonavis from BanG Dream!",
          "2.43: Seiin Koukou Danshi Volley-bu",
          "Kingdom 3rd Season",
          "Super Cub",
          "Monster Musume no Oishasan",
          "Youkai Watch Jam: Youkai Gakuen Y - N to no Souguu",
          "Kakushigoto",
          "Nomad: Megalo Box 2",
          "Natsunagu!",
          "Jujutsu Kaisen",
          "Kaifuku Jutsushi no Yarinaoshi",
          "Bishounen Tanteidan",
          "Hulaing Babies Petit",
          "Show By Rock!! Mashumairesh!!",
          "Haikyuu!! To the Top Part 2",
          "Shachou, Battle no Jikan desu!",
          "Skate-Leading☆Stars",
          "Hypnosis Mic: Division Rap Battle - Rhyme Anima",
          "Honzuki no Gekokujou: Shisho ni Naru Tame ni wa Shudan wo Erandeiraremasen 2nd Season",
          "Mukashi Keibanashi",
          "Inu to Neko Docchi mo Katteru to Mainichi Tanoshii",
          "Ousama Ranking",
          "Kanojo, Okarishimasu",
          "Idoly Pride",
          "Breakers",
          "Dr. Stone: Stone Wars",
          "SSSS.Dynazenon",
          "Love Live! Nijigasaki Gakuen School Idol Doukoukai",
          "Kiratto Pri☆chan Season 3",
          "Komatta Jiisan",
          "Shokugeki no Souma: Gou no Sara",
          "Bokutachi no Remake",
          "Dragon Quest: Dai no Daibouken (2020)",
          "World Trigger 2nd Season",
          "Kemono Jihen",
          "Yuukoku no Moriarty",
          "Azur Lane: Bisoku Zenshin!",
          "Bungou to Alchemist: Shinpan no Haguruma",
          "Beastars 2nd Season",
          "Hige wo Soru. Soshite Joshikousei wo Hirou.",
          "Marumaru Manul",
          "Lalalacoco",
          "Enen no Shouboutai: Ni no Shou",
          "Shin Chuuka Ichiban! 2nd Season",
          "Rail Romanesque",
          "Cheat Kusushi no Slow Life: Isekai ni Tsukurou Drugstore",
          "Hortensia Saga",
          "Back Arrow",
          "Kuma Kuma Kuma Bear",
          "Hakushon Daimaou 2020",
          "Hentatsu (TV)",
          "Higurashi no Naku Koro ni Gou",
          "Fumetsu no Anata e",
          "Tomica Kizuna Gattai: Earth Granner",
          "Digimon Adventure:",
          "Made in Abyss: Retsujitsu no Ougonkyou",
          "Poccolies",
          "Koi to Yobu ni wa Kimochi Warui",
          "Log Horizon: Entaku Houkai",
          "Olga no Russia Gokouza",
          "Arms Rally",
          "Kakugen! Kakuza Tousan",
          "Gozonji! Kakuza Tousan",
          "Kakuza Tousan",
          "Fugou Keiji: Balance:Unlimited",
          "Kirakira Shougakusei Celeb-chan",
          "Leonardo Hakase to Kirin-mura no Nakama-tachi (TV)",
          "Leonardo Hakase to Kirin-mura no Nakama desho",
          "Love Live! Superstar!!",
          "Uzaki-chan wa Asobitai!",
          "Mars Red",
          "Bessatsu Olympia Kyklos",
          "Onigiri ni Naritai Cogimyun",
          "Rainbow Ruby",
          "Cardfight!! Vanguard Gaiden: If",
          "Kami-tachi ni Hirowareta Otoko",
          "Noblesse",
          "Ooya-san to Boku",
          "The God of High School",
          "One Room: Third Season",
          "Senyoku no Sigrdrifa",
          "100-man no Inochi no Ue ni Ore wa Tatteiru",
          "Garugaku.: Sei Girls Square Gakuin",
          "Obake Zukan",
          "Norimono Man: Mobile Land no Car-kun",
          "Tonikaku Kawaii",
          "Urasekai Picnic",
          "TV Yarou Nanaana: Kaibutsu Kraken wo Oe!",
          "Mairimashita! Iruma-kun 2nd Season",
          "Neko Neko Nihonshi 5th Season",
          "Bakugan: Armored Alliance",
          "Chao Shou Wuzhuang: Renzhe Wudi",
          "Watanuki-san Chi to",
          "Akudama Drive",
          "Anoyo no Subete wa, Obake-gumi!",
          "Sentouin, Hakenshimasu!",
          "86",
          "Origami Ninja Koyankinte",
          "Date A Live IV",
          "Bleach: Sennen Kessen-hen",
          "Micchiri Wanko! Animation",
          "Tensei shitara Slime Datta Ken 2nd Season Part 2",
          "Tensura Nikki: Tensei shitara Slime Datta Ken",
          "Nanatsu no Taizai: Funnu no Shinpan",
          "Itai no wa Iya nanode Bougyoryoku ni Kyokufuri Shitai to Omoimasu. 2",
          "Show by Rock!! Stars!!",
          "WIXOSS Diva(A)Live",
          "Washimo 8th Season",
          "Duel Masters King",
          "Magia Record: Mahou Shoujo Madoka☆Magica Gaiden 2nd Season - Kakusei Zenya",
          "Maiko-san Chi no Makanai-san",
          "Asatir: Mirai no Mukashi Banashi",
          "Majutsushi Orphen Hagure Tabi: Kimluck-hen",
          "Guraburu!",
          "Boku no Hero Academia 5th Season",
          "Tokyo Mew Mew New ♡",
          "Munou na Nana",
          "Isekai Maou to Shoukan Shoujo no Dorei Majutsu Ω",
          "Zhu Zhu Xia: Jing Su Xiao Yingxiong",
          "Bite-Choicar",
          "Monkateu",
          "Zo Zo Zo Zombie-kun (TV)",
          "Hataraku Saibou Black",
          "Genjitsu Shugi Yuusha no Oukoku Saikenki",
          "Tenchi Souzou Design-bu",
          "Oshiri Tantei 2nd Season",
          "Oshiri Tantei 3rd Season",
          "Oshiri Tantei 4th Season",
          "Iwa Kakeru! Sport Climbing Girls",
          "Get Up! Get Live! #Geragera",
          "Megami-ryou no Ryoubo-kun.",
          "Kaijuu Step Wandabada 2nd Season",
          "Kyuuketsuki Sugu Shinu",
          "King's Raid: Ishi wo Tsugumono-tachi",
          "Ore dake Haireru Kakushi Dungeon",
          "Hanyou no Yashahime: Sengoku Otogizoushi",
          "Kamisama ni Natta Hi",
          "Shuumatsu no Harem",
          "Mukashi Keibanashi 2nd Season",
          "Utau Soccer Panda Mifanda",
          "Yuuki Yuuna wa Yuusha de Aru Churutto!",
          "Kenja no Deshi wo Nanoru Kenja",
          "Kocchi Muite Miiko",
          "Taeko no Nichijou 2nd Season",
          "Jingju Mao Zhi Xinnian de Maoxian",
          "Hulaing Babies Aratame: Staying Babies",
          "Jingju Mao Zhi Cheng Feng Polang",
          "Lalalacoco II",
          "Edens Zero",
          "Re:Zero kara Hajimeru Isekai Seikatsu 2nd Season Part 2",
          "Shaman King (2021)",
          "Ani ni Tsukeru Kusuri wa Nai! 4",
          "Tokyo Revengers",
          "Bungou Stray Dogs Wan!",
          "Ninja Collection",
          "Otome Game no Hametsu Flag shika Nai Akuyaku Reijou ni Tensei shiteshimatta... X",
          "Fushigi Dagashiya: Zenitendou",
          "Subarashiki Kono Sekai The Animation",
          "Battle Athletess Daiundoukai ReSTART!",
          "Meikyuu Black Company",
          "Senpai ga Uzai Kouhai no Hanashi",
          "Ijiranaide, Nagatoro-san",
          "The iDOLM@STER Million Live!",
          "Osomatsu-san 3rd Season",
          "Shakunetsu Kabaddi",
          "Honzuki no Gekokujou: Shisho ni Naru Tame ni wa Shudan wo Erandeiraremasen 3rd Season",
          "Zhandou Wang Zhi Jufeng Zhan Hun 5",
          "Seizei Ganbare! Mahou Shoujo Kurumi 3rd Season",
          "World Witches Hasshin Shimasu!",
          "Anime Kapibara-san",
          "Cardfight!! Vanguard: overDress",
          "Kaizoku Oujo",
          "Yaku nara Mug Cup mo",
          "Dogeza de Tanondemita",
          "Yuuki Yuuna wa Yuusha de Aru: Dai Mankai no Shou",
          "Mashiro no Oto",
          "Heion Sedai no Idaten-tachi",
          "Peach Boy Riverside",
          "Aikatsu Planet!",
          "Robocar Poli 3",
          "Himitsukessha Taka no Tsume: Golden Spell",
          "Robocar Poli 4",
          "Taisou Zamurai",
          "Princess Connect! Re:Dive Season 2",
          "Kaeru no Pickles: Kimochi no Iro",
          "Ji Jia Shou Shen: Baolie Feiche",
          "Machikado Mazoku: 2-choume",
          "Sayonara Watashi no Cramer",
          "Shenmue the Animation",
          "Kai Byoui Ramune",
          "Project Scard: Praeter no Kizu",
          "Seijo no Maryoku wa Bannou desu",
          "Uchuu Nanchara Kotetsu-kun",
          "Sore dake ga Neck",
          "Baraou no Souretsu",
          "Horimiya",
          "SK∞",
          "Fruits Basket: The Final",
          "Uma Musume: Pretty Derby Season 2",
          "Yatogame-chan Kansatsu Nikki Sansatsume",
          "Uzaki-chan wa Asobitai! Double",
          "Kanojo, Okarishimasu 2nd Season",
          "Zhandou Wang Zhi Jufeng Zhan Hun 5: Heti Fanwai Pian",
          "Idolls!",
          "Jashin-chan Dropkick X",
          "Awajishima no Shichifukujin",
          "Osananajimi ga Zettai ni Makenai Love Comedy",
          "Godzilla: S.P",
          "San Mao Luxing Ji",
          "Wonder Egg Priority",
          "Yuukoku no Moriarty Part 2",
          "Gebäude Bäude",
          "Kaoru no Taisetsu na Mono",
          "Shadows House",
          "Rikei ga Koi ni Ochita no de Shoumei shitemita. Heart",
          "Tsuki ga Michibiku Isekai Douchuu",
          "Kaguya-sama wa Kokurasetai: Ultra Romantic",
          "Xin Hulu Xiongdi",
          "Kageki Shoujo!!",
          "Cue!",
          "Getter Robo Arc",
          "Bakuten!!",
          "Hikari no Ou",
          "Cestvs: The Roman Fighter",
          "Night Head 2041",
          "Vazzrock The Animation",
          "Motto! Majime ni Fumajime Kaiketsu Zorori 2nd Season",
          "Deatte 5-byou de Battle",
          "Kanojo mo Kanojo",
          "Xi Yangyang Yu Hui Tailang: Yiguo Da Yingjiu",
          "Zannen na Ikimono Jiten (2019)",
          "Shin no Nakama ja Nai to Yuusha no Party wo Oidasareta node, Henkyou de Slow Life suru Koto ni Shimashita",
          "Abciee Shuugyou Nikki",
          "Sasaki to Miyano",
          "Tokyo Gambo",
          "B-Project: Netsuretsu*Love Call",
          "Kaixin Chaoren Lianmeng: Shenqi Shiyan Shi",
          "Sai Er Hao Season 2: Sheng Zhe Ni Xi",
          "Sai Er Hao Season 4: Zhanshen Fengyun Jue",
          "Sai Er Hao Season 5: Lie Tian Kun Shou",
          "Sai Er Hao Season 6: Cangqiong Liehuo",
          "Sai Er Hao Season 7: Yuzhou Zhi Yan",
          "Sai Er Hao Season 8: Huanmeng Zhan Ji",
          "Sai Er Hao Season 9: Pili Jiuchong Tian",
          "Meng Li Ren",
          "Xiao Niu Xiang Qian Chong",
          "Tropical-Rouge! Precure",
          "Seirei Gensouki",
          "Kyokou Suiri Season 2",
          "Yami Shibai 8",
          "Pui Pui Molcar",
          "Mewkledreamy Mix!",
          "Puraore! Pride of Orange",
          "Selection Project",
          "Kyuukyoku Shinka shita Full Dive RPG ga Genjitsu yori mo Kusoge Dattara",
          "Wu Zhan Dao",
          "Sankaku Mado no Sotogawa wa Yoru",
          "Shaonian Shiye: Zhihui Kuaile Xia",
          "Shaonian Shiye: Xiayi Huanle Xing",
          "Shaonian Shiye: Ren Shanxing Tianxia",
          "Shaonian Shiye: Xinyi Xiao Xiake",
          "Shaonian Shiye: Zhili Wanshitong",
          "Shaonian Shiye: Yongzhe Chuang Jiangnan",
          "Shaonian Shiye: Gongji Da Yu",
          "Shaonian Shiye: Ji Yu Shengdian",
          "Shaonian Shiye: Shenmi Dadao",
          "Shaonian Shiye: Duanan Chuanqi",
          "Shaonian Shiye: Zhihui Si Lu",
          "Shaonian Shiye: Jishan Yang Ming",
          "Dou Long Zhanshi 3: Long Yin Zhi Zhan",
          "Dou Long Zhanshi 5",
          "Yuanqi Zhengjiu Dui",
          "AK Mofa Shaonu",
          "Yu Qi Lin: Xian Ling Qi Yu",
          "Shouwang Zhengfeng",
          "Chainsaw Man",
          "Koroshi Ai",
          "Isekai Meikyuu de Harem wo",
          "Kintamani Dog",
          "Iii Icecrin",
          "100-man no Inochi no Ue ni Ore wa Tatteiru 2nd Season",
          "World Trigger 3rd Season",
          "Platinum End",
          "Taishou Otome Otogibanashi",
          "Xiayi Xiao Qingtian",
          "Okashi na Sabaku no Suna to Manu",
          "Xing Mao Man Youji",
          "Xing Mao de Mimi Jidi",
          "Xiaoshi de Wenming",
          "Jixiang Mao Keke",
          "Happy Fuzi",
          "AU: Baoxiao Xiaoyuan",
          "Konglong Laile",
          "Slow Loop",
          "Maiquan Keke Yuangu Da Maoxian",
          "Kuma Kuma Kuma Bear Punch!",
          "Ruyi Ku Bao: Dong Dou Hu",
          "Ruyi Ku Bao: Xi Ou Tu",
          "Ruyi Ku Bao: Fei Li Niu",
          "Ruyi Ku Bao: Guai Li Shu",
          "Ruyi Ku Bao: Qiyi Gou",
          "Ruyi Ku Bao: Shanzhai Ji",
          "Ruyi Ku Bao: Mile Hou",
          "Ruyi Ku Bao: Ben Ben Zhu",
          "Ruyi Ku Bao: Xiao Shen Yang",
          "Ruyi Ku Bao: Qicai She",
          "Ruyi Ku Bao: Bao Li Long",
          "Ruyi Ku Bao: Sha Qi Ma",
          "Kuaile Tuo Mo Ta",
          "Binfen Baobao",
          "Shuimu Youjiao: Xuetang Xilie - Bai Jia Xing",
          "Shuimu Juchang Xi You Ji",
          "Orient",
          "Mahouka Koukou no Yuutousei",
          "Mushoku Tensei: Isekai Ittara Honki Dasu Part 2",
          "IDOLiSH7 Third Beat!",
          "Itazuraguma no Gloomy",
          "Kindan Joshi",
          "Kawaii dake ja Nai Shikimori-san",
          "Dinosaur Biyori",
          "Soredemo Ayumu wa Yosetekuru",
          "Fairy Ranmaru: Anata no Kokoro Otasuke Shimasu",
          "Kuaile Xiao Zheng Xing",
          "Shuxue Huang Dao Lixian Ji 3",
          "Er Dan Toutai Ji",
          "Xiangpi Ni Xiao Zhen",
          "Huoxing Wa: Zhi Gudai Dajia Gushi",
          "Huo Xing Wa: Maoxian Leyuan",
          "D4DJ Petit Mix",
          "Saiyuuki Reload: Zeroin",
          "DiDi Bang Bang Zongdongyuan",
          "Shenqi Xiaozi: Mike Yu Xiao Buji",
          "Xiao Shu Ping Ping: Chengyu Dadian",
          "Long Taizi: Yinhe Da Maoxian",
          "Shiroi Suna no Aquatope",
          "Vivy: Fluorite Eye's Song",
          "Odd Taxi",
          "Wave!! Surfing Yappe!! (TV)",
          "Quwei San Shi Liu Ji",
          "Kaka He Ta de Pengyoumen",
          "Daqi He Tonghua Zhen",
          "Ao Ao Long",
          "Shi Er Shengxiao: Mashang Jiu Hao",
          "Shi Er Shengxiao: Long Xing Tianxia",
          "Blue Period",
          "Shinkansen Henkei Robo Shinkalion Z the Animation",
          "Xi Xiao Yijia Qin",
          "Waixingren Xiao Nano",
          "Fengyun Qi Dui",
          "Xianggu Teqin Dui: Huluobo Ruqin",
          "Ben Ben You Youji: Chuanyue Huaxia",
          "Ben Ben You Youji: Mala Xialingying",
          "Kaixin Guo De Luse Jiayuan: Haha Senlin",
          "Niehime to Kemono no Ou",
          "Shouwei Mayi Cun",
          "Tantei wa Mou, Shindeiru.",
          "Haoqi Tan Zhang",
          "Jigokuraku",
          "Feichang Xiaozi Ma Ming Jia",
          "Dolls' Frontline",
          "Duel Masters King!",
          "IDOLiSH7 Third Beat! Part 2",
          "Qicai Shijie",
          "Tantan Xiao Dongyuan",
          "Songshan Qi Yuan",
          "Yi Tang Xiao Gushi",
          "Xing Zi Xiao Chu Shen",
          "Taigong Qi Shu",
          "Tegong Tu: Xin De Maoxian",
          "Can Wa Yu Tianchi Guaishou",
          "Choegang Top Plate Part 2",
          "Yingxiong Fengzicai",
          "Dongnan Te Weidui",
          "Xiangshu Canting",
          "Ba Min Jingling Duo Bao Ji",
          "Shinka no Mi: Shiranai Uchi ni Kachigumi Jinsei",
          "Fan Kai Zhe Yi Ye",
          "Todag Todag Kkomo",
          "Tai Hao Fuxi",
          "Tutu Zhi Zhen Jia Gongzhu",
          "Tensai Ouji no Akaji Kokka Saisei Jutsu",
          "Shikkakumon no Saikyou Kenja",
          "Shokei Shoujo no Virgin Road",
          "Tensei Kenja no Isekai Life: Dai-2 no Shokugyou wo Ete, Sekai Saikyou ni Narimashita",
          "Dungeon ni Deai wo Motomeru no wa Machigatteiru Darou ka IV: Shin Shou - Meikyuu-hen",
          "Mianju Zhanshen",
          "Summertime Render",
          "Congming De Shunliu 2nd Season",
          "Jouran: The Princess of Snow and Blood",
          "Shinigami Bocchan to Kuro Maid",
          "Senba Xingfu Dao",
          "Jiayou Ba! San Er Ban",
          "Pan Hu Chuanqi",
          "Seven Knights Revolution: Eiyuu no Keishousha",
          "Caihong Xiong: Jizhan Huanying Guai",
          "Haishang Si Lu: Nan Zhubao Bao",
          "Chao Zhi Neng Zu Qiu 2: Shijie Dasai Pian",
          "Chickip Dancers",
          "Blue Reflection Ray",
          "Zhuanzhan Zhi Chao Xuan Doushi",
          "Xiaolu Xingren Er",
          "Tai Lao Niangniang Yu Baicha Xianzi",
          "Caoben Jiazu",
          "Kimetsu no Yaiba: Yuukaku-hen",
          "Sekai Saikou no Ansatsusha, Isekai Kizoku ni Tensei suru",
          "Bocchi the Rock!",
          "Tiantian Jiayuan",
          "Taihu Shaonian",
          "Jia You Dou Ding",
          "Budai Xiao Heshang",
          "Hua Huli Yu Daodan Ya",
          "Galaxy Kids",
          "Geomjeong Gomusin",
          "Geomjeong Gomusin 4",
          "Kkoma Sinlang Kung Dolyeong",
          "Kkoma Haenyeo Mongniwa Haenyeo Teuggongdae",
          "Koby Koby",
          "Kkureogi Kelatobseu Koliyo",
          "Nae Salang Ddung",
          "Naechingu Macada",
          "Nae Chingu Haechi",
          "Naughty Nuts",
          "Nohjima Jeongsinjul",
          "Dao Baejji Bumhil Daesodong",
          "DinoCore",
          "Donghwanala ABC",
          "Dudadakung",
          "Dudadakung 2nd Season",
          "Duchiwa Ppukku",
          "Noonbory Season 2",
          "Longlong Juggessji?",
          "Mabeobsonyeo Dee Dee",
          "Mask Man",
          "Mailloui Daemoheom",
          "Magic Adventures: The Crystal of Dark",
          "Meoteoldosa (TV)",
          "Metallion",
          "Mujigae Yojeong Tongtong",
          "Misultamheomdae",
          "Me & My Robot",
          "Bio Cop Wingo",
          "Biklonz",
          "Bangle School",
          "Bugsbot Ignition",
          "Haerowa Toremi",
          "Athlon Tobot",
          "Bubble Bubble Cook",
          "Boomba & Toomba",
          "Beuledeu Ibalso",
          "Beuliseutol Tamheomdae",
          "Ppalgan Jajeongeo",
          "Pucca 3",
          "Leadale no Daichi nite",
          "Porong Porong Pororo 7",
          "Pororo Donghwanala",
          "Ore, Tsushima",
          "Saeng-il-wang-gug-ui Princess Pring",
          "Shadow Fighter",
          "SofyRuby",
          "Sup Sog Chingu Seutonijeu",
          "Super Hams Band",
          "Taikong Xiha Zu",
          "Sigan Yeohaengja Luke",
          "Synostone",
          "Sinbi Apateu 444ho",
          "Sinbi Apateu: Ghost Ball Double X",
          "Appa eolil Jeog-en",
          "Annyeong! Goebalgaebal",
          "Allegseuui Moheom",
          "Apple Candy Girl",
          "Aerover: Pinigseuui Buhwal",
          "Yesnal Yesjeog-e",
          "Wageul-wageul Kokomom",
          "Yong-gamhan Sobangcha Ray",
          "Ulineun Myeong-tam-jeong",
          "Wonder Balls",
          "Yuhuwa Chingudeul 2",
          "Eungkka Sonata",
          "Iyagi Baedalbu Dong-gaebi",
          "Iyab! Space Jungle",
          "Kage no Jitsuryokusha ni Naritakute!",
          "Iljimae",
          "Jeong-geul-eseo Sal-anamgi: Maru Adventure",
          "Zombie Dumb",
          "G Fighters",
          "Geo Mecha: Beast Guardian",
          "Cholong-iui Yesnal-Yeohaeng",
          "Chuldong! Animal Rescue",
          "Steel Fire Brigade Fire Robo",
          "Canimals",
          "Kungya Kungya",
          "Kung Fu Gonglyong Suhodae",
          "Crystal-yojeong Z-Squad",
          "Kioka",
          "Kijeu CSI",
          "Catch! Tiniping",
          "Taoleujima Beoseuteo",
          "Tori Go! Go!",
          "Taekwon-wang Gang Taepung",
          "Ghost Mecard",
          "Bbasha Mecard",
          "RPG Fudousan",
          "Youkai Watch ♪",
          "Mazica Party",
          "Re-Main",
          "Hataraku Maou-sama!!",
          "Sabikui Bisco",
          "Shijou Saikyou no Daimaou, Murabito A ni Tensei suru",
          "Maou Gakuin no Futekigousha: Shijou Saikyou no Maou no Shiso, Tensei shite Shison-tachi no Gakkou e Kayou II",
          "The Legend of Heroes: Sen no Kiseki - Northern War",
          "Shikaru Neko",
          "Kyoukai Senki",
          "D_Cide Traumerei the Animation",
          "Tsuki to Laika to Nosferatu",
          "Mieruko-chan",
          "Oshiri Tantei 5th Season",
          "Higurashi no Naku Koro ni Sotsu",
          "Yama no Susume: Next Summit",
          "Scarlet Nexus",
          "Akachan Honbuchou",
          "Hanyou no Yashahime: Sengoku Otogizoushi - Ni no Shou",
          "Aerover: Seupeiseu Drone Gwihwan",
          "Dosukoi Sushi Zumou",
          "Washimo 9th Season",
          "Do It Yourself!!",
          "Dr. Stone: New World",
          "Akebi-chan no Sailor-fuku",
          "Takt Op. Destiny",
          "Visual Prison",
          "86 Part 2",
          "Vanitas no Karte",
          "Shingeki no Kyojin: The Final Season Part 2",
          "Pittanko!! Nekozakana (2020)",
          "Liar Liar",
          "Koi wa Sekai Seifuku no Ato de",
          "Gyakuten Sekai no Denchi Shoujo",
          "Fuuto Tantei",
          "Kakkou no Iinazuke",
          "Tesla Note",
          "Dance Dance Danseur",
          "Sono Bisque Doll wa Koi wo Suru",
          "Kono Healer, Mendokusai",
          "Jahy-sama wa Kujikenai!",
          "Gaikotsu Kishi-sama, Tadaima Isekai e Odekakechuu",
          "Saihate no Paladin",
          "Bbasha Mecard S",
          "Ghost Mecard Wangma",
          "Hyper Positive Yogoremon",
          "Kaginado",
          "Build Divide: Code Black",
          "Build Divide: Code White",
          "Deaimon",
          "ColoColo Animal Otogibanashi",
          "Neko Jockey",
          "Isekai Shokudou 2",
          "Mahoutsukai Reimeiki",
          "Sonny Boy",
          "Healer Girl",
          "180 Byou de Kimi no Mimi wo Shiawase ni Dekiru ka?",
          "Pretty All Friends Selection",
          "Cardfight!! Vanguard: overDress Season 2",
          "Overlord IV",
          "Digital Tokoro-san",
          "Love Live! Nijigasaki Gakuen School Idol Doukoukai 2nd Season",
          "Komi-san wa, Comyushou desu.",
          "Mahou Shoujo Magical Destroyers",
          "Fantasy Bishoujo Juniku Ojisan to",
          "Lupin III: Part 6",
          "Ao Ashi",
          "Shuimu Xuetang 2nd Season",
          "Geo Mecha: Captain Dino",
          "Wonder Balls Season 2",
          "Xi Yangyang Yu Hui Tailang: Kuang Chu Shengli",
          "Xi Yangyang Yu Hui Tailang: Juezhan Ci Shidai",
          "Kami-tachi ni Hirowareta Otoko 2nd Season",
          "Yami Shibai 9",
          "Vanitas no Karte Part 2",
          "Kkum-ui Wang-gug SofyRuby",
          "High Card",
          "Shachiku-san wa Youjo Yuurei ni Iyasaretai.",
          "Reiwa no Di Gi Charat",
          "Gunma-chan",
          "Isekai Ojisan",
          "Kick & Slide",
          "Yaku nara Mug Cup mo: Niban Gama",
          "Waccha PriMagi!",
          "Deep Insanity: The Lost Child",
          "Seiken Densetsu: Legend of Mana - The Teardrop Crystal",
          "Ma-eum-uisoli",
          "Shin Ikkitousen",
          "Mou Ippon!",
          "Kaijin Kaihatsu-bu no Kuroitsu-san",
          "Vinland Saga Season 2",
          "Kanashiki Debu Neko-chan",
          "Isekai Yakkyoku",
          "Mamahaha no Tsurego ga Motokano datta",
          "Deji Meets Girl",
          "Gensou Sangokushi: Tengen Reishinki",
          "Digimon Ghost Game",
          "Hakozume: Kouban Joshi no Gyakushuu",
          "Aharen-san wa Hakarenai",
          "Uchi no Shishou wa Shippo ga Nai",
          "Hanabi-chan wa Okuregachi",
          "Tama & Friends: Sagase! Mahou no Punipuni Stone",
          "Love All Play",
          "Blue Lock",
          "Ningen Fushin no Boukensha-tachi ga Sekai wo Sukuu you desu",
          "Kimi to Fit Boxing",
          "Gunjou no Fanfare",
          "Heroine Tarumono! Kiraware Heroine to Naisho no Oshigoto",
          "Fumetsu no Anata e Season 2",
          "Karakai Jouzu no Takagi-san 3",
          "Heike Monogatari",
          "Under Ninja",
          "Kumichou Musume to Sewagakari",
          "Atasha Kawashiri Kodama da yo: Dangerous Lifehacker no Tadareta Seikatsu",
          "Shadows House 2nd Season",
          "Mairimashita! Iruma-kun 3rd Season",
          "Cardfight!! Vanguard: will+Dress",
          "Cardfight!! Vanguard: will+Dress Season 2",
          "Kidou Senshi Gundam: Suisei no Majo",
          "Black★★Rock Shooter: Dawn Fall",
          "Shinmai Renkinjutsushi no Tenpo Keiei",
          "Shinigami Bocchan to Kuro Maid 2nd Season",
          "Hensuki▽",
          "Tensei shitara Ken deshita",
          "Eiyuu Kyoushitsu",
          "Boku no Hero Academia 6th Season",
          "Sai Er Hao Season 11: Liekong Canghai",
          "Kimetsu no Yaiba: Mugen Ressha-hen",
          "Genjitsu Shugi Yuusha no Oukoku Saikenki Part 2",
          "Tribe Nine",
          "Akuyaku Reijou nanode Last Boss wo Kattemimashita",
          "Sugar Apple Fairy Tale",
          "Edens Zero 2nd Season",
          "Meitantei Conan: Hannin no Hanzawa-san",
          "Meitantei Conan: Zero no Tea Time",
          "Neko Jockey 2nd Season",
          "Shadowverse Flame",
          "Shin Tennis no Ouji-sama: U-17 World Cup",
          "Yoshida Katsuko no Yabai wa! SDGs: Araburu! Trouble! Sustainable!",
          "Konu to Tanoshii Otomodachi",
          "Kingdom 4th Season",
          "Mob Psycho 100 III",
          "Yuusha, Yamemasu",
          "Ryman's Club",
          "Motto! Majime ni Fumajime Kaiketsu Zorori 3rd Season",
          "Ijiranaide, Nagatoro-san 2nd Attack",
          "Love Live! Superstar!! 2nd Season",
          "Tokyo 24-ku",
          "Arknights: Reimei Zensou",
          "Isekai Shoukan wa Nidome desu",
          "Shine Post",
          "Birdie Wing: Golf Girls' Story",
          "Chiikawa",
          "Spy x Family",
          "Irodorimidori",
          "Tomodachi Game",
          "Delicious Party♡Precure",
          "Technoroid: Overmind",
          "On Air Dekinai!",
          "Kyuuketsuki Sugu Shinu 2",
          "Tonikaku Kawaii 2nd Season",
          "Bungou Stray Dogs 4th Season",
          "Kunoichi Tsubaki no Mune no Uchi",
          "Yofukashi no Uta",
          "Peter Grill to Kenja no Jikan: Super Extra",
          "Shoot! Goal to the Future",
          "Paripi Koumei",
          "Mononogatari",
          "Mato Seihei no Slave",
          "Skip to Loafer",
          "Ninjala (TV)",
          "Fuufu Ijou, Koibito Miman.",
          "Yatogame-chan Kansatsu Nikki Yonsatsume",
          "Otome Game Sekai wa Mob ni Kibishii Sekai desu",
          "Kami Kuzu☆Idol",
          "Eiyuu-ou, Bu wo Kiwameru Tame Tenseisu: Soshite, Sekai Saikyou no Minarai Kishi♀",
          "Garugaku. II: Lucky Stars",
          "Teikou Penguin",
          "Golden Kamuy 4th Season",
          "Yowamushi Pedal: Limit Break",
          "Megaton-kyuu Musashi 2nd Season",
          "Nanatsu no Maken ga Shihai suru",
          "Migi to Dali",
          "Koukyuu no Karasu",
          "Yami Shibai 10",
          "Insect Land",
          "Spy x Family Part 2",
          "Ayakashi Triangle",
          "Yu☆Gi☆Oh! Go Rush!!",
          "Tokyo Revengers: Seiya Kessen-hen",
          "Rurouni Kenshin: Meiji Kenkaku Romantan (2023)",
          "Komi-san wa, Comyushou desu. 2nd Season",
          "Muv-Luv Alternative 2nd Season",
          "Tsundere Akuyaku Reijou Liselotte to Jikkyou no Endou-kun to Kaisetsu no Kobayashi-san",
          "Poputepipikku 2nd Season",
          "Saihate no Paladin: Tetsusabi no Yama no Ou",
          "Kyoukai Senki Part 2",
          "Baby-Hamitang",
          "Kaginado Season 2",
          "Lycoris Recoil",
          "Urusei Yatsura (2022)",
          "Otonari no Tenshi-sama ni Itsunomanika Dame Ningen ni Sareteita Ken",
          "Teppen!!!!!!!!!!!!!!!",
          "Jantama Pong☆",
          "Kimi wa Houkago Insomnia",
          "Oshiri Tantei 6th Season",
          "Benriya Saitou-san, Isekai ni Iku",
          "Estab-Life: Great Escape",
          "Ooyukiumi no Kaina",
          "Alice Gear Aegis Expansion",
          "Hoshi no Samidare",
          "Prima Doll",
          "Mushikaburi-hime",
          "Saikyou Onmyouji no Isekai Tenseiki",
          "Onipan!",
          "Chimimo",
          "Ma-eum-uisoli Season 2",
          "Ma-eum-uisoli Season 3",
          "Extreme Hearts",
          "Jujutsu Kaisen 2nd Season",
          "Kimetsu no Yaiba: Katanakaji no Sato-hen",
          "Helck",
          "Duel Masters King Max",
          "Kuro no Shoukanshi",
          "Kyojin no Hoshi: Tokubetsu-hen - Hanagata Mitsuru",
          "Yurei Deco",
          "Youkoso Jitsuryoku Shijou Shugi no Kyoushitsu e 2nd Season",
          "Shinobi no Ittoki",
          "NieR:Automata Ver1.1a",
          "Noumin Kanren no Skill bakka Agetetara Nazeka Tsuyoku Natta.",
          "Akachan Honbuchou 2nd Season",
          "Kizuna no Allele",
          "I Love Me",
          "Cap Kakumei Bottleman DX",
          "Mushoku Tensei II: Isekai Ittara Honki Dasu",
          "Futoku no Guild",
          "Kinsou no Vermeil: Gakeppuchi Majutsushi wa Saikyou no Yakusai to Mahou Sekai wo Tsukisusumu",
          "Isekai One Turn Kill Neesan: Ane Douhan no Isekai Seikatsu Hajimemashita",
          "Spy Kyoushitsu",
          "Inu ni Nattara Suki na Hito ni Hirowareta.",
          "Eternal Boys",
          "Ragna Crimson",
          "C Danchi",
          "Orient: Awajishima Gekitou-hen",
          "Bucchigire!",
          "RWBY: Hyousetsu Teikoku",
          "Renai Flops",
          "Opus.COLORs",
          "Engage Kiss",
          "Lv1 Maou to One Room Yuusha",
          "Isekai Nonbiri Nouka",
          "4-nin wa Sorezore Uso wo Tsuku",
          "Shin Shinka no Mi: Shiranai Uchi ni Kachigumi Jinsei",
          "Masamune-kun no Revenge R",
          "The IDOLM@STER Cinderella Girls: U149",
          "Watashi no Shiawase na Kekkon",
          "Kidou Senshi Gundam: Tekketsu no Orphans - Tokubetsu-hen",
          "D4DJ All Mix",
          "Ao no Orchestra",
          "Isekai wa Smartphone to Tomo ni. 2",
          "Kenda Master Ken (TV)",
          "Shaman King: Flowers",
          "Oniichan wa Oshimai!",
          "Cool Doji Danshi",
          "Yoru wa Neko to Issho",
          "Kaminaki Sekai no Kamisama Katsudou",
          "Tanoshii Sansuu (TV)",
          "Otonari ni Ginga",
          "Yuusha ga Shinda!",
          "Hyouken no Majutsushi ga Sekai wo Suberu",
          "Kkoma Bus Tayo 6",
          "Madeob Bus Tayo",
          "Titipo Titipo 2",
          "Titipo Titipo 3",
          "Level 1 dakedo Unique Skill de Saikyou desu",
          "KJ File",
          "Nanatsu no Taizai: Mokushiroku no Yonkishi",
          "Kubo-san wa Mob wo Yurusanai",
          "Watashi no Yuri wa Oshigoto desu!",
          "Saikin Yatotta Maid ga Ayashii",
          "Iii Icecrin Double",
          "Dekiru Neko wa Kyou mo Yuuutsu",
          "Warau Arsnotoria Sun!",
          "Boku to Roboko",
          "Paradox Live the Animation",
          "Kono Subarashii Sekai ni Bakuen wo!",
          "Pui Pui Molcar: Driving School",
          "Akachan Honbuchou 3rd Season",
          "Doushitemo Eto ni Hairitai 2",
          "\"Oshi no Ko\"",
          "Yuusha Party wo Tsuihou sareta Beast Tamer, Saikyoushu no Nekomimi Shoujo to Deau",
          "Zannen na Ikimono Jiten (2021)",
          "Zannen na Ikimono Jiten (2022)",
          "Recola",
          "Akikan no Tuna",
          "Cardfight!! Vanguard: will+Dress Season 3",
          "Edomae Elf",
          "Shiro Seijo to Kuro Bokushi",
          "My Home Hero",
          "Trigun Stampede",
          "5-Okunen Button",
          "Koori Zokusei Danshi to Cool na Douryou Joshi",
          "Akiba Meido Sensou",
          "Mashle",
          "Genjitsu no Yohane: Sunshine in the Mirror",
          "Birdie Wing: Golf Girls' Story Season 2",
          "Nokemono-tachi no Yoru",
          "Ore dake Level Up na Ken",
          "Tomo-chan wa Onnanoko!",
          "Kanojo ga Koushaku-tei ni Itta Riyuu",
          "Obake Zukan!",
          "Sakuretsu! Amabie-hime.",
          "Shangri-La Frontier: Kusoge Hunter, Kamige ni Idoman to su",
          "Lao Fu Zi: Mojie Meng Zhanji",
          "Lao Fu Zi: Mojie Meng Zhanji II",
          "Aru Asa Dummy Head Mic ni Natteita Ore-kun no Jinsei",
          "Kotowaza Gundam-san",
          "Kaiko sareta Ankoku Heishi (30-dai) no Slow na Second Life",
          "Duel Masters Win",
          "Rougo ni Sonaete Isekai de 8-manmai no Kinka wo Tamemasu",
          "Madtoy Chatty",
          "Dark Gathering",
          "Boku no Kokoro no Yabai Yatsu",
          "Tensei Kizoku no Isekai Boukenroku: Jichou wo Shiranai Kamigami no Shito",
          "Okashi na Tensei",
          "Mix: Meisei Story 2nd Season - Nidome no Natsu, Sora no Mukou e",
          "Jidou Hanbaiki ni Umarekawatta Ore wa Meikyuu wo Samayou",
          "Ousama Ranking: Yuuki no Takarabako",
          "Dungeon Meshi",
          "Tensei Oujo to Tensai Reijou no Mahou Kakumei",
          "Athlon Tobot 2",
          "Athlon Tobot 3",
          "Undead Unluck",
          "Nanashi Kaidan",
          "Ganbare! Choushuu-kun",
          "Tsurune: Tsunagari no Issha",
          "Isekai de Cheat Skill wo Te ni Shita Ore wa, Genjitsu Sekai wo mo Musou Suru: Level Up wa Jinsei wo Kaeta",
          "Konyaku Haki sareta Reijou wo Hirotta Ore ga, Ikenai Koto wo Oshiekomu",
          "Punirunes",
          "Mahoutsukai no Yome Season 2",
          "Tearmoon Teikoku Monogatari: Dantoudai kara Hajimaru, Hime no Tensei Gyakuten Story",
          "Sylvanian Families: Freya no Happy Diary",
          "Sylvanian Families: Mini Story - Peony",
          "Jitsu wa Ore, Saikyou deshita?",
          "Megami no Café Terrace",
          "Berserk: Ougon Jidai-hen - Memorial Edition",
          "Dekoboko Majo no Oyako Jijou",
          "Sousou no Frieren",
          "Mamekichi Mameko NEET no Nichijou",
          "Human Bug Daigaku",
          "Kkoma Bus Tayo Pilot",
          "Synduality: Noir",
          "Kanojo mo Kanojo 2nd Season",
          "Bo & To's Family",
          "Bo & To's Family 1st Season Part 2",
          "Bo & To's Family 2nd Season",
          "Kanojo, Okarishimasu 3rd Season",
          "Nijiyon Animation",
          "Tokyo Mew Mew New ♡ 2nd Season",
          "Dungeon ni Deai wo Motomeru no wa Machigatteiru Darou ka IV: Fuka Shou - Yakusai-hen",
          "Yamada-kun to Lv999 no Koi wo Suru",
          "UniteUp!",
          "Majutsushi Orphen Hagure Tabi: Urbanrama-hen",
          "Kawaisugi Crisis",
          "Ars no Kyojuu",
          "Kidou Senshi Gundam: Suisei no Majo Season 2",
          "Hataraku Maou-sama!! 2nd Season",
          "Revenger",
          "Kingdom 5th Season",
          "KJ File 2nd Season",
          "Hoshikuzu Telepath",
          "Seija Musou: Salaryman, Isekai de Ikinokoru Tame ni Ayumu Michi",
          "Ojou to Banken-kun",
          "Chickip Dancers 2nd Season",
          "Beuledeu Ibalso 2",
          "Beuledeu Ibalso 3",
          "Uchi no Kaisha no Chiisai Senpai no Hanashi",
          "Agisang-eo Ollie Tululutulu",
          "Agisang-eo Ollie wa William",
          "Tengoku Daimakyou",
          "Bartender: Kami no Glass",
          "I Love Me 2nd Season",
          "Buddy Daddies",
          "Flaglia: Natsuyasumi no Monogatari",
          "Hyakushou Kizoku",
          "Ayaka",
          "Higeki no Genkyou to Naru Saikyou Gedou Last Boss Joou wa Tami no Tame ni Tsukushimasu.",
          "Tondemo Skill de Isekai Hourou Meshi",
          "Boukensha ni Naritai to Miyako ni Deteitta Musume ga S-Rank ni Natteta",
          "Oshiri Tantei 7th Season",
          "Tensei shitara Slime Datta Ken 3rd Season",
          "The Marginal Service",
          "Dead Mount Death Play",
          "Jijou wo Shiranai Tenkousei ga Guigui Kuru.",
          "Yumemiru Danshi wa Genjitsushugisha",
          "Ooya-san to Boku 2nd Season",
          "Ooya-san to Boku 3rd Season",
          "Yomawari Neko",
          "World Dai Star",
          "Hirogaru Sky! Precure",
          "AI no Idenshi",
          "Poporisu & Friends",
          "Watashi no Oshi wa Akuyaku Reijou.",
          "Megumi no Daigo: Kyuukoku no Orange",
          "Pokemon: Mezase Pokemon Master",
          "Pokemon (2023)",
          "Kamonohashi Ron no Kindan Suiri",
          "Spy x Family Season 2",
          "Minami no Shima no Chiisana Hikouki Birdy",
          "Bleach: Sennen Kessen-hen - Ketsubetsu-tan",
          "Tousouchuu: Great Mission",
          "Dokan-kun Nanika no Ekaki Uta",
          "Oshiete! Dokan-kun",
          "Hikikomari Kyuuketsuki no Monmon",
          "Zom 100: Zombie ni Naru made ni Shitai 100 no Koto",
          "Dudadakung 3rd Season",
          "Cardfight!! Vanguard: D Series Season 6",
          "Cardfight!! Vanguard: D Series Season 7",
          "Cardfight!! Vanguard: D Series Season 8",
          "Cardfight!! Vanguard: D Series Season 9",
          "Yorozu Kotto Yamagashi",
          "Chou Futsuu Ken Chiba Densetsu",
          "Gunma-chan Season 2",
          "Sasayaku You ni Koi wo Utau",
          "Suki na Ko ga Megane wo Wasureta",
          "Rokudou no Onna-tachi",
          "Temple",
          "Pinkfong Wonderstar",
          "Myeongtamjeong Pinkfong-gwa Hogi",
          "Dog Signal",
          "Overtake!",
          "Hametsu no Oukoku",
          "Toaru Ossan no VRMMO Katsudouki",
          "Kage no Jitsuryokusha ni Naritakute! 2nd Season",
          "Bosanimal",
          "Chibi Godzilla no Gyakushuu",
          "Sore Shikanai Wakenai Deshou",
          "Mukashibanashi no Oheya: Tsutaetai Nihon Mukashibanashi",
          "Naruto (Shinsaku Anime)",
          "Kibou no Chikara: Otona Precure '23",
          "Majutsushi Orphen Hagure Tabi: Seiiki-hen",
          "Dead Mount Death Play Part 2",
          "The iDOLM@STER Shiny Colors",
          "Ryza no Atelier: Tokoyami no Joou to Himitsu no Kakurega",
          "Duel Masters Win: Duel Wars-hen",
          "YouTuNya",
          "Undead Girl Murder Farce",
          "Metallic Rouge",
          "Kamierabi",
          "Captain Tsubasa: Junior Youth-hen",
          "Kono Sekai wa Fukanzen Sugiru",
          "Sugar Apple Fairy Tale Part 2",
          "Ikimono-san",
          "Sakuretsu! Amabie-hime. Season 2",
          "Shadowverse Flame: Seven Shadows-hen",
          "Horimiya: Piece",
          "Hypnosis Mic: Division Rap Battle - Rhyme Anima +",
          "Kin-Q Kids☆Otasu K-tai",
          "Shin Nippon History",
          "Mononogatari 2nd Season",
          "Bungou Stray Dogs 5th Season",
          "Bikkurimen",
          "Tokyo Revengers: Tenjiku-hen",
          "Den Den no Dennou Densha",
          "Spy Kyoushitsu 2nd Season",
          "BanG Dream! It's MyGO!!!!!",
          "Go! Go! Vehicle Zoo",
          "Sinbi Apateu: Zero",
          "Baempaieosonyeo Dalja",
          "Bubble Bubble Cook 2nd Season",
          "Rainbow Ruby 2nd Season",
          "Bubble Cook Wonjeongdae",
          "Jifeng Jingshe",
          "Yuzuki-san Chi no Yonkyoudai.",
          "Yami Shibai 11",
          "Mamekichi Mameko NEET no Nichijou 2nd Season",
          "Xiongmao He Kaixin Qiu",
          "Stray Sheep no Daibouken",
          "Bucchigiri?!",
          "Pon no Michi",
          "Dr. Stone: New World Part 2",
          "Banjjagbanjjag Catch! Tiniping",
          "Alssongdalssong Catch! Tiniping",
          "Boku no Kokoro no Yabai Yatsu Season 2"
         ],
         "parents": [
          "",
          "Season",
          "Season",
          "Season",
          "Season",
          "spring",
          "spring",
          "summer",
          "fall",
          "spring",
          "spring",
          "fall",
          "spring",
          "spring",
          "fall",
          "fall",
          "fall",
          "fall",
          "fall",
          "fall",
          "spring",
          "spring",
          "fall",
          "fall",
          "fall",
          "fall",
          "winter",
          "spring",
          "winter",
          "spring",
          "spring",
          "spring",
          "fall",
          "fall",
          "fall",
          "spring",
          "fall",
          "spring",
          "summer",
          "summer",
          "fall",
          "fall",
          "spring",
          "spring",
          "fall",
          "fall",
          "winter",
          "summer",
          "summer",
          "fall",
          "summer",
          "fall",
          "fall",
          "summer",
          "spring",
          "spring",
          "spring",
          "spring",
          "spring",
          "spring",
          "fall",
          "fall",
          "spring",
          "spring",
          "spring",
          "fall",
          "fall",
          "spring",
          "winter",
          "spring",
          "winter",
          "spring",
          "spring",
          "fall",
          "spring",
          "spring",
          "spring",
          "spring",
          "winter",
          "spring",
          "fall",
          "winter",
          "fall",
          "fall",
          "summer",
          "fall",
          "spring",
          "spring",
          "fall",
          "spring",
          "spring",
          "spring",
          "fall",
          "spring",
          "fall",
          "summer",
          "fall",
          "fall",
          "fall",
          "winter",
          "winter",
          "fall",
          "winter",
          "fall",
          "spring",
          "fall",
          "winter",
          "spring",
          "fall",
          "fall",
          "spring",
          "summer",
          "fall",
          "winter",
          "winter",
          "spring",
          "fall",
          "fall",
          "spring",
          "spring",
          "winter",
          "summer",
          "spring",
          "summer",
          "fall",
          "fall",
          "summer",
          "fall",
          "spring",
          "spring",
          "spring",
          "spring",
          "fall",
          "fall",
          "spring",
          "spring",
          "winter",
          "spring",
          "fall",
          "spring",
          "fall",
          "winter",
          "summer",
          "spring",
          "spring",
          "spring",
          "winter",
          "winter",
          "spring",
          "spring",
          "fall",
          "spring",
          "fall",
          "winter",
          "winter",
          "winter",
          "summer",
          "fall",
          "summer",
          "spring",
          "summer",
          "spring",
          "spring",
          "spring",
          "winter",
          "spring",
          "spring",
          "summer",
          "fall",
          "fall",
          "summer",
          "winter",
          "fall",
          "summer",
          "summer",
          "fall",
          "fall",
          "spring",
          "fall",
          "spring",
          "spring",
          "spring",
          "spring",
          "summer",
          "spring",
          "summer",
          "fall",
          "winter",
          "fall",
          "fall",
          "fall",
          "spring",
          "spring",
          "winter",
          "fall",
          "spring",
          "fall",
          "fall",
          "fall",
          "fall",
          "fall",
          "fall",
          "winter",
          "winter",
          "fall",
          "spring",
          "winter",
          "winter",
          "spring",
          "winter",
          "summer",
          "spring",
          "fall",
          "summer",
          "winter",
          "summer",
          "fall",
          "winter",
          "summer",
          "spring",
          "spring",
          "spring",
          "winter",
          "spring",
          "summer",
          "spring",
          "fall",
          "summer",
          "fall",
          "fall",
          "winter",
          "fall",
          "winter",
          "winter",
          "fall",
          "fall",
          "fall",
          "spring",
          "fall",
          "spring",
          "winter",
          "spring",
          "spring",
          "fall",
          "spring",
          "fall",
          "summer",
          "spring",
          "fall",
          "winter",
          "fall",
          "fall",
          "spring",
          "fall",
          "fall",
          "fall",
          "winter",
          "winter",
          "winter",
          "winter",
          "winter",
          "winter",
          "fall",
          "winter",
          "winter",
          "winter",
          "winter",
          "winter",
          "winter",
          "fall",
          "spring",
          "spring",
          "fall",
          "summer",
          "fall",
          "fall",
          "summer",
          "fall",
          "fall",
          "summer",
          "spring",
          "summer",
          "winter",
          "spring",
          "winter",
          "spring",
          "summer",
          "spring",
          "spring",
          "summer",
          "winter",
          "summer",
          "spring",
          "fall",
          "spring",
          "summer",
          "winter",
          "fall",
          "spring",
          "fall",
          "spring",
          "fall",
          "fall",
          "fall",
          "summer",
          "fall",
          "spring",
          "summer",
          "fall",
          "fall",
          "spring",
          "spring",
          "spring",
          "fall",
          "summer",
          "winter",
          "spring",
          "winter",
          "summer",
          "summer",
          "summer",
          "fall",
          "fall",
          "spring",
          "spring",
          "spring",
          "summer",
          "summer",
          "fall",
          "summer",
          "spring",
          "spring",
          "winter",
          "spring",
          "summer",
          "spring",
          "summer",
          "spring",
          "spring",
          "spring",
          "spring",
          "spring",
          "spring",
          "spring",
          "summer",
          "spring",
          "summer",
          "spring",
          "fall",
          "fall",
          "spring",
          "winter",
          "spring",
          "fall",
          "fall",
          "fall",
          "winter",
          "fall",
          "winter",
          "winter",
          "fall",
          "fall",
          "winter",
          "fall",
          "winter",
          "winter",
          "spring",
          "winter",
          "summer",
          "fall",
          "fall",
          "fall",
          "fall",
          "winter",
          "spring",
          "spring",
          "winter",
          "summer",
          "summer",
          "fall",
          "summer",
          "fall",
          "summer",
          "summer",
          "spring",
          "fall",
          "summer",
          "winter",
          "winter",
          "fall",
          "fall",
          "summer",
          "spring",
          "spring",
          "spring",
          "winter",
          "winter",
          "spring",
          "summer",
          "spring",
          "winter",
          "fall",
          "summer",
          "fall",
          "winter",
          "spring",
          "fall",
          "winter",
          "spring",
          "summer",
          "fall",
          "spring",
          "fall",
          "spring",
          "fall",
          "fall",
          "fall",
          "winter",
          "fall",
          "spring",
          "spring",
          "winter",
          "fall",
          "winter",
          "spring",
          "fall",
          "fall",
          "summer",
          "winter",
          "spring",
          "spring",
          "spring",
          "fall",
          "fall",
          "winter",
          "fall",
          "spring",
          "fall",
          "winter",
          "winter",
          "winter",
          "fall",
          "winter",
          "spring",
          "spring",
          "winter",
          "summer",
          "winter",
          "fall",
          "spring",
          "winter",
          "spring",
          "winter",
          "spring",
          "winter",
          "fall",
          "spring",
          "fall",
          "fall",
          "spring",
          "summer",
          "spring",
          "summer",
          "spring",
          "spring",
          "spring",
          "spring",
          "fall",
          "spring",
          "spring",
          "spring",
          "spring",
          "spring",
          "fall",
          "spring",
          "spring",
          "spring",
          "spring",
          "winter",
          "spring",
          "spring",
          "spring",
          "spring",
          "spring",
          "spring",
          "spring",
          "spring",
          "winter",
          "winter",
          "spring",
          "winter",
          "spring",
          "spring",
          "spring",
          "winter",
          "fall",
          "spring",
          "fall",
          "spring",
          "spring",
          "spring",
          "spring",
          "summer",
          "spring",
          "winter",
          "winter",
          "winter",
          "spring",
          "spring",
          "spring",
          "spring",
          "spring",
          "spring",
          "spring",
          "spring",
          "winter",
          "summer",
          "spring",
          "spring",
          "spring",
          "fall",
          "spring",
          "winter",
          "fall",
          "spring",
          "spring",
          "spring",
          "spring",
          "fall",
          "spring",
          "spring",
          "fall",
          "spring",
          "spring",
          "summer",
          "spring",
          "spring",
          "spring",
          "spring",
          "fall",
          "spring",
          "spring",
          "summer",
          "fall",
          "fall",
          "winter",
          "spring",
          "fall",
          "summer",
          "summer",
          "spring",
          "spring",
          "fall",
          "fall",
          "spring",
          "fall",
          "fall",
          "summer",
          "summer",
          "spring",
          "spring",
          "spring",
          "summer",
          "spring",
          "winter",
          "spring",
          "spring",
          "spring",
          "fall",
          "fall",
          "winter",
          "summer",
          "fall",
          "spring",
          "summer",
          "spring",
          "fall",
          "spring",
          "summer",
          "fall",
          "spring",
          "spring",
          "spring",
          "winter",
          "summer",
          "fall",
          "summer",
          "fall",
          "winter",
          "fall",
          "fall",
          "spring",
          "spring",
          "spring",
          "fall",
          "spring",
          "summer",
          "spring",
          "spring",
          "spring",
          "fall",
          "summer",
          "spring",
          "fall",
          "summer",
          "summer",
          "winter",
          "summer",
          "spring",
          "spring",
          "summer",
          "fall",
          "summer",
          "summer",
          "summer",
          "summer",
          "summer",
          "winter",
          "spring",
          "summer",
          "fall",
          "spring",
          "spring",
          "summer",
          "winter",
          "summer",
          "spring",
          "spring",
          "spring",
          "fall",
          "winter",
          "spring",
          "spring",
          "fall",
          "spring",
          "fall",
          "fall",
          "fall",
          "spring",
          "spring",
          "fall",
          "fall",
          "fall",
          "summer",
          "fall",
          "spring",
          "spring",
          "spring",
          "fall",
          "summer",
          "winter",
          "summer",
          "spring",
          "fall",
          "summer",
          "spring",
          "fall",
          "fall",
          "spring",
          "summer",
          "spring",
          "spring",
          "summer",
          "spring",
          "summer",
          "winter",
          "summer",
          "winter",
          "winter",
          "spring",
          "spring",
          "spring",
          "spring",
          "fall",
          "spring",
          "fall",
          "fall",
          "summer",
          "spring",
          "fall",
          "fall",
          "spring",
          "fall",
          "fall",
          "fall",
          "fall",
          "summer",
          "spring",
          "spring",
          "fall",
          "fall",
          "fall",
          "winter",
          "spring",
          "winter",
          "fall",
          "fall",
          "fall",
          "fall",
          "fall",
          "spring",
          "fall",
          "fall",
          "summer",
          "spring",
          "winter",
          "fall",
          "fall",
          "fall",
          "fall",
          "fall",
          "fall",
          "spring",
          "fall",
          "fall",
          "fall",
          "fall",
          "fall",
          "fall",
          "fall",
          "fall",
          "winter",
          "spring",
          "fall",
          "summer",
          "fall",
          "fall",
          "fall",
          "fall",
          "fall",
          "fall",
          "spring",
          "fall",
          "fall",
          "fall",
          "winter",
          "fall",
          "fall",
          "fall",
          "fall",
          "fall",
          "fall",
          "fall",
          "winter",
          "winter",
          "fall",
          "summer",
          "spring",
          "summer",
          "summer",
          "fall",
          "winter",
          "summer",
          "fall",
          "fall",
          "fall",
          "winter",
          "summer",
          "fall",
          "fall",
          "winter",
          "fall",
          "winter",
          "winter",
          "winter",
          "winter",
          "winter",
          "winter",
          "fall",
          "winter",
          "summer",
          "fall",
          "spring",
          "fall",
          "fall",
          "summer",
          "spring",
          "spring",
          "winter",
          "spring",
          "winter",
          "winter",
          "spring",
          "fall",
          "winter",
          "winter",
          "spring",
          "winter",
          "winter",
          "spring",
          "fall",
          "fall",
          "spring",
          "spring",
          "spring",
          "winter",
          "summer",
          "spring",
          "spring",
          "winter",
          "summer",
          "summer",
          "spring",
          "summer",
          "summer",
          "spring",
          "spring",
          "fall",
          "winter",
          "spring",
          "spring",
          "fall",
          "fall",
          "fall",
          "fall",
          "spring",
          "winter",
          "summer",
          "spring",
          "spring",
          "spring",
          "winter",
          "spring",
          "fall",
          "winter",
          "summer",
          "spring",
          "summer",
          "winter",
          "spring",
          "fall",
          "spring",
          "spring",
          "winter",
          "winter",
          "winter",
          "winter",
          "fall",
          "winter",
          "winter",
          "fall",
          "spring",
          "summer",
          "spring",
          "spring",
          "fall",
          "fall",
          "spring",
          "winter",
          "spring",
          "spring",
          "summer",
          "fall",
          "spring",
          "spring",
          "spring",
          "spring",
          "fall",
          "spring",
          "spring",
          "winter",
          "winter",
          "summer",
          "spring",
          "winter",
          "winter",
          "fall",
          "fall",
          "winter",
          "fall",
          "winter",
          "spring",
          "fall",
          "spring",
          "fall",
          "fall",
          "spring",
          "winter",
          "winter",
          "spring",
          "spring",
          "fall",
          "spring",
          "spring",
          "spring",
          "spring",
          "spring",
          "spring",
          "spring",
          "spring",
          "spring",
          "spring",
          "spring",
          "spring",
          "fall",
          "summer",
          "summer",
          "spring",
          "fall",
          "summer",
          "summer",
          "spring",
          "fall",
          "spring",
          "spring",
          "spring",
          "summer",
          "spring",
          "spring",
          "spring",
          "fall",
          "fall",
          "fall",
          "spring",
          "spring",
          "fall",
          "fall",
          "spring",
          "winter",
          "spring",
          "spring",
          "spring",
          "winter",
          "spring",
          "spring",
          "spring",
          "spring",
          "spring",
          "spring",
          "spring",
          "spring",
          "spring",
          "spring",
          "spring",
          "summer",
          "fall",
          "fall",
          "fall",
          "fall",
          "fall",
          "spring",
          "spring",
          "summer",
          "spring",
          "spring",
          "winter",
          "spring",
          "winter",
          "fall",
          "fall",
          "fall",
          "fall",
          "winter",
          "spring",
          "winter",
          "fall",
          "spring",
          "summer",
          "winter",
          "fall",
          "summer",
          "summer",
          "summer",
          "winter",
          "winter",
          "spring",
          "fall",
          "spring",
          "summer",
          "fall",
          "spring",
          "spring",
          "spring",
          "winter",
          "winter",
          "spring",
          "winter",
          "spring",
          "fall",
          "fall",
          "fall",
          "spring",
          "spring",
          "fall",
          "spring",
          "winter",
          "fall",
          "fall",
          "summer",
          "fall",
          "spring",
          "fall",
          "fall",
          "fall",
          "winter",
          "spring",
          "spring",
          "fall",
          "summer",
          "spring",
          "fall",
          "spring",
          "spring",
          "spring",
          "fall",
          "fall",
          "spring",
          "summer",
          "fall",
          "summer",
          "spring",
          "spring",
          "fall",
          "spring",
          "fall",
          "fall",
          "fall",
          "summer",
          "summer",
          "spring",
          "spring",
          "spring",
          "summer",
          "winter",
          "winter",
          "winter",
          "winter",
          "winter",
          "winter",
          "summer",
          "winter",
          "winter",
          "winter",
          "fall",
          "winter",
          "winter",
          "winter",
          "fall",
          "fall",
          "summer",
          "fall",
          "spring",
          "spring",
          "fall",
          "fall",
          "winter",
          "spring",
          "fall",
          "winter",
          "winter",
          "spring",
          "winter",
          "winter",
          "fall",
          "winter",
          "fall",
          "spring",
          "fall",
          "fall",
          "winter",
          "summer",
          "summer",
          "summer",
          "summer",
          "summer",
          "summer",
          "spring",
          "fall",
          "fall",
          "spring",
          "spring",
          "fall",
          "fall",
          "summer",
          "summer",
          "fall",
          "winter",
          "spring",
          "spring",
          "winter",
          "summer",
          "spring",
          "winter",
          "fall",
          "fall",
          "winter",
          "winter",
          "winter",
          "fall",
          "winter",
          "spring",
          "summer",
          "fall",
          "spring",
          "fall",
          "spring",
          "summer",
          "spring",
          "spring",
          "fall",
          "spring",
          "winter",
          "summer",
          "fall",
          "summer",
          "winter",
          "fall",
          "fall",
          "spring",
          "spring",
          "fall",
          "fall",
          "fall",
          "spring",
          "fall",
          "fall",
          "fall",
          "spring",
          "fall",
          "winter",
          "fall",
          "spring",
          "fall",
          "winter",
          "winter",
          "spring",
          "summer",
          "fall",
          "spring",
          "spring",
          "spring",
          "spring",
          "spring",
          "spring",
          "spring",
          "winter",
          "fall",
          "spring",
          "fall",
          "summer",
          "fall",
          "fall",
          "fall",
          "fall",
          "fall",
          "winter",
          "spring",
          "spring",
          "fall",
          "fall",
          "fall",
          "winter",
          "spring",
          "fall",
          "spring",
          "winter",
          "spring",
          "fall",
          "fall",
          "fall",
          "fall",
          "fall",
          "fall",
          "fall",
          "fall",
          "winter",
          "fall",
          "spring",
          "fall",
          "fall",
          "fall",
          "fall",
          "winter",
          "fall",
          "winter",
          "fall",
          "fall",
          "fall",
          "winter",
          "fall",
          "fall",
          "fall",
          "spring",
          "winter",
          "fall",
          "spring",
          "fall",
          "spring",
          "winter",
          "spring",
          "spring",
          "spring",
          "spring",
          "spring",
          "fall",
          "fall",
          "spring",
          "fall",
          "spring",
          "spring",
          "fall",
          "fall",
          "spring",
          "spring",
          "spring",
          "winter",
          "spring",
          "fall",
          "fall",
          "fall",
          "winter",
          "winter",
          "fall",
          "fall",
          "spring",
          "fall",
          "fall",
          "fall",
          "spring",
          "spring",
          "winter",
          "spring",
          "summer",
          "winter",
          "fall",
          "winter",
          "spring",
          "fall",
          "spring",
          "fall",
          "fall",
          "winter",
          "fall",
          "winter",
          "summer",
          "fall",
          "fall",
          "summer",
          "winter",
          "winter",
          "winter",
          "winter",
          "spring",
          "winter",
          "fall",
          "fall",
          "winter",
          "summer",
          "fall",
          "spring",
          "spring",
          "fall",
          "winter",
          "fall",
          "spring",
          "winter",
          "winter",
          "winter",
          "winter",
          "summer",
          "fall",
          "spring",
          "spring",
          "winter",
          "spring",
          "winter",
          "spring",
          "spring",
          "summer",
          "winter",
          "fall",
          "fall",
          "summer",
          "winter",
          "spring",
          "spring",
          "spring",
          "spring",
          "winter",
          "fall",
          "fall",
          "spring",
          "winter",
          "fall",
          "fall",
          "spring",
          "spring",
          "fall",
          "winter",
          "winter",
          "winter",
          "fall",
          "spring",
          "spring",
          "winter",
          "spring",
          "fall",
          "fall",
          "spring",
          "fall",
          "spring",
          "spring",
          "winter",
          "fall",
          "fall",
          "summer",
          "spring",
          "winter",
          "fall",
          "winter",
          "winter",
          "spring",
          "winter",
          "winter",
          "winter",
          "summer",
          "spring",
          "spring",
          "spring",
          "summer",
          "winter",
          "spring",
          "winter",
          "winter",
          "spring",
          "spring",
          "spring",
          "spring",
          "summer",
          "spring",
          "spring",
          "summer",
          "spring",
          "spring",
          "spring",
          "spring",
          "fall",
          "spring",
          "spring",
          "winter",
          "fall",
          "fall",
          "spring",
          "spring",
          "spring",
          "summer",
          "summer",
          "fall",
          "spring",
          "spring",
          "summer",
          "winter",
          "summer",
          "winter",
          "fall",
          "winter",
          "spring",
          "winter",
          "winter",
          "summer",
          "fall",
          "spring",
          "spring",
          "spring",
          "spring",
          "fall",
          "winter",
          "spring",
          "fall",
          "fall",
          "summer",
          "winter",
          "summer",
          "spring",
          "fall",
          "fall",
          "spring",
          "fall",
          "spring",
          "winter",
          "summer",
          "fall",
          "spring",
          "fall",
          "fall",
          "fall",
          "fall",
          "spring",
          "spring",
          "spring",
          "spring",
          "fall",
          "spring",
          "spring",
          "spring",
          "fall",
          "spring",
          "spring",
          "spring",
          "spring",
          "fall",
          "fall",
          "fall",
          "spring",
          "fall",
          "winter",
          "fall",
          "winter",
          "spring",
          "spring",
          "spring",
          "spring",
          "spring",
          "spring",
          "fall",
          "fall",
          "fall",
          "fall",
          "fall",
          "spring",
          "spring",
          "fall",
          "fall",
          "spring",
          "spring",
          "summer",
          "spring",
          "fall",
          "summer",
          "spring",
          "fall",
          "spring",
          "summer",
          "spring",
          "spring",
          "fall",
          "winter",
          "spring",
          "spring",
          "summer",
          "spring",
          "spring",
          "fall",
          "fall",
          "spring",
          "summer",
          "fall",
          "fall",
          "fall",
          "fall",
          "spring",
          "summer",
          "spring",
          "fall",
          "fall",
          "summer",
          "winter",
          "summer",
          "fall",
          "spring",
          "spring",
          "fall",
          "spring",
          "summer",
          "winter",
          "fall",
          "spring",
          "winter",
          "fall",
          "fall",
          "spring",
          "summer",
          "spring",
          "fall",
          "fall",
          "fall",
          "summer",
          "spring",
          "fall",
          "fall",
          "fall",
          "summer",
          "spring",
          "summer",
          "summer",
          "spring",
          "summer",
          "summer",
          "spring",
          "winter",
          "spring",
          "spring",
          "spring",
          "summer",
          "spring",
          "spring",
          "spring",
          "summer",
          "spring",
          "winter",
          "spring",
          "spring",
          "spring",
          "fall",
          "spring",
          "spring",
          "fall",
          "summer",
          "spring",
          "spring",
          "winter",
          "fall",
          "summer",
          "spring",
          "winter",
          "winter",
          "summer",
          "fall",
          "fall",
          "fall",
          "fall",
          "fall",
          "fall",
          "winter",
          "winter",
          "fall",
          "spring",
          "spring",
          "fall",
          "spring",
          "fall",
          "fall",
          "spring",
          "winter",
          "fall",
          "winter",
          "fall",
          "fall",
          "spring",
          "summer",
          "summer",
          "winter",
          "summer",
          "spring",
          "spring",
          "spring",
          "winter",
          "fall",
          "spring",
          "fall",
          "winter",
          "spring",
          "summer",
          "fall",
          "fall",
          "spring",
          "fall",
          "fall",
          "summer",
          "summer",
          "spring",
          "fall",
          "fall",
          "fall",
          "winter",
          "spring",
          "fall",
          "fall",
          "summer",
          "fall",
          "fall",
          "fall",
          "fall",
          "spring",
          "fall",
          "spring",
          "fall",
          "fall",
          "summer",
          "winter",
          "fall",
          "fall",
          "winter",
          "fall",
          "fall",
          "fall",
          "spring",
          "fall",
          "winter",
          "winter",
          "winter",
          "winter",
          "fall",
          "fall",
          "spring",
          "fall",
          "spring",
          "spring",
          "winter",
          "winter",
          "winter",
          "summer",
          "fall",
          "spring",
          "fall",
          "fall",
          "fall",
          "winter",
          "spring",
          "spring",
          "summer",
          "fall",
          "spring",
          "summer",
          "fall",
          "spring",
          "fall",
          "winter",
          "winter",
          "fall",
          "spring",
          "spring",
          "spring",
          "spring",
          "winter",
          "spring",
          "spring",
          "winter",
          "spring",
          "fall",
          "winter",
          "fall",
          "fall",
          "fall",
          "spring",
          "winter",
          "fall",
          "spring",
          "spring",
          "fall",
          "summer",
          "summer",
          "fall",
          "fall",
          "winter",
          "winter",
          "summer",
          "winter",
          "fall",
          "spring",
          "summer",
          "spring",
          "summer",
          "spring",
          "spring",
          "summer",
          "spring",
          "winter",
          "spring",
          "fall",
          "winter",
          "winter",
          "summer",
          "fall",
          "fall",
          "winter",
          "spring",
          "fall",
          "fall",
          "fall",
          "spring",
          "spring",
          "spring",
          "winter",
          "spring",
          "spring",
          "spring",
          "spring",
          "fall",
          "spring",
          "spring",
          "winter",
          "fall",
          "spring",
          "spring",
          "winter",
          "fall",
          "summer",
          "spring",
          "spring",
          "fall",
          "spring",
          "spring",
          "winter",
          "winter",
          "winter",
          "winter",
          "fall",
          "winter",
          "spring",
          "spring",
          "fall",
          "winter",
          "winter",
          "spring",
          "summer",
          "spring",
          "spring",
          "fall",
          "spring",
          "spring",
          "winter",
          "spring",
          "winter",
          "spring",
          "spring",
          "winter",
          "fall",
          "summer",
          "spring",
          "spring",
          "fall",
          "spring",
          "summer",
          "fall",
          "fall",
          "spring",
          "spring",
          "winter",
          "summer",
          "spring",
          "spring",
          "fall",
          "fall",
          "spring",
          "summer",
          "fall",
          "spring",
          "summer",
          "spring",
          "fall",
          "spring",
          "fall",
          "spring",
          "fall",
          "summer",
          "spring",
          "winter",
          "fall",
          "summer",
          "fall",
          "spring",
          "spring",
          "spring",
          "spring",
          "summer",
          "spring",
          "spring",
          "winter",
          "summer",
          "fall",
          "summer",
          "fall",
          "summer",
          "fall",
          "fall",
          "summer",
          "fall",
          "fall",
          "fall",
          "winter",
          "spring",
          "fall",
          "winter",
          "winter",
          "fall",
          "fall",
          "summer",
          "summer",
          "spring",
          "fall",
          "summer",
          "summer",
          "fall",
          "summer",
          "winter",
          "fall",
          "summer",
          "spring",
          "spring",
          "winter",
          "spring",
          "winter",
          "fall",
          "summer",
          "fall",
          "spring",
          "spring",
          "winter",
          "summer",
          "fall",
          "winter",
          "fall",
          "spring",
          "fall",
          "winter",
          "summer",
          "fall",
          "summer",
          "winter",
          "fall",
          "summer",
          "winter",
          "winter",
          "spring",
          "spring",
          "fall",
          "fall",
          "fall",
          "fall",
          "fall",
          "summer",
          "fall",
          "spring",
          "summer",
          "spring",
          "winter",
          "winter",
          "fall",
          "fall",
          "fall",
          "fall",
          "spring",
          "fall",
          "winter",
          "fall",
          "summer",
          "spring",
          "fall",
          "spring",
          "winter",
          "spring",
          "fall",
          "fall",
          "fall",
          "spring",
          "fall",
          "winter",
          "spring",
          "summer",
          "summer",
          "spring",
          "summer",
          "fall",
          "spring",
          "summer",
          "summer",
          "fall",
          "fall",
          "spring",
          "fall",
          "winter",
          "spring",
          "spring",
          "winter",
          "winter",
          "spring",
          "fall",
          "spring",
          "fall",
          "spring",
          "spring",
          "winter",
          "fall",
          "fall",
          "fall",
          "fall",
          "fall",
          "fall",
          "fall",
          "winter",
          "spring",
          "spring",
          "fall",
          "spring",
          "fall",
          "spring",
          "fall",
          "spring",
          "summer",
          "winter",
          "fall",
          "spring",
          "spring",
          "winter",
          "spring",
          "winter",
          "fall",
          "spring",
          "spring",
          "spring",
          "summer",
          "spring",
          "fall",
          "winter",
          "summer",
          "summer",
          "summer",
          "spring",
          "winter",
          "winter",
          "spring",
          "spring",
          "spring",
          "fall",
          "fall",
          "spring",
          "spring",
          "fall",
          "summer",
          "winter",
          "fall",
          "winter",
          "fall",
          "summer",
          "winter",
          "spring",
          "spring",
          "spring",
          "spring",
          "spring",
          "fall",
          "spring",
          "winter",
          "spring",
          "fall",
          "spring",
          "fall",
          "spring",
          "winter",
          "winter",
          "fall",
          "spring",
          "fall",
          "summer",
          "summer",
          "spring",
          "fall",
          "fall",
          "spring",
          "summer",
          "spring",
          "winter",
          "spring",
          "fall",
          "fall",
          "spring",
          "winter",
          "fall",
          "spring",
          "fall",
          "spring",
          "fall",
          "fall",
          "spring",
          "spring",
          "fall",
          "fall",
          "winter",
          "spring",
          "fall",
          "winter",
          "fall",
          "fall",
          "spring",
          "fall",
          "spring",
          "fall",
          "spring",
          "fall",
          "spring",
          "spring",
          "fall",
          "spring",
          "spring",
          "spring",
          "fall",
          "winter",
          "winter",
          "spring",
          "fall",
          "fall",
          "spring",
          "fall",
          "winter",
          "summer",
          "summer",
          "spring",
          "fall",
          "fall",
          "spring",
          "fall",
          "winter",
          "fall",
          "fall",
          "summer",
          "spring",
          "summer",
          "summer",
          "fall",
          "spring",
          "fall",
          "fall",
          "fall",
          "spring",
          "spring",
          "fall",
          "winter",
          "fall",
          "fall",
          "winter",
          "spring",
          "spring",
          "fall",
          "winter",
          "fall",
          "fall",
          "spring",
          "winter",
          "spring",
          "fall",
          "winter",
          "fall",
          "summer",
          "winter",
          "fall",
          "fall",
          "spring",
          "summer",
          "summer",
          "summer",
          "summer",
          "winter",
          "fall",
          "winter",
          "fall",
          "fall",
          "summer",
          "fall",
          "winter",
          "fall",
          "spring",
          "winter",
          "fall",
          "spring",
          "fall",
          "spring",
          "spring",
          "spring",
          "winter",
          "winter",
          "winter",
          "summer",
          "fall",
          "winter",
          "fall",
          "spring",
          "fall",
          "spring",
          "fall",
          "spring",
          "fall",
          "fall",
          "spring",
          "fall",
          "summer",
          "fall",
          "spring",
          "winter",
          "winter",
          "fall",
          "fall",
          "summer",
          "fall",
          "winter",
          "winter",
          "fall",
          "fall",
          "winter",
          "winter",
          "summer",
          "spring",
          "fall",
          "winter",
          "spring",
          "spring",
          "spring",
          "summer",
          "winter",
          "winter",
          "spring",
          "spring",
          "fall",
          "winter",
          "summer",
          "winter",
          "fall",
          "spring",
          "spring",
          "winter",
          "fall",
          "spring",
          "fall",
          "spring",
          "winter",
          "winter",
          "spring",
          "winter",
          "fall",
          "winter",
          "summer",
          "fall",
          "spring",
          "spring",
          "spring",
          "summer",
          "fall",
          "summer",
          "spring",
          "fall",
          "spring",
          "fall",
          "fall",
          "spring",
          "spring",
          "spring",
          "spring",
          "fall",
          "spring",
          "summer",
          "spring",
          "spring",
          "spring",
          "fall",
          "spring",
          "summer",
          "spring",
          "spring",
          "spring",
          "winter",
          "spring",
          "summer",
          "summer",
          "summer",
          "spring",
          "spring",
          "winter",
          "spring",
          "summer",
          "fall",
          "fall",
          "spring",
          "summer",
          "summer",
          "fall",
          "summer",
          "fall",
          "fall",
          "fall",
          "spring",
          "spring",
          "spring",
          "summer",
          "winter",
          "spring",
          "spring",
          "summer",
          "spring",
          "fall",
          "spring",
          "spring",
          "spring",
          "spring",
          "spring",
          "summer",
          "spring",
          "summer",
          "spring",
          "summer",
          "fall",
          "summer",
          "fall",
          "fall",
          "spring",
          "winter",
          "fall",
          "spring",
          "fall",
          "summer",
          "summer",
          "summer",
          "spring",
          "spring",
          "spring",
          "fall",
          "spring",
          "spring",
          "fall",
          "spring",
          "spring",
          "spring",
          "spring",
          "spring",
          "winter",
          "spring",
          "summer",
          "summer",
          "fall",
          "fall",
          "fall",
          "summer",
          "fall",
          "fall",
          "spring",
          "summer",
          "spring",
          "spring",
          "fall",
          "fall",
          "summer",
          "spring",
          "spring",
          "fall",
          "summer",
          "fall",
          "fall",
          "summer",
          "fall",
          "spring",
          "fall",
          "summer",
          "summer",
          "spring",
          "spring",
          "summer",
          "spring",
          "spring",
          "spring",
          "spring",
          "summer",
          "spring",
          "fall",
          "summer",
          "spring",
          "fall",
          "summer",
          "fall",
          "winter",
          "fall",
          "summer",
          "fall",
          "winter",
          "winter",
          "fall",
          "fall",
          "winter",
          "spring",
          "spring",
          "spring",
          "winter",
          "winter",
          "fall",
          "winter",
          "spring",
          "fall",
          "spring",
          "winter",
          "winter",
          "winter",
          "winter",
          "fall",
          "fall",
          "summer",
          "winter",
          "fall",
          "winter",
          "spring",
          "spring",
          "spring",
          "summer",
          "fall",
          "fall",
          "fall",
          "fall",
          "summer",
          "spring",
          "winter",
          "summer",
          "fall",
          "winter",
          "summer",
          "winter",
          "winter",
          "fall",
          "winter",
          "spring",
          "spring",
          "winter",
          "summer",
          "spring",
          "spring",
          "fall",
          "winter",
          "spring",
          "summer",
          "spring",
          "fall",
          "fall",
          "summer",
          "spring",
          "summer",
          "winter",
          "spring",
          "spring",
          "fall",
          "summer",
          "summer",
          "winter",
          "summer",
          "spring",
          "spring",
          "spring",
          "winter",
          "spring",
          "summer",
          "fall",
          "fall",
          "spring",
          "winter",
          "spring",
          "summer",
          "spring",
          "summer",
          "winter",
          "fall",
          "winter",
          "fall",
          "spring",
          "spring",
          "fall",
          "summer",
          "spring",
          "spring",
          "spring",
          "spring",
          "spring",
          "spring",
          "spring",
          "fall",
          "summer",
          "spring",
          "summer",
          "spring",
          "spring",
          "winter",
          "spring",
          "summer",
          "spring",
          "spring",
          "winter",
          "fall",
          "summer",
          "spring",
          "fall",
          "spring",
          "spring",
          "spring",
          "spring",
          "spring",
          "spring",
          "spring",
          "spring",
          "winter",
          "spring",
          "winter",
          "spring",
          "summer",
          "spring",
          "spring",
          "summer",
          "fall",
          "spring",
          "spring",
          "spring",
          "spring",
          "spring",
          "summer",
          "spring",
          "spring",
          "spring",
          "spring",
          "spring",
          "fall",
          "spring",
          "spring",
          "winter",
          "spring",
          "spring",
          "summer",
          "fall",
          "summer",
          "summer",
          "summer",
          "spring",
          "summer",
          "spring",
          "spring",
          "spring",
          "spring",
          "spring",
          "spring",
          "spring",
          "fall",
          "summer",
          "fall",
          "summer",
          "fall",
          "fall",
          "fall",
          "spring",
          "fall",
          "spring",
          "fall",
          "fall",
          "winter",
          "fall",
          "summer",
          "fall",
          "fall",
          "spring",
          "summer",
          "fall",
          "fall",
          "summer",
          "winter",
          "fall",
          "summer",
          "fall",
          "winter",
          "winter",
          "fall",
          "winter",
          "fall",
          "winter",
          "fall",
          "summer",
          "spring",
          "fall",
          "fall",
          "summer",
          "fall",
          "fall",
          "fall",
          "winter",
          "fall",
          "winter",
          "spring",
          "winter",
          "summer",
          "winter",
          "fall",
          "spring",
          "winter",
          "winter",
          "fall",
          "fall",
          "fall",
          "winter",
          "fall",
          "fall",
          "summer",
          "winter",
          "winter",
          "winter",
          "fall",
          "spring",
          "fall",
          "winter",
          "spring",
          "winter",
          "fall",
          "summer",
          "summer",
          "fall",
          "fall",
          "fall",
          "winter",
          "fall",
          "spring",
          "summer",
          "winter",
          "winter",
          "fall",
          "fall",
          "spring",
          "summer",
          "winter",
          "fall",
          "summer",
          "winter",
          "spring",
          "spring",
          "fall",
          "summer",
          "fall",
          "summer",
          "fall",
          "fall",
          "spring",
          "fall",
          "fall",
          "fall",
          "winter",
          "summer",
          "fall",
          "winter",
          "spring",
          "spring",
          "summer",
          "fall",
          "winter",
          "summer",
          "summer",
          "winter",
          "winter",
          "spring",
          "winter",
          "spring",
          "spring",
          "winter",
          "winter",
          "summer",
          "spring",
          "winter",
          "fall",
          "spring",
          "winter",
          "winter",
          "winter",
          "summer",
          "spring",
          "spring",
          "spring",
          "spring",
          "spring",
          "spring",
          "fall",
          "summer",
          "spring",
          "spring",
          "summer",
          "winter",
          "summer",
          "summer",
          "summer",
          "fall",
          "winter",
          "winter",
          "spring",
          "summer",
          "spring",
          "summer",
          "winter",
          "spring",
          "spring",
          "fall",
          "winter",
          "summer",
          "spring",
          "fall",
          "winter",
          "winter",
          "winter",
          "winter",
          "fall",
          "fall",
          "spring",
          "fall",
          "summer",
          "fall",
          "spring",
          "winter",
          "summer",
          "fall",
          "winter",
          "fall",
          "spring",
          "spring",
          "spring",
          "fall",
          "fall",
          "fall",
          "summer",
          "fall",
          "spring",
          "winter",
          "winter",
          "spring",
          "summer",
          "spring",
          "fall",
          "spring",
          "spring",
          "spring",
          "spring",
          "spring",
          "spring",
          "spring",
          "fall",
          "spring",
          "spring",
          "summer",
          "winter",
          "summer",
          "fall",
          "summer",
          "spring",
          "spring",
          "fall",
          "summer",
          "spring",
          "spring",
          "spring",
          "fall",
          "spring",
          "summer",
          "summer",
          "winter",
          "spring",
          "summer",
          "fall",
          "summer",
          "summer",
          "fall",
          "spring",
          "winter",
          "fall",
          "spring",
          "fall",
          "spring",
          "fall",
          "spring",
          "spring",
          "summer",
          "spring",
          "fall",
          "fall",
          "fall",
          "fall",
          "spring",
          "spring",
          "fall",
          "winter",
          "summer",
          "spring",
          "summer",
          "fall",
          "summer",
          "summer",
          "fall",
          "spring",
          "winter",
          "fall",
          "fall",
          "fall",
          "fall",
          "summer",
          "spring",
          "spring",
          "fall",
          "winter",
          "spring",
          "spring",
          "spring",
          "summer",
          "winter",
          "winter",
          "fall",
          "spring",
          "winter",
          "spring",
          "fall",
          "winter",
          "spring",
          "summer",
          "fall",
          "fall",
          "fall",
          "summer",
          "winter",
          "winter",
          "fall",
          "winter",
          "winter",
          "fall",
          "fall",
          "fall",
          "summer",
          "spring",
          "spring",
          "fall",
          "spring",
          "fall",
          "spring",
          "fall",
          "fall",
          "fall",
          "spring",
          "fall",
          "fall",
          "winter",
          "spring",
          "spring",
          "fall",
          "winter",
          "fall",
          "fall",
          "winter",
          "fall",
          "fall",
          "fall",
          "spring",
          "fall",
          "fall",
          "spring",
          "spring",
          "winter",
          "spring",
          "winter",
          "spring",
          "spring",
          "winter",
          "fall",
          "spring",
          "spring",
          "spring",
          "spring",
          "spring",
          "spring",
          "fall",
          "spring",
          "spring",
          "spring",
          "winter",
          "winter",
          "fall",
          "winter",
          "winter",
          "winter",
          "winter",
          "fall",
          "fall",
          "spring",
          "fall",
          "fall",
          "spring",
          "fall",
          "spring",
          "spring",
          "fall",
          "fall",
          "fall",
          "fall",
          "fall",
          "spring",
          "summer",
          "spring",
          "fall",
          "spring",
          "spring",
          "fall",
          "spring",
          "winter",
          "fall",
          "winter",
          "winter",
          "fall",
          "winter",
          "summer",
          "winter",
          "winter",
          "winter",
          "spring",
          "fall",
          "winter",
          "summer",
          "winter",
          "spring",
          "spring",
          "winter",
          "spring",
          "spring",
          "winter",
          "spring",
          "spring",
          "winter",
          "spring",
          "fall",
          "spring",
          "summer",
          "spring",
          "winter",
          "winter",
          "summer",
          "spring",
          "winter",
          "spring",
          "winter",
          "spring",
          "winter",
          "spring",
          "summer",
          "spring",
          "winter",
          "spring",
          "winter",
          "spring",
          "winter",
          "summer",
          "winter",
          "spring",
          "winter",
          "fall",
          "fall",
          "fall",
          "fall",
          "spring",
          "winter",
          "spring",
          "fall",
          "fall",
          "fall",
          "spring",
          "spring",
          "summer",
          "spring",
          "spring",
          "spring",
          "spring",
          "summer",
          "spring",
          "fall",
          "spring",
          "spring",
          "spring",
          "fall",
          "fall",
          "winter",
          "summer",
          "spring",
          "summer",
          "summer",
          "spring",
          "winter",
          "summer",
          "spring",
          "spring",
          "winter",
          "spring",
          "fall",
          "spring",
          "spring",
          "spring",
          "spring",
          "summer",
          "fall",
          "summer",
          "summer",
          "spring",
          "fall",
          "summer",
          "summer",
          "summer",
          "summer",
          "spring",
          "fall",
          "fall",
          "summer",
          "fall",
          "fall",
          "winter",
          "spring",
          "winter",
          "fall",
          "spring",
          "winter",
          "spring",
          "spring",
          "fall",
          "summer",
          "winter",
          "spring",
          "spring",
          "fall",
          "winter",
          "spring",
          "fall",
          "spring",
          "spring",
          "summer",
          "spring",
          "spring",
          "winter",
          "spring",
          "summer",
          "spring",
          "spring",
          "spring",
          "summer",
          "winter",
          "summer",
          "summer",
          "summer",
          "summer",
          "fall",
          "summer",
          "summer",
          "fall",
          "fall",
          "fall",
          "summer",
          "spring",
          "summer",
          "spring",
          "summer",
          "spring",
          "summer",
          "winter",
          "summer",
          "winter",
          "summer",
          "fall",
          "spring",
          "spring",
          "winter",
          "fall",
          "fall",
          "spring",
          "fall",
          "winter",
          "fall",
          "summer",
          "summer",
          "summer",
          "fall",
          "fall",
          "fall",
          "summer",
          "summer",
          "summer",
          "spring",
          "winter",
          "spring",
          "summer",
          "spring",
          "spring",
          "summer",
          "summer",
          "spring",
          "spring",
          "summer",
          "spring",
          "winter",
          "fall",
          "summer",
          "fall",
          "spring",
          "spring",
          "fall",
          "fall",
          "fall",
          "fall",
          "spring",
          "summer",
          "spring",
          "summer",
          "winter",
          "fall",
          "fall",
          "fall",
          "spring",
          "summer",
          "summer",
          "fall",
          "summer",
          "fall",
          "fall",
          "fall",
          "fall",
          "winter",
          "summer",
          "spring",
          "fall",
          "winter",
          "fall",
          "winter",
          "spring",
          "fall",
          "fall",
          "spring",
          "fall",
          "summer",
          "winter",
          "summer",
          "winter",
          "fall",
          "winter",
          "summer",
          "spring",
          "fall",
          "summer",
          "fall",
          "spring",
          "fall",
          "spring",
          "fall",
          "fall",
          "summer",
          "summer",
          "winter",
          "winter",
          "fall",
          "fall",
          "fall",
          "fall",
          "spring",
          "fall",
          "summer",
          "winter",
          "summer",
          "fall",
          "spring",
          "winter",
          "fall",
          "spring",
          "winter",
          "summer",
          "spring",
          "winter",
          "winter",
          "winter",
          "spring",
          "fall",
          "fall",
          "winter",
          "spring",
          "fall",
          "spring",
          "spring",
          "winter",
          "spring",
          "fall",
          "spring",
          "spring",
          "spring",
          "winter",
          "spring",
          "winter",
          "winter",
          "fall",
          "fall",
          "summer",
          "spring",
          "spring",
          "winter",
          "summer",
          "winter",
          "spring",
          "spring",
          "fall",
          "fall",
          "fall",
          "fall",
          "winter",
          "spring",
          "winter",
          "summer",
          "spring",
          "winter",
          "spring",
          "fall",
          "fall",
          "summer",
          "winter",
          "winter",
          "spring",
          "fall",
          "fall",
          "spring",
          "spring",
          "fall",
          "spring",
          "summer",
          "fall",
          "fall",
          "spring",
          "spring",
          "fall",
          "winter",
          "spring",
          "winter",
          "spring",
          "winter",
          "winter",
          "spring",
          "winter",
          "spring",
          "summer",
          "winter",
          "winter",
          "spring",
          "summer",
          "fall",
          "spring",
          "spring",
          "summer",
          "fall",
          "spring",
          "winter",
          "spring",
          "spring",
          "winter",
          "spring",
          "spring",
          "summer",
          "summer",
          "winter",
          "spring",
          "spring",
          "spring",
          "fall",
          "fall",
          "summer",
          "fall",
          "spring",
          "spring",
          "summer",
          "spring",
          "summer",
          "summer",
          "summer",
          "spring",
          "spring",
          "winter",
          "summer",
          "spring",
          "summer",
          "summer",
          "spring",
          "spring",
          "summer",
          "summer",
          "spring",
          "spring",
          "winter",
          "winter",
          "spring",
          "spring",
          "fall",
          "spring",
          "spring",
          "spring",
          "spring",
          "spring",
          "fall",
          "spring",
          "summer",
          "winter",
          "spring",
          "spring",
          "spring",
          "spring",
          "spring",
          "spring",
          "spring",
          "spring",
          "spring",
          "winter",
          "summer",
          "spring",
          "summer",
          "summer",
          "fall",
          "summer",
          "fall",
          "winter",
          "spring",
          "summer",
          "spring",
          "summer",
          "fall",
          "fall",
          "summer",
          "fall",
          "spring",
          "spring",
          "spring",
          "spring",
          "spring",
          "winter",
          "spring",
          "fall",
          "summer",
          "summer",
          "spring",
          "spring",
          "winter",
          "spring",
          "spring",
          "summer",
          "summer",
          "spring",
          "winter",
          "spring",
          "spring",
          "fall",
          "winter",
          "summer",
          "fall",
          "summer",
          "spring",
          "spring",
          "summer",
          "summer",
          "fall",
          "fall",
          "fall",
          "fall",
          "summer",
          "spring",
          "summer",
          "summer",
          "fall",
          "fall",
          "summer",
          "summer",
          "summer",
          "fall",
          "spring",
          "winter",
          "spring",
          "spring",
          "spring",
          "summer",
          "fall",
          "spring",
          "spring",
          "winter",
          "fall",
          "spring",
          "fall",
          "fall",
          "fall",
          "summer",
          "winter",
          "fall",
          "fall",
          "fall",
          "winter",
          "summer",
          "summer",
          "fall",
          "spring",
          "spring",
          "fall",
          "fall",
          "winter",
          "spring",
          "summer",
          "summer",
          "spring",
          "winter",
          "summer",
          "winter",
          "summer",
          "spring",
          "summer",
          "summer",
          "winter",
          "fall",
          "summer",
          "summer",
          "fall",
          "summer",
          "fall",
          "spring",
          "winter",
          "fall",
          "spring",
          "spring",
          "spring",
          "summer",
          "summer",
          "spring",
          "fall",
          "spring",
          "summer",
          "fall",
          "fall",
          "fall",
          "fall",
          "winter",
          "winter",
          "fall",
          "summer",
          "fall",
          "fall",
          "fall",
          "fall",
          "fall",
          "winter",
          "fall",
          "summer",
          "summer",
          "spring",
          "spring",
          "spring",
          "fall",
          "fall",
          "spring",
          "fall",
          "summer",
          "spring",
          "fall",
          "spring",
          "spring",
          "spring",
          "fall",
          "winter",
          "summer",
          "winter",
          "summer",
          "spring",
          "spring",
          "spring",
          "fall",
          "winter",
          "winter",
          "fall",
          "spring",
          "spring",
          "spring",
          "spring",
          "fall",
          "spring",
          "winter",
          "fall",
          "winter",
          "summer",
          "fall",
          "fall",
          "winter",
          "fall",
          "fall",
          "spring",
          "fall",
          "fall",
          "fall",
          "winter",
          "fall",
          "fall",
          "spring",
          "winter",
          "spring",
          "spring",
          "fall",
          "winter",
          "winter",
          "winter",
          "fall",
          "fall",
          "spring",
          "winter",
          "summer",
          "spring",
          "winter",
          "spring",
          "summer",
          "winter",
          "summer",
          "summer",
          "spring",
          "spring",
          "spring",
          "fall",
          "fall",
          "winter",
          "summer",
          "summer",
          "fall",
          "winter",
          "winter",
          "winter",
          "spring",
          "spring",
          "winter",
          "summer",
          "summer",
          "winter",
          "winter",
          "winter",
          "winter",
          "winter",
          "spring",
          "winter",
          "winter",
          "spring",
          "spring",
          "summer",
          "summer",
          "spring",
          "spring",
          "fall",
          "winter",
          "spring",
          "winter",
          "winter",
          "spring",
          "fall",
          "summer",
          "winter",
          "winter",
          "spring",
          "winter",
          "spring",
          "summer",
          "summer",
          "spring",
          "summer",
          "summer",
          "summer",
          "winter",
          "winter",
          "winter",
          "summer",
          "spring",
          "spring",
          "fall",
          "winter",
          "summer",
          "summer",
          "winter",
          "spring",
          "spring",
          "summer",
          "summer",
          "summer",
          "winter",
          "winter",
          "spring",
          "spring",
          "spring",
          "summer",
          "spring",
          "summer",
          "winter",
          "spring",
          "winter",
          "summer",
          "winter",
          "summer",
          "summer",
          "spring",
          "fall",
          "spring",
          "spring",
          "spring",
          "summer",
          "spring",
          "winter",
          "spring",
          "spring",
          "spring",
          "spring",
          "fall",
          "spring",
          "fall",
          "spring",
          "winter",
          "spring",
          "summer",
          "winter",
          "fall",
          "summer",
          "spring",
          "fall",
          "spring",
          "spring",
          "fall",
          "winter",
          "summer",
          "summer",
          "spring",
          "summer",
          "summer",
          "spring",
          "spring",
          "spring",
          "fall",
          "summer",
          "fall",
          "summer",
          "fall",
          "winter",
          "summer",
          "fall",
          "summer",
          "fall",
          "fall",
          "spring",
          "winter",
          "fall",
          "spring",
          "fall",
          "spring",
          "spring",
          "winter",
          "fall",
          "spring",
          "winter",
          "spring",
          "summer",
          "fall",
          "winter",
          "spring",
          "spring",
          "summer",
          "fall",
          "spring",
          "fall",
          "winter",
          "fall",
          "fall",
          "summer",
          "spring",
          "spring",
          "fall",
          "summer",
          "summer",
          "winter",
          "spring",
          "fall",
          "fall",
          "fall",
          "summer",
          "fall",
          "summer",
          "fall",
          "spring",
          "summer",
          "winter",
          "fall",
          "summer",
          "winter",
          "winter",
          "fall",
          "winter",
          "spring",
          "summer",
          "winter",
          "summer",
          "spring",
          "fall",
          "spring",
          "winter",
          "summer",
          "fall",
          "spring",
          "fall",
          "fall",
          "fall",
          "summer",
          "summer",
          "summer",
          "summer",
          "fall",
          "fall",
          "fall",
          "fall",
          "winter",
          "summer",
          "winter",
          "winter",
          "spring",
          "spring",
          "fall",
          "fall",
          "summer",
          "summer",
          "summer",
          "winter",
          "fall",
          "summer",
          "winter",
          "fall",
          "fall",
          "winter",
          "fall",
          "winter",
          "spring",
          "fall",
          "spring",
          "spring",
          "winter",
          "winter",
          "fall",
          "spring",
          "winter",
          "spring",
          "spring",
          "spring",
          "fall",
          "fall",
          "winter",
          "fall",
          "winter",
          "summer",
          "fall",
          "winter",
          "fall",
          "summer",
          "fall",
          "winter",
          "spring",
          "fall",
          "fall",
          "winter",
          "fall",
          "fall",
          "fall",
          "fall",
          "winter",
          "winter",
          "fall",
          "spring",
          "fall",
          "fall",
          "fall",
          "spring",
          "summer",
          "winter",
          "spring",
          "winter",
          "spring",
          "spring",
          "winter",
          "fall",
          "summer",
          "spring",
          "summer",
          "fall",
          "winter",
          "fall",
          "winter",
          "fall",
          "summer",
          "fall",
          "spring",
          "winter",
          "fall",
          "winter",
          "spring",
          "spring",
          "spring",
          "fall",
          "winter",
          "winter",
          "winter",
          "spring",
          "summer",
          "spring",
          "winter",
          "winter",
          "spring",
          "winter",
          "fall",
          "spring",
          "summer",
          "spring",
          "fall",
          "winter",
          "winter",
          "fall",
          "fall",
          "fall",
          "spring",
          "spring",
          "spring",
          "winter",
          "summer",
          "spring",
          "fall",
          "winter",
          "winter",
          "fall",
          "winter",
          "winter",
          "winter",
          "summer",
          "spring",
          "spring",
          "winter",
          "fall",
          "summer",
          "winter",
          "summer",
          "winter",
          "spring",
          "spring",
          "summer",
          "fall",
          "fall",
          "spring",
          "fall",
          "summer",
          "fall",
          "winter",
          "winter",
          "fall",
          "winter",
          "winter",
          "spring",
          "winter",
          "spring",
          "winter",
          "winter",
          "winter",
          "winter",
          "fall",
          "summer",
          "fall",
          "summer",
          "summer",
          "spring",
          "spring",
          "summer",
          "spring",
          "fall",
          "winter",
          "summer",
          "spring",
          "summer",
          "spring",
          "winter",
          "fall",
          "spring",
          "summer",
          "fall",
          "summer",
          "spring",
          "winter",
          "winter",
          "summer",
          "spring",
          "fall",
          "summer",
          "winter",
          "spring",
          "summer",
          "winter",
          "fall",
          "spring",
          "winter",
          "winter",
          "spring",
          "summer",
          "spring",
          "summer",
          "fall",
          "summer",
          "spring",
          "winter",
          "winter",
          "winter",
          "winter",
          "spring",
          "summer",
          "spring",
          "spring",
          "spring",
          "summer",
          "fall",
          "spring",
          "summer",
          "fall",
          "spring",
          "spring",
          "summer",
          "summer",
          "winter",
          "summer",
          "fall",
          "summer",
          "spring",
          "spring",
          "winter",
          "spring",
          "spring",
          "fall",
          "fall",
          "spring",
          "winter",
          "fall",
          "fall",
          "winter",
          "fall",
          "spring",
          "winter",
          "winter",
          "spring",
          "summer",
          "winter",
          "winter",
          "fall",
          "spring",
          "summer",
          "summer",
          "winter",
          "spring",
          "summer",
          "fall",
          "summer",
          "summer",
          "spring",
          "fall",
          "fall",
          "winter",
          "fall",
          "spring",
          "winter",
          "spring",
          "spring",
          "winter",
          "spring",
          "summer",
          "winter",
          "spring",
          "fall",
          "summer",
          "summer",
          "winter",
          "summer",
          "spring",
          "fall",
          "spring",
          "summer",
          "fall",
          "fall",
          "summer",
          "spring",
          "spring",
          "spring",
          "fall",
          "summer",
          "summer",
          "fall",
          "spring",
          "spring",
          "winter",
          "winter",
          "spring",
          "spring",
          "fall",
          "winter",
          "spring",
          "fall",
          "fall",
          "fall",
          "spring",
          "summer",
          "winter",
          "summer",
          "winter",
          "spring",
          "winter",
          "summer",
          "summer",
          "fall",
          "summer",
          "summer",
          "summer",
          "spring",
          "winter",
          "summer",
          "fall",
          "winter",
          "winter",
          "fall",
          "fall",
          "summer",
          "winter",
          "summer",
          "fall",
          "fall",
          "winter",
          "fall",
          "fall",
          "winter",
          "spring",
          "winter",
          "fall",
          "winter",
          "winter",
          "summer",
          "summer",
          "fall",
          "spring",
          "summer",
          "summer",
          "winter",
          "spring",
          "fall",
          "summer",
          "winter",
          "summer",
          "winter",
          "fall",
          "fall",
          "spring",
          "spring",
          "spring",
          "fall",
          "fall",
          "spring",
          "fall",
          "spring",
          "winter",
          "summer",
          "fall",
          "fall",
          "winter",
          "fall",
          "winter",
          "winter",
          "winter",
          "fall",
          "fall",
          "fall",
          "summer",
          "winter",
          "fall",
          "summer",
          "fall",
          "fall",
          "fall",
          "spring",
          "spring",
          "fall",
          "spring",
          "spring",
          "summer",
          "fall",
          "spring",
          "fall",
          "spring",
          "summer",
          "fall",
          "fall",
          "fall",
          "summer",
          "fall",
          "spring",
          "winter",
          "spring",
          "fall",
          "spring",
          "winter",
          "fall",
          "summer",
          "fall",
          "spring",
          "spring",
          "winter",
          "winter",
          "spring",
          "spring",
          "winter",
          "summer",
          "winter",
          "fall",
          "winter",
          "spring",
          "spring",
          "fall",
          "winter",
          "winter",
          "spring",
          "fall",
          "winter",
          "summer",
          "spring",
          "fall",
          "summer",
          "spring",
          "summer",
          "spring",
          "summer",
          "summer",
          "winter",
          "fall",
          "spring",
          "winter",
          "spring",
          "winter",
          "spring",
          "summer",
          "spring",
          "winter",
          "winter",
          "spring",
          "summer",
          "winter",
          "summer",
          "spring",
          "winter",
          "spring",
          "summer",
          "spring",
          "spring",
          "fall",
          "spring",
          "spring",
          "summer",
          "fall",
          "winter",
          "summer",
          "winter",
          "fall",
          "summer",
          "spring",
          "spring",
          "spring",
          "winter",
          "winter",
          "spring",
          "spring",
          "fall",
          "summer",
          "fall",
          "fall",
          "spring",
          "spring",
          "summer",
          "summer",
          "winter",
          "summer",
          "spring",
          "spring",
          "fall",
          "spring",
          "fall",
          "summer",
          "fall",
          "winter",
          "fall",
          "winter",
          "spring",
          "spring",
          "spring",
          "summer",
          "summer",
          "fall",
          "spring",
          "winter",
          "spring",
          "spring",
          "summer",
          "summer",
          "winter",
          "summer",
          "fall",
          "spring",
          "spring",
          "spring",
          "winter",
          "fall",
          "fall",
          "fall",
          "summer",
          "fall",
          "summer",
          "spring",
          "spring",
          "fall",
          "spring",
          "spring",
          "winter",
          "fall",
          "summer",
          "fall",
          "spring",
          "fall",
          "winter",
          "summer",
          "spring",
          "winter",
          "fall",
          "spring",
          "summer",
          "spring",
          "summer",
          "fall",
          "summer",
          "fall",
          "fall",
          "winter",
          "winter",
          "summer",
          "winter",
          "summer",
          "winter",
          "fall",
          "fall",
          "spring",
          "winter",
          "fall",
          "summer",
          "summer",
          "winter",
          "summer",
          "fall",
          "fall",
          "summer",
          "fall",
          "summer",
          "fall",
          "summer",
          "spring",
          "spring",
          "spring",
          "summer",
          "summer",
          "spring",
          "fall",
          "summer",
          "summer",
          "spring",
          "fall",
          "spring",
          "fall",
          "fall",
          "summer",
          "summer",
          "winter",
          "fall",
          "fall",
          "fall",
          "summer",
          "spring",
          "winter",
          "summer",
          "fall",
          "summer",
          "summer",
          "fall",
          "spring",
          "fall",
          "winter",
          "winter",
          "winter",
          "summer",
          "winter",
          "summer",
          "summer",
          "fall",
          "spring",
          "spring",
          "winter",
          "spring",
          "fall",
          "spring",
          "fall",
          "spring",
          "winter",
          "winter",
          "spring",
          "spring",
          "fall",
          "fall",
          "fall",
          "winter",
          "fall",
          "summer",
          "winter",
          "winter",
          "winter",
          "fall",
          "fall",
          "fall",
          "fall",
          "fall",
          "winter",
          "winter",
          "winter",
          "spring",
          "spring",
          "spring",
          "fall",
          "summer",
          "summer",
          "summer",
          "summer",
          "summer",
          "summer",
          "winter",
          "spring",
          "summer",
          "fall",
          "winter",
          "summer",
          "winter",
          "spring",
          "fall",
          "fall",
          "fall",
          "spring",
          "spring",
          "spring",
          "winter",
          "summer",
          "winter",
          "fall",
          "spring",
          "fall",
          "spring",
          "summer",
          "spring",
          "winter",
          "fall",
          "spring",
          "winter",
          "fall",
          "winter",
          "spring",
          "spring",
          "fall",
          "winter",
          "fall",
          "spring",
          "fall",
          "fall",
          "fall",
          "winter",
          "fall",
          "spring",
          "fall",
          "fall",
          "spring",
          "summer",
          "winter",
          "winter",
          "fall",
          "fall",
          "fall",
          "spring",
          "fall",
          "fall",
          "spring",
          "fall",
          "summer",
          "fall",
          "fall",
          "winter",
          "fall",
          "spring",
          "winter",
          "winter",
          "summer",
          "winter",
          "fall",
          "spring",
          "fall",
          "spring",
          "fall",
          "winter",
          "spring",
          "spring",
          "fall",
          "summer",
          "winter",
          "spring",
          "fall",
          "fall",
          "summer",
          "winter",
          "summer",
          "spring",
          "summer",
          "summer",
          "summer",
          "winter",
          "fall",
          "winter",
          "fall",
          "fall",
          "summer",
          "winter",
          "spring",
          "summer",
          "spring",
          "spring",
          "fall",
          "summer",
          "spring",
          "spring",
          "fall",
          "spring",
          "spring",
          "winter",
          "spring",
          "spring",
          "spring",
          "summer",
          "spring",
          "winter",
          "winter",
          "spring",
          "spring",
          "spring",
          "winter",
          "fall",
          "winter",
          "summer",
          "summer",
          "winter",
          "summer",
          "summer",
          "winter",
          "summer",
          "winter",
          "winter",
          "winter",
          "winter",
          "summer",
          "fall",
          "spring",
          "spring",
          "spring",
          "spring",
          "spring",
          "summer",
          "spring",
          "summer",
          "spring",
          "spring",
          "fall",
          "winter",
          "fall",
          "fall",
          "fall",
          "summer",
          "summer",
          "summer",
          "spring",
          "summer",
          "spring",
          "spring",
          "spring",
          "summer",
          "summer",
          "fall",
          "spring",
          "winter",
          "summer",
          "fall",
          "summer",
          "spring",
          "spring",
          "fall",
          "spring",
          "fall",
          "fall",
          "fall",
          "summer",
          "spring",
          "winter",
          "summer",
          "winter",
          "winter",
          "fall",
          "summer",
          "winter",
          "fall",
          "fall",
          "winter",
          "spring",
          "spring",
          "winter",
          "winter",
          "summer",
          "fall",
          "spring",
          "fall",
          "fall",
          "winter",
          "summer",
          "spring",
          "fall",
          "spring",
          "spring",
          "spring",
          "winter",
          "fall",
          "spring",
          "fall",
          "spring",
          "winter",
          "spring",
          "winter",
          "fall",
          "winter",
          "spring",
          "fall",
          "winter",
          "fall",
          "fall",
          "summer",
          "fall",
          "winter",
          "fall",
          "summer",
          "fall",
          "winter",
          "summer",
          "fall",
          "winter",
          "spring",
          "summer",
          "summer",
          "winter",
          "fall",
          "winter",
          "winter",
          "summer",
          "spring",
          "winter",
          "summer",
          "summer",
          "fall",
          "spring",
          "summer",
          "summer",
          "fall",
          "spring",
          "fall",
          "fall",
          "summer",
          "spring",
          "spring",
          "winter",
          "winter",
          "winter",
          "spring",
          "winter",
          "spring",
          "fall",
          "summer",
          "spring",
          "fall",
          "fall",
          "spring",
          "fall",
          "winter",
          "fall",
          "fall",
          "fall",
          "fall",
          "spring",
          "fall",
          "spring",
          "fall",
          "spring",
          "fall",
          "spring",
          "fall",
          "fall",
          "fall",
          "winter",
          "fall",
          "spring",
          "summer",
          "summer",
          "summer",
          "spring",
          "fall",
          "summer",
          "fall",
          "fall",
          "summer",
          "winter",
          "fall",
          "winter",
          "summer",
          "fall",
          "spring",
          "spring",
          "winter",
          "spring",
          "spring",
          "summer",
          "winter",
          "spring",
          "summer",
          "fall",
          "fall",
          "spring",
          "fall",
          "summer",
          "spring",
          "winter",
          "fall",
          "fall",
          "winter",
          "summer",
          "summer",
          "spring",
          "winter",
          "spring",
          "spring",
          "summer",
          "winter",
          "spring",
          "spring",
          "winter",
          "fall",
          "winter",
          "spring",
          "winter",
          "winter",
          "fall",
          "spring",
          "winter",
          "fall",
          "spring",
          "fall",
          "fall",
          "fall",
          "summer",
          "winter",
          "winter",
          "winter",
          "spring",
          "fall",
          "spring",
          "spring",
          "spring",
          "summer",
          "fall",
          "winter",
          "winter",
          "fall",
          "winter",
          "spring",
          "winter",
          "spring",
          "winter",
          "winter",
          "summer",
          "winter",
          "fall",
          "summer",
          "winter",
          "winter",
          "fall",
          "spring",
          "winter",
          "fall",
          "spring",
          "spring",
          "spring",
          "summer",
          "spring",
          "spring",
          "winter",
          "winter",
          "winter",
          "winter",
          "summer",
          "winter",
          "spring",
          "winter",
          "winter",
          "spring",
          "summer",
          "summer",
          "spring",
          "spring",
          "winter",
          "spring",
          "spring",
          "fall",
          "fall",
          "winter",
          "summer",
          "fall",
          "fall",
          "fall",
          "spring",
          "summer",
          "spring",
          "fall",
          "winter",
          "spring",
          "spring",
          "spring",
          "spring",
          "spring",
          "spring",
          "fall",
          "spring",
          "spring",
          "spring",
          "spring",
          "spring",
          "fall",
          "spring",
          "summer",
          "spring",
          "winter",
          "winter",
          "winter",
          "winter",
          "spring",
          "spring",
          "summer",
          "winter",
          "spring",
          "winter",
          "fall",
          "spring",
          "summer",
          "fall",
          "spring",
          "fall",
          "spring",
          "summer",
          "spring",
          "winter",
          "summer",
          "winter",
          "winter",
          "summer",
          "spring",
          "fall",
          "summer",
          "summer",
          "fall",
          "fall",
          "fall",
          "winter",
          "fall",
          "fall",
          "winter",
          "spring",
          "spring",
          "spring",
          "winter",
          "winter",
          "summer",
          "summer",
          "summer",
          "summer",
          "summer",
          "spring",
          "winter",
          "spring",
          "fall",
          "spring",
          "winter",
          "summer",
          "summer",
          "fall",
          "spring",
          "spring",
          "summer",
          "fall",
          "spring",
          "fall",
          "fall",
          "spring",
          "spring",
          "fall",
          "fall",
          "winter",
          "fall",
          "spring",
          "fall",
          "spring",
          "fall",
          "fall",
          "spring",
          "summer",
          "summer",
          "winter",
          "winter",
          "fall",
          "summer",
          "fall",
          "winter",
          "fall",
          "spring",
          "spring",
          "spring",
          "winter",
          "winter",
          "winter",
          "spring",
          "spring",
          "fall",
          "winter",
          "winter",
          "winter",
          "spring",
          "winter",
          "winter",
          "fall",
          "summer",
          "winter",
          "winter",
          "summer",
          "fall",
          "spring",
          "spring",
          "fall",
          "winter",
          "spring",
          "fall",
          "fall",
          "spring",
          "spring",
          "summer",
          "spring",
          "summer",
          "summer",
          "winter",
          "summer",
          "spring",
          "winter",
          "spring",
          "summer",
          "fall",
          "spring",
          "summer",
          "summer",
          "summer",
          "summer",
          "fall",
          "winter",
          "winter",
          "fall",
          "fall",
          "winter",
          "winter",
          "winter",
          "spring",
          "winter",
          "summer",
          "winter",
          "summer",
          "winter",
          "summer",
          "winter",
          "summer",
          "winter",
          "winter",
          "winter",
          "spring",
          "fall",
          "fall",
          "spring",
          "fall",
          "fall",
          "winter",
          "spring",
          "fall",
          "spring",
          "spring",
          "summer",
          "spring",
          "fall",
          "spring",
          "spring",
          "fall",
          "fall",
          "fall",
          "spring",
          "spring",
          "spring",
          "summer",
          "fall",
          "fall",
          "winter",
          "summer",
          "winter",
          "spring",
          "summer",
          "fall",
          "fall",
          "fall",
          "summer",
          "winter",
          "winter",
          "summer",
          "spring",
          "winter",
          "summer",
          "fall",
          "summer",
          "winter",
          "winter",
          "spring",
          "fall",
          "fall",
          "fall",
          "summer",
          "spring",
          "spring",
          "fall",
          "summer",
          "fall",
          "winter",
          "fall",
          "summer",
          "summer",
          "winter",
          "fall",
          "summer",
          "winter",
          "summer",
          "fall",
          "summer",
          "spring",
          "winter",
          "spring",
          "spring",
          "summer",
          "spring",
          "winter",
          "fall",
          "summer",
          "fall",
          "winter",
          "spring",
          "winter",
          "winter",
          "spring",
          "summer",
          "summer",
          "spring",
          "summer",
          "spring",
          "spring",
          "winter",
          "fall",
          "fall",
          "spring",
          "winter",
          "winter",
          "spring",
          "fall",
          "spring",
          "spring",
          "fall",
          "summer",
          "summer",
          "winter",
          "spring",
          "winter",
          "spring",
          "winter",
          "summer",
          "winter",
          "spring",
          "summer",
          "winter",
          "spring",
          "fall",
          "spring",
          "summer",
          "winter",
          "fall",
          "summer",
          "winter",
          "fall",
          "fall",
          "summer",
          "fall",
          "spring",
          "spring",
          "spring",
          "fall",
          "fall",
          "fall",
          "winter",
          "spring",
          "winter",
          "winter",
          "spring",
          "summer",
          "summer",
          "spring",
          "spring",
          "spring",
          "spring",
          "summer",
          "fall",
          "fall",
          "summer",
          "spring",
          "fall",
          "spring",
          "spring",
          "fall",
          "spring",
          "summer",
          "winter",
          "summer",
          "summer",
          "winter",
          "fall",
          "fall",
          "fall",
          "winter",
          "summer",
          "fall",
          "summer",
          "fall",
          "winter",
          "spring",
          "spring",
          "summer",
          "spring",
          "winter",
          "summer",
          "winter",
          "summer",
          "winter",
          "winter",
          "fall",
          "summer",
          "summer",
          "winter",
          "summer",
          "winter",
          "fall",
          "fall",
          "summer",
          "summer",
          "fall",
          "fall",
          "summer",
          "winter",
          "winter",
          "summer",
          "winter",
          "spring",
          "summer",
          "winter",
          "summer",
          "winter",
          "spring",
          "spring",
          "summer",
          "winter",
          "spring",
          "winter",
          "winter",
          "winter",
          "fall",
          "summer",
          "summer",
          "winter",
          "summer",
          "summer",
          "fall",
          "fall",
          "winter",
          "spring",
          "spring",
          "fall",
          "spring",
          "winter",
          "summer",
          "spring",
          "summer",
          "fall",
          "winter",
          "fall",
          "spring",
          "spring",
          "winter",
          "fall",
          "spring",
          "winter",
          "fall",
          "fall",
          "spring",
          "summer",
          "spring",
          "fall",
          "winter",
          "fall",
          "winter",
          "summer",
          "spring",
          "fall",
          "fall",
          "winter",
          "winter",
          "summer",
          "spring",
          "winter",
          "summer",
          "summer",
          "fall",
          "spring",
          "spring",
          "spring",
          "spring",
          "summer",
          "summer",
          "winter",
          "spring",
          "winter",
          "winter",
          "spring",
          "fall",
          "summer",
          "fall",
          "fall",
          "spring",
          "summer",
          "fall",
          "summer",
          "winter",
          "fall",
          "winter",
          "spring",
          "spring",
          "fall",
          "spring",
          "winter",
          "fall",
          "fall",
          "fall",
          "summer",
          "winter",
          "summer",
          "summer",
          "spring",
          "fall",
          "summer",
          "spring",
          "fall",
          "spring",
          "winter",
          "spring",
          "summer",
          "spring",
          "fall",
          "fall",
          "summer",
          "spring",
          "fall",
          "fall",
          "spring",
          "spring",
          "spring",
          "spring",
          "fall",
          "spring",
          "summer",
          "spring",
          "fall",
          "summer",
          "fall",
          "summer",
          "fall",
          "spring",
          "fall",
          "spring",
          "winter",
          "fall",
          "spring",
          "summer",
          "summer",
          "winter",
          "winter",
          "summer",
          "winter",
          "summer",
          "winter",
          "fall",
          "winter",
          "spring",
          "fall",
          "fall",
          "summer",
          "summer",
          "fall",
          "fall",
          "fall",
          "fall",
          "summer",
          "spring",
          "winter",
          "winter",
          "winter",
          "fall",
          "summer",
          "summer",
          "fall",
          "winter",
          "fall",
          "winter",
          "spring",
          "fall",
          "summer",
          "spring",
          "spring",
          "fall",
          "winter",
          "fall",
          "spring",
          "spring",
          "fall",
          "winter",
          "winter",
          "fall",
          "summer",
          "winter",
          "summer",
          "fall",
          "summer",
          "winter",
          "fall",
          "spring",
          "fall",
          "summer",
          "summer",
          "fall",
          "summer",
          "fall",
          "winter",
          "fall",
          "winter",
          "winter",
          "fall",
          "winter",
          "spring",
          "fall",
          "spring",
          "fall",
          "spring",
          "summer",
          "fall",
          "fall",
          "spring",
          "fall",
          "spring",
          "winter",
          "spring",
          "winter",
          "summer",
          "winter",
          "fall",
          "spring",
          "summer",
          "spring",
          "spring",
          "spring",
          "winter",
          "spring",
          "winter",
          "winter",
          "winter",
          "winter",
          "spring",
          "winter",
          "spring",
          "summer",
          "fall",
          "summer",
          "spring",
          "winter",
          "winter",
          "spring",
          "winter",
          "fall",
          "spring",
          "spring",
          "summer",
          "winter",
          "winter",
          "winter",
          "fall",
          "fall",
          "fall",
          "summer",
          "fall",
          "fall",
          "winter",
          "spring",
          "fall",
          "winter",
          "spring",
          "winter",
          "summer",
          "spring",
          "fall",
          "winter",
          "fall",
          "fall",
          "spring",
          "winter",
          "spring",
          "summer",
          "fall",
          "winter",
          "summer",
          "spring",
          "spring",
          "spring",
          "winter",
          "spring",
          "winter",
          "spring",
          "summer",
          "summer",
          "fall",
          "winter",
          "spring",
          "summer",
          "spring",
          "spring",
          "summer",
          "summer",
          "spring",
          "summer",
          "spring",
          "summer",
          "fall",
          "summer",
          "summer",
          "fall",
          "winter",
          "fall",
          "winter",
          "spring",
          "winter",
          "spring",
          "summer",
          "fall",
          "summer",
          "spring",
          "winter",
          "winter",
          "fall",
          "fall",
          "fall",
          "summer",
          "summer",
          "summer",
          "fall",
          "spring",
          "summer",
          "summer",
          "winter",
          "fall",
          "winter",
          "summer",
          "spring",
          "summer",
          "spring",
          "winter",
          "spring",
          "spring",
          "spring",
          "winter",
          "winter",
          "fall",
          "summer",
          "spring",
          "spring",
          "spring",
          "spring",
          "winter",
          "fall",
          "winter",
          "summer",
          "winter",
          "summer",
          "summer",
          "fall",
          "winter",
          "spring",
          "summer",
          "summer",
          "summer",
          "summer",
          "winter",
          "fall",
          "spring",
          "fall",
          "winter",
          "fall",
          "spring",
          "fall",
          "winter",
          "winter",
          "fall",
          "winter",
          "summer",
          "spring",
          "summer",
          "spring",
          "winter",
          "summer",
          "winter",
          "fall",
          "spring",
          "summer",
          "spring",
          "winter",
          "winter",
          "winter",
          "spring",
          "fall",
          "summer",
          "fall",
          "winter",
          "spring",
          "fall",
          "summer",
          "winter",
          "fall",
          "winter",
          "spring",
          "summer",
          "spring",
          "spring",
          "summer",
          "spring",
          "summer",
          "spring",
          "winter",
          "winter",
          "fall",
          "spring",
          "fall",
          "summer",
          "summer",
          "winter",
          "spring",
          "fall",
          "fall",
          "spring",
          "fall",
          "fall",
          "fall",
          "summer",
          "spring",
          "fall",
          "fall",
          "fall",
          "fall",
          "fall",
          "winter",
          "summer",
          "fall",
          "fall",
          "spring",
          "summer",
          "summer",
          "winter",
          "spring",
          "winter",
          "spring",
          "winter",
          "winter",
          "spring",
          "winter",
          "spring",
          "summer",
          "winter",
          "winter",
          "winter",
          "fall",
          "summer",
          "fall",
          "fall",
          "summer",
          "winter",
          "summer",
          "spring",
          "winter",
          "spring",
          "spring",
          "fall",
          "winter",
          "winter",
          "summer",
          "summer",
          "summer",
          "winter",
          "fall",
          "spring",
          "spring",
          "spring",
          "spring",
          "spring",
          "summer",
          "spring",
          "winter",
          "winter",
          "spring",
          "winter",
          "summer",
          "winter",
          "fall",
          "fall",
          "winter",
          "spring",
          "fall",
          "fall",
          "winter",
          "summer",
          "spring",
          "fall",
          "winter",
          "fall",
          "summer",
          "winter",
          "winter",
          "summer",
          "winter",
          "summer",
          "fall",
          "winter",
          "spring",
          "winter",
          "summer",
          "spring",
          "summer",
          "summer",
          "fall",
          "fall",
          "fall",
          "fall",
          "fall",
          "fall",
          "spring",
          "spring",
          "spring",
          "summer",
          "fall",
          "fall",
          "spring",
          "fall",
          "spring",
          "summer",
          "spring",
          "spring",
          "summer",
          "winter",
          "fall",
          "fall",
          "spring",
          "summer",
          "summer",
          "spring",
          "summer",
          "summer",
          "fall",
          "winter",
          "winter",
          "summer",
          "summer",
          "fall",
          "fall",
          "spring",
          "summer",
          "summer",
          "spring",
          "spring",
          "winter",
          "fall",
          "spring",
          "fall",
          "winter",
          "fall",
          "summer",
          "spring",
          "winter",
          "winter",
          "winter",
          "winter",
          "fall",
          "fall",
          "fall",
          "winter"
         ],
         "root": {
          "color": "lightblue"
         },
         "type": "treemap"
        }
       ],
       "layout": {
        "font": {
         "size": 12
        },
        "margin": {
         "b": 5,
         "l": 5,
         "r": 5,
         "t": 50
        },
        "template": {
         "data": {
          "bar": [
           {
            "error_x": {
             "color": "#2a3f5f"
            },
            "error_y": {
             "color": "#2a3f5f"
            },
            "marker": {
             "line": {
              "color": "#E5ECF6",
              "width": 0.5
             },
             "pattern": {
              "fillmode": "overlay",
              "size": 10,
              "solidity": 0.2
             }
            },
            "type": "bar"
           }
          ],
          "barpolar": [
           {
            "marker": {
             "line": {
              "color": "#E5ECF6",
              "width": 0.5
             },
             "pattern": {
              "fillmode": "overlay",
              "size": 10,
              "solidity": 0.2
             }
            },
            "type": "barpolar"
           }
          ],
          "carpet": [
           {
            "aaxis": {
             "endlinecolor": "#2a3f5f",
             "gridcolor": "white",
             "linecolor": "white",
             "minorgridcolor": "white",
             "startlinecolor": "#2a3f5f"
            },
            "baxis": {
             "endlinecolor": "#2a3f5f",
             "gridcolor": "white",
             "linecolor": "white",
             "minorgridcolor": "white",
             "startlinecolor": "#2a3f5f"
            },
            "type": "carpet"
           }
          ],
          "choropleth": [
           {
            "colorbar": {
             "outlinewidth": 0,
             "ticks": ""
            },
            "type": "choropleth"
           }
          ],
          "contour": [
           {
            "colorbar": {
             "outlinewidth": 0,
             "ticks": ""
            },
            "colorscale": [
             [
              0,
              "#0d0887"
             ],
             [
              0.1111111111111111,
              "#46039f"
             ],
             [
              0.2222222222222222,
              "#7201a8"
             ],
             [
              0.3333333333333333,
              "#9c179e"
             ],
             [
              0.4444444444444444,
              "#bd3786"
             ],
             [
              0.5555555555555556,
              "#d8576b"
             ],
             [
              0.6666666666666666,
              "#ed7953"
             ],
             [
              0.7777777777777778,
              "#fb9f3a"
             ],
             [
              0.8888888888888888,
              "#fdca26"
             ],
             [
              1,
              "#f0f921"
             ]
            ],
            "type": "contour"
           }
          ],
          "contourcarpet": [
           {
            "colorbar": {
             "outlinewidth": 0,
             "ticks": ""
            },
            "type": "contourcarpet"
           }
          ],
          "heatmap": [
           {
            "colorbar": {
             "outlinewidth": 0,
             "ticks": ""
            },
            "colorscale": [
             [
              0,
              "#0d0887"
             ],
             [
              0.1111111111111111,
              "#46039f"
             ],
             [
              0.2222222222222222,
              "#7201a8"
             ],
             [
              0.3333333333333333,
              "#9c179e"
             ],
             [
              0.4444444444444444,
              "#bd3786"
             ],
             [
              0.5555555555555556,
              "#d8576b"
             ],
             [
              0.6666666666666666,
              "#ed7953"
             ],
             [
              0.7777777777777778,
              "#fb9f3a"
             ],
             [
              0.8888888888888888,
              "#fdca26"
             ],
             [
              1,
              "#f0f921"
             ]
            ],
            "type": "heatmap"
           }
          ],
          "heatmapgl": [
           {
            "colorbar": {
             "outlinewidth": 0,
             "ticks": ""
            },
            "colorscale": [
             [
              0,
              "#0d0887"
             ],
             [
              0.1111111111111111,
              "#46039f"
             ],
             [
              0.2222222222222222,
              "#7201a8"
             ],
             [
              0.3333333333333333,
              "#9c179e"
             ],
             [
              0.4444444444444444,
              "#bd3786"
             ],
             [
              0.5555555555555556,
              "#d8576b"
             ],
             [
              0.6666666666666666,
              "#ed7953"
             ],
             [
              0.7777777777777778,
              "#fb9f3a"
             ],
             [
              0.8888888888888888,
              "#fdca26"
             ],
             [
              1,
              "#f0f921"
             ]
            ],
            "type": "heatmapgl"
           }
          ],
          "histogram": [
           {
            "marker": {
             "pattern": {
              "fillmode": "overlay",
              "size": 10,
              "solidity": 0.2
             }
            },
            "type": "histogram"
           }
          ],
          "histogram2d": [
           {
            "colorbar": {
             "outlinewidth": 0,
             "ticks": ""
            },
            "colorscale": [
             [
              0,
              "#0d0887"
             ],
             [
              0.1111111111111111,
              "#46039f"
             ],
             [
              0.2222222222222222,
              "#7201a8"
             ],
             [
              0.3333333333333333,
              "#9c179e"
             ],
             [
              0.4444444444444444,
              "#bd3786"
             ],
             [
              0.5555555555555556,
              "#d8576b"
             ],
             [
              0.6666666666666666,
              "#ed7953"
             ],
             [
              0.7777777777777778,
              "#fb9f3a"
             ],
             [
              0.8888888888888888,
              "#fdca26"
             ],
             [
              1,
              "#f0f921"
             ]
            ],
            "type": "histogram2d"
           }
          ],
          "histogram2dcontour": [
           {
            "colorbar": {
             "outlinewidth": 0,
             "ticks": ""
            },
            "colorscale": [
             [
              0,
              "#0d0887"
             ],
             [
              0.1111111111111111,
              "#46039f"
             ],
             [
              0.2222222222222222,
              "#7201a8"
             ],
             [
              0.3333333333333333,
              "#9c179e"
             ],
             [
              0.4444444444444444,
              "#bd3786"
             ],
             [
              0.5555555555555556,
              "#d8576b"
             ],
             [
              0.6666666666666666,
              "#ed7953"
             ],
             [
              0.7777777777777778,
              "#fb9f3a"
             ],
             [
              0.8888888888888888,
              "#fdca26"
             ],
             [
              1,
              "#f0f921"
             ]
            ],
            "type": "histogram2dcontour"
           }
          ],
          "mesh3d": [
           {
            "colorbar": {
             "outlinewidth": 0,
             "ticks": ""
            },
            "type": "mesh3d"
           }
          ],
          "parcoords": [
           {
            "line": {
             "colorbar": {
              "outlinewidth": 0,
              "ticks": ""
             }
            },
            "type": "parcoords"
           }
          ],
          "pie": [
           {
            "automargin": true,
            "type": "pie"
           }
          ],
          "scatter": [
           {
            "fillpattern": {
             "fillmode": "overlay",
             "size": 10,
             "solidity": 0.2
            },
            "type": "scatter"
           }
          ],
          "scatter3d": [
           {
            "line": {
             "colorbar": {
              "outlinewidth": 0,
              "ticks": ""
             }
            },
            "marker": {
             "colorbar": {
              "outlinewidth": 0,
              "ticks": ""
             }
            },
            "type": "scatter3d"
           }
          ],
          "scattercarpet": [
           {
            "marker": {
             "colorbar": {
              "outlinewidth": 0,
              "ticks": ""
             }
            },
            "type": "scattercarpet"
           }
          ],
          "scattergeo": [
           {
            "marker": {
             "colorbar": {
              "outlinewidth": 0,
              "ticks": ""
             }
            },
            "type": "scattergeo"
           }
          ],
          "scattergl": [
           {
            "marker": {
             "colorbar": {
              "outlinewidth": 0,
              "ticks": ""
             }
            },
            "type": "scattergl"
           }
          ],
          "scattermapbox": [
           {
            "marker": {
             "colorbar": {
              "outlinewidth": 0,
              "ticks": ""
             }
            },
            "type": "scattermapbox"
           }
          ],
          "scatterpolar": [
           {
            "marker": {
             "colorbar": {
              "outlinewidth": 0,
              "ticks": ""
             }
            },
            "type": "scatterpolar"
           }
          ],
          "scatterpolargl": [
           {
            "marker": {
             "colorbar": {
              "outlinewidth": 0,
              "ticks": ""
             }
            },
            "type": "scatterpolargl"
           }
          ],
          "scatterternary": [
           {
            "marker": {
             "colorbar": {
              "outlinewidth": 0,
              "ticks": ""
             }
            },
            "type": "scatterternary"
           }
          ],
          "surface": [
           {
            "colorbar": {
             "outlinewidth": 0,
             "ticks": ""
            },
            "colorscale": [
             [
              0,
              "#0d0887"
             ],
             [
              0.1111111111111111,
              "#46039f"
             ],
             [
              0.2222222222222222,
              "#7201a8"
             ],
             [
              0.3333333333333333,
              "#9c179e"
             ],
             [
              0.4444444444444444,
              "#bd3786"
             ],
             [
              0.5555555555555556,
              "#d8576b"
             ],
             [
              0.6666666666666666,
              "#ed7953"
             ],
             [
              0.7777777777777778,
              "#fb9f3a"
             ],
             [
              0.8888888888888888,
              "#fdca26"
             ],
             [
              1,
              "#f0f921"
             ]
            ],
            "type": "surface"
           }
          ],
          "table": [
           {
            "cells": {
             "fill": {
              "color": "#EBF0F8"
             },
             "line": {
              "color": "white"
             }
            },
            "header": {
             "fill": {
              "color": "#C8D4E3"
             },
             "line": {
              "color": "white"
             }
            },
            "type": "table"
           }
          ]
         },
         "layout": {
          "annotationdefaults": {
           "arrowcolor": "#2a3f5f",
           "arrowhead": 0,
           "arrowwidth": 1
          },
          "autotypenumbers": "strict",
          "coloraxis": {
           "colorbar": {
            "outlinewidth": 0,
            "ticks": ""
           }
          },
          "colorscale": {
           "diverging": [
            [
             0,
             "#8e0152"
            ],
            [
             0.1,
             "#c51b7d"
            ],
            [
             0.2,
             "#de77ae"
            ],
            [
             0.3,
             "#f1b6da"
            ],
            [
             0.4,
             "#fde0ef"
            ],
            [
             0.5,
             "#f7f7f7"
            ],
            [
             0.6,
             "#e6f5d0"
            ],
            [
             0.7,
             "#b8e186"
            ],
            [
             0.8,
             "#7fbc41"
            ],
            [
             0.9,
             "#4d9221"
            ],
            [
             1,
             "#276419"
            ]
           ],
           "sequential": [
            [
             0,
             "#0d0887"
            ],
            [
             0.1111111111111111,
             "#46039f"
            ],
            [
             0.2222222222222222,
             "#7201a8"
            ],
            [
             0.3333333333333333,
             "#9c179e"
            ],
            [
             0.4444444444444444,
             "#bd3786"
            ],
            [
             0.5555555555555556,
             "#d8576b"
            ],
            [
             0.6666666666666666,
             "#ed7953"
            ],
            [
             0.7777777777777778,
             "#fb9f3a"
            ],
            [
             0.8888888888888888,
             "#fdca26"
            ],
            [
             1,
             "#f0f921"
            ]
           ],
           "sequentialminus": [
            [
             0,
             "#0d0887"
            ],
            [
             0.1111111111111111,
             "#46039f"
            ],
            [
             0.2222222222222222,
             "#7201a8"
            ],
            [
             0.3333333333333333,
             "#9c179e"
            ],
            [
             0.4444444444444444,
             "#bd3786"
            ],
            [
             0.5555555555555556,
             "#d8576b"
            ],
            [
             0.6666666666666666,
             "#ed7953"
            ],
            [
             0.7777777777777778,
             "#fb9f3a"
            ],
            [
             0.8888888888888888,
             "#fdca26"
            ],
            [
             1,
             "#f0f921"
            ]
           ]
          },
          "colorway": [
           "#636efa",
           "#EF553B",
           "#00cc96",
           "#ab63fa",
           "#FFA15A",
           "#19d3f3",
           "#FF6692",
           "#B6E880",
           "#FF97FF",
           "#FECB52"
          ],
          "font": {
           "color": "#2a3f5f"
          },
          "geo": {
           "bgcolor": "white",
           "lakecolor": "white",
           "landcolor": "#E5ECF6",
           "showlakes": true,
           "showland": true,
           "subunitcolor": "white"
          },
          "hoverlabel": {
           "align": "left"
          },
          "hovermode": "closest",
          "mapbox": {
           "style": "light"
          },
          "paper_bgcolor": "white",
          "plot_bgcolor": "#E5ECF6",
          "polar": {
           "angularaxis": {
            "gridcolor": "white",
            "linecolor": "white",
            "ticks": ""
           },
           "bgcolor": "#E5ECF6",
           "radialaxis": {
            "gridcolor": "white",
            "linecolor": "white",
            "ticks": ""
           }
          },
          "scene": {
           "xaxis": {
            "backgroundcolor": "#E5ECF6",
            "gridcolor": "white",
            "gridwidth": 2,
            "linecolor": "white",
            "showbackground": true,
            "ticks": "",
            "zerolinecolor": "white"
           },
           "yaxis": {
            "backgroundcolor": "#E5ECF6",
            "gridcolor": "white",
            "gridwidth": 2,
            "linecolor": "white",
            "showbackground": true,
            "ticks": "",
            "zerolinecolor": "white"
           },
           "zaxis": {
            "backgroundcolor": "#E5ECF6",
            "gridcolor": "white",
            "gridwidth": 2,
            "linecolor": "white",
            "showbackground": true,
            "ticks": "",
            "zerolinecolor": "white"
           }
          },
          "shapedefaults": {
           "line": {
            "color": "#2a3f5f"
           }
          },
          "ternary": {
           "aaxis": {
            "gridcolor": "white",
            "linecolor": "white",
            "ticks": ""
           },
           "baxis": {
            "gridcolor": "white",
            "linecolor": "white",
            "ticks": ""
           },
           "bgcolor": "#E5ECF6",
           "caxis": {
            "gridcolor": "white",
            "linecolor": "white",
            "ticks": ""
           }
          },
          "title": {
           "x": 0.05
          },
          "xaxis": {
           "automargin": true,
           "gridcolor": "white",
           "linecolor": "white",
           "ticks": "",
           "title": {
            "standoff": 15
           },
           "zerolinecolor": "white",
           "zerolinewidth": 2
          },
          "yaxis": {
           "automargin": true,
           "gridcolor": "white",
           "linecolor": "white",
           "ticks": "",
           "title": {
            "standoff": 15
           },
           "zerolinecolor": "white",
           "zerolinewidth": 2
          }
         }
        },
        "title": {
         "font": {
          "size": 20
         },
         "text": "Anime premiered in each seasons (Treemap)"
        }
       }
      }
     },
     "metadata": {},
     "output_type": "display_data"
    }
   ],
   "source": [
    "# Creating the treemap plot to show anime premiered on each seasons\n",
    "fig = go.Figure(go.Treemap(\n",
    "                           labels=['Season'] + season_counts.index.tolist() + season_df['Name'].tolist(),\n",
    "                           parents=[''] + ['Season'] * len(season_counts.index.tolist()) + season_df['Premiered'].apply(lambda x: x.split(' ')).apply(lambda x: x[0]).tolist(),\n",
    "                           root_color = 'lightblue',\n",
    "                           hovertemplate='Name: %{label}<br>Season: %{parent}'\n",
    "                          ))\n",
    "\n",
    "fig.update_layout(margin = dict(t = 50, l = 5, r = 5, b = 5))\n",
    "\n",
    "# Set the title\n",
    "fig.update_layout(\n",
    "                  title = 'Anime premiered in each seasons (Treemap)',\n",
    "                  title_font = dict(size = 20),\n",
    "                  font = dict(size = 12)\n",
    "                 )\n",
    "\n",
    "fig.show()"
   ]
  },
  {
   "cell_type": "code",
   "execution_count": 25,
   "metadata": {},
   "outputs": [
    {
     "data": {
      "application/vnd.plotly.v1+json": {
       "config": {
        "plotlyServerURL": "https://plot.ly"
       },
       "data": [
        {
         "marker": {
          "color": "#1f97a3"
         },
         "type": "bar",
         "x": [
          1961,
          1962,
          1963,
          1964,
          1965,
          1966,
          1967,
          1968,
          1969,
          1970,
          1971,
          1972,
          1973,
          1974,
          1975,
          1976,
          1977,
          1978,
          1979,
          1980,
          1981,
          1982,
          1983,
          1984,
          1985,
          1986,
          1987,
          1988,
          1989,
          1990,
          1991,
          1992,
          1993,
          1994,
          1995,
          1996,
          1997,
          1998,
          1999,
          2000,
          2001,
          2002,
          2003,
          2004,
          2005,
          2006,
          2007,
          2008,
          2009,
          2010,
          2011,
          2012,
          2013,
          2014,
          2015,
          2016,
          2017,
          2018,
          2019,
          2020,
          2021,
          2022,
          2023,
          2024,
          2025
         ],
         "y": [
          1,
          1,
          5,
          4,
          12,
          11,
          15,
          14,
          16,
          17,
          16,
          15,
          18,
          22,
          21,
          25,
          27,
          22,
          26,
          28,
          30,
          29,
          37,
          37,
          20,
          27,
          31,
          38,
          38,
          29,
          38,
          42,
          23,
          40,
          46,
          41,
          45,
          83,
          93,
          60,
          94,
          90,
          109,
          132,
          123,
          192,
          166,
          158,
          163,
          140,
          187,
          189,
          224,
          241,
          242,
          280,
          277,
          269,
          217,
          210,
          223,
          217,
          201,
          17,
          2
         ]
        }
       ],
       "layout": {
        "font": {
         "size": 12
        },
        "template": {
         "data": {
          "bar": [
           {
            "error_x": {
             "color": "#2a3f5f"
            },
            "error_y": {
             "color": "#2a3f5f"
            },
            "marker": {
             "line": {
              "color": "#E5ECF6",
              "width": 0.5
             },
             "pattern": {
              "fillmode": "overlay",
              "size": 10,
              "solidity": 0.2
             }
            },
            "type": "bar"
           }
          ],
          "barpolar": [
           {
            "marker": {
             "line": {
              "color": "#E5ECF6",
              "width": 0.5
             },
             "pattern": {
              "fillmode": "overlay",
              "size": 10,
              "solidity": 0.2
             }
            },
            "type": "barpolar"
           }
          ],
          "carpet": [
           {
            "aaxis": {
             "endlinecolor": "#2a3f5f",
             "gridcolor": "white",
             "linecolor": "white",
             "minorgridcolor": "white",
             "startlinecolor": "#2a3f5f"
            },
            "baxis": {
             "endlinecolor": "#2a3f5f",
             "gridcolor": "white",
             "linecolor": "white",
             "minorgridcolor": "white",
             "startlinecolor": "#2a3f5f"
            },
            "type": "carpet"
           }
          ],
          "choropleth": [
           {
            "colorbar": {
             "outlinewidth": 0,
             "ticks": ""
            },
            "type": "choropleth"
           }
          ],
          "contour": [
           {
            "colorbar": {
             "outlinewidth": 0,
             "ticks": ""
            },
            "colorscale": [
             [
              0,
              "#0d0887"
             ],
             [
              0.1111111111111111,
              "#46039f"
             ],
             [
              0.2222222222222222,
              "#7201a8"
             ],
             [
              0.3333333333333333,
              "#9c179e"
             ],
             [
              0.4444444444444444,
              "#bd3786"
             ],
             [
              0.5555555555555556,
              "#d8576b"
             ],
             [
              0.6666666666666666,
              "#ed7953"
             ],
             [
              0.7777777777777778,
              "#fb9f3a"
             ],
             [
              0.8888888888888888,
              "#fdca26"
             ],
             [
              1,
              "#f0f921"
             ]
            ],
            "type": "contour"
           }
          ],
          "contourcarpet": [
           {
            "colorbar": {
             "outlinewidth": 0,
             "ticks": ""
            },
            "type": "contourcarpet"
           }
          ],
          "heatmap": [
           {
            "colorbar": {
             "outlinewidth": 0,
             "ticks": ""
            },
            "colorscale": [
             [
              0,
              "#0d0887"
             ],
             [
              0.1111111111111111,
              "#46039f"
             ],
             [
              0.2222222222222222,
              "#7201a8"
             ],
             [
              0.3333333333333333,
              "#9c179e"
             ],
             [
              0.4444444444444444,
              "#bd3786"
             ],
             [
              0.5555555555555556,
              "#d8576b"
             ],
             [
              0.6666666666666666,
              "#ed7953"
             ],
             [
              0.7777777777777778,
              "#fb9f3a"
             ],
             [
              0.8888888888888888,
              "#fdca26"
             ],
             [
              1,
              "#f0f921"
             ]
            ],
            "type": "heatmap"
           }
          ],
          "heatmapgl": [
           {
            "colorbar": {
             "outlinewidth": 0,
             "ticks": ""
            },
            "colorscale": [
             [
              0,
              "#0d0887"
             ],
             [
              0.1111111111111111,
              "#46039f"
             ],
             [
              0.2222222222222222,
              "#7201a8"
             ],
             [
              0.3333333333333333,
              "#9c179e"
             ],
             [
              0.4444444444444444,
              "#bd3786"
             ],
             [
              0.5555555555555556,
              "#d8576b"
             ],
             [
              0.6666666666666666,
              "#ed7953"
             ],
             [
              0.7777777777777778,
              "#fb9f3a"
             ],
             [
              0.8888888888888888,
              "#fdca26"
             ],
             [
              1,
              "#f0f921"
             ]
            ],
            "type": "heatmapgl"
           }
          ],
          "histogram": [
           {
            "marker": {
             "pattern": {
              "fillmode": "overlay",
              "size": 10,
              "solidity": 0.2
             }
            },
            "type": "histogram"
           }
          ],
          "histogram2d": [
           {
            "colorbar": {
             "outlinewidth": 0,
             "ticks": ""
            },
            "colorscale": [
             [
              0,
              "#0d0887"
             ],
             [
              0.1111111111111111,
              "#46039f"
             ],
             [
              0.2222222222222222,
              "#7201a8"
             ],
             [
              0.3333333333333333,
              "#9c179e"
             ],
             [
              0.4444444444444444,
              "#bd3786"
             ],
             [
              0.5555555555555556,
              "#d8576b"
             ],
             [
              0.6666666666666666,
              "#ed7953"
             ],
             [
              0.7777777777777778,
              "#fb9f3a"
             ],
             [
              0.8888888888888888,
              "#fdca26"
             ],
             [
              1,
              "#f0f921"
             ]
            ],
            "type": "histogram2d"
           }
          ],
          "histogram2dcontour": [
           {
            "colorbar": {
             "outlinewidth": 0,
             "ticks": ""
            },
            "colorscale": [
             [
              0,
              "#0d0887"
             ],
             [
              0.1111111111111111,
              "#46039f"
             ],
             [
              0.2222222222222222,
              "#7201a8"
             ],
             [
              0.3333333333333333,
              "#9c179e"
             ],
             [
              0.4444444444444444,
              "#bd3786"
             ],
             [
              0.5555555555555556,
              "#d8576b"
             ],
             [
              0.6666666666666666,
              "#ed7953"
             ],
             [
              0.7777777777777778,
              "#fb9f3a"
             ],
             [
              0.8888888888888888,
              "#fdca26"
             ],
             [
              1,
              "#f0f921"
             ]
            ],
            "type": "histogram2dcontour"
           }
          ],
          "mesh3d": [
           {
            "colorbar": {
             "outlinewidth": 0,
             "ticks": ""
            },
            "type": "mesh3d"
           }
          ],
          "parcoords": [
           {
            "line": {
             "colorbar": {
              "outlinewidth": 0,
              "ticks": ""
             }
            },
            "type": "parcoords"
           }
          ],
          "pie": [
           {
            "automargin": true,
            "type": "pie"
           }
          ],
          "scatter": [
           {
            "fillpattern": {
             "fillmode": "overlay",
             "size": 10,
             "solidity": 0.2
            },
            "type": "scatter"
           }
          ],
          "scatter3d": [
           {
            "line": {
             "colorbar": {
              "outlinewidth": 0,
              "ticks": ""
             }
            },
            "marker": {
             "colorbar": {
              "outlinewidth": 0,
              "ticks": ""
             }
            },
            "type": "scatter3d"
           }
          ],
          "scattercarpet": [
           {
            "marker": {
             "colorbar": {
              "outlinewidth": 0,
              "ticks": ""
             }
            },
            "type": "scattercarpet"
           }
          ],
          "scattergeo": [
           {
            "marker": {
             "colorbar": {
              "outlinewidth": 0,
              "ticks": ""
             }
            },
            "type": "scattergeo"
           }
          ],
          "scattergl": [
           {
            "marker": {
             "colorbar": {
              "outlinewidth": 0,
              "ticks": ""
             }
            },
            "type": "scattergl"
           }
          ],
          "scattermapbox": [
           {
            "marker": {
             "colorbar": {
              "outlinewidth": 0,
              "ticks": ""
             }
            },
            "type": "scattermapbox"
           }
          ],
          "scatterpolar": [
           {
            "marker": {
             "colorbar": {
              "outlinewidth": 0,
              "ticks": ""
             }
            },
            "type": "scatterpolar"
           }
          ],
          "scatterpolargl": [
           {
            "marker": {
             "colorbar": {
              "outlinewidth": 0,
              "ticks": ""
             }
            },
            "type": "scatterpolargl"
           }
          ],
          "scatterternary": [
           {
            "marker": {
             "colorbar": {
              "outlinewidth": 0,
              "ticks": ""
             }
            },
            "type": "scatterternary"
           }
          ],
          "surface": [
           {
            "colorbar": {
             "outlinewidth": 0,
             "ticks": ""
            },
            "colorscale": [
             [
              0,
              "#0d0887"
             ],
             [
              0.1111111111111111,
              "#46039f"
             ],
             [
              0.2222222222222222,
              "#7201a8"
             ],
             [
              0.3333333333333333,
              "#9c179e"
             ],
             [
              0.4444444444444444,
              "#bd3786"
             ],
             [
              0.5555555555555556,
              "#d8576b"
             ],
             [
              0.6666666666666666,
              "#ed7953"
             ],
             [
              0.7777777777777778,
              "#fb9f3a"
             ],
             [
              0.8888888888888888,
              "#fdca26"
             ],
             [
              1,
              "#f0f921"
             ]
            ],
            "type": "surface"
           }
          ],
          "table": [
           {
            "cells": {
             "fill": {
              "color": "#EBF0F8"
             },
             "line": {
              "color": "white"
             }
            },
            "header": {
             "fill": {
              "color": "#C8D4E3"
             },
             "line": {
              "color": "white"
             }
            },
            "type": "table"
           }
          ]
         },
         "layout": {
          "annotationdefaults": {
           "arrowcolor": "#2a3f5f",
           "arrowhead": 0,
           "arrowwidth": 1
          },
          "autotypenumbers": "strict",
          "coloraxis": {
           "colorbar": {
            "outlinewidth": 0,
            "ticks": ""
           }
          },
          "colorscale": {
           "diverging": [
            [
             0,
             "#8e0152"
            ],
            [
             0.1,
             "#c51b7d"
            ],
            [
             0.2,
             "#de77ae"
            ],
            [
             0.3,
             "#f1b6da"
            ],
            [
             0.4,
             "#fde0ef"
            ],
            [
             0.5,
             "#f7f7f7"
            ],
            [
             0.6,
             "#e6f5d0"
            ],
            [
             0.7,
             "#b8e186"
            ],
            [
             0.8,
             "#7fbc41"
            ],
            [
             0.9,
             "#4d9221"
            ],
            [
             1,
             "#276419"
            ]
           ],
           "sequential": [
            [
             0,
             "#0d0887"
            ],
            [
             0.1111111111111111,
             "#46039f"
            ],
            [
             0.2222222222222222,
             "#7201a8"
            ],
            [
             0.3333333333333333,
             "#9c179e"
            ],
            [
             0.4444444444444444,
             "#bd3786"
            ],
            [
             0.5555555555555556,
             "#d8576b"
            ],
            [
             0.6666666666666666,
             "#ed7953"
            ],
            [
             0.7777777777777778,
             "#fb9f3a"
            ],
            [
             0.8888888888888888,
             "#fdca26"
            ],
            [
             1,
             "#f0f921"
            ]
           ],
           "sequentialminus": [
            [
             0,
             "#0d0887"
            ],
            [
             0.1111111111111111,
             "#46039f"
            ],
            [
             0.2222222222222222,
             "#7201a8"
            ],
            [
             0.3333333333333333,
             "#9c179e"
            ],
            [
             0.4444444444444444,
             "#bd3786"
            ],
            [
             0.5555555555555556,
             "#d8576b"
            ],
            [
             0.6666666666666666,
             "#ed7953"
            ],
            [
             0.7777777777777778,
             "#fb9f3a"
            ],
            [
             0.8888888888888888,
             "#fdca26"
            ],
            [
             1,
             "#f0f921"
            ]
           ]
          },
          "colorway": [
           "#636efa",
           "#EF553B",
           "#00cc96",
           "#ab63fa",
           "#FFA15A",
           "#19d3f3",
           "#FF6692",
           "#B6E880",
           "#FF97FF",
           "#FECB52"
          ],
          "font": {
           "color": "#2a3f5f"
          },
          "geo": {
           "bgcolor": "white",
           "lakecolor": "white",
           "landcolor": "#E5ECF6",
           "showlakes": true,
           "showland": true,
           "subunitcolor": "white"
          },
          "hoverlabel": {
           "align": "left"
          },
          "hovermode": "closest",
          "mapbox": {
           "style": "light"
          },
          "paper_bgcolor": "white",
          "plot_bgcolor": "#E5ECF6",
          "polar": {
           "angularaxis": {
            "gridcolor": "white",
            "linecolor": "white",
            "ticks": ""
           },
           "bgcolor": "#E5ECF6",
           "radialaxis": {
            "gridcolor": "white",
            "linecolor": "white",
            "ticks": ""
           }
          },
          "scene": {
           "xaxis": {
            "backgroundcolor": "#E5ECF6",
            "gridcolor": "white",
            "gridwidth": 2,
            "linecolor": "white",
            "showbackground": true,
            "ticks": "",
            "zerolinecolor": "white"
           },
           "yaxis": {
            "backgroundcolor": "#E5ECF6",
            "gridcolor": "white",
            "gridwidth": 2,
            "linecolor": "white",
            "showbackground": true,
            "ticks": "",
            "zerolinecolor": "white"
           },
           "zaxis": {
            "backgroundcolor": "#E5ECF6",
            "gridcolor": "white",
            "gridwidth": 2,
            "linecolor": "white",
            "showbackground": true,
            "ticks": "",
            "zerolinecolor": "white"
           }
          },
          "shapedefaults": {
           "line": {
            "color": "#2a3f5f"
           }
          },
          "ternary": {
           "aaxis": {
            "gridcolor": "white",
            "linecolor": "white",
            "ticks": ""
           },
           "baxis": {
            "gridcolor": "white",
            "linecolor": "white",
            "ticks": ""
           },
           "bgcolor": "#E5ECF6",
           "caxis": {
            "gridcolor": "white",
            "linecolor": "white",
            "ticks": ""
           }
          },
          "title": {
           "x": 0.05
          },
          "xaxis": {
           "automargin": true,
           "gridcolor": "white",
           "linecolor": "white",
           "ticks": "",
           "title": {
            "standoff": 15
           },
           "zerolinecolor": "white",
           "zerolinewidth": 2
          },
          "yaxis": {
           "automargin": true,
           "gridcolor": "white",
           "linecolor": "white",
           "ticks": "",
           "title": {
            "standoff": 15
           },
           "zerolinecolor": "white",
           "zerolinewidth": 2
          }
         }
        },
        "title": {
         "font": {
          "size": 20
         },
         "text": "Number of Animes Premiered by Year"
        },
        "xaxis": {
         "title": {
          "text": "Year"
         }
        },
        "yaxis": {
         "title": {
          "text": "Number of Animes"
         }
        }
       }
      }
     },
     "metadata": {},
     "output_type": "display_data"
    }
   ],
   "source": [
    "# Filter out None values from premiered_Year\n",
    "filtered_premiered_year = premiered_Year.dropna()\n",
    "\n",
    "# Count the occurrences of each year\n",
    "year_counts = filtered_premiered_year.value_counts()\n",
    "\n",
    "# Sort the years in ascending order\n",
    "sorted_years = sorted(year_counts.index)\n",
    "\n",
    "# Bar plot to show count of anime based on premiered year\n",
    "fig = go.Figure(data = go.Bar(\n",
    "    x = sorted_years,\n",
    "    y = year_counts[sorted_years],\n",
    "    marker = dict(color = '#1f97a3'),  # Set the color of the bars\n",
    "))\n",
    "\n",
    "# Set the title and axis labels\n",
    "fig.update_layout(\n",
    "    title = 'Number of Animes Premiered by Year',\n",
    "    xaxis_title = 'Year',\n",
    "    yaxis_title = 'Number of Animes',\n",
    "    title_font = dict(size = 20),\n",
    "    font = dict(size = 12)\n",
    ")\n",
    "\n",
    "fig.show()"
   ]
  },
  {
   "cell_type": "code",
   "execution_count": 26,
   "metadata": {},
   "outputs": [
    {
     "data": {
      "application/vnd.plotly.v1+json": {
       "config": {
        "plotlyServerURL": "https://plot.ly"
       },
       "data": [
        {
         "marker": {
          "color": "#1f77a4"
         },
         "type": "bar",
         "x": [
          1917,
          1918,
          1924,
          1925,
          1926,
          1927,
          1928,
          1929,
          1930,
          1931,
          1932,
          1933,
          1934,
          1935,
          1936,
          1937,
          1938,
          1939,
          1940,
          1941,
          1942,
          1943,
          1944,
          1945,
          1946,
          1947,
          1948,
          1949,
          1950,
          1951,
          1952,
          1953,
          1954,
          1955,
          1956,
          1957,
          1958,
          1959,
          1960,
          1961,
          1962,
          1963,
          1964,
          1965,
          1966,
          1967,
          1968,
          1969,
          1970,
          1971,
          1972,
          1973,
          1974,
          1975,
          1976,
          1977,
          1978,
          1979,
          1980,
          1981,
          1982,
          1983,
          1984,
          1985,
          1986,
          1987,
          1988,
          1989,
          1990,
          1991,
          1992,
          1993,
          1994,
          1995,
          1996,
          1997,
          1998,
          1999,
          2000,
          2001,
          2002,
          2003,
          2004,
          2005,
          2006,
          2007,
          2008,
          2009,
          2010,
          2011,
          2012,
          2013,
          2014,
          2015,
          2016,
          2017,
          2018,
          2019,
          2020,
          2021,
          2022,
          2023,
          2024,
          2025
         ],
         "y": [
          17,
          9,
          5,
          9,
          6,
          5,
          8,
          7,
          8,
          22,
          12,
          16,
          15,
          19,
          11,
          2,
          3,
          4,
          4,
          5,
          5,
          4,
          1,
          1,
          3,
          4,
          6,
          4,
          4,
          3,
          4,
          4,
          7,
          8,
          13,
          8,
          25,
          24,
          21,
          17,
          17,
          24,
          31,
          30,
          30,
          35,
          36,
          36,
          47,
          48,
          40,
          41,
          47,
          49,
          51,
          61,
          71,
          91,
          101,
          108,
          121,
          121,
          130,
          148,
          152,
          185,
          194,
          206,
          232,
          226,
          248,
          215,
          217,
          214,
          230,
          238,
          275,
          286,
          276,
          399,
          392,
          419,
          420,
          492,
          536,
          567,
          586,
          686,
          746,
          881,
          948,
          949,
          1048,
          1053,
          1176,
          1220,
          1180,
          1127,
          1089,
          1112,
          1047,
          607,
          44,
          5
         ]
        }
       ],
       "layout": {
        "font": {
         "size": 12
        },
        "template": {
         "data": {
          "bar": [
           {
            "error_x": {
             "color": "#2a3f5f"
            },
            "error_y": {
             "color": "#2a3f5f"
            },
            "marker": {
             "line": {
              "color": "#E5ECF6",
              "width": 0.5
             },
             "pattern": {
              "fillmode": "overlay",
              "size": 10,
              "solidity": 0.2
             }
            },
            "type": "bar"
           }
          ],
          "barpolar": [
           {
            "marker": {
             "line": {
              "color": "#E5ECF6",
              "width": 0.5
             },
             "pattern": {
              "fillmode": "overlay",
              "size": 10,
              "solidity": 0.2
             }
            },
            "type": "barpolar"
           }
          ],
          "carpet": [
           {
            "aaxis": {
             "endlinecolor": "#2a3f5f",
             "gridcolor": "white",
             "linecolor": "white",
             "minorgridcolor": "white",
             "startlinecolor": "#2a3f5f"
            },
            "baxis": {
             "endlinecolor": "#2a3f5f",
             "gridcolor": "white",
             "linecolor": "white",
             "minorgridcolor": "white",
             "startlinecolor": "#2a3f5f"
            },
            "type": "carpet"
           }
          ],
          "choropleth": [
           {
            "colorbar": {
             "outlinewidth": 0,
             "ticks": ""
            },
            "type": "choropleth"
           }
          ],
          "contour": [
           {
            "colorbar": {
             "outlinewidth": 0,
             "ticks": ""
            },
            "colorscale": [
             [
              0,
              "#0d0887"
             ],
             [
              0.1111111111111111,
              "#46039f"
             ],
             [
              0.2222222222222222,
              "#7201a8"
             ],
             [
              0.3333333333333333,
              "#9c179e"
             ],
             [
              0.4444444444444444,
              "#bd3786"
             ],
             [
              0.5555555555555556,
              "#d8576b"
             ],
             [
              0.6666666666666666,
              "#ed7953"
             ],
             [
              0.7777777777777778,
              "#fb9f3a"
             ],
             [
              0.8888888888888888,
              "#fdca26"
             ],
             [
              1,
              "#f0f921"
             ]
            ],
            "type": "contour"
           }
          ],
          "contourcarpet": [
           {
            "colorbar": {
             "outlinewidth": 0,
             "ticks": ""
            },
            "type": "contourcarpet"
           }
          ],
          "heatmap": [
           {
            "colorbar": {
             "outlinewidth": 0,
             "ticks": ""
            },
            "colorscale": [
             [
              0,
              "#0d0887"
             ],
             [
              0.1111111111111111,
              "#46039f"
             ],
             [
              0.2222222222222222,
              "#7201a8"
             ],
             [
              0.3333333333333333,
              "#9c179e"
             ],
             [
              0.4444444444444444,
              "#bd3786"
             ],
             [
              0.5555555555555556,
              "#d8576b"
             ],
             [
              0.6666666666666666,
              "#ed7953"
             ],
             [
              0.7777777777777778,
              "#fb9f3a"
             ],
             [
              0.8888888888888888,
              "#fdca26"
             ],
             [
              1,
              "#f0f921"
             ]
            ],
            "type": "heatmap"
           }
          ],
          "heatmapgl": [
           {
            "colorbar": {
             "outlinewidth": 0,
             "ticks": ""
            },
            "colorscale": [
             [
              0,
              "#0d0887"
             ],
             [
              0.1111111111111111,
              "#46039f"
             ],
             [
              0.2222222222222222,
              "#7201a8"
             ],
             [
              0.3333333333333333,
              "#9c179e"
             ],
             [
              0.4444444444444444,
              "#bd3786"
             ],
             [
              0.5555555555555556,
              "#d8576b"
             ],
             [
              0.6666666666666666,
              "#ed7953"
             ],
             [
              0.7777777777777778,
              "#fb9f3a"
             ],
             [
              0.8888888888888888,
              "#fdca26"
             ],
             [
              1,
              "#f0f921"
             ]
            ],
            "type": "heatmapgl"
           }
          ],
          "histogram": [
           {
            "marker": {
             "pattern": {
              "fillmode": "overlay",
              "size": 10,
              "solidity": 0.2
             }
            },
            "type": "histogram"
           }
          ],
          "histogram2d": [
           {
            "colorbar": {
             "outlinewidth": 0,
             "ticks": ""
            },
            "colorscale": [
             [
              0,
              "#0d0887"
             ],
             [
              0.1111111111111111,
              "#46039f"
             ],
             [
              0.2222222222222222,
              "#7201a8"
             ],
             [
              0.3333333333333333,
              "#9c179e"
             ],
             [
              0.4444444444444444,
              "#bd3786"
             ],
             [
              0.5555555555555556,
              "#d8576b"
             ],
             [
              0.6666666666666666,
              "#ed7953"
             ],
             [
              0.7777777777777778,
              "#fb9f3a"
             ],
             [
              0.8888888888888888,
              "#fdca26"
             ],
             [
              1,
              "#f0f921"
             ]
            ],
            "type": "histogram2d"
           }
          ],
          "histogram2dcontour": [
           {
            "colorbar": {
             "outlinewidth": 0,
             "ticks": ""
            },
            "colorscale": [
             [
              0,
              "#0d0887"
             ],
             [
              0.1111111111111111,
              "#46039f"
             ],
             [
              0.2222222222222222,
              "#7201a8"
             ],
             [
              0.3333333333333333,
              "#9c179e"
             ],
             [
              0.4444444444444444,
              "#bd3786"
             ],
             [
              0.5555555555555556,
              "#d8576b"
             ],
             [
              0.6666666666666666,
              "#ed7953"
             ],
             [
              0.7777777777777778,
              "#fb9f3a"
             ],
             [
              0.8888888888888888,
              "#fdca26"
             ],
             [
              1,
              "#f0f921"
             ]
            ],
            "type": "histogram2dcontour"
           }
          ],
          "mesh3d": [
           {
            "colorbar": {
             "outlinewidth": 0,
             "ticks": ""
            },
            "type": "mesh3d"
           }
          ],
          "parcoords": [
           {
            "line": {
             "colorbar": {
              "outlinewidth": 0,
              "ticks": ""
             }
            },
            "type": "parcoords"
           }
          ],
          "pie": [
           {
            "automargin": true,
            "type": "pie"
           }
          ],
          "scatter": [
           {
            "fillpattern": {
             "fillmode": "overlay",
             "size": 10,
             "solidity": 0.2
            },
            "type": "scatter"
           }
          ],
          "scatter3d": [
           {
            "line": {
             "colorbar": {
              "outlinewidth": 0,
              "ticks": ""
             }
            },
            "marker": {
             "colorbar": {
              "outlinewidth": 0,
              "ticks": ""
             }
            },
            "type": "scatter3d"
           }
          ],
          "scattercarpet": [
           {
            "marker": {
             "colorbar": {
              "outlinewidth": 0,
              "ticks": ""
             }
            },
            "type": "scattercarpet"
           }
          ],
          "scattergeo": [
           {
            "marker": {
             "colorbar": {
              "outlinewidth": 0,
              "ticks": ""
             }
            },
            "type": "scattergeo"
           }
          ],
          "scattergl": [
           {
            "marker": {
             "colorbar": {
              "outlinewidth": 0,
              "ticks": ""
             }
            },
            "type": "scattergl"
           }
          ],
          "scattermapbox": [
           {
            "marker": {
             "colorbar": {
              "outlinewidth": 0,
              "ticks": ""
             }
            },
            "type": "scattermapbox"
           }
          ],
          "scatterpolar": [
           {
            "marker": {
             "colorbar": {
              "outlinewidth": 0,
              "ticks": ""
             }
            },
            "type": "scatterpolar"
           }
          ],
          "scatterpolargl": [
           {
            "marker": {
             "colorbar": {
              "outlinewidth": 0,
              "ticks": ""
             }
            },
            "type": "scatterpolargl"
           }
          ],
          "scatterternary": [
           {
            "marker": {
             "colorbar": {
              "outlinewidth": 0,
              "ticks": ""
             }
            },
            "type": "scatterternary"
           }
          ],
          "surface": [
           {
            "colorbar": {
             "outlinewidth": 0,
             "ticks": ""
            },
            "colorscale": [
             [
              0,
              "#0d0887"
             ],
             [
              0.1111111111111111,
              "#46039f"
             ],
             [
              0.2222222222222222,
              "#7201a8"
             ],
             [
              0.3333333333333333,
              "#9c179e"
             ],
             [
              0.4444444444444444,
              "#bd3786"
             ],
             [
              0.5555555555555556,
              "#d8576b"
             ],
             [
              0.6666666666666666,
              "#ed7953"
             ],
             [
              0.7777777777777778,
              "#fb9f3a"
             ],
             [
              0.8888888888888888,
              "#fdca26"
             ],
             [
              1,
              "#f0f921"
             ]
            ],
            "type": "surface"
           }
          ],
          "table": [
           {
            "cells": {
             "fill": {
              "color": "#EBF0F8"
             },
             "line": {
              "color": "white"
             }
            },
            "header": {
             "fill": {
              "color": "#C8D4E3"
             },
             "line": {
              "color": "white"
             }
            },
            "type": "table"
           }
          ]
         },
         "layout": {
          "annotationdefaults": {
           "arrowcolor": "#2a3f5f",
           "arrowhead": 0,
           "arrowwidth": 1
          },
          "autotypenumbers": "strict",
          "coloraxis": {
           "colorbar": {
            "outlinewidth": 0,
            "ticks": ""
           }
          },
          "colorscale": {
           "diverging": [
            [
             0,
             "#8e0152"
            ],
            [
             0.1,
             "#c51b7d"
            ],
            [
             0.2,
             "#de77ae"
            ],
            [
             0.3,
             "#f1b6da"
            ],
            [
             0.4,
             "#fde0ef"
            ],
            [
             0.5,
             "#f7f7f7"
            ],
            [
             0.6,
             "#e6f5d0"
            ],
            [
             0.7,
             "#b8e186"
            ],
            [
             0.8,
             "#7fbc41"
            ],
            [
             0.9,
             "#4d9221"
            ],
            [
             1,
             "#276419"
            ]
           ],
           "sequential": [
            [
             0,
             "#0d0887"
            ],
            [
             0.1111111111111111,
             "#46039f"
            ],
            [
             0.2222222222222222,
             "#7201a8"
            ],
            [
             0.3333333333333333,
             "#9c179e"
            ],
            [
             0.4444444444444444,
             "#bd3786"
            ],
            [
             0.5555555555555556,
             "#d8576b"
            ],
            [
             0.6666666666666666,
             "#ed7953"
            ],
            [
             0.7777777777777778,
             "#fb9f3a"
            ],
            [
             0.8888888888888888,
             "#fdca26"
            ],
            [
             1,
             "#f0f921"
            ]
           ],
           "sequentialminus": [
            [
             0,
             "#0d0887"
            ],
            [
             0.1111111111111111,
             "#46039f"
            ],
            [
             0.2222222222222222,
             "#7201a8"
            ],
            [
             0.3333333333333333,
             "#9c179e"
            ],
            [
             0.4444444444444444,
             "#bd3786"
            ],
            [
             0.5555555555555556,
             "#d8576b"
            ],
            [
             0.6666666666666666,
             "#ed7953"
            ],
            [
             0.7777777777777778,
             "#fb9f3a"
            ],
            [
             0.8888888888888888,
             "#fdca26"
            ],
            [
             1,
             "#f0f921"
            ]
           ]
          },
          "colorway": [
           "#636efa",
           "#EF553B",
           "#00cc96",
           "#ab63fa",
           "#FFA15A",
           "#19d3f3",
           "#FF6692",
           "#B6E880",
           "#FF97FF",
           "#FECB52"
          ],
          "font": {
           "color": "#2a3f5f"
          },
          "geo": {
           "bgcolor": "white",
           "lakecolor": "white",
           "landcolor": "#E5ECF6",
           "showlakes": true,
           "showland": true,
           "subunitcolor": "white"
          },
          "hoverlabel": {
           "align": "left"
          },
          "hovermode": "closest",
          "mapbox": {
           "style": "light"
          },
          "paper_bgcolor": "white",
          "plot_bgcolor": "#E5ECF6",
          "polar": {
           "angularaxis": {
            "gridcolor": "white",
            "linecolor": "white",
            "ticks": ""
           },
           "bgcolor": "#E5ECF6",
           "radialaxis": {
            "gridcolor": "white",
            "linecolor": "white",
            "ticks": ""
           }
          },
          "scene": {
           "xaxis": {
            "backgroundcolor": "#E5ECF6",
            "gridcolor": "white",
            "gridwidth": 2,
            "linecolor": "white",
            "showbackground": true,
            "ticks": "",
            "zerolinecolor": "white"
           },
           "yaxis": {
            "backgroundcolor": "#E5ECF6",
            "gridcolor": "white",
            "gridwidth": 2,
            "linecolor": "white",
            "showbackground": true,
            "ticks": "",
            "zerolinecolor": "white"
           },
           "zaxis": {
            "backgroundcolor": "#E5ECF6",
            "gridcolor": "white",
            "gridwidth": 2,
            "linecolor": "white",
            "showbackground": true,
            "ticks": "",
            "zerolinecolor": "white"
           }
          },
          "shapedefaults": {
           "line": {
            "color": "#2a3f5f"
           }
          },
          "ternary": {
           "aaxis": {
            "gridcolor": "white",
            "linecolor": "white",
            "ticks": ""
           },
           "baxis": {
            "gridcolor": "white",
            "linecolor": "white",
            "ticks": ""
           },
           "bgcolor": "#E5ECF6",
           "caxis": {
            "gridcolor": "white",
            "linecolor": "white",
            "ticks": ""
           }
          },
          "title": {
           "x": 0.05
          },
          "xaxis": {
           "automargin": true,
           "gridcolor": "white",
           "linecolor": "white",
           "ticks": "",
           "title": {
            "standoff": 15
           },
           "zerolinecolor": "white",
           "zerolinewidth": 2
          },
          "yaxis": {
           "automargin": true,
           "gridcolor": "white",
           "linecolor": "white",
           "ticks": "",
           "title": {
            "standoff": 15
           },
           "zerolinecolor": "white",
           "zerolinewidth": 2
          }
         }
        },
        "title": {
         "font": {
          "size": 20
         },
         "text": "Number of Animes Aired by Year"
        },
        "xaxis": {
         "title": {
          "text": "Year"
         }
        },
        "yaxis": {
         "title": {
          "text": "Number of Animes"
         }
        }
       }
      }
     },
     "metadata": {},
     "output_type": "display_data"
    }
   ],
   "source": [
    "# Filter out None values from premiered_Year\n",
    "filtered_aired_year = data['Aired'].dropna()\n",
    "\n",
    "# Count the occurrences of each year\n",
    "year_counts = filtered_aired_year.value_counts()\n",
    "\n",
    "# Sort the years in ascending order\n",
    "sorted_years = sorted(year_counts.index)\n",
    "\n",
    "# Bar plot to show count of anime based on aired\n",
    "fig = go.Figure(data = go.Bar(\n",
    "    x = sorted_years,\n",
    "    y = year_counts[sorted_years],\n",
    "    marker = dict(color = '#1f77a4'),  # Set the color of the bars\n",
    "))\n",
    "\n",
    "# Set the title and axis labels\n",
    "fig.update_layout(\n",
    "    title = 'Number of Animes Aired by Year',\n",
    "    xaxis_title = 'Year',\n",
    "    yaxis_title = 'Number of Animes',\n",
    "    title_font = dict(size = 20),\n",
    "    font = dict(size = 12)\n",
    ")\n",
    "\n",
    "fig.show()"
   ]
  },
  {
   "cell_type": "code",
   "execution_count": 27,
   "metadata": {},
   "outputs": [
    {
     "data": {
      "text/plain": [
       "Studios\n",
       "UNKNOWN                                10526\n",
       "Toei Animation                           834\n",
       "Sunrise                                  532\n",
       "J.C.Staff                                385\n",
       "Shanghai Animation Film Studio           335\n",
       "                                       ...  \n",
       "Hananona Studio                            1\n",
       "OLM, TOHO animation STUDIO                 1\n",
       "Fever Creations                            1\n",
       "Studio M2, Miyu Productions                1\n",
       "Shin-Ei Animation, Miyu Productions        1\n",
       "Name: count, Length: 1547, dtype: int64"
      ]
     },
     "execution_count": 27,
     "metadata": {},
     "output_type": "execute_result"
    }
   ],
   "source": [
    "data['Studios'].value_counts()"
   ]
  },
  {
   "cell_type": "code",
   "execution_count": 28,
   "metadata": {},
   "outputs": [
    {
     "data": {
      "application/vnd.plotly.v1+json": {
       "config": {
        "plotlyServerURL": "https://plot.ly"
       },
       "data": [
        {
         "hovertemplate": "Studio: %{x}<br>Number of Animes: %{y}<extra></extra>",
         "marker": {
          "color": [
           834,
           532,
           385,
           335,
           333,
           317,
           290,
           269,
           264,
           246
          ],
          "colorscale": [
           [
            0,
            "rgb(255,245,240)"
           ],
           [
            0.125,
            "rgb(254,224,210)"
           ],
           [
            0.25,
            "rgb(252,187,161)"
           ],
           [
            0.375,
            "rgb(252,146,114)"
           ],
           [
            0.5,
            "rgb(251,106,74)"
           ],
           [
            0.625,
            "rgb(239,59,44)"
           ],
           [
            0.75,
            "rgb(203,24,29)"
           ],
           [
            0.875,
            "rgb(165,15,21)"
           ],
           [
            1,
            "rgb(103,0,13)"
           ]
          ]
         },
         "text": [
          834,
          532,
          385,
          335,
          333,
          317,
          290,
          269,
          264,
          246
         ],
         "type": "bar",
         "x": [
          "Toei Animation",
          "Sunrise",
          "J.C.Staff",
          "Shanghai Animation Film Studio",
          "Madhouse",
          "TMS Entertainment",
          "Studio Deen",
          "Production I.G",
          "Pierrot",
          "OLM"
         ],
         "y": [
          834,
          532,
          385,
          335,
          333,
          317,
          290,
          269,
          264,
          246
         ]
        }
       ],
       "layout": {
        "font": {
         "size": 12
        },
        "plot_bgcolor": "rgba(0, 0, 0, 0.015)",
        "template": {
         "data": {
          "bar": [
           {
            "error_x": {
             "color": "#2a3f5f"
            },
            "error_y": {
             "color": "#2a3f5f"
            },
            "marker": {
             "line": {
              "color": "#E5ECF6",
              "width": 0.5
             },
             "pattern": {
              "fillmode": "overlay",
              "size": 10,
              "solidity": 0.2
             }
            },
            "type": "bar"
           }
          ],
          "barpolar": [
           {
            "marker": {
             "line": {
              "color": "#E5ECF6",
              "width": 0.5
             },
             "pattern": {
              "fillmode": "overlay",
              "size": 10,
              "solidity": 0.2
             }
            },
            "type": "barpolar"
           }
          ],
          "carpet": [
           {
            "aaxis": {
             "endlinecolor": "#2a3f5f",
             "gridcolor": "white",
             "linecolor": "white",
             "minorgridcolor": "white",
             "startlinecolor": "#2a3f5f"
            },
            "baxis": {
             "endlinecolor": "#2a3f5f",
             "gridcolor": "white",
             "linecolor": "white",
             "minorgridcolor": "white",
             "startlinecolor": "#2a3f5f"
            },
            "type": "carpet"
           }
          ],
          "choropleth": [
           {
            "colorbar": {
             "outlinewidth": 0,
             "ticks": ""
            },
            "type": "choropleth"
           }
          ],
          "contour": [
           {
            "colorbar": {
             "outlinewidth": 0,
             "ticks": ""
            },
            "colorscale": [
             [
              0,
              "#0d0887"
             ],
             [
              0.1111111111111111,
              "#46039f"
             ],
             [
              0.2222222222222222,
              "#7201a8"
             ],
             [
              0.3333333333333333,
              "#9c179e"
             ],
             [
              0.4444444444444444,
              "#bd3786"
             ],
             [
              0.5555555555555556,
              "#d8576b"
             ],
             [
              0.6666666666666666,
              "#ed7953"
             ],
             [
              0.7777777777777778,
              "#fb9f3a"
             ],
             [
              0.8888888888888888,
              "#fdca26"
             ],
             [
              1,
              "#f0f921"
             ]
            ],
            "type": "contour"
           }
          ],
          "contourcarpet": [
           {
            "colorbar": {
             "outlinewidth": 0,
             "ticks": ""
            },
            "type": "contourcarpet"
           }
          ],
          "heatmap": [
           {
            "colorbar": {
             "outlinewidth": 0,
             "ticks": ""
            },
            "colorscale": [
             [
              0,
              "#0d0887"
             ],
             [
              0.1111111111111111,
              "#46039f"
             ],
             [
              0.2222222222222222,
              "#7201a8"
             ],
             [
              0.3333333333333333,
              "#9c179e"
             ],
             [
              0.4444444444444444,
              "#bd3786"
             ],
             [
              0.5555555555555556,
              "#d8576b"
             ],
             [
              0.6666666666666666,
              "#ed7953"
             ],
             [
              0.7777777777777778,
              "#fb9f3a"
             ],
             [
              0.8888888888888888,
              "#fdca26"
             ],
             [
              1,
              "#f0f921"
             ]
            ],
            "type": "heatmap"
           }
          ],
          "heatmapgl": [
           {
            "colorbar": {
             "outlinewidth": 0,
             "ticks": ""
            },
            "colorscale": [
             [
              0,
              "#0d0887"
             ],
             [
              0.1111111111111111,
              "#46039f"
             ],
             [
              0.2222222222222222,
              "#7201a8"
             ],
             [
              0.3333333333333333,
              "#9c179e"
             ],
             [
              0.4444444444444444,
              "#bd3786"
             ],
             [
              0.5555555555555556,
              "#d8576b"
             ],
             [
              0.6666666666666666,
              "#ed7953"
             ],
             [
              0.7777777777777778,
              "#fb9f3a"
             ],
             [
              0.8888888888888888,
              "#fdca26"
             ],
             [
              1,
              "#f0f921"
             ]
            ],
            "type": "heatmapgl"
           }
          ],
          "histogram": [
           {
            "marker": {
             "pattern": {
              "fillmode": "overlay",
              "size": 10,
              "solidity": 0.2
             }
            },
            "type": "histogram"
           }
          ],
          "histogram2d": [
           {
            "colorbar": {
             "outlinewidth": 0,
             "ticks": ""
            },
            "colorscale": [
             [
              0,
              "#0d0887"
             ],
             [
              0.1111111111111111,
              "#46039f"
             ],
             [
              0.2222222222222222,
              "#7201a8"
             ],
             [
              0.3333333333333333,
              "#9c179e"
             ],
             [
              0.4444444444444444,
              "#bd3786"
             ],
             [
              0.5555555555555556,
              "#d8576b"
             ],
             [
              0.6666666666666666,
              "#ed7953"
             ],
             [
              0.7777777777777778,
              "#fb9f3a"
             ],
             [
              0.8888888888888888,
              "#fdca26"
             ],
             [
              1,
              "#f0f921"
             ]
            ],
            "type": "histogram2d"
           }
          ],
          "histogram2dcontour": [
           {
            "colorbar": {
             "outlinewidth": 0,
             "ticks": ""
            },
            "colorscale": [
             [
              0,
              "#0d0887"
             ],
             [
              0.1111111111111111,
              "#46039f"
             ],
             [
              0.2222222222222222,
              "#7201a8"
             ],
             [
              0.3333333333333333,
              "#9c179e"
             ],
             [
              0.4444444444444444,
              "#bd3786"
             ],
             [
              0.5555555555555556,
              "#d8576b"
             ],
             [
              0.6666666666666666,
              "#ed7953"
             ],
             [
              0.7777777777777778,
              "#fb9f3a"
             ],
             [
              0.8888888888888888,
              "#fdca26"
             ],
             [
              1,
              "#f0f921"
             ]
            ],
            "type": "histogram2dcontour"
           }
          ],
          "mesh3d": [
           {
            "colorbar": {
             "outlinewidth": 0,
             "ticks": ""
            },
            "type": "mesh3d"
           }
          ],
          "parcoords": [
           {
            "line": {
             "colorbar": {
              "outlinewidth": 0,
              "ticks": ""
             }
            },
            "type": "parcoords"
           }
          ],
          "pie": [
           {
            "automargin": true,
            "type": "pie"
           }
          ],
          "scatter": [
           {
            "fillpattern": {
             "fillmode": "overlay",
             "size": 10,
             "solidity": 0.2
            },
            "type": "scatter"
           }
          ],
          "scatter3d": [
           {
            "line": {
             "colorbar": {
              "outlinewidth": 0,
              "ticks": ""
             }
            },
            "marker": {
             "colorbar": {
              "outlinewidth": 0,
              "ticks": ""
             }
            },
            "type": "scatter3d"
           }
          ],
          "scattercarpet": [
           {
            "marker": {
             "colorbar": {
              "outlinewidth": 0,
              "ticks": ""
             }
            },
            "type": "scattercarpet"
           }
          ],
          "scattergeo": [
           {
            "marker": {
             "colorbar": {
              "outlinewidth": 0,
              "ticks": ""
             }
            },
            "type": "scattergeo"
           }
          ],
          "scattergl": [
           {
            "marker": {
             "colorbar": {
              "outlinewidth": 0,
              "ticks": ""
             }
            },
            "type": "scattergl"
           }
          ],
          "scattermapbox": [
           {
            "marker": {
             "colorbar": {
              "outlinewidth": 0,
              "ticks": ""
             }
            },
            "type": "scattermapbox"
           }
          ],
          "scatterpolar": [
           {
            "marker": {
             "colorbar": {
              "outlinewidth": 0,
              "ticks": ""
             }
            },
            "type": "scatterpolar"
           }
          ],
          "scatterpolargl": [
           {
            "marker": {
             "colorbar": {
              "outlinewidth": 0,
              "ticks": ""
             }
            },
            "type": "scatterpolargl"
           }
          ],
          "scatterternary": [
           {
            "marker": {
             "colorbar": {
              "outlinewidth": 0,
              "ticks": ""
             }
            },
            "type": "scatterternary"
           }
          ],
          "surface": [
           {
            "colorbar": {
             "outlinewidth": 0,
             "ticks": ""
            },
            "colorscale": [
             [
              0,
              "#0d0887"
             ],
             [
              0.1111111111111111,
              "#46039f"
             ],
             [
              0.2222222222222222,
              "#7201a8"
             ],
             [
              0.3333333333333333,
              "#9c179e"
             ],
             [
              0.4444444444444444,
              "#bd3786"
             ],
             [
              0.5555555555555556,
              "#d8576b"
             ],
             [
              0.6666666666666666,
              "#ed7953"
             ],
             [
              0.7777777777777778,
              "#fb9f3a"
             ],
             [
              0.8888888888888888,
              "#fdca26"
             ],
             [
              1,
              "#f0f921"
             ]
            ],
            "type": "surface"
           }
          ],
          "table": [
           {
            "cells": {
             "fill": {
              "color": "#EBF0F8"
             },
             "line": {
              "color": "white"
             }
            },
            "header": {
             "fill": {
              "color": "#C8D4E3"
             },
             "line": {
              "color": "white"
             }
            },
            "type": "table"
           }
          ]
         },
         "layout": {
          "annotationdefaults": {
           "arrowcolor": "#2a3f5f",
           "arrowhead": 0,
           "arrowwidth": 1
          },
          "autotypenumbers": "strict",
          "coloraxis": {
           "colorbar": {
            "outlinewidth": 0,
            "ticks": ""
           }
          },
          "colorscale": {
           "diverging": [
            [
             0,
             "#8e0152"
            ],
            [
             0.1,
             "#c51b7d"
            ],
            [
             0.2,
             "#de77ae"
            ],
            [
             0.3,
             "#f1b6da"
            ],
            [
             0.4,
             "#fde0ef"
            ],
            [
             0.5,
             "#f7f7f7"
            ],
            [
             0.6,
             "#e6f5d0"
            ],
            [
             0.7,
             "#b8e186"
            ],
            [
             0.8,
             "#7fbc41"
            ],
            [
             0.9,
             "#4d9221"
            ],
            [
             1,
             "#276419"
            ]
           ],
           "sequential": [
            [
             0,
             "#0d0887"
            ],
            [
             0.1111111111111111,
             "#46039f"
            ],
            [
             0.2222222222222222,
             "#7201a8"
            ],
            [
             0.3333333333333333,
             "#9c179e"
            ],
            [
             0.4444444444444444,
             "#bd3786"
            ],
            [
             0.5555555555555556,
             "#d8576b"
            ],
            [
             0.6666666666666666,
             "#ed7953"
            ],
            [
             0.7777777777777778,
             "#fb9f3a"
            ],
            [
             0.8888888888888888,
             "#fdca26"
            ],
            [
             1,
             "#f0f921"
            ]
           ],
           "sequentialminus": [
            [
             0,
             "#0d0887"
            ],
            [
             0.1111111111111111,
             "#46039f"
            ],
            [
             0.2222222222222222,
             "#7201a8"
            ],
            [
             0.3333333333333333,
             "#9c179e"
            ],
            [
             0.4444444444444444,
             "#bd3786"
            ],
            [
             0.5555555555555556,
             "#d8576b"
            ],
            [
             0.6666666666666666,
             "#ed7953"
            ],
            [
             0.7777777777777778,
             "#fb9f3a"
            ],
            [
             0.8888888888888888,
             "#fdca26"
            ],
            [
             1,
             "#f0f921"
            ]
           ]
          },
          "colorway": [
           "#636efa",
           "#EF553B",
           "#00cc96",
           "#ab63fa",
           "#FFA15A",
           "#19d3f3",
           "#FF6692",
           "#B6E880",
           "#FF97FF",
           "#FECB52"
          ],
          "font": {
           "color": "#2a3f5f"
          },
          "geo": {
           "bgcolor": "white",
           "lakecolor": "white",
           "landcolor": "#E5ECF6",
           "showlakes": true,
           "showland": true,
           "subunitcolor": "white"
          },
          "hoverlabel": {
           "align": "left"
          },
          "hovermode": "closest",
          "mapbox": {
           "style": "light"
          },
          "paper_bgcolor": "white",
          "plot_bgcolor": "#E5ECF6",
          "polar": {
           "angularaxis": {
            "gridcolor": "white",
            "linecolor": "white",
            "ticks": ""
           },
           "bgcolor": "#E5ECF6",
           "radialaxis": {
            "gridcolor": "white",
            "linecolor": "white",
            "ticks": ""
           }
          },
          "scene": {
           "xaxis": {
            "backgroundcolor": "#E5ECF6",
            "gridcolor": "white",
            "gridwidth": 2,
            "linecolor": "white",
            "showbackground": true,
            "ticks": "",
            "zerolinecolor": "white"
           },
           "yaxis": {
            "backgroundcolor": "#E5ECF6",
            "gridcolor": "white",
            "gridwidth": 2,
            "linecolor": "white",
            "showbackground": true,
            "ticks": "",
            "zerolinecolor": "white"
           },
           "zaxis": {
            "backgroundcolor": "#E5ECF6",
            "gridcolor": "white",
            "gridwidth": 2,
            "linecolor": "white",
            "showbackground": true,
            "ticks": "",
            "zerolinecolor": "white"
           }
          },
          "shapedefaults": {
           "line": {
            "color": "#2a3f5f"
           }
          },
          "ternary": {
           "aaxis": {
            "gridcolor": "white",
            "linecolor": "white",
            "ticks": ""
           },
           "baxis": {
            "gridcolor": "white",
            "linecolor": "white",
            "ticks": ""
           },
           "bgcolor": "#E5ECF6",
           "caxis": {
            "gridcolor": "white",
            "linecolor": "white",
            "ticks": ""
           }
          },
          "title": {
           "x": 0.05
          },
          "xaxis": {
           "automargin": true,
           "gridcolor": "white",
           "linecolor": "white",
           "ticks": "",
           "title": {
            "standoff": 15
           },
           "zerolinecolor": "white",
           "zerolinewidth": 2
          },
          "yaxis": {
           "automargin": true,
           "gridcolor": "white",
           "linecolor": "white",
           "ticks": "",
           "title": {
            "standoff": 15
           },
           "zerolinecolor": "white",
           "zerolinewidth": 2
          }
         }
        },
        "title": {
         "font": {
          "size": 20
         },
         "text": "Number of Animes by Studio (Top 10)"
        },
        "xaxis": {
         "title": {
          "text": "Studios"
         }
        },
        "yaxis": {
         "title": {
          "text": "Number of Animes"
         }
        }
       }
      }
     },
     "metadata": {},
     "output_type": "display_data"
    }
   ],
   "source": [
    "# Count the occurrences of each studio\n",
    "studio_counts = data['Studios'].value_counts()\n",
    "\n",
    "# Filter the studio_counts series to exclude 'Unknown'\n",
    "studio_counts = studio_counts[studio_counts.index != 'UNKNOWN']\n",
    "\n",
    "# Select the top 10 studios with the highest number of animes\n",
    "top_studios = studio_counts.head(10)\n",
    "\n",
    "# Bar plot to show count of anime based on studios\n",
    "fig = go.Figure(data = go.Bar(\n",
    "                              x = top_studios.index,\n",
    "                              y = top_studios.values,\n",
    "                              marker = dict(color = top_studios.values, colorscale = 'Reds'),  # Set the color of the bars using a colorscale\n",
    "                              text = top_studios.values,  # Set the text to be displayed on hover\n",
    "                              hovertemplate = 'Studio: %{x}<br>Number of Animes: %{y}<extra></extra>',  # Customize the hover template\n",
    "                             ))\n",
    "\n",
    "# Set the title and axis labels\n",
    "fig.update_layout(\n",
    "                  title = 'Number of Animes by Studio (Top 10)',\n",
    "                  xaxis_title = 'Studios',\n",
    "                  yaxis_title = 'Number of Animes',\n",
    "                  title_font = dict(size = 20),\n",
    "                  font = dict(size = 12),\n",
    "                  plot_bgcolor = 'rgba(0, 0, 0, 0.015)'  # Set the background color to transparent\n",
    "                 )\n",
    "\n",
    "fig.show()"
   ]
  },
  {
   "cell_type": "code",
   "execution_count": 29,
   "metadata": {},
   "outputs": [
    {
     "data": {
      "text/html": [
       "<div>\n",
       "<style scoped>\n",
       "    .dataframe tbody tr th:only-of-type {\n",
       "        vertical-align: middle;\n",
       "    }\n",
       "\n",
       "    .dataframe tbody tr th {\n",
       "        vertical-align: top;\n",
       "    }\n",
       "\n",
       "    .dataframe thead th {\n",
       "        text-align: right;\n",
       "    }\n",
       "</style>\n",
       "<table border=\"1\" class=\"dataframe\">\n",
       "  <thead>\n",
       "    <tr style=\"text-align: right;\">\n",
       "      <th></th>\n",
       "      <th>anime_id</th>\n",
       "      <th>Name</th>\n",
       "      <th>English name</th>\n",
       "      <th>Other name</th>\n",
       "      <th>Score</th>\n",
       "      <th>Genres</th>\n",
       "      <th>Synopsis</th>\n",
       "      <th>Type</th>\n",
       "      <th>Episodes</th>\n",
       "      <th>Aired</th>\n",
       "      <th>...</th>\n",
       "      <th>Studios</th>\n",
       "      <th>Source</th>\n",
       "      <th>Duration</th>\n",
       "      <th>Rating</th>\n",
       "      <th>Rank</th>\n",
       "      <th>Popularity</th>\n",
       "      <th>Favorites</th>\n",
       "      <th>Scored By</th>\n",
       "      <th>Members</th>\n",
       "      <th>Image URL</th>\n",
       "    </tr>\n",
       "  </thead>\n",
       "  <tbody>\n",
       "    <tr>\n",
       "      <th>0</th>\n",
       "      <td>1</td>\n",
       "      <td>Cowboy Bebop</td>\n",
       "      <td>Cowboy Bebop</td>\n",
       "      <td>カウボーイビバップ</td>\n",
       "      <td>8.75</td>\n",
       "      <td>Action, Award Winning, Sci-Fi</td>\n",
       "      <td>Crime is timeless. By the year 2071, humanity ...</td>\n",
       "      <td>TV</td>\n",
       "      <td>26.0</td>\n",
       "      <td>1998</td>\n",
       "      <td>...</td>\n",
       "      <td>Sunrise</td>\n",
       "      <td>Original</td>\n",
       "      <td>24 min per ep</td>\n",
       "      <td>R - 17+ (violence &amp; profanity)</td>\n",
       "      <td>41.0</td>\n",
       "      <td>43</td>\n",
       "      <td>78525</td>\n",
       "      <td>914193.0</td>\n",
       "      <td>1771505</td>\n",
       "      <td>https://cdn.myanimelist.net/images/anime/4/196...</td>\n",
       "    </tr>\n",
       "    <tr>\n",
       "      <th>2</th>\n",
       "      <td>6</td>\n",
       "      <td>Trigun</td>\n",
       "      <td>Trigun</td>\n",
       "      <td>トライガン</td>\n",
       "      <td>8.22</td>\n",
       "      <td>Action, Adventure, Sci-Fi</td>\n",
       "      <td>Vash the Stampede is the man with a $$60,000,0...</td>\n",
       "      <td>TV</td>\n",
       "      <td>26.0</td>\n",
       "      <td>1998</td>\n",
       "      <td>...</td>\n",
       "      <td>Madhouse</td>\n",
       "      <td>Manga</td>\n",
       "      <td>24 min per ep</td>\n",
       "      <td>PG-13 - Teens 13 or older</td>\n",
       "      <td>328.0</td>\n",
       "      <td>246</td>\n",
       "      <td>15035</td>\n",
       "      <td>356739.0</td>\n",
       "      <td>727252</td>\n",
       "      <td>https://cdn.myanimelist.net/images/anime/7/203...</td>\n",
       "    </tr>\n",
       "    <tr>\n",
       "      <th>3</th>\n",
       "      <td>7</td>\n",
       "      <td>Witch Hunter Robin</td>\n",
       "      <td>Witch Hunter Robin</td>\n",
       "      <td>Witch Hunter ROBIN (ウイッチハンターロビン)</td>\n",
       "      <td>7.25</td>\n",
       "      <td>Action, Drama, Mystery, Supernatural</td>\n",
       "      <td>Robin Sena is a powerful craft user drafted in...</td>\n",
       "      <td>TV</td>\n",
       "      <td>26.0</td>\n",
       "      <td>2002</td>\n",
       "      <td>...</td>\n",
       "      <td>Sunrise</td>\n",
       "      <td>Original</td>\n",
       "      <td>25 min per ep</td>\n",
       "      <td>PG-13 - Teens 13 or older</td>\n",
       "      <td>2764.0</td>\n",
       "      <td>1795</td>\n",
       "      <td>613</td>\n",
       "      <td>42829.0</td>\n",
       "      <td>111931</td>\n",
       "      <td>https://cdn.myanimelist.net/images/anime/10/19...</td>\n",
       "    </tr>\n",
       "  </tbody>\n",
       "</table>\n",
       "<p>3 rows × 24 columns</p>\n",
       "</div>"
      ],
      "text/plain": [
       "   anime_id                Name        English name  \\\n",
       "0         1        Cowboy Bebop        Cowboy Bebop   \n",
       "2         6              Trigun              Trigun   \n",
       "3         7  Witch Hunter Robin  Witch Hunter Robin   \n",
       "\n",
       "                         Other name  Score  \\\n",
       "0                         カウボーイビバップ   8.75   \n",
       "2                             トライガン   8.22   \n",
       "3  Witch Hunter ROBIN (ウイッチハンターロビン)   7.25   \n",
       "\n",
       "                                 Genres  \\\n",
       "0         Action, Award Winning, Sci-Fi   \n",
       "2             Action, Adventure, Sci-Fi   \n",
       "3  Action, Drama, Mystery, Supernatural   \n",
       "\n",
       "                                            Synopsis Type Episodes  Aired  \\\n",
       "0  Crime is timeless. By the year 2071, humanity ...   TV     26.0   1998   \n",
       "2  Vash the Stampede is the man with a $$60,000,0...   TV     26.0   1998   \n",
       "3  Robin Sena is a powerful craft user drafted in...   TV     26.0   2002   \n",
       "\n",
       "   ...   Studios    Source       Duration                          Rating  \\\n",
       "0  ...   Sunrise  Original  24 min per ep  R - 17+ (violence & profanity)   \n",
       "2  ...  Madhouse     Manga  24 min per ep       PG-13 - Teens 13 or older   \n",
       "3  ...   Sunrise  Original  25 min per ep       PG-13 - Teens 13 or older   \n",
       "\n",
       "     Rank Popularity Favorites Scored By  Members  \\\n",
       "0    41.0         43     78525  914193.0  1771505   \n",
       "2   328.0        246     15035  356739.0   727252   \n",
       "3  2764.0       1795       613   42829.0   111931   \n",
       "\n",
       "                                           Image URL  \n",
       "0  https://cdn.myanimelist.net/images/anime/4/196...  \n",
       "2  https://cdn.myanimelist.net/images/anime/7/203...  \n",
       "3  https://cdn.myanimelist.net/images/anime/10/19...  \n",
       "\n",
       "[3 rows x 24 columns]"
      ]
     },
     "execution_count": 29,
     "metadata": {},
     "output_type": "execute_result"
    }
   ],
   "source": [
    "top_studios_df = data[data['Studios'].isin(top_studios.index)]\n",
    "top_studios_df.head(3)"
   ]
  },
  {
   "cell_type": "code",
   "execution_count": 30,
   "metadata": {},
   "outputs": [
    {
     "data": {
      "application/vnd.plotly.v1+json": {
       "config": {
        "plotlyServerURL": "https://plot.ly"
       },
       "data": [
        {
         "hovertemplate": "Name: %{label}<br>Studio: %{parent}",
         "labels": [
          "Studios",
          "Toei Animation",
          "Sunrise",
          "J.C.Staff",
          "Shanghai Animation Film Studio",
          "Madhouse",
          "TMS Entertainment",
          "Studio Deen",
          "Production I.G",
          "Pierrot",
          "OLM",
          "Cowboy Bebop",
          "Trigun",
          "Witch Hunter Robin",
          "Bouken Ou Beet",
          "Hachimitsu to Clover",
          "Monster",
          "Naruto",
          "One Piece",
          "Ring ni Kakero 1",
          "Texhnolyze",
          "Yakitate!! Japan",
          "Zipang",
          "Kenpuu Denki Berserk",
          "Koukaku Kidoutai",
          "Rurouni Kenshin: Meiji Kenkaku Romantan - Tsuioku-hen",
          "Ai Yori Aoshi",
          "Beck",
          "Chobits",
          "Azumanga Daiou The Animation",
          "Cluster Edge",
          "Kidou Senshi Gundam",
          "Kidou Senshi Gundam: Dai 08 MS Shoutai",
          "Kidou Senshi Gundam 0080: Pocket no Naka no Sensou",
          "Kidou Senshi Gundam: Dai 08 MS Shoutai - Miller's Report",
          "Kidou Senshi Gundam 0083: Stardust Memory",
          "Kidou Senshi Zeta Gundam",
          "Kidou Senshi Gundam ZZ",
          "Kidou Senshi Gundam: Gyakushuu no Char",
          "Kidou Senshi Gundam F91",
          "Kidou Senshi Victory Gundam",
          "Shin Kidou Senki Gundam Wing",
          "Shin Kidou Senki Gundam Wing: Endless Waltz",
          "Kidou Shinseiki Gundam X",
          "Kidou Senshi Gundam SEED",
          "Kidou Senshi Gundam SEED Destiny",
          "Turn A Gundam",
          "Kidou Butouden G Gundam",
          "Mai-HiME",
          "Mai-Otome",
          "Aishiteruze Baby★★",
          "Ayashi no Ceres",
          "Hana yori Dango",
          "Ou Dorobou Jing",
          "Ou Dorobou Jing in Seventh Heaven",
          "Sakigake!! Cromartie Koukou",
          "Fruits Basket",
          "Full Moon wo Sagashite",
          "Fushigi Yuugi",
          "Fushigi Yuugi: Eikouden",
          "Gensoumaden Saiyuuki",
          "Saiyuuki Reload",
          "Saiyuuki Reload Gunlock",
          "GetBackers",
          "Gunslinger Girl",
          "Hikaru no Go",
          "Kamikaze Kaitou Jeanne",
          "Kanon",
          "Kita e.: Diamond Dust Drops",
          "Loveless",
          "Blood+",
          "Juuni Kokuki",
          "X/1999",
          "X",
          "Maria-sama ga Miteru",
          "Pita Ten",
          "Power Stone",
          "s.CRY.ed",
          "Shingetsutan Tsukihime",
          "Slam Dunk",
          "Tactics",
          "Tenjou Tenge",
          "Tokyo Underground",
          "Tenkuu no Escaflowne",
          "Xenosaga The Animation",
          "Initial D Third Stage",
          "Maburaho",
          "Tenshi na Konamaiki",
          "Video Girl Ai",
          "Yumeria",
          "Lodoss-tou Senki",
          "R.O.D: Read or Die",
          "R.O.D: The TV",
          "Ranma ½",
          "Dragon Ball",
          "Dragon Ball GT",
          "Jigoku Shoujo",
          "Air Master",
          "Cardcaptor Sakura",
          "Daa! Daa! Daa!",
          "Detective Conan",
          "E's Otherwise",
          "Rekka no Honoo",
          "Gokusen",
          "Gravitation",
          "Agatha Christie no Meitantei Poirot to Marple",
          "Great Teacher Onizuka",
          "Groove Adventure Rave",
          "Ichigo 100%",
          "InuYasha",
          "Konjiki no Gash Bell!!",
          "Kyou kara Maou!",
          "Ikkitousen",
          "Hitsuji no Uta",
          "Hajime no Ippo",
          "Hajime no Ippo: Champion Road",
          "Hajime no Ippo: Mashiba vs. Kimura",
          "Gunparade March: Arata Naru Kougunka",
          "Gungrave",
          "Bleach",
          "Mahoutsukai ni Taisetsu na Koto",
          "Kyougoku Natsuhiko: Kousetsu Hyaku Monogatari",
          "Angel Heart",
          "Argento Soma",
          "B'T X",
          "Bakuten Shoot Beyblade",
          "Comic Party",
          "Seikai no Monshou",
          "Di Gi Charat",
          "Dragon Drive",
          "3x3 Eyes",
          "Aa! Megami-sama!: Chichaitte Koto wa Benri da ne",
          "Abashiri Ikka",
          "Chiisana Obake: Acchi, Kocchi, Socchi",
          "Paradise Kiss",
          "Mousou Dairinin",
          "Kidou Keisatsu Patlabor: On Television",
          "Petshop of Horrors",
          "Piano (TV)",
          "Planetes",
          "Midori no Hibi",
          "Mama wa Shougaku 4 Nensei",
          "Marmalade Boy",
          "Matantei Loki Ragnarok",
          "Spiral: Suiri no Kizuna",
          "Starship Operators",
          "Eikoku Koi Monogatari Emma",
          "Ojamajo Doremi",
          "Ojamajo Doremi Sharp",
          "Motto! Ojamajo Doremi",
          "Ojamajo Doremi Dokkaan!",
          "Shakugan no Shana",
          "Fate/stay night",
          "Iriya no Sora, UFO no Natsu",
          "Fake",
          "Boogiepop wa Warawanai",
          "Cardcaptor Sakura Movie 1",
          "Cardcaptor Sakura Movie 2: Fuuin Sareta Card",
          "Heppoko Jikken Animation Excel♥Saga",
          "Fushigi Yuugi OVA",
          "Fushigi Yuugi: Dai Ni Bu",
          "Galaxy Angel",
          "Yuu☆Yuu☆Hakusho",
          "Ai Yori Aoshi: Enishi",
          "Seikai no Senki",
          "Seikai no Senki II",
          "Seikai no Senki III",
          "Seikai no Senki Special",
          "Seihou Bukyou Outlaw Star",
          "Rurouni Kenshin: Meiji Kenkaku Romantan - Seisou-hen",
          "Otogi Juushi Akazukin OVA",
          "Blood: The Last Vampire",
          "Buzzer Beater",
          "Tantei Gakuen Q",
          "Final Fantasy VII: Last Order",
          "Ranma ½: Chuugoku Nekonron Daikessen! Okite Yaburi no Gekitou-hen!!",
          "Samurai Deeper Kyou",
          "Dirty Pair",
          "Final Fantasy",
          "Perfect Blue",
          "Shoujo Kakumei Utena",
          "Shoujo Kakumei Utena: Adolescence Mokushiroku",
          "Naruto Movie 1: Dai Katsugeki!! Yuki Hime Shinobu Houjou Dattebayo!",
          "Maria-sama ga Miteru: Haru",
          "Tenjou Tenge: The Ultimate Fight",
          "InuYasha Movie 4: Guren no Houraijima",
          "InuYasha Movie 2: Kagami no Naka no Mugenjo",
          "InuYasha Movie 3: Tenka Hadou no Ken",
          "InuYasha Movie 1: Toki wo Koeru Omoi",
          "Gokujou Seitokai",
          "Buttobi!! CPU",
          "One Piece Movie 01",
          "One Piece Movie 02: Nejimaki-jima no Daibouken",
          "One Piece Movie 03: Chinjuu-jima no Chopper Oukoku",
          "One Piece Movie 04: Dead End no Bouken",
          "One Piece Movie 05: Norowareta Seiken",
          "One Piece Movie 06: Omatsuri Danshaku to Himitsu no Shima",
          "One Piece Movie 07: Karakuri-jou no Mecha Kyohei",
          "One Piece: Taose! Kaizoku Ganzack",
          "Koukaku Kidoutai: Stand Alone Complex",
          "Innocence",
          "Karin",
          "Okusama wa Joshikousei (TV)",
          "To Heart 2",
          "To Heart",
          "Hotori: Tada Saiwai wo Koinegau",
          "Ueki no Housoku",
          "Gensoumaden Saiyuuki Movie: Requiem - Erabarezaru Mono e no Chinkonka",
          "Kamui no Ken",
          "Yami to Boushi to Hon no Tabibito",
          "Makai Toshi Shinjuku",
          "Dragon Ball Movie 1: Shen Long no Densetsu",
          "Tottoko Hamtarou",
          "Keroro Gunsou",
          "Mahoraba: Heartful days",
          "Marmalade Boy Movie",
          "Metropolis",
          "Otogizoushi",
          "Boku no Chikyuu wo Mamotte",
          "Pokemon",
          "Pokemon Movie 01: Mewtwo no Gyakushuu",
          "Bishoujo Senshi Sailor Moon",
          "Bishoujo Senshi Sailor Moon R: The Movie",
          "Bishoujo Senshi Sailor Moon S",
          "Sensei no Ojikan: Dokidoki School Hours",
          "Slayers: The Motion Picture",
          "Tekken",
          "Vampire Hunter D (2000)",
          "Yu☆Gi☆Oh!",
          "Digimon Adventure",
          "Yami no Matsuei",
          "Koutetsu Tenshi Kurumi",
          "Koutetsu Tenshi Kurumi 2",
          "Koutetsu Tenshi Kurumi Zero",
          "Koutetsu Tenshi Kurumi Encore",
          "Sakura Taisen",
          "Puni Puni☆Poemii",
          "Steamboy",
          "Tetsuwan Birdy",
          "The Big O",
          "Jin-Rou",
          "Rean no Tsubasa",
          "Kogepan",
          "Ayakashi: Japanese Classic Horror",
          "Ginga Nagareboshi Gin",
          "Amaenaide yo!!",
          "PopoloCrois",
          "Mugen no Ryvius",
          "Naruto: Takigakure no Shitou - Ore ga Eiyuu Dattebayo!",
          "X OVA",
          "Chobits: Chibits",
          "Yuugen Kaisha",
          "Nekojiru-sou",
          "Futari wa Precure",
          "Mahou no Stage Fancy Lala",
          "Tenshi ni Narumon!",
          "Kazemakase Tsukikage Ran",
          "Otogi Juushi Akazukin",
          "Sakura Taisen: Katsudou Shashin",
          "Onmyou Taisenki",
          "Okusama wa Mahou Shoujo",
          "Juubee Ninpuuchou",
          "Juubee Ninpuuchou: Ryuuhougyoku-hen",
          "Takahashi Rumiko Gekijou Ningyo no Mori",
          "Mouse",
          "Mamotte Shugogetten!",
          "Juubee-chan: Lovely Gantai no Himitsu",
          "Juubee-chan 2: Siberia Yagyuu no Gyakushuu",
          "Iketeru Futari",
          "Ichigo 100% Special 2",
          "Ichigo 100%: Koi ga Hajimaru?! Satsuei Gasshuku - Yureru Kokoro ga Higashi e Nishi e",
          "Hachimitsu to Clover Specials",
          "Hikaru no Go: Hokuto Hai e no Michi",
          "Haunted Junction",
          "Gunsmith Cats",
          "Galaxy Angel Z",
          "Galaxy Angel 3",
          "Touhai Densetsu Akagi: Yami ni Maiorita Tensai",
          "Azumanga Daiou: Gekijou Tanpen",
          "Denshin Mamotte Shugogetten",
          "Mai-HiME Specials",
          "Sentimental Journey",
          "Shadow Skill: Eigi",
          "Tokyo Mew Mew",
          "Yawara!",
          "Kanon Kazahana",
          "Comic Party Specials",
          "Air Movie",
          "Yume de Aetara",
          "Yume de Aetara (TV)",
          "Candy Candy (Movie)",
          "Kingyo Chuuihou!",
          "Interstella5555: The 5tory of The 5ecret 5tar 5ystem",
          "Keiraku no Houteishiki Level-C",
          "Bishoujo Senshi Sailor Moon R",
          "Binchou-tan",
          "Bomberman Jetters",
          "Osakana wa Ami no Naka",
          "Yuki no Joou (TV)",
          "Tokyo Godfathers",
          "Tenjou Tenge: The Past Chapter",
          "Naruto: Akaki Yotsuba no Clover wo Sagase",
          "Bleach: Memories in the Rain",
          "Tenamonya Voyagers",
          "Nanaka 6/17",
          "Detective Conan Movie 01: The Timed Skyscraper",
          "Detective Conan Movie 02: The Fourteenth Target",
          "Detective Conan Movie 03: The Last Wizard of the Century",
          "Gasaraki",
          "Eiken: Eikenbu yori Ai wo Komete",
          "Arion",
          "Ranma ½: Kessen Tougenkyou! Hanayome wo Torimodose!",
          "xxxHOLiC Movie: Manatsu no Yoru no Yume",
          "Yomigaeru Sora: Rescue Wings",
          "Kokoro Toshokan",
          "Koukaku Kidoutai: Stand Alone Complex 2nd GIG",
          "Tsubasa Chronicle: Tori Kago no Kuni no Himegimi",
          "Dragon Ball Z",
          "Tennis no Ouji-sama Movie 1: Futari no Samurai - The First Game",
          "King of Fighters: Another Day",
          "Chicchana Yukitsukai Sugar",
          "Bleach: The Sealed Sword Frenzy",
          "Konjiki no Gash Bell!!: 101 Banme no Mamono",
          "Kiba",
          "Kyou kara Ore wa!!",
          "Gokinjo Monogatari",
          "Strawberry Panic",
          "Utawarerumono",
          "Air Gear",
          "Digimon Savers",
          "Makai Senki Disgaea",
          "xxxHOLiC",
          "Kidou Senshi Gundam SEED MSV Astray",
          "Kikou Senki Dragonar",
          "Slayers Gorgeous",
          "Slayers Great",
          "Slayers Return",
          "Dragon Half",
          "Digimon Tamers",
          "Nana",
          "Zegapain",
          "Simoun",
          "Yuu☆Yuu☆Hakusho (Movie)",
          "Yuu☆Yuu☆Hakusho: Meikai Shitou-hen - Honoo no Kizuna",
          "Tenshi no Tamago",
          "Amaenaide yo!! Katsu!!",
          "Black Lagoon",
          "Yuusha-Ou GaoGaiGar",
          "Dragon Ball Movie 2: Majinjou no Nemurihime",
          "Dragon Ball Movie 3: Makafushigi Daibouken",
          "Dragon Ball Movie 4: Saikyou e no Michi",
          "Dragon Ball Z Movie 01: Ora no Gohan wo Kaese!!",
          "Dragon Ball Z Movie 02: Kono Yo de Ichiban Tsuyoi Yatsu",
          "Dragon Ball Z Movie 03: Chikyuu Marugoto Choukessen",
          "Dragon Ball Z Movie 04: Super Saiyajin da Son Gokuu",
          "Dragon Ball Z Movie 05: Tobikkiri no Saikyou tai Saikyou",
          "Dragon Ball Z Movie 06: Gekitotsu!! 100-oku Power no Senshi-tachi",
          "Dragon Ball Z Movie 07: Kyokugen Battle!! Sandai Super Saiyajin",
          "Dragon Ball Z Movie 08: Moetsukiro!! Nessen, Ressen, Chougekisen",
          "Dragon Ball Z Movie 09: Ginga Girigiri!! Bucchigiri no Sugoi Yatsu",
          "Dragon Ball Z Movie 10: Kiken na Futari! Super Senshi wa Nemurenai",
          "Dragon Ball Z Movie 11: Super Senshi Gekiha!! Katsu no wa Ore da",
          "Dragon Ball Z Movie 12: Fukkatsu no Fusion!! Gokuu to Vegeta",
          "Dragon Ball Z Movie 13: Ryuuken Bakuhatsu!! Gokuu ga Yaraneba Dare ga Yaru",
          "Princess Princess",
          "Konjiki no Gash Bell!!: Mecha Vulkan no Raishuu",
          "Ninkuu",
          "Kakutou Bijin Wulong",
          "Ginga Densetsu Weed",
          "Gintama",
          "Ray The Animation",
          "Transformers: Choujin Master Force",
          "Transformers: The☆Headmasters",
          "Tatakae! Chou Robot Seimeitai Transformers Victory",
          "Seisenshi Dunbine",
          "Densetsu Kyojin Ideon",
          "Higurashi no Naku Koro ni",
          "Naruto Movie 2: Dai Gekitotsu! Maboroshi no Chiteiiseki Dattebayo!",
          "Yume Tsukai",
          "Daikuu Maryuu Gaiking",
          "Saiunkoku Monogatari",
          "Hokuto no Ken",
          "Kakutou Bijin Wulong: Rebirth",
          "Dead Leaves",
          "Ichigo 100% OVA",
          "Dragon Ball Z: Saiya-jin Zetsumetsu Keikaku",
          "Dragon Ball Z Special 2: Zetsubou e no Hankou!! Nokosareta Chousenshi - Gohan to Trunks",
          "Dragon Ball Z Special 1: Tatta Hitori no Saishuu Kessen",
          "Dragon Ball GT: Gokuu Gaiden! Yuuki no Akashi wa Suushinchuu",
          "Kamisama Kazoku",
          "Bishoujo Senshi Sailor Moon: Sailor Stars",
          "Bishoujo Senshi Sailor Moon S: Kaguya-hime no Koibito",
          "Uchuu Kaizoku Captain Herlock",
          "Star Ocean EX",
          "Ranma ½: Yomigaeru Kioku",
          "Ranma ½: Chou Musabetsu Kessen! Ranma Team vs. Densetsu no Houou",
          "Ranma ½ Super",
          "Le Chevalier D'Eon",
          "Chicchana Yukitsukai Sugar Specials",
          "Gunnm",
          "Majutsushi Orphen",
          "Majutsushi Orphen: Revenge",
          "Honoo no Mirage",
          "Honoo no Mirage: Minagiwa no Hangyakusha",
          "Yakumotatsu",
          "Kumo no You ni Kaze no You ni",
          "Sennen Joyuu",
          "Mizuiro (2003)",
          "Zetsuai 1989",
          "Bronze: Zetsuai Since 1989",
          "Tokyo Babylon",
          "Taiyou no Ouji: Horus no Daibouken",
          "Bobobo-bo Bo-bobo",
          "Good Morning Call",
          "Shakugan no Shana-tan",
          "Naruto Narutimate Hero 3: Tsuini Gekitotsu! Jounin vs. Genin!! Musabetsu Dairansen Taikai Kaisai!!",
          "Wizardry",
          "Cardcaptor Sakura: Kero-chan ni Omakase!",
          "Space Pirate Captain Herlock: Outside Legend - The Endless Odyssey",
          "Hikari to Mizu no Daphne",
          "Interlude",
          "Kimagure Orange☆Road",
          "Kidou Senshi Gundam I",
          "Kidou Senshi Gundam II: Ai Senshi-hen",
          "Kidou Senshi Gundam III: Meguriai Sora-hen",
          "One Piece: Umi no Heso no Daibouken-hen",
          "Kidou Keisatsu Patlabor 2 the Movie",
          "Soreyuke! Uchuu Senkan Yamamoto Youko",
          "Youjuu Toshi",
          "Senkaiden Houshin Engi",
          "Monster Extra: Hottan",
          "Handsome Girl",
          "Pokemon Movie 02: Maboroshi no Pokemon Lugia Bakutan",
          "Pokemon Movie 03: Kesshoutou no Teiou Entei",
          "Pokemon Movie 04: Celebi Toki wo Koeta Deai",
          "Pokemon Movie 05: Mizu no Miyako no Mamorigami Latias to Latios",
          "Pokemon Movie 06: Nanayo no Negaiboshi Jirachi",
          "Pokemon Movie 07: Rekkuu no Houmonsha Deoxys",
          "Bouken Ou Beet Excellion",
          "Seikai no Danshou: Tanjou",
          "Figure 17: Tsubasa & Hikaru",
          "Digimon Frontier",
          "Betterman",
          "Mushrambo",
          "Hachimitsu to Clover II",
          "Kaze no Youjinbou",
          "Teito Monogatari",
          "New Dominion Tank Police",
          "Crying Freeman",
          "Mother: Saigo no Shoujo Eve",
          "Maze☆Bakunetsu Jikuu (TV)",
          "Maze☆Bakunetsu Jikuu",
          "Neo Ranga",
          "Mahou Senshi Louie",
          "Slayers Specials",
          "Slayers Excellent",
          "Metal Fighter Miku",
          "Alien 9",
          "Gakuen Senki Muryou",
          "Hyper Police",
          "DNA² OVA",
          "Momoiro Sisters",
          "Eden's Bowy",
          "Tennis no Ouji-sama: Sonzoku Yama no Hi",
          "Zero no Tsukaima",
          "Tatsu no Ko Tarou",
          "Nasu: Andalusia no Natsu",
          "Binbou Shimai Monogatari",
          "Kidou Senshi Gundam SEED C.E. 73: Stargazer",
          "Boku wa Konomama Kaeranai",
          "Demashita! Powerpuff Girls Z",
          "Aquarian Age: Sign for Evolution",
          "Seihou Tenshi Angel Links",
          "SF Saiyuuki Starzinger",
          "One Piece: Oounabara ni Hirake! Dekkai Dekkai Chichi no Yume!",
          "One Piece: Mamore! Saigo no Dai Butai",
          "Bishoujo Senshi Sailor Moon SuperS",
          "Bishoujo Senshi Sailor Moon SuperS: Sailor 9 Senshi Shuuketsu! Black Dream Hole no Kiseki",
          "Kidou Senshi Gundam SEED Destiny Final Plus: Erabareta Mirai",
          "Ankoku Shindenshou Takegami",
          "Shihaisha no Tasogare",
          "Zone of the Enders: 2167 Idolo",
          "Zone of the Enders: Dolores, I",
          "Saint Seiya: Meiou Hades Meikai-hen",
          "Saint Seiya",
          "Saint Seiya: Shinku no Shounen Densetsu",
          "Saint Seiya: Jashin Eris",
          "Saint Seiya: Meiou Hades Juuni Kyuu-hen",
          "Saint Seiya: Kamigami no Atsuki Tatakai",
          "Saint Seiya: Tenkai-hen Josou - Overture",
          "Saint Seiya: Saishuu Seisen no Senshi-tachi",
          "Yoroiden Samurai Troopers",
          "Yoroiden Samurai Troopers Gaiden",
          "Yoroiden Samurai Troopers Kikoutei Densetsu",
          "Yoroiden Samurai Troopers Message",
          "Aquarian Age: Saga II - Don't Forget Me...",
          "Bio Hunter",
          "Bishoujo Senshi Sailor Moon SuperS Gaiden: Ami-chan no Hatsukoi",
          "Taiyou no Ko Esteban",
          "Mamono Hunter Youko",
          "Gakkou no Kaidan",
          "Odin: Koushi Hansen Starlight",
          "Kidou Keisatsu Patlabor",
          "Kidou Keisatsu Patlabor: New OVA",
          "WXIII Kidou Keisatsu Patlabor",
          "Ginga Tetsudou 999 (Movie)",
          "Sayonara Ginga Tetsudou 999: Andromeda Shuuchakueki",
          "Chobits Recap",
          "Digimon Adventure 02",
          "DT Eightron",
          "Eyeshield 21: Maboroshi no Golden Bowl",
          "Earthian",
          "Hamelin no Violin Hiki",
          "Aoki Densetsu Shoot!",
          "Ohoshi-sama no Rail",
          "Koukaku Kidoutai: Stand Alone Complex - Tachikoma na Hibi",
          "Dororon Enma-kun",
          "Shin Megami Tensei: Tokyo Mokushiroku",
          "Eightman After",
          "Soujuu Senshi Psychic Wars",
          "Cyber City Oedo 808",
          "Hokuto no Ken 2",
          "Hokuto no Ken Movie",
          "Detective Conan Movie 04: Captured in Her Eyes",
          "Detective Conan Movie 05: Countdown to Heaven",
          "Detective Conan Movie 06: The Phantom of Baker Street",
          "Detective Conan Movie 07: Crossroad in the Ancient Capital",
          "Detective Conan Movie 08: Magician of the Silver Sky",
          "Detective Conan OVA 06: Follow the Vanished Diamond! Conan & Heiji vs. Kid!",
          "Detective Conan OVA 01: Conan vs. Kid vs. Yaiba - Houtou Soudatsu Daikessen!!",
          "Atama Yama",
          "Taiho Shichau zo (TV)",
          "Kyoushoku Soukou Guyver (2005)",
          "Ojamajo Doremi Na-i-sho",
          "Sengoku Kitan Youtouden Movie",
          "Seikai no Monshou Special",
          "Yuusha-Ou GaoGaiGar Final",
          "Future GPX Cyber Formula",
          "Future GPX Cyber Formula 11",
          "Future GPX Cyber Formula Zero",
          "Future GPX Cyber Formula Saga",
          "Future GPX Cyber Formula Sin",
          "Future GPX Cyber Formula: Early Days Renewal",
          "Stainless Night",
          "IGPX: Immortal Grand Prix (2005) 2nd Season",
          "Lupin III: Alcatraz Connection",
          "Lupin III: Tenshi no Tactics - Yume no Kakera wa Koroshi no Kaori",
          "Lupin III: Episode 0 \"First Contact\"",
          "Lupin III: $1 Money Wars",
          "Lupin III: Otakara Henkyaku Daisakusen!!",
          "Lupin III: Ikiteita Majutsushi",
          "Lupin III: Nusumareta Lupin",
          "Alexander Senki",
          "Hyakujuu-Ou GoLion",
          "Brigadoon: Marin to Melan",
          "Maison Ikkoku",
          "Kemonozume",
          "Key the Metal Idol",
          "Hakaima Sadamitsu",
          "Baoh Raihousha",
          "Monster Farm: Enbanseki no Himitsu",
          "City Hunter",
          "City Hunter 2",
          "City Hunter 3",
          "City Hunter '91",
          "City Hunter: Ai to Shukumei no Magnum",
          "City Hunter: Bay City Wars",
          "City Hunter: Hyakuman Dollar no Inbou",
          "City Hunter: The Secret Service",
          "City Hunter: Goodbye My Sweetheart",
          "City Hunter: Kinkyuu Namachuukei!? Kyouakuhan Saeba Ryou no Saigo",
          "Sky Girls OVA",
          "Urusei Yatsura: Haru da, Tobidase!",
          "D.Gray-man",
          "Master Keaton",
          "Youma",
          "Akachan to Boku",
          "Area 88",
          "Ginga Tetsudou 999",
          "Project ARMS",
          "Project ARMS: The 2nd Chapter",
          "Darkside Blues",
          "Detective Conan Movie 09: Strategy Above the Depths",
          "Detective Conan Movie 10: Requiem of the Detectives",
          "Black Lagoon: The Second Barrage",
          "Fuujin Monogatari",
          "Pokemon Crystal: Raikou Ikazuchi no Densetsu",
          "Pokemon Movie 08: Mew to Hadou no Yuusha Lucario",
          "Pokemon: Senritsu no Mirage Pokemon",
          "Shakugan no Shana: Koi to Onsen no Kougai Gakushuu!",
          "Ai Tenshi Densetsu Wedding Peach",
          "Futari wa Precure: Splash☆Star",
          "Death Note",
          "Genshi Shounen Ryuu",
          "Brain Powerd",
          "Shin Taketori Monogatari: 1000-nen Joou",
          "1000-nen Joou: Queen Millennia",
          "Queen Emeraldas",
          "Asatte no Houkou.",
          "Shounen Onmyouji",
          "Shijou Saikyou no Deshi Kenichi",
          "Choujin Gakuen Gowcaizer: The Voltage Fighters",
          "Magic Knight Rayearth II",
          "Pokemon Advanced Generation",
          "Pokemon Diamond & Pearl",
          "Koukaku Kidoutai: Stand Alone Complex - Solid State Society",
          "Kaitou Saint Tail",
          "Ghost Hunt",
          "Kishin Douji Zenki",
          "Get Ride! AMDriver",
          "Code Geass: Hangyaku no Lelouch",
          "Bakumatsu Kikansetsu Irohanihoheto",
          "Taiho Shichau zo",
          "Gift: Eternal Rainbow",
          "Jigoku Shoujo Futakomori",
          "Panyo Panyo Di Gi Charat",
          "Eat-Man '98",
          "Super Robot Taisen OG: Divine Wars",
          "Kekkaishi",
          "Mai-Otome Zwei",
          "Soreyuke! Uchuu Senkan Yamamoto Youko (1999)",
          "Maps",
          "Kai Doh Maru",
          "To Heart 2 Special",
          "Genma Taisen",
          "Devilman Lady",
          "Sugar Sugar Rune",
          "Byston Well Monogatari: Garzey no Tsubasa",
          "Karakuri no Kimi",
          "Mai-Otome Specials",
          "Cutey Honey",
          "Space Fantasia 2001 Nights",
          "Babel Nisei (OVA)",
          "Babel Nisei",
          "Soreyuke! Uchuu Senkan Yamamoto Youko II",
          "Bomberman B-Daman Bakugaiden",
          "Bomberman B-Daman Bakugaiden Victory",
          "Di Gi Charat Nyo",
          "Bleach Movie 1: Memories of Nobody",
          "Reideen",
          "iDOLM@STER Xenoglossia",
          "Nodame Cantabile",
          "Boku no Marie",
          "Tokyo Tribe 2",
          "Eat-Man",
          "Kinnikuman II Sei",
          "Pokemon: Mewtwo! Ware wa Koko ni Ari",
          "Winter Garden",
          "Clannad Movie",
          "Devil May Cry",
          "Super GALS! Kotobuki Ran",
          "Maria-sama ga Miteru 3rd",
          "Naruto: Shippuuden",
          "B'T X Neo",
          "Freedom",
          "Piyoko ni Omakase pyo!",
          "Amaenaide yo!!: Yasumanaide yo!!",
          "Amaenaide yo!! Katsu!!: Damasarenaide yo!!",
          "Jikuu Bouken Nuumamonjaa",
          "Di Gi Charat: Hoshi no Tabi",
          "Di Gi Charat: Kuchi Kara Bazooka",
          "Di Gi Charat Summer Special 2000",
          "Di Gi Charat Ohanami Special",
          "Di Gi Charat Christmas Special",
          "Di Gi Charat Tsuyu Specials",
          "Slam Dunk (Movie)",
          "Vampire Sensou",
          "Youseiki Suikoden",
          "Oh! Super Milk-chan",
          "Ring ni Kakero 1: Nichibei Kessen-hen",
          "Hokuto no Ken: Raoh Gaiden Junai-hen",
          "Kaze no Tairiku",
          "Sprite: Between Two Worlds",
          "Argento Soma: Hitori to Hitori",
          "Overman King Gainer",
          "Kaze no Na wa Amnesia",
          "Dirty Pair no Ooshoubu: Nolandia no Nazo",
          "Dirty Pair: Bouryaku no 005-bin",
          "Dirty Pair: The Movie",
          "Dirty Pair Flash",
          "Dirty Pair: Lovely Angels yori Ai wo Komete",
          "Koko wa Green Wood",
          "Shakugan no Shana Movie",
          "Sonic X",
          "Claymore",
          "Hadashi no Gen",
          "Hadashi no Gen 2",
          "Deltora Quest",
          "Seirei no Moribito",
          "Utawarerumono Specials",
          "Zero no Tsukaima: Futatsuki no Kishi",
          "Yomigaeru Sora: Rescue Wings - Saigo no Shigoto",
          "Clamp Gakuen Tanteidan",
          "Gaiking: Legend of Daiku-Maryu",
          "Haou Taikei Ryuu Knight",
          "Haou Taikei Ryuu Knight: Adeu Legend",
          "Haou Daikei Ryuu Knight: Adeu Legend II",
          "Haou Daikei Ryuu Knight: Adeu Legend Final",
          "Cutey Honey F",
          "Taiyou no Mokushiroku: A Spirit of the Sun",
          "Slam Dunk: Zenkoku Seiha Da! - Sakuragi Hanamichi",
          "Silk Road Shounen Yuuto",
          "Giniro no Olynsis: Tokito",
          "Nana Recaps",
          "Kaze no Shoujo Emily",
          "Midnight Eye: Gokuu",
          "Midnight Eye: Gokuu II",
          "Higurashi no Naku Koro ni Kai",
          "Clover",
          "Azuki-chan",
          "Zettai Muteki Raijin-Oh",
          "Hikari to Mizu no Daphne Specials",
          "Kusatta Kyoushi no Houteishiki",
          "Master Keaton OVA",
          "Saiunkoku Monogatari 2nd Season",
          "Kidou Senshi Gundam MS IGLOO: Mokushiroku 0079",
          "Kidou Senshi Gundam MS IGLOO: 1-nen Sensou Hiroku",
          "Urusei Yatsura Movie 1: Only You",
          "Urusei Yatsura 2: Beautiful Dreamer",
          "Urusei Yatsura Movie 3: Remember My Love",
          "Urusei Yatsura Movie 4: Lum The Forever",
          "Urusei Yatsura Movie 6: Itsudatte My Darling",
          "Early Reins",
          "Futari wa Precure: Max Heart",
          "Futari wa Precure: Max Heart Movie 1",
          "Futari wa Precure: Max Heart Movie 2 - Yukizora no Tomodachi",
          "Yes! Precure 5",
          "Misute♡naide Daisy",
          "Paprika",
          "Ashita no Nadja",
          "Manie-Manie: Meikyuu Monogatari",
          "Vampire Hunter",
          "Code Geass: Hangyaku no Lelouch Picture Drama",
          "Rayearth",
          "Sore Ike! Anpanman",
          "Kidou Senshi Z Gundam I: Hoshi wo Tsugu Mono",
          "Kidou Senshi Z Gundam II: Koibito-tachi",
          "Kidou Senshi Z Gundam III: Hoshi no Kodou wa Ai",
          "X Densha de Ikou",
          "Trava: Fist Planet",
          "UFO Robo Grendizer",
          "Wakusei Robo Danguard Ace",
          "Mahou Gakuen Lunar! Aoi Ryuu no Himitsu",
          "Full Moon wo Sagashite: Kawaii Kawaii Daibouken",
          "Tokyo Vice",
          "Hanada Shounen-shi",
          "Yu☆Gi☆Oh! (Movie)",
          "Yawara! Sore Yuke Koshinuke Kids!!",
          "Yawara!: Zutto Kimi no Koto ga...",
          "Taiho Shichau zo in America",
          "Taiho Shichau zo Special",
          "Jigoku Sensei Nube",
          "Taiho Shichau zo The Movie",
          "Taiho Shichau zo: Second Season",
          "Ningyo no Kizu",
          "Warau Hyouteki",
          "DNA Sights 999.9",
          "One Piece: Nenmatsu Tokubetsu Kikaku! Mugiwara no Luffy Oyabun Torimonochou",
          "Fight!!",
          "Bakuen Campus Guardress",
          "Zettai Muteki Raijin-Oh (1992)",
          "Shining Tears X Wind",
          "Lovely★Complex",
          "Mahou no Star Magical Emi",
          "Mahou no Yousei Persia",
          "Five Star Stories",
          "Mahou no Tenshi Creamy Mami",
          "Mahou no Tenshi Creamy Mami: Eien no Once More",
          "Mahou no Tenshi Creamy Mami: Long Goodbye",
          "Kikou Ryohei Mellowlink",
          "Coo: Tooi Umi kara Kita Coo",
          "Cosmo Police Justy",
          "Onna Senshi Efe & Jira: Gude no Monshou",
          "Hana yori Dango (Movie)",
          "Kindaichi Shounen no Jikenbo",
          "Kindaichi Shounen no Jikenbo Movie 1: Operazakan - Aratanaru Satsujin",
          "Majokko Club Yoningumi: A Kuukan kara no Alien X",
          "Makeruna! Makendou",
          "Natsuki Crisis",
          "Choujikuu Seiki Orguss 02",
          "Oshare Kozou wa Hanamaru",
          "Kiss wa Hitomi ni Shite",
          "Pops",
          "Salamander",
          "Tokumu Sentai Shinesman",
          "Shin Kimagure Orange☆Road: Soshite, Ano Natsu no Hajimari",
          "Singles",
          "Touka Gettan",
          "One Piece Movie 08: Episode of Alabasta - Sabaku no Oujo to Kaizoku-tachi",
          "Digimon X-Evolution",
          "Code Geass: Hangyaku no Lelouch Recaps",
          "Yuu☆Yuu☆Hakusho: Eizou Hakusho - Ankoku Bujutsukai no Shou",
          "Yuu☆Yuu☆Hakusho: Eizou Hakusho II",
          "Chouja Raideen",
          "Yuusha Raideen",
          "Kaibutsu Oujo",
          "Blue Dragon",
          "Naruto Movie 3: Dai Koufun! Mikazuki Jima no Animaru Panikku Dattebayo!",
          "Nils no Fushigi na Tabi",
          "Oh! Edo Rocket",
          "Bakugan Battle Brawlers",
          "Dennou Coil",
          "Gegege no Kitarou (2007)",
          "Detective Conan Movie 11: Jolly Roger in the Deep Azure",
          "Hokuto no Ken: Raoh Gaiden Gekitou-hen",
          "Highlander: The Search for Vengeance",
          "Tokimeki Memorial: Forever With You",
          "Saiunkoku Monogatari Recaps",
          "Chirin no Suzu",
          "Muteki Choujin Zanbot 3",
          "Pokemon Movie 09: Pokemon Ranger to Umi no Ouji Manaphy",
          "Waga Seishun no Arcadia",
          "Waga Seishun no Arcadia: Mugen Kidou SSX",
          "Karakuri Zoushi Ayatsuri Sakon",
          "Galaxy Angel Music Collection: Shouen to Shien no Cassoulet",
          "Shigurui",
          "Aishite Knight",
          "Dr. Slump: Arale-chan",
          "Maple Town Monogatari",
          "Lady Lady!!",
          "Dragon Quest: Dai no Daibouken (TV)",
          "Hana no Ko Lunlun",
          "Toki wo Kakeru Shoujo",
          "Sei Michaela Gakuen Hyouryuuki II",
          "Seraphim Call",
          "Mononoke",
          "Naruto: Dai Katsugeki!! Yuki Hime Shinobu Houjou Dattebayo! - Konoha no Sato no Dai Undoukai",
          "Amon Saga",
          "Devilman",
          "Mazinger Z",
          "Sentou Mecha Xabungle",
          "Taiyou no Kiba Dagram",
          "Choro Q Dagram",
          "Sonic★the★Hedgehog",
          "Kidou Senshi Gundam SEED Special Edition",
          "Shin Kidou Senki Gundam Wing: Endless Waltz Special",
          "Nagagutsu wo Haita Neko",
          "Akihabara Dennou-gumi: 2011-nen no Natsuyasumi",
          "Superflat Monogram",
          "Kidou Senshi Gundam SEED Destiny Special Edition",
          "Kidou Senshi Gundam SEED: Hoshi no Hazama de",
          "Kidou Senshi SD Gundam Mk-I",
          "Kidou Senshi SD Gundam Mk-II",
          "Kidou Senshi SD Gundam Mk-IV",
          "Kidou Senshi SD Gundam Mk-III",
          "Kidou Senshi SD Gundam no Gyakushuu",
          "Azusa, Otetsudai Shimasu!",
          "Chou Kidou Densetsu DinaGiga",
          "Shounen Kenya",
          "Freedom Previsited",
          "Uchuu Densetsu Ulysses 31",
          "Hikaru no Go: New Year Special",
          "Sei Juushi Bismarck",
          "Pokemon Housoukyoku",
          "Touma Kishinden Oni",
          "One Piece: Jango no Dance Carnival",
          "One Piece: Yume no Soccer Ou!",
          "Ai Monogatari: 9 Love Stories",
          "Tachiguishi Retsuden",
          "SD Gundam Force",
          "Digimon Adventure: Bokura no War Game!",
          "Digimon Adventure 02: Diablomon no Gyakushuu",
          "Tottoko Hamtarou OVA 1: Hamtaro no Otanjoubi - Mama wo Tasunete Sanzen Techi Techi",
          "GS Mikami",
          "Hello! Lady Lynn",
          "Keroro Gunsou Movie 1",
          "Keroro Gunsou Movie 2: Shinkai no Princess de Arimasu!",
          "Super Kuma-san",
          "Suteki desu wa, Sakura-chan! Tomoyo no Cardcaptor Sakura Katsuyaku Video Nikki!",
          "Unico",
          "Unico: Mahou no Shima e",
          "Koukaku Kidoutai: Stand Alone Complex 2nd GIG - Individual Eleven",
          "Koukaku Kidoutai: Stand Alone Complex - The Laughing Man",
          "Space Adventure Cobra",
          "Kimagure Orange☆Road: Ano Hi ni Kaeritai",
          "Kimagure Orange☆Road OVA",
          "Toushinden",
          "Shounan Bakusouzoku",
          "Nineteen 19",
          "Uchuu Kaizoku Captain Herlock: Arcadia-gou no Nazo",
          "Naruto: Shippuuden Movie 1",
          "Ginga Ojousama Densetsu Yuna: Kanashimi no Siren",
          "Ginga Ojousama Densetsu Yuna: Shin'en no Fairy",
          "Gear Fighter Dendoh",
          "Takahashi Rumiko Gekijou",
          "One Piece: Mezase! Kaizoku Yakyuu Ou",
          "Chance Triangle Session",
          "Shin Cutey Honey",
          "Slam Dunk: Shouhoku Saidai no Kiki! Moero Sakuragi Hanamichi",
          "Slam Dunk: Hoero Basketman-damashii! Hanamichi to Rukawa no Atsuki Natsu",
          "The Cockpit",
          "Detective Conan OVA 02: 16 Suspects",
          "Detective Conan OVA 03: Conan and Heiji and the Vanished Boy",
          "Detective Conan OVA 04: Conan and Kid and Crystal Mother",
          "Detective Conan OVA 05: The Target is Kogoro! The Detective Boys' Secret Investigation",
          "Uchuu no Senshi",
          "Dragon Ball Specials",
          "Nessa no Wakusei",
          "Terra e...",
          "Captain Future",
          "Shion no Ou",
          "Code-E",
          "Ochame na Futago: Claire Gakuin Monogatari",
          "Kidou Senshi Gundam 00",
          "Soukou Kihei Votoms",
          "Soukou Kihei Votoms: The Last Red Shoulder",
          "Soukou Kihei Votoms: Big Battle",
          "Soukou Kihei Votoms: Red Shoulder Document - Yabou no Roots",
          "Soukou Kihei Votoms: Kakuyaku taru Itan",
          "Piano no Mori",
          "Shinreigari",
          "Detective Conan OVA 07: A Challenge from Agasa! Agasa vs. Conan and the Detective Boys",
          "Juusenki L-Gaim",
          "Juusenki L-Gaim I: Pentagona Window + Lady Gavlet",
          "Juusenki L-Gaim II: Farewell My Lovely + Pentagona Dolls",
          "Juusenki L-Gaim III: Full Metal Soldier",
          "Sky Girls",
          "Digimon Savers the Movie: Kyuukyoku Power! Burst Mode Hatsudou!!",
          "Spoon Oba-san",
          "Flanders no Inu, Boku no Patrasche",
          "Aoki Densetsu Shoot! (Movie)",
          "Buzzer Beater 2nd Season",
          "Tsubasa: Tokyo Revelations",
          "Akai Koudan Zillion: Utahime Yakyoku",
          "Detatoko Princess",
          "Hidamari no Ki",
          "Kidou Senshi Gundam 0083: Zeon no Zankou",
          "Crusher Joe OVA",
          "Hi-Speed Jecy",
          "Urayasu Tekkin Kazoku",
          "MapleStory",
          "Reinou Tantei Miko",
          "Crusher Joe",
          "Sweet Valerian",
          "TWO-MIX: White Reflection",
          "X²: Double X",
          "1+2=Paradise",
          "Shishunki Bishoujo Gattai Robo Z-Mind",
          "MiniPato",
          "Mojakou",
          "Kouryuu no Mimi: Mina no Shou",
          "Kasumin 3rd Season",
          "Highschool Aurabuster: Hikari no Mezame",
          "Monkey Turn",
          "Monkey Turn V",
          "Omoikkiri Kagaku Adventure Sou Nanda!",
          "Kidou Senshi Gundam SEED: SEED Supernova - Tanekyara Gekijou",
          "Potemayo",
          "Jigoku Sensei Nube OVA",
          "Cleopatra D.C.",
          "Shippuu! Iron Leaguer",
          "Densetsu Kyojin Ideon: Sesshoku-hen",
          "Densetsu Kyojin Ideon: Hatsudou-hen",
          "Super Doll Licca-chan",
          "CLAMP in Wonderland 2",
          "Galactic Patrol Lensman",
          "SF Shinseiki Lensman",
          "Kyoufu no Bio Ningen Saishuu Kyoushi",
          "Gift: Eternal Rainbow - Ki no Saka Ryokan Kiki Ippatsu!!",
          "Shakugan no Shana II (Second)",
          "Hello! Sandybell",
          "Candy Candy",
          "Candy Candy: Haru no Yobigoe",
          "Candy Candy: Candy no Natsu Yasumi",
          "Densetsu no Yuusha da Garn",
          "Onegai! Samia Don",
          "Soratobu Yuureisen",
          "Madou King Granzort",
          "Barbapapa Sekai wo Mawaru",
          "Calimero",
          "Chibikko Remi to Meiken Kapi",
          "Ie Naki Ko (Movie)",
          "Gulliver no Uchuu Ryokou",
          "Patalliro!",
          "Ariel Deluxe",
          "Ariel Visual",
          "Pokemon Fushigi no Dungeon: Shutsudou Pokemon Kyuujotai Ganbaruzu!",
          "Pokemon Movie 10: Dialga vs. Palkia vs. Darkrai",
          "Ninkuu (Movie)",
          "Chinmoku no Kantai",
          "Bleach Movie 2: The DiamondDust Rebellion - Mou Hitotsu no Hyourinmaru",
          "Higurashi no Naku Koro ni Special: Nekogoroshi-hen",
          "Sakigake!! Otokojuku",
          "Code Geass: Hangyaku no Lelouch R2",
          "Ohayou! Spank",
          "Genki Bakuhatsu Ganbaruger",
          "KimiKiss Pure Rouge",
          "Bishoujo Senshi Sailor Moon R: Make Up! Sailor Senshi",
          "Ojamajo Doremi Sharp Movie",
          "Motto! Ojamajo Doremi: Kaeru Ishi no Himitsu",
          "Doubutsu no Mori",
          "Gintama: Nanigoto mo Saisho ga Kanjin nanode Tashou Senobisuru Kurai ga Choudoyoi",
          "Maria-sama ga Miteru 3rd Specials",
          "Digimon Adventure Movie",
          "Digimon Adventure 02 Movies",
          "Suteki Tantei Labyrinth",
          "Kyou kara Maou! R",
          "Fire Tripper",
          "Kuusou Kagaku Sekai Gulliver Boy",
          "Majin Tantei Nougami Neuro",
          "Ginga Hyouryuu Vifam",
          "Death Note: Rewrite",
          "Hi no Tori: Houou-hen",
          "Hi no Tori: Uchuu-hen",
          "Hi no Tori: Yamato-hen",
          "Taiho Shichau zo: Full Throttle",
          "Gyakkyou Burai Kaiji: Ultimate Survivor",
          "Yumedamaya Kidan",
          "Saint Beast: Ikusen no Hiru to Yoru-hen",
          "Bronze: Kouji Nanjo Cathexis",
          "Tiger Mask",
          "Gekitou! Crush Gear Turbo",
          "Lupin III: Kiri no Elusive",
          "Gu-Gu Ganmo",
          "Yume Senshi Wingman",
          "Haai Step Jun",
          "Hokuto no Ken: Yuria-den",
          "Digimon Frontier: Ornismon Fukkatsu!!",
          "Digimon Tamers: Boukensha-tachi no Tatakai",
          "Digimon Tamers: Bousou Digimon Tokkyuu",
          "GS Mikami: Gokuraku Daisakusen!!",
          "Andersen Douwa: Ningyohime",
          "Yes! Precure 5 Movie: Kagami no Kuni no Miracle Daibouken!",
          "Ganbare! Kickers",
          "La Seine no Hoshi",
          "Loveless Specials",
          "Ninja Senshi Tobikage",
          "Dallos",
          "Yamato yo Towa ni",
          "Uchuu Senkan Yamato: Kanketsu-hen",
          "Minerva no Kenshi",
          "Bishoujo Senshi Sailor Moon SuperS Specials",
          "Aoki Ryuusei SPT Layzner",
          "Tokyo Marble Chocolate",
          "The Sky Crawlers",
          "xxxHOLiC◆Kei",
          "Junjou Romantica",
          "Sono Kinisasete yo: My My Mai",
          "Shutsugeki! Machine Robo Rescue",
          "Juusenshi Gulkeeva",
          "Kamen Rider SD Kaiki?! Kumo Otoko",
          "Nasu: Suitcase no Wataridori",
          "Chiisana Kyojin Microman",
          "Toki no Tabibito: Time Stranger",
          "Bobby ni Kubittake",
          "Megumi no Daigo: Kajiba no Baka Yarou",
          "Down Load: Namu Amida Butsu wa Ai no Uta",
          "Kingyo Chuuihou! (Movie)",
          "The Kabocha Wine",
          "Sekai Meisaku Douwa: Hakuchou no Mizuumi",
          "Ganbare Genki",
          "Kosuke-sama Rikimaru-sama: Konpeitou no Ryuu",
          "Shakugan no Shana-tan Movie",
          "Kindaichi Shounen no Jikenbo Specials",
          "Hatara Kids Mai Ham Gumi",
          "Lily C.A.T.",
          "Ai Yori Aoshi: Enishi - Miyuki",
          "Mai-Otome 0: S.ifr",
          "IGPX: Immortal Grand Prix (2005)",
          "Kinnikuman",
          "Kinnikuman (Movie)",
          "Kinnikuman: Ooabare! Seigi Choujin",
          "Kinnikuman: Seigi Choujin vs. Kodai Choujin",
          "Kinnikuman: Gyakushuu! Uchuu Kakure Choujin",
          "Kinnikuman: Haresugata! Seigi Choujin",
          "Kinnikuman: New York Kiki Ippatsu!",
          "Kinnikuman: Seigi Choujin vs. Senshi Choujin",
          "Kinnikuman: Kessen! Shichinin no Choujin tai Uchuu Nobushi",
          "Kinnikuman: Kinnikusei Oui Soudatsu-hen",
          "Himitsu no Akko-chan",
          "Gundam Evolve",
          "Vampiyan Kids",
          "Potemayo Specials",
          "Hatenkou Yuugi",
          "Muteki Koujin Daitarn 3",
          "Dr. Slump",
          "Kikou Keisatsu Metal Jack",
          "Harbor Light Monogatari: Fashion Lala yori",
          "Yuusha Exkaiser",
          "Giant Gorg",
          "Stop!! Hibari-kun!",
          "Mahoutsukai Sally",
          "Amatsuki",
          "Oshare Majo Love and Berry: Shiawase no Mahou",
          "RD Sennou Chousashitsu",
          "Shoubushi Densetsu Tetsuya",
          "Majokko Megu-chan",
          "Maicching Machiko-sensei",
          "Kimagure Orange☆Road: Shounen Jump Special",
          "iDOLM@STER Xenoglossia Specials",
          "Sky Girls Specials",
          "Shigofumi",
          "Kodomo no Omocha",
          "Blame! Prologue",
          "Chou Mashin Eiyuuden Wataru",
          "Go-Q-Choji Ikkiman",
          "Mister Ajikko",
          "The☆Ultraman",
          "Koukaku Kidoutai: Stand Alone Complex - Solid State Society - Uchikoma na Hibi",
          "Vampire Knight",
          "Pi Po Pa Po Patrol-kun",
          "Gensou Jotan Ellcia",
          "Maria-sama ga Miteru Specials",
          "Maria-sama ga Miteru: Haru Specials",
          "Grendizer: Getter Robo G - Great Mazinger Kessen! Daikaijuu",
          "Madonna",
          "Maison Ikkoku: Shiki Utsuriyuku Kisetsu no Naka de",
          "Maison Ikkoku: Prelude - Meguru Haru no Sakura no You ni...",
          "Koukaku Kidoutai: Stand Alone Complex 2nd GIG - Tachikoma na Hibi",
          "Yuusha Tokkyuu Might Gaine",
          "DinoZone",
          "Yuusha Shirei Dagwon",
          "Noramimi",
          "Saint Seiya: Meiou Hades Elysion-hen",
          "Allison to Lillia",
          "Midori no Makibao",
          "Ganbarist! Shun",
          "Kodai Ouja Kyouryuu King",
          "Getter Robo",
          "Fantasia",
          "Shin Kujakuou",
          "Sengoku Kitan Youtouden",
          "Ginga Tetsudou 999: Eternal Fantasy",
          "Princess Army: Wedding★Combat",
          "Kikou Kantai Dairugger XV",
          "Toshokan Sensou",
          "Kamen no Maid Guy",
          "Blue Seed Omake",
          "Shin Kidou Senki Gundam Wing: Operation Meteor",
          "Miracle Shoujo Limit-chan",
          "Higurashi no Naku Koro ni Rei",
          "Nabari no Ou",
          "Mahou no Idol Pastel Yumi",
          "Telepathy Shoujo Ran",
          "Tottemo! Luckyman",
          "Andromeda Stories",
          "Yes! Precure 5 GoGo!",
          "Kaiba",
          "Hakaba Kitarou",
          "Zero no Tsukaima: Princesses no Rondo",
          "Jigoku Shoujo Mitsuganae",
          "Itazura na Kiss",
          "Ryuuseiki Gakusaver",
          "Maria-sama ga Miteru 4th",
          "Sekai Meisaku Douwa: Mori wa Ikiteiru",
          "Nagagutsu wo Haita Neko: 80 Nichikan Sekai Isshuu",
          "Tongari Boushi no Memole",
          "Sekai Meisaku Douwa: Oyayubi Hime",
          "Sekai Meisaku Douwa: Aladdin to Mahou no Lamp",
          "Panda no Daibouken",
          "Yuukan Club",
          "The Supergal",
          "Air Gear Special",
          "Arrow Emblem Grand Prix no Taka",
          "Yami no Teio: Kyuuketsuki Dracula",
          "Gekkou no Pierce: Yumemi to Gin no Bara no Kishidan",
          "Anne no Nikki",
          "Mashin Eiyuuden Wataru",
          "Himitsu no Akko-chan 2",
          "Himitsu no Akko-chan 3",
          "Chi's Sweet Home",
          "Doubutsu Takarajima",
          "Ali Baba to 40-hiki no Touzoku",
          "Apache Yakyuugun",
          "Mahoutsukai Chappy",
          "Microid S",
          "Sekai Meisaku Douwa: Hakuchou no Ouji",
          "One Piece Movie 09: Episode of Chopper Plus - Fuyu ni Saku, Kiseki no Sakura",
          "Top Secret: The Revelation",
          "Sweet Valerian Specials",
          "Kick no Oni",
          "Mahoutsukai Sally 2",
          "Maeterlinck no Aoi Tori: Tyltyl Mytyl no Bouken Ryokou",
          "Mahou Shoujo Lalabel",
          "Majokko Tickle",
          "Junk Boy",
          "Mazinger Z tai Devilman",
          "Wanpaku Ouji no Orochi Taiji",
          "H. P. Lovecraft's The Dunwich Horror and Other Stories",
          "Bikkuriman",
          "Kidou Senshi Gundam 00 Second Season",
          "Magnerobo Ga-Keen",
          "Takoyaki Mant-Man",
          "Blue Seed 1.5",
          "Shakugan no Shana-tan II (Second)",
          "Turn A Gundam I Movie: Earth Light",
          "Turn A Gundam II Movie: Moonlight Butterfly",
          "Nodame Cantabile: Nodame to Chiaki no Umi Monogatari",
          "Kagaku Kyuujo-tai TechnoVoyager",
          "To Heart Omake",
          "Suna no Bara: Yuki no Mokushiroku",
          "Pokemon Movie 11: Giratina to Sora no Hanataba Sheimi",
          "Slayers Revolution",
          "Sakigake!! Otokojuku Movie",
          "Cowboy Bebop: Yose Atsume Blues",
          "Kouchuu Ouja Mushiking: Mori no Tami no Densetsu",
          "Masuda Kousuke Gekijou Gag Manga Biyori 3",
          "Arano no Sakebi Koe: Hoero, Buck",
          "Super Robot Taisen OG: Divine Wars - Sorezore no Michi",
          "Kyou kara Maou! 3rd Series",
          "Kaibutsu Oujo: Konsui Oujo",
          "Oval x Over",
          "Trigun: Badlands Rumble",
          "Mahou no Mako-chan",
          "Juushin Liger",
          "Futari wa Precure: Splash☆Star Movie - Tick Tack Kiki Ippatsu!",
          "Mahou no Tenshi Creamy Mami: Lovely Serenade",
          "Mahou no Tenshi Creamy Mami: Curtain Call",
          "Wakakusa no Yon Shimai",
          "Naruto: Shippuuden - Shippuu! \"Konoha Gakuen\" Den",
          "Chiisana Penguin Lolo no Bouken",
          "One Piece Film: Strong World",
          "Kojin Jugyou",
          "Taiho Shichau zo: Nagisa no Koutsuu Yuudou",
          "Shigofumi Picture Drama",
          "Uchuu Taitei God Sigma",
          "Hayate no Gotoku!!",
          "Blue Dragon: Tenkai no Shichi Ryuu",
          "Koutetsu Jeeg",
          "Entaku no Kishi Monogatari: Moero Arthur",
          "Mokke Specials",
          "KimiKiss Pure Rouge: Love Fighter",
          "Mission-E",
          "Toradora!",
          "Kidou Senshi Gundam MS IGLOO 2: Juuryoku Sensen",
          "Ginga Senpuu Braiger",
          "Kore ga UFO da! Soratobu Enban",
          "Ultraviolet: Code 044",
          "Lupin III: Green vs. Red",
          "Great Mazinger tai Getter Robo",
          "Great Mazinger tai Getter Robo G: Kuuchuu Daigekitotsu",
          "UFO Robo Grendizer tai Great Mazinger",
          "Mazinger Z tai Ankoku Daishougun",
          "Mirai Robo Daltanias",
          "World Destruction: Sekai Bokumetsu no Rokunin",
          "Yuusha-Ou GaoGaiGar Final Grand Glorious Gathering",
          "Vampiyan Kids: Pilot",
          "Tatakae!! Ramenman",
          "Naruto: Shippuuden Movie 2 - Kizuna",
          "Detective Conan Movie 12: Full Score of Fear",
          "Tanin no Kankei",
          "Universe",
          "Shin SOS Dai Tokyo Tankentai",
          "Gensoumaden Saiyuuki: Kibou no Zaika",
          "Nodame Cantabile: Paris-hen",
          "Saiyuuki",
          "Getter Robo G",
          "Hakujaden",
          "Bounty Hunter: The Hard",
          "Taiyou no Yuusha Fighbird",
          "Muteki Robo Trider G7",
          "Gundam: Mission to the Rise",
          "RoboDz",
          "Dokkiri Doctor",
          "Saikyou Robot Daiouja",
          "Yoiko",
          "Code Geass: Hangyaku no Lelouch Special Edition - Black Rebellion",
          "Yuuwaku Countdown: Akira",
          "Moero Arthur: Hakuba no Ouji",
          "RideBack",
          "Gosenzo-sama Banbanzai!",
          "Maroko",
          "Seihou Bukyou Outlaw Star Pilot",
          "Yume no Crayon Oukoku",
          "Toaru Majutsu no Index",
          "Koukaku Kidoutai 2.0",
          "Bocchan",
          "Scarecrowman",
          "Minna Agechau♡",
          "Cyborg 009 (1979)",
          "Yes! Precure 5 GoGo! Movie: Okashi no Kuni no Happy Birthday",
          "Aesop's World",
          "Digimon Savers: Agumon! Gaomon! Lalamon! Bakuretsu! Jougai Last Battle!",
          "Shigofumi: Sore kara",
          "Papa to Odorou",
          "Vampire Knight Guilty",
          "Hello Harinezumi: Satsui no Ryoubun",
          "Pokemon: Pikachu Tankentai",
          "Pokemon: Pichu to Pikachu",
          "Pokemon: Pikachu no Dokidoki Kakurenbo",
          "Pokemon: Pika Pika Hoshizora Camp",
          "Mashin Eiyuuden Wataru 2",
          "Junjou Romantica 2",
          "Be-yond",
          "Bleach Movie 3: Fade to Black - Kimi no Na wo Yobu",
          "Lupin III: Seven Days Rhapsody",
          "Pokemon: Pikachu no Fuyuyasumi",
          "Mouryou no Hako",
          "Tales of the Abyss",
          "InuYasha: Kuroi Tessaiga",
          "Peut-etre Toi",
          "Umineko no Naku Koro ni",
          "Black Lagoon: Roberta's Blood Trail",
          "Daikyouryuu Jidai",
          "Pokemon: Pikachu no Wanpaku Island",
          "xxxHOLiC Shunmuki",
          "Akai Hayate",
          "Next Senki Ehrgeiz",
          "Ikkyuu-san",
          "Tsubasa: Shunraiki",
          "Shounen Sarutobi Sasuke",
          "Mushrambo (2008)",
          "Rokumon Tengai Mon Colle Knights",
          "ChäoS;HEAd",
          "Hells",
          "Wakakusa Monogatari",
          "Bari Bari Densetsu",
          "Nagagutsu Sanjuushi",
          "Juugo Shounen Hyouryuuki",
          "Lupin III: Sweet Lost Night - Mahou no Lamp wa Akumu no Yokan",
          "Stitch!",
          "Kurozuka",
          "One Outs",
          "Kamen no Maid Guy: Ano Natsu, Ichiban Yutaka na Chichi.",
          "Hetalia Axis Powers",
          "Croket!",
          "Yuusha Keisatsu J-Decker",
          "Kurokami The Animation",
          "Battle Spirits: Shounen Toppa Bashin",
          "Mai Mai Shinko to Sennen no Mahou",
          "Andersen Monogatari",
          "Taishou Yakyuu Musume.",
          "Hatsukoi Limited.",
          "Dragon Ball: Ossu! Kaettekita Son Gokuu to Nakama-tachi!!",
          "Kikou Kai Galient",
          "Alexander Senki Movie",
          "Code Geass: Hangyaku no Lelouch R2 Picture Drama",
          "Asience: Kami wa Onna no Inochi",
          "Negibouzu no Asatarou",
          "Shin Maple Town Monogatari: Palm Town-hen",
          "Souten Kouro",
          "Inazuma Eleven",
          "Slayers Evolution-R",
          "Live On Cardliver Kakeru",
          "Adesugata Mahou no Sannin Musume",
          "God Mazinger",
          "Angel Densetsu",
          "One Piece: Romance Dawn Story",
          "Pokemon Fushigi no Dungeon: Toki no Tankentai, Yami no Tankentai",
          "Hajime no Ippo: New Challenger",
          "All That Gundam",
          "Magical★Taruruuto-kun",
          "Keroro Gunsou Movie 3: Tenkuu Daikessen de Arimasu!",
          "Hokuto no Ken Zero: Kenshirou Den",
          "Getter Robo Go",
          "Jigoku Sensei Nube: Kyoufu no Natsuyasumi!! Ayashi no Umi no Densetsu!",
          "Xabungle Graffiti",
          "Sora wo Kakeru Shoujo",
          "Astroganger",
          "Toshokan Sensou: Koi no Shougai",
          "Bakugan Battle Brawlers: New Vestroia",
          "Monkey Punch: Manga Katsudou Daishashin",
          "Detective Conan Magic File 2: Kudou Shinichi - The Case of the Mysterious Wall and the Black Lab",
          "Kidou Senshi Gundam 00: Tenshi-tachi no Kiseki",
          "Sengoku Basara",
          "Seisenshi Dunbine OVA",
          "Miyamoto Musashi: Souken ni Haseru Yume",
          "Nekketsu Saikyou Go-Saurer",
          "Yuusha Shirei Dagwon: Suishou no Hitomi no Shounen",
          "La Rose de Versailles",
          "Ougon Yuusha Goldran",
          "A-Girl",
          "Chibi Kero: Kerobouru no Himitsu!?",
          "Tsuri Baka Nisshi",
          "Ranma ½: Akumu! Shunmin Kou",
          "Wakusei Robo Danguard Ace: Uchuu Daikaisen",
          "Hayate no Gotoku!!: Atsu ga Natsuize - Mizugi-hen!",
          "07-Ghost",
          "Pokemon: Pikachu no Natsuyasumi",
          "Pokemon: Odoru Pokemon Himitsu Kichi",
          "Tegamibachi: Hikari to Ao no Gensou Yawa",
          "Eguchi Hisashi no Nantoka Narudesho!",
          "Gosho Aoyama's Collection of Short Stories",
          "Uchuu Enban Dai-Sensou",
          "Higashi no Eden",
          "PuriGorota: Uchuu no Yuujou Daibouken",
          "Great Mazinger",
          "Apfelland Monogatari",
          "Kobato.",
          "Summer Wars",
          "Fresh Precure!",
          "Gegege no Kitarou (1968)",
          "Eien no Filena",
          "Nodame Cantabile: Finale",
          "Rekka no Honoo: Final Burning",
          "Keroro Gunsou Movie 4: Gekishin Dragon Warriors de Arimasu!",
          "Kidou Senshi Gundam: Uchuu Seiki Yowa",
          "Kodai Ouja Kyouryuu King: Yokuryuu Densetsu",
          "Precure All Stars Movie DX: Minna Tomodachi☆Kiseki no Zenin Daishuugou!",
          "Aoki Ryuusei SPT Layzner OVA",
          "Zero no Tsukaima: Princesses no Rondo - Yuuwaku no Sunahama",
          "G-9",
          "Fantascope: Tylostoma",
          "Kupu~!! Mamegoma!",
          "Tori no Uta",
          "Kishin Douji Zenki Gaiden: Anki Kitan",
          "Tiger Mask Nisei",
          "Kyojin no Hoshi",
          "Hanasakeru Seishounen",
          "Yume wo Kanaeru Zou",
          "Pokemon: Pikachu no Obake Carnival",
          "Pokemon: Pikachu no Natsumatsuri",
          "Cinnamon the Movie",
          "Nanaka 6/17 Special",
          "Abunai Sisters: Koko & Mika",
          "Examurai Sengoku",
          "Kousoku Denjin Albegus",
          "Tistou Midori no Oyayubi",
          "Jean Valjean Monogatari",
          "B.B. Fish",
          "Seitokai no Ichizon",
          "Deimos no Hanayome: Ran no Kumikyoku",
          "Xanadu Dragonslayer Densetsu",
          "Tenjouhen: Utsunomiko",
          "Utsunomiko: Heaven Chapter",
          "Neko Hiki no Oruorane",
          "Antique Heart",
          "Shiroi Kiba White Fang Monogatari",
          "Animation Kikou: Marco Polo no Bouken",
          "Toaru Majutsu no Index-tan",
          "Kinnikuman II Sei: Ultimate Muscle",
          "Kinnikuman II Sei: Ultimate Muscle 2",
          "Tengai Makyou: Ziria Oboro-hen",
          "Tennis no Ouji-sama: Oshougatsu Special",
          "Sabu to Ichi Torimono Hikae",
          "Chi's Sweet Home: Atarashii Ouchi",
          "Dr. Slump Movie 04: Arale-chan Hoyoyo! Nanaba Shiro no Hihou",
          "Needless",
          "Osu!! Karate-bu",
          "Dragon Ball Kai",
          "Transformers Zone",
          "Kimi ni Todoke",
          "Tales of Vesperia: The First Strike",
          "F",
          "Higurashi no Naku Koro ni Kai Specials",
          "Moeru! Oniisan",
          "Sensei no Ojikan: Dokidoki School Hours OVA",
          "Jetter Mars",
          "Anmitsu Hime",
          "Azuki-chan the Movie",
          "Bad Boys",
          "Aruhi no Clamp Gakuen Tanteidan",
          "Rainbow: Nisha Rokubou no Shichinin",
          "Lupin III vs. Detective Conan",
          "Cookin' Idol Ai! Mai! Main!",
          "Toradora!: SOS! Kuishinbou Banbanzai",
          "Marie & Gali",
          "Tsuki no Waltz",
          "Saint Seiya Recap",
          "Saint Seiya: Meiou Hades Juuni Kyuu-hen - Yomigaerishi Gold Saint-tachi no Shinwa",
          "Aoi Hana",
          "Saint Seiya: The Lost Canvas - Meiou Shinwa",
          "Pokemon Movie 12: Arceus Choukoku no Jikuu e",
          "Highway Jenny",
          "Maihime",
          "You Shoumei Bijutsukan Line",
          "Nodame Cantabile OVA",
          "Detective Conan OVA 08: High School Girl Detective Sonoko Suzuki's Case Files",
          "Toaru Kagaku no Railgun",
          "Dr.",
          "Nijiiro Hotaru: Eien no Natsuyasumi",
          "Utawarerumono Recaps",
          "Konpeki no Kantai",
          "Kyokujitsu no Kantai",
          "Detective Conan Magic File 3: Shinichi and Ran - Memories of Mahjong Tiles and Tanabata",
          "Manga Sekai Mukashibanashi",
          "Joseito",
          "Eko Eko Azarak",
          "Sekishoku Elegy",
          "Gendai Kibunroku Kaii Monogatari",
          "Zakuro Yashiki",
          "Tsuyu no Hito Shizuku",
          "Pokemon Fushigi no Dungeon: Sora no Tankentai - Toki to Yami wo Meguru Saigo no Bouken",
          "Kidou Senshi Gundam 00 Movie: A Wakening of the Trailblazer",
          "Maria-sama ga Miteru 4th Specials",
          "Kinnikuman II Sei: Second Generations",
          "Sarutobi Ecchan",
          "Taiho Shichau zo: Full Throttle - Watashitachi no Iru Basho",
          "Naruto: Shippuuden Movie 3 - Hi no Ishi wo Tsugu Mono",
          "Shakugan no Shana: Friagne & Marianne no Naze Nani Shana! Nandemo Shitsumonbako!",
          "Kidou Senshi Gundam Unicorn",
          "Marie & Gali Episode Zero",
          "Higashi no Eden Movie I: The King of Eden",
          "Pokemon: Yadoking no Ichinichi",
          "Higashi no Eden: Falling Down",
          "\"Bungaku Shoujo\" Movie",
          "Go! Go! Ackman",
          "Sora wo Kakeru Shoujo Picture Drama",
          "Detective Conan OVA 09: The Stranger in 10 Years...",
          "Zero no Tsukaima: Princesses no Rondo Picture Drama",
          "Cutey Honey Flash: The Movie",
          "Eiga! Tamagotchi Uchuu Ichi Happy na Monogatari!?",
          "Eiga de Toujou! Tamagotchi Dokidoki! Uchuu no Maigotchi!?",
          "Fresh Precure! Movie: Omocha no Kuni wa Himitsu ga Ippai!?",
          "Junjou Romantica Special",
          "Pokemon: Pikachu no Kirakira Daisousaku!",
          "Fortune Quest: Yo ni mo Shiawase na Boukensha-tachi",
          "It's a Rumic World: 50th Anniversary Weekly★Shonen Sunday",
          "Urusei Yatsura: The Shougaibutsu Suieitaikai",
          "Shakugan no Shana S",
          "Sengoku Basara: Setonai no Gekitotsu! Hi wo Fuku Umi no Daiyousai - Fugaku!!",
          "Super Bikkuriman",
          "Kurokami: Intermission",
          "Rurouni Kenshin DVD-BOX Special Ending",
          "Ibara no Ou",
          "Nono-chan",
          "Asari-chan",
          "Asari-chan: Ai no Marchen Shoujo",
          "Sengoku Basara Ni",
          "Higashi no Eden Movie II: Paradise Lost",
          "Ginga Tetsudou 999: Glass no Clair",
          "Video Senshi Lezarion",
          "Reporter Blues",
          "Redline",
          "Marie & Gali Special",
          "Ai Yori Aoshi: Yumegatari",
          "Dragon Ball Z: Atsumare! Gokuu World",
          "Hanasakeru Seishounen Recaps",
          "Ginga Tetsudou 999: Kimi wa Senshi no You ni Ikirareru ka?",
          "Ginga Tetsudou 999: Eien no Tabibito Emeraldas",
          "Ginga Tetsudou 999: Kimi wa Haha no You ni Aiseru ka!!",
          "Mouryou no Hako: Chuuzenji Atsuko no Jikenbo - Hako no Yurei no Koto",
          "Code Geass: Hangyaku no Lelouch R2 Special Edition - Zero Requiem",
          "Shakugan no Shana III (Final)",
          "Kuuchuu Buranko",
          "Kidou Senshi SD Gundam Mk-V",
          "Kurokami: Tora to Tsubasa",
          "Saa Ikou! Tamagotchi",
          "Transformers: Scramble City",
          "InuYasha: Kanketsu-hen",
          "Da Nao Tiangong",
          "xxxHOLiC Rou",
          "Cyborg 009",
          "Iron Man",
          "Pokemon: Bokutachi Pichu Brothers - Party wa Oosawagi! no Maki",
          "Hatsukoi Limited.: Gentei Shoujo",
          "Hakuouki",
          "Stitch! Itazura Alien no Daibouken",
          "Battle Spirits: Shounen Gekiha Dan",
          "Wolverine",
          "X-Men",
          "Blade",
          "Fate/stay night Movie: Unlimited Blade Works",
          "Higashi no Eden: Air Communication",
          "Gintama: Shiroyasha Koutan",
          "Yuu☆Yuu☆Hakusho Picture Drama",
          "Kaiketsu Zorori: Mahoutsukai no Deshi/Dai Kaizoku no Takara Sagashi",
          "Choujin Sentai Baratack",
          "Gegege no Kitarou (1971)",
          "Kyoufu Densetsu Kaiki! Frankenstein",
          "Kaidan Restaurant",
          "Super Zugan",
          "Koneko no Rakugaki",
          "Koneko no Studio",
          "Shin Calimero",
          "Tezuka Osamu no Buddha: Akai Sabaku yo! Utsukushiku",
          "Crush Gear Nitro",
          "Kaichou wa Maid-sama!",
          "Uragiri wa Boku no Namae wo Shitteiru",
          "Ring of Gundam",
          "Danball Senki",
          "Shoujo Fight: Norainu-tachi no Odekake",
          "30th Gundam Perfect Mission",
          "Arei no Kagami: Way to the Virgin Space",
          "Dr. Slump Movie 07: Arale-chan N-cha! Penguin Mura yori Ai wo Komete",
          "Dr. Slump Movie 09: Arale-chan N-cha!! Wakuwaku Hot no Natsuyasumi",
          "Usaru-san",
          "Aoi Bungaku Series",
          "Rose O'Neill Kewpie",
          "Sekai Meisaku Douwa: Wow! Maerchen Oukoku",
          "Kidou Senshi Gundam 00 Special Edition",
          "Ginga Tetsudou 999: Diamond Ring no Kanata e",
          "Cyborg 009: Kaijuu Sensou",
          "Detective Conan: Black History",
          "Detective Conan Movie 08: Time Travel of the Silver Sky",
          "Detective Conan Movie 10: Promo Special",
          "Gegege no Kitarou (1985)",
          "Yona Yona Penguin",
          "Needless+: Saint Lily Gakuen no Himitsu",
          "Tottoko Hamtarou Movie 1: Ham-Ham Land Daibouken",
          "Tottoko Hamtarou Movie 2: Ham-Ham Hamuuja! Maboroshi no Princess",
          "Bakugan Battle Brawlers: Gundalian Invaders",
          "Cyborg 009: Chou Ginga Densetsu",
          "Hetalia Axis Powers Movie: Paint it, White",
          "Hokuto no Ken: Legend of Heroes",
          "Dragon Quest: Dai no Daibouken Buchiyabure!! Shinsei 6 Daishougun",
          "Boku no Chikyuu wo Mamotte: Alice kara, Rin-kun e",
          "Naruto: The Cross Roads",
          "Shakugan no Shana-tan S",
          "Konjiki no Gash Bell!!: Ougon no Chichi wo Motsu Otoko",
          "Dragon Quest: Dai no Daibouken",
          "Dragon Quest: Dai no Daibouken Tachiagare!! Aban no Shito",
          "Detective Conan Movie 09: Promo Special",
          "Gintama Movie 1: Shinyaku Benizakura-hen",
          "Karate Baka Ichidai",
          "Pokemon: Pikachu Tanken Club",
          "Fate/stay night TV Reproduction",
          "Umineko no Naku Koro ni Specials",
          "Idol Ace",
          "Gokinjo Monogatari the Movie",
          "Nurarihyon no Mago",
          "Mashin Eiyuuden Wataru: Owarinaki Toki no Monogatari",
          "Anju to Zushioumaru",
          "Gegege no Kitarou (1996)",
          "Shounen Santa no Daibouken!",
          "Heartcatch Precure!",
          "Ningen Shikkaku: Director's Cut-ban",
          "Giant Killing",
          "Nils no Fushigi na Tabi (Movie)",
          "Dr. Slump Movie 01: Arale-chan Hello! Fushigi Shima",
          "Dr. Slump Movie 03: Arale-chan Hoyoyo! Sekai Isshuu Dai Race",
          "\"Bungaku Shoujo\" Kyou no Oyatsu: Hatsukoi",
          "Bakuman.",
          "Pokemon Movie 13: Genei no Hasha Zoroark",
          "Sangokushi: Dai Ichi Bu - Eiyuu-tachi no Yoake",
          "Sangokushi: Dai Ni Bu - Choukou Moyu!",
          "Sangokushi: Dai San Bu - Harukanaru Taichi",
          "Starry☆Sky",
          "Hipira-kun",
          "Masuda Kousuke Gekijou Gag Manga Biyori +",
          "Yondemasu yo, Azazel-san.",
          "Tantei Opera Milky Holmes",
          "Ookami-san to Shichinin no Nakama-tachi",
          "Yojouhan Shinwa Taikei",
          "Arabian Night: Sindbad no Bouken",
          "Ring ni Kakero 1: Kage Dou-hen",
          "Mahou Shoujo Lalabel: Umi ga Yobu Natsuyasumi",
          "Dr. Slump Movie 06: Arale-chan N-cha! Penguin Mura wa Hare Nochi Hare",
          "Yousei Ou",
          "Mini Sengoku Basara: Chousokabe-kun to Mouri-kun",
          "Kemono no Souja Erin Recaps",
          "Hiroshima ni Ichiban Densha ga Hashitta",
          "Chi's Sweet Home: Chi to Kocchi, Deau.",
          "Soukou Kihei Votoms: Genei-hen",
          "Toaru Kagaku no Railgun: Motto Marutto Railgun",
          "Nodame Cantabile: Finale - Mine to Kiyora no Saikai",
          "Taishou Yakyuu Musume. Specials",
          "Mai-HiME: Kuro no Mai/Saigo no Bansan",
          "Sekaiichi Hatsukoi OVA",
          "Karakuri Kengou Den Musashi Lord",
          "Highschool of the Dead",
          "Tamala 2010: A Punk Cat in Space OVA",
          "Lupin III: The Last Job",
          "Tottoko Hamtarou Movie 3: Ham Ham Grand Prix Aurora Tani no Kiseki - Ribon-chan Kiki Ippatsu!",
          "Tottoko Hamtarou Movie 4: Hamtaro to Fushigi no Oni no Emon Tou",
          "Chou Deneiban SD Gundam Sangokuden Brave Battle Warriors",
          "Precure All Stars Movie DX2: Kibou no Hikari☆Rainbow Jewel wo Mamore!",
          "Keroro Gunsou Movie 5: Tanjou! Kyuukyoku Keroro, Kiseki no Jikuu-jima, de Arimasu!!",
          "Gegege no Kitarou: Nippon Bakuretsu",
          "Gegege no Kitarou: Daikaijuu",
          "Gegege no Kitarou: Chisougan",
          "Gegege no Kitarou (1985 Movie)",
          "Gegege no Kitarou: Youkai Daisensou",
          "Gegege no Kitarou: Saikyou Youkai Gundan! Nippon Jouriku!!",
          "Gegege no Kitarou: Gekitotsu!! Ijigen Youkai no Daihanran",
          "Gegege no Kitarou: Obake Nighter",
          "Gegege no Kitarou: Youkai Tokkyuu! Maboroshi no Kisha",
          "Gegege no Kitarou: Jigoku-hen",
          "One Piece Recap",
          "Nodame Cantabile: Finale OVA",
          "Akuma-kun",
          "Guru Guru Town Hanamaru-kun",
          "Hime Chen! Otogi Chikku Idol Lilpri",
          "Jigoku Sensei Nube (Movie)",
          "Akuma-kun (Movie)",
          "Akuma-kun: Youkoso Akuma Land e!!",
          "Jigoku Sensei Nube: Gozen 0 Ji Nube Shisu!",
          "Genji",
          "Wanpaku Oomukashi Kum Kum",
          "Mizuki Shigeru no Toono Monogatari",
          "Naruto: Shippuuden Movie 4 - The Lost Tower",
          "Bleach Movie 4: Jigoku-hen",
          "Soukou Kihei Votoms: Case;Irvine",
          "Votoms Finder",
          "Soukou Kihei Votoms: Koei Futatabi",
          "SD Gundam Sangokuden Brave Battle Warriors",
          "Magic Kaito",
          "Shoka",
          "Ketsuinu",
          "Cyborg 009 (TV)",
          "Marie & Gali ver. 2.0",
          "Vampire Knight: Gekiai no Portrait",
          "Pokemon Ranger: Hikari no Kiseki",
          "Black Lagoon Omake",
          "Maze☆Bakunetsu Jikuu: Tenpen Kyoui no Giant",
          "Mahou no Star Magical Emi: Semishigure",
          "Donguri to Yamaneko",
          "Asura",
          "Otome Youkai Zakuro",
          "Doubutsu Kankyou Kaigi",
          "Hetalia World Series",
          "\"Bungaku Shoujo\" Memoire",
          "Onigamiden",
          "Digimon Adventure 3D: Digimon Grand Prix!",
          "Digimon Savers 3D: Digital World Kiki Ippatsu!",
          "Kikansha Yaemon",
          "Gegege no Kitarou: Kitarou no Yuurei Densha",
          "Kikansha Yaemon: D51 no Daibouken",
          "Fushigi Mahou Fun Fun Pharmacy",
          "Mai-Otome Special: Otome no Inori",
          "The Kabocha Wine: Nita no Aijou Monogatari",
          "Toilet no Hanako-san",
          "Dr. Slump Movie 02: \"Hoyoyo!\" Uchuu Daibouken",
          "Dr. Slump Movie 05: Arale-chan Hoyoyo! Yume no Miyako Mechapolis",
          "Dr. Slump Movie 08: Arale-chan Hoyoyo!! Tasuketa Same ni Tsurerarete...",
          "Dr. Slump Movie 10: Arale no Bikkuriman",
          "Dr. Slump Movie 11: Dr. Mashirito & Abale-chan",
          "Hashire Melos (1981)",
          "Kyou, Koi wo Hajimemasu",
          "Saint Elmo: Hikari no Raihousha",
          "Future War 198X-nen",
          "Detective Conan OVA 10: Kid in Trap Island",
          "Digimon Xros Wars",
          "Good Morning",
          "Chains & Rings",
          "Hidan no Aria",
          "Slime Boukenki: Umi da, Yeah!",
          "Wakusei Robo Danguard Ace tai Konchuu Robot Gundan",
          "Pokemon: Pikachu Koori no Daibouken",
          "Code Geass: Hangyaku no Lelouch - Kiseki no Birthday",
          "One Piece Film: Strong World Episode 0",
          "Tales of the Abyss Special Fan Disc",
          "Bishoujo Senshi Sailor Moon Memorial",
          "Hajime Ningen Gon",
          "Hiyokoi",
          "Nezha Nao Hai",
          "Alice SOS",
          "Gundam Neo Experience 0087: Green Divers",
          "Kore wa Zombie desu ka?",
          "Chouriki Robo Galatt",
          "Eiyuu Gaiden Mozaicka",
          "Kikou Heidan J-Phoenix: PF Lips Shoutai",
          "Code Geass: Boukoku no Akito 1 - Yokuryuu wa Maiorita",
          "Nippon-ichi no Otoko no Tamashii",
          "Nippon-ichi no Otoko no Tamashii 2",
          "Yume-iro Pâtissière: Mune Kyun Tropical Island!",
          "Natsufuku no Shoujo-tachi",
          "Inuki Kanako Zekkyou Collection: Gakkou ga Kowai!",
          "Toaru Majutsu no Index II",
          "Tottoko Hamtarou OVA 2: Hamuchanzu no Takara Sagashi Daisaku - Hamuha! Suteki na Umi no Natsuyasumi",
          "Nougyou Musume!",
          "Susume! Gachimuchi Sankyoudai",
          "Stitch!: Piko Kara no Chousenjou",
          "Tottoko Hamtarou OVA 3: Hamuchanzu to Niji no Kuni no Oujisama - Sekai de Ichiban no Takaramono",
          "Tottoko Hamtarou OVA 4: Hamuchanzu no Mezase! Hamuhamu Kin Medal - Hashire! Hashire! Daisakusen",
          "Hidari no O'Clock!!",
          "Mahou no Princess Minky Momo vs. Mahou no Tenshi Creamy Mami",
          "Yojouhan Shinwa Taikei Specials",
          "Supernatural The Animation",
          "Toaru Hikuushi e no Tsuioku",
          "Je T'aime",
          "Sore Ike! Anpanman: Black Nose to Mahou no Uta",
          "Edokko Boy: Gatten Tasuke",
          "Inazuma Eleven: Saikyou Gundan Ogre Shuurai",
          "Mokei Senshi Gunpla Builders Beginning G",
          "Toaru Kagaku no Railgun: Misaka-san wa Ima Chuumoku no Mato desu kara",
          "Toaru Kagaku no Railgun: Entenka no Satsuei Model mo Raku Ja Arimasen wa ne.",
          "Hakuouki: Hekketsuroku",
          "Rokudenashi Blues",
          "Rokudenashi Blues 1993",
          "Musha Knight Commando: SD Gundam Scramble",
          "Kidou Senshi SD Gundam Matsuri",
          "Pokemon Best Wishes!",
          "Saint Seiya: The Lost Canvas - Meiou Shinwa 2",
          "Kindaichi Shounen no Jikenbo Movie 2: Satsuriku no Deep Blue",
          "Kaitei Sanman Mile",
          "Tsuruhime Ja!",
          "Ruri-iro Princess",
          "Kanzen Shouri Daiteiou",
          "Wan Wan Chuushingura",
          "Hana no Ko Lunlun: Konnichiwa Sakura no Kuni",
          "Heartcatch Precure! Movie: Hana no Miyako de Fashion Show... desu ka!?",
          "Dragon Crisis!",
          "Yumekui Merry",
          "Koi☆Sento",
          "Battle Spirits: Brave",
          "Kaichou wa Maid-sama!: Omake da yo!",
          "Ginga Hyouryuu Vifam Recaps",
          "Ginga Hyouryuu Vifam: Kieta 12-nin",
          "Ginga Hyouryuu Vifam: Keito no Kioku - Namida no Dakkai Sakusen",
          "Ginga Hyouryuu Vifam 13",
          "Shounen Jack to Mahoutsukai",
          "Shin Mashin Eiyuuden Wataru Majinzan",
          "Shiawase no Katachi",
          "Renshenguo",
          "Pururun! Shizuku-chan",
          "Rainbow Sentai Robin",
          "Sore Ike! Anpanman: Niji no Pyramid",
          "Sore Ike! Anpanman: Ningyohime no Namida",
          "Katsugeki Shoujo Tanteidan",
          "Naniwa Yuukyouden",
          "Yami no Purple Eye",
          "Highschool of the Dead: Drifters of the Dead",
          "Zero Tester",
          "Zero Tester: Chikyuu wo Mamore!",
          "Wolf Guy",
          "Pururun! Shizuku-chan Aha",
          "Cardfight!! Vanguard",
          "Cyborg 009: The Reopening",
          "Mini Sengoku Basara Ni: Tsukiyo no Katakura-kun",
          "Be-Bop Highschool",
          "Kimi ni Todoke 2nd Season",
          "Moshidora",
          "Kidou Senshi Gundam ZZ: Gundam Frag.",
          "Hakuouki: Hekketsuroku - Kyoto Kaisouroku",
          "Nurarihyon no Mago Recaps",
          "Gintama: Shinyaku Benizakura-hen",
          "Sengoku Basara Movie: The Last Party",
          "Kaze wo Nuke!",
          "Future GPX Cyber Formula Graffiti",
          "Lady Lady!! (1988)",
          "Hyouga Senshi Gaislugger",
          "Norageki!",
          "Nezumi Monogatari: George to Gerald no Bouken",
          "Atashin'chi Movie",
          "Nyani ga Nyandaa Nyandaa Kamen",
          "Okubyou na Venus",
          "Emblem Take 2",
          "Hetalia Axis Powers Fan Disc",
          "Shougakusei no Yuukai Boushi: Yumi-chan Abunai yo!",
          "Osomatsu-kun (1988)",
          "Shin Bikkuriman",
          "Suite Precure♪",
          "Bokura no Live Kimi to no Life",
          "Sekaiichi Hatsukoi",
          "Snow Halation",
          "Tiger & Bunny",
          "Wo Wei Ge Kuang",
          "Detective Conan Movie 15: Quarter of Silence",
          "Soukou Kyojin Z-Knight",
          "Gintama'",
          "Document Taiyou no Kiba Dagram",
          "Kyouryuu Tankentai Born Free",
          "Precure All Stars Movie DX3: Mirai ni Todoke! Sekai wo Tsunagu☆Nijiiro no Hana",
          "Phi Brain: Kami no Puzzle",
          "One Piece 3D: Mugiwara Chase",
          "Dragon Ball: Super Saiya-jin Zetsumetsu Keikaku",
          "Bakuman. 2nd Season",
          "Toriko",
          "Boku no Chikyuu wo Mamotte: Kiniro no Toki Nagarete",
          "Nurarihyon no Mago: Sennen Makyou",
          "Sore Ike! Anpanman: Kyouryuu Nosshii no Daibouken",
          "Sore Ike! Anpanman: Tobe! Tobe! Chibigon",
          "Sore Ike! Anpanman: Yuurei Sen wo Yattsukero!!",
          "Sore Ike! Anpanman: Tsumikijou no Himitsu",
          "Sore Ike! Anpanman: Soratobu Ehon to Glass no Kutsu",
          "Sore Ike! Anpanman: Baikinman no Gyakushuu",
          "Toriko 3D: Kaimaku Gourmet Adventure!!",
          "Naruto x UT",
          "Sango no Umi to Ouji",
          "Koukaku Kidoutai: Stand Alone Complex - Solid State Society 3D",
          "Kobato.: Hajimete no Kobato.",
          "Loups=Garous #Overture",
          "Alexandros no Ketsudan",
          "Ginga Tetsudou 999: Jikuu wo Koeta Energy no Tabi",
          "Kimi ni Todoke: Kataomoi",
          "Sacred Seven",
          "Usagi Drop",
          "Otome Youkai Zakuro Picture Drama",
          "Hunter x Hunter Pilot",
          "Super Doll Licca-chan: Licca-chan Zettai Zetsumei! Doll Knights no Kiseki",
          "Bikkuriman: Moen Zone no Himitsu",
          "Bikkuriman: Daiichiji Seima Taisen",
          "Lily to Kaeru to (Otouto)",
          "Kore wa Zombie desu ka? OVA",
          "Yondemasu yo, Azazel-san. (TV)",
          "Kaitou Tenshi Twin Angel: Kyun Kyun☆Tokimeki Paradise!!",
          "Uchuu Majin Daikengou",
          "Toaru Majutsu no Index-tan II",
          "Sonic X Pilot",
          "Gyakkyou Burai Kaiji: Hakairoku-hen",
          "Kaichou wa Maid-sama!: Goshujinsama to Asonjao♥",
          "Pocket Monsters: Diamond & Pearl Specials",
          "Sengoku Otome: Momoiro Paradox",
          "Dallos Special",
          "Bakugan Battle Brawlers: Mechtanium Surge",
          "Konpeki no Kantai: Sourai Kaihatsu Monogatari",
          "Ring ni Kakero 1: Sekai Taikai-hen",
          "Hakuouki: Sekkaroku",
          "Kinniku Banzuke: Kongou-kun no Daibouken!",
          "Momo e no Tegami",
          "Xi Avant",
          "Digimon Xros Wars: Aku no Death General to Nanatsu no Oukoku",
          "Perfect Day",
          "Kyoukaisenjou no Horizon",
          "Kimi to Boku.",
          "Sengoku Basara Ni: Ryuko, Itadaki no Chikai! Atsuki Mirai e Kakeru Tamashii!!",
          "Blood-C",
          "Higurashi no Naku Koro ni Kira",
          "Hetalia World Series Specials",
          "Tansu Warashi.",
          "Inazuma Eleven Go",
          "Hoero! Bun Bun (Movie)",
          "Detective Conan Magic File 5: Niigata - Tokyo Omiyage Capriccio",
          "Kimi ni Todoke 2nd Season: Minitodo Gekijou",
          "Precure All Stars GoGo Dream Live!",
          "Machine Hayabusa",
          "Kamisama no Memochou",
          "Tennis no Ouji-sama: Another Story II - Ano Toki no Bokura",
          "Kidou Senshi Gundam 0083: Stardust Memory - Uchuu no Kagerou",
          "Naruto: Shippuuden Movie 5 - Blood Prison",
          "s.CRY.ed Alteration I: Tao",
          "Hidan no Aria: Butei ga Kitarite Onsen Kenshuu",
          "Rerere no Tensai Bakabon",
          "Tibet Inu Monogatari",
          "Gintama: Dai Hanseikai",
          "Naruto Soyokazeden Movie: Naruto to Mashin to Mitsu no Onegai Dattebayo!!",
          "Blood-C: The Last Dark",
          "Naruto: Honoo no Chuunin Shiken! Naruto vs. Konohamaru!!",
          "Saint Seiya: Legend of Sanctuary",
          "Downloader",
          "Ulysses 31 Pilot",
          "Detective Conan OVA 11: A Secret Order from London",
          "Konjiki no Gash Bell!!: Hashire Gash!! Ubawareta Umagon",
          "Planetes Picture Drama",
          "Precure kara Minna e no Ouen Movie",
          "Jingi",
          "Kikou Kai Galient OVA",
          "Lupin tai Holmes",
          "Hikaru no Go: Sabaki no Ikkyoku! Inishie no Hana yo Sake!!",
          "Detective Conan vs. Wooo",
          "Dead Heat",
          "Kore wa Zombie desu ka? of the Dead",
          "Guilty Crown",
          "Chime",
          "Chihayafuru",
          "Kidou Senshi Gundam AGE",
          "Suite Precure♪ Movie: Torimodose! Kokoro ga Tsunagu Kiseki no Melody♪",
          "Tennis no Ouji-sama: Pair Prince",
          "Koukaku Kidoutai: Stand Alone Complex - Tachikoma na Hibi (TV)",
          "Nurarihyon no Mago: Gekitou Dai Futsal Taikai! Nuragumi W Cup!!",
          "Kyousou Giga",
          "Pokemon: Pikachu no Fuyuyasumi (2000)",
          "Pokemon: Pikachu no Fuyuyasumi (2001)",
          "Tantei Opera Milky Holmes: Summer Special",
          "Kidou Senshi Gundam: The Origin",
          "Koukaku Kidoutai: Stand Alone Complex - The Laughing Man - Tachikoma na Hibi",
          "Koukaku Kidoutai: Stand Alone Complex 2nd GIG - Individual Eleven - Tachikoma na Hibi",
          "Koukaku Kidoutai: Stand Alone Complex - Tachikoma na Hibi - Interval",
          "Koukaku Kidoutai: Stand Alone Complex - Solid State Society 3D - Tachikoma na Hibi",
          "Toei Robot Girls",
          "Kagaku Bouken-tai Tansar 5",
          "48x61",
          "Inazuma Eleven Go: Kyuukyoku no Kizuna Gryphon",
          "Toshokan Sensou: Kakumei no Tsubasa",
          "Pokemon 3D Adventure 2: Pikachu no Kaitei Daibouken",
          "Battle Spirits: Heroes",
          "Pokemon 3D Adventure: Mew wo Sagase!",
          "Natsu-iro Egao de 1, 2, Jump!",
          "Shin Maple Town Monogatari: Palm Town-hen - Konnichiwa! Atarashii Machi",
          "Hunter x Hunter (2011)",
          "Pokemon: Pikachu no Fushigi na Fushigi na Daibouken",
          "Pokemon Introductory Recap",
          "Kill Me Baby",
          "Nurarihyon no Mago: Sennen Makyou Recaps",
          "Ziggy: Soreyuke! R&R Band",
          "Tiger & Bunny Pilot",
          "Usagi Drop Specials",
          "Sekaiichi Hatsukoi 2",
          "Hybrid Child",
          "Kuma no Puutarou",
          "Brave 10",
          "Maken Liner 0011 Henshin Seyo!",
          "Keroro Gunsou: Mushakero Ohirome Sengoku Ranstar Dai Battle",
          "Kero 0: Shuppatsu da yo! Zenin Shuugou!",
          "Zero no Tsukaima F",
          "Dragon Ball Kai: Mirai ni Heiwa wo! Goku no Tamashii yo Eien ni",
          "Digimon Xros Wars: Toki wo Kakeru Shounen Hunter-tachi",
          "Ano Natsu de Matteru",
          "Rurouni Kenshin: Meiji Kenkaku Romantan - Shin Kyoto-hen",
          "Redline Pilot",
          "Sekiranun Graffiti",
          "Sankarea",
          "Toradora!: Bentou no Gokui",
          "Precure All Stars DX the Dance Live♥: Miracle Dance Stage e Youkoso",
          "Sacred Seven: Shirogane no Tsubasa",
          "Pink Mizu Dorobou Ame Dorobou",
          "Hakuouki OVA",
          "Hal no Fue",
          "Kimi to Boku. 2",
          "Toaru Majutsu no Index Movie: Endymion no Kiseki",
          "Accel World",
          "Kuroko no Basket",
          "Zetman",
          "Danshi Koukousei no Nichijou",
          "Pokemon: Pikachu no Summer Bridge Story",
          "Moeru! Oniisan (OVA)",
          "One Piece 3D: Gekisou! Trap Coaster",
          "Tiger & Bunny Movie 1: The Beginning",
          "Tiger & Bunny Movie 2: The Rising",
          "Poyopoyo Kansatsu Nikki",
          "Kingdom",
          "Rurouni Kenshin Special",
          "Hajime no Ippo: Boxer no Kobushi",
          "Detective Conan Movie 16: The Eleventh Striker",
          "Natsu-iro Kiseki",
          "Kaze no Matasaburou",
          "Ginga Tetsudou 999: Hoshizora wa Time Machine",
          "Mameushi-kun",
          "Smile Precure!",
          "Precure All Stars Movie New Stage: Mirai no Tomodachi",
          "s.CRY.ed Alteration II: Quan",
          "Galaxy Angel S",
          "Dragon Ball: Episode of Bardock",
          "Kinnikuman II Sei: Muscle Ninjin Soudatsu sen! Choujin Daisensou",
          "Soukou Kihei Votoms Recaps",
          "Dirty Pair Flash 2",
          "Dirty Pair Flash 3",
          "Bakuman. 3rd Season",
          "Shining Hearts: Shiawase no Pan",
          "Mouretsu Atarou (1990)",
          "Touyama Sakura Uchuu Chou: Yatsu no Na wa Gold",
          "Guilty Crown: Kiseki - Reassortment",
          "Soukou Kihei Votoms Vol.I: Stories of the \"A.T.Votoms\"",
          "Soukou Kihei Votoms Vol.II: Highlights from the \"A.T.Votoms\"",
          "Yuu☆Yuu☆Hakusho: Mu Mu Hakusho - Nightmare Hakusho",
          "Hiiro no Kakera",
          "Kyoukaisenjou no Horizon II",
          "Himitsu no Akko-chan (Movie)",
          "Inazuma Eleven Go Specials",
          "Ojamajo Doremi OVA",
          "Mogyutto \"Love\" de Sekkinchuu!",
          "Danball Senki W",
          "Tongari Boushi no Memole: Marielle no Housekibako",
          "Patalliro! Stardust Keikaku",
          "Pokemon Movie 15: Kyurem vs. Seikenshi",
          "Joshiraku",
          "Code Geass: Hangyaku no Lelouch - Nunnally in Wonderland",
          "Tales of Gekijou",
          "Bari Bari Densetsu (1987)",
          "Phi Brain: Kami no Puzzle - Orpheus Order-hen",
          "Zokuzoku Mura no Obake-tachi",
          "Yankee Reppuu-tai",
          "Yajikita Gakuen Douchuuki",
          "Shirokuma Cafe",
          "Shakugan no Shana-tan III (Final): Final Destruction",
          "One Piece Film: Z",
          "Danshi Koukousei no Nichijou Specials",
          "Uchuu Patrol Hopper",
          "Ucchare Goshogawara",
          "Saint Seiya Omega",
          "Utakata Hanabi",
          "AWOL",
          "Arcana Famiglia",
          "Himitsu no Akko-chan: Umi da! Obake da!! Natsu Matsuri",
          "Naruto SD: Rock Lee no Seishun Full-Power Ninden",
          "Kono Shihai kara no Sotsugyou: Ozaki Yutaka",
          "Battle Break",
          "Anime Koukyoushi: Jungle Taitei",
          "Sankarea OVA",
          "Tennis no Ouji-sama: Another Story II - Ano Toki no Bokura Specials",
          "Hakuouki: Reimeiroku",
          "Hakuouki Movie 1: Kyoto Ranbu",
          "Hakuouki Movie 2: Shikon Soukyuu",
          "Cardfight!! Vanguard: Asia Circuit-hen",
          "Wasurenagumo",
          "Monster Farm: Legend e no Michi",
          "Lupin the Third: Mine Fujiko to Iu Onna",
          "Mugen no Ryvius: Illusion",
          "Mass Effect: Paragon Lost",
          "Lupin VIII",
          "Inazuma Eleven Go: Chrono Stone",
          "Hunter x Hunter Movie 1: Phantom Rouge",
          "Galaxy Angel Specials",
          "Shounen Ninja Kaze no Fujimaru",
          "Fuse: Teppou Musume no Torimonochou",
          "Guilty Crown: Lost Christmas - An Episode of Port Town",
          "Shippuu! Iron Leaguer: Silver no Hata no Moto ni",
          "Tokyo Disney Resort: Yume ga Kanau Basho",
          "Binbougami ga!",
          "Guilty Crown: 4-koma Gekijou",
          "Robotics;Notes",
          "Psycho-Pass",
          "Hi no Youjin",
          "Little Busters!",
          "Naruto: Shippuuden Movie 6 - Road to Ninja",
          "Sakura-sou no Pet na Kanojo",
          "Junjou Romantica OVA",
          "Kamen no Ninja Akakage",
          "Dokkiri Doctor Special",
          "Little Nemo Pilot (1984)",
          "Pokemon: Meloetta no Kirakira Recital",
          "Detective Conan OVA 12: The Miracle of Excalibur",
          "Accel World: Acchel World.",
          "Sacred Seven: Shirogane no Tsubasa Picture Drama",
          "Bishoujo Senshi Sailor Moon: Sailor Stars - Hero Club",
          "Accel World EX",
          "Ashita no Eleven-tachi",
          "Dennou Coil Recaps",
          "Akai Shouzou: Char, Soshite Frontal e",
          "Kimagure Orange☆Road: Tanabata Special",
          "Pokemon Best Wishes! Season 2",
          "Blood-C: Special Edition",
          "Pokemon Black and White 2: Introduction Movie",
          "Oedo wa Nemurenai!",
          "Aitsu to Lullaby: Suiyobi no Cinderella",
          "Nerawareta Gakuen",
          "Computer Kakumei: Saikyou x Saisoku no Zunou Tanjou",
          "Tanken Driland",
          "Btooom!",
          "Death Billiards",
          "Tenshi na Konamaiki Specials",
          "Arata naru Sekai: World's/Start/Load/End",
          "Sore Ike! Anpanman: Yomigaere Bananajima",
          "Chihayafuru 2",
          "Dangerous Jiisan Ja",
          "Hiiro no Kakera 2",
          "Kamisama Hajimemashita",
          "Detective Conan Movie 17: Private Eye in the Distant Sea",
          "Bishoujo Senshi Sailor Moon Crystal",
          "Dragon Ball Z Movie 14: Kami to Kami",
          "Tsukumo",
          "Battle Spirits: Sword Eyes",
          "Pokemon: Utae Meloetta - Rinka no Mi wo Sagase!",
          "Wonderful Rush",
          "Love Live! School Idol Project",
          "Hetalia: The Beautiful World",
          "Code Geass: Boukoku no Akito 2 - Hikisakareshi Yokuryuu",
          "Code Geass: Boukoku no Akito 3 - Kagayaku Mono Ten yori Otsu",
          "Code Geass: Boukoku no Akito 4 - Nikushimi no Kioku kara",
          "Hentai Ouji to Warawanai Neko.",
          "Smile Precure! Movie: Ehon no Naka wa Minna Chiguhagu!",
          "One Piece: Episode of Nami - Koukaishi no Namida to Nakama no Kizuna",
          "Gintama Movie 2: Kanketsu-hen - Yorozuya yo Eien Nare",
          "Meitantei Holmes: Aoi Ruby no Maki / Kaitei no Zaihou no Maki",
          "Kyousou Giga (2012)",
          "Arcana Famiglia: Capriccio - stile Arcana Famiglia",
          "Gintama': Enchousen",
          "Natsu-iro Kiseki: 15-kaime no Natsuyasumi",
          "Kore wa Zombie desu ka? of the Dead: Hai, Minotake ni Attemasu",
          "Kuroko no Basket NG-shuu",
          "Shining Hearts: Shiawase no Pan Specials",
          "Joshiraku OVA",
          "Cardfight!! Vanguard: Link Joker-hen",
          "Hakkenden: Touhou Hakken Ibun",
          "Phi Brain: Kami no Puzzle - Shukuteki! Rätsel-hen",
          "Bakuman.: Deraman.",
          "Oda Nobuna no Yabou Recap",
          "Yuugen Kaisha: Jiken File 00 - Hajimari wa Ayashiku mo Hanayaka ni",
          "Shining Hearts: Shiawase no Pan - Kokoro ga Todoita Picture Drama",
          "Lupin III: Touhou Kenbunroku - Another Page",
          "Inazuma Eleven Go vs. Danball Senki W Movie",
          "Kindaichi Shounen no Jikenbo: Kuromajutsu Satsujin Jiken-hen",
          "Iron Man: Rise of Technovore",
          "Tamagotchi! Yume Kira Dream",
          "Pyun Pyun Maru",
          "Hiyokoi (2012)",
          "Happy☆Lucky Bikkuriman",
          "Magical Hat",
          "Vassalord.",
          "Nurarihyon no Mago OVA",
          "Shakotan★Boogie",
          "Kamisama no Inai Nichiyoubi",
          "Miracle Psychicer Seizan",
          "Toaru Kagaku no Railgun S",
          "One Piece: Kinkyuu Kikaku One Piece Kanzen Kouryakuhou",
          "Kick-Heart",
          "Lupin Shanshei",
          "Bakumatsu Gijinden Roman",
          "One Piece: Episode of Luffy - Hand Island no Bouken",
          "Yondemasu yo, Azazel-san. Z",
          "Next A-Class",
          "Ninkuu: Knife no Bohyou",
          "Norakuro-kun",
          "Photokano",
          "Dokidoki! Precure",
          "Precure All Stars Movie New Stage 2: Kokoro no Tomodachi",
          "One Piece: Glorious Island",
          "Batsu & Terry",
          "Suisei no Gargantia",
          "Michitekuru Toki no Mukou ni",
          "Mashin Eiyuuden Wataru: Soukaizan Eiyuu Densetsu",
          "Kakumeiki Valvrave",
          "Pokemon: Pikachu to Eievui Friends",
          "Pokemon Movie 16: Shinsoku no Genosect - Mewtwo Kakusei",
          "Sankarea: Wagahai mo... Zombie de Aru...",
          "Higurashi no Naku Koro ni Kaku: Outbreak",
          "Tatakae!! Ramenman (Movie)",
          "The Last: Naruto the Movie",
          "Kuroko no Basket 2nd Season",
          "Kuroko no Basket: Tip Off",
          "Hiiro no Kakera: Totsugeki! Tonari no Ikemenzu",
          "Inazuma Eleven Go: TCG CM NG-shuu",
          "Sore Ike! Anpanman: Anpanman to Christmas no Hoshi",
          "Sore Ike! Anpanman: Franken-Robo-kun's Surprised Christmas",
          "Sore Ike! Anpanman: Sing! Dance! Everybody's Christmas",
          "Pokemon Best Wishes! Season 2: Episode N",
          "Dennou Sentai Voogie's★Angel: Forever and Ever",
          "SF Saiyuuki Starzinger (Movie)",
          "Koukaku Kidoutai Arise: Ghost in the Shell - Border:1 Ghost Pain",
          "Cowboy Bebop: Ein no Natsuyasumi",
          "Sore Ike! Anpanman: Dadandan to Futago no Hoshi",
          "Sore Ike! Anpanman: Happy no Daibouken",
          "Sore Ike! Anpanman: Roll to Laura Ukigumojou no Himitsu",
          "Shin Kabukichou Story Hana no Asukagumi!",
          "Hana no Asukagumi! 2: Lonely Cats Battle Royale",
          "Kuroko no Basket: Oshaberi Shiyokka",
          "Hetalia: The Beautiful World Specials",
          "Code Geass: Soubou no Oz Picture Drama",
          "Dokidoki! Precure Movie: Mana Kekkon!!? Mirai ni Tsunagu Kibou no Dress",
          "Street Fighter II: Yomigaeru Fujiwara-Kyou - Toki wo Kaketa Fighter-tachi",
          "Kingdom 2nd Season",
          "Pink Lady Monogatari: Eikou no Tenshi-tachi",
          "Sabaku no Takara no Shiro",
          "Kouchuu Ouja Mushiking: Greatest Champion e no Michi",
          "Ookami Shounen Ken",
          "Shakugan no Shana: Shana & Yuuji no Naze Nani Shana! Nandemo Shitsumonbako!",
          "Konpora Kid",
          "Non-tan to Issho",
          "Kyoufu Shinbun",
          "Little Busters! Sekai no Saitou wa Ore ga Mamoru!",
          "Udauda Yatteru Hima wa Nee!",
          "Kidou Senshi Gundam AGE: Memory of Eden",
          "Dohyou no Oni-tachi",
          "Buki yo Saraba",
          "Gambo",
          "Bemubemu Hunter Kotengu Tenmaru",
          "Toriko Movie: Bishokushin no Special Menu",
          "Kidou Senshi Gundam: Dai 08 MS Shoutai - Sanjigen to no Tatakai",
          "Mahoutsukai Sally (Movie)",
          "Rennyo Monogatari",
          "Ikenai Boy",
          "Ikenai Boy: Ikasu Maruhi Hand Power",
          "Pokemon Best Wishes! Season 2: Decolora Adventure",
          "Golden Time",
          "Danball Senki Wars",
          "Tanken Driland: 1000-nen no Mahou",
          "Rozen Maiden (2013)",
          "Hakkenden: Touhou Hakken Ibun 2nd Season",
          "Tiger Mask Fuku Men League Sen",
          "Inazuma Eleven Go: Galaxy",
          "Yowamushi Pedal: Special Ride",
          "Yowamushi Pedal",
          "Little Busters! Refrain",
          "Kakumeiki Valvrave 2nd Season",
          "Sore Ike! Anpanman: Tobase! Kibou no Handkerchief",
          "Lupin III vs. Detective Conan: The Movie",
          "Field ni Soyogu Kaze",
          "Kidou Senshi Gundam Senki: Avant Title",
          "Don: Gokudou Suikoden",
          "Genshiken Nidaime",
          "Kagayake! Yuujou no V Sign",
          "Sengoku Basara Movie: 4-Koma Gekijou - Another Last Party",
          "High School Agent",
          "Sore Ike! Anpanman: Inochi no Hoshi no Dolly",
          "Chocotan!",
          "Kennosuke-sama",
          "Taiheiyou ni Kakeru Niji",
          "Akane-chan",
          "Kamisama Hajimemashita OVA",
          "Bokutachi no Peace River",
          "Chihayafuru 2: Waga Miyo ni Furu Nagame Shima ni",
          "Gifuu Doudou!!: Kanetsugu to Keiji",
          "Dagram vs. Round-Facer",
          "Oh! Super Milk-chan Special",
          "Ano Yama ni Noborou yo",
          "Hakuouki: Reimeiroku OVA",
          "Code Geass: Hangyaku no Lelouch - Kiseki no Birthday Omake Flash",
          "Koukaku Kidoutai Arise: Another Mission",
          "Judo-bu Monogatari",
          "Pokemon: Mewtwo - Kakusei e no Prologue",
          "Love Live! School Idol Project 2nd Season",
          "Giovanni no Shima",
          "Toaru Hikuushi e no Koiuta",
          "One Piece: Episode of Merry - Mou Hitori no Nakama no Monogatari",
          "Youkai Watch",
          "Genshiken Nidaime OVA",
          "Koukaku Kidoutai Arise: Ghost in the Shell - Border:2 Ghost Whispers",
          "Koukaku Kidoutai Arise: Ghost in the Shell - Border:3 Ghost Tears",
          "Koukaku Kidoutai Arise: Ghost in the Shell - Border:4 Ghost Stands Alone",
          "Suisei no Gargantia Specials",
          "Megane-bu!",
          "Gekitou! Crush Gear Turbo: Kaizabaan no Chousen",
          "Pokemon XY",
          "Pupa",
          "Gundam Build Fighters",
          "Sore Ike! Anpanman: Omusubiman",
          "Saiki Kusuo no Ψ-nan (ONA)",
          "Monkey Punch: Manga Katsudou Daishashin - Crime Mate Special",
          "Kagerouka-kun",
          "Kaizoku Ouji",
          "Naruto: Shippuuden - Sunny Side Battle",
          "Anpanman to Hajimeyou! Iro, Kazu, Katachi Wakaru ka na Iro, Katachi",
          "Short Peace Opening",
          "Kaiketsu Zorori: Mamoru ze! Kyouryuu no Tamago",
          "Kuroko no Basket: Baka ja Katenai no yo!",
          "Hustle Punch",
          "Toaru Kagaku no Railgun S: Motto Marutto Railgun",
          "Kyousou Giga (TV)",
          "Zoku Naniwa Yuukyouden",
          "Naniwa Yuukyouden: Nekketsu!! Bakushou Mankai-hen",
          "Naniwa Yuukyouden: Chou Gokudou! Yoru no Bat wa Manrui-hen",
          "Naniwa Yuukyouden: Kyouretsu! Ana ga Attara Iretai-hen",
          "Gu-Gu Ganmo (Movie)",
          "Naniwa Yuukyouden: Kanketsu-hen",
          "Mahou Sensou",
          "Akuma Tou no Prince: Mitsume ga Tooru",
          "Robot Girls Z",
          "Waanabi.jk",
          "No Game No Life",
          "Saikyou Ginga Ultimate Zero: Battle Spirits",
          "Ore wa Chokkaku",
          "Tamagotchi! Miracle Friends",
          "Gaist Crusher",
          "Marude Dameo",
          "Battle Spirits: Sword Eyes Gekitouden",
          "Osomatsu-kun: Suika no Hoshi kara Konnichiwa zansu!",
          "Shouri Toushu",
          "Genshiken Nidaime Specials",
          "Ohayou! Spank (Movie)",
          "Hunter x Hunter Movie 2: The Last Mission",
          "Heisei Tensai Bakabon",
          "The Impression of First Gundam",
          "Shounen Ninja Kaze no Fujimaru: Nazo no Arabiya Ningyou",
          "King Kong: 001/7 Tom Thumb",
          "Mouretsu Atarou",
          "Toaru Majutsu no Index-tan Movie: Endymion no Kiseki - Ga Attari Nakattari",
          "Kill Me Baby: Butsuzou Kegatte Nise Halloween",
          "Sakura Trick",
          "Bokura Mangaka: Tokiwasou Monogatari",
          "Time Ranger Cesar Boy no Bouken: Roma Teikoku-hen",
          "Sore Ike! Anpanman: Tekka no Maki-chan to Kin no Kamameshidon",
          "Gekisou! Rubenkaiser",
          "Kariage-kun",
          "Lupin III: Princess of the Breeze - Kakusareta Kuuchuu Toshi",
          "Wagahai wa Neko de Aru",
          "Robokko Beeton",
          "Gin no Otoko",
          "Easy Cooking Animation: Seishun no Shokutaku",
          "Yama ni Kagayaku: Guide-ken Heiji Gou",
          "Shounen Tokugawa Ieyasu",
          "Zeonic Toyota Special Movie",
          "Sekaiichi Hatsukoi Movie: Yokozawa Takafumi no Baai",
          "Eguchi Hisashi no Kotobuki Gorou Show",
          "Kamisama no Inai Nichiyoubi: Kioku",
          "Meitantei Holmes: Mrs. Hudson Hitojichi Jiken no Maki / Dover Kaikyou no Daikuuchuusen no Maki",
          "Little Nemo Pilot (1987)",
          "Little Busters! EX",
          "Haikyuu!!",
          "Zeonic Front: Kidou Senshi Gundam 0079 - Zeon no Hifun",
          "Kyousou Giga (TV) Recaps",
          "Pokemon Best Wishes! Season 2: Decolora Adventure - Dent to Takeshi! Gyarados no Gekirin!!",
          "Love Live! School Idol Project OVA",
          "Mahouka Koukou no Rettousei",
          "Sekaiichi Hatsukoi: Valentine-hen",
          "Nissan Serena x One Piece 3D: Mugiwara Chase - Sennyuu!! Sauzando Sanii-gou",
          "Music S.T.A.R.T!!",
          "Tezuka Osamu no Buddha: Owarinaki Tabi",
          "Seisenshi Dunbine Memorial",
          "Marvel Disk Wars: The Avengers",
          "Precure All Stars Movie New Stage 3: Eien no Tomodachi",
          "Hetalia: The Beautiful World Extra Disc",
          "Kakumeiki Valvrave Recaps",
          "Witch Craft Works",
          "Love Stage!!",
          "Baby Steps",
          "Psycho-Pass Movie",
          "Happiness Charge Precure!",
          "Detective Conan Movie 18: The Sniper from Another Dimension",
          "Buddy Complex",
          "Ikkyuu-san to Yancha Hime",
          "Ikkyuu-san: Haru Da! Yancha Hime",
          "Hentai Ouji to Warawanai Neko.: Henneko BBS",
          "Choubakumatsu Shounen Seiki Takamaru",
          "Shin Choubakumatsu Shounen Seiki Takamaru",
          "Pokemon Movie 17: Hakai no Mayu to Diancie",
          "Pokemon: Pikachu, Kore Nan no Kagi?",
          "Koukaku Kidoutai Arise: Ghost in the Shell - Logicoma Specials",
          "Last Orders",
          "Keroro",
          "Hanayamata",
          "Pokemon XY SP: Road to Kalos",
          "Kindaichi Shounen no Jikenbo: Shinigami Byouin Satsujin Jiken",
          "Pokemon XY: New Year Special",
          "Cardfight!! Vanguard: Legion Mate-hen",
          "Kimama ni Idol",
          "Tsubasa to Hotaru",
          "Majin Bone",
          "Love Live! School Idol Project Recap",
          "The Disappearance of Conan Edogawa: The Worst Two Days in History",
          "High Score Girl",
          "Gintama: Yorinuki Gintama-san on Theater 2D",
          "Sore Ike! Anpanman: Anpanman to Oyakusoku",
          "Ao Haru Ride",
          "Koukaku Kidoutai Nyuumon Arise",
          "Gakkou no Kaidan Recaps",
          "Hero Bank",
          "Soredemo Sekai wa Utsukushii",
          "Kattobase! Dreamers: Carp Tanjou Monogatari",
          "Kyoukaisenjou no Horizon: Kyokutou Naruhodo Kouza",
          "Witch Craft Works: Takamiya-kun to Imouto no Warudakumi",
          "Kuroko no Basket: Mou Ikkai Yarimasen ka",
          "Mahou no Yousei Persia Pilot",
          "Azumi Mamma★Mia",
          "Selector Infected WIXOSS",
          "OL Kaizou Kouza",
          "Mahou no Yousei Persia: Escape!",
          "Shinken Densetsu: Tight Road",
          "Tokyo Ghoul",
          "Ningen Kakumei",
          "Himalaya no Hikari no Oukoku",
          "Daisougen to Hakuba",
          "Quantum Leap",
          "Shin Kidou Senki Gundam Wing: Frozen Teardrop Picture Drama - Aratanaru Tatakai",
          "Washimo",
          "Kiseijuu: Sei no Kakuritsu",
          "Kuroko no Basket 2nd Season NG-shuu",
          "Dragon Ball Z: Summer Vacation Special",
          "Dragon Ball Z: Zenbu Misemasu Toshi Wasure Dragon Ball Z!",
          "Dragon Collection",
          "Toaru Kagaku no Railgun S: Daiji na Koto wa Zenbu Sentou ni Osowatta",
          "Dragon Ball Kai (2014)",
          "Kindaichi Shounen no Jikenbo Returns",
          "Aikatsu! Movie",
          "Magical★Taruruuto-kun Movie",
          "Abarenbou Rikishi!! Matsutarou",
          "Hyokkori Hyoutan Shima",
          "Mugen Senshi Valis",
          "Magical★Taruruuto-kun: Sukisuki Takoyaki!",
          "Magical★Taruruuto-kun: Moeru! Yuujou no Mahou Taisen",
          "Hipira-kun ONA",
          "Hipira-kun Special",
          "Tanoshii Bunmeishi: Tetsu Monogatari",
          "Mogura no Motoro",
          "Ookami Shounen Ken (Movie)",
          "Ookami Shounen Ken: Arabia no Kaijin - Ma no Iwa no Kettou",
          "Hazedon",
          "Bakumatsu Rock",
          "Happiness Charge Precure! Movie: Ningyou no Kuni no Ballerina",
          "Puchitto Gargantia: Marumaru no Gargantia",
          "GO-GO Tamagotchi!",
          "Kaze no Invitation",
          "Go Go Toraemon",
          "Gugure! Kokkuri-san",
          "Gundam: G no Reconguista",
          "Pokemon Best Wishes! Season 2: Decolora Adventure - Iris vs. Ibuki! Dragon Master e no Michi!!",
          "Pokemon XY: Mega Evolution",
          "Hiroshima e no Tabi",
          "Suisei no Gargantia: Meguru Kouro, Haruka",
          "Log Horizon 2nd Season",
          "Futari no Oujisama",
          "Yukiguni no Oujisama",
          "Itsuka no Main: Kaminari Shounen - Tenta Sanjou!",
          "Code Geass: Boukoku no Akito 2 - Hikisakareshi Yokuryuu Picture Drama",
          "Bakuman. 3rd Season Specials",
          "Bakuman. 2nd Season Special",
          "Love Stage!!: Chotto ja Nakutte",
          "Ano Natsu de Matteru: Bokutachi wa Koukou Saigo no Natsu wo Sugoshinagara, Ano Natsu de Matteiru.",
          "Witch Craft Works Specials",
          "Otsuki-sama to Oujo",
          "Ikkyuu-san: Ooabare Yancha-hime",
          "Seihou Tenshi Angel Links: Meifon no Special Kaisetsu Corner",
          "Sore Ike! Anpanman: Ringo Boy to Minna no Negai",
          "Nezumi no Yomeiri",
          "Kumo ni Noru",
          "Toradora! Recap",
          "Sabaku no Kuni no Oujosama",
          "Hana to Shounen",
          "Nagareboshi no Okurimono",
          "Boku datte, Kirei ni Shitainda",
          "Manga Aesop Monogatari",
          "Yamiyo no Jidaigeki",
          "Yamiyo no Jidaigeki (OVA)",
          "Akuma to Himegimi",
          "Hi☆sCoool! SeHa Girls",
          "Doctor Mambo & Kaitou Jibako: Uchuu yori Ai wo Komete!!",
          "Moonrakers",
          "Meisou! Underworld",
          "Pokemon XY: Sora no Hahen",
          "Dennou Sentai Voogie's★Angel Gaiden: Susume! Super★Angels!",
          "Kidou Senshi Gundam UC: One of Seventy Two",
          "Majimoji Rurumo",
          "Sarusuberi: Miss Hokusai",
          "Selector Spread WIXOSS",
          "Be-Bop Kaizokuban",
          "High School Jingi",
          "Gorillaman",
          "Tokyo Babylon: Vision",
          "Ao Haru Ride OVA",
          "Kougyou Aika Volley Boys",
          "Detective Conan: The Fugitive Kogorou Mouri",
          "Surprise 4 U.",
          "Chiisana Kyojin Microman: Daigekisen! Microman vs. Saikyou Senshi Gorgon",
          "Yowamushi Pedal: Grande Road",
          "Inazuma Eleven: Chou Jigen Dream Match",
          "Kidou Senshi Gundam Unicorn: Episode EX - Hyakunen no Kodoku",
          "Bakabon Osomatsu no Karee wo Tazunete Sansenri",
          "World Trigger",
          "Kuroko no Basket 3rd Season",
          "Maido! Urayasu Tekkin Kazoku",
          "Wagahai wa Inu de Aru: Don Matsugorou no Seikatsu",
          "Heli-Tako Puu-chan",
          "Buddy Complex: Kanketsu-hen - Ano Sora ni Kaeru Mirai de",
          "Yomigaeru Sora Pilot",
          "Youkai Watch Movie 1: Tanjou no Himitsu da Nyan!",
          "Gundam Build Fighters Try",
          "Gegege no Kitarou: Kitarou Tanjou-hen",
          "Shinrabanshou: Tenchi Shinmei no Shou",
          "Robot Girls Z Specials",
          "Shoko Nakagawa Prism Tour Special",
          "Kidou Senshi Gundam-san",
          "Chuuchuu Banban",
          "No Game No Life Specials",
          "Love Live! The School Idol Movie",
          "Akatsuki no Yona",
          "Mister Ajikko Special",
          "Kaba Enchou no Doubutsuen Nikki",
          "Bakumatsu Rock: Mystery! Onsen Kaijiken ze yo!!",
          "One Piece 3D2Y: Ace no shi wo Koete! Luffy Nakama Tono Chikai",
          "Donguri Mori e",
          "Megumi to Taiyou: Kajuu Gummi Tweet Love Story",
          "Haikyuu!! Lev Genzan!",
          "Gintama': Futon ni Haitte kara Buki Nokoshi ni Kizuite Neru ni Nerenai Toki mo Aru",
          "Pokemon XY: Koukoku no Princess Diancie",
          "Moon Pride",
          "Dragon Ball Z Movie 15: Fukkatsu no \"F\"",
          "Avengers Confidential: Black Widow to Punisher",
          "Vampiyan Kids Specials",
          "Vampiyan Kids Promotion",
          "Pink Lady Monogatari: Eikou no Tenshi-tachi Recaps",
          "Junjou Romantica 3",
          "Kamisama Hajimemashita◎",
          "Digimon Adventure tri. 1: Saikai",
          "Cross Ange: Tenshi to Ryuu no Rondo",
          "Yowamushi Pedal: Re:Ride",
          "Shouwa Genroku Rakugo Shinjuu: Yotarou Hourou-hen",
          "Pokemon Movie 18: Ring no Choumajin Hoopa",
          "Stitch!: Itazura Alien no Daibouken - Uchuu Ichi no Oniichan",
          "Love Live! School Idol Project: μ's →NEXT LoveLive! 2014 - Endless Parade Makuai Drama",
          "Tanbai Haru, Tookaraji",
          "Kono Sora no Shita de",
          "Yume no Tsuzuki",
          "Hidamari no Ie",
          "Boku to Gaku: Ano Natsu no Monogatari",
          "Namae... Sore wa Moeru Inochi",
          "Gomen ne, Mii-chan",
          "Miitsuketa!",
          "Kokoro no Koukyougaku",
          "Hibike! Wadaiko",
          "Yooidon!",
          "Kokoroya",
          "Iwata Kunchi no Obaachan",
          "Afghanistan Paghman-mura no Monogatari: Sekaiichi Utsukushii Boku no Mura",
          "Afghanistan Paghman-mura no Monogatari: Boku no Mura ni Circus ga Kita",
          "Kie Saranu Kizuato: Hi no Umi Osaka",
          "Ai Tenshi Densetsu Wedding Peach Specials",
          "Examurai Sengoku Recap",
          "Junketsu no Maria",
          "Sore Ike! Anpanman: Bokura wa Hero",
          "Sore Ike! Anpanman: Otanjoubi Series",
          "Hitoribocchi",
          "Tanuki-san Ooatari",
          "Sekai no Ouja: King Kong Taikai",
          "Koukaku Kidoutai: Shin Movie",
          "Sore Ike! Anpanman: Kaiketsu Naganegiman to Doremi Hime",
          "Sore Ike! Anpanman: Yuuki to Honoo to Christmas",
          "Sore Ike! Anpanman: Kaiketsu Naganegiman to Yakisobapanman",
          "Sore Ike! Anpanman: Kieta Jam Ojisan",
          "Sore Ike! Anpanman: Anpanman to Tanoshii Nakama-tachi",
          "Toaru Majutsu no Index 10-shuunen Kinen PV",
          "Fushigi Yuugi Special: Nakago Shikkari Shinasai!",
          "Sore Ike! Anpanman: Hashire! Wakuwaku Anpanman Grand Prix",
          "Sore Ike! Anpanman: Keito no Shiro no Christmas",
          "Selector Infected WIXOSS: Midoriko-san to Piruruku-tan",
          "Ginga Tetsudou 999: Niji no Michishirube",
          "Baby Steps 2nd Season",
          "Sore Ike! Anpanman: Rhythm de Teasobi - Anpanman to Fushigi na Parasol",
          "Kasumin",
          "Kasumin 2nd Season",
          "Cardfight!! Vanguard G",
          "Karasu no Panya-san/Dorobou Gakkou",
          "Juupiki no Kaeru",
          "Kyoushitsu wa Obake ga Ippai/Boku wa Yuusha da zo",
          "Nezumi-kun no Chokki",
          "Ushiro no Seki no Ochiai-kun",
          "Ichinen Ikkumi",
          "Chibi Neko Chobi/Chibi Neko Kobi to Tomodachi",
          "Tokyo Ghoul √A",
          "Gundam Build Fighters Specials",
          "Genkichi Jiisan to Kogitsune",
          "Afro Samurai Pilot",
          "Gugure! Kokkuri-san Specials",
          "Kaitou Tenshi Twin Angel: Kyun Kyun☆Tokimeki Paradise!! OVA",
          "Itsumo Kokoro ni Taiyou wo!",
          "Papa Mama Bye Bye",
          "Little Twins",
          "Little Twins: Bokura no Natsu ga Tondeiku",
          "Obatalian",
          "Gegege no Kitarou: Youkai Japan Rally 3D",
          "Dungeon ni Deai wo Motomeru no wa Machigatteiru Darou ka",
          "Shokugeki no Souma",
          "Death Parade",
          "MapleStory Special",
          "Youkai Watch Movie 2: Enma Daiou to Itsutsu no Monogatari da Nyan!",
          "Ore Monogatari!!",
          "Broots",
          "Dr. Slump: Arale-chan '92 Oshougatsu Special",
          "Dr. Slump: Arale-chan Specials",
          "Dr. Slump: Arale-chan - Penguin Mura Eiyuu Densetsu",
          "Pokemon Omega Ruby & Alpha Sapphire: Mega Special Animation",
          "Detective Conan Movie 19: The Hellfire Sunflowers",
          "Precure All Stars Movie: Haru no Carnival♪",
          "Shakugan no Shana: Friagne & Marianne no Naze Nani Shana! Nandemo Shitsumonbako! Specials",
          "Hetalia: The World Twinkle",
          "Go! Princess Precure",
          "One Piece: Episode of Alabasta - Prologue",
          "Aikatsu!: Dai Starmiya Ichigo Matsuri Zenyasai!!",
          "Ginga Tetsudou 999 (ONA)",
          "Shouwa Genroku Rakugo Shinjuu",
          "Boruto: Naruto the Movie",
          "Pokemon: Pikachu to Pokemon Ongakutai",
          "Haikyuu!! Second Season",
          "Youkai Watch: Best 10",
          "Robot Girls Z Plus",
          "Washimo 2nd Season",
          "Koukaku Kidoutai Arise [.jp]",
          "Koukaku Kidoutai Arise: Alternative Architecture",
          "Pokemon XY: New Year's Eve 2014 Super Mega Special",
          "Detective Conan: Happy New Year Special",
          "Ongaku Shoujo",
          "Aki no Kanade",
          "Kuroko no Basket: Oshaberi Demo Shimasen ka",
          "Tennis no Ouji-sama: Message in a Bottle",
          "Ginga Tetsudou 999: Shounen no Tabidachi to Wakare",
          "Haikyuu!! Movie 1: Owari to Hajimari",
          "Taboo Tattoo",
          "Jitsu wa Watashi wa",
          "Shimoneta to Iu Gainen ga Sonzai Shinai Taikutsu na Sekai",
          "Overlord",
          "Yumemi Douji",
          "Ikiteirutte Subarashii!",
          "Moshidora Recap",
          "Meiji Tokyo Renka Movie 1: Yumihari no Serenade",
          "Go! Princess Precure Movie: Go! Go!! Gouka 3-bondate!!!",
          "Sore Ike! Anpanman: Mija to Mahou no Lamp",
          "ReLIFE",
          "Sekai Meisaku Douwa Series",
          "Jewelpet Magical Change",
          "Genki Bakuhatsu Ganbaruger: Hyakka",
          "Precure All Stars Movie: Haru no Carnival♪ - Ima Koko kara",
          "Bobobo-bo Bo-bobo Recap",
          "Tiger & Bunny Recaps",
          "Tsubasa to Hotaru (2015)",
          "Tamagotchi! Tamatomo Daishuu GO",
          "Prison School",
          "One Punch Man",
          "Dededen",
          "Kuroko no Basket 3rd Season NG-shuu",
          "Haikyuu!! Movie 2: Shousha to Haisha",
          "Akatsuki no Yona OVA",
          "Yowamushi Pedal Movie",
          "Dr. Slump: Arale-chan no Koutsuu Anzen",
          "Shika to Kanta",
          "Dr. Slump: Robot Taiketsu! Shukuteki Dr. Mashirito Toujou / Keen de Yuushou!? Penguin Grand Prix",
          "Dr. Slump: Hoyoyo! Arale no Himitsu Dai Koukai da yo!!",
          "Dr. Slump: Arale-chan Ayaya!? Penguin Mura de TV Jack",
          "Tokyo Ghoul: \"Jack\"",
          "Ginga Tetsudou 999 for Planetarium",
          "Ginga Tetsudou 999: Akai Hoshi Betelgeuze - Inochi no Kagayaki",
          "Hero Company",
          "Gundam Build Fighters Try: Island Wars",
          "Princess Princess Specials",
          "Pokemon XY: Hoopa no Odemashi Daisakusen!!",
          "Dragon Ball Super",
          "Pop in Q",
          "Kamisama Hajimemashita: Kako-hen",
          "Code Geass: Boukoku no Akito 5 - Itoshiki Mono-tachi e",
          "Yowamushi Pedal: Re:Road",
          "Bakuon!!",
          "Gakkou no Kaidan: Kubinashi Rider!! Shi no Noroi",
          "30-pun de Wakaru! Kore made no Love Live!",
          "Kono Subarashii Sekai ni Shukufuku wo!",
          "Many Things SD Gundam",
          "Madou King Granzort: Nonstop Rabi",
          "Washimo 3rd Season",
          "Love Live! School Idol Project: μ's →NEXT LoveLive! 2014 - Endless Parade Encore Animation",
          "Robot Girls Z Episode 0",
          "Akazukin-chan to Manabou! Koutsuu Rule",
          "Hanakappa no Koutsuu Anzen: Cake wo Momomete Migi, Hidari, Migi",
          "Tobidashi wa Abunaizo! Mushi Mushi Mura no Koutsuu Anzen",
          "Aladdin to Mahou no Lamp no Koutsuu Anzen",
          "Mameushi-kun no Koutsuu Anzen",
          "Usagi to Kame no Koutsuu Anzen",
          "Oz no Mahoutsukai no Koutsuu Anzen no Tabi",
          "Son Gokuu no Koutsuu Rule Shugyou Chuu",
          "Crazy Monkey",
          "Kamisama Minarai: Himitsu no Cocotama",
          "Beyblade Burst",
          "Kuroko no Basket: Saikou no Present desu",
          "Buddy Complex: Daremo Shiranai Ashita e",
          "Hatsukoi Monster",
          "Suisei no Gargantia: Puchitto Furikaerintia",
          "Code Geass: Boukoku no Akito 3 - Kagayaku Mono Ten yori Otsu Picture Drama",
          "ClassicaLoid",
          "Hetalia: The World Twinkle Specials",
          "Pokemon XY: Odemashi Ko Majin Hoopa",
          "Osomatsu-san",
          "Cardfight!! Vanguard G: GIRS Crisis-hen",
          "Kindaichi Shounen no Jikenbo Returns 2nd Season",
          "Pokemon Movie 19: Volcanion to Karakuri no Magearna",
          "Kidou Senshi Gundam: Tekketsu no Orphans",
          "Selector Destructed WIXOSS Movie",
          "One Piece: Episode of Sabo - 3 Kyoudai no Kizuna Kiseki no Saikai to Uketsugareru Ishi",
          "Tokyo Ghoul: \"Pinto\"",
          "Shounen to Sakura",
          "Shokugeki no Souma OVA",
          "Mori no Ongakudan",
          "Tonkatsu DJ Agetarou",
          "Shingeki! Kyojin Chuugakkou",
          "Flying Witch",
          "Joker Game",
          "Ginga Eiyuu Densetsu: Die Neue These - Kaikou",
          "Gundam: G no Reconguista - From the Past to the Future",
          "Tantei Opera Milky Holmes Movie: Gyakushuu no Milky Holmes",
          "One Piece Film: Gold",
          "Prince of Stride: Alternative",
          "Pokemon XY&Z",
          "Luger Code 1951",
          "Kuroko no Basket Movie 4: Last Game",
          "Haikyuu!! Quest Picture Drama",
          "Super Lovers",
          "One Punch Man: Road to Hero",
          "Divine Gate",
          "Bishoujo Senshi Sailor Moon Crystal Season III",
          "TV-ban Pokemon Special Masara Town-hen Recaps",
          "Accel World: Infinite∞Burst",
          "Nejimaki Seirei Senki: Tenkyou no Alderamin",
          "Amanchu!",
          "One Punch Man Specials",
          "Kimi no Kokoro wa Kagayaiteru kai?",
          "Yowamushi Pedal: New Generation",
          "Bakuon!! OVA",
          "Mahoutsukai Precure!",
          "Pokemon Fushigi no Dungeon: Magnagate to Mugendai Meikyuu",
          "Phantom of the Kill: Zero kara no Hangyaku",
          "Tang Lang Bu Chan",
          "Kidou Senshi Gundam Thunderbolt",
          "Lupin Shanshei Pilot",
          "Hetalia: The World Twinkle Extra Disc",
          "Detective Conan Movie 20: The Darkest Nightmare",
          "Osomatsu-san Special",
          "Seikaisuru Kado",
          "One Piece: Adventure of Nebulandia",
          "Kimi no Sumu Machi",
          "Osomatsu-kun (1988): Appare! Chibita no Onitaiji zansu",
          "Osomatsu-kun: Iyami wa Hitori Kaze no Naka",
          "Reikenzan: Hoshikuzu-tachi no Utage",
          "Sousei no Onmyouji",
          "Digimon Adventure tri. 2: Ketsui",
          "Kidou Senshi Gundam-san (Movie)",
          "Precure All Stars Movie: Minna de Utau♪ - Kiseki no Mahou",
          "Kimi ni Maji Kyun!",
          "Youkai Watch Movie 3: Soratobu Kujira to Double Sekai no Daibouken da Nyan!",
          "Code Geass: Boukoku no Akito 4 - Nikushimi no Kioku kara Picture Drama",
          "Mahou no Tenshi Creamy Mami: Zutto Kitto Motto",
          "Mahou no Tenshi Creamy Mami: Perfect Memory",
          "Shokugeki no Souma: Ni no Sara",
          "Lupin III (2015): Italian Game",
          "Pokemon XY&Z: Subete no Nazo wo Tokiakase!",
          "Boruto: Naruto the Movie - Naruto ga Hokage ni Natta Hi",
          "Silk Road Shounen Yuuto: Toki wo Kakeru Shounen Yuuto no Hyouryuu Nikki",
          "D.Gray-man Hallow",
          "Kindaichi Shounen no Jikenbo Returns 2nd Season: Akechi Keibu no Jikenbo",
          "Kono Subarashii Sekai ni Shukufuku wo! Kono Subarashii Choker ni Shukufuku wo!",
          "One Piece: Long Ring Long Land-hen",
          "Mitsuami no Kamisama",
          "Love Live! The School Idol Movie: Gekijou Manner CM",
          "Love Live! Kouhaku Special Anime",
          "Prison School: Mad Wax",
          "Love Live! Sunshine!!",
          "Sakamoto desu ga?",
          "Shounen Sunday CM: Imawa no Kuni no Alice",
          "Digimon Adventure tri. 3: Kokuhaku",
          "Shounen Sunday CM: Tokiwa Kitareri!! CM",
          "Kamiwaza Wanda",
          "12-sai.: Chicchana Mune no Tokimeki",
          "Noblesse: Awakening",
          "Sore Ike! Anpanman: Omocha no Hoshi no Nanda to Runda",
          "Love Live! x Watering KissMint Collaboration CM",
          "Puzzle & Dragons Cross",
          "Kidou Senshi Gundam Unicorn RE:0096",
          "Dungeon ni Deai wo Motomeru no wa Machigatteiru Darou ka OVA",
          "Cardfight!! Vanguard G: Stride Gate-hen",
          "B: The Beginning",
          "Amaama to Inazuma",
          "Nobunaga no Shinobi",
          "Kuroko no Basket Movie 1: Winter Cup - Kage to Hikari",
          "Kuroko no Basket Movie 2: Winter Cup - Namida no Saki e",
          "Kuroko no Basket Movie 3: Winter Cup - Tobira no Mukou",
          "Nameko: Sekai no Tomodachi",
          "ēlDLIVE",
          "Tiger Mask W",
          "Magnerobo Ga-Keen Recap",
          "Dungeon ni Deai wo Motomeru no wa Machigatteiru Darou ka Gaiden: Sword Oratoria",
          "Kidou Senshi Gundam 0083: Stardust Memory Picture Drama - Uchuu no Kagerou 2",
          "Yongshi",
          "Urara Meirochou",
          "Haikyuu!! Karasuno Koukou vs. Shiratorizawa Gakuen Koukou",
          "Kono Subarashii Sekai ni Shukufuku wo! 2",
          "Koi ni Naritai Aquarium",
          "Super Lovers OVA",
          "Reikenzan: Eichi e no Shikaku",
          "Tsukiuta. The Animation",
          "Kidou Senshi Gundam: Tekketsu no Orphans 2nd Season",
          "Meiji Tokyo Renka Movie 2: Hanakagami no Fantasia",
          "Shouwa Genroku Rakugo Shinjuu: Sukeroku Futatabi-hen",
          "Washimo 4th Season",
          "Love Live! μ's Final Love Live! Opening Animation",
          "Joker Game: Kuroneko Yoru no Bouken",
          "Naze Ikiru: Rennyo Shounin to Yoshizaki Enjou",
          "Seishain Cyborg 003",
          "Mahoutsukai Precure! Movie: Kiseki no Henshin! Cure Mofurun!",
          "Lostorage Incited WIXOSS",
          "Kimi no Koe wo Todoketai",
          "Kidou Senshi Gundam Thunderbolt: December Sky",
          "Kidou Senshi Gundam-san: Hiyoko Days ― Suisei Hiyoko to Fushigi na Ofuda",
          "Area 88 Movie",
          "Committed Red",
          "Tsubasa to Hotaru (2016)",
          "Magic-Kyun! Renaissance",
          "Yowamushi Pedal: Spare Bike",
          "Tantei Opera Milky Holmes: Fun Fun Party Night♪ - Ken to Janet no Okurimono",
          "Digimon Universe: Appli Monsters",
          "Kamisama Hajimemashita: Kamisama, Shiawase ni Naru",
          "ACCA: 13-ku Kansatsu-ka",
          "One Piece: Heart of Gold",
          "Cardcaptor Sakura: Clear Card-hen",
          "Mahou no Star Magical Emi: Finale! Finale!",
          "Code Geass: Boukoku no Akito 5 - Itoshiki Mono-tachi e Picture Drama",
          "Super Lovers 2",
          "12-sai.: Chicchana Mune no Tokimeki 2nd Season",
          "UQ Holder! Mahou Sensei Negima! 2",
          "Ganbare! Kickers Specials",
          "Ganbare! Kickers: Bokutachi no Densetsu",
          "Sakamoto desu ga? Sakamoto deshita?",
          "Twin Angel Break",
          "One Piece Film: Gold Episode 0 - 711 ver.",
          "No Game No Life: Zero",
          "Seihou Bukyou Outlaw Star Specials",
          "Inazuma Eleven: Ares no Tenbin",
          "Megaton-kyuu Musashi",
          "Soul Buster",
          "Marginal#4: Kiss kara Tsukuru Big Bang",
          "Ao Oni The Animation",
          "Amanchu!: Yakusoku no Natsu to Atarashii Omoide no Koto",
          "Ao Oni The Animation (Movie)",
          "Kabuki-bu!",
          "Danball Senki Wars: All Star Battle",
          "Hatsukoi Monster: Mou Chotto dake Tsuzukunja",
          "Pokemon Sun & Moon",
          "Detective Conan: Episode One - The Great Detective Turned Small",
          "100% Pascal-sensei (TV)",
          "Cardfight!! Vanguard G Next",
          "One Punch Man 2nd Season",
          "Overlord Movie 1: Fushisha no Ou",
          "Oishi-sa Hajikeru! One Piece",
          "Kamisama Minarai: Himitsu no Cocotama Movie - Kiseki wo Okose♪ Tepple to Dokidoki Cocotama-kai",
          "Meiji Tokyo Renka",
          "Osomatsu-san: Ouma de Kobanashi",
          "Mutsugo to Ouma no Monogatari",
          "Nobunaga no Shinobi: Nobunaga to Minarai Shinobi",
          "Schoolgirl Strikers: Animation Channel",
          "Kirakira☆Precure A La Mode",
          "Digimon Adventure tri. 4: Soushitsu",
          "Precure Dream Stars! Movie",
          "Ring ni Kakero 1 Pilot",
          "Tamagotchi Movie: Tanpen Himitsu no Otodoke Daisakusen!",
          "Hi☆sCoool! SeHa Girls Special",
          "Pokemon XY&Z Specials",
          "Iwaki Meisei Daigaku",
          "Alice to Zouroku",
          "Vatican Kiseki Chousakan",
          "Kidou Senshi Gundam Thunderbolt 2nd Season",
          "Isekai Izakaya: Koto Aitheria no Izakaya Nobu",
          "Overlord Movie 2: Shikkoku no Eiyuu",
          "Detective Conan Movie 21: The Crimson Love Letter",
          "Code Geass: Fukkatsu no Lelouch",
          "Code Geass: Hangyaku no Lelouch I - Koudou",
          "Code Geass: Hangyaku no Lelouch II - Handou",
          "Code Geass: Hangyaku no Lelouch III - Oudou",
          "Baki",
          "The Reflection",
          "Youkai Watch Movie 4: Shadow Side - Oni-ou no Fukkatsu",
          "Shokugeki no Souma: Ni no Sara OVA",
          "Hei Mao Jing Zhang",
          "Hei Mao Jing Zhang (1992)",
          "Pokemon Generations",
          "Pokemon Movie 20: Kimi ni Kimeta!",
          "Boruto: Naruto Next Generations",
          "Black Clover",
          "Nana Maru San Batsu",
          "UQ Holder! Mahou Sensei Negima! 2 OVA",
          "Lostorage Conflated WIXOSS",
          "Giant Robo",
          "Bakuon!! no Kobeya",
          "Kono Subarashii Sekai ni Shukufuku wo! 2: Kono Subarashii Geijutsu ni Shukufuku wo!",
          "Ballroom e Youkoso",
          "Kujira no Kora wa Sajou ni Utau",
          "Tomica Hyper Rescue Drive Head: Kidou Kyuukyuu Keisatsu",
          "Mahoujin Guruguru (2017)",
          "Rilu Rilu Fairilu: Yousei no Door",
          "Kuroko no Basket: Oshaberi Shiyou ka",
          "Yukai na Animal Bus",
          "PriPri Chii-chan!!",
          "Mazinger Z Movie: Infinity",
          "Maple Town Monogatari (Movie)",
          "Hanitarou desu.",
          "Sanrio Danshi",
          "Haruniwa Ie no 3 Nin-me",
          "Pikaia!!",
          "Sore Ike! Anpanman: Buruburu no Takarasagashi Daibouken!",
          "Kaettekita Dr. Slump: Arale-chan Special",
          "Beyblade Burst God",
          "Rilu Rilu Fairilu: Mahou no Kagami",
          "Digimon Adventure tri. 5: Kyousei",
          "Jigoku Shoujo: Yoi no Togi",
          "Love Live! Sunshine!! 2nd Season",
          "Marvel Future Avengers",
          "Nobunaga no Shinobi: Ise Kanegasaki-hen",
          "Happy Party Train",
          "Osomatsu-san: Haru no Zenkoku Dai Senbatsu Jouei-sai - Sentou Quiz 2",
          "\"Eikou Naki Tensai-tachi\" Kara no Monogatari",
          "Osomatsu-san 2nd Season",
          "Boruto: Jump Festa 2016 Special",
          "Overlord II",
          "Hoozuki no Reitetsu 2nd Season",
          "Haikyuu!! Movie 3: Sainou to Sense",
          "Haikyuu!! Movie 4: Concept no Tatakai",
          "Bleach KaraBuri!: Gotei Juusan Yatai Daisakusen!",
          "Gurazeni",
          "Kirakira☆Precure A La Mode Movie: Paritto! Omoide no Mille-Feuille!",
          "Kidou Senshi Gundam: Twilight Axis",
          "Vatican Kiseki Chousakan: Majo no Soup",
          "Washimo 5th Season",
          "Cardcaptor Sakura: Clear Card-hen Prologue - Sakura to Futatsu no Kuma",
          "Haikyuu!! Tokushuu! Haru-kou Volley ni Kaketa Seishun",
          "Saint Seiya: Gold Saints Data File",
          "ClassicaLoid 2nd Season",
          "Seikaisuru Kado: Ninovo",
          "Yukai na Animal Bus 2nd Season",
          "Kabuki-bu!: Oogiri \"Chiyocolate-gassen\"",
          "Konbini Kareshi",
          "ReLIFE: Kanketsu-hen",
          "Mahou no Yousei Persia: Kaiten Mokuba",
          "Gundam Build Fighters: Battlogue",
          "Seikaisuru Kado: Ekwari",
          "No Doubt",
          "Oshiri Tantei",
          "Kuroko no Basket: Last Game NG-shuu",
          "ACCA: 13-ku Kansatsu-ka Specials",
          "Shokugeki no Souma: San no Sara",
          "Yowamushi Pedal: Glory Line",
          "Detective Conan Movie 22: Zero the Enforcer",
          "Haikyuu!! vs. \"Akaten\"",
          "Sora yori mo Tooi Basho",
          "Yowamushi Pedal: Re:Generation",
          "Kidou Senshi Gundam Thunderbolt: Bandit Flower",
          "Devilman Memorial",
          "Kud Wafter",
          "Gundam Build Fighters: GM no Gyakushuu",
          "Satsuriku no Tenshi",
          "Sora to Umi no Aida",
          "Cardfight!! Vanguard G Z",
          "Knights of the Zodiac: Saint Seiya",
          "Lostorage Conflated WIXOSS: Missing Link",
          "Itou Junji: Collection",
          "Tokimeki Restaurant☆☆☆ MIRACLE6 Movie",
          "One Piece: Episode of East Blue - Luffy to 4-nin no Nakama no Daibouken",
          "Sono Me ga Mitsumeru Mono",
          "Scratch x One Piece Film: Gold",
          "One Piece Film: Gold - Cine Mike Popcorn Kokuchi",
          "TOHO Cinemas x One Piece Film: Gold - Tokubetsu Eizou",
          "Mushi Mushi Mura no Nakama-tachi: Minna Ii Toko Arun da yo",
          "Ginga Eiyuu Densetsu: Die Neue These - Seiran 1",
          "Ginga Eiyuu Densetsu: Die Neue These - Seiran 2",
          "Ginga Eiyuu Densetsu: Die Neue These - Seiran 3",
          "Toaru Majutsu no Index III",
          "Kidou Senshi Gundam: Twilight Axis - Akaki Zanei",
          "Digimon Adventure tri. 6: Bokura no Mirai",
          "Love Live! Sunshine!! Recap",
          "Tokyo Ghoul:re",
          "Shinkansen Henkei Robo Shinkalion The Animation",
          "Zukkoke Sannin-gumi: Kusunoki Yashiki no Guruguru-sama",
          "Megalo Box",
          "Major 2nd",
          "Hug tto! Precure",
          "Date A Live III",
          "Amanchu! Advance",
          "Pokemon Diamond & Pearl: Clip Show",
          "Tantei Opera Milky Holmes: Arsene Karei naru Yokubou",
          "Youtai Nuhai Zai Shanghai 2: Xianglian Mima",
          "Tomica Hyper Rescue Drive Head: Kidou Kyuukyuu Keisatsu (ONA)",
          "Tomica Hyper Rescue Drive Head: Kidou Kyuukyuu Keisatsu Movie",
          "Tokyo Girls Collection 2016 A/W x Osomatsu-san Special Movie",
          "Back Street Girls: Gokudolls",
          "dMatsu-san",
          "Inazuma Eleven x Kaitou Gru no Tsuki Dorobou",
          "Virtua Fighter: Costomize Clip",
          "Dragon Ball Super: Broly",
          "Shokugeki no Souma: San no Sara - Tootsuki Ressha-hen",
          "Yuu☆Yuu☆Hakusho: Two Shots/Noru ka Soru ka",
          "Shokugeki no Souma: San no Sara - Kyokuseiryou no Erina",
          "Lupin III: Lupin wa Ima mo Moete Iru ka?",
          "Oshiri Tantei: Mina to Machi no Tuk-tuk Chase",
          "Oshiri Tantei: Puputto Fumutto Kaiketsu Dance",
          "Itou Junji: Collection - Tomie",
          "Precure Super Stars! Movie",
          "Love Live! Sunshine!! The School Idol Movie: Over the Rainbow",
          "Hoozuki no Reitetsu 2nd Season: Sono Ni",
          "Sore Ike! Anpanman: Kagayake! Kurun to Inochi no Hoshi",
          "Petit☆Dream Stars! Let's La Cooking? Showtime!",
          "Puzzle & Dragon",
          "Nobunaga no Shinobi: Anegawa Ishiyama-hen",
          "Gegege no Kitarou (2018)",
          "Marvel Future Avengers 2nd Season",
          "Chichibu de Buchichi",
          "Tian Shu Qi Tan",
          "Hoshi to Tsubasa no Paradox",
          "Gundam Build Divers",
          "Gundam Build Divers Prologue",
          "Last Period: Owarinaki Rasen no Monogatari",
          "Kujira no Kora wa Sajou ni Manabu!",
          "Beyblade Burst Chouzetsu",
          "Youkai Watch: Shadow Side",
          "Oshiete Mahou no Pendulum: Rilu Rilu Fairilu",
          "Chuukan Kanriroku Tonegawa",
          "Dungeon ni Deai wo Motomeru no wa Machigatteiru Darou ka II",
          "Dungeon ni Deai wo Motomeru no wa Machigatteiru Darou ka Movie: Orion no Ya",
          "Kekkero Ke",
          "The Perfect World",
          "Chihayafuru 3",
          "Zoids Wild",
          "Psycho-Pass: Sinners of the System Case.1 - Tsumi to Batsu",
          "Psycho-Pass: Sinners of the System Case.2 - First Guardian",
          "Psycho-Pass: Sinners of the System Case.3 - Onshuu no Kanata ni＿＿",
          "Boogiepop wa Warawanai (2019)",
          "Cardfight!! Vanguard (2018)",
          "Ongaku Shoujo (TV)",
          "Muhyo to Rouji no Mahouritsu Soudan Jimusho",
          "Double Decker! Doug & Kirill",
          "Hug tto! Precure♡Futari wa Precure Movie: All Stars Memories",
          "City Hunter Movie: Shinjuku Private Eyes",
          "Hangyakusei Million Arthur",
          "Robot Girls Neo",
          "Senjuushi",
          "Majutsushi Orphen Hagure Tabi",
          "Planet With",
          "Bakumatsu",
          "Medama Oyaji no April Fools'",
          "Overlord III",
          "Megalo Box Specials",
          "Kidou Senshi Gundam NT",
          "Kidou Senshi Gundam: Senkou no Hathaway",
          "Aguu: Tensai Ningyou",
          "Tokyo Ghoul:re 2nd Season",
          "Ongeki",
          "Inazuma Eleven: Reloaded - Soccer no Henkaku",
          "Pokemon: Aki no Special",
          "Super Dragon Ball Heroes",
          "One Piece: Episode of Sorajima",
          "ReLIFE: Kanketsu-hen Specials",
          "Seikaisuru Kado: Beyond Information",
          "Shoumetsu Toshi",
          "Kaze ga Tsuyoku Fuiteiru",
          "Kirakira Happy★Hirake! Cocotama",
          "Youkai Watch Movie 5: Forever Friends",
          "Kamisama Minarai: Himitsu no Cocotama - Minarai Cocotama-dou",
          "Gurazeni Season 2",
          "B: The Beginning Succession",
          "Shika no Ou: Yuna to Yakusoku no Tabi",
          "Yuukai Anna",
          "Kono Subarashii Sekai ni Shukufuku wo! Movie: Kurenai Densetsu",
          "Kyoukaisenjou no Horizon Special",
          "Ken En Ken: Aoki Kagayaki",
          "Fate/Grand Order: Shinsei Entaku Ryouiki Camelot 2 - Paladin; Agateram",
          "Osomatsu-san: Hajimaru Hajimari",
          "Hachigatsu no Cinderella Nine",
          "Mix: Meisei Story",
          "Shinkansen Henkei Robo Shinkalion The Animation Recap",
          "Kabukichou Sherlock",
          "Gakuen Senki Muryou: Yorinuki Muryou-san Girls Selection",
          "Osomatsu-san Movie",
          "Senjuushi: Gendaijuu no Heya",
          "One Piece Movie 14: Stampede",
          "Inazuma Eleven: Orion no Kokuin",
          "Hangyakusei Million Arthur 2nd Season",
          "Majimoji Rurumo: Kanketsu-hen",
          "Chuubyou Gekihatsu Boy",
          "Senjuushi: Kijuushi-tachi no Happy Birthday!",
          "High Score Girl: Extra Stage",
          "Toaru Kagaku no Accelerator",
          "Toaru Kagaku no Railgun T",
          "Tantei Opera Milky Holmes: Psycho no Aisatsu",
          "Tsuujou Kougeki ga Zentai Kougeki de Ni-kai Kougeki no Okaasan wa Suki desu ka?",
          "Star☆Twinkle Precure",
          "Mahoutsukai ni Narenakatta Onnanoko no Hanashi.",
          "Koukaku Kidoutai: Ghost Chaser",
          "Hangyakusei Million Arthur: Saraba Itoshi no Danchou",
          "Hero Mask",
          "Dragon Ball Super: Broly - Skytree Super",
          "Precure Miracle Universe Movie",
          "Fruits Basket 1st Season",
          "Dr. Stone",
          "Gundam: G no Reconguista Movie I - Ike! Core Fighter",
          "SD Gundam World: Sangoku Souketsuden",
          "Kidou Senshi Gundam: Senkou no Hathaway 2",
          "Kidou Senshi Gundam: Senkou no Hathaway 3",
          "Lupin III: Goodbye Partner",
          "Diamond no Ace: Act II",
          "Korasho no Kaitei Wakuwaku Daibouken! Movie",
          "Black Clover: Jump Festa 2018 Special",
          "Detective Conan Movie 23: The Fist of Blue Sapphire",
          "Detective Conan: Amuro Secret Call",
          "Bleach: Gotei 13 Omake",
          "Star☆Twinkle Precure: Hoshi no Uta ni Omoi wo Komete",
          "Bakumatsu Crisis",
          "Haikyuu!! To the Top",
          "Double Decker! Doug & Kirill: Extra",
          "Kochouki: Wakaki Nobunaga",
          "Machikado Mazoku",
          "Toaru Majutsu no Index-tan III",
          "Eiyuu Densetsu: Head On! Master Senshi",
          "Ni no Kuni",
          "Cardfight!! Vanguard: Zoku Koukousei-hen",
          "Beyblade Burst Gachi",
          "Hikaru no Go: Memories",
          "Kekkaishi: Yoshimori no Omoi",
          "Tenkuu no Escaflowne Recaps",
          "Monster Special Edition",
          "Seikai no Senki II Special",
          "Osomatsu-san Movie: Gekijou Koukai Kinen - Original Tanpen Gekijou",
          "Super Mario no Koutsuu Anzen",
          "Bakutsuri Bar Hunter Movie: Nazo no Barcode Trial! Bakutsure! Shinkaigyo Poseidon",
          "Psycho-Pass 3",
          "Tobidasu na! Panda-chan",
          "Youkai Watch Movie 6: Youkai Gakuen Y - Neko wa Hero ni Nareru ka",
          "No Guns Life",
          "Baki: Dai Raitaisai-hen",
          "High Score Girl II",
          "Majo Minarai wo Sagashite",
          "Kidou Senshi Gundam: The Origin - Zenya Akai Suisei",
          "ACCA: 13-ku Kansatsu-ka - Regards",
          "Bakugan: Battle Planet",
          "One Punch Man 2nd Season Commemorative Special",
          "Nanatsu no Taizai: Kamigami no Gekirin",
          "One Punch Man 2nd Season Specials",
          "Amanchu!: Upyopyo Dive Tsukkome! Umi no Sekai!",
          "Detective Conan Movie 24: The Scarlet Bullet",
          "Collar x Malice Movie: Deep Cover",
          "Shokugeki no Souma: Shin no Sara",
          "Tokimeki Runners",
          "Muhyo to Rouji no Mahouritsu Soudan Jimusho 2nd Season",
          "Shinkansen Henkei Robo Shinkalion: Mirai kara Kita Shinsoku no ALFA-X",
          "Akira (Shin Anime)",
          "Orbital Era",
          "Dungeon ni Deai wo Motomeru no wa Machigatteiru Darou ka II: Past & Future",
          "Tsuujou Kougeki ga Zentai Kougeki de Ni-kai Kougeki no Okaasan wa Suki desu ka? Namiuchigiwa no Okaasan wa Suki desu ka?",
          "Honoo no Mirage: Muyou no Michi",
          "Pokemon Masters: Trainers Great Gathering Special Animation",
          "Hero Mask 2nd Season",
          "Digimon Survive: Prologue Movie",
          "Zoids Wild Zero",
          "Cardfight!! Vanguard: Shinemon-hen",
          "Jurassic!",
          "Look Plus One Piece Special Movie",
          "Mitaiken Horizon",
          "Love Live! School Idol Festival All Stars",
          "Haikyuu!! Riku vs. Kuu",
          "Toaru Kagaku no Accelerator: Tobidase Ippou-san - Hachamecha Kaishingeki",
          "Sekaiichi Hatsukoi: Propose-hen",
          "Code Geass: Fukkatsu no Lelouch Picture Drama",
          "Mewkledreamy",
          "Code Geass: Hangyaku no Lelouch Picture Drama - Kiseki no Anniversary",
          "Pokemon (2019)",
          "Btooom!: Bakusatsu Digest",
          "Bakugan: Battle Planet Short Anime",
          "Fruits Basket 2nd Season",
          "Dungeon ni Deai wo Motomeru no wa Machigatteiru Darou ka II OVA",
          "Dungeon ni Deai wo Motomeru no wa Machigatteiru Darou ka III",
          "Kidou Senshi Gundam: Hikaru Inochi Chronicle U.C.",
          "Chuubyou Gekihatsu Boy: Otoko ni Umareta Shukumei Dakara",
          "Major 2nd 2nd Season",
          "Nami yo Kiitekure",
          "Ano Hi no Kokoro wo Toraete",
          "No Guns Life 2nd Season",
          "Mashin Eiyuuden Wataru: Shichikon no Ryuujinmaru",
          "Lupin III: Prison of the Past",
          "Precure Miracle Leap Movie: Minna to no Fushigi na Ichinichi",
          "Sol Levante",
          "Healin' Good♡Precure",
          "Shimajirou no Wow! Movie 8: Shimajirou to Soratobu Fune",
          "Jigoku Shoujo Recap",
          "Youkai Watch Jam: Youkai Gakuen Y - N to no Souguu",
          "Nomad: Megalo Box 2",
          "Haikyuu!! To the Top Part 2",
          "Skate-Leading☆Stars",
          "Kanojo, Okarishimasu",
          "Dr. Stone: Stone Wars",
          "Psycho-Pass 3: First Inspector",
          "Oshiri Tantei Movie 2: Tentou Mushi Iseki no Nazo",
          "Love Live! Nijigasaki Gakuen School Idol Doukoukai",
          "Pokemon Movie 23: Koko",
          "Gundam: G no Reconguista Movie II - Bellri Gekishin",
          "Shokugeki no Souma: Gou no Sara",
          "Dragon Quest: Dai no Daibouken (2020)",
          "World Trigger 2nd Season",
          "Yuukoku no Moriarty",
          "Bungou to Alchemist: Shinpan no Haguruma",
          "Sore Ike! Anpanman: Fuwa Fuwa Fuwaly to Kumo no Kuni",
          "Kimagure Orange☆Road: Summarized Edition",
          "Tomica Kizuna Gattai: Earth Granner",
          "Digimon Adventure:",
          "Chihayafuru 3: Ima Hitotabi no",
          "Log Horizon: Entaku Houkai",
          "Overman King Gainer Recap",
          "Dream",
          "Love Live! Superstar!!",
          "Love Live! Sunshine!! Photo Session",
          "30-pun de Wakaru! Kore made no Love Live! Sunshine!!",
          "Kokoro Magic \"A to Z\"",
          "Digimon Adventure: 20-shuunen Memorial Story",
          "Cardfight!! Vanguard Gaiden: If",
          "A song for You! You? You!!",
          "Noblesse",
          "Bakugan: Armored Alliance",
          "Akudama Drive",
          "Beyblade Burst Sparking",
          "Sentouin, Hakenshimasu!",
          "Bleach: Sennen Kessen-hen",
          "Nanatsu no Taizai: Funnu no Shinpan",
          "AWOL Compression Re-MIX",
          "WIXOSS Diva(A)Live",
          "Majutsushi Orphen Hagure Tabi: Tennin no Isan",
          "Maiko-san Chi no Makanai-san",
          "Asatir: Mirai no Mukashi Banashi",
          "Majutsushi Orphen Hagure Tabi: Kimluck-hen",
          "Oshougatsuda yo! Pokemon Special!",
          "Kabukichou Sherlock OVA",
          "Aria the Crepuscolo",
          "Zo Zo Zo Zombie-kun (TV)",
          "Genjitsu Shugi Yuusha no Oukoku Saikenki",
          "Oshiri Tantei 2nd Season",
          "Oshiri Tantei 3rd Season",
          "Oshiri Tantei 4th Season",
          "Kyuuketsuki Sugu Shinu",
          "Hanyou no Yashahime: Sengoku Otogizoushi",
          "Kocchi Muite Miiko",
          "Bem Movie: Become Human",
          "Getter Robo Memorial",
          "Zetsubou Funsai Shoujo ∞ Amida",
          "Mashin Mukashi Banashi Gekijou",
          "Pokemon no Heisei-shi: Kayou Kara Mokuyou, Soshite Nichiyou e",
          "Edens Zero",
          "Fushigi Dagashiya: Zenitendou Movie - Tsuri Taiyaki",
          "Hei Mao Jing Zhang (2010)",
          "Osomatsu-san 3rd Season",
          "Shakunetsu Kabaddi",
          "Healin' Good♡Precure Movie: Yume no Machi de Kyun! Tto GoGo! Dai Henshin!!",
          "Hei Mao Jing Zhan Zhi Fei Cui Zhi Xing",
          "Hawk no Onayami Soudanshitsu",
          "Super Dragon Ball Heroes: Kessen! Time Patrol vs. Ankoku Ou",
          "Kaizoku Oujo",
          "Machikado Mazoku: 2-choume",
          "Dazzling White Town",
          "Ai no Utagoe wo Kikasete",
          "Yuu☆Yuu☆Hakusho: Eizou Hakusho - Opening Ending Encyclopedia",
          "Zoids Wild Senki",
          "Ginga Eiyuu Densetsu: Die Neue These - Gekitotsu",
          "Muteki-kyuu*Believer / Mirai Harmony",
          "Baraou no Souretsu",
          "Planetarium Pokemon: Aurora kara no Message",
          "Fruits Basket: The Final",
          "Hanma Baki: Son of Ogre",
          "Kanojo, Okarishimasu 2nd Season",
          "Gundam: G no Reconguista Movie III - Uchuu kara no Isan",
          "Gundam: G no Reconguista Movie IV - Gekitou ni Sakebu Ai",
          "Gundam: G no Reconguista Movie V - Shisen wo Koete",
          "Xiexie Xiaohua Mao",
          "Cai Mogu",
          "Kuakou de Qingwa",
          "Xiaomei De Meng",
          "Hao Pengyou",
          "Shen Bi",
          "Wuya Weisheme shi Hei de",
          "Yewai de Zaoyu",
          "Dongguo Xiansheng",
          "Xiao Xiong De Lu Xing",
          "Cuxin de Xiaopang",
          "Wo Zhidao",
          "Jizhi de Shanyang",
          "Da Honghua",
          "Jin Erhuan He Yin Chutou",
          "Pangsao Hui Niangjia",
          "San Ge Linju",
          "Lao Po Po De Zao Shu",
          "Qiang Shang De Hua",
          "Xiao Hou Yu Bai Pang",
          "San Mao Liu Lang Ji",
          "Senlin Zhi Wang",
          "Longxia",
          "Bu Gu Niao Jiao Chi Le",
          "Yi Fu Tong Jin",
          "Gui Hou Fen Shu",
          "Ji Gong Dou Xi Shuai",
          "San Zhi Hu Die",
          "Gezi",
          "Shan Yang He Lang",
          "Shui Mo Donghua Pian Duan",
          "Pa Xiu De Huang Ying",
          "Da Luo Bo",
          "Mu Yang Shao Nian",
          "Cong Ming De Yazi",
          "Mu Tong Yu Gongzhu",
          "Xiao Yanzi",
          "Da Jiangzhang",
          "Renshen Wawa",
          "Taiyang de Xiao Keren",
          "Shuide Benling Da",
          "Xiao Xiliu",
          "Deng Mingtian",
          "Yuukoku no Moriarty Part 2",
          "Xiao Tiezhu",
          "Xiaomao Diaoyu",
          "Xiao Xiao Ying Xiong",
          "Si Yaodai",
          "Yike Da Baicai",
          "Meitounao He Bugaoxing",
          "Sekikashita Kusanagi",
          "Kongque Gongzhu",
          "Jin Se De Hai Luo",
          "Huang Jin Meng",
          "Zhang Fa Mei",
          "Si Dian Ban",
          "Cha Bu Duo",
          "Cao Yuan Ying Xiong Xiao Jie Mei",
          "Hong Jun Qiao",
          "Lu Bian Xin Shi",
          "Bing Shang Yu Xian",
          "Ban Ye Ji Jiao",
          "Hu Shang Ge Wu",
          "Xiao Lin Riji",
          "Hong Ling Jin",
          "Wo Men Ai Nong Cun",
          "Li Ke Zhang Giao Nan Chui Shi Ban",
          "Nan Fang Shao Nian",
          "Xiao Ge Er Lia",
          "Wan Dun Shui Ya Ji Zhan Ge",
          "Fang Xue Yi Hou",
          "Dong Hai Xiao Shao Bing",
          "Xiao Hao Shou",
          "Dai Xiang De Gong Jian",
          "Xiao Balu",
          "Du Kou",
          "Jun Ma Fei Teng",
          "Da Chao Xun Zhi Ye",
          "Chu Fa Zhi Qian",
          "Zhang Zai Wu Li De Zhu Sun",
          "Jin Se De Da Yan",
          "Da Lu De Gushi",
          "Shan Yang Hui Le Jia",
          "Lu Dang Xiao Ying Xiong",
          "Xiao Shi Zhu",
          "Hua Lang Yi Ye",
          "Huo Hong De Yan Biao",
          "Ge Sheng Fei Chu Wuzhishan",
          "Hu Li Da Lieren",
          "Xiao Bai Ge",
          "Xi Gua Pao",
          "Qi Guai De Bing Hao",
          "Xiang Bu Xiang?",
          "Liang Zhang Bu Gao",
          "Tian Cai Za Ji Yan Yuan",
          "Mu Ji Ban Jia",
          "Yu Ren Mai Xie",
          "Xiongmao Bai Huo Shang Dian",
          "Ci Wei Bei Xi Gua",
          "Miao Wu Shi Shui Jiao De?",
          "Qiguai de Qiusai",
          "Wo de Peng You Xiao Hai Tun",
          "Xiao Ma Hu",
          "Hei Gong Ji",
          "Zhang Fei Shen Gua",
          "Zhe Shi Yi Shou Ge",
          "Hei Xiong Qi Yu Ji",
          "Toaru Kagaku no Railgun T: Motto Marutto Railgun",
          "Laolang Qingke",
          "San Zhi Lang",
          "Xiao Ya Ga Ga",
          "Yuan Yuan He Ji Qi Ren",
          "Long Ya Xing",
          "Shan Liang De Xia Wu Dong",
          "Gu Dong Lai Le",
          "Shuai Xiang Lu",
          "Tai Lyu",
          "Nan Guo Xian Sheng",
          "Lao Shan Dao Shi",
          "Zhen Jia Li Kui",
          "Houzi Lao Yue",
          "Xiao Hong Lian He Xiao Lan Lian",
          "Cao Chong Cheng Xiang",
          "Hui Sheng: Xiao Tu Tao Tao De Gushi",
          "Mang Nu Yu Huli",
          "Zhi Ren Guo",
          "Qu Qu",
          "Jia Ru Wo Shi Wu Song",
          "Xiao Xiongmao Xue Mu Jiang",
          "Hu Die Quan",
          "Zhuo Mi Cang",
          "Xiao Ba Jie",
          "Xiao Song Shu Li Fa Shi",
          "Houzi Diao Yu",
          "Lao Shu Jia Nu",
          "Lao Zhu Xuan Mao",
          "Qian……",
          "Kan Men De Hei Gou",
          "Zhang Le Tui De Mang Guo",
          "San Shi Liu Ge Zi",
          "Ma Feng Wo",
          "Kuailede Shuzi",
          "Dr. Stone: Stone Wars - Kaisen Zenya Special Eizou",
          "Chu Xi De Gushi",
          "Xiao Ming Xing",
          "Huo Tong",
          "Shi Shi Zi",
          "Yuan Yuan De Qi Guai Lu Xing",
          "Qiang Zhen Tou",
          "Cao Ren",
          "Hai Li Bu",
          "Da Hua He Xiao Hua",
          "Wupo, Eyu He Xiao Gu Niang",
          "Jiazi Jiu Lu",
          "Da Sao Chu",
          "Mei Ya De Laohu",
          "Nu Huo Bu Tian",
          "Hetalia World★Stars",
          "Zhong Li",
          "Lian Sheng San Ji",
          "Wang",
          "Shui Lu",
          "Xin Zhuang De Men Ling",
          "Chao Ji Fei Zao",
          "Yi Ye Fu Weng",
          "Xiao Cai Feng",
          "Xiao Tu Tao Tao De Gushi: Bu Pa Leng De Da Yi",
          "Xin Hulu Xiongdi",
          "Hulu Xiongdi (Movie)",
          "Lata Dawang Qiyu Ji",
          "Lata Dawang Qiyu Ji (Movie)",
          "Mayi He Da Xiang",
          "You Qiu Bi Ying",
          "Xue Shizi",
          "Feixiang De Gezi",
          "Mama Qing Xiuxi",
          "Laohu Zhuang Ya",
          "Xuanmei Ji",
          "Yue Dayue Xiang",
          "Houzi Dian Bianpao",
          "Yu",
          "Qiangzhe Shanggou",
          "Zhui Shu",
          "Douji",
          "Pi Pi De Gushi",
          "Lan Gu",
          "Bupiao",
          "Xiao E Yu Hong Fangzi",
          "Gudu De Xiao Zhu",
          "Du Mu Qiao",
          "Zhengzhi",
          "Jinbi Guo Youji",
          "Anning",
          "Baxian Yu Tiaozao",
          "Gao Nuren He Ai Zhangfu",
          "Aaron He Lili",
          "Xiao Xiao Huajia",
          "Hong Qiqiu",
          "Ben Gouxiong",
          "Senlin Li De Jin Yueliang",
          "Qiyi De Menggu Ma",
          "Shuke He Beita",
          "Senlin, Xiaoniao He Wo",
          "Gudu De Lily",
          "Ai Ni",
          "Zhong Shu",
          "Qi Niu Nan Xia",
          "Dongtian Li De Xiaotian Shu",
          "Yīban Er",
          "Xiao Dingzi",
          "Lu He Niu",
          "Mofang Dasha",
          "Tebie Chedui",
          "Yinshen Tan Zhang",
          "Hong Bizi",
          "Shi Er Shengxiao",
          "Zigu Yingxiong Chu Shaonian",
          "Kuai Yue Jia Jia Che",
          "Xingxing Tan Zhang",
          "Xiao Jingling Hui Dou",
          "Dahong Ying",
          "Gokushufudou",
          "Bihua Li De Gushi",
          "Diao Longji",
          "Shihang",
          "Shan Ya Zi",
          "Liang Zhi Xiao Kongque",
          "Kongque De Yanhuo",
          "Xiao Dan Ke",
          "Bang Jin Mei Duo",
          "Da Daozei",
          "Xiyou Ji: Wu Jian Baobei",
          "Wo Cuole",
          "Yisheng Yu Huangdi",
          "San",
          "Jing Hua Yuan",
          "Kuaile De Mai Mai Ti",
          "Meijian Chi",
          "Yeban Guai Sheng",
          "Zhi Dou Wuya",
          "Zi Zuo Zi Shou",
          "Zuiba, Erduo He Yanjing",
          "Dong Dong He Gua Gua",
          "Lianhua Gongzhu",
          "Xiao Huangyou De Gushi",
          "Da Qiqiu",
          "Chuntian Li De Xiaotian Shu",
          "Jingquan Jiuhu Dui",
          "Kaixin Guo",
          "Lu Nu",
          "Hu Seng",
          "Jiao Jiao Yu Jing Jing",
          "Da Senlin Li De Xiao Gushi",
          "Xiyou Man Ji",
          "Baixue Gongzhu Yu Gingwa Wangzi",
          "Boshi Wa Dou Bianselong",
          "Riyuetan",
          "Shenma Yu Yaodao",
          "Die Shuangfei",
          "Huan You Diqiu Bashi Tian",
          "Matouqin De Gushi",
          "He De Chuanshuo",
          "Renshen Wangguo",
          "Shen Di",
          "Yao Shu Yu Songshu",
          "Hong Shi Feng",
          "Huoba Jie",
          "Kuerlei Xiang Li",
          "Poshui Jie",
          "Mie Yao Ji",
          "Xue Hu",
          "12 Shengxiao Quanjiafu de Shenqi Shijie",
          "Ouch, Mama!",
          "Guai Cheng",
          "Zhongdian Fuzi",
          "Xiao Caomao",
          "12 Shengxiao Guanjiafu: Wangluo Shijie Lixian",
          "Fengchen Xiao Youxia",
          "Hong Haier Chuanqi",
          "Jia You Kaixin Guo",
          "Bravo Dong Dong",
          "Caibao Xiao Huli",
          "Feilong Tian Jiang",
          "Shui De Zhangfu Li De Zui Yuan",
          "Baiyu Tang",
          "Mogui Xinpian",
          "Tu Hongse De Luotuo",
          "Bai Ge Dao",
          "Da Yingxiong Di Qing",
          "26 Ge Mimi",
          "Tiancai Faming Jia",
          "Zhonghua Meide",
          "Shuai Gou Hei Pi",
          "Shen Gong Chuanqi",
          "Ma Lan Hua (2009)",
          "Jingling Nuhai Xiao Zhuoma",
          "Xi Bai Po",
          "Shaonian Yue Fei Chuanqi",
          "Xi Bai Po 2: Yingxiong Wang Er Xiao",
          "Qiao Xia Shi Lu",
          "Huli Fen Bing",
          "Shei Pa Shei",
          "Mo Feng",
          "Mao Yu Shu",
          "12 Zhi Wenzi He 5 Geren",
          "Shei Shi Guanjun",
          "Guai Laotou Er",
          "Cixi Zuo Huoche",
          "Kaidian",
          "San Zhi Xiao Huli Zhai Putao",
          "Cong Ming De Ben Xiao Zhu",
          "Fanqie Jiang",
          "Gulu Xiansheng",
          "Xiao Bei Liulang Ji",
          "San Shi Liu Ji Qiyu Ji",
          "Maomi Xiao Bei",
          "SD Gundam World Heroes",
          "Sasaki to Miyano",
          "Tropical-Rouge! Precure",
          "Seirei Gensouki",
          "Mewkledreamy Mix!",
          "Code Geass: Dakkan no Z",
          "Atsumare! Minna no Kontematsu-san!",
          "Huli Lie Na",
          "Sun Wukong Yu Tang Lao Ya",
          "OK",
          "Gushu Xin Shuo",
          "Chinzei Hachirou Tametomo",
          "81 Hao Nongchang: Fengkuang de Mai Ji",
          "World Trigger 3rd Season",
          "Dungeon ni Deai wo Motomeru no wa Machigatteiru Darou ka III OVA",
          "Urvan",
          "G.R.M.",
          "Kyou kara Maou! Taizenshu",
          "Shinkansen Henkei Robo Shinkalion Z the Animation",
          "Nanatsu no Taizai Movie 2: Hikari ni Norowareshi Mono-tachi",
          "Niehime to Kemono no Ou",
          "Tropical-Rouge! Precure Petit Tobikome! Collaboration ♡ Dance Party!",
          "Chocomatsu-san: Valentine's Day-hen",
          "Shikkakumon no Saikyou Kenja",
          "Shokei Shoujo no Virgin Road",
          "Dungeon ni Deai wo Motomeru no wa Machigatteiru Darou ka IV: Shin Shou - Meikyuu-hen",
          "Summertime Render",
          "Shinigami Bocchan to Kuro Maid",
          "Detective Conan: The Scarlet Alibi",
          "Blue Reflection Ray",
          "Youkai Watch ♪",
          "Mazica Party",
          "Chocomatsu-san: White Day-hen",
          "Aria the Benedizione",
          "Kitarou Tanjou: Gegege no Nazo",
          "Beyblade Burst Dynamite Battle",
          "Oshiri Tantei 5th Season",
          "Scarlet Nexus",
          "Hanyou no Yashahime: Sengoku Otogizoushi - Ni no Shou",
          "Washimo 9th Season",
          "Dr. Stone: New World",
          "Bakugan: Geogan Rising",
          "Black Clover: Mahou Tei no Ken",
          "Vegeta Super Yasaijin ni Narou-hen",
          "Hetalia World★Stars Specials",
          "Nomad: Megalo Box 2 Short Anime",
          "Gokushufudou Part 2",
          "Oshiri Tantei Movie 3: Sufure-tou no Himitsu",
          "Isekai Shokudou 2",
          "Glory or Dust",
          "Sonny Boy",
          "Overlord IV",
          "Overlord Movie 3: Sei Oukoku-hen",
          "Dragon Ball Super: Super Hero",
          "Love Live! Nijigasaki Gakuen School Idol Doukoukai 2nd Season",
          "Komi-san wa, Comyushou desu.",
          "Lupin III: Part 6",
          "Ao Ashi",
          "Artiswitch",
          "Osomatsu-san: Hipipo-Zoku to Kagayaku Kajitsu",
          "Osomatsu-san: Tamashii no Takoyaki Party to Densetsu no Otomarikai",
          "Gundam Breaker: Battlogue",
          "Dragon Quest: Dai no Daibouken (2020): Bouken no Kiseki, Kore kara no Tabiji",
          "Fruits Basket: Prelude",
          "Detective Conan Movie 25: Halloween no Hanayome",
          "Pokemon (2019): Natsuyasumi Chokuzen 1-jikan Special",
          "Hakuouki OVA (2021)",
          "Goodbye, Don Glees!",
          "Blue Reflection Ray Special",
          "Play the Lupin: Clips x Parts Collection",
          "Mini Van Large",
          "Sore Ike! Anpanman: Rhythm de Utaou! Anpanman Natsumatsuri",
          "Tropical-Rouge! Precure Movie: Yuki no Princess to Kiseki no Yubiwa!",
          "Digimon Ghost Game",
          "Hakozume: Kouban Joshi no Gyakushuu",
          "Pokemon Evolutions",
          "Yuukoku no Moriarty OVA",
          "Kidou Senshi Gundam: Cucuruz Doan no Shima",
          "Kidou Senshi Gundam: Suisei no Majo",
          "Kimi wo Aishita Hitori no Boku e",
          "Shinigami Bocchan to Kuro Maid 2nd Season",
          "Hachigatsu no Cinderella Nine: Tsuzuku, Monogatari",
          "Genjitsu Shugi Yuusha no Oukoku Saikenki Part 2",
          "Gundam UC x Nike SB",
          "Sugar Apple Fairy Tale",
          "Edens Zero 2nd Season",
          "Meitantei Conan: Hannin no Hanzawa-san",
          "Meitantei Conan: Zero no Tea Time",
          "Hajimari wa Kimi no Sora",
          "Kidou Senshi Gundam UC: Zenwa Digest - Banagher no Tabiji",
          "Lupin III: Part 6 - Jidai",
          "Youkai Watch ♪ Movie 7: Keita to Orecchi no Deai Hen da Nyan ♪ Wa, Watakushi mo ♪♪",
          "Ijiranaide, Nagatoro-san 2nd Attack",
          "Love Live! Superstar!! 2nd Season",
          "Delicious Party♡Precure",
          "Kyuuketsuki Sugu Shinu 2",
          "One Piece Film: Red",
          "Ninjala (TV)",
          "Kidou Senshi Gundam 00 CB Chara",
          "Garugaku. II: Lucky Stars",
          "Chinzei Hachirou Tametomo (2021)",
          "Artiswitch Picture Drama",
          "Megaton-kyuu Musashi Pilot",
          "Yowamushi Pedal: Limit Break",
          "Megaton-kyuu Musashi 2nd Season",
          "Nanatsu no Maken ga Shihai suru",
          "Dr. Stone: Ryuusui",
          "Komi-san wa, Comyushou desu. 2nd Season",
          "Sasaki to Miyano: Koi ni Kizuku Mae no Chotto Shita Hanashi.",
          "Pokemon (2019): Kami to Yobareshi Arceus",
          "Soukyuu no Fafner: Dead Aggressor - Behind the Line",
          "One Piece: Barto no Himitsu no Heya!",
          "Anata wo Hitokoto de Arawashite Kudasai: no Shitsumon ga Nigate da.",
          "Oshiri Tantei 6th Season",
          "Mushikaburi-hime",
          "Delicious Party♡Precure Movie: Yume Miru Oko-sama Lunch!",
          "American Rabbit no Bouken",
          "Kyojin no Hoshi: Tokubetsu-hen - Hanagata Mitsuru",
          "The Kabocha Wine: Ore to Aitsu no Shinkon Ryokou!?",
          "Inamori Asuto no Soccer Kyoushitsu",
          "Satsuriku Tenshi Jibril PV",
          "One Piece: Otoshidama Special - Tokubetsu Hou Mugiwara Kaizoku-dan no Himitsu!",
          "One Piece: Mugiwara no Ichimi kara no Kansen Yobou Message",
          "Ami no Monomane 150 Renpatsu",
          "15-fun de Wakaru Inazuma Eleven: Ares no Tenbin",
          "Bakugan: Evolutions",
          "Hanma Baki: Son of Ogre 2nd Season",
          "Wo Shi Da Xiongmao",
          "Kurokami The Animation: Akane-sensei no Kankokugo Kouza",
          "Rakudai Majo: Fuuka to Yami no Majo",
          "Sasaki to Miyano Movie: Sotsugyou-hen",
          "Baraou no Souretsu Recap",
          "Kidou Senshi Gundam: Tekketsu no Orphans - Tokubetsu-hen",
          "Isekai wa Smartphone to Tomo ni. 2",
          "Cool Doji Danshi",
          "Digimon Ghost Game Recap",
          "Detective Conan: Love Story at Police Headquarters - Wedding Eve",
          "Ginga Eiyuu Densetsu: Die Neue These - Sakubou",
          "Wo Men de Dong Ao",
          "Love Live! Nijigasaki Gakuen School Idol Doukoukai Recap",
          "Itou Junji: Maniac",
          "Slam Dunk: Ketsui no Shouhoku Basket-bu",
          "Kidou Senshi Gundam: Suisei no Majo - Prologue",
          "Kin no Kuni Mizu no Kuni",
          "One Piece: Dai Tettei Kaibou! Kouzuki Oden Densetsu!",
          "Genjitsu no Yohane: Sunshine in the Mirror",
          "Chi.: Chikyuu no Undou ni Tsuite",
          "Knights of the Zodiac: Saint Seiya - Battle for Sanctuary",
          "Dragon Ball Z x Kao",
          "Dungeon ni Deai wo Motomeru no wa Machigatteiru Darou ka IV Episode 0",
          "Hirano to Kagiura",
          "Startliner",
          "Sore Ike! Anpanman: Tanoshiku Teasobi Mama ni Natta Kokin-chan!?",
          "Dark Gathering",
          "Kidou Senshi Gundam-san: Gekijou Manner CM",
          "Kaijuu 8-gou",
          "Mix: Meisei Story 2nd Season - Nidome no Natsu, Sora no Mukou e",
          "Haikyuu!! Final",
          "Psycho-Pass Movie: Providence",
          "Sakura Taisen Special",
          "One Piece: Densetsu no Log! Akagami no Shanks!",
          "Sousou no Frieren",
          "Kanojo, Okarishimasu 3rd Season",
          "Nijiyon Animation",
          "Momoiro Sisters: Idol Densetsu Momoko!?",
          "Lupin III vs. Cat's Eye",
          "Dungeon ni Deai wo Motomeru no wa Machigatteiru Darou ka IV: Fuka Shou - Yakusai-hen",
          "Yamada-kun to Lv999 no Koi wo Suru",
          "Gokushufudou Season 2",
          "Majutsushi Orphen Hagure Tabi: Urbanrama-hen",
          "Kidou Senshi Gundam: Suisei no Majo Season 2",
          "One Piece: Dai Tettei Kaibou! Gekitou! 5-nin no Shin Sedai",
          "Road of Naruto",
          "Love Live! Superstar!! 3rd Season",
          "Tengoku Daimakyou",
          "Oshiri Tantei 7th Season",
          "Hi-DRIVERS!",
          "Detective Conan Movie 26: Kurogane no Submarine",
          "Kidou Senshi Gundam: Suisei no Majo Recap",
          "Love Live! Nijigasaki Gakuen School Idol Doukoukai: Next Sky",
          "Hirogaru Sky! Precure",
          "G2.5",
          "Detective Conan: Haibara Ai Monogatari - Kurogane no Mystery Train",
          "AI no Idenshi",
          "Pokemon (2019): Harukanaru Aoi Sora",
          "Pokemon: Mezase Pokemon Master",
          "Pokemon (2023)",
          "One Piece: Uchuu tte Omoshiree! Hoshizora Jima-hen",
          "One Piece The Planetarium",
          "One Piece: Dai Gekisen Tokushuu! Mugiwara no Ichimi vs. Tobi Roppou",
          "Minami no Shima no Chiisana Hikouki Birdy",
          "Zhongguo Qi Tan",
          "Bleach: Sennen Kessen-hen - Ketsubetsu-tan",
          "Juubee Ninpuuchou Burst",
          "Tousouchuu: Great Mission",
          "Kanojo, Okarishimasu 2nd Season: Kanokari Call",
          "Nijiyon Animation Specials",
          "Sore Ike! Anpanman Movie: Roboly to Pokapoka Present",
          "Bleach: Shuku! Rukia Dakkan! Kagayaku! Shinigami Juuban Shoubu! Mitai Shinigami Doon to Misemasu Special",
          "Niehime to Kemono no Ou Mini Anime",
          "Shimajirou no Wow! Movie 9: Shimajirou to Miracle-jima no Nanairo Carnation",
          "Biohazard: Death Island",
          "Noa no Ichinichi",
          "Qiaohu Tansuo Qimiao Shijie",
          "Qiaohu Tansuo Qimiao Shijie 2nd Season",
          "Qiaohu Tansuo Qimiao Shijie 3rd Season",
          "Precure All Stars Movie F",
          "Mahoutsukai Precure! 2",
          "Majutsushi Orphen Hagure Tabi: Seiiki-hen",
          "Hawk no Onayami Soudanshitsu Special",
          "Sugar Apple Fairy Tale Part 2",
          "Oooku",
          "Edens Zero (Recap Movie)",
          "The Sukkiri Crawlers",
          "Girls Band Cry",
          "Hokkyoku Hyakkaten no Concierge-san",
          "Kidou Senshi Gundam: Suisei no Majo Season 2 Recap",
          "One Piece: Dai Gekisen Tokushuu! Zoro vs. Ookanban!",
          "Kuroko no Basket: Zero Step",
          "Pon no Michi",
          "Anpanman ga Umareta Hi",
          "Macross (Shinsaku Animation)",
          "Dynamic Venus"
         ],
         "parents": [
          "",
          "Studios",
          "Studios",
          "Studios",
          "Studios",
          "Studios",
          "Studios",
          "Studios",
          "Studios",
          "Studios",
          "Studios",
          "Sunrise",
          "Madhouse",
          "Sunrise",
          "Toei Animation",
          "J.C.Staff",
          "Madhouse",
          "Pierrot",
          "Toei Animation",
          "Toei Animation",
          "Madhouse",
          "Sunrise",
          "Studio Deen",
          "OLM",
          "Production I.G",
          "Studio Deen",
          "J.C.Staff",
          "Madhouse",
          "Madhouse",
          "J.C.Staff",
          "Sunrise",
          "Sunrise",
          "Sunrise",
          "Sunrise",
          "Sunrise",
          "Sunrise",
          "Sunrise",
          "Sunrise",
          "Sunrise",
          "Sunrise",
          "Sunrise",
          "Sunrise",
          "Sunrise",
          "Sunrise",
          "Sunrise",
          "Sunrise",
          "Sunrise",
          "Sunrise",
          "Sunrise",
          "Sunrise",
          "TMS Entertainment",
          "Pierrot",
          "Toei Animation",
          "Studio Deen",
          "Studio Deen",
          "Production I.G",
          "Studio Deen",
          "Studio Deen",
          "Pierrot",
          "Pierrot",
          "Pierrot",
          "Pierrot",
          "Pierrot",
          "Studio Deen",
          "Madhouse",
          "Pierrot",
          "Toei Animation",
          "Toei Animation",
          "Studio Deen",
          "J.C.Staff",
          "Production I.G",
          "Pierrot",
          "Madhouse",
          "Madhouse",
          "Studio Deen",
          "Madhouse",
          "Pierrot",
          "Sunrise",
          "J.C.Staff",
          "Toei Animation",
          "Studio Deen",
          "Madhouse",
          "Pierrot",
          "Sunrise",
          "Toei Animation",
          "Studio Deen",
          "J.C.Staff",
          "TMS Entertainment",
          "Production I.G",
          "Studio Deen",
          "Madhouse",
          "Studio Deen",
          "J.C.Staff",
          "Studio Deen",
          "Toei Animation",
          "Toei Animation",
          "Studio Deen",
          "Toei Animation",
          "Madhouse",
          "J.C.Staff",
          "TMS Entertainment",
          "Pierrot",
          "Pierrot",
          "Madhouse",
          "Studio Deen",
          "OLM",
          "Pierrot",
          "Studio Deen",
          "Madhouse",
          "Sunrise",
          "Toei Animation",
          "Studio Deen",
          "J.C.Staff",
          "Madhouse",
          "Madhouse",
          "Madhouse",
          "Madhouse",
          "J.C.Staff",
          "Madhouse",
          "Pierrot",
          "J.C.Staff",
          "TMS Entertainment",
          "TMS Entertainment",
          "Sunrise",
          "TMS Entertainment",
          "Madhouse",
          "OLM",
          "Sunrise",
          "Madhouse",
          "Madhouse",
          "Toei Animation",
          "OLM",
          "Pierrot",
          "Pierrot",
          "Madhouse",
          "Madhouse",
          "Sunrise",
          "Madhouse",
          "OLM",
          "Sunrise",
          "Pierrot",
          "Sunrise",
          "Toei Animation",
          "Studio Deen",
          "J.C.Staff",
          "J.C.Staff",
          "Pierrot",
          "Toei Animation",
          "Toei Animation",
          "Toei Animation",
          "Toei Animation",
          "J.C.Staff",
          "Studio Deen",
          "Toei Animation",
          "J.C.Staff",
          "Madhouse",
          "Madhouse",
          "Madhouse",
          "J.C.Staff",
          "Pierrot",
          "Pierrot",
          "Madhouse",
          "Pierrot",
          "J.C.Staff",
          "Sunrise",
          "Sunrise",
          "Sunrise",
          "Sunrise",
          "Sunrise",
          "Studio Deen",
          "Madhouse",
          "Production I.G",
          "TMS Entertainment",
          "Pierrot",
          "Madhouse",
          "Studio Deen",
          "Studio Deen",
          "Sunrise",
          "Madhouse",
          "Madhouse",
          "J.C.Staff",
          "J.C.Staff",
          "Pierrot",
          "Studio Deen",
          "Madhouse",
          "Sunrise",
          "Sunrise",
          "Sunrise",
          "Sunrise",
          "J.C.Staff",
          "OLM",
          "Toei Animation",
          "Toei Animation",
          "Toei Animation",
          "Toei Animation",
          "Toei Animation",
          "Toei Animation",
          "Toei Animation",
          "Production I.G",
          "Production I.G",
          "Production I.G",
          "J.C.Staff",
          "Madhouse",
          "OLM",
          "OLM",
          "Sunrise",
          "Studio Deen",
          "Pierrot",
          "Madhouse",
          "Studio Deen",
          "Madhouse",
          "Toei Animation",
          "TMS Entertainment",
          "Sunrise",
          "J.C.Staff",
          "Toei Animation",
          "Madhouse",
          "Production I.G",
          "Production I.G",
          "OLM",
          "OLM",
          "Toei Animation",
          "Toei Animation",
          "Toei Animation",
          "J.C.Staff",
          "J.C.Staff",
          "Studio Deen",
          "Madhouse",
          "Toei Animation",
          "Toei Animation",
          "J.C.Staff",
          "OLM",
          "OLM",
          "OLM",
          "OLM",
          "Madhouse",
          "J.C.Staff",
          "Sunrise",
          "Madhouse",
          "Sunrise",
          "Production I.G",
          "Sunrise",
          "Pierrot",
          "Toei Animation",
          "Toei Animation",
          "Studio Deen",
          "TMS Entertainment",
          "Sunrise",
          "Pierrot",
          "Madhouse",
          "Madhouse",
          "Madhouse",
          "J.C.Staff",
          "Toei Animation",
          "Pierrot",
          "Pierrot",
          "Madhouse",
          "Madhouse",
          "Production I.G",
          "Sunrise",
          "J.C.Staff",
          "Madhouse",
          "Madhouse",
          "TMS Entertainment",
          "Studio Deen",
          "Toei Animation",
          "Madhouse",
          "Madhouse",
          "J.C.Staff",
          "Madhouse",
          "Madhouse",
          "J.C.Staff",
          "Pierrot",
          "Studio Deen",
          "OLM",
          "Madhouse",
          "Madhouse",
          "Madhouse",
          "J.C.Staff",
          "Toei Animation",
          "Sunrise",
          "Sunrise",
          "Studio Deen",
          "Pierrot",
          "Madhouse",
          "Toei Animation",
          "OLM",
          "Toei Animation",
          "J.C.Staff",
          "J.C.Staff",
          "Toei Animation",
          "Toei Animation",
          "Toei Animation",
          "J.C.Staff",
          "Toei Animation",
          "Studio Deen",
          "Studio Deen",
          "J.C.Staff",
          "TMS Entertainment",
          "Madhouse",
          "Madhouse",
          "Pierrot",
          "Pierrot",
          "Pierrot",
          "J.C.Staff",
          "TMS Entertainment",
          "TMS Entertainment",
          "TMS Entertainment",
          "Sunrise",
          "J.C.Staff",
          "Sunrise",
          "Studio Deen",
          "Production I.G",
          "J.C.Staff",
          "Studio Deen",
          "Production I.G",
          "Production I.G",
          "Toei Animation",
          "Production I.G",
          "Production I.G",
          "J.C.Staff",
          "Pierrot",
          "Toei Animation",
          "Madhouse",
          "Pierrot",
          "Toei Animation",
          "Madhouse",
          "OLM",
          "Toei Animation",
          "Toei Animation",
          "OLM",
          "Production I.G",
          "Sunrise",
          "Sunrise",
          "J.C.Staff",
          "J.C.Staff",
          "J.C.Staff",
          "Production I.G",
          "Toei Animation",
          "Madhouse",
          "Sunrise",
          "Studio Deen",
          "Pierrot",
          "Pierrot",
          "Studio Deen",
          "Studio Deen",
          "Madhouse",
          "Sunrise",
          "Toei Animation",
          "Toei Animation",
          "Toei Animation",
          "Toei Animation",
          "Toei Animation",
          "Toei Animation",
          "Toei Animation",
          "Toei Animation",
          "Toei Animation",
          "Toei Animation",
          "Toei Animation",
          "Toei Animation",
          "Toei Animation",
          "Toei Animation",
          "Toei Animation",
          "Toei Animation",
          "Studio Deen",
          "Toei Animation",
          "Pierrot",
          "TMS Entertainment",
          "Studio Deen",
          "Sunrise",
          "OLM",
          "Toei Animation",
          "Toei Animation",
          "Toei Animation",
          "Sunrise",
          "Sunrise",
          "Studio Deen",
          "Pierrot",
          "Madhouse",
          "Toei Animation",
          "Madhouse",
          "Toei Animation",
          "TMS Entertainment",
          "Production I.G",
          "Madhouse",
          "Toei Animation",
          "Toei Animation",
          "Toei Animation",
          "Toei Animation",
          "Toei Animation",
          "Toei Animation",
          "Toei Animation",
          "Toei Animation",
          "Studio Deen",
          "Studio Deen",
          "Studio Deen",
          "Studio Deen",
          "Production I.G",
          "J.C.Staff",
          "Madhouse",
          "J.C.Staff",
          "J.C.Staff",
          "Madhouse",
          "Madhouse",
          "Pierrot",
          "Pierrot",
          "Madhouse",
          "OLM",
          "Madhouse",
          "Production I.G",
          "Madhouse",
          "Toei Animation",
          "Toei Animation",
          "Production I.G",
          "J.C.Staff",
          "Pierrot",
          "TMS Entertainment",
          "Madhouse",
          "Madhouse",
          "J.C.Staff",
          "Toei Animation",
          "Pierrot",
          "Sunrise",
          "Sunrise",
          "Sunrise",
          "Toei Animation",
          "Production I.G",
          "J.C.Staff",
          "Madhouse",
          "Studio Deen",
          "Madhouse",
          "J.C.Staff",
          "OLM",
          "OLM",
          "OLM",
          "OLM",
          "OLM",
          "OLM",
          "Toei Animation",
          "Sunrise",
          "OLM",
          "Toei Animation",
          "Sunrise",
          "Toei Animation",
          "J.C.Staff",
          "Pierrot",
          "Madhouse",
          "J.C.Staff",
          "Toei Animation",
          "Toei Animation",
          "J.C.Staff",
          "J.C.Staff",
          "Pierrot",
          "J.C.Staff",
          "J.C.Staff",
          "J.C.Staff",
          "J.C.Staff",
          "J.C.Staff",
          "Madhouse",
          "Pierrot",
          "Madhouse",
          "Studio Deen",
          "Studio Deen",
          "Production I.G",
          "J.C.Staff",
          "Toei Animation",
          "Madhouse",
          "Toei Animation",
          "Sunrise",
          "J.C.Staff",
          "Toei Animation",
          "Madhouse",
          "Sunrise",
          "Toei Animation",
          "Toei Animation",
          "Toei Animation",
          "Toei Animation",
          "Toei Animation",
          "Sunrise",
          "J.C.Staff",
          "Madhouse",
          "Sunrise",
          "Sunrise",
          "Toei Animation",
          "Toei Animation",
          "Toei Animation",
          "Toei Animation",
          "Toei Animation",
          "Toei Animation",
          "Toei Animation",
          "Toei Animation",
          "Sunrise",
          "Sunrise",
          "Sunrise",
          "Sunrise",
          "Madhouse",
          "Madhouse",
          "Toei Animation",
          "Pierrot",
          "Madhouse",
          "Pierrot",
          "Toei Animation",
          "Studio Deen",
          "Sunrise",
          "Madhouse",
          "Toei Animation",
          "Toei Animation",
          "Madhouse",
          "Toei Animation",
          "Sunrise",
          "Production I.G",
          "J.C.Staff",
          "Studio Deen",
          "Toei Animation",
          "Madhouse",
          "Production I.G",
          "Toei Animation",
          "J.C.Staff",
          "J.C.Staff",
          "Toei Animation",
          "Madhouse",
          "Toei Animation",
          "Toei Animation",
          "TMS Entertainment",
          "TMS Entertainment",
          "TMS Entertainment",
          "TMS Entertainment",
          "TMS Entertainment",
          "TMS Entertainment",
          "TMS Entertainment",
          "Studio Deen",
          "Studio Deen",
          "OLM",
          "Toei Animation",
          "J.C.Staff",
          "Sunrise",
          "Sunrise",
          "Sunrise",
          "Sunrise",
          "Sunrise",
          "Sunrise",
          "Sunrise",
          "Sunrise",
          "OLM",
          "Production I.G",
          "TMS Entertainment",
          "TMS Entertainment",
          "TMS Entertainment",
          "TMS Entertainment",
          "TMS Entertainment",
          "TMS Entertainment",
          "TMS Entertainment",
          "Madhouse",
          "Toei Animation",
          "Sunrise",
          "Studio Deen",
          "Madhouse",
          "Pierrot",
          "Studio Deen",
          "Pierrot",
          "TMS Entertainment",
          "Sunrise",
          "Sunrise",
          "Sunrise",
          "Sunrise",
          "Sunrise",
          "Sunrise",
          "Sunrise",
          "Sunrise",
          "Sunrise",
          "Sunrise",
          "J.C.Staff",
          "Pierrot",
          "TMS Entertainment",
          "Madhouse",
          "J.C.Staff",
          "Pierrot",
          "Pierrot",
          "Toei Animation",
          "TMS Entertainment",
          "TMS Entertainment",
          "J.C.Staff",
          "TMS Entertainment",
          "TMS Entertainment",
          "Madhouse",
          "Production I.G",
          "OLM",
          "OLM",
          "OLM",
          "J.C.Staff",
          "OLM",
          "Toei Animation",
          "Madhouse",
          "Toei Animation",
          "Sunrise",
          "Toei Animation",
          "Toei Animation",
          "OLM",
          "J.C.Staff",
          "Studio Deen",
          "TMS Entertainment",
          "J.C.Staff",
          "TMS Entertainment",
          "OLM",
          "OLM",
          "Production I.G",
          "TMS Entertainment",
          "J.C.Staff",
          "Studio Deen",
          "Studio Deen",
          "Sunrise",
          "Sunrise",
          "Studio Deen",
          "OLM",
          "Studio Deen",
          "Madhouse",
          "Studio Deen",
          "OLM",
          "Sunrise",
          "Sunrise",
          "J.C.Staff",
          "TMS Entertainment",
          "Production I.G",
          "OLM",
          "Madhouse",
          "TMS Entertainment",
          "Pierrot",
          "J.C.Staff",
          "TMS Entertainment",
          "Sunrise",
          "Toei Animation",
          "TMS Entertainment",
          "J.C.Staff",
          "Toei Animation",
          "J.C.Staff",
          "Madhouse",
          "Madhouse",
          "Madhouse",
          "Pierrot",
          "Production I.G",
          "Sunrise",
          "J.C.Staff",
          "Pierrot",
          "Madhouse",
          "Studio Deen",
          "Toei Animation",
          "OLM",
          "J.C.Staff",
          "Toei Animation",
          "Madhouse",
          "Pierrot",
          "Studio Deen",
          "Pierrot",
          "TMS Entertainment",
          "Sunrise",
          "Madhouse",
          "Studio Deen",
          "Studio Deen",
          "Production I.G",
          "Madhouse",
          "Madhouse",
          "Madhouse",
          "Madhouse",
          "Madhouse",
          "Madhouse",
          "Toei Animation",
          "Toei Animation",
          "J.C.Staff",
          "Pierrot",
          "Toei Animation",
          "TMS Entertainment",
          "Production I.G",
          "J.C.Staff",
          "Sunrise",
          "Sunrise",
          "Madhouse",
          "Sunrise",
          "Sunrise",
          "Sunrise",
          "Sunrise",
          "Sunrise",
          "Pierrot",
          "J.C.Staff",
          "TMS Entertainment",
          "Madhouse",
          "Madhouse",
          "Madhouse",
          "OLM",
          "Production I.G",
          "OLM",
          "J.C.Staff",
          "J.C.Staff",
          "Pierrot",
          "Toei Animation",
          "Sunrise",
          "Sunrise",
          "Sunrise",
          "Sunrise",
          "Toei Animation",
          "Madhouse",
          "Toei Animation",
          "OLM",
          "Toei Animation",
          "Madhouse",
          "TMS Entertainment",
          "Madhouse",
          "Madhouse",
          "Studio Deen",
          "Madhouse",
          "Madhouse",
          "Sunrise",
          "J.C.Staff",
          "J.C.Staff",
          "Madhouse",
          "Madhouse",
          "Sunrise",
          "Sunrise",
          "Pierrot",
          "Pierrot",
          "Studio Deen",
          "Studio Deen",
          "Madhouse",
          "OLM",
          "Toei Animation",
          "Toei Animation",
          "Toei Animation",
          "Toei Animation",
          "Studio Deen",
          "Madhouse",
          "Toei Animation",
          "Madhouse",
          "Madhouse",
          "Sunrise",
          "TMS Entertainment",
          "TMS Entertainment",
          "Sunrise",
          "Sunrise",
          "Sunrise",
          "Madhouse",
          "Madhouse",
          "Toei Animation",
          "Toei Animation",
          "J.C.Staff",
          "Studio Deen",
          "J.C.Staff",
          "Madhouse",
          "Toei Animation",
          "Madhouse",
          "Madhouse",
          "Studio Deen",
          "Studio Deen",
          "Toei Animation",
          "Studio Deen",
          "Studio Deen",
          "Madhouse",
          "Pierrot",
          "Madhouse",
          "Toei Animation",
          "J.C.Staff",
          "Production I.G",
          "Sunrise",
          "Studio Deen",
          "Toei Animation",
          "Pierrot",
          "Pierrot",
          "Sunrise",
          "Pierrot",
          "Pierrot",
          "Pierrot",
          "Sunrise",
          "Toei Animation",
          "Pierrot",
          "J.C.Staff",
          "Toei Animation",
          "Toei Animation",
          "Toei Animation",
          "Pierrot",
          "OLM",
          "Madhouse",
          "J.C.Staff",
          "Madhouse",
          "Madhouse",
          "Madhouse",
          "Pierrot",
          "Production I.G",
          "Pierrot",
          "Madhouse",
          "Studio Deen",
          "Toei Animation",
          "Toei Animation",
          "Sunrise",
          "Pierrot",
          "Pierrot",
          "Sunrise",
          "Sunrise",
          "Madhouse",
          "Pierrot",
          "Pierrot",
          "Pierrot",
          "Madhouse",
          "TMS Entertainment",
          "Madhouse",
          "Toei Animation",
          "TMS Entertainment",
          "TMS Entertainment",
          "Madhouse",
          "Pierrot",
          "Madhouse",
          "Sunrise",
          "Sunrise",
          "OLM",
          "Toei Animation",
          "Toei Animation",
          "TMS Entertainment",
          "Madhouse",
          "Madhouse",
          "Toei Animation",
          "Toei Animation",
          "Toei Animation",
          "Toei Animation",
          "Toei Animation",
          "Toei Animation",
          "Madhouse",
          "J.C.Staff",
          "Sunrise",
          "Toei Animation",
          "Pierrot",
          "Toei Animation",
          "Toei Animation",
          "Toei Animation",
          "Sunrise",
          "Sunrise",
          "Sunrise",
          "Pierrot",
          "Sunrise",
          "Sunrise",
          "Toei Animation",
          "Production I.G",
          "Toei Animation",
          "Sunrise",
          "Sunrise",
          "Sunrise",
          "Sunrise",
          "Sunrise",
          "Sunrise",
          "Sunrise",
          "TMS Entertainment",
          "Studio Deen",
          "Toei Animation",
          "Sunrise",
          "TMS Entertainment",
          "Pierrot",
          "Pierrot",
          "OLM",
          "J.C.Staff",
          "Toei Animation",
          "Toei Animation",
          "Studio Deen",
          "Production I.G",
          "Sunrise",
          "Toei Animation",
          "Toei Animation",
          "TMS Entertainment",
          "Toei Animation",
          "Toei Animation",
          "Sunrise",
          "Sunrise",
          "Toei Animation",
          "Madhouse",
          "Madhouse",
          "Madhouse",
          "Production I.G",
          "Production I.G",
          "TMS Entertainment",
          "Pierrot",
          "Pierrot",
          "J.C.Staff",
          "Toei Animation",
          "Madhouse",
          "Toei Animation",
          "Pierrot",
          "J.C.Staff",
          "J.C.Staff",
          "Sunrise",
          "TMS Entertainment",
          "Toei Animation",
          "Madhouse",
          "Toei Animation",
          "Toei Animation",
          "Toei Animation",
          "Madhouse",
          "TMS Entertainment",
          "TMS Entertainment",
          "TMS Entertainment",
          "TMS Entertainment",
          "Sunrise",
          "Toei Animation",
          "J.C.Staff",
          "Toei Animation",
          "Toei Animation",
          "Studio Deen",
          "Studio Deen",
          "TMS Entertainment",
          "Sunrise",
          "Sunrise",
          "Sunrise",
          "Sunrise",
          "Sunrise",
          "Sunrise",
          "Madhouse",
          "Production I.G",
          "TMS Entertainment",
          "Sunrise",
          "Sunrise",
          "Sunrise",
          "Sunrise",
          "J.C.Staff",
          "Toei Animation",
          "Pierrot",
          "TMS Entertainment",
          "Toei Animation",
          "TMS Entertainment",
          "Production I.G",
          "Production I.G",
          "J.C.Staff",
          "Madhouse",
          "Sunrise",
          "Sunrise",
          "Pierrot",
          "Studio Deen",
          "Madhouse",
          "Studio Deen",
          "Sunrise",
          "Madhouse",
          "OLM",
          "Madhouse",
          "J.C.Staff",
          "Sunrise",
          "Production I.G",
          "OLM",
          "OLM",
          "OLM",
          "OLM",
          "OLM",
          "OLM",
          "OLM",
          "Sunrise",
          "J.C.Staff",
          "Toei Animation",
          "J.C.Staff",
          "Sunrise",
          "Sunrise",
          "Sunrise",
          "Madhouse",
          "Madhouse",
          "Madhouse",
          "Madhouse",
          "J.C.Staff",
          "OLM",
          "J.C.Staff",
          "Toei Animation",
          "Toei Animation",
          "Toei Animation",
          "Toei Animation",
          "Sunrise",
          "TMS Entertainment",
          "Toei Animation",
          "Sunrise",
          "Pierrot",
          "Toei Animation",
          "Toei Animation",
          "TMS Entertainment",
          "Toei Animation",
          "Toei Animation",
          "J.C.Staff",
          "J.C.Staff",
          "OLM",
          "OLM",
          "Pierrot",
          "Sunrise",
          "Pierrot",
          "Studio Deen",
          "Toei Animation",
          "Sunrise",
          "TMS Entertainment",
          "Sunrise",
          "J.C.Staff",
          "Toei Animation",
          "Toei Animation",
          "Toei Animation",
          "OLM",
          "Sunrise",
          "Studio Deen",
          "Toei Animation",
          "Toei Animation",
          "Studio Deen",
          "Studio Deen",
          "Pierrot",
          "Toei Animation",
          "Madhouse",
          "Sunrise",
          "Madhouse",
          "Madhouse",
          "Madhouse",
          "Madhouse",
          "Studio Deen",
          "Madhouse",
          "Production I.G",
          "Madhouse",
          "Madhouse",
          "Toei Animation",
          "Sunrise",
          "TMS Entertainment",
          "Toei Animation",
          "Toei Animation",
          "Toei Animation",
          "TMS Entertainment",
          "Toei Animation",
          "Toei Animation",
          "Toei Animation",
          "Toei Animation",
          "Toei Animation",
          "Toei Animation",
          "Pierrot",
          "Sunrise",
          "J.C.Staff",
          "Pierrot",
          "Pierrot",
          "Toei Animation",
          "Toei Animation",
          "J.C.Staff",
          "Toei Animation",
          "Sunrise",
          "Production I.G",
          "Production I.G",
          "Production I.G",
          "Studio Deen",
          "J.C.Staff",
          "Sunrise",
          "Sunrise",
          "Toei Animation",
          "Madhouse",
          "Pierrot",
          "Madhouse",
          "Madhouse",
          "Sunrise",
          "Madhouse",
          "Toei Animation",
          "Toei Animation",
          "Toei Animation",
          "Toei Animation",
          "J.C.Staff",
          "J.C.Staff",
          "Toei Animation",
          "Toei Animation",
          "Pierrot",
          "J.C.Staff",
          "Sunrise",
          "Production I.G",
          "Toei Animation",
          "Toei Animation",
          "Toei Animation",
          "Toei Animation",
          "Toei Animation",
          "Toei Animation",
          "Toei Animation",
          "Toei Animation",
          "Toei Animation",
          "Toei Animation",
          "Toei Animation",
          "Sunrise",
          "Production I.G",
          "J.C.Staff",
          "Studio Deen",
          "Sunrise",
          "Toei Animation",
          "Sunrise",
          "Pierrot",
          "Sunrise",
          "Sunrise",
          "Toei Animation",
          "Toei Animation",
          "Studio Deen",
          "TMS Entertainment",
          "Production I.G",
          "Toei Animation",
          "Toei Animation",
          "Pierrot",
          "Pierrot",
          "Sunrise",
          "J.C.Staff",
          "J.C.Staff",
          "J.C.Staff",
          "Production I.G",
          "Sunrise",
          "Toei Animation",
          "Sunrise",
          "Sunrise",
          "Production I.G",
          "Studio Deen",
          "Toei Animation",
          "J.C.Staff",
          "Studio Deen",
          "Studio Deen",
          "Toei Animation",
          "Toei Animation",
          "Studio Deen",
          "Studio Deen",
          "Production I.G",
          "Sunrise",
          "Sunrise",
          "Sunrise",
          "TMS Entertainment",
          "Toei Animation",
          "Madhouse",
          "Pierrot",
          "Sunrise",
          "Sunrise",
          "Toei Animation",
          "Production I.G",
          "Madhouse",
          "J.C.Staff",
          "Toei Animation",
          "J.C.Staff",
          "Toei Animation",
          "Production I.G",
          "Madhouse",
          "Production I.G",
          "Sunrise",
          "Toei Animation",
          "Studio Deen",
          "J.C.Staff",
          "Pierrot",
          "TMS Entertainment",
          "Pierrot",
          "Toei Animation",
          "Toei Animation",
          "Madhouse",
          "Toei Animation",
          "J.C.Staff",
          "Studio Deen",
          "TMS Entertainment",
          "Production I.G",
          "Studio Deen",
          "Toei Animation",
          "Toei Animation",
          "Toei Animation",
          "Toei Animation",
          "Toei Animation",
          "Toei Animation",
          "Madhouse",
          "Pierrot",
          "Toei Animation",
          "Toei Animation",
          "Toei Animation",
          "Pierrot",
          "Madhouse",
          "Sunrise",
          "Toei Animation",
          "Toei Animation",
          "Madhouse",
          "Toei Animation",
          "Toei Animation",
          "Toei Animation",
          "Toei Animation",
          "Toei Animation",
          "Toei Animation",
          "Toei Animation",
          "Madhouse",
          "Madhouse",
          "Toei Animation",
          "Toei Animation",
          "Toei Animation",
          "Toei Animation",
          "Toei Animation",
          "Madhouse",
          "Toei Animation",
          "Toei Animation",
          "Toei Animation",
          "Toei Animation",
          "Sunrise",
          "Toei Animation",
          "Pierrot",
          "Production I.G",
          "J.C.Staff",
          "Sunrise",
          "Sunrise",
          "J.C.Staff",
          "Toei Animation",
          "OLM",
          "J.C.Staff",
          "OLM",
          "J.C.Staff",
          "Toei Animation",
          "Sunrise",
          "TMS Entertainment",
          "Studio Deen",
          "Toei Animation",
          "OLM",
          "Studio Deen",
          "Madhouse",
          "Production I.G",
          "Madhouse",
          "Toei Animation",
          "Sunrise",
          "Toei Animation",
          "Pierrot",
          "Pierrot",
          "Toei Animation",
          "Pierrot",
          "Toei Animation",
          "Toei Animation",
          "J.C.Staff",
          "Studio Deen",
          "J.C.Staff",
          "Toei Animation",
          "J.C.Staff",
          "Pierrot",
          "Toei Animation",
          "Toei Animation",
          "Madhouse",
          "J.C.Staff",
          "Studio Deen",
          "J.C.Staff",
          "Sunrise",
          "Toei Animation",
          "Toei Animation",
          "Madhouse",
          "TMS Entertainment",
          "Toei Animation",
          "Toei Animation",
          "Toei Animation",
          "Toei Animation",
          "Toei Animation",
          "Production I.G",
          "Sunrise",
          "Production I.G",
          "Toei Animation",
          "Pierrot",
          "TMS Entertainment",
          "J.C.Staff",
          "Production I.G",
          "Sunrise",
          "Pierrot",
          "J.C.Staff",
          "Toei Animation",
          "Toei Animation",
          "Toei Animation",
          "J.C.Staff",
          "Sunrise",
          "Sunrise",
          "Sunrise",
          "Toei Animation",
          "Pierrot",
          "Sunrise",
          "Pierrot",
          "Sunrise",
          "OLM",
          "Toei Animation",
          "Madhouse",
          "Pierrot",
          "Pierrot",
          "Sunrise",
          "Toei Animation",
          "J.C.Staff",
          "Production I.G",
          "TMS Entertainment",
          "TMS Entertainment",
          "J.C.Staff",
          "Toei Animation",
          "Toei Animation",
          "Sunrise",
          "Toei Animation",
          "J.C.Staff",
          "Studio Deen",
          "Studio Deen",
          "Studio Deen",
          "OLM",
          "OLM",
          "OLM",
          "OLM",
          "Sunrise",
          "Studio Deen",
          "OLM",
          "Pierrot",
          "TMS Entertainment",
          "OLM",
          "Madhouse",
          "Sunrise",
          "Sunrise",
          "Production I.G",
          "Studio Deen",
          "Madhouse",
          "Toei Animation",
          "OLM",
          "Production I.G",
          "Pierrot",
          "Studio Deen",
          "Toei Animation",
          "Production I.G",
          "Toei Animation",
          "Toei Animation",
          "Studio Deen",
          "Madhouse",
          "Madhouse",
          "Toei Animation",
          "Pierrot",
          "Toei Animation",
          "Toei Animation",
          "TMS Entertainment",
          "Madhouse",
          "Madhouse",
          "Madhouse",
          "Madhouse",
          "Studio Deen",
          "OLM",
          "Sunrise",
          "Sunrise",
          "Sunrise",
          "Madhouse",
          "Toei Animation",
          "J.C.Staff",
          "J.C.Staff",
          "Toei Animation",
          "Sunrise",
          "Madhouse",
          "Sunrise",
          "Production I.G",
          "Toei Animation",
          "Toei Animation",
          "Madhouse",
          "OLM",
          "J.C.Staff",
          "TMS Entertainment",
          "Pierrot",
          "TMS Entertainment",
          "Toei Animation",
          "Toei Animation",
          "OLM",
          "Madhouse",
          "Sunrise",
          "Toei Animation",
          "Sunrise",
          "TMS Entertainment",
          "Toei Animation",
          "Toei Animation",
          "Sunrise",
          "Sunrise",
          "Toei Animation",
          "Production I.G",
          "TMS Entertainment",
          "TMS Entertainment",
          "TMS Entertainment",
          "Sunrise",
          "Production I.G",
          "Sunrise",
          "Production I.G",
          "Sunrise",
          "Sunrise",
          "Toei Animation",
          "Sunrise",
          "Madhouse",
          "Sunrise",
          "Toei Animation",
          "Studio Deen",
          "Toei Animation",
          "J.C.Staff",
          "Studio Deen",
          "OLM",
          "OLM",
          "Pierrot",
          "Madhouse",
          "TMS Entertainment",
          "Toei Animation",
          "Production I.G",
          "J.C.Staff",
          "Toei Animation",
          "J.C.Staff",
          "Madhouse",
          "Madhouse",
          "Toei Animation",
          "Toei Animation",
          "Pierrot",
          "J.C.Staff",
          "Pierrot",
          "Sunrise",
          "Sunrise",
          "Sunrise",
          "Toei Animation",
          "Sunrise",
          "J.C.Staff",
          "Toei Animation",
          "Toei Animation",
          "TMS Entertainment",
          "Toei Animation",
          "Studio Deen",
          "Toei Animation",
          "TMS Entertainment",
          "Pierrot",
          "Studio Deen",
          "OLM",
          "OLM",
          "Madhouse",
          "J.C.Staff",
          "Production I.G",
          "TMS Entertainment",
          "Toei Animation",
          "Production I.G",
          "Toei Animation",
          "Production I.G",
          "Studio Deen",
          "Madhouse",
          "Toei Animation",
          "Toei Animation",
          "Toei Animation",
          "J.C.Staff",
          "J.C.Staff",
          "Sunrise",
          "Madhouse",
          "J.C.Staff",
          "Toei Animation",
          "Toei Animation",
          "TMS Entertainment",
          "Production I.G",
          "Toei Animation",
          "Madhouse",
          "Toei Animation",
          "Madhouse",
          "J.C.Staff",
          "Toei Animation",
          "Toei Animation",
          "Production I.G",
          "Production I.G",
          "Studio Deen",
          "Studio Deen",
          "Pierrot",
          "J.C.Staff",
          "Toei Animation",
          "Pierrot",
          "Madhouse",
          "J.C.Staff",
          "Pierrot",
          "Madhouse",
          "TMS Entertainment",
          "Studio Deen",
          "J.C.Staff",
          "Toei Animation",
          "Madhouse",
          "Toei Animation",
          "Toei Animation",
          "J.C.Staff",
          "TMS Entertainment",
          "OLM",
          "Toei Animation",
          "Toei Animation",
          "Toei Animation",
          "J.C.Staff",
          "TMS Entertainment",
          "J.C.Staff",
          "Sunrise",
          "Toei Animation",
          "OLM",
          "J.C.Staff",
          "J.C.Staff",
          "TMS Entertainment",
          "Madhouse",
          "Toei Animation",
          "Toei Animation",
          "Toei Animation",
          "Toei Animation",
          "Toei Animation",
          "Toei Animation",
          "OLM",
          "Sunrise",
          "Studio Deen",
          "Toei Animation",
          "Toei Animation",
          "Studio Deen",
          "Pierrot",
          "J.C.Staff",
          "Sunrise",
          "Toei Animation",
          "Production I.G",
          "OLM",
          "Production I.G",
          "Production I.G",
          "Toei Animation",
          "Sunrise",
          "TMS Entertainment",
          "J.C.Staff",
          "Toei Animation",
          "OLM",
          "OLM",
          "Toei Animation",
          "Studio Deen",
          "OLM",
          "J.C.Staff",
          "Sunrise",
          "Sunrise",
          "J.C.Staff",
          "Production I.G",
          "Toei Animation",
          "Sunrise",
          "Studio Deen",
          "Sunrise",
          "Toei Animation",
          "Toei Animation",
          "Toei Animation",
          "Production I.G",
          "Production I.G",
          "Toei Animation",
          "Toei Animation",
          "TMS Entertainment",
          "Madhouse",
          "Toei Animation",
          "J.C.Staff",
          "Toei Animation",
          "Pierrot",
          "Toei Animation",
          "Toei Animation",
          "Toei Animation",
          "Madhouse",
          "Sunrise",
          "J.C.Staff",
          "Toei Animation",
          "Sunrise",
          "Sunrise",
          "OLM",
          "Toei Animation",
          "Sunrise",
          "Shanghai Animation Film Studio",
          "Production I.G",
          "Toei Animation",
          "Madhouse",
          "OLM",
          "J.C.Staff",
          "Studio Deen",
          "Madhouse",
          "Sunrise",
          "Madhouse",
          "Madhouse",
          "Madhouse",
          "Studio Deen",
          "Production I.G",
          "Sunrise",
          "Pierrot",
          "TMS Entertainment",
          "Toei Animation",
          "Toei Animation",
          "Toei Animation",
          "Toei Animation",
          "Studio Deen",
          "Toei Animation",
          "Toei Animation",
          "Toei Animation",
          "Toei Animation",
          "Sunrise",
          "J.C.Staff",
          "J.C.Staff",
          "Sunrise",
          "OLM",
          "Production I.G",
          "Sunrise",
          "Toei Animation",
          "Toei Animation",
          "Toei Animation",
          "OLM",
          "Madhouse",
          "TMS Entertainment",
          "Toei Animation",
          "Sunrise",
          "Toei Animation",
          "Toei Animation",
          "TMS Entertainment",
          "TMS Entertainment",
          "TMS Entertainment",
          "Toei Animation",
          "Madhouse",
          "Madhouse",
          "TMS Entertainment",
          "TMS Entertainment",
          "TMS Entertainment",
          "Toei Animation",
          "Studio Deen",
          "Toei Animation",
          "Toei Animation",
          "Production I.G",
          "Pierrot",
          "J.C.Staff",
          "Toei Animation",
          "Toei Animation",
          "Toei Animation",
          "TMS Entertainment",
          "Sunrise",
          "TMS Entertainment",
          "OLM",
          "Studio Deen",
          "Studio Deen",
          "OLM",
          "Toei Animation",
          "Studio Deen",
          "Sunrise",
          "Toei Animation",
          "Toei Animation",
          "Studio Deen",
          "Toei Animation",
          "Madhouse",
          "Studio Deen",
          "Pierrot",
          "Toei Animation",
          "Toei Animation",
          "Production I.G",
          "J.C.Staff",
          "OLM",
          "Toei Animation",
          "Toei Animation",
          "Toei Animation",
          "Studio Deen",
          "Sunrise",
          "Studio Deen",
          "Production I.G",
          "J.C.Staff",
          "J.C.Staff",
          "Madhouse",
          "Toei Animation",
          "Toei Animation",
          "Toei Animation",
          "Toei Animation",
          "Madhouse",
          "Production I.G",
          "Production I.G",
          "Madhouse",
          "Madhouse",
          "Sunrise",
          "J.C.Staff",
          "J.C.Staff",
          "J.C.Staff",
          "Sunrise",
          "Studio Deen",
          "Pierrot",
          "Madhouse",
          "Pierrot",
          "TMS Entertainment",
          "TMS Entertainment",
          "TMS Entertainment",
          "Sunrise",
          "Toei Animation",
          "Sunrise",
          "Toei Animation",
          "Toei Animation",
          "Toei Animation",
          "Toei Animation",
          "Toei Animation",
          "Toei Animation",
          "Toei Animation",
          "Toei Animation",
          "Toei Animation",
          "Toei Animation",
          "Toei Animation",
          "J.C.Staff",
          "Toei Animation",
          "Pierrot",
          "TMS Entertainment",
          "Toei Animation",
          "Toei Animation",
          "Toei Animation",
          "Toei Animation",
          "J.C.Staff",
          "Sunrise",
          "Toei Animation",
          "Pierrot",
          "Pierrot",
          "Sunrise",
          "Sunrise",
          "Sunrise",
          "Sunrise",
          "TMS Entertainment",
          "Production I.G",
          "Toei Animation",
          "Toei Animation",
          "Toei Animation",
          "Studio Deen",
          "OLM",
          "Madhouse",
          "J.C.Staff",
          "Pierrot",
          "Madhouse",
          "Toei Animation",
          "J.C.Staff",
          "Studio Deen",
          "Studio Deen",
          "Production I.G",
          "Pierrot",
          "Toei Animation",
          "Toei Animation",
          "Toei Animation",
          "Toei Animation",
          "Toei Animation",
          "Toei Animation",
          "Sunrise",
          "Toei Animation",
          "Pierrot",
          "Toei Animation",
          "Toei Animation",
          "Toei Animation",
          "Toei Animation",
          "Toei Animation",
          "Toei Animation",
          "J.C.Staff",
          "Toei Animation",
          "Toei Animation",
          "TMS Entertainment",
          "Toei Animation",
          "OLM",
          "Production I.G",
          "J.C.Staff",
          "Production I.G",
          "Toei Animation",
          "OLM",
          "Sunrise",
          "Toei Animation",
          "Sunrise",
          "Toei Animation",
          "Pierrot",
          "Production I.G",
          "Shanghai Animation Film Studio",
          "J.C.Staff",
          "Sunrise",
          "Studio Deen",
          "Sunrise",
          "Studio Deen",
          "J.C.Staff",
          "Sunrise",
          "Studio Deen",
          "Studio Deen",
          "Pierrot",
          "Madhouse",
          "Toei Animation",
          "J.C.Staff",
          "TMS Entertainment",
          "Toei Animation",
          "TMS Entertainment",
          "Madhouse",
          "TMS Entertainment",
          "TMS Entertainment",
          "Toei Animation",
          "Pierrot",
          "Madhouse",
          "Madhouse",
          "Madhouse",
          "Production I.G",
          "TMS Entertainment",
          "Pierrot",
          "OLM",
          "Sunrise",
          "J.C.Staff",
          "J.C.Staff",
          "Studio Deen",
          "Toei Animation",
          "Toei Animation",
          "Sunrise",
          "Sunrise",
          "OLM",
          "TMS Entertainment",
          "Toei Animation",
          "Toei Animation",
          "Madhouse",
          "Pierrot",
          "Sunrise",
          "Toei Animation",
          "Toei Animation",
          "Toei Animation",
          "Studio Deen",
          "J.C.Staff",
          "Sunrise",
          "Sunrise",
          "J.C.Staff",
          "Sunrise",
          "Sunrise",
          "Sunrise",
          "Sunrise",
          "Toei Animation",
          "Sunrise",
          "Production I.G",
          "Shanghai Animation Film Studio",
          "TMS Entertainment",
          "Toei Animation",
          "TMS Entertainment",
          "TMS Entertainment",
          "TMS Entertainment",
          "Toei Animation",
          "J.C.Staff",
          "Madhouse",
          "Sunrise",
          "Sunrise",
          "J.C.Staff",
          "TMS Entertainment",
          "TMS Entertainment",
          "Production I.G",
          "Production I.G",
          "Toei Animation",
          "Production I.G",
          "Production I.G",
          "Sunrise",
          "Studio Deen",
          "Studio Deen",
          "Sunrise",
          "Production I.G",
          "Madhouse",
          "Sunrise",
          "Toei Animation",
          "Toei Animation",
          "Sunrise",
          "Madhouse",
          "Toei Animation",
          "Sunrise",
          "Toei Animation",
          "Toei Animation",
          "Studio Deen",
          "Pierrot",
          "Pierrot",
          "Toei Animation",
          "Toei Animation",
          "Sunrise",
          "Studio Deen",
          "Sunrise",
          "Sunrise",
          "Shanghai Animation Film Studio",
          "TMS Entertainment",
          "Sunrise",
          "Sunrise",
          "Sunrise",
          "Sunrise",
          "Toei Animation",
          "Sunrise",
          "Toei Animation",
          "Toei Animation",
          "J.C.Staff",
          "Toei Animation",
          "Production I.G",
          "Studio Deen",
          "TMS Entertainment",
          "TMS Entertainment",
          "TMS Entertainment",
          "TMS Entertainment",
          "TMS Entertainment",
          "TMS Entertainment",
          "Toei Animation",
          "Pierrot",
          "Toei Animation",
          "Production I.G",
          "Madhouse",
          "Production I.G",
          "Toei Animation",
          "Toei Animation",
          "Production I.G",
          "Sunrise",
          "Production I.G",
          "J.C.Staff",
          "Pierrot",
          "Madhouse",
          "Toei Animation",
          "Toei Animation",
          "Toei Animation",
          "Studio Deen",
          "Production I.G",
          "J.C.Staff",
          "Toei Animation",
          "J.C.Staff",
          "TMS Entertainment",
          "Madhouse",
          "J.C.Staff",
          "OLM",
          "TMS Entertainment",
          "Pierrot",
          "TMS Entertainment",
          "J.C.Staff",
          "Toei Animation",
          "Studio Deen",
          "Pierrot",
          "Production I.G",
          "Production I.G",
          "Toei Animation",
          "Madhouse",
          "Sunrise",
          "J.C.Staff",
          "Production I.G",
          "Production I.G",
          "Studio Deen",
          "Studio Deen",
          "Production I.G",
          "OLM",
          "Madhouse",
          "TMS Entertainment",
          "Production I.G",
          "Toei Animation",
          "Toei Animation",
          "J.C.Staff",
          "Production I.G",
          "Sunrise",
          "Pierrot",
          "Sunrise",
          "J.C.Staff",
          "Pierrot",
          "Madhouse",
          "Sunrise",
          "Pierrot",
          "Production I.G",
          "Pierrot",
          "Toei Animation",
          "Studio Deen",
          "TMS Entertainment",
          "TMS Entertainment",
          "Toei Animation",
          "Sunrise",
          "Toei Animation",
          "J.C.Staff",
          "Sunrise",
          "Toei Animation",
          "Pierrot",
          "TMS Entertainment",
          "Sunrise",
          "Studio Deen",
          "Production I.G",
          "Studio Deen",
          "Madhouse",
          "Sunrise",
          "Toei Animation",
          "Production I.G",
          "Production I.G",
          "Studio Deen",
          "Toei Animation",
          "OLM",
          "OLM",
          "J.C.Staff",
          "Sunrise",
          "Production I.G",
          "Production I.G",
          "Production I.G",
          "Production I.G",
          "Toei Animation",
          "Sunrise",
          "Madhouse",
          "OLM",
          "Production I.G",
          "OLM",
          "Sunrise",
          "OLM",
          "Sunrise",
          "Toei Animation",
          "Madhouse",
          "OLM",
          "OLM",
          "J.C.Staff",
          "Studio Deen",
          "Studio Deen",
          "Sunrise",
          "Production I.G",
          "Studio Deen",
          "Studio Deen",
          "Studio Deen",
          "TMS Entertainment",
          "Toei Animation",
          "Sunrise",
          "Sunrise",
          "J.C.Staff",
          "Toei Animation",
          "Toei Animation",
          "J.C.Staff",
          "Studio Deen",
          "Madhouse",
          "Studio Deen",
          "Studio Deen",
          "J.C.Staff",
          "Toei Animation",
          "Sunrise",
          "Toei Animation",
          "Studio Deen",
          "TMS Entertainment",
          "J.C.Staff",
          "J.C.Staff",
          "Sunrise",
          "Production I.G",
          "TMS Entertainment",
          "Sunrise",
          "OLM",
          "Pierrot",
          "Toei Animation",
          "Sunrise",
          "Sunrise",
          "Studio Deen",
          "Pierrot",
          "Studio Deen",
          "Madhouse",
          "TMS Entertainment",
          "Sunrise",
          "Madhouse",
          "Toei Animation",
          "TMS Entertainment",
          "Toei Animation",
          "Toei Animation",
          "Sunrise",
          "Madhouse",
          "Toei Animation",
          "Toei Animation",
          "Sunrise",
          "Sunrise",
          "Sunrise",
          "J.C.Staff",
          "Production I.G",
          "Toei Animation",
          "Toei Animation",
          "Production I.G",
          "Sunrise",
          "Sunrise",
          "Pierrot",
          "Studio Deen",
          "Sunrise",
          "Toei Animation",
          "OLM",
          "Toei Animation",
          "Sunrise",
          "OLM",
          "Toei Animation",
          "Toei Animation",
          "OLM",
          "J.C.Staff",
          "Sunrise",
          "Sunrise",
          "Pierrot",
          "Sunrise",
          "Toei Animation",
          "Toei Animation",
          "J.C.Staff",
          "Pierrot",
          "J.C.Staff",
          "Toei Animation",
          "Sunrise",
          "Toei Animation",
          "J.C.Staff",
          "Toei Animation",
          "Madhouse",
          "Studio Deen",
          "J.C.Staff",
          "Toei Animation",
          "Pierrot",
          "Toei Animation",
          "OLM",
          "Madhouse",
          "Studio Deen",
          "Production I.G",
          "Studio Deen",
          "Studio Deen",
          "Studio Deen",
          "TMS Entertainment",
          "Production I.G",
          "TMS Entertainment",
          "TMS Entertainment",
          "Sunrise",
          "Production I.G",
          "TMS Entertainment",
          "OLM",
          "Madhouse",
          "Madhouse",
          "Toei Animation",
          "TMS Entertainment",
          "Production I.G",
          "Sunrise",
          "Production I.G",
          "Sunrise",
          "Production I.G",
          "Production I.G",
          "Production I.G",
          "Sunrise",
          "J.C.Staff",
          "Pierrot",
          "J.C.Staff",
          "Studio Deen",
          "Toei Animation",
          "Pierrot",
          "TMS Entertainment",
          "OLM",
          "TMS Entertainment",
          "J.C.Staff",
          "Sunrise",
          "Toei Animation",
          "Sunrise",
          "Toei Animation",
          "Madhouse",
          "Sunrise",
          "Pierrot",
          "OLM",
          "Production I.G",
          "OLM",
          "Madhouse",
          "Pierrot",
          "Sunrise",
          "Production I.G",
          "Toei Animation",
          "Madhouse",
          "Madhouse",
          "TMS Entertainment",
          "Madhouse",
          "TMS Entertainment",
          "Madhouse",
          "J.C.Staff",
          "Studio Deen",
          "TMS Entertainment",
          "TMS Entertainment",
          "Toei Animation",
          "Toei Animation",
          "Sunrise",
          "Sunrise",
          "OLM",
          "Sunrise",
          "Sunrise",
          "Studio Deen",
          "Sunrise",
          "Sunrise",
          "Sunrise",
          "J.C.Staff",
          "Toei Animation",
          "Toei Animation",
          "Sunrise",
          "TMS Entertainment",
          "Toei Animation",
          "J.C.Staff",
          "Sunrise",
          "Sunrise",
          "Studio Deen",
          "Production I.G",
          "Production I.G",
          "J.C.Staff",
          "TMS Entertainment",
          "Studio Deen",
          "Sunrise",
          "J.C.Staff",
          "Madhouse",
          "Madhouse",
          "Production I.G",
          "TMS Entertainment",
          "OLM",
          "Toei Animation",
          "Madhouse",
          "OLM",
          "Toei Animation",
          "Production I.G",
          "Toei Animation",
          "Pierrot",
          "Production I.G",
          "Studio Deen",
          "Pierrot",
          "Madhouse",
          "Pierrot",
          "J.C.Staff",
          "Toei Animation",
          "Production I.G",
          "TMS Entertainment",
          "TMS Entertainment",
          "Toei Animation",
          "Production I.G",
          "Production I.G",
          "Pierrot",
          "Pierrot",
          "Madhouse",
          "Toei Animation",
          "Toei Animation",
          "Toei Animation",
          "Sunrise",
          "Production I.G",
          "Pierrot",
          "Sunrise",
          "Sunrise",
          "OLM",
          "OLM",
          "Studio Deen",
          "Studio Deen",
          "Toei Animation",
          "Pierrot",
          "Production I.G",
          "Production I.G",
          "Studio Deen",
          "OLM",
          "TMS Entertainment",
          "TMS Entertainment",
          "TMS Entertainment",
          "OLM",
          "J.C.Staff",
          "Toei Animation",
          "Production I.G",
          "Sunrise",
          "TMS Entertainment",
          "TMS Entertainment",
          "TMS Entertainment",
          "Toei Animation",
          "Toei Animation",
          "Production I.G",
          "Studio Deen",
          "Sunrise",
          "Toei Animation",
          "Pierrot",
          "Pierrot",
          "Toei Animation",
          "Toei Animation",
          "TMS Entertainment",
          "Toei Animation",
          "J.C.Staff",
          "Toei Animation",
          "Pierrot",
          "Pierrot",
          "J.C.Staff",
          "J.C.Staff",
          "Sunrise",
          "Studio Deen",
          "Sunrise",
          "Sunrise",
          "Toei Animation",
          "Toei Animation",
          "Sunrise",
          "Toei Animation",
          "Toei Animation",
          "J.C.Staff",
          "J.C.Staff",
          "OLM",
          "J.C.Staff",
          "OLM",
          "Toei Animation",
          "Studio Deen",
          "Studio Deen",
          "Toei Animation",
          "OLM",
          "TMS Entertainment",
          "TMS Entertainment",
          "J.C.Staff",
          "Sunrise",
          "TMS Entertainment",
          "TMS Entertainment",
          "Toei Animation",
          "Sunrise",
          "J.C.Staff",
          "Production I.G",
          "Toei Animation",
          "Production I.G",
          "J.C.Staff",
          "TMS Entertainment",
          "J.C.Staff",
          "Toei Animation",
          "Toei Animation",
          "Toei Animation",
          "TMS Entertainment",
          "Toei Animation",
          "Madhouse",
          "Studio Deen",
          "Sunrise",
          "Pierrot",
          "Toei Animation",
          "Studio Deen",
          "Sunrise",
          "Production I.G",
          "Studio Deen",
          "OLM",
          "Sunrise",
          "Production I.G",
          "TMS Entertainment",
          "Toei Animation",
          "OLM",
          "Production I.G",
          "Production I.G",
          "Production I.G",
          "Production I.G",
          "Production I.G",
          "Studio Deen",
          "Sunrise",
          "OLM",
          "Studio Deen",
          "Sunrise",
          "TMS Entertainment",
          "J.C.Staff",
          "TMS Entertainment",
          "Sunrise",
          "Toei Animation",
          "Pierrot",
          "TMS Entertainment",
          "Sunrise",
          "Sunrise",
          "Production I.G",
          "Toei Animation",
          "J.C.Staff",
          "Toei Animation",
          "Toei Animation",
          "Toei Animation",
          "Toei Animation",
          "Toei Animation",
          "Toei Animation",
          "Toei Animation",
          "Madhouse",
          "Toei Animation",
          "Toei Animation",
          "Studio Deen",
          "Madhouse",
          "Sunrise",
          "Pierrot",
          "OLM",
          "Pierrot",
          "Pierrot",
          "Sunrise",
          "Pierrot",
          "Toei Animation",
          "Production I.G",
          "TMS Entertainment",
          "Madhouse",
          "Pierrot",
          "Sunrise",
          "Toei Animation",
          "Toei Animation",
          "Toei Animation",
          "J.C.Staff",
          "J.C.Staff",
          "Studio Deen",
          "Toei Animation",
          "Toei Animation",
          "TMS Entertainment",
          "Toei Animation",
          "Toei Animation",
          "TMS Entertainment",
          "Toei Animation",
          "Sunrise",
          "J.C.Staff",
          "Madhouse",
          "Toei Animation",
          "Toei Animation",
          "Sunrise",
          "Studio Deen",
          "Pierrot",
          "Madhouse",
          "TMS Entertainment",
          "TMS Entertainment",
          "J.C.Staff",
          "Production I.G",
          "Sunrise",
          "Toei Animation",
          "OLM",
          "Sunrise",
          "Madhouse",
          "Studio Deen",
          "Toei Animation",
          "Sunrise",
          "Toei Animation",
          "Sunrise",
          "Toei Animation",
          "Toei Animation",
          "Studio Deen",
          "Sunrise",
          "J.C.Staff",
          "J.C.Staff",
          "Pierrot",
          "Production I.G",
          "Toei Animation",
          "TMS Entertainment",
          "Sunrise",
          "Toei Animation",
          "Toei Animation",
          "J.C.Staff",
          "J.C.Staff",
          "J.C.Staff",
          "OLM",
          "OLM",
          "Production I.G",
          "Production I.G",
          "Sunrise",
          "Madhouse",
          "OLM",
          "Toei Animation",
          "OLM",
          "TMS Entertainment",
          "Toei Animation",
          "J.C.Staff",
          "Toei Animation",
          "Sunrise",
          "TMS Entertainment",
          "J.C.Staff",
          "Sunrise",
          "TMS Entertainment",
          "Production I.G",
          "Production I.G",
          "Pierrot",
          "TMS Entertainment",
          "Pierrot",
          "Madhouse",
          "Sunrise",
          "J.C.Staff",
          "Production I.G",
          "Pierrot",
          "Toei Animation",
          "J.C.Staff",
          "TMS Entertainment",
          "Pierrot",
          "Toei Animation",
          "Pierrot",
          "Toei Animation",
          "Toei Animation",
          "Toei Animation",
          "Production I.G",
          "Sunrise",
          "Studio Deen",
          "Madhouse",
          "Production I.G",
          "Toei Animation",
          "Toei Animation",
          "OLM",
          "J.C.Staff",
          "Toei Animation",
          "Toei Animation",
          "Sunrise",
          "Toei Animation",
          "Toei Animation",
          "Toei Animation",
          "Sunrise",
          "Toei Animation",
          "Toei Animation",
          "Sunrise",
          "Sunrise",
          "Toei Animation",
          "Toei Animation",
          "Toei Animation",
          "Toei Animation",
          "Sunrise",
          "Studio Deen",
          "Toei Animation",
          "Production I.G",
          "OLM",
          "Pierrot",
          "Pierrot",
          "TMS Entertainment",
          "Sunrise",
          "OLM",
          "OLM",
          "Toei Animation",
          "Production I.G",
          "Studio Deen",
          "Toei Animation",
          "Toei Animation",
          "J.C.Staff",
          "Sunrise",
          "J.C.Staff",
          "J.C.Staff",
          "J.C.Staff",
          "J.C.Staff",
          "J.C.Staff",
          "Toei Animation",
          "Toei Animation",
          "Sunrise",
          "TMS Entertainment",
          "Toei Animation",
          "J.C.Staff",
          "J.C.Staff",
          "Toei Animation",
          "Toei Animation",
          "Toei Animation",
          "J.C.Staff",
          "Toei Animation",
          "Sunrise",
          "Sunrise",
          "Toei Animation",
          "TMS Entertainment",
          "Toei Animation",
          "Pierrot",
          "Pierrot",
          "OLM",
          "J.C.Staff",
          "Sunrise",
          "J.C.Staff",
          "Production I.G",
          "J.C.Staff",
          "Toei Animation",
          "J.C.Staff",
          "J.C.Staff",
          "Madhouse",
          "Production I.G",
          "J.C.Staff",
          "TMS Entertainment",
          "Production I.G",
          "Pierrot",
          "TMS Entertainment",
          "OLM",
          "Sunrise",
          "Pierrot",
          "Toei Animation",
          "Production I.G",
          "Studio Deen",
          "Toei Animation",
          "Toei Animation",
          "Sunrise",
          "J.C.Staff",
          "OLM",
          "Sunrise",
          "Toei Animation",
          "Sunrise",
          "Toei Animation",
          "Sunrise",
          "Sunrise",
          "Toei Animation",
          "Madhouse",
          "Sunrise",
          "Pierrot",
          "Sunrise",
          "Toei Animation",
          "Studio Deen",
          "Toei Animation",
          "Toei Animation",
          "Madhouse",
          "Production I.G",
          "Sunrise",
          "OLM",
          "Toei Animation",
          "Toei Animation",
          "Madhouse",
          "Production I.G",
          "Production I.G",
          "Toei Animation",
          "Studio Deen",
          "TMS Entertainment",
          "Toei Animation",
          "Sunrise",
          "TMS Entertainment",
          "Studio Deen",
          "OLM",
          "Madhouse",
          "Sunrise",
          "Toei Animation",
          "Toei Animation",
          "Toei Animation",
          "Toei Animation",
          "Toei Animation",
          "Toei Animation",
          "Toei Animation",
          "Toei Animation",
          "Toei Animation",
          "Toei Animation",
          "Toei Animation",
          "Toei Animation",
          "Toei Animation",
          "Toei Animation",
          "Toei Animation",
          "Toei Animation",
          "OLM",
          "TMS Entertainment",
          "Production I.G",
          "TMS Entertainment",
          "TMS Entertainment",
          "Toei Animation",
          "Toei Animation",
          "Toei Animation",
          "Production I.G",
          "TMS Entertainment",
          "TMS Entertainment",
          "TMS Entertainment",
          "TMS Entertainment",
          "TMS Entertainment",
          "J.C.Staff",
          "Pierrot",
          "TMS Entertainment",
          "TMS Entertainment",
          "J.C.Staff",
          "Toei Animation",
          "Pierrot",
          "TMS Entertainment",
          "OLM",
          "OLM",
          "TMS Entertainment",
          "Toei Animation",
          "Toei Animation",
          "Toei Animation",
          "Toei Animation",
          "Toei Animation",
          "Toei Animation",
          "Toei Animation",
          "Pierrot",
          "Sunrise",
          "Toei Animation",
          "Madhouse",
          "TMS Entertainment",
          "J.C.Staff",
          "Studio Deen",
          "Toei Animation",
          "Toei Animation",
          "Toei Animation",
          "Sunrise",
          "Toei Animation",
          "J.C.Staff",
          "J.C.Staff",
          "Madhouse",
          "Madhouse",
          "OLM",
          "Madhouse",
          "TMS Entertainment",
          "Toei Animation",
          "Toei Animation",
          "Toei Animation",
          "OLM",
          "TMS Entertainment",
          "Toei Animation",
          "J.C.Staff",
          "Studio Deen",
          "Toei Animation",
          "Toei Animation",
          "Sunrise",
          "Toei Animation",
          "Studio Deen",
          "Pierrot",
          "OLM",
          "Production I.G",
          "OLM",
          "Toei Animation",
          "Studio Deen",
          "Production I.G",
          "Production I.G",
          "OLM",
          "TMS Entertainment",
          "Studio Deen",
          "J.C.Staff",
          "Production I.G",
          "Production I.G",
          "Toei Animation",
          "Production I.G",
          "J.C.Staff",
          "TMS Entertainment",
          "J.C.Staff",
          "Madhouse",
          "Toei Animation",
          "Toei Animation",
          "Production I.G",
          "Studio Deen",
          "Toei Animation",
          "TMS Entertainment",
          "TMS Entertainment",
          "Toei Animation",
          "Studio Deen",
          "Sunrise",
          "Toei Animation",
          "Toei Animation",
          "Sunrise",
          "J.C.Staff",
          "OLM",
          "J.C.Staff",
          "Madhouse",
          "TMS Entertainment",
          "Production I.G",
          "Production I.G",
          "Pierrot",
          "TMS Entertainment",
          "Toei Animation",
          "Toei Animation",
          "Toei Animation",
          "Toei Animation",
          "Toei Animation",
          "Pierrot",
          "Toei Animation",
          "Toei Animation",
          "Studio Deen",
          "Sunrise",
          "Studio Deen",
          "OLM",
          "Toei Animation",
          "Toei Animation",
          "TMS Entertainment",
          "Sunrise",
          "TMS Entertainment",
          "TMS Entertainment",
          "Pierrot",
          "Sunrise",
          "Studio Deen",
          "Sunrise",
          "Sunrise",
          "Studio Deen",
          "Sunrise",
          "Toei Animation",
          "Toei Animation",
          "Toei Animation",
          "Toei Animation",
          "Toei Animation",
          "Toei Animation",
          "Toei Animation",
          "Toei Animation",
          "Toei Animation",
          "Toei Animation",
          "OLM",
          "OLM",
          "Production I.G",
          "Sunrise",
          "Studio Deen",
          "Production I.G",
          "Sunrise",
          "Sunrise",
          "Studio Deen",
          "OLM",
          "Pierrot",
          "TMS Entertainment",
          "Toei Animation",
          "OLM",
          "Sunrise",
          "J.C.Staff",
          "Toei Animation",
          "Pierrot",
          "Toei Animation",
          "J.C.Staff",
          "Sunrise",
          "Studio Deen",
          "Production I.G",
          "J.C.Staff",
          "Production I.G",
          "Production I.G",
          "Sunrise",
          "J.C.Staff",
          "Toei Animation",
          "Madhouse",
          "OLM",
          "Studio Deen",
          "Production I.G",
          "Production I.G",
          "Studio Deen",
          "Madhouse",
          "Pierrot",
          "Toei Animation",
          "OLM",
          "Sunrise",
          "Madhouse",
          "J.C.Staff",
          "Madhouse",
          "Sunrise",
          "TMS Entertainment",
          "TMS Entertainment",
          "Toei Animation",
          "OLM",
          "Production I.G",
          "Shanghai Animation Film Studio",
          "Sunrise",
          "TMS Entertainment",
          "Studio Deen",
          "TMS Entertainment",
          "Pierrot",
          "Toei Animation",
          "Toei Animation",
          "J.C.Staff",
          "Pierrot",
          "Pierrot",
          "Studio Deen",
          "Pierrot",
          "Toei Animation",
          "Sunrise",
          "Toei Animation",
          "Sunrise",
          "OLM",
          "Sunrise",
          "Pierrot",
          "Pierrot",
          "J.C.Staff",
          "TMS Entertainment",
          "OLM",
          "Pierrot",
          "OLM",
          "TMS Entertainment",
          "Toei Animation",
          "Studio Deen",
          "Toei Animation",
          "Production I.G",
          "Sunrise",
          "Sunrise",
          "J.C.Staff",
          "Sunrise",
          "Studio Deen",
          "Production I.G",
          "Toei Animation",
          "J.C.Staff",
          "TMS Entertainment",
          "OLM",
          "Production I.G",
          "TMS Entertainment",
          "Sunrise",
          "Pierrot",
          "Sunrise",
          "J.C.Staff",
          "TMS Entertainment",
          "Production I.G",
          "TMS Entertainment",
          "TMS Entertainment",
          "Production I.G",
          "Production I.G",
          "Production I.G",
          "Studio Deen",
          "Pierrot",
          "Toei Animation",
          "Toei Animation",
          "J.C.Staff",
          "Sunrise",
          "Shanghai Animation Film Studio",
          "J.C.Staff",
          "Production I.G",
          "Studio Deen",
          "Sunrise",
          "Studio Deen",
          "Studio Deen",
          "Pierrot",
          "Sunrise",
          "Studio Deen",
          "Studio Deen",
          "Studio Deen",
          "Sunrise",
          "Production I.G",
          "Studio Deen",
          "Production I.G",
          "Toei Animation",
          "J.C.Staff",
          "Madhouse",
          "Sunrise",
          "Sunrise",
          "Pierrot",
          "Production I.G",
          "J.C.Staff",
          "Sunrise",
          "TMS Entertainment",
          "J.C.Staff",
          "Toei Animation",
          "TMS Entertainment",
          "Madhouse",
          "Toei Animation",
          "Madhouse",
          "Pierrot",
          "Sunrise",
          "Studio Deen",
          "OLM",
          "J.C.Staff",
          "Pierrot",
          "Pierrot",
          "Studio Deen",
          "J.C.Staff",
          "Toei Animation",
          "Madhouse",
          "Sunrise",
          "OLM",
          "OLM",
          "Pierrot",
          "J.C.Staff",
          "Studio Deen",
          "J.C.Staff",
          "Studio Deen",
          "Studio Deen",
          "OLM",
          "Studio Deen",
          "OLM",
          "TMS Entertainment",
          "OLM",
          "OLM",
          "J.C.Staff",
          "Madhouse",
          "Toei Animation",
          "OLM",
          "TMS Entertainment",
          "Pierrot",
          "Pierrot",
          "TMS Entertainment",
          "J.C.Staff",
          "Toei Animation",
          "Toei Animation",
          "Toei Animation",
          "Toei Animation",
          "OLM",
          "TMS Entertainment",
          "OLM",
          "Production I.G",
          "J.C.Staff",
          "J.C.Staff",
          "Sunrise",
          "Sunrise",
          "Madhouse",
          "TMS Entertainment",
          "Sunrise",
          "Sunrise",
          "Sunrise",
          "Sunrise",
          "TMS Entertainment",
          "Studio Deen",
          "OLM",
          "J.C.Staff",
          "Shanghai Animation Film Studio",
          "Shanghai Animation Film Studio",
          "OLM",
          "OLM",
          "Pierrot",
          "Pierrot",
          "TMS Entertainment",
          "J.C.Staff",
          "J.C.Staff",
          "OLM",
          "TMS Entertainment",
          "Studio Deen",
          "Production I.G",
          "J.C.Staff",
          "OLM",
          "Production I.G",
          "Studio Deen",
          "Production I.G",
          "TMS Entertainment",
          "OLM",
          "Toei Animation",
          "Toei Animation",
          "Toei Animation",
          "Pierrot",
          "Toei Animation",
          "OLM",
          "TMS Entertainment",
          "Toei Animation",
          "OLM",
          "Studio Deen",
          "Toei Animation",
          "Studio Deen",
          "Sunrise",
          "Madhouse",
          "TMS Entertainment",
          "Sunrise",
          "Pierrot",
          "J.C.Staff",
          "Pierrot",
          "Pierrot",
          "Madhouse",
          "Studio Deen",
          "Production I.G",
          "Production I.G",
          "Pierrot",
          "Studio Deen",
          "Toei Animation",
          "Sunrise",
          "J.C.Staff",
          "Studio Deen",
          "Madhouse",
          "Production I.G",
          "Toei Animation",
          "Sunrise",
          "Toei Animation",
          "TMS Entertainment",
          "Studio Deen",
          "Pierrot",
          "TMS Entertainment",
          "Pierrot",
          "Sunrise",
          "Toei Animation",
          "Production I.G",
          "Toei Animation",
          "Production I.G",
          "Madhouse",
          "J.C.Staff",
          "TMS Entertainment",
          "TMS Entertainment",
          "Production I.G",
          "Madhouse",
          "TMS Entertainment",
          "Sunrise",
          "Toei Animation",
          "J.C.Staff",
          "Sunrise",
          "J.C.Staff",
          "TMS Entertainment",
          "OLM",
          "Toei Animation",
          "J.C.Staff",
          "Studio Deen",
          "Production I.G",
          "Toei Animation",
          "Toei Animation",
          "Toei Animation",
          "Toei Animation",
          "Toei Animation",
          "Toei Animation",
          "Production I.G",
          "Production I.G",
          "Production I.G",
          "J.C.Staff",
          "Sunrise",
          "Toei Animation",
          "Sunrise",
          "Pierrot",
          "OLM",
          "J.C.Staff",
          "TMS Entertainment",
          "OLM",
          "Toei Animation",
          "J.C.Staff",
          "J.C.Staff",
          "OLM",
          "J.C.Staff",
          "Shanghai Animation Film Studio",
          "OLM",
          "OLM",
          "Pierrot",
          "J.C.Staff",
          "Pierrot",
          "OLM",
          "Production I.G",
          "Toei Animation",
          "J.C.Staff",
          "Pierrot",
          "J.C.Staff",
          "TMS Entertainment",
          "Toei Animation",
          "Toei Animation",
          "Studio Deen",
          "Toei Animation",
          "Sunrise",
          "Studio Deen",
          "TMS Entertainment",
          "Toei Animation",
          "Pierrot",
          "TMS Entertainment",
          "Toei Animation",
          "Madhouse",
          "TMS Entertainment",
          "Shanghai Animation Film Studio",
          "Sunrise",
          "Sunrise",
          "Sunrise",
          "J.C.Staff",
          "J.C.Staff",
          "OLM",
          "OLM",
          "Studio Deen",
          "Madhouse",
          "J.C.Staff",
          "J.C.Staff",
          "Production I.G",
          "Production I.G",
          "Madhouse",
          "OLM",
          "Production I.G",
          "Production I.G",
          "Production I.G",
          "Madhouse",
          "OLM",
          "Studio Deen",
          "Studio Deen",
          "Sunrise",
          "Toei Animation",
          "Sunrise",
          "J.C.Staff",
          "Toei Animation",
          "TMS Entertainment",
          "Studio Deen",
          "J.C.Staff",
          "Studio Deen",
          "Toei Animation",
          "Madhouse",
          "TMS Entertainment",
          "Sunrise",
          "Sunrise",
          "Studio Deen",
          "Pierrot",
          "J.C.Staff",
          "OLM",
          "OLM",
          "Toei Animation",
          "Toei Animation",
          "TMS Entertainment",
          "Toei Animation",
          "Madhouse",
          "Production I.G",
          "OLM",
          "OLM",
          "OLM",
          "Studio Deen",
          "Production I.G",
          "Production I.G",
          "Studio Deen",
          "J.C.Staff",
          "Sunrise",
          "Studio Deen",
          "Production I.G",
          "Pierrot",
          "TMS Entertainment",
          "OLM",
          "OLM",
          "Production I.G",
          "Madhouse",
          "Pierrot",
          "TMS Entertainment",
          "Toei Animation",
          "OLM",
          "J.C.Staff",
          "J.C.Staff",
          "Studio Deen",
          "TMS Entertainment",
          "J.C.Staff",
          "J.C.Staff",
          "J.C.Staff",
          "J.C.Staff",
          "J.C.Staff",
          "Toei Animation",
          "J.C.Staff",
          "Production I.G",
          "J.C.Staff",
          "Pierrot",
          "Toei Animation",
          "Toei Animation",
          "TMS Entertainment",
          "TMS Entertainment",
          "Sunrise",
          "Sunrise",
          "Sunrise",
          "Sunrise",
          "TMS Entertainment",
          "Madhouse",
          "TMS Entertainment",
          "Pierrot",
          "TMS Entertainment",
          "TMS Entertainment",
          "Pierrot",
          "Toei Animation",
          "Studio Deen",
          "Production I.G",
          "Sunrise",
          "Studio Deen",
          "J.C.Staff",
          "J.C.Staff",
          "Toei Animation",
          "OLM",
          "OLM",
          "OLM",
          "Pierrot",
          "Sunrise",
          "Sunrise",
          "Madhouse",
          "Sunrise",
          "Pierrot",
          "Toei Animation",
          "Toei Animation",
          "Production I.G",
          "Toei Animation",
          "OLM",
          "Madhouse",
          "TMS Entertainment",
          "J.C.Staff",
          "Toei Animation",
          "Sunrise",
          "Madhouse",
          "TMS Entertainment",
          "J.C.Staff",
          "Studio Deen",
          "J.C.Staff",
          "J.C.Staff",
          "TMS Entertainment",
          "Studio Deen",
          "J.C.Staff",
          "Sunrise",
          "Studio Deen",
          "OLM",
          "Sunrise",
          "Sunrise",
          "J.C.Staff",
          "J.C.Staff",
          "Madhouse",
          "OLM",
          "Pierrot",
          "Toei Animation",
          "OLM",
          "OLM",
          "Toei Animation",
          "Toei Animation",
          "Sunrise",
          "Sunrise",
          "Production I.G",
          "J.C.Staff",
          "Studio Deen",
          "Sunrise",
          "J.C.Staff",
          "Sunrise",
          "OLM",
          "Madhouse",
          "TMS Entertainment",
          "TMS Entertainment",
          "J.C.Staff",
          "J.C.Staff",
          "Sunrise",
          "Studio Deen",
          "OLM",
          "Sunrise",
          "Sunrise",
          "Madhouse",
          "Sunrise",
          "TMS Entertainment",
          "Toei Animation",
          "Production I.G",
          "Toei Animation",
          "Shanghai Animation Film Studio",
          "Studio Deen",
          "OLM",
          "TMS Entertainment",
          "Production I.G",
          "J.C.Staff",
          "TMS Entertainment",
          "TMS Entertainment",
          "Production I.G",
          "Toei Animation",
          "Sunrise",
          "OLM",
          "Sunrise",
          "J.C.Staff",
          "Toei Animation",
          "Toei Animation",
          "Production I.G",
          "OLM",
          "TMS Entertainment",
          "Pierrot",
          "OLM",
          "Toei Animation",
          "Madhouse",
          "Studio Deen",
          "Sunrise",
          "Toei Animation",
          "Sunrise",
          "Sunrise",
          "Sunrise",
          "Sunrise",
          "Toei Animation",
          "OLM",
          "Sunrise",
          "Production I.G",
          "TMS Entertainment",
          "Pierrot",
          "OLM",
          "J.C.Staff",
          "Pierrot",
          "Studio Deen",
          "Studio Deen",
          "J.C.Staff",
          "Studio Deen",
          "J.C.Staff",
          "Toei Animation",
          "Studio Deen",
          "OLM",
          "Production I.G",
          "J.C.Staff",
          "J.C.Staff",
          "J.C.Staff",
          "Toei Animation",
          "Toei Animation",
          "Toei Animation",
          "Madhouse",
          "Sunrise",
          "Toei Animation",
          "Production I.G",
          "Toei Animation",
          "Madhouse",
          "Toei Animation",
          "OLM",
          "J.C.Staff",
          "Toei Animation",
          "Shanghai Animation Film Studio",
          "Pierrot",
          "TMS Entertainment",
          "Toei Animation",
          "Shanghai Animation Film Studio",
          "Studio Deen",
          "Toei Animation",
          "Production I.G",
          "J.C.Staff",
          "Sunrise",
          "J.C.Staff",
          "Pierrot",
          "OLM",
          "Production I.G",
          "Sunrise",
          "J.C.Staff",
          "OLM",
          "TMS Entertainment",
          "TMS Entertainment",
          "TMS Entertainment",
          "Sunrise",
          "Sunrise",
          "Sunrise",
          "Shanghai Animation Film Studio",
          "Shanghai Animation Film Studio",
          "Shanghai Animation Film Studio",
          "Shanghai Animation Film Studio",
          "Shanghai Animation Film Studio",
          "Shanghai Animation Film Studio",
          "Shanghai Animation Film Studio",
          "Shanghai Animation Film Studio",
          "Shanghai Animation Film Studio",
          "Shanghai Animation Film Studio",
          "Shanghai Animation Film Studio",
          "Shanghai Animation Film Studio",
          "Shanghai Animation Film Studio",
          "Shanghai Animation Film Studio",
          "Shanghai Animation Film Studio",
          "Shanghai Animation Film Studio",
          "Shanghai Animation Film Studio",
          "Shanghai Animation Film Studio",
          "Shanghai Animation Film Studio",
          "Shanghai Animation Film Studio",
          "Shanghai Animation Film Studio",
          "Shanghai Animation Film Studio",
          "Shanghai Animation Film Studio",
          "Shanghai Animation Film Studio",
          "Shanghai Animation Film Studio",
          "Shanghai Animation Film Studio",
          "Shanghai Animation Film Studio",
          "Shanghai Animation Film Studio",
          "Shanghai Animation Film Studio",
          "Shanghai Animation Film Studio",
          "Shanghai Animation Film Studio",
          "Shanghai Animation Film Studio",
          "Shanghai Animation Film Studio",
          "Shanghai Animation Film Studio",
          "Shanghai Animation Film Studio",
          "Shanghai Animation Film Studio",
          "Shanghai Animation Film Studio",
          "Shanghai Animation Film Studio",
          "Shanghai Animation Film Studio",
          "Shanghai Animation Film Studio",
          "Shanghai Animation Film Studio",
          "Shanghai Animation Film Studio",
          "Shanghai Animation Film Studio",
          "Production I.G",
          "Shanghai Animation Film Studio",
          "Shanghai Animation Film Studio",
          "Shanghai Animation Film Studio",
          "Shanghai Animation Film Studio",
          "Shanghai Animation Film Studio",
          "Shanghai Animation Film Studio",
          "TMS Entertainment",
          "Shanghai Animation Film Studio",
          "Shanghai Animation Film Studio",
          "Shanghai Animation Film Studio",
          "Shanghai Animation Film Studio",
          "Shanghai Animation Film Studio",
          "Shanghai Animation Film Studio",
          "Shanghai Animation Film Studio",
          "Shanghai Animation Film Studio",
          "Shanghai Animation Film Studio",
          "Shanghai Animation Film Studio",
          "Shanghai Animation Film Studio",
          "Shanghai Animation Film Studio",
          "Shanghai Animation Film Studio",
          "Shanghai Animation Film Studio",
          "Shanghai Animation Film Studio",
          "Shanghai Animation Film Studio",
          "Shanghai Animation Film Studio",
          "Shanghai Animation Film Studio",
          "Shanghai Animation Film Studio",
          "Shanghai Animation Film Studio",
          "Shanghai Animation Film Studio",
          "Shanghai Animation Film Studio",
          "Shanghai Animation Film Studio",
          "Shanghai Animation Film Studio",
          "Shanghai Animation Film Studio",
          "Shanghai Animation Film Studio",
          "Shanghai Animation Film Studio",
          "Shanghai Animation Film Studio",
          "Shanghai Animation Film Studio",
          "Shanghai Animation Film Studio",
          "Shanghai Animation Film Studio",
          "Shanghai Animation Film Studio",
          "Shanghai Animation Film Studio",
          "Shanghai Animation Film Studio",
          "Shanghai Animation Film Studio",
          "Shanghai Animation Film Studio",
          "Shanghai Animation Film Studio",
          "Shanghai Animation Film Studio",
          "Shanghai Animation Film Studio",
          "Shanghai Animation Film Studio",
          "Shanghai Animation Film Studio",
          "Shanghai Animation Film Studio",
          "Shanghai Animation Film Studio",
          "Shanghai Animation Film Studio",
          "Shanghai Animation Film Studio",
          "Shanghai Animation Film Studio",
          "Shanghai Animation Film Studio",
          "Shanghai Animation Film Studio",
          "Shanghai Animation Film Studio",
          "Shanghai Animation Film Studio",
          "Shanghai Animation Film Studio",
          "Shanghai Animation Film Studio",
          "Shanghai Animation Film Studio",
          "Shanghai Animation Film Studio",
          "Shanghai Animation Film Studio",
          "Shanghai Animation Film Studio",
          "J.C.Staff",
          "Shanghai Animation Film Studio",
          "Shanghai Animation Film Studio",
          "Shanghai Animation Film Studio",
          "Shanghai Animation Film Studio",
          "Shanghai Animation Film Studio",
          "Shanghai Animation Film Studio",
          "Shanghai Animation Film Studio",
          "Shanghai Animation Film Studio",
          "Shanghai Animation Film Studio",
          "Shanghai Animation Film Studio",
          "Shanghai Animation Film Studio",
          "Shanghai Animation Film Studio",
          "Shanghai Animation Film Studio",
          "Shanghai Animation Film Studio",
          "Shanghai Animation Film Studio",
          "Shanghai Animation Film Studio",
          "Shanghai Animation Film Studio",
          "Shanghai Animation Film Studio",
          "Shanghai Animation Film Studio",
          "Shanghai Animation Film Studio",
          "Shanghai Animation Film Studio",
          "Shanghai Animation Film Studio",
          "Shanghai Animation Film Studio",
          "Shanghai Animation Film Studio",
          "Shanghai Animation Film Studio",
          "Shanghai Animation Film Studio",
          "Shanghai Animation Film Studio",
          "Shanghai Animation Film Studio",
          "Shanghai Animation Film Studio",
          "Shanghai Animation Film Studio",
          "Shanghai Animation Film Studio",
          "Shanghai Animation Film Studio",
          "Shanghai Animation Film Studio",
          "Shanghai Animation Film Studio",
          "TMS Entertainment",
          "Shanghai Animation Film Studio",
          "Shanghai Animation Film Studio",
          "Shanghai Animation Film Studio",
          "Shanghai Animation Film Studio",
          "Shanghai Animation Film Studio",
          "Shanghai Animation Film Studio",
          "Shanghai Animation Film Studio",
          "Shanghai Animation Film Studio",
          "Shanghai Animation Film Studio",
          "Shanghai Animation Film Studio",
          "Shanghai Animation Film Studio",
          "Shanghai Animation Film Studio",
          "Shanghai Animation Film Studio",
          "Shanghai Animation Film Studio",
          "Studio Deen",
          "Shanghai Animation Film Studio",
          "Shanghai Animation Film Studio",
          "Shanghai Animation Film Studio",
          "Shanghai Animation Film Studio",
          "Shanghai Animation Film Studio",
          "Shanghai Animation Film Studio",
          "Shanghai Animation Film Studio",
          "Shanghai Animation Film Studio",
          "Shanghai Animation Film Studio",
          "Shanghai Animation Film Studio",
          "Shanghai Animation Film Studio",
          "Shanghai Animation Film Studio",
          "Shanghai Animation Film Studio",
          "Shanghai Animation Film Studio",
          "Shanghai Animation Film Studio",
          "Shanghai Animation Film Studio",
          "Shanghai Animation Film Studio",
          "Shanghai Animation Film Studio",
          "Shanghai Animation Film Studio",
          "Shanghai Animation Film Studio",
          "Shanghai Animation Film Studio",
          "Shanghai Animation Film Studio",
          "Shanghai Animation Film Studio",
          "Shanghai Animation Film Studio",
          "Shanghai Animation Film Studio",
          "Shanghai Animation Film Studio",
          "Shanghai Animation Film Studio",
          "Shanghai Animation Film Studio",
          "Shanghai Animation Film Studio",
          "Shanghai Animation Film Studio",
          "Shanghai Animation Film Studio",
          "Shanghai Animation Film Studio",
          "Shanghai Animation Film Studio",
          "Shanghai Animation Film Studio",
          "Shanghai Animation Film Studio",
          "Shanghai Animation Film Studio",
          "Shanghai Animation Film Studio",
          "Shanghai Animation Film Studio",
          "Shanghai Animation Film Studio",
          "Shanghai Animation Film Studio",
          "Shanghai Animation Film Studio",
          "Shanghai Animation Film Studio",
          "Shanghai Animation Film Studio",
          "Shanghai Animation Film Studio",
          "Shanghai Animation Film Studio",
          "Shanghai Animation Film Studio",
          "Shanghai Animation Film Studio",
          "Shanghai Animation Film Studio",
          "Shanghai Animation Film Studio",
          "Shanghai Animation Film Studio",
          "Shanghai Animation Film Studio",
          "Shanghai Animation Film Studio",
          "Shanghai Animation Film Studio",
          "Shanghai Animation Film Studio",
          "Shanghai Animation Film Studio",
          "Shanghai Animation Film Studio",
          "Shanghai Animation Film Studio",
          "Shanghai Animation Film Studio",
          "Shanghai Animation Film Studio",
          "Shanghai Animation Film Studio",
          "Shanghai Animation Film Studio",
          "Shanghai Animation Film Studio",
          "Shanghai Animation Film Studio",
          "J.C.Staff",
          "Shanghai Animation Film Studio",
          "Shanghai Animation Film Studio",
          "Shanghai Animation Film Studio",
          "Shanghai Animation Film Studio",
          "Shanghai Animation Film Studio",
          "Shanghai Animation Film Studio",
          "Shanghai Animation Film Studio",
          "Shanghai Animation Film Studio",
          "Shanghai Animation Film Studio",
          "Shanghai Animation Film Studio",
          "Shanghai Animation Film Studio",
          "Shanghai Animation Film Studio",
          "Shanghai Animation Film Studio",
          "Shanghai Animation Film Studio",
          "Shanghai Animation Film Studio",
          "Shanghai Animation Film Studio",
          "Shanghai Animation Film Studio",
          "Shanghai Animation Film Studio",
          "Shanghai Animation Film Studio",
          "Shanghai Animation Film Studio",
          "Shanghai Animation Film Studio",
          "Shanghai Animation Film Studio",
          "Shanghai Animation Film Studio",
          "Shanghai Animation Film Studio",
          "Shanghai Animation Film Studio",
          "Shanghai Animation Film Studio",
          "Shanghai Animation Film Studio",
          "Shanghai Animation Film Studio",
          "Shanghai Animation Film Studio",
          "Shanghai Animation Film Studio",
          "Shanghai Animation Film Studio",
          "Shanghai Animation Film Studio",
          "Shanghai Animation Film Studio",
          "Shanghai Animation Film Studio",
          "Shanghai Animation Film Studio",
          "Shanghai Animation Film Studio",
          "Shanghai Animation Film Studio",
          "Shanghai Animation Film Studio",
          "Shanghai Animation Film Studio",
          "Shanghai Animation Film Studio",
          "Shanghai Animation Film Studio",
          "Shanghai Animation Film Studio",
          "Shanghai Animation Film Studio",
          "Shanghai Animation Film Studio",
          "Shanghai Animation Film Studio",
          "Shanghai Animation Film Studio",
          "Shanghai Animation Film Studio",
          "Shanghai Animation Film Studio",
          "Shanghai Animation Film Studio",
          "Shanghai Animation Film Studio",
          "Shanghai Animation Film Studio",
          "Shanghai Animation Film Studio",
          "Shanghai Animation Film Studio",
          "Shanghai Animation Film Studio",
          "Shanghai Animation Film Studio",
          "Shanghai Animation Film Studio",
          "Shanghai Animation Film Studio",
          "Shanghai Animation Film Studio",
          "Shanghai Animation Film Studio",
          "Shanghai Animation Film Studio",
          "Shanghai Animation Film Studio",
          "Shanghai Animation Film Studio",
          "Shanghai Animation Film Studio",
          "Shanghai Animation Film Studio",
          "Shanghai Animation Film Studio",
          "Shanghai Animation Film Studio",
          "Shanghai Animation Film Studio",
          "Shanghai Animation Film Studio",
          "Shanghai Animation Film Studio",
          "Shanghai Animation Film Studio",
          "Shanghai Animation Film Studio",
          "Shanghai Animation Film Studio",
          "Shanghai Animation Film Studio",
          "Shanghai Animation Film Studio",
          "Shanghai Animation Film Studio",
          "Shanghai Animation Film Studio",
          "Shanghai Animation Film Studio",
          "Shanghai Animation Film Studio",
          "Shanghai Animation Film Studio",
          "Shanghai Animation Film Studio",
          "Shanghai Animation Film Studio",
          "Shanghai Animation Film Studio",
          "Shanghai Animation Film Studio",
          "Shanghai Animation Film Studio",
          "Shanghai Animation Film Studio",
          "Shanghai Animation Film Studio",
          "Shanghai Animation Film Studio",
          "Shanghai Animation Film Studio",
          "Shanghai Animation Film Studio",
          "Shanghai Animation Film Studio",
          "Shanghai Animation Film Studio",
          "Shanghai Animation Film Studio",
          "Shanghai Animation Film Studio",
          "Shanghai Animation Film Studio",
          "Sunrise",
          "Studio Deen",
          "Toei Animation",
          "TMS Entertainment",
          "J.C.Staff",
          "Sunrise",
          "Pierrot",
          "Shanghai Animation Film Studio",
          "Shanghai Animation Film Studio",
          "Shanghai Animation Film Studio",
          "Shanghai Animation Film Studio",
          "Production I.G",
          "Shanghai Animation Film Studio",
          "Toei Animation",
          "J.C.Staff",
          "Toei Animation",
          "Production I.G",
          "Studio Deen",
          "OLM",
          "Studio Deen",
          "J.C.Staff",
          "Toei Animation",
          "Pierrot",
          "J.C.Staff",
          "J.C.Staff",
          "J.C.Staff",
          "OLM",
          "J.C.Staff",
          "TMS Entertainment",
          "J.C.Staff",
          "OLM",
          "OLM",
          "Pierrot",
          "J.C.Staff",
          "Toei Animation",
          "OLM",
          "Toei Animation",
          "Sunrise",
          "Sunrise",
          "Studio Deen",
          "TMS Entertainment",
          "TMS Entertainment",
          "Pierrot",
          "Toei Animation",
          "Studio Deen",
          "TMS Entertainment",
          "J.C.Staff",
          "Toei Animation",
          "OLM",
          "Production I.G",
          "Madhouse",
          "Madhouse",
          "Madhouse",
          "Toei Animation",
          "Sunrise",
          "OLM",
          "TMS Entertainment",
          "Production I.G",
          "Sunrise",
          "Pierrot",
          "Pierrot",
          "Sunrise",
          "Toei Animation",
          "TMS Entertainment",
          "TMS Entertainment",
          "OLM",
          "Studio Deen",
          "Madhouse",
          "J.C.Staff",
          "TMS Entertainment",
          "OLM",
          "TMS Entertainment",
          "Toei Animation",
          "Toei Animation",
          "Madhouse",
          "OLM",
          "Production I.G",
          "Sunrise",
          "Sunrise",
          "TMS Entertainment",
          "J.C.Staff",
          "TMS Entertainment",
          "J.C.Staff",
          "Sunrise",
          "J.C.Staff",
          "J.C.Staff",
          "TMS Entertainment",
          "TMS Entertainment",
          "Sunrise",
          "Sunrise",
          "TMS Entertainment",
          "OLM",
          "OLM",
          "Sunrise",
          "Toei Animation",
          "Madhouse",
          "Toei Animation",
          "OLM",
          "Sunrise",
          "OLM",
          "Production I.G",
          "Sunrise",
          "OLM",
          "TMS Entertainment",
          "OLM",
          "J.C.Staff",
          "TMS Entertainment",
          "OLM",
          "Studio Deen",
          "OLM",
          "Production I.G",
          "Toei Animation",
          "Sunrise",
          "Toei Animation",
          "Madhouse",
          "Toei Animation",
          "Toei Animation",
          "TMS Entertainment",
          "Toei Animation",
          "OLM",
          "Madhouse",
          "Toei Animation",
          "Toei Animation",
          "J.C.Staff",
          "OLM",
          "TMS Entertainment",
          "TMS Entertainment",
          "Shanghai Animation Film Studio",
          "Sunrise",
          "Production I.G",
          "Studio Deen",
          "J.C.Staff",
          "Sunrise",
          "J.C.Staff",
          "Pierrot",
          "Toei Animation",
          "TMS Entertainment",
          "Production I.G",
          "Shanghai Animation Film Studio",
          "Sunrise",
          "Studio Deen",
          "Toei Animation",
          "Sunrise",
          "Madhouse",
          "Toei Animation",
          "Sunrise",
          "Madhouse",
          "Toei Animation",
          "Toei Animation",
          "J.C.Staff",
          "Studio Deen",
          "J.C.Staff",
          "TMS Entertainment",
          "OLM",
          "Sunrise",
          "Production I.G",
          "OLM",
          "Production I.G",
          "Production I.G",
          "Madhouse",
          "Toei Animation",
          "Madhouse",
          "TMS Entertainment",
          "Sunrise",
          "Studio Deen",
          "TMS Entertainment",
          "J.C.Staff",
          "Madhouse",
          "J.C.Staff",
          "Studio Deen",
          "Sunrise",
          "Toei Animation",
          "Pierrot",
          "Sunrise",
          "Production I.G",
          "Toei Animation",
          "Sunrise",
          "TMS Entertainment",
          "Sunrise",
          "Sunrise",
          "Toei Animation",
          "Production I.G",
          "TMS Entertainment",
          "Madhouse",
          "OLM",
          "OLM",
          "OLM",
          "Toei Animation",
          "Toei Animation",
          "Toei Animation",
          "Studio Deen",
          "Shanghai Animation Film Studio",
          "Pierrot",
          "Madhouse",
          "Toei Animation",
          "TMS Entertainment",
          "Sunrise",
          "TMS Entertainment",
          "Pierrot",
          "J.C.Staff",
          "Shanghai Animation Film Studio",
          "TMS Entertainment",
          "Sunrise",
          "Shanghai Animation Film Studio",
          "Shanghai Animation Film Studio",
          "Shanghai Animation Film Studio",
          "Toei Animation",
          "Toei Animation",
          "Studio Deen",
          "Studio Deen",
          "J.C.Staff",
          "Studio Deen",
          "J.C.Staff",
          "Production I.G",
          "Toei Animation",
          "Production I.G",
          "Sunrise",
          "Toei Animation",
          "Production I.G",
          "OLM",
          "TMS Entertainment",
          "Sunrise",
          "Studio Deen"
         ],
         "root": {
          "color": "lightgrey"
         },
         "type": "treemap"
        }
       ],
       "layout": {
        "font": {
         "size": 12
        },
        "margin": {
         "b": 10,
         "l": 10,
         "r": 10,
         "t": 50
        },
        "template": {
         "data": {
          "bar": [
           {
            "error_x": {
             "color": "#2a3f5f"
            },
            "error_y": {
             "color": "#2a3f5f"
            },
            "marker": {
             "line": {
              "color": "#E5ECF6",
              "width": 0.5
             },
             "pattern": {
              "fillmode": "overlay",
              "size": 10,
              "solidity": 0.2
             }
            },
            "type": "bar"
           }
          ],
          "barpolar": [
           {
            "marker": {
             "line": {
              "color": "#E5ECF6",
              "width": 0.5
             },
             "pattern": {
              "fillmode": "overlay",
              "size": 10,
              "solidity": 0.2
             }
            },
            "type": "barpolar"
           }
          ],
          "carpet": [
           {
            "aaxis": {
             "endlinecolor": "#2a3f5f",
             "gridcolor": "white",
             "linecolor": "white",
             "minorgridcolor": "white",
             "startlinecolor": "#2a3f5f"
            },
            "baxis": {
             "endlinecolor": "#2a3f5f",
             "gridcolor": "white",
             "linecolor": "white",
             "minorgridcolor": "white",
             "startlinecolor": "#2a3f5f"
            },
            "type": "carpet"
           }
          ],
          "choropleth": [
           {
            "colorbar": {
             "outlinewidth": 0,
             "ticks": ""
            },
            "type": "choropleth"
           }
          ],
          "contour": [
           {
            "colorbar": {
             "outlinewidth": 0,
             "ticks": ""
            },
            "colorscale": [
             [
              0,
              "#0d0887"
             ],
             [
              0.1111111111111111,
              "#46039f"
             ],
             [
              0.2222222222222222,
              "#7201a8"
             ],
             [
              0.3333333333333333,
              "#9c179e"
             ],
             [
              0.4444444444444444,
              "#bd3786"
             ],
             [
              0.5555555555555556,
              "#d8576b"
             ],
             [
              0.6666666666666666,
              "#ed7953"
             ],
             [
              0.7777777777777778,
              "#fb9f3a"
             ],
             [
              0.8888888888888888,
              "#fdca26"
             ],
             [
              1,
              "#f0f921"
             ]
            ],
            "type": "contour"
           }
          ],
          "contourcarpet": [
           {
            "colorbar": {
             "outlinewidth": 0,
             "ticks": ""
            },
            "type": "contourcarpet"
           }
          ],
          "heatmap": [
           {
            "colorbar": {
             "outlinewidth": 0,
             "ticks": ""
            },
            "colorscale": [
             [
              0,
              "#0d0887"
             ],
             [
              0.1111111111111111,
              "#46039f"
             ],
             [
              0.2222222222222222,
              "#7201a8"
             ],
             [
              0.3333333333333333,
              "#9c179e"
             ],
             [
              0.4444444444444444,
              "#bd3786"
             ],
             [
              0.5555555555555556,
              "#d8576b"
             ],
             [
              0.6666666666666666,
              "#ed7953"
             ],
             [
              0.7777777777777778,
              "#fb9f3a"
             ],
             [
              0.8888888888888888,
              "#fdca26"
             ],
             [
              1,
              "#f0f921"
             ]
            ],
            "type": "heatmap"
           }
          ],
          "heatmapgl": [
           {
            "colorbar": {
             "outlinewidth": 0,
             "ticks": ""
            },
            "colorscale": [
             [
              0,
              "#0d0887"
             ],
             [
              0.1111111111111111,
              "#46039f"
             ],
             [
              0.2222222222222222,
              "#7201a8"
             ],
             [
              0.3333333333333333,
              "#9c179e"
             ],
             [
              0.4444444444444444,
              "#bd3786"
             ],
             [
              0.5555555555555556,
              "#d8576b"
             ],
             [
              0.6666666666666666,
              "#ed7953"
             ],
             [
              0.7777777777777778,
              "#fb9f3a"
             ],
             [
              0.8888888888888888,
              "#fdca26"
             ],
             [
              1,
              "#f0f921"
             ]
            ],
            "type": "heatmapgl"
           }
          ],
          "histogram": [
           {
            "marker": {
             "pattern": {
              "fillmode": "overlay",
              "size": 10,
              "solidity": 0.2
             }
            },
            "type": "histogram"
           }
          ],
          "histogram2d": [
           {
            "colorbar": {
             "outlinewidth": 0,
             "ticks": ""
            },
            "colorscale": [
             [
              0,
              "#0d0887"
             ],
             [
              0.1111111111111111,
              "#46039f"
             ],
             [
              0.2222222222222222,
              "#7201a8"
             ],
             [
              0.3333333333333333,
              "#9c179e"
             ],
             [
              0.4444444444444444,
              "#bd3786"
             ],
             [
              0.5555555555555556,
              "#d8576b"
             ],
             [
              0.6666666666666666,
              "#ed7953"
             ],
             [
              0.7777777777777778,
              "#fb9f3a"
             ],
             [
              0.8888888888888888,
              "#fdca26"
             ],
             [
              1,
              "#f0f921"
             ]
            ],
            "type": "histogram2d"
           }
          ],
          "histogram2dcontour": [
           {
            "colorbar": {
             "outlinewidth": 0,
             "ticks": ""
            },
            "colorscale": [
             [
              0,
              "#0d0887"
             ],
             [
              0.1111111111111111,
              "#46039f"
             ],
             [
              0.2222222222222222,
              "#7201a8"
             ],
             [
              0.3333333333333333,
              "#9c179e"
             ],
             [
              0.4444444444444444,
              "#bd3786"
             ],
             [
              0.5555555555555556,
              "#d8576b"
             ],
             [
              0.6666666666666666,
              "#ed7953"
             ],
             [
              0.7777777777777778,
              "#fb9f3a"
             ],
             [
              0.8888888888888888,
              "#fdca26"
             ],
             [
              1,
              "#f0f921"
             ]
            ],
            "type": "histogram2dcontour"
           }
          ],
          "mesh3d": [
           {
            "colorbar": {
             "outlinewidth": 0,
             "ticks": ""
            },
            "type": "mesh3d"
           }
          ],
          "parcoords": [
           {
            "line": {
             "colorbar": {
              "outlinewidth": 0,
              "ticks": ""
             }
            },
            "type": "parcoords"
           }
          ],
          "pie": [
           {
            "automargin": true,
            "type": "pie"
           }
          ],
          "scatter": [
           {
            "fillpattern": {
             "fillmode": "overlay",
             "size": 10,
             "solidity": 0.2
            },
            "type": "scatter"
           }
          ],
          "scatter3d": [
           {
            "line": {
             "colorbar": {
              "outlinewidth": 0,
              "ticks": ""
             }
            },
            "marker": {
             "colorbar": {
              "outlinewidth": 0,
              "ticks": ""
             }
            },
            "type": "scatter3d"
           }
          ],
          "scattercarpet": [
           {
            "marker": {
             "colorbar": {
              "outlinewidth": 0,
              "ticks": ""
             }
            },
            "type": "scattercarpet"
           }
          ],
          "scattergeo": [
           {
            "marker": {
             "colorbar": {
              "outlinewidth": 0,
              "ticks": ""
             }
            },
            "type": "scattergeo"
           }
          ],
          "scattergl": [
           {
            "marker": {
             "colorbar": {
              "outlinewidth": 0,
              "ticks": ""
             }
            },
            "type": "scattergl"
           }
          ],
          "scattermapbox": [
           {
            "marker": {
             "colorbar": {
              "outlinewidth": 0,
              "ticks": ""
             }
            },
            "type": "scattermapbox"
           }
          ],
          "scatterpolar": [
           {
            "marker": {
             "colorbar": {
              "outlinewidth": 0,
              "ticks": ""
             }
            },
            "type": "scatterpolar"
           }
          ],
          "scatterpolargl": [
           {
            "marker": {
             "colorbar": {
              "outlinewidth": 0,
              "ticks": ""
             }
            },
            "type": "scatterpolargl"
           }
          ],
          "scatterternary": [
           {
            "marker": {
             "colorbar": {
              "outlinewidth": 0,
              "ticks": ""
             }
            },
            "type": "scatterternary"
           }
          ],
          "surface": [
           {
            "colorbar": {
             "outlinewidth": 0,
             "ticks": ""
            },
            "colorscale": [
             [
              0,
              "#0d0887"
             ],
             [
              0.1111111111111111,
              "#46039f"
             ],
             [
              0.2222222222222222,
              "#7201a8"
             ],
             [
              0.3333333333333333,
              "#9c179e"
             ],
             [
              0.4444444444444444,
              "#bd3786"
             ],
             [
              0.5555555555555556,
              "#d8576b"
             ],
             [
              0.6666666666666666,
              "#ed7953"
             ],
             [
              0.7777777777777778,
              "#fb9f3a"
             ],
             [
              0.8888888888888888,
              "#fdca26"
             ],
             [
              1,
              "#f0f921"
             ]
            ],
            "type": "surface"
           }
          ],
          "table": [
           {
            "cells": {
             "fill": {
              "color": "#EBF0F8"
             },
             "line": {
              "color": "white"
             }
            },
            "header": {
             "fill": {
              "color": "#C8D4E3"
             },
             "line": {
              "color": "white"
             }
            },
            "type": "table"
           }
          ]
         },
         "layout": {
          "annotationdefaults": {
           "arrowcolor": "#2a3f5f",
           "arrowhead": 0,
           "arrowwidth": 1
          },
          "autotypenumbers": "strict",
          "coloraxis": {
           "colorbar": {
            "outlinewidth": 0,
            "ticks": ""
           }
          },
          "colorscale": {
           "diverging": [
            [
             0,
             "#8e0152"
            ],
            [
             0.1,
             "#c51b7d"
            ],
            [
             0.2,
             "#de77ae"
            ],
            [
             0.3,
             "#f1b6da"
            ],
            [
             0.4,
             "#fde0ef"
            ],
            [
             0.5,
             "#f7f7f7"
            ],
            [
             0.6,
             "#e6f5d0"
            ],
            [
             0.7,
             "#b8e186"
            ],
            [
             0.8,
             "#7fbc41"
            ],
            [
             0.9,
             "#4d9221"
            ],
            [
             1,
             "#276419"
            ]
           ],
           "sequential": [
            [
             0,
             "#0d0887"
            ],
            [
             0.1111111111111111,
             "#46039f"
            ],
            [
             0.2222222222222222,
             "#7201a8"
            ],
            [
             0.3333333333333333,
             "#9c179e"
            ],
            [
             0.4444444444444444,
             "#bd3786"
            ],
            [
             0.5555555555555556,
             "#d8576b"
            ],
            [
             0.6666666666666666,
             "#ed7953"
            ],
            [
             0.7777777777777778,
             "#fb9f3a"
            ],
            [
             0.8888888888888888,
             "#fdca26"
            ],
            [
             1,
             "#f0f921"
            ]
           ],
           "sequentialminus": [
            [
             0,
             "#0d0887"
            ],
            [
             0.1111111111111111,
             "#46039f"
            ],
            [
             0.2222222222222222,
             "#7201a8"
            ],
            [
             0.3333333333333333,
             "#9c179e"
            ],
            [
             0.4444444444444444,
             "#bd3786"
            ],
            [
             0.5555555555555556,
             "#d8576b"
            ],
            [
             0.6666666666666666,
             "#ed7953"
            ],
            [
             0.7777777777777778,
             "#fb9f3a"
            ],
            [
             0.8888888888888888,
             "#fdca26"
            ],
            [
             1,
             "#f0f921"
            ]
           ]
          },
          "colorway": [
           "#636efa",
           "#EF553B",
           "#00cc96",
           "#ab63fa",
           "#FFA15A",
           "#19d3f3",
           "#FF6692",
           "#B6E880",
           "#FF97FF",
           "#FECB52"
          ],
          "font": {
           "color": "#2a3f5f"
          },
          "geo": {
           "bgcolor": "white",
           "lakecolor": "white",
           "landcolor": "#E5ECF6",
           "showlakes": true,
           "showland": true,
           "subunitcolor": "white"
          },
          "hoverlabel": {
           "align": "left"
          },
          "hovermode": "closest",
          "mapbox": {
           "style": "light"
          },
          "paper_bgcolor": "white",
          "plot_bgcolor": "#E5ECF6",
          "polar": {
           "angularaxis": {
            "gridcolor": "white",
            "linecolor": "white",
            "ticks": ""
           },
           "bgcolor": "#E5ECF6",
           "radialaxis": {
            "gridcolor": "white",
            "linecolor": "white",
            "ticks": ""
           }
          },
          "scene": {
           "xaxis": {
            "backgroundcolor": "#E5ECF6",
            "gridcolor": "white",
            "gridwidth": 2,
            "linecolor": "white",
            "showbackground": true,
            "ticks": "",
            "zerolinecolor": "white"
           },
           "yaxis": {
            "backgroundcolor": "#E5ECF6",
            "gridcolor": "white",
            "gridwidth": 2,
            "linecolor": "white",
            "showbackground": true,
            "ticks": "",
            "zerolinecolor": "white"
           },
           "zaxis": {
            "backgroundcolor": "#E5ECF6",
            "gridcolor": "white",
            "gridwidth": 2,
            "linecolor": "white",
            "showbackground": true,
            "ticks": "",
            "zerolinecolor": "white"
           }
          },
          "shapedefaults": {
           "line": {
            "color": "#2a3f5f"
           }
          },
          "ternary": {
           "aaxis": {
            "gridcolor": "white",
            "linecolor": "white",
            "ticks": ""
           },
           "baxis": {
            "gridcolor": "white",
            "linecolor": "white",
            "ticks": ""
           },
           "bgcolor": "#E5ECF6",
           "caxis": {
            "gridcolor": "white",
            "linecolor": "white",
            "ticks": ""
           }
          },
          "title": {
           "x": 0.05
          },
          "xaxis": {
           "automargin": true,
           "gridcolor": "white",
           "linecolor": "white",
           "ticks": "",
           "title": {
            "standoff": 15
           },
           "zerolinecolor": "white",
           "zerolinewidth": 2
          },
          "yaxis": {
           "automargin": true,
           "gridcolor": "white",
           "linecolor": "white",
           "ticks": "",
           "title": {
            "standoff": 15
           },
           "zerolinecolor": "white",
           "zerolinewidth": 2
          }
         }
        },
        "title": {
         "font": {
          "size": 20
         },
         "text": "Top 10 Studios with Anime (Treemap)"
        }
       }
      }
     },
     "metadata": {},
     "output_type": "display_data"
    }
   ],
   "source": [
    "# Creating the treemap plot to show anime of top 10 studios\n",
    "fig = go.Figure(go.Treemap(\n",
    "                           labels=['Studios'] + top_studios.index.tolist() + top_studios_df['Name'].tolist(),\n",
    "                           parents=[''] + ['Studios'] * len(top_studios.index.tolist()) + top_studios_df['Studios'].tolist(),\n",
    "                           root_color = 'lightgrey',\n",
    "                           hovertemplate='Name: %{label}<br>Studio: %{parent}'\n",
    "                          ))\n",
    "\n",
    "fig.update_layout(margin = dict(t = 50, l = 10, r = 10, b = 10))\n",
    "\n",
    "# Set the title\n",
    "fig.update_layout(\n",
    "                  title = 'Top 10 Studios with Anime (Treemap)',\n",
    "                  title_font = dict(size = 20),\n",
    "                  font = dict(size = 12)\n",
    "                 )\n",
    "\n",
    "fig.show()"
   ]
  },
  {
   "cell_type": "code",
   "execution_count": 31,
   "metadata": {},
   "outputs": [
    {
     "data": {
      "text/plain": [
       "Source\n",
       "Original        9622\n",
       "Manga           4687\n",
       "Unknown         3689\n",
       "Game            1232\n",
       "Visual novel    1107\n",
       "Other           1008\n",
       "Light novel      968\n",
       "Novel            709\n",
       "Web manga        447\n",
       "Music            395\n",
       "4-koma manga     314\n",
       "Picture book     210\n",
       "Book             191\n",
       "Mixed media      162\n",
       "Web novel         82\n",
       "Card game         68\n",
       "Radio             14\n",
       "Name: count, dtype: int64"
      ]
     },
     "execution_count": 31,
     "metadata": {},
     "output_type": "execute_result"
    }
   ],
   "source": [
    "data['Source'].value_counts()"
   ]
  },
  {
   "cell_type": "code",
   "execution_count": 32,
   "metadata": {},
   "outputs": [
    {
     "data": {
      "application/vnd.plotly.v1+json": {
       "config": {
        "plotlyServerURL": "https://plot.ly"
       },
       "data": [
        {
         "hovertemplate": "Source: %{y}<br>Number of Animes: %{x}<extra></extra>",
         "marker": {
          "color": [
           9622,
           4687,
           1232,
           1107,
           1008,
           968,
           709,
           447,
           395,
           314,
           210,
           191,
           162,
           82,
           68,
           14
          ],
          "colorscale": [
           [
            0,
            "#440154"
           ],
           [
            0.1111111111111111,
            "#482878"
           ],
           [
            0.2222222222222222,
            "#3e4989"
           ],
           [
            0.3333333333333333,
            "#31688e"
           ],
           [
            0.4444444444444444,
            "#26828e"
           ],
           [
            0.5555555555555556,
            "#1f9e89"
           ],
           [
            0.6666666666666666,
            "#35b779"
           ],
           [
            0.7777777777777778,
            "#6ece58"
           ],
           [
            0.8888888888888888,
            "#b5de2b"
           ],
           [
            1,
            "#fde725"
           ]
          ]
         },
         "orientation": "h",
         "text": [
          9622,
          4687,
          1232,
          1107,
          1008,
          968,
          709,
          447,
          395,
          314,
          210,
          191,
          162,
          82,
          68,
          14
         ],
         "type": "bar",
         "x": [
          9622,
          4687,
          1232,
          1107,
          1008,
          968,
          709,
          447,
          395,
          314,
          210,
          191,
          162,
          82,
          68,
          14
         ],
         "y": [
          "Original",
          "Manga",
          "Game",
          "Visual novel",
          "Other",
          "Light novel",
          "Novel",
          "Web manga",
          "Music",
          "4-koma manga",
          "Picture book",
          "Book",
          "Mixed media",
          "Web novel",
          "Card game",
          "Radio"
         ]
        }
       ],
       "layout": {
        "font": {
         "size": 12
        },
        "template": {
         "data": {
          "bar": [
           {
            "error_x": {
             "color": "#2a3f5f"
            },
            "error_y": {
             "color": "#2a3f5f"
            },
            "marker": {
             "line": {
              "color": "#E5ECF6",
              "width": 0.5
             },
             "pattern": {
              "fillmode": "overlay",
              "size": 10,
              "solidity": 0.2
             }
            },
            "type": "bar"
           }
          ],
          "barpolar": [
           {
            "marker": {
             "line": {
              "color": "#E5ECF6",
              "width": 0.5
             },
             "pattern": {
              "fillmode": "overlay",
              "size": 10,
              "solidity": 0.2
             }
            },
            "type": "barpolar"
           }
          ],
          "carpet": [
           {
            "aaxis": {
             "endlinecolor": "#2a3f5f",
             "gridcolor": "white",
             "linecolor": "white",
             "minorgridcolor": "white",
             "startlinecolor": "#2a3f5f"
            },
            "baxis": {
             "endlinecolor": "#2a3f5f",
             "gridcolor": "white",
             "linecolor": "white",
             "minorgridcolor": "white",
             "startlinecolor": "#2a3f5f"
            },
            "type": "carpet"
           }
          ],
          "choropleth": [
           {
            "colorbar": {
             "outlinewidth": 0,
             "ticks": ""
            },
            "type": "choropleth"
           }
          ],
          "contour": [
           {
            "colorbar": {
             "outlinewidth": 0,
             "ticks": ""
            },
            "colorscale": [
             [
              0,
              "#0d0887"
             ],
             [
              0.1111111111111111,
              "#46039f"
             ],
             [
              0.2222222222222222,
              "#7201a8"
             ],
             [
              0.3333333333333333,
              "#9c179e"
             ],
             [
              0.4444444444444444,
              "#bd3786"
             ],
             [
              0.5555555555555556,
              "#d8576b"
             ],
             [
              0.6666666666666666,
              "#ed7953"
             ],
             [
              0.7777777777777778,
              "#fb9f3a"
             ],
             [
              0.8888888888888888,
              "#fdca26"
             ],
             [
              1,
              "#f0f921"
             ]
            ],
            "type": "contour"
           }
          ],
          "contourcarpet": [
           {
            "colorbar": {
             "outlinewidth": 0,
             "ticks": ""
            },
            "type": "contourcarpet"
           }
          ],
          "heatmap": [
           {
            "colorbar": {
             "outlinewidth": 0,
             "ticks": ""
            },
            "colorscale": [
             [
              0,
              "#0d0887"
             ],
             [
              0.1111111111111111,
              "#46039f"
             ],
             [
              0.2222222222222222,
              "#7201a8"
             ],
             [
              0.3333333333333333,
              "#9c179e"
             ],
             [
              0.4444444444444444,
              "#bd3786"
             ],
             [
              0.5555555555555556,
              "#d8576b"
             ],
             [
              0.6666666666666666,
              "#ed7953"
             ],
             [
              0.7777777777777778,
              "#fb9f3a"
             ],
             [
              0.8888888888888888,
              "#fdca26"
             ],
             [
              1,
              "#f0f921"
             ]
            ],
            "type": "heatmap"
           }
          ],
          "heatmapgl": [
           {
            "colorbar": {
             "outlinewidth": 0,
             "ticks": ""
            },
            "colorscale": [
             [
              0,
              "#0d0887"
             ],
             [
              0.1111111111111111,
              "#46039f"
             ],
             [
              0.2222222222222222,
              "#7201a8"
             ],
             [
              0.3333333333333333,
              "#9c179e"
             ],
             [
              0.4444444444444444,
              "#bd3786"
             ],
             [
              0.5555555555555556,
              "#d8576b"
             ],
             [
              0.6666666666666666,
              "#ed7953"
             ],
             [
              0.7777777777777778,
              "#fb9f3a"
             ],
             [
              0.8888888888888888,
              "#fdca26"
             ],
             [
              1,
              "#f0f921"
             ]
            ],
            "type": "heatmapgl"
           }
          ],
          "histogram": [
           {
            "marker": {
             "pattern": {
              "fillmode": "overlay",
              "size": 10,
              "solidity": 0.2
             }
            },
            "type": "histogram"
           }
          ],
          "histogram2d": [
           {
            "colorbar": {
             "outlinewidth": 0,
             "ticks": ""
            },
            "colorscale": [
             [
              0,
              "#0d0887"
             ],
             [
              0.1111111111111111,
              "#46039f"
             ],
             [
              0.2222222222222222,
              "#7201a8"
             ],
             [
              0.3333333333333333,
              "#9c179e"
             ],
             [
              0.4444444444444444,
              "#bd3786"
             ],
             [
              0.5555555555555556,
              "#d8576b"
             ],
             [
              0.6666666666666666,
              "#ed7953"
             ],
             [
              0.7777777777777778,
              "#fb9f3a"
             ],
             [
              0.8888888888888888,
              "#fdca26"
             ],
             [
              1,
              "#f0f921"
             ]
            ],
            "type": "histogram2d"
           }
          ],
          "histogram2dcontour": [
           {
            "colorbar": {
             "outlinewidth": 0,
             "ticks": ""
            },
            "colorscale": [
             [
              0,
              "#0d0887"
             ],
             [
              0.1111111111111111,
              "#46039f"
             ],
             [
              0.2222222222222222,
              "#7201a8"
             ],
             [
              0.3333333333333333,
              "#9c179e"
             ],
             [
              0.4444444444444444,
              "#bd3786"
             ],
             [
              0.5555555555555556,
              "#d8576b"
             ],
             [
              0.6666666666666666,
              "#ed7953"
             ],
             [
              0.7777777777777778,
              "#fb9f3a"
             ],
             [
              0.8888888888888888,
              "#fdca26"
             ],
             [
              1,
              "#f0f921"
             ]
            ],
            "type": "histogram2dcontour"
           }
          ],
          "mesh3d": [
           {
            "colorbar": {
             "outlinewidth": 0,
             "ticks": ""
            },
            "type": "mesh3d"
           }
          ],
          "parcoords": [
           {
            "line": {
             "colorbar": {
              "outlinewidth": 0,
              "ticks": ""
             }
            },
            "type": "parcoords"
           }
          ],
          "pie": [
           {
            "automargin": true,
            "type": "pie"
           }
          ],
          "scatter": [
           {
            "fillpattern": {
             "fillmode": "overlay",
             "size": 10,
             "solidity": 0.2
            },
            "type": "scatter"
           }
          ],
          "scatter3d": [
           {
            "line": {
             "colorbar": {
              "outlinewidth": 0,
              "ticks": ""
             }
            },
            "marker": {
             "colorbar": {
              "outlinewidth": 0,
              "ticks": ""
             }
            },
            "type": "scatter3d"
           }
          ],
          "scattercarpet": [
           {
            "marker": {
             "colorbar": {
              "outlinewidth": 0,
              "ticks": ""
             }
            },
            "type": "scattercarpet"
           }
          ],
          "scattergeo": [
           {
            "marker": {
             "colorbar": {
              "outlinewidth": 0,
              "ticks": ""
             }
            },
            "type": "scattergeo"
           }
          ],
          "scattergl": [
           {
            "marker": {
             "colorbar": {
              "outlinewidth": 0,
              "ticks": ""
             }
            },
            "type": "scattergl"
           }
          ],
          "scattermapbox": [
           {
            "marker": {
             "colorbar": {
              "outlinewidth": 0,
              "ticks": ""
             }
            },
            "type": "scattermapbox"
           }
          ],
          "scatterpolar": [
           {
            "marker": {
             "colorbar": {
              "outlinewidth": 0,
              "ticks": ""
             }
            },
            "type": "scatterpolar"
           }
          ],
          "scatterpolargl": [
           {
            "marker": {
             "colorbar": {
              "outlinewidth": 0,
              "ticks": ""
             }
            },
            "type": "scatterpolargl"
           }
          ],
          "scatterternary": [
           {
            "marker": {
             "colorbar": {
              "outlinewidth": 0,
              "ticks": ""
             }
            },
            "type": "scatterternary"
           }
          ],
          "surface": [
           {
            "colorbar": {
             "outlinewidth": 0,
             "ticks": ""
            },
            "colorscale": [
             [
              0,
              "#0d0887"
             ],
             [
              0.1111111111111111,
              "#46039f"
             ],
             [
              0.2222222222222222,
              "#7201a8"
             ],
             [
              0.3333333333333333,
              "#9c179e"
             ],
             [
              0.4444444444444444,
              "#bd3786"
             ],
             [
              0.5555555555555556,
              "#d8576b"
             ],
             [
              0.6666666666666666,
              "#ed7953"
             ],
             [
              0.7777777777777778,
              "#fb9f3a"
             ],
             [
              0.8888888888888888,
              "#fdca26"
             ],
             [
              1,
              "#f0f921"
             ]
            ],
            "type": "surface"
           }
          ],
          "table": [
           {
            "cells": {
             "fill": {
              "color": "#EBF0F8"
             },
             "line": {
              "color": "white"
             }
            },
            "header": {
             "fill": {
              "color": "#C8D4E3"
             },
             "line": {
              "color": "white"
             }
            },
            "type": "table"
           }
          ]
         },
         "layout": {
          "annotationdefaults": {
           "arrowcolor": "#2a3f5f",
           "arrowhead": 0,
           "arrowwidth": 1
          },
          "autotypenumbers": "strict",
          "coloraxis": {
           "colorbar": {
            "outlinewidth": 0,
            "ticks": ""
           }
          },
          "colorscale": {
           "diverging": [
            [
             0,
             "#8e0152"
            ],
            [
             0.1,
             "#c51b7d"
            ],
            [
             0.2,
             "#de77ae"
            ],
            [
             0.3,
             "#f1b6da"
            ],
            [
             0.4,
             "#fde0ef"
            ],
            [
             0.5,
             "#f7f7f7"
            ],
            [
             0.6,
             "#e6f5d0"
            ],
            [
             0.7,
             "#b8e186"
            ],
            [
             0.8,
             "#7fbc41"
            ],
            [
             0.9,
             "#4d9221"
            ],
            [
             1,
             "#276419"
            ]
           ],
           "sequential": [
            [
             0,
             "#0d0887"
            ],
            [
             0.1111111111111111,
             "#46039f"
            ],
            [
             0.2222222222222222,
             "#7201a8"
            ],
            [
             0.3333333333333333,
             "#9c179e"
            ],
            [
             0.4444444444444444,
             "#bd3786"
            ],
            [
             0.5555555555555556,
             "#d8576b"
            ],
            [
             0.6666666666666666,
             "#ed7953"
            ],
            [
             0.7777777777777778,
             "#fb9f3a"
            ],
            [
             0.8888888888888888,
             "#fdca26"
            ],
            [
             1,
             "#f0f921"
            ]
           ],
           "sequentialminus": [
            [
             0,
             "#0d0887"
            ],
            [
             0.1111111111111111,
             "#46039f"
            ],
            [
             0.2222222222222222,
             "#7201a8"
            ],
            [
             0.3333333333333333,
             "#9c179e"
            ],
            [
             0.4444444444444444,
             "#bd3786"
            ],
            [
             0.5555555555555556,
             "#d8576b"
            ],
            [
             0.6666666666666666,
             "#ed7953"
            ],
            [
             0.7777777777777778,
             "#fb9f3a"
            ],
            [
             0.8888888888888888,
             "#fdca26"
            ],
            [
             1,
             "#f0f921"
            ]
           ]
          },
          "colorway": [
           "#636efa",
           "#EF553B",
           "#00cc96",
           "#ab63fa",
           "#FFA15A",
           "#19d3f3",
           "#FF6692",
           "#B6E880",
           "#FF97FF",
           "#FECB52"
          ],
          "font": {
           "color": "#2a3f5f"
          },
          "geo": {
           "bgcolor": "white",
           "lakecolor": "white",
           "landcolor": "#E5ECF6",
           "showlakes": true,
           "showland": true,
           "subunitcolor": "white"
          },
          "hoverlabel": {
           "align": "left"
          },
          "hovermode": "closest",
          "mapbox": {
           "style": "light"
          },
          "paper_bgcolor": "white",
          "plot_bgcolor": "#E5ECF6",
          "polar": {
           "angularaxis": {
            "gridcolor": "white",
            "linecolor": "white",
            "ticks": ""
           },
           "bgcolor": "#E5ECF6",
           "radialaxis": {
            "gridcolor": "white",
            "linecolor": "white",
            "ticks": ""
           }
          },
          "scene": {
           "xaxis": {
            "backgroundcolor": "#E5ECF6",
            "gridcolor": "white",
            "gridwidth": 2,
            "linecolor": "white",
            "showbackground": true,
            "ticks": "",
            "zerolinecolor": "white"
           },
           "yaxis": {
            "backgroundcolor": "#E5ECF6",
            "gridcolor": "white",
            "gridwidth": 2,
            "linecolor": "white",
            "showbackground": true,
            "ticks": "",
            "zerolinecolor": "white"
           },
           "zaxis": {
            "backgroundcolor": "#E5ECF6",
            "gridcolor": "white",
            "gridwidth": 2,
            "linecolor": "white",
            "showbackground": true,
            "ticks": "",
            "zerolinecolor": "white"
           }
          },
          "shapedefaults": {
           "line": {
            "color": "#2a3f5f"
           }
          },
          "ternary": {
           "aaxis": {
            "gridcolor": "white",
            "linecolor": "white",
            "ticks": ""
           },
           "baxis": {
            "gridcolor": "white",
            "linecolor": "white",
            "ticks": ""
           },
           "bgcolor": "#E5ECF6",
           "caxis": {
            "gridcolor": "white",
            "linecolor": "white",
            "ticks": ""
           }
          },
          "title": {
           "x": 0.05
          },
          "xaxis": {
           "automargin": true,
           "gridcolor": "white",
           "linecolor": "white",
           "ticks": "",
           "title": {
            "standoff": 15
           },
           "zerolinecolor": "white",
           "zerolinewidth": 2
          },
          "yaxis": {
           "automargin": true,
           "gridcolor": "white",
           "linecolor": "white",
           "ticks": "",
           "title": {
            "standoff": 15
           },
           "zerolinecolor": "white",
           "zerolinewidth": 2
          }
         }
        },
        "title": {
         "font": {
          "size": 20
         },
         "text": "Number of Animes by Source"
        },
        "xaxis": {
         "title": {
          "text": "Number of Animes"
         }
        },
        "yaxis": {
         "title": {
          "text": "Source"
         }
        }
       }
      }
     },
     "metadata": {},
     "output_type": "display_data"
    }
   ],
   "source": [
    "# Count the occurrences of each source\n",
    "source_counts = data['Source'].value_counts()\n",
    "\n",
    "# Filter the source_counts series to exclude 'Unknown'\n",
    "source_counts = source_counts[source_counts.index != 'Unknown']\n",
    "\n",
    "# Horizontal bar plot to show count of anime based on source\n",
    "fig = go.Figure(data = go.Bar(\n",
    "    x = source_counts.values,\n",
    "    y = source_counts.index,\n",
    "    orientation = 'h',  # Set the orientation to horizontal\n",
    "    marker = dict(color = source_counts.values, colorscale = 'Viridis'),  # Set the color of the bars using a colorscale\n",
    "    text = source_counts.values,  # Set the text to be displayed on hover\n",
    "    hovertemplate = 'Source: %{y}<br>Number of Animes: %{x}<extra></extra>',  # Customize the hover template\n",
    "))\n",
    "\n",
    "# Set the title and axis labels\n",
    "fig.update_layout(\n",
    "    title = 'Number of Animes by Source',\n",
    "    xaxis_title = 'Number of Animes',\n",
    "    yaxis_title = 'Source',\n",
    "    title_font = dict(size = 20),\n",
    "    font = dict(size = 12)\n",
    ")\n",
    "\n",
    "fig.show()"
   ]
  },
  {
   "cell_type": "code",
   "execution_count": 33,
   "metadata": {},
   "outputs": [
    {
     "data": {
      "text/plain": [
       "Favorites\n",
       "0         10808\n",
       "1          2310\n",
       "2          1202\n",
       "3           798\n",
       "4           543\n",
       "          ...  \n",
       "5139          1\n",
       "3004          1\n",
       "198986        1\n",
       "76343         1\n",
       "47235         1\n",
       "Name: count, Length: 1814, dtype: int64"
      ]
     },
     "execution_count": 33,
     "metadata": {},
     "output_type": "execute_result"
    }
   ],
   "source": [
    "data['Favorites'].value_counts()"
   ]
  },
  {
   "cell_type": "code",
   "execution_count": 34,
   "metadata": {},
   "outputs": [
    {
     "data": {
      "application/vnd.plotly.v1+json": {
       "config": {
        "plotlyServerURL": "https://plot.ly"
       },
       "data": [
        {
         "hovertemplate": "Anime: %{y}<br>Favorites: %{x}<extra></extra>",
         "marker": {
          "color": "#1f99b4"
         },
         "orientation": "h",
         "text": [
          217606,
          200265,
          198986,
          182964,
          167586,
          163844,
          107735,
          105379,
          100638,
          88375
         ],
         "type": "bar",
         "x": [
          217606,
          200265,
          198986,
          182964,
          167586,
          163844,
          107735,
          105379,
          100638,
          88375
         ],
         "y": [
          "Fullmetal Alchemist: Brotherhood",
          "Hunter x Hunter (2011)",
          "One Piece",
          "Steins;Gate",
          "Death Note",
          "Shingeki no Kyojin",
          "Naruto: Shippuuden",
          "Code Geass: Hangyaku no Lelouch",
          "Neon Genesis Evangelion",
          "Kimetsu no Yaiba"
         ]
        }
       ],
       "layout": {
        "font": {
         "size": 12
        },
        "template": {
         "data": {
          "bar": [
           {
            "error_x": {
             "color": "#2a3f5f"
            },
            "error_y": {
             "color": "#2a3f5f"
            },
            "marker": {
             "line": {
              "color": "#E5ECF6",
              "width": 0.5
             },
             "pattern": {
              "fillmode": "overlay",
              "size": 10,
              "solidity": 0.2
             }
            },
            "type": "bar"
           }
          ],
          "barpolar": [
           {
            "marker": {
             "line": {
              "color": "#E5ECF6",
              "width": 0.5
             },
             "pattern": {
              "fillmode": "overlay",
              "size": 10,
              "solidity": 0.2
             }
            },
            "type": "barpolar"
           }
          ],
          "carpet": [
           {
            "aaxis": {
             "endlinecolor": "#2a3f5f",
             "gridcolor": "white",
             "linecolor": "white",
             "minorgridcolor": "white",
             "startlinecolor": "#2a3f5f"
            },
            "baxis": {
             "endlinecolor": "#2a3f5f",
             "gridcolor": "white",
             "linecolor": "white",
             "minorgridcolor": "white",
             "startlinecolor": "#2a3f5f"
            },
            "type": "carpet"
           }
          ],
          "choropleth": [
           {
            "colorbar": {
             "outlinewidth": 0,
             "ticks": ""
            },
            "type": "choropleth"
           }
          ],
          "contour": [
           {
            "colorbar": {
             "outlinewidth": 0,
             "ticks": ""
            },
            "colorscale": [
             [
              0,
              "#0d0887"
             ],
             [
              0.1111111111111111,
              "#46039f"
             ],
             [
              0.2222222222222222,
              "#7201a8"
             ],
             [
              0.3333333333333333,
              "#9c179e"
             ],
             [
              0.4444444444444444,
              "#bd3786"
             ],
             [
              0.5555555555555556,
              "#d8576b"
             ],
             [
              0.6666666666666666,
              "#ed7953"
             ],
             [
              0.7777777777777778,
              "#fb9f3a"
             ],
             [
              0.8888888888888888,
              "#fdca26"
             ],
             [
              1,
              "#f0f921"
             ]
            ],
            "type": "contour"
           }
          ],
          "contourcarpet": [
           {
            "colorbar": {
             "outlinewidth": 0,
             "ticks": ""
            },
            "type": "contourcarpet"
           }
          ],
          "heatmap": [
           {
            "colorbar": {
             "outlinewidth": 0,
             "ticks": ""
            },
            "colorscale": [
             [
              0,
              "#0d0887"
             ],
             [
              0.1111111111111111,
              "#46039f"
             ],
             [
              0.2222222222222222,
              "#7201a8"
             ],
             [
              0.3333333333333333,
              "#9c179e"
             ],
             [
              0.4444444444444444,
              "#bd3786"
             ],
             [
              0.5555555555555556,
              "#d8576b"
             ],
             [
              0.6666666666666666,
              "#ed7953"
             ],
             [
              0.7777777777777778,
              "#fb9f3a"
             ],
             [
              0.8888888888888888,
              "#fdca26"
             ],
             [
              1,
              "#f0f921"
             ]
            ],
            "type": "heatmap"
           }
          ],
          "heatmapgl": [
           {
            "colorbar": {
             "outlinewidth": 0,
             "ticks": ""
            },
            "colorscale": [
             [
              0,
              "#0d0887"
             ],
             [
              0.1111111111111111,
              "#46039f"
             ],
             [
              0.2222222222222222,
              "#7201a8"
             ],
             [
              0.3333333333333333,
              "#9c179e"
             ],
             [
              0.4444444444444444,
              "#bd3786"
             ],
             [
              0.5555555555555556,
              "#d8576b"
             ],
             [
              0.6666666666666666,
              "#ed7953"
             ],
             [
              0.7777777777777778,
              "#fb9f3a"
             ],
             [
              0.8888888888888888,
              "#fdca26"
             ],
             [
              1,
              "#f0f921"
             ]
            ],
            "type": "heatmapgl"
           }
          ],
          "histogram": [
           {
            "marker": {
             "pattern": {
              "fillmode": "overlay",
              "size": 10,
              "solidity": 0.2
             }
            },
            "type": "histogram"
           }
          ],
          "histogram2d": [
           {
            "colorbar": {
             "outlinewidth": 0,
             "ticks": ""
            },
            "colorscale": [
             [
              0,
              "#0d0887"
             ],
             [
              0.1111111111111111,
              "#46039f"
             ],
             [
              0.2222222222222222,
              "#7201a8"
             ],
             [
              0.3333333333333333,
              "#9c179e"
             ],
             [
              0.4444444444444444,
              "#bd3786"
             ],
             [
              0.5555555555555556,
              "#d8576b"
             ],
             [
              0.6666666666666666,
              "#ed7953"
             ],
             [
              0.7777777777777778,
              "#fb9f3a"
             ],
             [
              0.8888888888888888,
              "#fdca26"
             ],
             [
              1,
              "#f0f921"
             ]
            ],
            "type": "histogram2d"
           }
          ],
          "histogram2dcontour": [
           {
            "colorbar": {
             "outlinewidth": 0,
             "ticks": ""
            },
            "colorscale": [
             [
              0,
              "#0d0887"
             ],
             [
              0.1111111111111111,
              "#46039f"
             ],
             [
              0.2222222222222222,
              "#7201a8"
             ],
             [
              0.3333333333333333,
              "#9c179e"
             ],
             [
              0.4444444444444444,
              "#bd3786"
             ],
             [
              0.5555555555555556,
              "#d8576b"
             ],
             [
              0.6666666666666666,
              "#ed7953"
             ],
             [
              0.7777777777777778,
              "#fb9f3a"
             ],
             [
              0.8888888888888888,
              "#fdca26"
             ],
             [
              1,
              "#f0f921"
             ]
            ],
            "type": "histogram2dcontour"
           }
          ],
          "mesh3d": [
           {
            "colorbar": {
             "outlinewidth": 0,
             "ticks": ""
            },
            "type": "mesh3d"
           }
          ],
          "parcoords": [
           {
            "line": {
             "colorbar": {
              "outlinewidth": 0,
              "ticks": ""
             }
            },
            "type": "parcoords"
           }
          ],
          "pie": [
           {
            "automargin": true,
            "type": "pie"
           }
          ],
          "scatter": [
           {
            "fillpattern": {
             "fillmode": "overlay",
             "size": 10,
             "solidity": 0.2
            },
            "type": "scatter"
           }
          ],
          "scatter3d": [
           {
            "line": {
             "colorbar": {
              "outlinewidth": 0,
              "ticks": ""
             }
            },
            "marker": {
             "colorbar": {
              "outlinewidth": 0,
              "ticks": ""
             }
            },
            "type": "scatter3d"
           }
          ],
          "scattercarpet": [
           {
            "marker": {
             "colorbar": {
              "outlinewidth": 0,
              "ticks": ""
             }
            },
            "type": "scattercarpet"
           }
          ],
          "scattergeo": [
           {
            "marker": {
             "colorbar": {
              "outlinewidth": 0,
              "ticks": ""
             }
            },
            "type": "scattergeo"
           }
          ],
          "scattergl": [
           {
            "marker": {
             "colorbar": {
              "outlinewidth": 0,
              "ticks": ""
             }
            },
            "type": "scattergl"
           }
          ],
          "scattermapbox": [
           {
            "marker": {
             "colorbar": {
              "outlinewidth": 0,
              "ticks": ""
             }
            },
            "type": "scattermapbox"
           }
          ],
          "scatterpolar": [
           {
            "marker": {
             "colorbar": {
              "outlinewidth": 0,
              "ticks": ""
             }
            },
            "type": "scatterpolar"
           }
          ],
          "scatterpolargl": [
           {
            "marker": {
             "colorbar": {
              "outlinewidth": 0,
              "ticks": ""
             }
            },
            "type": "scatterpolargl"
           }
          ],
          "scatterternary": [
           {
            "marker": {
             "colorbar": {
              "outlinewidth": 0,
              "ticks": ""
             }
            },
            "type": "scatterternary"
           }
          ],
          "surface": [
           {
            "colorbar": {
             "outlinewidth": 0,
             "ticks": ""
            },
            "colorscale": [
             [
              0,
              "#0d0887"
             ],
             [
              0.1111111111111111,
              "#46039f"
             ],
             [
              0.2222222222222222,
              "#7201a8"
             ],
             [
              0.3333333333333333,
              "#9c179e"
             ],
             [
              0.4444444444444444,
              "#bd3786"
             ],
             [
              0.5555555555555556,
              "#d8576b"
             ],
             [
              0.6666666666666666,
              "#ed7953"
             ],
             [
              0.7777777777777778,
              "#fb9f3a"
             ],
             [
              0.8888888888888888,
              "#fdca26"
             ],
             [
              1,
              "#f0f921"
             ]
            ],
            "type": "surface"
           }
          ],
          "table": [
           {
            "cells": {
             "fill": {
              "color": "#EBF0F8"
             },
             "line": {
              "color": "white"
             }
            },
            "header": {
             "fill": {
              "color": "#C8D4E3"
             },
             "line": {
              "color": "white"
             }
            },
            "type": "table"
           }
          ]
         },
         "layout": {
          "annotationdefaults": {
           "arrowcolor": "#2a3f5f",
           "arrowhead": 0,
           "arrowwidth": 1
          },
          "autotypenumbers": "strict",
          "coloraxis": {
           "colorbar": {
            "outlinewidth": 0,
            "ticks": ""
           }
          },
          "colorscale": {
           "diverging": [
            [
             0,
             "#8e0152"
            ],
            [
             0.1,
             "#c51b7d"
            ],
            [
             0.2,
             "#de77ae"
            ],
            [
             0.3,
             "#f1b6da"
            ],
            [
             0.4,
             "#fde0ef"
            ],
            [
             0.5,
             "#f7f7f7"
            ],
            [
             0.6,
             "#e6f5d0"
            ],
            [
             0.7,
             "#b8e186"
            ],
            [
             0.8,
             "#7fbc41"
            ],
            [
             0.9,
             "#4d9221"
            ],
            [
             1,
             "#276419"
            ]
           ],
           "sequential": [
            [
             0,
             "#0d0887"
            ],
            [
             0.1111111111111111,
             "#46039f"
            ],
            [
             0.2222222222222222,
             "#7201a8"
            ],
            [
             0.3333333333333333,
             "#9c179e"
            ],
            [
             0.4444444444444444,
             "#bd3786"
            ],
            [
             0.5555555555555556,
             "#d8576b"
            ],
            [
             0.6666666666666666,
             "#ed7953"
            ],
            [
             0.7777777777777778,
             "#fb9f3a"
            ],
            [
             0.8888888888888888,
             "#fdca26"
            ],
            [
             1,
             "#f0f921"
            ]
           ],
           "sequentialminus": [
            [
             0,
             "#0d0887"
            ],
            [
             0.1111111111111111,
             "#46039f"
            ],
            [
             0.2222222222222222,
             "#7201a8"
            ],
            [
             0.3333333333333333,
             "#9c179e"
            ],
            [
             0.4444444444444444,
             "#bd3786"
            ],
            [
             0.5555555555555556,
             "#d8576b"
            ],
            [
             0.6666666666666666,
             "#ed7953"
            ],
            [
             0.7777777777777778,
             "#fb9f3a"
            ],
            [
             0.8888888888888888,
             "#fdca26"
            ],
            [
             1,
             "#f0f921"
            ]
           ]
          },
          "colorway": [
           "#636efa",
           "#EF553B",
           "#00cc96",
           "#ab63fa",
           "#FFA15A",
           "#19d3f3",
           "#FF6692",
           "#B6E880",
           "#FF97FF",
           "#FECB52"
          ],
          "font": {
           "color": "#2a3f5f"
          },
          "geo": {
           "bgcolor": "white",
           "lakecolor": "white",
           "landcolor": "#E5ECF6",
           "showlakes": true,
           "showland": true,
           "subunitcolor": "white"
          },
          "hoverlabel": {
           "align": "left"
          },
          "hovermode": "closest",
          "mapbox": {
           "style": "light"
          },
          "paper_bgcolor": "white",
          "plot_bgcolor": "#E5ECF6",
          "polar": {
           "angularaxis": {
            "gridcolor": "white",
            "linecolor": "white",
            "ticks": ""
           },
           "bgcolor": "#E5ECF6",
           "radialaxis": {
            "gridcolor": "white",
            "linecolor": "white",
            "ticks": ""
           }
          },
          "scene": {
           "xaxis": {
            "backgroundcolor": "#E5ECF6",
            "gridcolor": "white",
            "gridwidth": 2,
            "linecolor": "white",
            "showbackground": true,
            "ticks": "",
            "zerolinecolor": "white"
           },
           "yaxis": {
            "backgroundcolor": "#E5ECF6",
            "gridcolor": "white",
            "gridwidth": 2,
            "linecolor": "white",
            "showbackground": true,
            "ticks": "",
            "zerolinecolor": "white"
           },
           "zaxis": {
            "backgroundcolor": "#E5ECF6",
            "gridcolor": "white",
            "gridwidth": 2,
            "linecolor": "white",
            "showbackground": true,
            "ticks": "",
            "zerolinecolor": "white"
           }
          },
          "shapedefaults": {
           "line": {
            "color": "#2a3f5f"
           }
          },
          "ternary": {
           "aaxis": {
            "gridcolor": "white",
            "linecolor": "white",
            "ticks": ""
           },
           "baxis": {
            "gridcolor": "white",
            "linecolor": "white",
            "ticks": ""
           },
           "bgcolor": "#E5ECF6",
           "caxis": {
            "gridcolor": "white",
            "linecolor": "white",
            "ticks": ""
           }
          },
          "title": {
           "x": 0.05
          },
          "xaxis": {
           "automargin": true,
           "gridcolor": "white",
           "linecolor": "white",
           "ticks": "",
           "title": {
            "standoff": 15
           },
           "zerolinecolor": "white",
           "zerolinewidth": 2
          },
          "yaxis": {
           "automargin": true,
           "gridcolor": "white",
           "linecolor": "white",
           "ticks": "",
           "title": {
            "standoff": 15
           },
           "zerolinecolor": "white",
           "zerolinewidth": 2
          }
         }
        },
        "title": {
         "font": {
          "size": 20
         },
         "text": "Top 10 Most Favorited Anime"
        },
        "xaxis": {
         "title": {
          "text": "Number of Favorites"
         }
        },
        "yaxis": {
         "title": {
          "text": "Anime"
         }
        }
       }
      }
     },
     "metadata": {},
     "output_type": "display_data"
    }
   ],
   "source": [
    "# Sort the DataFrame by the 'Favorites' column in descending order\n",
    "sorted_df = data.sort_values('Favorites', ascending = False)\n",
    "\n",
    "# Select the top 10 most favorited anime\n",
    "top_favorites = sorted_df.head(10)\n",
    "\n",
    "# Horizontal bar plot to show count of anime based on favourites\n",
    "fig = go.Figure(data = go.Bar(\n",
    "    x = top_favorites['Favorites'],\n",
    "    y = top_favorites['Name'],\n",
    "    orientation = 'h',  # Set the orientation to horizontal\n",
    "    marker = dict(color = '#1f99b4'),  # Set the color of the bars\n",
    "    text = top_favorites['Favorites'],  # Set the text to be displayed on hover\n",
    "    hovertemplate = 'Anime: %{y}<br>Favorites: %{x}<extra></extra>',  # Customize the hover template\n",
    "))\n",
    "\n",
    "# Set the title and axis labels\n",
    "fig.update_layout(\n",
    "    title = 'Top 10 Most Favorited Anime',\n",
    "    xaxis_title = 'Number of Favorites',\n",
    "    yaxis_title = 'Anime',\n",
    "    title_font = dict(size = 20),\n",
    "    font = dict(size = 12)\n",
    ")\n",
    "\n",
    "fig.show()"
   ]
  },
  {
   "cell_type": "markdown",
   "metadata": {},
   "source": [
    "### 3. Similarity matrix"
   ]
  },
  {
   "cell_type": "code",
   "execution_count": 35,
   "metadata": {},
   "outputs": [],
   "source": [
    "# Function to combine certain column values to create the soup\n",
    "def create_soup(x):\n",
    "    def clean_and_format(element):\n",
    "    # Convert element to string, remove special characters, and convert to lowercase\n",
    "        return re.sub(r'[^a-zA-Z0-9\\s]', '', str(element)).lower()\n",
    "    def format_rating(element):\n",
    "    # Convert element to string, remove spaces and convert to lowercase\n",
    "        return re.sub(' ', '', str(element)).lower()\n",
    "    \n",
    "    return ' '.join([\n",
    "        'score_' + str(f'{x.Score:.2f}'),  \n",
    "        'popularity_' + str(x['Popularity']), \n",
    "        'type_' + clean_and_format(str(x['Type'])),     \n",
    "        'episodes_' + str(x['Episodes']),  \n",
    "        'aired_' + str(x['Aired']),\n",
    "        'rank_' + str(x['Rank']), \n",
    "        'favorites_' + str(x['Favorites']),\n",
    "        'status_' + str(x['Status']),    \n",
    "        clean_and_format(str(x['Producers'])),\n",
    "        clean_and_format(str(x['Licensors'])), \n",
    "        clean_and_format(str(x['Studios'])),\n",
    "        clean_and_format(str(x['Genres'])), \n",
    "        #clean_and_format(str(x['Synopsis'])),\n",
    "        clean_and_format(str(x['Source'])),      \n",
    "        format_rating(str(x['Rating'])),       \n",
    "    ])"
   ]
  },
  {
   "cell_type": "code",
   "execution_count": 36,
   "metadata": {},
   "outputs": [
    {
     "data": {
      "text/html": [
       "<div>\n",
       "<style scoped>\n",
       "    .dataframe tbody tr th:only-of-type {\n",
       "        vertical-align: middle;\n",
       "    }\n",
       "\n",
       "    .dataframe tbody tr th {\n",
       "        vertical-align: top;\n",
       "    }\n",
       "\n",
       "    .dataframe thead th {\n",
       "        text-align: right;\n",
       "    }\n",
       "</style>\n",
       "<table border=\"1\" class=\"dataframe\">\n",
       "  <thead>\n",
       "    <tr style=\"text-align: right;\">\n",
       "      <th></th>\n",
       "      <th>anime_id</th>\n",
       "      <th>Name</th>\n",
       "      <th>English name</th>\n",
       "      <th>Other name</th>\n",
       "      <th>Score</th>\n",
       "      <th>Genres</th>\n",
       "      <th>Synopsis</th>\n",
       "      <th>Type</th>\n",
       "      <th>Episodes</th>\n",
       "      <th>Aired</th>\n",
       "      <th>...</th>\n",
       "      <th>Source</th>\n",
       "      <th>Duration</th>\n",
       "      <th>Rating</th>\n",
       "      <th>Rank</th>\n",
       "      <th>Popularity</th>\n",
       "      <th>Favorites</th>\n",
       "      <th>Scored By</th>\n",
       "      <th>Members</th>\n",
       "      <th>Image URL</th>\n",
       "      <th>soup</th>\n",
       "    </tr>\n",
       "  </thead>\n",
       "  <tbody>\n",
       "    <tr>\n",
       "      <th>0</th>\n",
       "      <td>1</td>\n",
       "      <td>Cowboy Bebop</td>\n",
       "      <td>Cowboy Bebop</td>\n",
       "      <td>カウボーイビバップ</td>\n",
       "      <td>8.75</td>\n",
       "      <td>Action, Award Winning, Sci-Fi</td>\n",
       "      <td>Crime is timeless. By the year 2071, humanity ...</td>\n",
       "      <td>TV</td>\n",
       "      <td>26.0</td>\n",
       "      <td>1998</td>\n",
       "      <td>...</td>\n",
       "      <td>Original</td>\n",
       "      <td>24 min per ep</td>\n",
       "      <td>R - 17+ (violence &amp; profanity)</td>\n",
       "      <td>41.0</td>\n",
       "      <td>43</td>\n",
       "      <td>78525</td>\n",
       "      <td>914193.0</td>\n",
       "      <td>1771505</td>\n",
       "      <td>https://cdn.myanimelist.net/images/anime/4/196...</td>\n",
       "      <td>score_8.75 popularity_43 type_tv episodes_26.0...</td>\n",
       "    </tr>\n",
       "    <tr>\n",
       "      <th>1</th>\n",
       "      <td>5</td>\n",
       "      <td>Cowboy Bebop: Tengoku no Tobira</td>\n",
       "      <td>Cowboy Bebop: The Movie</td>\n",
       "      <td>カウボーイビバップ 天国の扉</td>\n",
       "      <td>8.38</td>\n",
       "      <td>Action, Sci-Fi</td>\n",
       "      <td>Another day, another bounty—such is the life o...</td>\n",
       "      <td>Movie</td>\n",
       "      <td>1.0</td>\n",
       "      <td>2001</td>\n",
       "      <td>...</td>\n",
       "      <td>Original</td>\n",
       "      <td>1 hr 55 min</td>\n",
       "      <td>R - 17+ (violence &amp; profanity)</td>\n",
       "      <td>189.0</td>\n",
       "      <td>602</td>\n",
       "      <td>1448</td>\n",
       "      <td>206248.0</td>\n",
       "      <td>360978</td>\n",
       "      <td>https://cdn.myanimelist.net/images/anime/1439/...</td>\n",
       "      <td>score_8.38 popularity_602 type_movie episodes_...</td>\n",
       "    </tr>\n",
       "    <tr>\n",
       "      <th>2</th>\n",
       "      <td>6</td>\n",
       "      <td>Trigun</td>\n",
       "      <td>Trigun</td>\n",
       "      <td>トライガン</td>\n",
       "      <td>8.22</td>\n",
       "      <td>Action, Adventure, Sci-Fi</td>\n",
       "      <td>Vash the Stampede is the man with a $$60,000,0...</td>\n",
       "      <td>TV</td>\n",
       "      <td>26.0</td>\n",
       "      <td>1998</td>\n",
       "      <td>...</td>\n",
       "      <td>Manga</td>\n",
       "      <td>24 min per ep</td>\n",
       "      <td>PG-13 - Teens 13 or older</td>\n",
       "      <td>328.0</td>\n",
       "      <td>246</td>\n",
       "      <td>15035</td>\n",
       "      <td>356739.0</td>\n",
       "      <td>727252</td>\n",
       "      <td>https://cdn.myanimelist.net/images/anime/7/203...</td>\n",
       "      <td>score_8.22 popularity_246 type_tv episodes_26....</td>\n",
       "    </tr>\n",
       "  </tbody>\n",
       "</table>\n",
       "<p>3 rows × 25 columns</p>\n",
       "</div>"
      ],
      "text/plain": [
       "   anime_id                             Name             English name  \\\n",
       "0         1                     Cowboy Bebop             Cowboy Bebop   \n",
       "1         5  Cowboy Bebop: Tengoku no Tobira  Cowboy Bebop: The Movie   \n",
       "2         6                           Trigun                   Trigun   \n",
       "\n",
       "       Other name  Score                         Genres  \\\n",
       "0       カウボーイビバップ   8.75  Action, Award Winning, Sci-Fi   \n",
       "1  カウボーイビバップ 天国の扉   8.38                 Action, Sci-Fi   \n",
       "2           トライガン   8.22      Action, Adventure, Sci-Fi   \n",
       "\n",
       "                                            Synopsis   Type Episodes  Aired  \\\n",
       "0  Crime is timeless. By the year 2071, humanity ...     TV     26.0   1998   \n",
       "1  Another day, another bounty—such is the life o...  Movie      1.0   2001   \n",
       "2  Vash the Stampede is the man with a $$60,000,0...     TV     26.0   1998   \n",
       "\n",
       "   ...    Source       Duration                          Rating   Rank  \\\n",
       "0  ...  Original  24 min per ep  R - 17+ (violence & profanity)   41.0   \n",
       "1  ...  Original    1 hr 55 min  R - 17+ (violence & profanity)  189.0   \n",
       "2  ...     Manga  24 min per ep       PG-13 - Teens 13 or older  328.0   \n",
       "\n",
       "  Popularity Favorites Scored By  Members  \\\n",
       "0         43     78525  914193.0  1771505   \n",
       "1        602      1448  206248.0   360978   \n",
       "2        246     15035  356739.0   727252   \n",
       "\n",
       "                                           Image URL  \\\n",
       "0  https://cdn.myanimelist.net/images/anime/4/196...   \n",
       "1  https://cdn.myanimelist.net/images/anime/1439/...   \n",
       "2  https://cdn.myanimelist.net/images/anime/7/203...   \n",
       "\n",
       "                                                soup  \n",
       "0  score_8.75 popularity_43 type_tv episodes_26.0...  \n",
       "1  score_8.38 popularity_602 type_movie episodes_...  \n",
       "2  score_8.22 popularity_246 type_tv episodes_26....  \n",
       "\n",
       "[3 rows x 25 columns]"
      ]
     },
     "execution_count": 36,
     "metadata": {},
     "output_type": "execute_result"
    }
   ],
   "source": [
    "data['soup'] = data.apply(create_soup, axis = 1)\n",
    "data.head(3)"
   ]
  },
  {
   "cell_type": "code",
   "execution_count": 37,
   "metadata": {},
   "outputs": [],
   "source": [
    "data = data.reset_index()"
   ]
  },
  {
   "cell_type": "code",
   "execution_count": 38,
   "metadata": {},
   "outputs": [
    {
     "data": {
      "text/plain": [
       "Name\n",
       "Cowboy Bebop                           0\n",
       "Cowboy Bebop: Tengoku no Tobira        1\n",
       "Trigun                                 2\n",
       "Witch Hunter Robin                     3\n",
       "Bouken Ou Beet                         4\n",
       "                                   ...  \n",
       "Wu Nao Monu                        24900\n",
       "Bu Xing Si: Yuan Qi                24901\n",
       "Di Yi Xulie                        24902\n",
       "Bokura no Saishuu Sensou           24903\n",
       "Shijuuku Nichi                     24904\n",
       "Length: 24905, dtype: int64"
      ]
     },
     "execution_count": 38,
     "metadata": {},
     "output_type": "execute_result"
    }
   ],
   "source": [
    "indices = pd.Series(data.index, index=data['Name']).drop_duplicates()\n",
    "indices"
   ]
  },
  {
   "cell_type": "code",
   "execution_count": 39,
   "metadata": {},
   "outputs": [],
   "source": [
    "# Creating similarity matrix based on countvectorizer\n",
    "count = CountVectorizer(stop_words = 'english')\n",
    "count_matrix = count.fit_transform(data['soup'].values)\n",
    "cosine_property = cosine_similarity(count_matrix, count_matrix)"
   ]
  },
  {
   "cell_type": "code",
   "execution_count": 40,
   "metadata": {},
   "outputs": [],
   "source": [
    "# Creating similarity matrix based on tfidf vectorizer\n",
    "tfidf = TfidfVectorizer(stop_words = 'english')\n",
    "tfidf_matrix = tfidf.fit_transform(data['soup'].values)\n",
    "tfidf_prop = linear_kernel(tfidf_matrix, tfidf_matrix)"
   ]
  },
  {
   "cell_type": "markdown",
   "metadata": {},
   "source": [
    "### 4. Recommendation"
   ]
  },
  {
   "cell_type": "code",
   "execution_count": 41,
   "metadata": {},
   "outputs": [],
   "source": [
    "# Function to recommend anime for the given anime title \n",
    "def get_recommendations(title, cosine_sim, suggest_amount = 15):\n",
    "    try:\n",
    "        idx = indices[title]\n",
    "    except KeyError:\n",
    "        raise ValueError(f\"Anime {title} not found in list.\")\n",
    "\n",
    "    return get_recommendations_by_id(idx, cosine_sim, suggest_amount)\n",
    "\n",
    "\n",
    "def get_recommendations_by_id(idx, cosine_sim, suggest_amount = 15):\n",
    "    \n",
    "    # Extracting the respective anime similarity scores\n",
    "    sim_scores = list(enumerate(cosine_sim[idx]))\n",
    "    # Sorting the similarity scores\n",
    "    sim_scores = sorted(sim_scores, key = lambda x: x[1], reverse = True)\n",
    "\n",
    "    max_amount = len(sim_scores)\n",
    "    if suggest_amount > max_amount:\n",
    "        suggest_amount = max_amount\n",
    "\n",
    "    sim_scores = sim_scores[1 : suggest_amount]\n",
    "\n",
    "    # Get the anime indices\n",
    "    anime_indices = [i[0] for i in sim_scores]\n",
    "\n",
    "    # Map indices to anime_id\n",
    "    anime_ids = data.iloc[anime_indices]['anime_id'].values\n",
    "    scores = np.array([i[1] for i in sim_scores])\n",
    "\n",
    "    anime_link = [f\"https://myanimelist.net/anime/{id}/{data[data['anime_id'] == id]['Name'].values[0]}\" for id in anime_ids]\n",
    "\n",
    "    # Create a DataFrame \n",
    "    recommendation_ratings = pd.DataFrame({\n",
    "        'Anime': data.iloc[anime_indices]['Name'].values,\n",
    "        'Score': scores,\n",
    "        'Rec_Pos': range(1, suggest_amount),\n",
    "        'anime_id': anime_ids,\n",
    "        'anime_link': anime_link\n",
    "    })\n",
    "\n",
    "    return recommendation_ratings\n"
   ]
  },
  {
   "cell_type": "code",
   "execution_count": 42,
   "metadata": {},
   "outputs": [
    {
     "data": {
      "text/html": [
       "<div>\n",
       "<style scoped>\n",
       "    .dataframe tbody tr th:only-of-type {\n",
       "        vertical-align: middle;\n",
       "    }\n",
       "\n",
       "    .dataframe tbody tr th {\n",
       "        vertical-align: top;\n",
       "    }\n",
       "\n",
       "    .dataframe thead th {\n",
       "        text-align: right;\n",
       "    }\n",
       "</style>\n",
       "<table border=\"1\" class=\"dataframe\">\n",
       "  <thead>\n",
       "    <tr style=\"text-align: right;\">\n",
       "      <th></th>\n",
       "      <th>Anime</th>\n",
       "      <th>Score</th>\n",
       "      <th>Rec_Pos</th>\n",
       "      <th>anime_id</th>\n",
       "      <th>anime_link</th>\n",
       "    </tr>\n",
       "  </thead>\n",
       "  <tbody>\n",
       "    <tr>\n",
       "      <th>0</th>\n",
       "      <td>Dragon Ball Z</td>\n",
       "      <td>0.613396</td>\n",
       "      <td>1</td>\n",
       "      <td>813</td>\n",
       "      <td>https://myanimelist.net/anime/813/Dragon Ball Z</td>\n",
       "    </tr>\n",
       "    <tr>\n",
       "      <th>1</th>\n",
       "      <td>Dragon Ball GT</td>\n",
       "      <td>0.572503</td>\n",
       "      <td>2</td>\n",
       "      <td>225</td>\n",
       "      <td>https://myanimelist.net/anime/225/Dragon Ball GT</td>\n",
       "    </tr>\n",
       "    <tr>\n",
       "      <th>2</th>\n",
       "      <td>One Piece: Kinkyuu Kikaku One Piece Kanzen Kou...</td>\n",
       "      <td>0.572503</td>\n",
       "      <td>3</td>\n",
       "      <td>16143</td>\n",
       "      <td>https://myanimelist.net/anime/16143/One Piece:...</td>\n",
       "    </tr>\n",
       "    <tr>\n",
       "      <th>3</th>\n",
       "      <td>Toriko</td>\n",
       "      <td>0.566139</td>\n",
       "      <td>4</td>\n",
       "      <td>10033</td>\n",
       "      <td>https://myanimelist.net/anime/10033/Toriko</td>\n",
       "    </tr>\n",
       "    <tr>\n",
       "      <th>4</th>\n",
       "      <td>One Piece Film: Z</td>\n",
       "      <td>0.556349</td>\n",
       "      <td>5</td>\n",
       "      <td>12859</td>\n",
       "      <td>https://myanimelist.net/anime/12859/One Piece ...</td>\n",
       "    </tr>\n",
       "    <tr>\n",
       "      <th>5</th>\n",
       "      <td>Dragon Ball</td>\n",
       "      <td>0.549125</td>\n",
       "      <td>6</td>\n",
       "      <td>223</td>\n",
       "      <td>https://myanimelist.net/anime/223/Dragon Ball</td>\n",
       "    </tr>\n",
       "    <tr>\n",
       "      <th>6</th>\n",
       "      <td>Dragon Ball Super</td>\n",
       "      <td>0.549125</td>\n",
       "      <td>7</td>\n",
       "      <td>30694</td>\n",
       "      <td>https://myanimelist.net/anime/30694/Dragon Bal...</td>\n",
       "    </tr>\n",
       "    <tr>\n",
       "      <th>7</th>\n",
       "      <td>One Piece: Episode of Nami - Koukaishi no Nami...</td>\n",
       "      <td>0.543557</td>\n",
       "      <td>8</td>\n",
       "      <td>15323</td>\n",
       "      <td>https://myanimelist.net/anime/15323/One Piece:...</td>\n",
       "    </tr>\n",
       "    <tr>\n",
       "      <th>8</th>\n",
       "      <td>One Piece: Episode of Merry - Mou Hitori no Na...</td>\n",
       "      <td>0.543557</td>\n",
       "      <td>9</td>\n",
       "      <td>19123</td>\n",
       "      <td>https://myanimelist.net/anime/19123/One Piece:...</td>\n",
       "    </tr>\n",
       "    <tr>\n",
       "      <th>9</th>\n",
       "      <td>One Piece: Episode of Sabo - 3 Kyoudai no Kizu...</td>\n",
       "      <td>0.543557</td>\n",
       "      <td>10</td>\n",
       "      <td>31289</td>\n",
       "      <td>https://myanimelist.net/anime/31289/One Piece:...</td>\n",
       "    </tr>\n",
       "    <tr>\n",
       "      <th>10</th>\n",
       "      <td>One Piece: Adventure of Nebulandia</td>\n",
       "      <td>0.543557</td>\n",
       "      <td>11</td>\n",
       "      <td>32051</td>\n",
       "      <td>https://myanimelist.net/anime/32051/One Piece:...</td>\n",
       "    </tr>\n",
       "    <tr>\n",
       "      <th>11</th>\n",
       "      <td>Dragon Ball Super: Broly</td>\n",
       "      <td>0.543557</td>\n",
       "      <td>12</td>\n",
       "      <td>36946</td>\n",
       "      <td>https://myanimelist.net/anime/36946/Dragon Bal...</td>\n",
       "    </tr>\n",
       "    <tr>\n",
       "      <th>12</th>\n",
       "      <td>Hunter x Hunter</td>\n",
       "      <td>0.531610</td>\n",
       "      <td>13</td>\n",
       "      <td>136</td>\n",
       "      <td>https://myanimelist.net/anime/136/Hunter x Hunter</td>\n",
       "    </tr>\n",
       "    <tr>\n",
       "      <th>13</th>\n",
       "      <td>One Piece Film: Strong World</td>\n",
       "      <td>0.513553</td>\n",
       "      <td>14</td>\n",
       "      <td>4155</td>\n",
       "      <td>https://myanimelist.net/anime/4155/One Piece F...</td>\n",
       "    </tr>\n",
       "  </tbody>\n",
       "</table>\n",
       "</div>"
      ],
      "text/plain": [
       "                                                Anime     Score  Rec_Pos  \\\n",
       "0                                       Dragon Ball Z  0.613396        1   \n",
       "1                                      Dragon Ball GT  0.572503        2   \n",
       "2   One Piece: Kinkyuu Kikaku One Piece Kanzen Kou...  0.572503        3   \n",
       "3                                              Toriko  0.566139        4   \n",
       "4                                   One Piece Film: Z  0.556349        5   \n",
       "5                                         Dragon Ball  0.549125        6   \n",
       "6                                   Dragon Ball Super  0.549125        7   \n",
       "7   One Piece: Episode of Nami - Koukaishi no Nami...  0.543557        8   \n",
       "8   One Piece: Episode of Merry - Mou Hitori no Na...  0.543557        9   \n",
       "9   One Piece: Episode of Sabo - 3 Kyoudai no Kizu...  0.543557       10   \n",
       "10                 One Piece: Adventure of Nebulandia  0.543557       11   \n",
       "11                           Dragon Ball Super: Broly  0.543557       12   \n",
       "12                                    Hunter x Hunter  0.531610       13   \n",
       "13                       One Piece Film: Strong World  0.513553       14   \n",
       "\n",
       "    anime_id                                         anime_link  \n",
       "0        813    https://myanimelist.net/anime/813/Dragon Ball Z  \n",
       "1        225   https://myanimelist.net/anime/225/Dragon Ball GT  \n",
       "2      16143  https://myanimelist.net/anime/16143/One Piece:...  \n",
       "3      10033         https://myanimelist.net/anime/10033/Toriko  \n",
       "4      12859  https://myanimelist.net/anime/12859/One Piece ...  \n",
       "5        223      https://myanimelist.net/anime/223/Dragon Ball  \n",
       "6      30694  https://myanimelist.net/anime/30694/Dragon Bal...  \n",
       "7      15323  https://myanimelist.net/anime/15323/One Piece:...  \n",
       "8      19123  https://myanimelist.net/anime/19123/One Piece:...  \n",
       "9      31289  https://myanimelist.net/anime/31289/One Piece:...  \n",
       "10     32051  https://myanimelist.net/anime/32051/One Piece:...  \n",
       "11     36946  https://myanimelist.net/anime/36946/Dragon Bal...  \n",
       "12       136  https://myanimelist.net/anime/136/Hunter x Hunter  \n",
       "13      4155  https://myanimelist.net/anime/4155/One Piece F...  "
      ]
     },
     "execution_count": 42,
     "metadata": {},
     "output_type": "execute_result"
    }
   ],
   "source": [
    "# Based on Countvectorizer\n",
    "get_recommendations('One Piece', cosine_property)"
   ]
  },
  {
   "cell_type": "code",
   "execution_count": 43,
   "metadata": {},
   "outputs": [
    {
     "data": {
      "text/html": [
       "<div>\n",
       "<style scoped>\n",
       "    .dataframe tbody tr th:only-of-type {\n",
       "        vertical-align: middle;\n",
       "    }\n",
       "\n",
       "    .dataframe tbody tr th {\n",
       "        vertical-align: top;\n",
       "    }\n",
       "\n",
       "    .dataframe thead th {\n",
       "        text-align: right;\n",
       "    }\n",
       "</style>\n",
       "<table border=\"1\" class=\"dataframe\">\n",
       "  <thead>\n",
       "    <tr style=\"text-align: right;\">\n",
       "      <th></th>\n",
       "      <th>Anime</th>\n",
       "      <th>Score</th>\n",
       "      <th>Rec_Pos</th>\n",
       "      <th>anime_id</th>\n",
       "      <th>anime_link</th>\n",
       "    </tr>\n",
       "  </thead>\n",
       "  <tbody>\n",
       "    <tr>\n",
       "      <th>0</th>\n",
       "      <td>One Piece: Kinkyuu Kikaku One Piece Kanzen Kou...</td>\n",
       "      <td>0.353611</td>\n",
       "      <td>1</td>\n",
       "      <td>16143</td>\n",
       "      <td>https://myanimelist.net/anime/16143/One Piece:...</td>\n",
       "    </tr>\n",
       "    <tr>\n",
       "      <th>1</th>\n",
       "      <td>Lovely★Complex</td>\n",
       "      <td>0.258388</td>\n",
       "      <td>2</td>\n",
       "      <td>2034</td>\n",
       "      <td>https://myanimelist.net/anime/2034/Lovely★Complex</td>\n",
       "    </tr>\n",
       "    <tr>\n",
       "      <th>2</th>\n",
       "      <td>Kochira Katsushikaku Kameari Kouenmae Hashutsu...</td>\n",
       "      <td>0.233473</td>\n",
       "      <td>3</td>\n",
       "      <td>3547</td>\n",
       "      <td>https://myanimelist.net/anime/3547/Kochira Kat...</td>\n",
       "    </tr>\n",
       "    <tr>\n",
       "      <th>3</th>\n",
       "      <td>One Piece: Episode of Nami - Koukaishi no Nami...</td>\n",
       "      <td>0.216593</td>\n",
       "      <td>4</td>\n",
       "      <td>15323</td>\n",
       "      <td>https://myanimelist.net/anime/15323/One Piece:...</td>\n",
       "    </tr>\n",
       "    <tr>\n",
       "      <th>4</th>\n",
       "      <td>One Piece: Episode of Merry - Mou Hitori no Na...</td>\n",
       "      <td>0.215722</td>\n",
       "      <td>5</td>\n",
       "      <td>19123</td>\n",
       "      <td>https://myanimelist.net/anime/19123/One Piece:...</td>\n",
       "    </tr>\n",
       "    <tr>\n",
       "      <th>5</th>\n",
       "      <td>One Piece Film: Z</td>\n",
       "      <td>0.215714</td>\n",
       "      <td>6</td>\n",
       "      <td>12859</td>\n",
       "      <td>https://myanimelist.net/anime/12859/One Piece ...</td>\n",
       "    </tr>\n",
       "    <tr>\n",
       "      <th>6</th>\n",
       "      <td>Dragon Ball Z</td>\n",
       "      <td>0.213025</td>\n",
       "      <td>7</td>\n",
       "      <td>813</td>\n",
       "      <td>https://myanimelist.net/anime/813/Dragon Ball Z</td>\n",
       "    </tr>\n",
       "    <tr>\n",
       "      <th>7</th>\n",
       "      <td>One Piece: Adventure of Nebulandia</td>\n",
       "      <td>0.210191</td>\n",
       "      <td>8</td>\n",
       "      <td>32051</td>\n",
       "      <td>https://myanimelist.net/anime/32051/One Piece:...</td>\n",
       "    </tr>\n",
       "    <tr>\n",
       "      <th>8</th>\n",
       "      <td>One Piece: Episode of Sabo - 3 Kyoudai no Kizu...</td>\n",
       "      <td>0.209830</td>\n",
       "      <td>9</td>\n",
       "      <td>31289</td>\n",
       "      <td>https://myanimelist.net/anime/31289/One Piece:...</td>\n",
       "    </tr>\n",
       "    <tr>\n",
       "      <th>9</th>\n",
       "      <td>Tousouchuu: Great Mission</td>\n",
       "      <td>0.206325</td>\n",
       "      <td>10</td>\n",
       "      <td>54040</td>\n",
       "      <td>https://myanimelist.net/anime/54040/Tousouchuu...</td>\n",
       "    </tr>\n",
       "    <tr>\n",
       "      <th>10</th>\n",
       "      <td>Dragon Ball Z Movie 03: Chikyuu Marugoto Chouk...</td>\n",
       "      <td>0.205777</td>\n",
       "      <td>11</td>\n",
       "      <td>896</td>\n",
       "      <td>https://myanimelist.net/anime/896/Dragon Ball ...</td>\n",
       "    </tr>\n",
       "    <tr>\n",
       "      <th>11</th>\n",
       "      <td>Toriko</td>\n",
       "      <td>0.205774</td>\n",
       "      <td>12</td>\n",
       "      <td>10033</td>\n",
       "      <td>https://myanimelist.net/anime/10033/Toriko</td>\n",
       "    </tr>\n",
       "    <tr>\n",
       "      <th>12</th>\n",
       "      <td>Dragon Ball Super: Broly</td>\n",
       "      <td>0.202757</td>\n",
       "      <td>13</td>\n",
       "      <td>36946</td>\n",
       "      <td>https://myanimelist.net/anime/36946/Dragon Bal...</td>\n",
       "    </tr>\n",
       "    <tr>\n",
       "      <th>13</th>\n",
       "      <td>Ooyukiumi no Kaina Special</td>\n",
       "      <td>0.202380</td>\n",
       "      <td>14</td>\n",
       "      <td>54562</td>\n",
       "      <td>https://myanimelist.net/anime/54562/Ooyukiumi ...</td>\n",
       "    </tr>\n",
       "  </tbody>\n",
       "</table>\n",
       "</div>"
      ],
      "text/plain": [
       "                                                Anime     Score  Rec_Pos  \\\n",
       "0   One Piece: Kinkyuu Kikaku One Piece Kanzen Kou...  0.353611        1   \n",
       "1                                      Lovely★Complex  0.258388        2   \n",
       "2   Kochira Katsushikaku Kameari Kouenmae Hashutsu...  0.233473        3   \n",
       "3   One Piece: Episode of Nami - Koukaishi no Nami...  0.216593        4   \n",
       "4   One Piece: Episode of Merry - Mou Hitori no Na...  0.215722        5   \n",
       "5                                   One Piece Film: Z  0.215714        6   \n",
       "6                                       Dragon Ball Z  0.213025        7   \n",
       "7                  One Piece: Adventure of Nebulandia  0.210191        8   \n",
       "8   One Piece: Episode of Sabo - 3 Kyoudai no Kizu...  0.209830        9   \n",
       "9                           Tousouchuu: Great Mission  0.206325       10   \n",
       "10  Dragon Ball Z Movie 03: Chikyuu Marugoto Chouk...  0.205777       11   \n",
       "11                                             Toriko  0.205774       12   \n",
       "12                           Dragon Ball Super: Broly  0.202757       13   \n",
       "13                         Ooyukiumi no Kaina Special  0.202380       14   \n",
       "\n",
       "    anime_id                                         anime_link  \n",
       "0      16143  https://myanimelist.net/anime/16143/One Piece:...  \n",
       "1       2034  https://myanimelist.net/anime/2034/Lovely★Complex  \n",
       "2       3547  https://myanimelist.net/anime/3547/Kochira Kat...  \n",
       "3      15323  https://myanimelist.net/anime/15323/One Piece:...  \n",
       "4      19123  https://myanimelist.net/anime/19123/One Piece:...  \n",
       "5      12859  https://myanimelist.net/anime/12859/One Piece ...  \n",
       "6        813    https://myanimelist.net/anime/813/Dragon Ball Z  \n",
       "7      32051  https://myanimelist.net/anime/32051/One Piece:...  \n",
       "8      31289  https://myanimelist.net/anime/31289/One Piece:...  \n",
       "9      54040  https://myanimelist.net/anime/54040/Tousouchuu...  \n",
       "10       896  https://myanimelist.net/anime/896/Dragon Ball ...  \n",
       "11     10033         https://myanimelist.net/anime/10033/Toriko  \n",
       "12     36946  https://myanimelist.net/anime/36946/Dragon Bal...  \n",
       "13     54562  https://myanimelist.net/anime/54562/Ooyukiumi ...  "
      ]
     },
     "execution_count": 43,
     "metadata": {},
     "output_type": "execute_result"
    }
   ],
   "source": [
    "# Based on Tfidf vectorizer\n",
    "get_recommendations('One Piece', tfidf_prop)"
   ]
  },
  {
   "cell_type": "code",
   "execution_count": 44,
   "metadata": {},
   "outputs": [],
   "source": [
    "pickle.dump(data, open('anime.pkl', 'wb'))\n",
    "pickle.dump(cosine_property, open('similarity.pkl', 'wb'))\n",
    "pickle.dump(tfidf_prop, open('tfidf_sim.pkl', 'wb'))"
   ]
  },
  {
   "cell_type": "markdown",
   "metadata": {},
   "source": [
    "### 5. References\n",
    "1. [Kaggle](https://www.kaggle.com/code/dbdmobile/anime-recommendation-1)\n",
    "2. [Kaggle](https://www.kaggle.com/code/lachimolalala/anime-recommendation-system/notebook)"
   ]
  }
 ],
 "metadata": {
  "kernelspec": {
   "display_name": "rec",
   "language": "python",
   "name": "rec"
  },
  "language_info": {
   "codemirror_mode": {
    "name": "ipython",
    "version": 3
   },
   "file_extension": ".py",
   "mimetype": "text/x-python",
   "name": "python",
   "nbconvert_exporter": "python",
   "pygments_lexer": "ipython3",
   "version": "3.9.7"
  }
 },
 "nbformat": 4,
 "nbformat_minor": 2
}
